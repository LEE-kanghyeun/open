{
  "nbformat": 4,
  "nbformat_minor": 0,
  "metadata": {
    "colab": {
      "provenance": []
    },
    "kernelspec": {
      "name": "python3",
      "display_name": "Python 3"
    },
    "language_info": {
      "name": "python"
    }
  },
  "cells": [
    {
      "cell_type": "code",
      "execution_count": null,
      "metadata": {
        "colab": {
          "base_uri": "https://localhost:8080/"
        },
        "id": "zjdcxFvWlj25",
        "outputId": "0012294a-7e52-467c-b23e-b09d6fb36302"
      },
      "outputs": [
        {
          "output_type": "stream",
          "name": "stdout",
          "text": [
            "Mounted at /content/gdrive\n"
          ]
        }
      ],
      "source": [
        "from google.colab import drive\n",
        "drive.mount('/content/gdrive')"
      ]
    },
    {
      "cell_type": "code",
      "source": [
        "import pandas as pd\n",
        "import matplotlib.pyplot as plt\n",
        "import seaborn as sns\n",
        "import re\n",
        "import numpy as np\n"
      ],
      "metadata": {
        "id": "4FahPrYGl0re"
      },
      "execution_count": null,
      "outputs": []
    },
    {
      "cell_type": "code",
      "source": [
        "#0.71 best score --> 0.68 기준으로 했을때 현재 best\n",
        "#dysphoria    1950\n",
        "#euphoria      409\n",
        "#neutral       207\n",
        "# Name: Predicted, dtype: int64\n",
        "2566\n",
        "submission_df = pd.read_csv('/content/gdrive/My Drive/kerc/logs/submission_sum.csv')\n",
        "#submission_df = pd.read_csv('/content/gdrive/My Drive/kerc/logs/submission_sum_top3_repeat1.csv')"
      ],
      "metadata": {
        "id": "J3G3h4u0lxPG"
      },
      "execution_count": null,
      "outputs": []
    },
    {
      "cell_type": "code",
      "source": [
        "submission_df.head()"
      ],
      "metadata": {
        "colab": {
          "base_uri": "https://localhost:8080/",
          "height": 206
        },
        "id": "hISRu0sKl8xG",
        "outputId": "6d30f81d-0687-4b5e-c3d4-fa005f7fc52a"
      },
      "execution_count": null,
      "outputs": [
        {
          "output_type": "execute_result",
          "data": {
            "text/plain": [
              "   Id   label_67   label_69  label_68\n",
              "0  10  dysphoria  dysphoria  euphoria\n",
              "1  11   euphoria    neutral  euphoria\n",
              "2  12   euphoria    neutral  euphoria\n",
              "3  13   euphoria  dysphoria  euphoria\n",
              "4  14   euphoria    neutral  euphoria"
            ],
            "text/html": [
              "\n",
              "  <div id=\"df-b400e5e7-ccea-4836-9c27-f8b906b123bf\">\n",
              "    <div class=\"colab-df-container\">\n",
              "      <div>\n",
              "<style scoped>\n",
              "    .dataframe tbody tr th:only-of-type {\n",
              "        vertical-align: middle;\n",
              "    }\n",
              "\n",
              "    .dataframe tbody tr th {\n",
              "        vertical-align: top;\n",
              "    }\n",
              "\n",
              "    .dataframe thead th {\n",
              "        text-align: right;\n",
              "    }\n",
              "</style>\n",
              "<table border=\"1\" class=\"dataframe\">\n",
              "  <thead>\n",
              "    <tr style=\"text-align: right;\">\n",
              "      <th></th>\n",
              "      <th>Id</th>\n",
              "      <th>label_67</th>\n",
              "      <th>label_69</th>\n",
              "      <th>label_68</th>\n",
              "    </tr>\n",
              "  </thead>\n",
              "  <tbody>\n",
              "    <tr>\n",
              "      <th>0</th>\n",
              "      <td>10</td>\n",
              "      <td>dysphoria</td>\n",
              "      <td>dysphoria</td>\n",
              "      <td>euphoria</td>\n",
              "    </tr>\n",
              "    <tr>\n",
              "      <th>1</th>\n",
              "      <td>11</td>\n",
              "      <td>euphoria</td>\n",
              "      <td>neutral</td>\n",
              "      <td>euphoria</td>\n",
              "    </tr>\n",
              "    <tr>\n",
              "      <th>2</th>\n",
              "      <td>12</td>\n",
              "      <td>euphoria</td>\n",
              "      <td>neutral</td>\n",
              "      <td>euphoria</td>\n",
              "    </tr>\n",
              "    <tr>\n",
              "      <th>3</th>\n",
              "      <td>13</td>\n",
              "      <td>euphoria</td>\n",
              "      <td>dysphoria</td>\n",
              "      <td>euphoria</td>\n",
              "    </tr>\n",
              "    <tr>\n",
              "      <th>4</th>\n",
              "      <td>14</td>\n",
              "      <td>euphoria</td>\n",
              "      <td>neutral</td>\n",
              "      <td>euphoria</td>\n",
              "    </tr>\n",
              "  </tbody>\n",
              "</table>\n",
              "</div>\n",
              "      <button class=\"colab-df-convert\" onclick=\"convertToInteractive('df-b400e5e7-ccea-4836-9c27-f8b906b123bf')\"\n",
              "              title=\"Convert this dataframe to an interactive table.\"\n",
              "              style=\"display:none;\">\n",
              "        \n",
              "  <svg xmlns=\"http://www.w3.org/2000/svg\" height=\"24px\"viewBox=\"0 0 24 24\"\n",
              "       width=\"24px\">\n",
              "    <path d=\"M0 0h24v24H0V0z\" fill=\"none\"/>\n",
              "    <path d=\"M18.56 5.44l.94 2.06.94-2.06 2.06-.94-2.06-.94-.94-2.06-.94 2.06-2.06.94zm-11 1L8.5 8.5l.94-2.06 2.06-.94-2.06-.94L8.5 2.5l-.94 2.06-2.06.94zm10 10l.94 2.06.94-2.06 2.06-.94-2.06-.94-.94-2.06-.94 2.06-2.06.94z\"/><path d=\"M17.41 7.96l-1.37-1.37c-.4-.4-.92-.59-1.43-.59-.52 0-1.04.2-1.43.59L10.3 9.45l-7.72 7.72c-.78.78-.78 2.05 0 2.83L4 21.41c.39.39.9.59 1.41.59.51 0 1.02-.2 1.41-.59l7.78-7.78 2.81-2.81c.8-.78.8-2.07 0-2.86zM5.41 20L4 18.59l7.72-7.72 1.47 1.35L5.41 20z\"/>\n",
              "  </svg>\n",
              "      </button>\n",
              "      \n",
              "  <style>\n",
              "    .colab-df-container {\n",
              "      display:flex;\n",
              "      flex-wrap:wrap;\n",
              "      gap: 12px;\n",
              "    }\n",
              "\n",
              "    .colab-df-convert {\n",
              "      background-color: #E8F0FE;\n",
              "      border: none;\n",
              "      border-radius: 50%;\n",
              "      cursor: pointer;\n",
              "      display: none;\n",
              "      fill: #1967D2;\n",
              "      height: 32px;\n",
              "      padding: 0 0 0 0;\n",
              "      width: 32px;\n",
              "    }\n",
              "\n",
              "    .colab-df-convert:hover {\n",
              "      background-color: #E2EBFA;\n",
              "      box-shadow: 0px 1px 2px rgba(60, 64, 67, 0.3), 0px 1px 3px 1px rgba(60, 64, 67, 0.15);\n",
              "      fill: #174EA6;\n",
              "    }\n",
              "\n",
              "    [theme=dark] .colab-df-convert {\n",
              "      background-color: #3B4455;\n",
              "      fill: #D2E3FC;\n",
              "    }\n",
              "\n",
              "    [theme=dark] .colab-df-convert:hover {\n",
              "      background-color: #434B5C;\n",
              "      box-shadow: 0px 1px 3px 1px rgba(0, 0, 0, 0.15);\n",
              "      filter: drop-shadow(0px 1px 2px rgba(0, 0, 0, 0.3));\n",
              "      fill: #FFFFFF;\n",
              "    }\n",
              "  </style>\n",
              "\n",
              "      <script>\n",
              "        const buttonEl =\n",
              "          document.querySelector('#df-b400e5e7-ccea-4836-9c27-f8b906b123bf button.colab-df-convert');\n",
              "        buttonEl.style.display =\n",
              "          google.colab.kernel.accessAllowed ? 'block' : 'none';\n",
              "\n",
              "        async function convertToInteractive(key) {\n",
              "          const element = document.querySelector('#df-b400e5e7-ccea-4836-9c27-f8b906b123bf');\n",
              "          const dataTable =\n",
              "            await google.colab.kernel.invokeFunction('convertToInteractive',\n",
              "                                                     [key], {});\n",
              "          if (!dataTable) return;\n",
              "\n",
              "          const docLinkHtml = 'Like what you see? Visit the ' +\n",
              "            '<a target=\"_blank\" href=https://colab.research.google.com/notebooks/data_table.ipynb>data table notebook</a>'\n",
              "            + ' to learn more about interactive tables.';\n",
              "          element.innerHTML = '';\n",
              "          dataTable['output_type'] = 'display_data';\n",
              "          await google.colab.output.renderOutput(dataTable, element);\n",
              "          const docLink = document.createElement('div');\n",
              "          docLink.innerHTML = docLinkHtml;\n",
              "          element.appendChild(docLink);\n",
              "        }\n",
              "      </script>\n",
              "    </div>\n",
              "  </div>\n",
              "  "
            ]
          },
          "metadata": {},
          "execution_count": 40
        }
      ]
    },
    {
      "cell_type": "code",
      "source": [
        "print(submission_df['label_67'].value_counts())"
      ],
      "metadata": {
        "colab": {
          "base_uri": "https://localhost:8080/"
        },
        "id": "IZfixT09mB-2",
        "outputId": "afd16f41-6def-4b40-9de3-195f88a97a8f"
      },
      "execution_count": null,
      "outputs": [
        {
          "output_type": "stream",
          "name": "stdout",
          "text": [
            "dysphoria    1958\n",
            "euphoria      440\n",
            "neutral       168\n",
            "Name: label_67, dtype: int64\n"
          ]
        }
      ]
    },
    {
      "cell_type": "code",
      "source": [
        "print(submission_df['label_69'].value_counts())"
      ],
      "metadata": {
        "colab": {
          "base_uri": "https://localhost:8080/"
        },
        "id": "w5dw7ZdAmFFW",
        "outputId": "e9fdc70c-7781-4f71-827c-b8a7f7a6492e"
      },
      "execution_count": null,
      "outputs": [
        {
          "output_type": "stream",
          "name": "stdout",
          "text": [
            "dysphoria    1781\n",
            "euphoria      584\n",
            "neutral       201\n",
            "Name: label_69, dtype: int64\n"
          ]
        }
      ]
    },
    {
      "cell_type": "code",
      "source": [
        "print(submission_df['label_68'].value_counts())"
      ],
      "metadata": {
        "colab": {
          "base_uri": "https://localhost:8080/"
        },
        "id": "URcjeJfMmHzX",
        "outputId": "dee49b34-25d9-45d0-d5d9-24f50becd890"
      },
      "execution_count": null,
      "outputs": [
        {
          "output_type": "stream",
          "name": "stdout",
          "text": [
            "dysphoria    1625\n",
            "euphoria      623\n",
            "neutral       318\n",
            "Name: label_68, dtype: int64\n"
          ]
        }
      ]
    },
    {
      "cell_type": "code",
      "source": [
        "print(submission_df['label_68'].count())"
      ],
      "metadata": {
        "colab": {
          "base_uri": "https://localhost:8080/"
        },
        "id": "moTm2dzUp_sX",
        "outputId": "1591eab0-9186-4589-cff6-aaf645c721f2"
      },
      "execution_count": null,
      "outputs": [
        {
          "output_type": "stream",
          "name": "stdout",
          "text": [
            "2566\n"
          ]
        }
      ]
    },
    {
      "cell_type": "code",
      "source": [
        "from collections import Counter\n",
        "for idx, row in submission_df.iterrows():\n",
        "  label_67 = row[\"label_67\"]\n",
        "  label_69 = row[\"label_69\"]\n",
        "  label_68 = row[\"label_68\"]\n",
        "  \n",
        "  #z = [label_69, label_68, label_67] # 순위 중복이더라도 69 먼저 선택함\n",
        "  #z = [label_68, label_69, label_67] # 순위 중복이더라도 68 먼저 선택함 --> best\n",
        "  z = [label_67, label_69, label_68] # 순위 중복이더라도 68 먼저 선택함 --> best\n",
        "  dic_list = Counter(z)\n",
        "  max_value = max(dic_list, key=dic_list.get)\n",
        "  submission_df.loc[idx, 'Predicted'] = max_value"
      ],
      "metadata": {
        "id": "yQs7Hf3ImmDY"
      },
      "execution_count": null,
      "outputs": []
    },
    {
      "cell_type": "code",
      "source": [
        "print(submission_df['Predicted'].value_counts())\n",
        "print(submission_df['Predicted'].count())"
      ],
      "metadata": {
        "colab": {
          "base_uri": "https://localhost:8080/"
        },
        "id": "HISOrVU5mOS2",
        "outputId": "0851fd45-4abc-48be-e116-0b4b9c3b6e2a"
      },
      "execution_count": null,
      "outputs": [
        {
          "output_type": "stream",
          "name": "stdout",
          "text": [
            "dysphoria    2015\n",
            "euphoria      394\n",
            "neutral       157\n",
            "Name: Predicted, dtype: int64\n",
            "2566\n"
          ]
        }
      ]
    },
    {
      "cell_type": "code",
      "source": [
        "submission_df2 = pd.DataFrame()\n",
        "submission_df2[\"Id\"] = submission_df['Id']\n",
        "submission_df2[\"Predicted\"] = submission_df['Predicted']\n",
        "submission_df2.to_csv(f'/content/gdrive/MyDrive/kerc/logs/submission_sum_3top_67base.csv', index=False)\n",
        "print(f\"Saved 'logs/submission_submission_sum_3top_67base.csv\")"
      ],
      "metadata": {
        "colab": {
          "base_uri": "https://localhost:8080/"
        },
        "id": "SD60PqDoqC9L",
        "outputId": "0f367773-8d80-4185-905b-51dad9f597fa"
      },
      "execution_count": null,
      "outputs": [
        {
          "output_type": "stream",
          "name": "stdout",
          "text": [
            "Saved 'logs/submission_submission_sum_3top_67base.csv\n"
          ]
        }
      ]
    }
  ]
}