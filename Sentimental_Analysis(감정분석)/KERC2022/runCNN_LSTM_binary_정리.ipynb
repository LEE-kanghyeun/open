{
  "cells": [
    {
      "cell_type": "code",
      "execution_count": 1,
      "metadata": {
        "colab": {
          "base_uri": "https://localhost:8080/"
        },
        "id": "2hIw8cR8IRtC",
        "outputId": "e163893d-b4ca-4214-834a-9ba6e6e83e81"
      },
      "outputs": [
        {
          "output_type": "stream",
          "name": "stdout",
          "text": [
            "Looking in indexes: https://pypi.org/simple, https://us-python.pkg.dev/colab-wheels/public/simple/\n",
            "Requirement already satisfied: matplotlib-venn in /usr/local/lib/python3.7/dist-packages (0.11.7)\n",
            "Requirement already satisfied: numpy in /usr/local/lib/python3.7/dist-packages (from matplotlib-venn) (1.21.6)\n",
            "Requirement already satisfied: matplotlib in /usr/local/lib/python3.7/dist-packages (from matplotlib-venn) (3.2.2)\n",
            "Requirement already satisfied: scipy in /usr/local/lib/python3.7/dist-packages (from matplotlib-venn) (1.7.3)\n",
            "Requirement already satisfied: python-dateutil>=2.1 in /usr/local/lib/python3.7/dist-packages (from matplotlib->matplotlib-venn) (2.8.2)\n",
            "Requirement already satisfied: pyparsing!=2.0.4,!=2.1.2,!=2.1.6,>=2.0.1 in /usr/local/lib/python3.7/dist-packages (from matplotlib->matplotlib-venn) (3.0.9)\n",
            "Requirement already satisfied: kiwisolver>=1.0.1 in /usr/local/lib/python3.7/dist-packages (from matplotlib->matplotlib-venn) (1.4.4)\n",
            "Requirement already satisfied: cycler>=0.10 in /usr/local/lib/python3.7/dist-packages (from matplotlib->matplotlib-venn) (0.11.0)\n",
            "Requirement already satisfied: typing-extensions in /usr/local/lib/python3.7/dist-packages (from kiwisolver>=1.0.1->matplotlib->matplotlib-venn) (4.1.1)\n",
            "Requirement already satisfied: six>=1.5 in /usr/local/lib/python3.7/dist-packages (from python-dateutil>=2.1->matplotlib->matplotlib-venn) (1.15.0)\n"
          ]
        }
      ],
      "source": [
        "!pip install matplotlib-venn"
      ]
    },
    {
      "cell_type": "code",
      "execution_count": 2,
      "metadata": {
        "colab": {
          "base_uri": "https://localhost:8080/"
        },
        "id": "otafCnxdIkMF",
        "outputId": "058c8d6a-9e10-4be6-bd7d-d3cf57cf1bb5"
      },
      "outputs": [
        {
          "output_type": "stream",
          "name": "stdout",
          "text": [
            "Selecting previously unselected package libfluidsynth1:amd64.\n",
            "(Reading database ... 123934 files and directories currently installed.)\n",
            "Preparing to unpack .../libfluidsynth1_1.1.9-1_amd64.deb ...\n",
            "Unpacking libfluidsynth1:amd64 (1.1.9-1) ...\n",
            "Setting up libfluidsynth1:amd64 (1.1.9-1) ...\n",
            "Processing triggers for libc-bin (2.27-3ubuntu1.6) ...\n"
          ]
        }
      ],
      "source": [
        "!apt-get -qq install -y libfluidsynth1"
      ]
    },
    {
      "cell_type": "code",
      "execution_count": 3,
      "metadata": {
        "colab": {
          "base_uri": "https://localhost:8080/"
        },
        "id": "G1ZkvSc8IoRy",
        "outputId": "a1b2fb38-3d07-4bf7-f658-ac24d7b7ea6b"
      },
      "outputs": [
        {
          "output_type": "stream",
          "name": "stdout",
          "text": [
            "Selecting previously unselected package libarchive-dev:amd64.\n",
            "(Reading database ... \r(Reading database ... 5%\r(Reading database ... 10%\r(Reading database ... 15%\r(Reading database ... 20%\r(Reading database ... 25%\r(Reading database ... 30%\r(Reading database ... 35%\r(Reading database ... 40%\r(Reading database ... 45%\r(Reading database ... 50%\r(Reading database ... 55%\r(Reading database ... 60%\r(Reading database ... 65%\r(Reading database ... 70%\r(Reading database ... 75%\r(Reading database ... 80%\r(Reading database ... 85%\r(Reading database ... 90%\r(Reading database ... 95%\r(Reading database ... 100%\r(Reading database ... 123939 files and directories currently installed.)\n",
            "Preparing to unpack .../libarchive-dev_3.2.2-3.1ubuntu0.7_amd64.deb ...\n",
            "Unpacking libarchive-dev:amd64 (3.2.2-3.1ubuntu0.7) ...\n",
            "Setting up libarchive-dev:amd64 (3.2.2-3.1ubuntu0.7) ...\n",
            "Processing triggers for man-db (2.8.3-2ubuntu0.1) ...\n",
            "Looking in indexes: https://pypi.org/simple, https://us-python.pkg.dev/colab-wheels/public/simple/\n",
            "Collecting libarchive\n",
            "  Downloading libarchive-0.4.7.tar.gz (23 kB)\n",
            "Collecting nose\n",
            "  Downloading nose-1.3.7-py3-none-any.whl (154 kB)\n",
            "\u001b[K     |████████████████████████████████| 154 kB 36.3 MB/s \n",
            "\u001b[?25hBuilding wheels for collected packages: libarchive\n",
            "  Building wheel for libarchive (setup.py) ... \u001b[?25l\u001b[?25hdone\n",
            "  Created wheel for libarchive: filename=libarchive-0.4.7-py3-none-any.whl size=31646 sha256=e850b2e56cbaaea7b78b23e9f6c1d2d6b5f256bfaef72a1f1e7ce96aaacf5943\n",
            "  Stored in directory: /root/.cache/pip/wheels/63/b1/c6/b3da79bec2012175bd43603eed98ef8548ac1733b77c1d4330\n",
            "Successfully built libarchive\n",
            "Installing collected packages: nose, libarchive\n",
            "Successfully installed libarchive-0.4.7 nose-1.3.7\n"
          ]
        }
      ],
      "source": [
        "# https://pypi.python.org/pypi/libarchive\n",
        "!apt-get -qq install -y libarchive-dev && pip install -U libarchive\n",
        "import libarchive"
      ]
    },
    {
      "cell_type": "code",
      "execution_count": 4,
      "metadata": {
        "colab": {
          "base_uri": "https://localhost:8080/"
        },
        "id": "IcPEnSJ-IpZJ",
        "outputId": "c345b6de-31d8-4db6-f2c1-2c5ea3280138"
      },
      "outputs": [
        {
          "output_type": "stream",
          "name": "stdout",
          "text": [
            "Looking in indexes: https://pypi.org/simple, https://us-python.pkg.dev/colab-wheels/public/simple/\n",
            "Requirement already satisfied: pydot in /usr/local/lib/python3.7/dist-packages (1.3.0)\n",
            "Requirement already satisfied: pyparsing>=2.1.4 in /usr/local/lib/python3.7/dist-packages (from pydot) (3.0.9)\n"
          ]
        }
      ],
      "source": [
        "# https://pypi.python.org/pypi/pydot\n",
        "!apt-get -qq install -y graphviz && pip install pydot\n",
        "import pydot"
      ]
    },
    {
      "cell_type": "code",
      "execution_count": 5,
      "metadata": {
        "colab": {
          "base_uri": "https://localhost:8080/"
        },
        "id": "BCwxZ8KeIsp1",
        "outputId": "c7fa7afa-d938-4e8f-e4a5-6c3389e3f09c"
      },
      "outputs": [
        {
          "output_type": "stream",
          "name": "stdout",
          "text": [
            "Looking in indexes: https://pypi.org/simple, https://us-python.pkg.dev/colab-wheels/public/simple/\n",
            "Collecting cartopy\n",
            "  Downloading Cartopy-0.20.3.tar.gz (10.8 MB)\n",
            "\u001b[K     |████████████████████████████████| 10.8 MB 25.4 MB/s \n",
            "\u001b[?25h  Installing build dependencies ... \u001b[?25l\u001b[?25hdone\n",
            "  Getting requirements to build wheel ... \u001b[?25l\u001b[?25herror\n",
            "\u001b[33mWARNING: Discarding https://files.pythonhosted.org/packages/98/a9/0e4000eabadfcff6373c0fec790863b543b919cbfec18aed60d71ba67d5d/Cartopy-0.20.3.tar.gz#sha256=0d60fa2e2fbd77c4d1f6b1f9d3b588966147f07c1b179d2d34570ac1e1b49006 (from https://pypi.org/simple/cartopy/) (requires-python:>=3.7). Command errored out with exit status 1: /usr/bin/python3 /usr/local/lib/python3.7/dist-packages/pip/_vendor/pep517/in_process/_in_process.py get_requires_for_build_wheel /tmp/tmptvilw66z Check the logs for full command output.\u001b[0m\n",
            "  Downloading Cartopy-0.20.2.tar.gz (10.8 MB)\n",
            "\u001b[K     |████████████████████████████████| 10.8 MB 45.4 MB/s \n",
            "\u001b[?25h  Installing build dependencies ... \u001b[?25l\u001b[?25hdone\n",
            "  Getting requirements to build wheel ... \u001b[?25l\u001b[?25herror\n",
            "\u001b[33mWARNING: Discarding https://files.pythonhosted.org/packages/f6/55/1e1c737dc9436b320deead73d1c455ddbb74b8b6992081863492f6f6378a/Cartopy-0.20.2.tar.gz#sha256=4d08c198ecaa50a6a6b109d0f14c070e813defc046a83ac5d7ab494f85599e35 (from https://pypi.org/simple/cartopy/) (requires-python:>=3.7). Command errored out with exit status 1: /usr/bin/python3 /usr/local/lib/python3.7/dist-packages/pip/_vendor/pep517/in_process/_in_process.py get_requires_for_build_wheel /tmp/tmp6s4t4rw1 Check the logs for full command output.\u001b[0m\n",
            "  Downloading Cartopy-0.20.1.tar.gz (10.8 MB)\n",
            "\u001b[K     |████████████████████████████████| 10.8 MB 65.0 MB/s \n",
            "\u001b[?25h  Installing build dependencies ... \u001b[?25l\u001b[?25hdone\n",
            "  Getting requirements to build wheel ... \u001b[?25l\u001b[?25herror\n",
            "\u001b[33mWARNING: Discarding https://files.pythonhosted.org/packages/fc/59/aa52698e3838f4cd0e7eaa75bd86837e9e0b05041dbdaee3cda2fffced06/Cartopy-0.20.1.tar.gz#sha256=91f87b130e2574547a20cd634498df97d797abd12dcfd0235bc0cdbcec8b05e3 (from https://pypi.org/simple/cartopy/) (requires-python:>=3.7). Command errored out with exit status 1: /usr/bin/python3 /usr/local/lib/python3.7/dist-packages/pip/_vendor/pep517/in_process/_in_process.py get_requires_for_build_wheel /tmp/tmp16_hchir Check the logs for full command output.\u001b[0m\n",
            "  Downloading Cartopy-0.20.0.tar.gz (10.8 MB)\n",
            "\u001b[K     |████████████████████████████████| 10.8 MB 47.0 MB/s \n",
            "\u001b[?25h  Installing build dependencies ... \u001b[?25l\u001b[?25hdone\n",
            "  Getting requirements to build wheel ... \u001b[?25l\u001b[?25herror\n",
            "\u001b[33mWARNING: Discarding https://files.pythonhosted.org/packages/0f/c0/58453b036e79046d211f083880d58dcce787e7e07647ac25dc46c6555099/Cartopy-0.20.0.tar.gz#sha256=eae58aff26806e63cf115b2bce9477cedc4aa9f578c5e477b2c25cfa404f2b7a (from https://pypi.org/simple/cartopy/) (requires-python:>=3.7). Command errored out with exit status 1: /usr/bin/python3 /usr/local/lib/python3.7/dist-packages/pip/_vendor/pep517/in_process/_in_process.py get_requires_for_build_wheel /tmp/tmpm38poudc Check the logs for full command output.\u001b[0m\n",
            "  Downloading Cartopy-0.19.0.post1.tar.gz (12.1 MB)\n",
            "\u001b[K     |████████████████████████████████| 12.1 MB 56.1 MB/s \n",
            "\u001b[?25h  Installing build dependencies ... \u001b[?25l\u001b[?25hdone\n",
            "  Getting requirements to build wheel ... \u001b[?25l\u001b[?25hdone\n",
            "    Preparing wheel metadata ... \u001b[?25l\u001b[?25hdone\n",
            "Requirement already satisfied: shapely>=1.5.6 in /usr/local/lib/python3.7/dist-packages (from cartopy) (1.8.4)\n",
            "Collecting pyshp>=2\n",
            "  Downloading pyshp-2.3.1-py2.py3-none-any.whl (46 kB)\n",
            "\u001b[K     |████████████████████████████████| 46 kB 3.6 MB/s \n",
            "\u001b[?25hRequirement already satisfied: numpy>=1.13.3 in /usr/local/lib/python3.7/dist-packages (from cartopy) (1.21.6)\n",
            "Building wheels for collected packages: cartopy\n",
            "  Building wheel for cartopy (PEP 517) ... \u001b[?25l\u001b[?25hdone\n",
            "  Created wheel for cartopy: filename=Cartopy-0.19.0.post1-cp37-cp37m-linux_x86_64.whl size=12516315 sha256=4a502af4d805f7c03ce1b5a9c21aed45501a3c1e86c9477fcaa79df13fc685c1\n",
            "  Stored in directory: /root/.cache/pip/wheels/98/01/f7/bd10aeb96fe4b518cde5f7c4f5e12c7202f85b7353a5017847\n",
            "Successfully built cartopy\n",
            "Installing collected packages: pyshp, cartopy\n",
            "Successfully installed cartopy-0.19.0.post1 pyshp-2.3.1\n"
          ]
        }
      ],
      "source": [
        "!pip install cartopy\n",
        "import cartopy"
      ]
    },
    {
      "cell_type": "code",
      "execution_count": 6,
      "metadata": {
        "colab": {
          "base_uri": "https://localhost:8080/"
        },
        "id": "kIEAfy0FIu66",
        "outputId": "6eefad98-b73b-4e1e-d4bd-cba5f59c2c35"
      },
      "outputs": [
        {
          "output_type": "stream",
          "name": "stdout",
          "text": [
            "Looking in indexes: https://pypi.org/simple, https://us-python.pkg.dev/colab-wheels/public/simple/\n",
            "Collecting konlpy\n",
            "  Downloading konlpy-0.6.0-py2.py3-none-any.whl (19.4 MB)\n",
            "\u001b[K     |████████████████████████████████| 19.4 MB 1.4 MB/s \n",
            "\u001b[?25hCollecting JPype1>=0.7.0\n",
            "  Downloading JPype1-1.4.0-cp37-cp37m-manylinux_2_5_x86_64.manylinux1_x86_64.whl (453 kB)\n",
            "\u001b[K     |████████████████████████████████| 453 kB 40.5 MB/s \n",
            "\u001b[?25hRequirement already satisfied: numpy>=1.6 in /usr/local/lib/python3.7/dist-packages (from konlpy) (1.21.6)\n",
            "Requirement already satisfied: lxml>=4.1.0 in /usr/local/lib/python3.7/dist-packages (from konlpy) (4.9.1)\n",
            "Requirement already satisfied: typing-extensions in /usr/local/lib/python3.7/dist-packages (from JPype1>=0.7.0->konlpy) (4.1.1)\n",
            "Installing collected packages: JPype1, konlpy\n",
            "Successfully installed JPype1-1.4.0 konlpy-0.6.0\n"
          ]
        }
      ],
      "source": [
        "pip install konlpy"
      ]
    },
    {
      "cell_type": "markdown",
      "metadata": {
        "id": "eC-8HUmIJDQb"
      },
      "source": [
        "## 2. 영화 리뷰 데이터에 대한 이해와 전처리"
      ]
    },
    {
      "cell_type": "code",
      "execution_count": 7,
      "metadata": {
        "id": "EaZn5lJtJASH"
      },
      "outputs": [],
      "source": [
        "import pandas as pd\n",
        "import numpy as np\n",
        "import matplotlib.pyplot as plt\n",
        "import re\n",
        "import urllib.request\n",
        "from konlpy.tag import Okt\n",
        "from tqdm import tqdm\n",
        "from tensorflow.keras.preprocessing.text import Tokenizer\n",
        "from tensorflow.keras.preprocessing.sequence import pad_sequences"
      ]
    },
    {
      "cell_type": "markdown",
      "metadata": {
        "id": "X9UYj3XWJIKO"
      },
      "source": [
        "# 1) 데이터 로드하기\n",
        "\n",
        "위 링크로부터 훈련 데이터에 해당하는 ratings_train.txt와 테스트 데이터에 해당하는 ratings_test.txt를 다운로드합니다."
      ]
    },
    {
      "cell_type": "code",
      "source": [
        "from google.colab import drive\n",
        "drive.mount('/content/gdrive')"
      ],
      "metadata": {
        "colab": {
          "base_uri": "https://localhost:8080/"
        },
        "id": "CTsjVx4fFkMe",
        "outputId": "01908189-b56d-4515-8b58-f37c781eff63"
      },
      "execution_count": 8,
      "outputs": [
        {
          "output_type": "stream",
          "name": "stdout",
          "text": [
            "Mounted at /content/gdrive\n"
          ]
        }
      ]
    },
    {
      "cell_type": "code",
      "source": [
        "# import pandas as pd\n",
        "# raw_data = pd.read_excel('/content/gdrive/MyDrive/대회/감정분석 대회/train_label_data.xlsx')\n",
        "# # test_data = pd.read_table('ratings_test.txt')\n",
        "\n",
        "# raw_data.info()\n"
      ],
      "metadata": {
        "id": "VPbiaxJcF1g-"
      },
      "execution_count": 9,
      "outputs": []
    },
    {
      "cell_type": "code",
      "source": [
        "# raw_data2 = pd.read_excel('/content/gdrive/MyDrive/대회/감정분석 대회/감성대화말뭉치(최종데이터)_Training.xlsx')\n",
        "# raw_data3 = pd.read_excel('/content/gdrive/MyDrive/대회/감정분석 대회/감성대화말뭉치(최종데이터)_Validation.xlsx')"
      ],
      "metadata": {
        "id": "vInjzchLg0Te"
      },
      "execution_count": 10,
      "outputs": []
    },
    {
      "cell_type": "code",
      "source": [
        "# raw_data2['감정_대분류'].unique()"
      ],
      "metadata": {
        "id": "UBuJmc2bhNdV"
      },
      "execution_count": 11,
      "outputs": []
    },
    {
      "cell_type": "code",
      "source": [
        "# raw_data3['감정_대분류'].unique()"
      ],
      "metadata": {
        "id": "_5kyXglVhh4t"
      },
      "execution_count": null,
      "outputs": []
    },
    {
      "cell_type": "code",
      "source": [
        "# def change_class(label):\n",
        "#   if label == '기쁨':\n",
        "#     label='euphoria'\n",
        "#     return label\n",
        "#   else:\n",
        "#     label = 'dysphoria'\n",
        "#     return label"
      ],
      "metadata": {
        "id": "fj7RMCAihmut"
      },
      "execution_count": null,
      "outputs": []
    },
    {
      "cell_type": "code",
      "source": [
        "# type(raw_data3['감정_대분류'][0])"
      ],
      "metadata": {
        "id": "xqSOZt-rk7ZW"
      },
      "execution_count": null,
      "outputs": []
    },
    {
      "cell_type": "code",
      "source": [
        "# a = raw_data3['감정_대분류'].apply(change_class)\n",
        "# a.value_counts()"
      ],
      "metadata": {
        "id": "knbWknOxj_1N"
      },
      "execution_count": null,
      "outputs": []
    },
    {
      "cell_type": "code",
      "source": [
        "# a = raw_data2['감정_대분류'].apply(change_class)\n",
        "# a.value_counts()"
      ],
      "metadata": {
        "id": "thCwSOfilike"
      },
      "execution_count": null,
      "outputs": []
    },
    {
      "cell_type": "code",
      "source": [
        "# tsv_file=r'/content/gdrive/MyDrive/대회/감정분석 대회/df_train_extended.tsv'\n",
        "# csv_table=pd.read_table(tsv_file,sep='\\t')\n",
        "# csv_table\n",
        "# # csv_table.to_excel('train_data.xlsx',index=False)"
      ],
      "metadata": {
        "colab": {
          "base_uri": "https://localhost:8080/",
          "height": 679
        },
        "id": "WfrMfeiInAn-",
        "outputId": "96993237-4163-458c-b307-7dfa4f49e6e0"
      },
      "execution_count": null,
      "outputs": [
        {
          "output_type": "stream",
          "name": "stderr",
          "text": [
            "/usr/local/lib/python3.7/dist-packages/IPython/core/interactiveshell.py:3326: DtypeWarning: Columns (4) have mixed types.Specify dtype option on import or set low_memory=False.\n",
            "  exec(code_obj, self.user_global_ns, self.user_ns)\n"
          ]
        },
        {
          "output_type": "execute_result",
          "data": {
            "text/plain": [
              "       sentence_id person                                           sentence  \\\n",
              "0                1     어영  야! 전화 받아. 아무리 바빠도 내전화는 받아야 되는거 아냐? 약속 하나도 못지키는...   \n",
              "1                2     어영     우리 아무래도 안되겠다. 이게 최선인거 같애. 평생 잊지 않을게. 행복하길 바란다.   \n",
              "2                3    지구대                          김경사님, 아직 안가셨어요? 시간 다됐을텐데.   \n",
              "3                4     순경                                         근무중인데 어딜가?   \n",
              "4                5    지구대    다녀오세요. 이런날은 무조건 가서 축하해주셔야죠. 이순경이 대신 근무선다고 나온대요.   \n",
              "...            ...    ...                                                ...   \n",
              "99352       104303     윤찬  내가 게을러서 다른 방법을 아직 생각하진 못했어. 댄스 동호회는 좀 괜찮은 것 같은...   \n",
              "99353       104304     용준       은행 대출이 막혀서 생활비를 구할 수가 없어. 이제 어떻게 살아야 하나 막막해.   \n",
              "99354       104305     한별                          당장 내일 밥은 어떡하고 내 병원비는 어쩌지.   \n",
              "99355       104306     동욱            자식들은 키워 준 은혜도 모르고 내게 오지도 않네. 너무 외롭고 슬퍼.   \n",
              "99356       104307     태연   응 이제 다들 독립해가지고 명절 아니면 찾아오질 않아. 안부전화라도 해주면 좋을 텐데.   \n",
              "\n",
              "           scene                                          context  \\\n",
              "0          S0104                                              NaN   \n",
              "1          S0108         포기한듯 탁 일어서는데, 띵동 문자. 후다닥 보는 어영. 기막혀 읽어보는   \n",
              "2          S0109  초조하게 시계보면서 왔다갔다 서성이는 김순경. 순찰차(경차)와서 멈추고 내리는 지구대   \n",
              "3          S0109  초조하게 시계보면서 왔다갔다 서성이는 김순경. 순찰차(경차)와서 멈추고 내리는 지구대   \n",
              "4          S0109  초조하게 시계보면서 왔다갔다 서성이는 김순경. 순찰차(경차)와서 멈추고 내리는 지구대   \n",
              "...          ...                                              ...   \n",
              "99352  SG_104302                                              NaN   \n",
              "99353  SG_104304                                              NaN   \n",
              "99354  SG_104304                                              NaN   \n",
              "99355  SG_104306                                              NaN   \n",
              "99356  SG_104306                                              NaN   \n",
              "\n",
              "               target_speaker_ctx  \\\n",
              "0                                   \n",
              "1                                   \n",
              "2                                   \n",
              "3                                   \n",
              "4       김경사님, 아직 안가셨어요? 시간 다됐을텐데.   \n",
              "...                           ...   \n",
              "99352                               \n",
              "99353                               \n",
              "99354                               \n",
              "99355                               \n",
              "99356                               \n",
              "\n",
              "                                      other_speaker_ctx  \\\n",
              "0                                                         \n",
              "1                                                         \n",
              "2                                                         \n",
              "3                             김경사님, 아직 안가셨어요? 시간 다됐을텐데.   \n",
              "4                                            근무중인데 어딜가?   \n",
              "...                                                 ...   \n",
              "99352   연애하고 싶은데 소개팅만 나가면 꽝이야. 이러다가 난 결혼 못 하고 늙어 죽을 거야.   \n",
              "99353                                                     \n",
              "99354      은행 대출이 막혀서 생활비를 구할 수가 없어. 이제 어떻게 살아야 하나 막막해.   \n",
              "99355                                                     \n",
              "99356           자식들은 키워 준 은혜도 모르고 내게 오지도 않네. 너무 외롭고 슬퍼.   \n",
              "\n",
              "                                            scene_sents  \n",
              "0                                                        \n",
              "1                                                        \n",
              "2                                                        \n",
              "3                             김경사님, 아직 안가셨어요? 시간 다됐을텐데.  \n",
              "4                   김경사님, 아직 안가셨어요? 시간 다됐을텐데.근무중인데 어딜가?  \n",
              "...                                                 ...  \n",
              "99352   연애하고 싶은데 소개팅만 나가면 꽝이야. 이러다가 난 결혼 못 하고 늙어 죽을 거야.  \n",
              "99353                                                    \n",
              "99354      은행 대출이 막혀서 생활비를 구할 수가 없어. 이제 어떻게 살아야 하나 막막해.  \n",
              "99355                                                    \n",
              "99356           자식들은 키워 준 은혜도 모르고 내게 오지도 않네. 너무 외롭고 슬퍼.  \n",
              "\n",
              "[99357 rows x 8 columns]"
            ],
            "text/html": [
              "\n",
              "  <div id=\"df-01281f4f-8bb9-4d87-86a9-bb8252d16416\">\n",
              "    <div class=\"colab-df-container\">\n",
              "      <div>\n",
              "<style scoped>\n",
              "    .dataframe tbody tr th:only-of-type {\n",
              "        vertical-align: middle;\n",
              "    }\n",
              "\n",
              "    .dataframe tbody tr th {\n",
              "        vertical-align: top;\n",
              "    }\n",
              "\n",
              "    .dataframe thead th {\n",
              "        text-align: right;\n",
              "    }\n",
              "</style>\n",
              "<table border=\"1\" class=\"dataframe\">\n",
              "  <thead>\n",
              "    <tr style=\"text-align: right;\">\n",
              "      <th></th>\n",
              "      <th>sentence_id</th>\n",
              "      <th>person</th>\n",
              "      <th>sentence</th>\n",
              "      <th>scene</th>\n",
              "      <th>context</th>\n",
              "      <th>target_speaker_ctx</th>\n",
              "      <th>other_speaker_ctx</th>\n",
              "      <th>scene_sents</th>\n",
              "    </tr>\n",
              "  </thead>\n",
              "  <tbody>\n",
              "    <tr>\n",
              "      <th>0</th>\n",
              "      <td>1</td>\n",
              "      <td>어영</td>\n",
              "      <td>야! 전화 받아. 아무리 바빠도 내전화는 받아야 되는거 아냐? 약속 하나도 못지키는...</td>\n",
              "      <td>S0104</td>\n",
              "      <td>NaN</td>\n",
              "      <td></td>\n",
              "      <td></td>\n",
              "      <td></td>\n",
              "    </tr>\n",
              "    <tr>\n",
              "      <th>1</th>\n",
              "      <td>2</td>\n",
              "      <td>어영</td>\n",
              "      <td>우리 아무래도 안되겠다. 이게 최선인거 같애. 평생 잊지 않을게. 행복하길 바란다.</td>\n",
              "      <td>S0108</td>\n",
              "      <td>포기한듯 탁 일어서는데, 띵동 문자. 후다닥 보는 어영. 기막혀 읽어보는</td>\n",
              "      <td></td>\n",
              "      <td></td>\n",
              "      <td></td>\n",
              "    </tr>\n",
              "    <tr>\n",
              "      <th>2</th>\n",
              "      <td>3</td>\n",
              "      <td>지구대</td>\n",
              "      <td>김경사님, 아직 안가셨어요? 시간 다됐을텐데.</td>\n",
              "      <td>S0109</td>\n",
              "      <td>초조하게 시계보면서 왔다갔다 서성이는 김순경. 순찰차(경차)와서 멈추고 내리는 지구대</td>\n",
              "      <td></td>\n",
              "      <td></td>\n",
              "      <td></td>\n",
              "    </tr>\n",
              "    <tr>\n",
              "      <th>3</th>\n",
              "      <td>4</td>\n",
              "      <td>순경</td>\n",
              "      <td>근무중인데 어딜가?</td>\n",
              "      <td>S0109</td>\n",
              "      <td>초조하게 시계보면서 왔다갔다 서성이는 김순경. 순찰차(경차)와서 멈추고 내리는 지구대</td>\n",
              "      <td></td>\n",
              "      <td>김경사님, 아직 안가셨어요? 시간 다됐을텐데.</td>\n",
              "      <td>김경사님, 아직 안가셨어요? 시간 다됐을텐데.</td>\n",
              "    </tr>\n",
              "    <tr>\n",
              "      <th>4</th>\n",
              "      <td>5</td>\n",
              "      <td>지구대</td>\n",
              "      <td>다녀오세요. 이런날은 무조건 가서 축하해주셔야죠. 이순경이 대신 근무선다고 나온대요.</td>\n",
              "      <td>S0109</td>\n",
              "      <td>초조하게 시계보면서 왔다갔다 서성이는 김순경. 순찰차(경차)와서 멈추고 내리는 지구대</td>\n",
              "      <td>김경사님, 아직 안가셨어요? 시간 다됐을텐데.</td>\n",
              "      <td>근무중인데 어딜가?</td>\n",
              "      <td>김경사님, 아직 안가셨어요? 시간 다됐을텐데.근무중인데 어딜가?</td>\n",
              "    </tr>\n",
              "    <tr>\n",
              "      <th>...</th>\n",
              "      <td>...</td>\n",
              "      <td>...</td>\n",
              "      <td>...</td>\n",
              "      <td>...</td>\n",
              "      <td>...</td>\n",
              "      <td>...</td>\n",
              "      <td>...</td>\n",
              "      <td>...</td>\n",
              "    </tr>\n",
              "    <tr>\n",
              "      <th>99352</th>\n",
              "      <td>104303</td>\n",
              "      <td>윤찬</td>\n",
              "      <td>내가 게을러서 다른 방법을 아직 생각하진 못했어. 댄스 동호회는 좀 괜찮은 것 같은...</td>\n",
              "      <td>SG_104302</td>\n",
              "      <td>NaN</td>\n",
              "      <td></td>\n",
              "      <td>연애하고 싶은데 소개팅만 나가면 꽝이야. 이러다가 난 결혼 못 하고 늙어 죽을 거야.</td>\n",
              "      <td>연애하고 싶은데 소개팅만 나가면 꽝이야. 이러다가 난 결혼 못 하고 늙어 죽을 거야.</td>\n",
              "    </tr>\n",
              "    <tr>\n",
              "      <th>99353</th>\n",
              "      <td>104304</td>\n",
              "      <td>용준</td>\n",
              "      <td>은행 대출이 막혀서 생활비를 구할 수가 없어. 이제 어떻게 살아야 하나 막막해.</td>\n",
              "      <td>SG_104304</td>\n",
              "      <td>NaN</td>\n",
              "      <td></td>\n",
              "      <td></td>\n",
              "      <td></td>\n",
              "    </tr>\n",
              "    <tr>\n",
              "      <th>99354</th>\n",
              "      <td>104305</td>\n",
              "      <td>한별</td>\n",
              "      <td>당장 내일 밥은 어떡하고 내 병원비는 어쩌지.</td>\n",
              "      <td>SG_104304</td>\n",
              "      <td>NaN</td>\n",
              "      <td></td>\n",
              "      <td>은행 대출이 막혀서 생활비를 구할 수가 없어. 이제 어떻게 살아야 하나 막막해.</td>\n",
              "      <td>은행 대출이 막혀서 생활비를 구할 수가 없어. 이제 어떻게 살아야 하나 막막해.</td>\n",
              "    </tr>\n",
              "    <tr>\n",
              "      <th>99355</th>\n",
              "      <td>104306</td>\n",
              "      <td>동욱</td>\n",
              "      <td>자식들은 키워 준 은혜도 모르고 내게 오지도 않네. 너무 외롭고 슬퍼.</td>\n",
              "      <td>SG_104306</td>\n",
              "      <td>NaN</td>\n",
              "      <td></td>\n",
              "      <td></td>\n",
              "      <td></td>\n",
              "    </tr>\n",
              "    <tr>\n",
              "      <th>99356</th>\n",
              "      <td>104307</td>\n",
              "      <td>태연</td>\n",
              "      <td>응 이제 다들 독립해가지고 명절 아니면 찾아오질 않아. 안부전화라도 해주면 좋을 텐데.</td>\n",
              "      <td>SG_104306</td>\n",
              "      <td>NaN</td>\n",
              "      <td></td>\n",
              "      <td>자식들은 키워 준 은혜도 모르고 내게 오지도 않네. 너무 외롭고 슬퍼.</td>\n",
              "      <td>자식들은 키워 준 은혜도 모르고 내게 오지도 않네. 너무 외롭고 슬퍼.</td>\n",
              "    </tr>\n",
              "  </tbody>\n",
              "</table>\n",
              "<p>99357 rows × 8 columns</p>\n",
              "</div>\n",
              "      <button class=\"colab-df-convert\" onclick=\"convertToInteractive('df-01281f4f-8bb9-4d87-86a9-bb8252d16416')\"\n",
              "              title=\"Convert this dataframe to an interactive table.\"\n",
              "              style=\"display:none;\">\n",
              "        \n",
              "  <svg xmlns=\"http://www.w3.org/2000/svg\" height=\"24px\"viewBox=\"0 0 24 24\"\n",
              "       width=\"24px\">\n",
              "    <path d=\"M0 0h24v24H0V0z\" fill=\"none\"/>\n",
              "    <path d=\"M18.56 5.44l.94 2.06.94-2.06 2.06-.94-2.06-.94-.94-2.06-.94 2.06-2.06.94zm-11 1L8.5 8.5l.94-2.06 2.06-.94-2.06-.94L8.5 2.5l-.94 2.06-2.06.94zm10 10l.94 2.06.94-2.06 2.06-.94-2.06-.94-.94-2.06-.94 2.06-2.06.94z\"/><path d=\"M17.41 7.96l-1.37-1.37c-.4-.4-.92-.59-1.43-.59-.52 0-1.04.2-1.43.59L10.3 9.45l-7.72 7.72c-.78.78-.78 2.05 0 2.83L4 21.41c.39.39.9.59 1.41.59.51 0 1.02-.2 1.41-.59l7.78-7.78 2.81-2.81c.8-.78.8-2.07 0-2.86zM5.41 20L4 18.59l7.72-7.72 1.47 1.35L5.41 20z\"/>\n",
              "  </svg>\n",
              "      </button>\n",
              "      \n",
              "  <style>\n",
              "    .colab-df-container {\n",
              "      display:flex;\n",
              "      flex-wrap:wrap;\n",
              "      gap: 12px;\n",
              "    }\n",
              "\n",
              "    .colab-df-convert {\n",
              "      background-color: #E8F0FE;\n",
              "      border: none;\n",
              "      border-radius: 50%;\n",
              "      cursor: pointer;\n",
              "      display: none;\n",
              "      fill: #1967D2;\n",
              "      height: 32px;\n",
              "      padding: 0 0 0 0;\n",
              "      width: 32px;\n",
              "    }\n",
              "\n",
              "    .colab-df-convert:hover {\n",
              "      background-color: #E2EBFA;\n",
              "      box-shadow: 0px 1px 2px rgba(60, 64, 67, 0.3), 0px 1px 3px 1px rgba(60, 64, 67, 0.15);\n",
              "      fill: #174EA6;\n",
              "    }\n",
              "\n",
              "    [theme=dark] .colab-df-convert {\n",
              "      background-color: #3B4455;\n",
              "      fill: #D2E3FC;\n",
              "    }\n",
              "\n",
              "    [theme=dark] .colab-df-convert:hover {\n",
              "      background-color: #434B5C;\n",
              "      box-shadow: 0px 1px 3px 1px rgba(0, 0, 0, 0.15);\n",
              "      filter: drop-shadow(0px 1px 2px rgba(0, 0, 0, 0.3));\n",
              "      fill: #FFFFFF;\n",
              "    }\n",
              "  </style>\n",
              "\n",
              "      <script>\n",
              "        const buttonEl =\n",
              "          document.querySelector('#df-01281f4f-8bb9-4d87-86a9-bb8252d16416 button.colab-df-convert');\n",
              "        buttonEl.style.display =\n",
              "          google.colab.kernel.accessAllowed ? 'block' : 'none';\n",
              "\n",
              "        async function convertToInteractive(key) {\n",
              "          const element = document.querySelector('#df-01281f4f-8bb9-4d87-86a9-bb8252d16416');\n",
              "          const dataTable =\n",
              "            await google.colab.kernel.invokeFunction('convertToInteractive',\n",
              "                                                     [key], {});\n",
              "          if (!dataTable) return;\n",
              "\n",
              "          const docLinkHtml = 'Like what you see? Visit the ' +\n",
              "            '<a target=\"_blank\" href=https://colab.research.google.com/notebooks/data_table.ipynb>data table notebook</a>'\n",
              "            + ' to learn more about interactive tables.';\n",
              "          element.innerHTML = '';\n",
              "          dataTable['output_type'] = 'display_data';\n",
              "          await google.colab.output.renderOutput(dataTable, element);\n",
              "          const docLink = document.createElement('div');\n",
              "          docLink.innerHTML = docLinkHtml;\n",
              "          element.appendChild(docLink);\n",
              "        }\n",
              "      </script>\n",
              "    </div>\n",
              "  </div>\n",
              "  "
            ]
          },
          "metadata": {},
          "execution_count": 17
        }
      ]
    },
    {
      "cell_type": "code",
      "source": [
        "# train_table = csv_table['sentence']"
      ],
      "metadata": {
        "id": "hPZ_PIYSIu21"
      },
      "execution_count": null,
      "outputs": []
    },
    {
      "cell_type": "code",
      "source": [
        "# train_table=pd.read_csv('/content/gdrive/MyDrive/대회/감정분석 대회/SGwannabe_train_set_4403.csv')\n",
        "# train_table = train_table[['sentence', 'label']]\n",
        "# train_table"
      ],
      "metadata": {
        "colab": {
          "base_uri": "https://localhost:8080/",
          "height": 423
        },
        "id": "lS71JKqleZTh",
        "outputId": "110c76c3-2a61-4dde-8138-2cb5aea98763"
      },
      "execution_count": 163,
      "outputs": [
        {
          "output_type": "execute_result",
          "data": {
            "text/plain": [
              "                                               sentence      label\n",
              "0                                  엄마 왜 종남이만 많이 줘? 내거야.  dysphoria\n",
              "1                                            또 그놈의 잔소리.  dysphoria\n",
              "2                                          너한테 무슨말 안하디?    neutral\n",
              "3                                  아, 오빠만 보면 삘이팍! 온다구요.   euphoria\n",
              "4     태워주긴 뭘 태워줘? 걸어서 가. 부영이 앞으로 언니 신경 안쓰이게 니할일 딱딱 하...  dysphoria\n",
              "...                                                 ...        ...\n",
              "4398                                              안잤다니?    neutral\n",
              "4399              자네딸 데려다 직싸게 고생시키면서 두고두고 복수할려고. 이의 없지?   euphoria\n",
              "4400                                           응. 들어가라.    neutral\n",
              "4401                이럴때 핸드폰 하나있으면 얼마나 좋아? 나다. 너 지금 어디야?  dysphoria\n",
              "4402                                         그럴일이 있습니다.  dysphoria\n",
              "\n",
              "[4403 rows x 2 columns]"
            ],
            "text/html": [
              "\n",
              "  <div id=\"df-6e486c25-b314-4d1e-b5ee-108e5247a83f\">\n",
              "    <div class=\"colab-df-container\">\n",
              "      <div>\n",
              "<style scoped>\n",
              "    .dataframe tbody tr th:only-of-type {\n",
              "        vertical-align: middle;\n",
              "    }\n",
              "\n",
              "    .dataframe tbody tr th {\n",
              "        vertical-align: top;\n",
              "    }\n",
              "\n",
              "    .dataframe thead th {\n",
              "        text-align: right;\n",
              "    }\n",
              "</style>\n",
              "<table border=\"1\" class=\"dataframe\">\n",
              "  <thead>\n",
              "    <tr style=\"text-align: right;\">\n",
              "      <th></th>\n",
              "      <th>sentence</th>\n",
              "      <th>label</th>\n",
              "    </tr>\n",
              "  </thead>\n",
              "  <tbody>\n",
              "    <tr>\n",
              "      <th>0</th>\n",
              "      <td>엄마 왜 종남이만 많이 줘? 내거야.</td>\n",
              "      <td>dysphoria</td>\n",
              "    </tr>\n",
              "    <tr>\n",
              "      <th>1</th>\n",
              "      <td>또 그놈의 잔소리.</td>\n",
              "      <td>dysphoria</td>\n",
              "    </tr>\n",
              "    <tr>\n",
              "      <th>2</th>\n",
              "      <td>너한테 무슨말 안하디?</td>\n",
              "      <td>neutral</td>\n",
              "    </tr>\n",
              "    <tr>\n",
              "      <th>3</th>\n",
              "      <td>아, 오빠만 보면 삘이팍! 온다구요.</td>\n",
              "      <td>euphoria</td>\n",
              "    </tr>\n",
              "    <tr>\n",
              "      <th>4</th>\n",
              "      <td>태워주긴 뭘 태워줘? 걸어서 가. 부영이 앞으로 언니 신경 안쓰이게 니할일 딱딱 하...</td>\n",
              "      <td>dysphoria</td>\n",
              "    </tr>\n",
              "    <tr>\n",
              "      <th>...</th>\n",
              "      <td>...</td>\n",
              "      <td>...</td>\n",
              "    </tr>\n",
              "    <tr>\n",
              "      <th>4398</th>\n",
              "      <td>안잤다니?</td>\n",
              "      <td>neutral</td>\n",
              "    </tr>\n",
              "    <tr>\n",
              "      <th>4399</th>\n",
              "      <td>자네딸 데려다 직싸게 고생시키면서 두고두고 복수할려고. 이의 없지?</td>\n",
              "      <td>euphoria</td>\n",
              "    </tr>\n",
              "    <tr>\n",
              "      <th>4400</th>\n",
              "      <td>응. 들어가라.</td>\n",
              "      <td>neutral</td>\n",
              "    </tr>\n",
              "    <tr>\n",
              "      <th>4401</th>\n",
              "      <td>이럴때 핸드폰 하나있으면 얼마나 좋아? 나다. 너 지금 어디야?</td>\n",
              "      <td>dysphoria</td>\n",
              "    </tr>\n",
              "    <tr>\n",
              "      <th>4402</th>\n",
              "      <td>그럴일이 있습니다.</td>\n",
              "      <td>dysphoria</td>\n",
              "    </tr>\n",
              "  </tbody>\n",
              "</table>\n",
              "<p>4403 rows × 2 columns</p>\n",
              "</div>\n",
              "      <button class=\"colab-df-convert\" onclick=\"convertToInteractive('df-6e486c25-b314-4d1e-b5ee-108e5247a83f')\"\n",
              "              title=\"Convert this dataframe to an interactive table.\"\n",
              "              style=\"display:none;\">\n",
              "        \n",
              "  <svg xmlns=\"http://www.w3.org/2000/svg\" height=\"24px\"viewBox=\"0 0 24 24\"\n",
              "       width=\"24px\">\n",
              "    <path d=\"M0 0h24v24H0V0z\" fill=\"none\"/>\n",
              "    <path d=\"M18.56 5.44l.94 2.06.94-2.06 2.06-.94-2.06-.94-.94-2.06-.94 2.06-2.06.94zm-11 1L8.5 8.5l.94-2.06 2.06-.94-2.06-.94L8.5 2.5l-.94 2.06-2.06.94zm10 10l.94 2.06.94-2.06 2.06-.94-2.06-.94-.94-2.06-.94 2.06-2.06.94z\"/><path d=\"M17.41 7.96l-1.37-1.37c-.4-.4-.92-.59-1.43-.59-.52 0-1.04.2-1.43.59L10.3 9.45l-7.72 7.72c-.78.78-.78 2.05 0 2.83L4 21.41c.39.39.9.59 1.41.59.51 0 1.02-.2 1.41-.59l7.78-7.78 2.81-2.81c.8-.78.8-2.07 0-2.86zM5.41 20L4 18.59l7.72-7.72 1.47 1.35L5.41 20z\"/>\n",
              "  </svg>\n",
              "      </button>\n",
              "      \n",
              "  <style>\n",
              "    .colab-df-container {\n",
              "      display:flex;\n",
              "      flex-wrap:wrap;\n",
              "      gap: 12px;\n",
              "    }\n",
              "\n",
              "    .colab-df-convert {\n",
              "      background-color: #E8F0FE;\n",
              "      border: none;\n",
              "      border-radius: 50%;\n",
              "      cursor: pointer;\n",
              "      display: none;\n",
              "      fill: #1967D2;\n",
              "      height: 32px;\n",
              "      padding: 0 0 0 0;\n",
              "      width: 32px;\n",
              "    }\n",
              "\n",
              "    .colab-df-convert:hover {\n",
              "      background-color: #E2EBFA;\n",
              "      box-shadow: 0px 1px 2px rgba(60, 64, 67, 0.3), 0px 1px 3px 1px rgba(60, 64, 67, 0.15);\n",
              "      fill: #174EA6;\n",
              "    }\n",
              "\n",
              "    [theme=dark] .colab-df-convert {\n",
              "      background-color: #3B4455;\n",
              "      fill: #D2E3FC;\n",
              "    }\n",
              "\n",
              "    [theme=dark] .colab-df-convert:hover {\n",
              "      background-color: #434B5C;\n",
              "      box-shadow: 0px 1px 3px 1px rgba(0, 0, 0, 0.15);\n",
              "      filter: drop-shadow(0px 1px 2px rgba(0, 0, 0, 0.3));\n",
              "      fill: #FFFFFF;\n",
              "    }\n",
              "  </style>\n",
              "\n",
              "      <script>\n",
              "        const buttonEl =\n",
              "          document.querySelector('#df-6e486c25-b314-4d1e-b5ee-108e5247a83f button.colab-df-convert');\n",
              "        buttonEl.style.display =\n",
              "          google.colab.kernel.accessAllowed ? 'block' : 'none';\n",
              "\n",
              "        async function convertToInteractive(key) {\n",
              "          const element = document.querySelector('#df-6e486c25-b314-4d1e-b5ee-108e5247a83f');\n",
              "          const dataTable =\n",
              "            await google.colab.kernel.invokeFunction('convertToInteractive',\n",
              "                                                     [key], {});\n",
              "          if (!dataTable) return;\n",
              "\n",
              "          const docLinkHtml = 'Like what you see? Visit the ' +\n",
              "            '<a target=\"_blank\" href=https://colab.research.google.com/notebooks/data_table.ipynb>data table notebook</a>'\n",
              "            + ' to learn more about interactive tables.';\n",
              "          element.innerHTML = '';\n",
              "          dataTable['output_type'] = 'display_data';\n",
              "          await google.colab.output.renderOutput(dataTable, element);\n",
              "          const docLink = document.createElement('div');\n",
              "          docLink.innerHTML = docLinkHtml;\n",
              "          element.appendChild(docLink);\n",
              "        }\n",
              "      </script>\n",
              "    </div>\n",
              "  </div>\n",
              "  "
            ]
          },
          "metadata": {},
          "execution_count": 163
        }
      ]
    },
    {
      "cell_type": "code",
      "source": [
        "train_table=pd.read_csv('/content/gdrive/MyDrive/대회/감정분석 대회/SGwannabe_train_set_4403.csv')\n",
        "train_table = train_table[['sentence','context', 'target_speaker_ctx','other_speaker_ctx',\t 'label']]\n",
        "train_table"
      ],
      "metadata": {
        "colab": {
          "base_uri": "https://localhost:8080/",
          "height": 554
        },
        "id": "UshpvViLyJ0e",
        "outputId": "43f790ca-0784-4a37-b249-21064b618dd2"
      },
      "execution_count": 9,
      "outputs": [
        {
          "output_type": "execute_result",
          "data": {
            "text/plain": [
              "                                               sentence  \\\n",
              "0                                  엄마 왜 종남이만 많이 줘? 내거야.   \n",
              "1                                            또 그놈의 잔소리.   \n",
              "2                                          너한테 무슨말 안하디?   \n",
              "3                                  아, 오빠만 보면 삘이팍! 온다구요.   \n",
              "4     태워주긴 뭘 태워줘? 걸어서 가. 부영이 앞으로 언니 신경 안쓰이게 니할일 딱딱 하...   \n",
              "...                                                 ...   \n",
              "4398                                              안잤다니?   \n",
              "4399              자네딸 데려다 직싸게 고생시키면서 두고두고 복수할려고. 이의 없지?   \n",
              "4400                                           응. 들어가라.   \n",
              "4401                이럴때 핸드폰 하나있으면 얼마나 좋아? 나다. 너 지금 어디야?   \n",
              "4402                                         그럴일이 있습니다.   \n",
              "\n",
              "                                                context  \\\n",
              "0                                   상태보면 종남접시에 좀더 많이 담긴   \n",
              "1                     마지못해 반찬꺼내 상차리는 과자. 들오는 순경. 뒤따라 현찰   \n",
              "2                                    저녁먹던중. 들어와 앉는 범인부영   \n",
              "3     할수없이 청난옆에 앉는 건강. 좋아서 얼른 팔짱끼는 청난. 슬쩍 빼내는 건강. 청난...   \n",
              "4               신문보는 범인. 찻잔놓는 솔이. 이층에서 어영의 노랫소리. 슥보는 범인   \n",
              "...                                                 ...   \n",
              "4398  다시 기어들오는 과자. 이상것 놓고, 찾다가 건강 베개맡에 있던 핸펀 발견. 나가려...   \n",
              "4399                                 허겁지겁 들오는 범인. 앉은 순경   \n",
              "4400                         들오는 이상. 현찰은 속상해 애들방앞에 걸터앉은   \n",
              "4401                                  수화기 들고 번호누르는데 부르르   \n",
              "4402                                                NaN   \n",
              "\n",
              "                                     target_speaker_ctx  \\\n",
              "0                                                         \n",
              "1      사연을 말하자면 너무 길어서 밤을 새도 모자라니 넘어갑시다. 니가 알지 내가 아냐...   \n",
              "2                                        언니 먹을것좀 해줘야겠다.   \n",
              "3        도련님하고 저하고 삘이 통하네요. 오빠. 아버님, 오빠가 저 이렇게 했어요. 뭐요?   \n",
              "4      벌써 나가게? 너 괜찮니? 쓸데없이. 어영아. 일루 잠깐 앉아봐. 일부러 이럴필요...   \n",
              "...                                                 ...   \n",
              "4398                                                      \n",
              "4399   자네 딸, 비행기 못탔어. 내가 붙잡았어. 지금 우리 아들이랑 같이 있네. 첨엔 ...   \n",
              "4400                                                      \n",
              "4401                                                      \n",
              "4402                                                      \n",
              "\n",
              "                                      other_speaker_ctx      label  \n",
              "0                              자, 똑같이 나눴으니까 싸우지들 말고 먹어.  dysphoria  \n",
              "1      아침에 해가 분명 동쪽에서 뜨던데. 오늘부터 살림연습 들어갔어? 못한다고 딱 잡아...  dysphoria  \n",
              "2                                             요새 힘든가봐요.    neutral  \n",
              "3      문부서지겠다. 그렇게 좋다니? 들어와 앉아. 예 아부지. 아 아닙니다. 내가 언제...   euphoria  \n",
              "4      먼일인지 아주 신바람이 났시유. 예 아부지. 일찍 일어나서 운동도 하고 책상 정리...  dysphoria  \n",
              "...                                                 ...        ...  \n",
              "4398                                 엄마. 아까부터 뭐하고 돌아다녀?    neutral  \n",
              "4399   무슨 일입니까? 전화받자마자 쫓아왔습니다. 그게 무슨 소립니까? 아까 분명 공항이...   euphoria  \n",
              "4400                                      작은형, 아직 안늦었지?    neutral  \n",
              "4401                                                     dysphoria  \n",
              "4402                                         대체 무슨 일인가?  dysphoria  \n",
              "\n",
              "[4403 rows x 5 columns]"
            ],
            "text/html": [
              "\n",
              "  <div id=\"df-d2ff0b32-44d1-4c71-8c28-c3e75cd1b69f\">\n",
              "    <div class=\"colab-df-container\">\n",
              "      <div>\n",
              "<style scoped>\n",
              "    .dataframe tbody tr th:only-of-type {\n",
              "        vertical-align: middle;\n",
              "    }\n",
              "\n",
              "    .dataframe tbody tr th {\n",
              "        vertical-align: top;\n",
              "    }\n",
              "\n",
              "    .dataframe thead th {\n",
              "        text-align: right;\n",
              "    }\n",
              "</style>\n",
              "<table border=\"1\" class=\"dataframe\">\n",
              "  <thead>\n",
              "    <tr style=\"text-align: right;\">\n",
              "      <th></th>\n",
              "      <th>sentence</th>\n",
              "      <th>context</th>\n",
              "      <th>target_speaker_ctx</th>\n",
              "      <th>other_speaker_ctx</th>\n",
              "      <th>label</th>\n",
              "    </tr>\n",
              "  </thead>\n",
              "  <tbody>\n",
              "    <tr>\n",
              "      <th>0</th>\n",
              "      <td>엄마 왜 종남이만 많이 줘? 내거야.</td>\n",
              "      <td>상태보면 종남접시에 좀더 많이 담긴</td>\n",
              "      <td></td>\n",
              "      <td>자, 똑같이 나눴으니까 싸우지들 말고 먹어.</td>\n",
              "      <td>dysphoria</td>\n",
              "    </tr>\n",
              "    <tr>\n",
              "      <th>1</th>\n",
              "      <td>또 그놈의 잔소리.</td>\n",
              "      <td>마지못해 반찬꺼내 상차리는 과자. 들오는 순경. 뒤따라 현찰</td>\n",
              "      <td>사연을 말하자면 너무 길어서 밤을 새도 모자라니 넘어갑시다. 니가 알지 내가 아냐...</td>\n",
              "      <td>아침에 해가 분명 동쪽에서 뜨던데. 오늘부터 살림연습 들어갔어? 못한다고 딱 잡아...</td>\n",
              "      <td>dysphoria</td>\n",
              "    </tr>\n",
              "    <tr>\n",
              "      <th>2</th>\n",
              "      <td>너한테 무슨말 안하디?</td>\n",
              "      <td>저녁먹던중. 들어와 앉는 범인부영</td>\n",
              "      <td>언니 먹을것좀 해줘야겠다.</td>\n",
              "      <td>요새 힘든가봐요.</td>\n",
              "      <td>neutral</td>\n",
              "    </tr>\n",
              "    <tr>\n",
              "      <th>3</th>\n",
              "      <td>아, 오빠만 보면 삘이팍! 온다구요.</td>\n",
              "      <td>할수없이 청난옆에 앉는 건강. 좋아서 얼른 팔짱끼는 청난. 슬쩍 빼내는 건강. 청난...</td>\n",
              "      <td>도련님하고 저하고 삘이 통하네요. 오빠. 아버님, 오빠가 저 이렇게 했어요. 뭐요?</td>\n",
              "      <td>문부서지겠다. 그렇게 좋다니? 들어와 앉아. 예 아부지. 아 아닙니다. 내가 언제...</td>\n",
              "      <td>euphoria</td>\n",
              "    </tr>\n",
              "    <tr>\n",
              "      <th>4</th>\n",
              "      <td>태워주긴 뭘 태워줘? 걸어서 가. 부영이 앞으로 언니 신경 안쓰이게 니할일 딱딱 하...</td>\n",
              "      <td>신문보는 범인. 찻잔놓는 솔이. 이층에서 어영의 노랫소리. 슥보는 범인</td>\n",
              "      <td>벌써 나가게? 너 괜찮니? 쓸데없이. 어영아. 일루 잠깐 앉아봐. 일부러 이럴필요...</td>\n",
              "      <td>먼일인지 아주 신바람이 났시유. 예 아부지. 일찍 일어나서 운동도 하고 책상 정리...</td>\n",
              "      <td>dysphoria</td>\n",
              "    </tr>\n",
              "    <tr>\n",
              "      <th>...</th>\n",
              "      <td>...</td>\n",
              "      <td>...</td>\n",
              "      <td>...</td>\n",
              "      <td>...</td>\n",
              "      <td>...</td>\n",
              "    </tr>\n",
              "    <tr>\n",
              "      <th>4398</th>\n",
              "      <td>안잤다니?</td>\n",
              "      <td>다시 기어들오는 과자. 이상것 놓고, 찾다가 건강 베개맡에 있던 핸펀 발견. 나가려...</td>\n",
              "      <td></td>\n",
              "      <td>엄마. 아까부터 뭐하고 돌아다녀?</td>\n",
              "      <td>neutral</td>\n",
              "    </tr>\n",
              "    <tr>\n",
              "      <th>4399</th>\n",
              "      <td>자네딸 데려다 직싸게 고생시키면서 두고두고 복수할려고. 이의 없지?</td>\n",
              "      <td>허겁지겁 들오는 범인. 앉은 순경</td>\n",
              "      <td>자네 딸, 비행기 못탔어. 내가 붙잡았어. 지금 우리 아들이랑 같이 있네. 첨엔 ...</td>\n",
              "      <td>무슨 일입니까? 전화받자마자 쫓아왔습니다. 그게 무슨 소립니까? 아까 분명 공항이...</td>\n",
              "      <td>euphoria</td>\n",
              "    </tr>\n",
              "    <tr>\n",
              "      <th>4400</th>\n",
              "      <td>응. 들어가라.</td>\n",
              "      <td>들오는 이상. 현찰은 속상해 애들방앞에 걸터앉은</td>\n",
              "      <td></td>\n",
              "      <td>작은형, 아직 안늦었지?</td>\n",
              "      <td>neutral</td>\n",
              "    </tr>\n",
              "    <tr>\n",
              "      <th>4401</th>\n",
              "      <td>이럴때 핸드폰 하나있으면 얼마나 좋아? 나다. 너 지금 어디야?</td>\n",
              "      <td>수화기 들고 번호누르는데 부르르</td>\n",
              "      <td></td>\n",
              "      <td></td>\n",
              "      <td>dysphoria</td>\n",
              "    </tr>\n",
              "    <tr>\n",
              "      <th>4402</th>\n",
              "      <td>그럴일이 있습니다.</td>\n",
              "      <td>NaN</td>\n",
              "      <td></td>\n",
              "      <td>대체 무슨 일인가?</td>\n",
              "      <td>dysphoria</td>\n",
              "    </tr>\n",
              "  </tbody>\n",
              "</table>\n",
              "<p>4403 rows × 5 columns</p>\n",
              "</div>\n",
              "      <button class=\"colab-df-convert\" onclick=\"convertToInteractive('df-d2ff0b32-44d1-4c71-8c28-c3e75cd1b69f')\"\n",
              "              title=\"Convert this dataframe to an interactive table.\"\n",
              "              style=\"display:none;\">\n",
              "        \n",
              "  <svg xmlns=\"http://www.w3.org/2000/svg\" height=\"24px\"viewBox=\"0 0 24 24\"\n",
              "       width=\"24px\">\n",
              "    <path d=\"M0 0h24v24H0V0z\" fill=\"none\"/>\n",
              "    <path d=\"M18.56 5.44l.94 2.06.94-2.06 2.06-.94-2.06-.94-.94-2.06-.94 2.06-2.06.94zm-11 1L8.5 8.5l.94-2.06 2.06-.94-2.06-.94L8.5 2.5l-.94 2.06-2.06.94zm10 10l.94 2.06.94-2.06 2.06-.94-2.06-.94-.94-2.06-.94 2.06-2.06.94z\"/><path d=\"M17.41 7.96l-1.37-1.37c-.4-.4-.92-.59-1.43-.59-.52 0-1.04.2-1.43.59L10.3 9.45l-7.72 7.72c-.78.78-.78 2.05 0 2.83L4 21.41c.39.39.9.59 1.41.59.51 0 1.02-.2 1.41-.59l7.78-7.78 2.81-2.81c.8-.78.8-2.07 0-2.86zM5.41 20L4 18.59l7.72-7.72 1.47 1.35L5.41 20z\"/>\n",
              "  </svg>\n",
              "      </button>\n",
              "      \n",
              "  <style>\n",
              "    .colab-df-container {\n",
              "      display:flex;\n",
              "      flex-wrap:wrap;\n",
              "      gap: 12px;\n",
              "    }\n",
              "\n",
              "    .colab-df-convert {\n",
              "      background-color: #E8F0FE;\n",
              "      border: none;\n",
              "      border-radius: 50%;\n",
              "      cursor: pointer;\n",
              "      display: none;\n",
              "      fill: #1967D2;\n",
              "      height: 32px;\n",
              "      padding: 0 0 0 0;\n",
              "      width: 32px;\n",
              "    }\n",
              "\n",
              "    .colab-df-convert:hover {\n",
              "      background-color: #E2EBFA;\n",
              "      box-shadow: 0px 1px 2px rgba(60, 64, 67, 0.3), 0px 1px 3px 1px rgba(60, 64, 67, 0.15);\n",
              "      fill: #174EA6;\n",
              "    }\n",
              "\n",
              "    [theme=dark] .colab-df-convert {\n",
              "      background-color: #3B4455;\n",
              "      fill: #D2E3FC;\n",
              "    }\n",
              "\n",
              "    [theme=dark] .colab-df-convert:hover {\n",
              "      background-color: #434B5C;\n",
              "      box-shadow: 0px 1px 3px 1px rgba(0, 0, 0, 0.15);\n",
              "      filter: drop-shadow(0px 1px 2px rgba(0, 0, 0, 0.3));\n",
              "      fill: #FFFFFF;\n",
              "    }\n",
              "  </style>\n",
              "\n",
              "      <script>\n",
              "        const buttonEl =\n",
              "          document.querySelector('#df-d2ff0b32-44d1-4c71-8c28-c3e75cd1b69f button.colab-df-convert');\n",
              "        buttonEl.style.display =\n",
              "          google.colab.kernel.accessAllowed ? 'block' : 'none';\n",
              "\n",
              "        async function convertToInteractive(key) {\n",
              "          const element = document.querySelector('#df-d2ff0b32-44d1-4c71-8c28-c3e75cd1b69f');\n",
              "          const dataTable =\n",
              "            await google.colab.kernel.invokeFunction('convertToInteractive',\n",
              "                                                     [key], {});\n",
              "          if (!dataTable) return;\n",
              "\n",
              "          const docLinkHtml = 'Like what you see? Visit the ' +\n",
              "            '<a target=\"_blank\" href=https://colab.research.google.com/notebooks/data_table.ipynb>data table notebook</a>'\n",
              "            + ' to learn more about interactive tables.';\n",
              "          element.innerHTML = '';\n",
              "          dataTable['output_type'] = 'display_data';\n",
              "          await google.colab.output.renderOutput(dataTable, element);\n",
              "          const docLink = document.createElement('div');\n",
              "          docLink.innerHTML = docLinkHtml;\n",
              "          element.appendChild(docLink);\n",
              "        }\n",
              "      </script>\n",
              "    </div>\n",
              "  </div>\n",
              "  "
            ]
          },
          "metadata": {},
          "execution_count": 9
        }
      ]
    },
    {
      "cell_type": "code",
      "source": [
        "tsv_file=r'/content/gdrive/MyDrive/대회/감정분석 대회/df_train_extended.tsv'\n",
        "csv_table =pd.read_table(tsv_file,sep='\\t')\n",
        "csv_table = csv_table[7339:]\n",
        "csv_table = csv_table[['sentence']]\n",
        "csv_table"
      ],
      "metadata": {
        "colab": {
          "base_uri": "https://localhost:8080/",
          "height": 460
        },
        "id": "CZ4e0pblfUl5",
        "outputId": "d480c3dd-df88-43eb-c971-7cb2f485f5c6"
      },
      "execution_count": 13,
      "outputs": [
        {
          "output_type": "stream",
          "name": "stderr",
          "text": [
            "/usr/local/lib/python3.7/dist-packages/IPython/core/interactiveshell.py:3326: DtypeWarning: Columns (4) have mixed types.Specify dtype option on import or set low_memory=False.\n",
            "  exec(code_obj, self.user_global_ns, self.user_ns)\n"
          ]
        },
        {
          "output_type": "execute_result",
          "data": {
            "text/plain": [
              "                                                sentence\n",
              "7339                           아내가 드디어 출산하게 되어서 정말 신이 나.\n",
              "7340                                       아 지금 정말 신이 나.\n",
              "7341             당뇨랑 합병증 때문에 먹어야 할 약이 열 가지가 넘어가니까 스트레스야.\n",
              "7342                         건강할 때 관리 좀 잘할걸 하는 생각이 들더라고.\n",
              "7343             고등학교에 올라오니 중학교 때보다 수업이 갑자기 어려워져서 당황스러워.\n",
              "...                                                  ...\n",
              "99352  내가 게을러서 다른 방법을 아직 생각하진 못했어. 댄스 동호회는 좀 괜찮은 것 같은...\n",
              "99353       은행 대출이 막혀서 생활비를 구할 수가 없어. 이제 어떻게 살아야 하나 막막해.\n",
              "99354                          당장 내일 밥은 어떡하고 내 병원비는 어쩌지.\n",
              "99355            자식들은 키워 준 은혜도 모르고 내게 오지도 않네. 너무 외롭고 슬퍼.\n",
              "99356   응 이제 다들 독립해가지고 명절 아니면 찾아오질 않아. 안부전화라도 해주면 좋을 텐데.\n",
              "\n",
              "[92018 rows x 1 columns]"
            ],
            "text/html": [
              "\n",
              "  <div id=\"df-57b14c39-59f3-4694-866b-eff4d38ec18b\">\n",
              "    <div class=\"colab-df-container\">\n",
              "      <div>\n",
              "<style scoped>\n",
              "    .dataframe tbody tr th:only-of-type {\n",
              "        vertical-align: middle;\n",
              "    }\n",
              "\n",
              "    .dataframe tbody tr th {\n",
              "        vertical-align: top;\n",
              "    }\n",
              "\n",
              "    .dataframe thead th {\n",
              "        text-align: right;\n",
              "    }\n",
              "</style>\n",
              "<table border=\"1\" class=\"dataframe\">\n",
              "  <thead>\n",
              "    <tr style=\"text-align: right;\">\n",
              "      <th></th>\n",
              "      <th>sentence</th>\n",
              "    </tr>\n",
              "  </thead>\n",
              "  <tbody>\n",
              "    <tr>\n",
              "      <th>7339</th>\n",
              "      <td>아내가 드디어 출산하게 되어서 정말 신이 나.</td>\n",
              "    </tr>\n",
              "    <tr>\n",
              "      <th>7340</th>\n",
              "      <td>아 지금 정말 신이 나.</td>\n",
              "    </tr>\n",
              "    <tr>\n",
              "      <th>7341</th>\n",
              "      <td>당뇨랑 합병증 때문에 먹어야 할 약이 열 가지가 넘어가니까 스트레스야.</td>\n",
              "    </tr>\n",
              "    <tr>\n",
              "      <th>7342</th>\n",
              "      <td>건강할 때 관리 좀 잘할걸 하는 생각이 들더라고.</td>\n",
              "    </tr>\n",
              "    <tr>\n",
              "      <th>7343</th>\n",
              "      <td>고등학교에 올라오니 중학교 때보다 수업이 갑자기 어려워져서 당황스러워.</td>\n",
              "    </tr>\n",
              "    <tr>\n",
              "      <th>...</th>\n",
              "      <td>...</td>\n",
              "    </tr>\n",
              "    <tr>\n",
              "      <th>99352</th>\n",
              "      <td>내가 게을러서 다른 방법을 아직 생각하진 못했어. 댄스 동호회는 좀 괜찮은 것 같은...</td>\n",
              "    </tr>\n",
              "    <tr>\n",
              "      <th>99353</th>\n",
              "      <td>은행 대출이 막혀서 생활비를 구할 수가 없어. 이제 어떻게 살아야 하나 막막해.</td>\n",
              "    </tr>\n",
              "    <tr>\n",
              "      <th>99354</th>\n",
              "      <td>당장 내일 밥은 어떡하고 내 병원비는 어쩌지.</td>\n",
              "    </tr>\n",
              "    <tr>\n",
              "      <th>99355</th>\n",
              "      <td>자식들은 키워 준 은혜도 모르고 내게 오지도 않네. 너무 외롭고 슬퍼.</td>\n",
              "    </tr>\n",
              "    <tr>\n",
              "      <th>99356</th>\n",
              "      <td>응 이제 다들 독립해가지고 명절 아니면 찾아오질 않아. 안부전화라도 해주면 좋을 텐데.</td>\n",
              "    </tr>\n",
              "  </tbody>\n",
              "</table>\n",
              "<p>92018 rows × 1 columns</p>\n",
              "</div>\n",
              "      <button class=\"colab-df-convert\" onclick=\"convertToInteractive('df-57b14c39-59f3-4694-866b-eff4d38ec18b')\"\n",
              "              title=\"Convert this dataframe to an interactive table.\"\n",
              "              style=\"display:none;\">\n",
              "        \n",
              "  <svg xmlns=\"http://www.w3.org/2000/svg\" height=\"24px\"viewBox=\"0 0 24 24\"\n",
              "       width=\"24px\">\n",
              "    <path d=\"M0 0h24v24H0V0z\" fill=\"none\"/>\n",
              "    <path d=\"M18.56 5.44l.94 2.06.94-2.06 2.06-.94-2.06-.94-.94-2.06-.94 2.06-2.06.94zm-11 1L8.5 8.5l.94-2.06 2.06-.94-2.06-.94L8.5 2.5l-.94 2.06-2.06.94zm10 10l.94 2.06.94-2.06 2.06-.94-2.06-.94-.94-2.06-.94 2.06-2.06.94z\"/><path d=\"M17.41 7.96l-1.37-1.37c-.4-.4-.92-.59-1.43-.59-.52 0-1.04.2-1.43.59L10.3 9.45l-7.72 7.72c-.78.78-.78 2.05 0 2.83L4 21.41c.39.39.9.59 1.41.59.51 0 1.02-.2 1.41-.59l7.78-7.78 2.81-2.81c.8-.78.8-2.07 0-2.86zM5.41 20L4 18.59l7.72-7.72 1.47 1.35L5.41 20z\"/>\n",
              "  </svg>\n",
              "      </button>\n",
              "      \n",
              "  <style>\n",
              "    .colab-df-container {\n",
              "      display:flex;\n",
              "      flex-wrap:wrap;\n",
              "      gap: 12px;\n",
              "    }\n",
              "\n",
              "    .colab-df-convert {\n",
              "      background-color: #E8F0FE;\n",
              "      border: none;\n",
              "      border-radius: 50%;\n",
              "      cursor: pointer;\n",
              "      display: none;\n",
              "      fill: #1967D2;\n",
              "      height: 32px;\n",
              "      padding: 0 0 0 0;\n",
              "      width: 32px;\n",
              "    }\n",
              "\n",
              "    .colab-df-convert:hover {\n",
              "      background-color: #E2EBFA;\n",
              "      box-shadow: 0px 1px 2px rgba(60, 64, 67, 0.3), 0px 1px 3px 1px rgba(60, 64, 67, 0.15);\n",
              "      fill: #174EA6;\n",
              "    }\n",
              "\n",
              "    [theme=dark] .colab-df-convert {\n",
              "      background-color: #3B4455;\n",
              "      fill: #D2E3FC;\n",
              "    }\n",
              "\n",
              "    [theme=dark] .colab-df-convert:hover {\n",
              "      background-color: #434B5C;\n",
              "      box-shadow: 0px 1px 3px 1px rgba(0, 0, 0, 0.15);\n",
              "      filter: drop-shadow(0px 1px 2px rgba(0, 0, 0, 0.3));\n",
              "      fill: #FFFFFF;\n",
              "    }\n",
              "  </style>\n",
              "\n",
              "      <script>\n",
              "        const buttonEl =\n",
              "          document.querySelector('#df-57b14c39-59f3-4694-866b-eff4d38ec18b button.colab-df-convert');\n",
              "        buttonEl.style.display =\n",
              "          google.colab.kernel.accessAllowed ? 'block' : 'none';\n",
              "\n",
              "        async function convertToInteractive(key) {\n",
              "          const element = document.querySelector('#df-57b14c39-59f3-4694-866b-eff4d38ec18b');\n",
              "          const dataTable =\n",
              "            await google.colab.kernel.invokeFunction('convertToInteractive',\n",
              "                                                     [key], {});\n",
              "          if (!dataTable) return;\n",
              "\n",
              "          const docLinkHtml = 'Like what you see? Visit the ' +\n",
              "            '<a target=\"_blank\" href=https://colab.research.google.com/notebooks/data_table.ipynb>data table notebook</a>'\n",
              "            + ' to learn more about interactive tables.';\n",
              "          element.innerHTML = '';\n",
              "          dataTable['output_type'] = 'display_data';\n",
              "          await google.colab.output.renderOutput(dataTable, element);\n",
              "          const docLink = document.createElement('div');\n",
              "          docLink.innerHTML = docLinkHtml;\n",
              "          element.appendChild(docLink);\n",
              "        }\n",
              "      </script>\n",
              "    </div>\n",
              "  </div>\n",
              "  "
            ]
          },
          "metadata": {},
          "execution_count": 13
        }
      ]
    },
    {
      "cell_type": "code",
      "source": [
        "csv_label = pd.read_csv('/content/gdrive/MyDrive/대회/감정분석 대회/train_labels.csv')\n",
        "csv_label = csv_label[7339:]\n",
        "csv_label = csv_label[['label']]\n",
        "\n",
        "csv_label"
      ],
      "metadata": {
        "colab": {
          "base_uri": "https://localhost:8080/",
          "height": 423
        },
        "id": "yvn0tNKGhnMI",
        "outputId": "2dc41786-d4b3-46b1-c914-eef1e53dc2c8"
      },
      "execution_count": 14,
      "outputs": [
        {
          "output_type": "execute_result",
          "data": {
            "text/plain": [
              "           label\n",
              "7339    euphoria\n",
              "7340    euphoria\n",
              "7341   dysphoria\n",
              "7342   dysphoria\n",
              "7343   dysphoria\n",
              "...          ...\n",
              "99352  dysphoria\n",
              "99353  dysphoria\n",
              "99354  dysphoria\n",
              "99355  dysphoria\n",
              "99356  dysphoria\n",
              "\n",
              "[92018 rows x 1 columns]"
            ],
            "text/html": [
              "\n",
              "  <div id=\"df-e8831a28-6366-4141-835a-3abf21e3a3f7\">\n",
              "    <div class=\"colab-df-container\">\n",
              "      <div>\n",
              "<style scoped>\n",
              "    .dataframe tbody tr th:only-of-type {\n",
              "        vertical-align: middle;\n",
              "    }\n",
              "\n",
              "    .dataframe tbody tr th {\n",
              "        vertical-align: top;\n",
              "    }\n",
              "\n",
              "    .dataframe thead th {\n",
              "        text-align: right;\n",
              "    }\n",
              "</style>\n",
              "<table border=\"1\" class=\"dataframe\">\n",
              "  <thead>\n",
              "    <tr style=\"text-align: right;\">\n",
              "      <th></th>\n",
              "      <th>label</th>\n",
              "    </tr>\n",
              "  </thead>\n",
              "  <tbody>\n",
              "    <tr>\n",
              "      <th>7339</th>\n",
              "      <td>euphoria</td>\n",
              "    </tr>\n",
              "    <tr>\n",
              "      <th>7340</th>\n",
              "      <td>euphoria</td>\n",
              "    </tr>\n",
              "    <tr>\n",
              "      <th>7341</th>\n",
              "      <td>dysphoria</td>\n",
              "    </tr>\n",
              "    <tr>\n",
              "      <th>7342</th>\n",
              "      <td>dysphoria</td>\n",
              "    </tr>\n",
              "    <tr>\n",
              "      <th>7343</th>\n",
              "      <td>dysphoria</td>\n",
              "    </tr>\n",
              "    <tr>\n",
              "      <th>...</th>\n",
              "      <td>...</td>\n",
              "    </tr>\n",
              "    <tr>\n",
              "      <th>99352</th>\n",
              "      <td>dysphoria</td>\n",
              "    </tr>\n",
              "    <tr>\n",
              "      <th>99353</th>\n",
              "      <td>dysphoria</td>\n",
              "    </tr>\n",
              "    <tr>\n",
              "      <th>99354</th>\n",
              "      <td>dysphoria</td>\n",
              "    </tr>\n",
              "    <tr>\n",
              "      <th>99355</th>\n",
              "      <td>dysphoria</td>\n",
              "    </tr>\n",
              "    <tr>\n",
              "      <th>99356</th>\n",
              "      <td>dysphoria</td>\n",
              "    </tr>\n",
              "  </tbody>\n",
              "</table>\n",
              "<p>92018 rows × 1 columns</p>\n",
              "</div>\n",
              "      <button class=\"colab-df-convert\" onclick=\"convertToInteractive('df-e8831a28-6366-4141-835a-3abf21e3a3f7')\"\n",
              "              title=\"Convert this dataframe to an interactive table.\"\n",
              "              style=\"display:none;\">\n",
              "        \n",
              "  <svg xmlns=\"http://www.w3.org/2000/svg\" height=\"24px\"viewBox=\"0 0 24 24\"\n",
              "       width=\"24px\">\n",
              "    <path d=\"M0 0h24v24H0V0z\" fill=\"none\"/>\n",
              "    <path d=\"M18.56 5.44l.94 2.06.94-2.06 2.06-.94-2.06-.94-.94-2.06-.94 2.06-2.06.94zm-11 1L8.5 8.5l.94-2.06 2.06-.94-2.06-.94L8.5 2.5l-.94 2.06-2.06.94zm10 10l.94 2.06.94-2.06 2.06-.94-2.06-.94-.94-2.06-.94 2.06-2.06.94z\"/><path d=\"M17.41 7.96l-1.37-1.37c-.4-.4-.92-.59-1.43-.59-.52 0-1.04.2-1.43.59L10.3 9.45l-7.72 7.72c-.78.78-.78 2.05 0 2.83L4 21.41c.39.39.9.59 1.41.59.51 0 1.02-.2 1.41-.59l7.78-7.78 2.81-2.81c.8-.78.8-2.07 0-2.86zM5.41 20L4 18.59l7.72-7.72 1.47 1.35L5.41 20z\"/>\n",
              "  </svg>\n",
              "      </button>\n",
              "      \n",
              "  <style>\n",
              "    .colab-df-container {\n",
              "      display:flex;\n",
              "      flex-wrap:wrap;\n",
              "      gap: 12px;\n",
              "    }\n",
              "\n",
              "    .colab-df-convert {\n",
              "      background-color: #E8F0FE;\n",
              "      border: none;\n",
              "      border-radius: 50%;\n",
              "      cursor: pointer;\n",
              "      display: none;\n",
              "      fill: #1967D2;\n",
              "      height: 32px;\n",
              "      padding: 0 0 0 0;\n",
              "      width: 32px;\n",
              "    }\n",
              "\n",
              "    .colab-df-convert:hover {\n",
              "      background-color: #E2EBFA;\n",
              "      box-shadow: 0px 1px 2px rgba(60, 64, 67, 0.3), 0px 1px 3px 1px rgba(60, 64, 67, 0.15);\n",
              "      fill: #174EA6;\n",
              "    }\n",
              "\n",
              "    [theme=dark] .colab-df-convert {\n",
              "      background-color: #3B4455;\n",
              "      fill: #D2E3FC;\n",
              "    }\n",
              "\n",
              "    [theme=dark] .colab-df-convert:hover {\n",
              "      background-color: #434B5C;\n",
              "      box-shadow: 0px 1px 3px 1px rgba(0, 0, 0, 0.15);\n",
              "      filter: drop-shadow(0px 1px 2px rgba(0, 0, 0, 0.3));\n",
              "      fill: #FFFFFF;\n",
              "    }\n",
              "  </style>\n",
              "\n",
              "      <script>\n",
              "        const buttonEl =\n",
              "          document.querySelector('#df-e8831a28-6366-4141-835a-3abf21e3a3f7 button.colab-df-convert');\n",
              "        buttonEl.style.display =\n",
              "          google.colab.kernel.accessAllowed ? 'block' : 'none';\n",
              "\n",
              "        async function convertToInteractive(key) {\n",
              "          const element = document.querySelector('#df-e8831a28-6366-4141-835a-3abf21e3a3f7');\n",
              "          const dataTable =\n",
              "            await google.colab.kernel.invokeFunction('convertToInteractive',\n",
              "                                                     [key], {});\n",
              "          if (!dataTable) return;\n",
              "\n",
              "          const docLinkHtml = 'Like what you see? Visit the ' +\n",
              "            '<a target=\"_blank\" href=https://colab.research.google.com/notebooks/data_table.ipynb>data table notebook</a>'\n",
              "            + ' to learn more about interactive tables.';\n",
              "          element.innerHTML = '';\n",
              "          dataTable['output_type'] = 'display_data';\n",
              "          await google.colab.output.renderOutput(dataTable, element);\n",
              "          const docLink = document.createElement('div');\n",
              "          docLink.innerHTML = docLinkHtml;\n",
              "          element.appendChild(docLink);\n",
              "        }\n",
              "      </script>\n",
              "    </div>\n",
              "  </div>\n",
              "  "
            ]
          },
          "metadata": {},
          "execution_count": 14
        }
      ]
    },
    {
      "cell_type": "code",
      "source": [
        "train_table1 = pd.concat([csv_table, csv_label], axis=1)\n",
        "train_table1"
      ],
      "metadata": {
        "colab": {
          "base_uri": "https://localhost:8080/",
          "height": 423
        },
        "id": "kisO81sEh7jI",
        "outputId": "707b4d1d-5429-4a92-be8d-c0ea036bac3f"
      },
      "execution_count": 15,
      "outputs": [
        {
          "output_type": "execute_result",
          "data": {
            "text/plain": [
              "                                                sentence      label\n",
              "7339                           아내가 드디어 출산하게 되어서 정말 신이 나.   euphoria\n",
              "7340                                       아 지금 정말 신이 나.   euphoria\n",
              "7341             당뇨랑 합병증 때문에 먹어야 할 약이 열 가지가 넘어가니까 스트레스야.  dysphoria\n",
              "7342                         건강할 때 관리 좀 잘할걸 하는 생각이 들더라고.  dysphoria\n",
              "7343             고등학교에 올라오니 중학교 때보다 수업이 갑자기 어려워져서 당황스러워.  dysphoria\n",
              "...                                                  ...        ...\n",
              "99352  내가 게을러서 다른 방법을 아직 생각하진 못했어. 댄스 동호회는 좀 괜찮은 것 같은...  dysphoria\n",
              "99353       은행 대출이 막혀서 생활비를 구할 수가 없어. 이제 어떻게 살아야 하나 막막해.  dysphoria\n",
              "99354                          당장 내일 밥은 어떡하고 내 병원비는 어쩌지.  dysphoria\n",
              "99355            자식들은 키워 준 은혜도 모르고 내게 오지도 않네. 너무 외롭고 슬퍼.  dysphoria\n",
              "99356   응 이제 다들 독립해가지고 명절 아니면 찾아오질 않아. 안부전화라도 해주면 좋을 텐데.  dysphoria\n",
              "\n",
              "[92018 rows x 2 columns]"
            ],
            "text/html": [
              "\n",
              "  <div id=\"df-c8f59e32-68e8-486c-8833-cf40545f12ba\">\n",
              "    <div class=\"colab-df-container\">\n",
              "      <div>\n",
              "<style scoped>\n",
              "    .dataframe tbody tr th:only-of-type {\n",
              "        vertical-align: middle;\n",
              "    }\n",
              "\n",
              "    .dataframe tbody tr th {\n",
              "        vertical-align: top;\n",
              "    }\n",
              "\n",
              "    .dataframe thead th {\n",
              "        text-align: right;\n",
              "    }\n",
              "</style>\n",
              "<table border=\"1\" class=\"dataframe\">\n",
              "  <thead>\n",
              "    <tr style=\"text-align: right;\">\n",
              "      <th></th>\n",
              "      <th>sentence</th>\n",
              "      <th>label</th>\n",
              "    </tr>\n",
              "  </thead>\n",
              "  <tbody>\n",
              "    <tr>\n",
              "      <th>7339</th>\n",
              "      <td>아내가 드디어 출산하게 되어서 정말 신이 나.</td>\n",
              "      <td>euphoria</td>\n",
              "    </tr>\n",
              "    <tr>\n",
              "      <th>7340</th>\n",
              "      <td>아 지금 정말 신이 나.</td>\n",
              "      <td>euphoria</td>\n",
              "    </tr>\n",
              "    <tr>\n",
              "      <th>7341</th>\n",
              "      <td>당뇨랑 합병증 때문에 먹어야 할 약이 열 가지가 넘어가니까 스트레스야.</td>\n",
              "      <td>dysphoria</td>\n",
              "    </tr>\n",
              "    <tr>\n",
              "      <th>7342</th>\n",
              "      <td>건강할 때 관리 좀 잘할걸 하는 생각이 들더라고.</td>\n",
              "      <td>dysphoria</td>\n",
              "    </tr>\n",
              "    <tr>\n",
              "      <th>7343</th>\n",
              "      <td>고등학교에 올라오니 중학교 때보다 수업이 갑자기 어려워져서 당황스러워.</td>\n",
              "      <td>dysphoria</td>\n",
              "    </tr>\n",
              "    <tr>\n",
              "      <th>...</th>\n",
              "      <td>...</td>\n",
              "      <td>...</td>\n",
              "    </tr>\n",
              "    <tr>\n",
              "      <th>99352</th>\n",
              "      <td>내가 게을러서 다른 방법을 아직 생각하진 못했어. 댄스 동호회는 좀 괜찮은 것 같은...</td>\n",
              "      <td>dysphoria</td>\n",
              "    </tr>\n",
              "    <tr>\n",
              "      <th>99353</th>\n",
              "      <td>은행 대출이 막혀서 생활비를 구할 수가 없어. 이제 어떻게 살아야 하나 막막해.</td>\n",
              "      <td>dysphoria</td>\n",
              "    </tr>\n",
              "    <tr>\n",
              "      <th>99354</th>\n",
              "      <td>당장 내일 밥은 어떡하고 내 병원비는 어쩌지.</td>\n",
              "      <td>dysphoria</td>\n",
              "    </tr>\n",
              "    <tr>\n",
              "      <th>99355</th>\n",
              "      <td>자식들은 키워 준 은혜도 모르고 내게 오지도 않네. 너무 외롭고 슬퍼.</td>\n",
              "      <td>dysphoria</td>\n",
              "    </tr>\n",
              "    <tr>\n",
              "      <th>99356</th>\n",
              "      <td>응 이제 다들 독립해가지고 명절 아니면 찾아오질 않아. 안부전화라도 해주면 좋을 텐데.</td>\n",
              "      <td>dysphoria</td>\n",
              "    </tr>\n",
              "  </tbody>\n",
              "</table>\n",
              "<p>92018 rows × 2 columns</p>\n",
              "</div>\n",
              "      <button class=\"colab-df-convert\" onclick=\"convertToInteractive('df-c8f59e32-68e8-486c-8833-cf40545f12ba')\"\n",
              "              title=\"Convert this dataframe to an interactive table.\"\n",
              "              style=\"display:none;\">\n",
              "        \n",
              "  <svg xmlns=\"http://www.w3.org/2000/svg\" height=\"24px\"viewBox=\"0 0 24 24\"\n",
              "       width=\"24px\">\n",
              "    <path d=\"M0 0h24v24H0V0z\" fill=\"none\"/>\n",
              "    <path d=\"M18.56 5.44l.94 2.06.94-2.06 2.06-.94-2.06-.94-.94-2.06-.94 2.06-2.06.94zm-11 1L8.5 8.5l.94-2.06 2.06-.94-2.06-.94L8.5 2.5l-.94 2.06-2.06.94zm10 10l.94 2.06.94-2.06 2.06-.94-2.06-.94-.94-2.06-.94 2.06-2.06.94z\"/><path d=\"M17.41 7.96l-1.37-1.37c-.4-.4-.92-.59-1.43-.59-.52 0-1.04.2-1.43.59L10.3 9.45l-7.72 7.72c-.78.78-.78 2.05 0 2.83L4 21.41c.39.39.9.59 1.41.59.51 0 1.02-.2 1.41-.59l7.78-7.78 2.81-2.81c.8-.78.8-2.07 0-2.86zM5.41 20L4 18.59l7.72-7.72 1.47 1.35L5.41 20z\"/>\n",
              "  </svg>\n",
              "      </button>\n",
              "      \n",
              "  <style>\n",
              "    .colab-df-container {\n",
              "      display:flex;\n",
              "      flex-wrap:wrap;\n",
              "      gap: 12px;\n",
              "    }\n",
              "\n",
              "    .colab-df-convert {\n",
              "      background-color: #E8F0FE;\n",
              "      border: none;\n",
              "      border-radius: 50%;\n",
              "      cursor: pointer;\n",
              "      display: none;\n",
              "      fill: #1967D2;\n",
              "      height: 32px;\n",
              "      padding: 0 0 0 0;\n",
              "      width: 32px;\n",
              "    }\n",
              "\n",
              "    .colab-df-convert:hover {\n",
              "      background-color: #E2EBFA;\n",
              "      box-shadow: 0px 1px 2px rgba(60, 64, 67, 0.3), 0px 1px 3px 1px rgba(60, 64, 67, 0.15);\n",
              "      fill: #174EA6;\n",
              "    }\n",
              "\n",
              "    [theme=dark] .colab-df-convert {\n",
              "      background-color: #3B4455;\n",
              "      fill: #D2E3FC;\n",
              "    }\n",
              "\n",
              "    [theme=dark] .colab-df-convert:hover {\n",
              "      background-color: #434B5C;\n",
              "      box-shadow: 0px 1px 3px 1px rgba(0, 0, 0, 0.15);\n",
              "      filter: drop-shadow(0px 1px 2px rgba(0, 0, 0, 0.3));\n",
              "      fill: #FFFFFF;\n",
              "    }\n",
              "  </style>\n",
              "\n",
              "      <script>\n",
              "        const buttonEl =\n",
              "          document.querySelector('#df-c8f59e32-68e8-486c-8833-cf40545f12ba button.colab-df-convert');\n",
              "        buttonEl.style.display =\n",
              "          google.colab.kernel.accessAllowed ? 'block' : 'none';\n",
              "\n",
              "        async function convertToInteractive(key) {\n",
              "          const element = document.querySelector('#df-c8f59e32-68e8-486c-8833-cf40545f12ba');\n",
              "          const dataTable =\n",
              "            await google.colab.kernel.invokeFunction('convertToInteractive',\n",
              "                                                     [key], {});\n",
              "          if (!dataTable) return;\n",
              "\n",
              "          const docLinkHtml = 'Like what you see? Visit the ' +\n",
              "            '<a target=\"_blank\" href=https://colab.research.google.com/notebooks/data_table.ipynb>data table notebook</a>'\n",
              "            + ' to learn more about interactive tables.';\n",
              "          element.innerHTML = '';\n",
              "          dataTable['output_type'] = 'display_data';\n",
              "          await google.colab.output.renderOutput(dataTable, element);\n",
              "          const docLink = document.createElement('div');\n",
              "          docLink.innerHTML = docLinkHtml;\n",
              "          element.appendChild(docLink);\n",
              "        }\n",
              "      </script>\n",
              "    </div>\n",
              "  </div>\n",
              "  "
            ]
          },
          "metadata": {},
          "execution_count": 15
        }
      ]
    },
    {
      "cell_type": "code",
      "source": [
        "train_table_concat = pd.concat([train_table,train_table1], axis = 0)\n",
        "train_table_concat"
      ],
      "metadata": {
        "colab": {
          "base_uri": "https://localhost:8080/",
          "height": 423
        },
        "id": "mfYMgUMsf_VI",
        "outputId": "476b7b4c-d922-434d-f5a0-cda011e69f7c"
      },
      "execution_count": 16,
      "outputs": [
        {
          "output_type": "execute_result",
          "data": {
            "text/plain": [
              "                                                sentence      label\n",
              "0                                   엄마 왜 종남이만 많이 줘? 내거야.  dysphoria\n",
              "1                                             또 그놈의 잔소리.  dysphoria\n",
              "2                                           너한테 무슨말 안하디?    neutral\n",
              "3                                   아, 오빠만 보면 삘이팍! 온다구요.   euphoria\n",
              "4      태워주긴 뭘 태워줘? 걸어서 가. 부영이 앞으로 언니 신경 안쓰이게 니할일 딱딱 하...  dysphoria\n",
              "...                                                  ...        ...\n",
              "99352  내가 게을러서 다른 방법을 아직 생각하진 못했어. 댄스 동호회는 좀 괜찮은 것 같은...  dysphoria\n",
              "99353       은행 대출이 막혀서 생활비를 구할 수가 없어. 이제 어떻게 살아야 하나 막막해.  dysphoria\n",
              "99354                          당장 내일 밥은 어떡하고 내 병원비는 어쩌지.  dysphoria\n",
              "99355            자식들은 키워 준 은혜도 모르고 내게 오지도 않네. 너무 외롭고 슬퍼.  dysphoria\n",
              "99356   응 이제 다들 독립해가지고 명절 아니면 찾아오질 않아. 안부전화라도 해주면 좋을 텐데.  dysphoria\n",
              "\n",
              "[96421 rows x 2 columns]"
            ],
            "text/html": [
              "\n",
              "  <div id=\"df-0a3654e5-38d5-4dc0-9822-69ec51bdcd9f\">\n",
              "    <div class=\"colab-df-container\">\n",
              "      <div>\n",
              "<style scoped>\n",
              "    .dataframe tbody tr th:only-of-type {\n",
              "        vertical-align: middle;\n",
              "    }\n",
              "\n",
              "    .dataframe tbody tr th {\n",
              "        vertical-align: top;\n",
              "    }\n",
              "\n",
              "    .dataframe thead th {\n",
              "        text-align: right;\n",
              "    }\n",
              "</style>\n",
              "<table border=\"1\" class=\"dataframe\">\n",
              "  <thead>\n",
              "    <tr style=\"text-align: right;\">\n",
              "      <th></th>\n",
              "      <th>sentence</th>\n",
              "      <th>label</th>\n",
              "    </tr>\n",
              "  </thead>\n",
              "  <tbody>\n",
              "    <tr>\n",
              "      <th>0</th>\n",
              "      <td>엄마 왜 종남이만 많이 줘? 내거야.</td>\n",
              "      <td>dysphoria</td>\n",
              "    </tr>\n",
              "    <tr>\n",
              "      <th>1</th>\n",
              "      <td>또 그놈의 잔소리.</td>\n",
              "      <td>dysphoria</td>\n",
              "    </tr>\n",
              "    <tr>\n",
              "      <th>2</th>\n",
              "      <td>너한테 무슨말 안하디?</td>\n",
              "      <td>neutral</td>\n",
              "    </tr>\n",
              "    <tr>\n",
              "      <th>3</th>\n",
              "      <td>아, 오빠만 보면 삘이팍! 온다구요.</td>\n",
              "      <td>euphoria</td>\n",
              "    </tr>\n",
              "    <tr>\n",
              "      <th>4</th>\n",
              "      <td>태워주긴 뭘 태워줘? 걸어서 가. 부영이 앞으로 언니 신경 안쓰이게 니할일 딱딱 하...</td>\n",
              "      <td>dysphoria</td>\n",
              "    </tr>\n",
              "    <tr>\n",
              "      <th>...</th>\n",
              "      <td>...</td>\n",
              "      <td>...</td>\n",
              "    </tr>\n",
              "    <tr>\n",
              "      <th>99352</th>\n",
              "      <td>내가 게을러서 다른 방법을 아직 생각하진 못했어. 댄스 동호회는 좀 괜찮은 것 같은...</td>\n",
              "      <td>dysphoria</td>\n",
              "    </tr>\n",
              "    <tr>\n",
              "      <th>99353</th>\n",
              "      <td>은행 대출이 막혀서 생활비를 구할 수가 없어. 이제 어떻게 살아야 하나 막막해.</td>\n",
              "      <td>dysphoria</td>\n",
              "    </tr>\n",
              "    <tr>\n",
              "      <th>99354</th>\n",
              "      <td>당장 내일 밥은 어떡하고 내 병원비는 어쩌지.</td>\n",
              "      <td>dysphoria</td>\n",
              "    </tr>\n",
              "    <tr>\n",
              "      <th>99355</th>\n",
              "      <td>자식들은 키워 준 은혜도 모르고 내게 오지도 않네. 너무 외롭고 슬퍼.</td>\n",
              "      <td>dysphoria</td>\n",
              "    </tr>\n",
              "    <tr>\n",
              "      <th>99356</th>\n",
              "      <td>응 이제 다들 독립해가지고 명절 아니면 찾아오질 않아. 안부전화라도 해주면 좋을 텐데.</td>\n",
              "      <td>dysphoria</td>\n",
              "    </tr>\n",
              "  </tbody>\n",
              "</table>\n",
              "<p>96421 rows × 2 columns</p>\n",
              "</div>\n",
              "      <button class=\"colab-df-convert\" onclick=\"convertToInteractive('df-0a3654e5-38d5-4dc0-9822-69ec51bdcd9f')\"\n",
              "              title=\"Convert this dataframe to an interactive table.\"\n",
              "              style=\"display:none;\">\n",
              "        \n",
              "  <svg xmlns=\"http://www.w3.org/2000/svg\" height=\"24px\"viewBox=\"0 0 24 24\"\n",
              "       width=\"24px\">\n",
              "    <path d=\"M0 0h24v24H0V0z\" fill=\"none\"/>\n",
              "    <path d=\"M18.56 5.44l.94 2.06.94-2.06 2.06-.94-2.06-.94-.94-2.06-.94 2.06-2.06.94zm-11 1L8.5 8.5l.94-2.06 2.06-.94-2.06-.94L8.5 2.5l-.94 2.06-2.06.94zm10 10l.94 2.06.94-2.06 2.06-.94-2.06-.94-.94-2.06-.94 2.06-2.06.94z\"/><path d=\"M17.41 7.96l-1.37-1.37c-.4-.4-.92-.59-1.43-.59-.52 0-1.04.2-1.43.59L10.3 9.45l-7.72 7.72c-.78.78-.78 2.05 0 2.83L4 21.41c.39.39.9.59 1.41.59.51 0 1.02-.2 1.41-.59l7.78-7.78 2.81-2.81c.8-.78.8-2.07 0-2.86zM5.41 20L4 18.59l7.72-7.72 1.47 1.35L5.41 20z\"/>\n",
              "  </svg>\n",
              "      </button>\n",
              "      \n",
              "  <style>\n",
              "    .colab-df-container {\n",
              "      display:flex;\n",
              "      flex-wrap:wrap;\n",
              "      gap: 12px;\n",
              "    }\n",
              "\n",
              "    .colab-df-convert {\n",
              "      background-color: #E8F0FE;\n",
              "      border: none;\n",
              "      border-radius: 50%;\n",
              "      cursor: pointer;\n",
              "      display: none;\n",
              "      fill: #1967D2;\n",
              "      height: 32px;\n",
              "      padding: 0 0 0 0;\n",
              "      width: 32px;\n",
              "    }\n",
              "\n",
              "    .colab-df-convert:hover {\n",
              "      background-color: #E2EBFA;\n",
              "      box-shadow: 0px 1px 2px rgba(60, 64, 67, 0.3), 0px 1px 3px 1px rgba(60, 64, 67, 0.15);\n",
              "      fill: #174EA6;\n",
              "    }\n",
              "\n",
              "    [theme=dark] .colab-df-convert {\n",
              "      background-color: #3B4455;\n",
              "      fill: #D2E3FC;\n",
              "    }\n",
              "\n",
              "    [theme=dark] .colab-df-convert:hover {\n",
              "      background-color: #434B5C;\n",
              "      box-shadow: 0px 1px 3px 1px rgba(0, 0, 0, 0.15);\n",
              "      filter: drop-shadow(0px 1px 2px rgba(0, 0, 0, 0.3));\n",
              "      fill: #FFFFFF;\n",
              "    }\n",
              "  </style>\n",
              "\n",
              "      <script>\n",
              "        const buttonEl =\n",
              "          document.querySelector('#df-0a3654e5-38d5-4dc0-9822-69ec51bdcd9f button.colab-df-convert');\n",
              "        buttonEl.style.display =\n",
              "          google.colab.kernel.accessAllowed ? 'block' : 'none';\n",
              "\n",
              "        async function convertToInteractive(key) {\n",
              "          const element = document.querySelector('#df-0a3654e5-38d5-4dc0-9822-69ec51bdcd9f');\n",
              "          const dataTable =\n",
              "            await google.colab.kernel.invokeFunction('convertToInteractive',\n",
              "                                                     [key], {});\n",
              "          if (!dataTable) return;\n",
              "\n",
              "          const docLinkHtml = 'Like what you see? Visit the ' +\n",
              "            '<a target=\"_blank\" href=https://colab.research.google.com/notebooks/data_table.ipynb>data table notebook</a>'\n",
              "            + ' to learn more about interactive tables.';\n",
              "          element.innerHTML = '';\n",
              "          dataTable['output_type'] = 'display_data';\n",
              "          await google.colab.output.renderOutput(dataTable, element);\n",
              "          const docLink = document.createElement('div');\n",
              "          docLink.innerHTML = docLinkHtml;\n",
              "          element.appendChild(docLink);\n",
              "        }\n",
              "      </script>\n",
              "    </div>\n",
              "  </div>\n",
              "  "
            ]
          },
          "metadata": {},
          "execution_count": 16
        }
      ]
    },
    {
      "cell_type": "code",
      "source": [
        "# test_table=pd.read_csv('/content/gdrive/MyDrive/대회/감정분석 대회/SGwannabe_validation_set_2936.csv')\n",
        "# test_table = test_table[['sentence', 'label']] \n",
        "# test_table \n"
      ],
      "metadata": {
        "colab": {
          "base_uri": "https://localhost:8080/",
          "height": 423
        },
        "id": "pw_EA148pME-",
        "outputId": "1dec7ea9-6167-4b86-83d6-d7ed3ccd308f"
      },
      "execution_count": 164,
      "outputs": [
        {
          "output_type": "execute_result",
          "data": {
            "text/plain": [
              "                                               sentence      label\n",
              "0                                                 같이 가.   euphoria\n",
              "1     이런식으로 가르치니 발전이 없죠. 격투기라는게 말 그대로 싸우는 기술인데, 실전에 ...  dysphoria\n",
              "2                                                너 괜찮니?   euphoria\n",
              "3               딸이 둘인가 있었는데...찾을려고 맘먹으면 경찰이 왜 못찾겠냐만은...  dysphoria\n",
              "4           사채 썼다며. 아주 떡대같은 놈들이 찾아와서 협박하고 가드라. 모르는 소리야?  dysphoria\n",
              "...                                                 ...        ...\n",
              "2931                                               알았어.  dysphoria\n",
              "2932                        그래? 그럼 내가 올라가서 음식이라도 좀 해줄까?  dysphoria\n",
              "2933                                       무슨 일로 집합시켰어?    neutral\n",
              "2934                                      부킹해서 첨만난게 아냐?  dysphoria\n",
              "2935                             겁나서 못먹겠어. 들어가면 나올거 아냐.  dysphoria\n",
              "\n",
              "[2936 rows x 2 columns]"
            ],
            "text/html": [
              "\n",
              "  <div id=\"df-77d603ea-9301-4651-a6cd-6a7809967180\">\n",
              "    <div class=\"colab-df-container\">\n",
              "      <div>\n",
              "<style scoped>\n",
              "    .dataframe tbody tr th:only-of-type {\n",
              "        vertical-align: middle;\n",
              "    }\n",
              "\n",
              "    .dataframe tbody tr th {\n",
              "        vertical-align: top;\n",
              "    }\n",
              "\n",
              "    .dataframe thead th {\n",
              "        text-align: right;\n",
              "    }\n",
              "</style>\n",
              "<table border=\"1\" class=\"dataframe\">\n",
              "  <thead>\n",
              "    <tr style=\"text-align: right;\">\n",
              "      <th></th>\n",
              "      <th>sentence</th>\n",
              "      <th>label</th>\n",
              "    </tr>\n",
              "  </thead>\n",
              "  <tbody>\n",
              "    <tr>\n",
              "      <th>0</th>\n",
              "      <td>같이 가.</td>\n",
              "      <td>euphoria</td>\n",
              "    </tr>\n",
              "    <tr>\n",
              "      <th>1</th>\n",
              "      <td>이런식으로 가르치니 발전이 없죠. 격투기라는게 말 그대로 싸우는 기술인데, 실전에 ...</td>\n",
              "      <td>dysphoria</td>\n",
              "    </tr>\n",
              "    <tr>\n",
              "      <th>2</th>\n",
              "      <td>너 괜찮니?</td>\n",
              "      <td>euphoria</td>\n",
              "    </tr>\n",
              "    <tr>\n",
              "      <th>3</th>\n",
              "      <td>딸이 둘인가 있었는데...찾을려고 맘먹으면 경찰이 왜 못찾겠냐만은...</td>\n",
              "      <td>dysphoria</td>\n",
              "    </tr>\n",
              "    <tr>\n",
              "      <th>4</th>\n",
              "      <td>사채 썼다며. 아주 떡대같은 놈들이 찾아와서 협박하고 가드라. 모르는 소리야?</td>\n",
              "      <td>dysphoria</td>\n",
              "    </tr>\n",
              "    <tr>\n",
              "      <th>...</th>\n",
              "      <td>...</td>\n",
              "      <td>...</td>\n",
              "    </tr>\n",
              "    <tr>\n",
              "      <th>2931</th>\n",
              "      <td>알았어.</td>\n",
              "      <td>dysphoria</td>\n",
              "    </tr>\n",
              "    <tr>\n",
              "      <th>2932</th>\n",
              "      <td>그래? 그럼 내가 올라가서 음식이라도 좀 해줄까?</td>\n",
              "      <td>dysphoria</td>\n",
              "    </tr>\n",
              "    <tr>\n",
              "      <th>2933</th>\n",
              "      <td>무슨 일로 집합시켰어?</td>\n",
              "      <td>neutral</td>\n",
              "    </tr>\n",
              "    <tr>\n",
              "      <th>2934</th>\n",
              "      <td>부킹해서 첨만난게 아냐?</td>\n",
              "      <td>dysphoria</td>\n",
              "    </tr>\n",
              "    <tr>\n",
              "      <th>2935</th>\n",
              "      <td>겁나서 못먹겠어. 들어가면 나올거 아냐.</td>\n",
              "      <td>dysphoria</td>\n",
              "    </tr>\n",
              "  </tbody>\n",
              "</table>\n",
              "<p>2936 rows × 2 columns</p>\n",
              "</div>\n",
              "      <button class=\"colab-df-convert\" onclick=\"convertToInteractive('df-77d603ea-9301-4651-a6cd-6a7809967180')\"\n",
              "              title=\"Convert this dataframe to an interactive table.\"\n",
              "              style=\"display:none;\">\n",
              "        \n",
              "  <svg xmlns=\"http://www.w3.org/2000/svg\" height=\"24px\"viewBox=\"0 0 24 24\"\n",
              "       width=\"24px\">\n",
              "    <path d=\"M0 0h24v24H0V0z\" fill=\"none\"/>\n",
              "    <path d=\"M18.56 5.44l.94 2.06.94-2.06 2.06-.94-2.06-.94-.94-2.06-.94 2.06-2.06.94zm-11 1L8.5 8.5l.94-2.06 2.06-.94-2.06-.94L8.5 2.5l-.94 2.06-2.06.94zm10 10l.94 2.06.94-2.06 2.06-.94-2.06-.94-.94-2.06-.94 2.06-2.06.94z\"/><path d=\"M17.41 7.96l-1.37-1.37c-.4-.4-.92-.59-1.43-.59-.52 0-1.04.2-1.43.59L10.3 9.45l-7.72 7.72c-.78.78-.78 2.05 0 2.83L4 21.41c.39.39.9.59 1.41.59.51 0 1.02-.2 1.41-.59l7.78-7.78 2.81-2.81c.8-.78.8-2.07 0-2.86zM5.41 20L4 18.59l7.72-7.72 1.47 1.35L5.41 20z\"/>\n",
              "  </svg>\n",
              "      </button>\n",
              "      \n",
              "  <style>\n",
              "    .colab-df-container {\n",
              "      display:flex;\n",
              "      flex-wrap:wrap;\n",
              "      gap: 12px;\n",
              "    }\n",
              "\n",
              "    .colab-df-convert {\n",
              "      background-color: #E8F0FE;\n",
              "      border: none;\n",
              "      border-radius: 50%;\n",
              "      cursor: pointer;\n",
              "      display: none;\n",
              "      fill: #1967D2;\n",
              "      height: 32px;\n",
              "      padding: 0 0 0 0;\n",
              "      width: 32px;\n",
              "    }\n",
              "\n",
              "    .colab-df-convert:hover {\n",
              "      background-color: #E2EBFA;\n",
              "      box-shadow: 0px 1px 2px rgba(60, 64, 67, 0.3), 0px 1px 3px 1px rgba(60, 64, 67, 0.15);\n",
              "      fill: #174EA6;\n",
              "    }\n",
              "\n",
              "    [theme=dark] .colab-df-convert {\n",
              "      background-color: #3B4455;\n",
              "      fill: #D2E3FC;\n",
              "    }\n",
              "\n",
              "    [theme=dark] .colab-df-convert:hover {\n",
              "      background-color: #434B5C;\n",
              "      box-shadow: 0px 1px 3px 1px rgba(0, 0, 0, 0.15);\n",
              "      filter: drop-shadow(0px 1px 2px rgba(0, 0, 0, 0.3));\n",
              "      fill: #FFFFFF;\n",
              "    }\n",
              "  </style>\n",
              "\n",
              "      <script>\n",
              "        const buttonEl =\n",
              "          document.querySelector('#df-77d603ea-9301-4651-a6cd-6a7809967180 button.colab-df-convert');\n",
              "        buttonEl.style.display =\n",
              "          google.colab.kernel.accessAllowed ? 'block' : 'none';\n",
              "\n",
              "        async function convertToInteractive(key) {\n",
              "          const element = document.querySelector('#df-77d603ea-9301-4651-a6cd-6a7809967180');\n",
              "          const dataTable =\n",
              "            await google.colab.kernel.invokeFunction('convertToInteractive',\n",
              "                                                     [key], {});\n",
              "          if (!dataTable) return;\n",
              "\n",
              "          const docLinkHtml = 'Like what you see? Visit the ' +\n",
              "            '<a target=\"_blank\" href=https://colab.research.google.com/notebooks/data_table.ipynb>data table notebook</a>'\n",
              "            + ' to learn more about interactive tables.';\n",
              "          element.innerHTML = '';\n",
              "          dataTable['output_type'] = 'display_data';\n",
              "          await google.colab.output.renderOutput(dataTable, element);\n",
              "          const docLink = document.createElement('div');\n",
              "          docLink.innerHTML = docLinkHtml;\n",
              "          element.appendChild(docLink);\n",
              "        }\n",
              "      </script>\n",
              "    </div>\n",
              "  </div>\n",
              "  "
            ]
          },
          "metadata": {},
          "execution_count": 164
        }
      ]
    },
    {
      "cell_type": "code",
      "source": [
        "test_table=pd.read_csv('/content/gdrive/MyDrive/대회/감정분석 대회/SGwannabe_validation_set_2936.csv')\n",
        "test_table = test_table[['sentence','context', 'target_speaker_ctx','other_speaker_ctx',\t 'label']] \n",
        "test_table \n"
      ],
      "metadata": {
        "colab": {
          "base_uri": "https://localhost:8080/",
          "height": 606
        },
        "id": "NGy5MzDgz3Y_",
        "outputId": "08b767fb-36e3-46f7-b1e7-22ef28a37bc8"
      },
      "execution_count": 10,
      "outputs": [
        {
          "output_type": "execute_result",
          "data": {
            "text/plain": [
              "                                               sentence  \\\n",
              "0                                                 같이 가.   \n",
              "1     이런식으로 가르치니 발전이 없죠. 격투기라는게 말 그대로 싸우는 기술인데, 실전에 ...   \n",
              "2                                                너 괜찮니?   \n",
              "3               딸이 둘인가 있었는데...찾을려고 맘먹으면 경찰이 왜 못찾겠냐만은...   \n",
              "4           사채 썼다며. 아주 떡대같은 놈들이 찾아와서 협박하고 가드라. 모르는 소리야?   \n",
              "...                                                 ...   \n",
              "2931                                               알았어.   \n",
              "2932                        그래? 그럼 내가 올라가서 음식이라도 좀 해줄까?   \n",
              "2933                                       무슨 일로 집합시켰어?   \n",
              "2934                                      부킹해서 첨만난게 아냐?   \n",
              "2935                             겁나서 못먹겠어. 들어가면 나올거 아냐.   \n",
              "\n",
              "                                                context  \\\n",
              "0                                            현찰 이미 좀 취한   \n",
              "1     관장안고 누운채 땀뻘뻘 흘리며 애쓰고 있는 재수. 서로 재는데, 이상한테 맞던 장면...   \n",
              "2               신문보는 범인. 찻잔놓는 솔이. 이층에서 어영의 노랫소리. 슥보는 범인   \n",
              "3                                                   NaN   \n",
              "4                                                   NaN   \n",
              "...                                                 ...   \n",
              "2931                                                NaN   \n",
              "2932                                                NaN   \n",
              "2933                              기다리고선 건강. 급히 오는 현찰 이상   \n",
              "2934                                 어영. 친구2 아줌마1,2 둘러싼   \n",
              "2935                        오징어다리 빨면서 엎드려 노트북으로 주식보는 건강   \n",
              "\n",
              "                                     target_speaker_ctx  \\\n",
              "0      그래. 그래서 니 별명이 딱지대장이었잖아. 어떻게 그렇게 딱지를 잘치는지. 맨날 ...   \n",
              "1                                          지금 하는 중이거든요.   \n",
              "2                                               벌써 나가게?   \n",
              "3      남들은 고시패스하면 편한길부터 갈려고 하는데, 나중에라도 후회하지 않겠냐? 니엄마...   \n",
              "4      나 지금 최대한 인내하고 있다. 지금부터 내가 묻는말에 거짓말 한개없이 솔직하게 ...   \n",
              "...                                                 ...   \n",
              "2931                뭐하러 쓸데없는 짓은 해? 만나서 얘기해. 내가 그쪽으로 갈게.   \n",
              "2932   대체 무슨 일인가? 무슨 일인데? 자네가 이시간에 왜 거기서 술판을 벌이고 있어?...   \n",
              "2933                                                      \n",
              "2934                                                      \n",
              "2935         왜 이렇게 안올라? 팍팍 좀 올라주지. 한방이면 끝나는데, 어엉. 문열렸어.   \n",
              "\n",
              "                                      other_speaker_ctx      label  \n",
              "0      내가? 맞어, 그랬어. 생각난다. 친구들하고 돈으로 바꿨지. 저축. 너두 같이 줏...   euphoria  \n",
              "1                  버티지만 말고 공격 들어오세요. 이런식으로 하니까 발전이 없는거,  dysphoria  \n",
              "2      먼일인지 아주 신바람이 났시유. 예 아부지. 일찍 일어나서 운동도 하고 책상 정리...   euphoria  \n",
              "3      제가 사시 본건 경찰일을 더 잘하기 위해서지, 다른뜻 없습니다. 솔직히 합격하고 ...  dysphoria  \n",
              "4      오빠, 무슨 일있어? 아까 전화 목소리도 안좋던데. 무슨 빚? 나 빚같은거 없어....  dysphoria  \n",
              "...                                                 ...        ...  \n",
              "2931                       쓸데없는 짓? 좀있다 이집 딸내미 나가면 그때 와.  dysphoria  \n",
              "2932   그럴일이 있습니다. 여자신발 맞습니다. 사실은, 우리 부장검사님이 부부싸움을 하셨...  dysphoria  \n",
              "2933   군기들이 왕창 빠졌구만. 형을 길바닥에서 기다리게 하고 말야. 들어가서 기다리지....    neutral  \n",
              "2934   왜 아직 식을 안하지? 야야, 신랑이 아직 안왔댄다. 뭐? 혹시 도망간거 아니니?...  dysphoria  \n",
              "2935                      안에 있냐? 쯧쯧... 꼬라지 봐라. 밥은 먹었다니?  dysphoria  \n",
              "\n",
              "[2936 rows x 5 columns]"
            ],
            "text/html": [
              "\n",
              "  <div id=\"df-da9b21d1-1c98-4f7f-b7c5-d29b11cb6675\">\n",
              "    <div class=\"colab-df-container\">\n",
              "      <div>\n",
              "<style scoped>\n",
              "    .dataframe tbody tr th:only-of-type {\n",
              "        vertical-align: middle;\n",
              "    }\n",
              "\n",
              "    .dataframe tbody tr th {\n",
              "        vertical-align: top;\n",
              "    }\n",
              "\n",
              "    .dataframe thead th {\n",
              "        text-align: right;\n",
              "    }\n",
              "</style>\n",
              "<table border=\"1\" class=\"dataframe\">\n",
              "  <thead>\n",
              "    <tr style=\"text-align: right;\">\n",
              "      <th></th>\n",
              "      <th>sentence</th>\n",
              "      <th>context</th>\n",
              "      <th>target_speaker_ctx</th>\n",
              "      <th>other_speaker_ctx</th>\n",
              "      <th>label</th>\n",
              "    </tr>\n",
              "  </thead>\n",
              "  <tbody>\n",
              "    <tr>\n",
              "      <th>0</th>\n",
              "      <td>같이 가.</td>\n",
              "      <td>현찰 이미 좀 취한</td>\n",
              "      <td>그래. 그래서 니 별명이 딱지대장이었잖아. 어떻게 그렇게 딱지를 잘치는지. 맨날 ...</td>\n",
              "      <td>내가? 맞어, 그랬어. 생각난다. 친구들하고 돈으로 바꿨지. 저축. 너두 같이 줏...</td>\n",
              "      <td>euphoria</td>\n",
              "    </tr>\n",
              "    <tr>\n",
              "      <th>1</th>\n",
              "      <td>이런식으로 가르치니 발전이 없죠. 격투기라는게 말 그대로 싸우는 기술인데, 실전에 ...</td>\n",
              "      <td>관장안고 누운채 땀뻘뻘 흘리며 애쓰고 있는 재수. 서로 재는데, 이상한테 맞던 장면...</td>\n",
              "      <td>지금 하는 중이거든요.</td>\n",
              "      <td>버티지만 말고 공격 들어오세요. 이런식으로 하니까 발전이 없는거,</td>\n",
              "      <td>dysphoria</td>\n",
              "    </tr>\n",
              "    <tr>\n",
              "      <th>2</th>\n",
              "      <td>너 괜찮니?</td>\n",
              "      <td>신문보는 범인. 찻잔놓는 솔이. 이층에서 어영의 노랫소리. 슥보는 범인</td>\n",
              "      <td>벌써 나가게?</td>\n",
              "      <td>먼일인지 아주 신바람이 났시유. 예 아부지. 일찍 일어나서 운동도 하고 책상 정리...</td>\n",
              "      <td>euphoria</td>\n",
              "    </tr>\n",
              "    <tr>\n",
              "      <th>3</th>\n",
              "      <td>딸이 둘인가 있었는데...찾을려고 맘먹으면 경찰이 왜 못찾겠냐만은...</td>\n",
              "      <td>NaN</td>\n",
              "      <td>남들은 고시패스하면 편한길부터 갈려고 하는데, 나중에라도 후회하지 않겠냐? 니엄마...</td>\n",
              "      <td>제가 사시 본건 경찰일을 더 잘하기 위해서지, 다른뜻 없습니다. 솔직히 합격하고 ...</td>\n",
              "      <td>dysphoria</td>\n",
              "    </tr>\n",
              "    <tr>\n",
              "      <th>4</th>\n",
              "      <td>사채 썼다며. 아주 떡대같은 놈들이 찾아와서 협박하고 가드라. 모르는 소리야?</td>\n",
              "      <td>NaN</td>\n",
              "      <td>나 지금 최대한 인내하고 있다. 지금부터 내가 묻는말에 거짓말 한개없이 솔직하게 ...</td>\n",
              "      <td>오빠, 무슨 일있어? 아까 전화 목소리도 안좋던데. 무슨 빚? 나 빚같은거 없어....</td>\n",
              "      <td>dysphoria</td>\n",
              "    </tr>\n",
              "    <tr>\n",
              "      <th>...</th>\n",
              "      <td>...</td>\n",
              "      <td>...</td>\n",
              "      <td>...</td>\n",
              "      <td>...</td>\n",
              "      <td>...</td>\n",
              "    </tr>\n",
              "    <tr>\n",
              "      <th>2931</th>\n",
              "      <td>알았어.</td>\n",
              "      <td>NaN</td>\n",
              "      <td>뭐하러 쓸데없는 짓은 해? 만나서 얘기해. 내가 그쪽으로 갈게.</td>\n",
              "      <td>쓸데없는 짓? 좀있다 이집 딸내미 나가면 그때 와.</td>\n",
              "      <td>dysphoria</td>\n",
              "    </tr>\n",
              "    <tr>\n",
              "      <th>2932</th>\n",
              "      <td>그래? 그럼 내가 올라가서 음식이라도 좀 해줄까?</td>\n",
              "      <td>NaN</td>\n",
              "      <td>대체 무슨 일인가? 무슨 일인데? 자네가 이시간에 왜 거기서 술판을 벌이고 있어?...</td>\n",
              "      <td>그럴일이 있습니다. 여자신발 맞습니다. 사실은, 우리 부장검사님이 부부싸움을 하셨...</td>\n",
              "      <td>dysphoria</td>\n",
              "    </tr>\n",
              "    <tr>\n",
              "      <th>2933</th>\n",
              "      <td>무슨 일로 집합시켰어?</td>\n",
              "      <td>기다리고선 건강. 급히 오는 현찰 이상</td>\n",
              "      <td></td>\n",
              "      <td>군기들이 왕창 빠졌구만. 형을 길바닥에서 기다리게 하고 말야. 들어가서 기다리지....</td>\n",
              "      <td>neutral</td>\n",
              "    </tr>\n",
              "    <tr>\n",
              "      <th>2934</th>\n",
              "      <td>부킹해서 첨만난게 아냐?</td>\n",
              "      <td>어영. 친구2 아줌마1,2 둘러싼</td>\n",
              "      <td></td>\n",
              "      <td>왜 아직 식을 안하지? 야야, 신랑이 아직 안왔댄다. 뭐? 혹시 도망간거 아니니?...</td>\n",
              "      <td>dysphoria</td>\n",
              "    </tr>\n",
              "    <tr>\n",
              "      <th>2935</th>\n",
              "      <td>겁나서 못먹겠어. 들어가면 나올거 아냐.</td>\n",
              "      <td>오징어다리 빨면서 엎드려 노트북으로 주식보는 건강</td>\n",
              "      <td>왜 이렇게 안올라? 팍팍 좀 올라주지. 한방이면 끝나는데, 어엉. 문열렸어.</td>\n",
              "      <td>안에 있냐? 쯧쯧... 꼬라지 봐라. 밥은 먹었다니?</td>\n",
              "      <td>dysphoria</td>\n",
              "    </tr>\n",
              "  </tbody>\n",
              "</table>\n",
              "<p>2936 rows × 5 columns</p>\n",
              "</div>\n",
              "      <button class=\"colab-df-convert\" onclick=\"convertToInteractive('df-da9b21d1-1c98-4f7f-b7c5-d29b11cb6675')\"\n",
              "              title=\"Convert this dataframe to an interactive table.\"\n",
              "              style=\"display:none;\">\n",
              "        \n",
              "  <svg xmlns=\"http://www.w3.org/2000/svg\" height=\"24px\"viewBox=\"0 0 24 24\"\n",
              "       width=\"24px\">\n",
              "    <path d=\"M0 0h24v24H0V0z\" fill=\"none\"/>\n",
              "    <path d=\"M18.56 5.44l.94 2.06.94-2.06 2.06-.94-2.06-.94-.94-2.06-.94 2.06-2.06.94zm-11 1L8.5 8.5l.94-2.06 2.06-.94-2.06-.94L8.5 2.5l-.94 2.06-2.06.94zm10 10l.94 2.06.94-2.06 2.06-.94-2.06-.94-.94-2.06-.94 2.06-2.06.94z\"/><path d=\"M17.41 7.96l-1.37-1.37c-.4-.4-.92-.59-1.43-.59-.52 0-1.04.2-1.43.59L10.3 9.45l-7.72 7.72c-.78.78-.78 2.05 0 2.83L4 21.41c.39.39.9.59 1.41.59.51 0 1.02-.2 1.41-.59l7.78-7.78 2.81-2.81c.8-.78.8-2.07 0-2.86zM5.41 20L4 18.59l7.72-7.72 1.47 1.35L5.41 20z\"/>\n",
              "  </svg>\n",
              "      </button>\n",
              "      \n",
              "  <style>\n",
              "    .colab-df-container {\n",
              "      display:flex;\n",
              "      flex-wrap:wrap;\n",
              "      gap: 12px;\n",
              "    }\n",
              "\n",
              "    .colab-df-convert {\n",
              "      background-color: #E8F0FE;\n",
              "      border: none;\n",
              "      border-radius: 50%;\n",
              "      cursor: pointer;\n",
              "      display: none;\n",
              "      fill: #1967D2;\n",
              "      height: 32px;\n",
              "      padding: 0 0 0 0;\n",
              "      width: 32px;\n",
              "    }\n",
              "\n",
              "    .colab-df-convert:hover {\n",
              "      background-color: #E2EBFA;\n",
              "      box-shadow: 0px 1px 2px rgba(60, 64, 67, 0.3), 0px 1px 3px 1px rgba(60, 64, 67, 0.15);\n",
              "      fill: #174EA6;\n",
              "    }\n",
              "\n",
              "    [theme=dark] .colab-df-convert {\n",
              "      background-color: #3B4455;\n",
              "      fill: #D2E3FC;\n",
              "    }\n",
              "\n",
              "    [theme=dark] .colab-df-convert:hover {\n",
              "      background-color: #434B5C;\n",
              "      box-shadow: 0px 1px 3px 1px rgba(0, 0, 0, 0.15);\n",
              "      filter: drop-shadow(0px 1px 2px rgba(0, 0, 0, 0.3));\n",
              "      fill: #FFFFFF;\n",
              "    }\n",
              "  </style>\n",
              "\n",
              "      <script>\n",
              "        const buttonEl =\n",
              "          document.querySelector('#df-da9b21d1-1c98-4f7f-b7c5-d29b11cb6675 button.colab-df-convert');\n",
              "        buttonEl.style.display =\n",
              "          google.colab.kernel.accessAllowed ? 'block' : 'none';\n",
              "\n",
              "        async function convertToInteractive(key) {\n",
              "          const element = document.querySelector('#df-da9b21d1-1c98-4f7f-b7c5-d29b11cb6675');\n",
              "          const dataTable =\n",
              "            await google.colab.kernel.invokeFunction('convertToInteractive',\n",
              "                                                     [key], {});\n",
              "          if (!dataTable) return;\n",
              "\n",
              "          const docLinkHtml = 'Like what you see? Visit the ' +\n",
              "            '<a target=\"_blank\" href=https://colab.research.google.com/notebooks/data_table.ipynb>data table notebook</a>'\n",
              "            + ' to learn more about interactive tables.';\n",
              "          element.innerHTML = '';\n",
              "          dataTable['output_type'] = 'display_data';\n",
              "          await google.colab.output.renderOutput(dataTable, element);\n",
              "          const docLink = document.createElement('div');\n",
              "          docLink.innerHTML = docLinkHtml;\n",
              "          element.appendChild(docLink);\n",
              "        }\n",
              "      </script>\n",
              "    </div>\n",
              "  </div>\n",
              "  "
            ]
          },
          "metadata": {},
          "execution_count": 10
        }
      ]
    },
    {
      "cell_type": "code",
      "source": [
        "train_table_concat['label'].value_counts()"
      ],
      "metadata": {
        "colab": {
          "base_uri": "https://localhost:8080/",
          "height": 174
        },
        "id": "zxmZh4c6pr2F",
        "outputId": "86b6a0af-1c37-4384-ec6c-23d9eabef841"
      },
      "execution_count": 11,
      "outputs": [
        {
          "output_type": "error",
          "ename": "NameError",
          "evalue": "ignored",
          "traceback": [
            "\u001b[0;31m---------------------------------------------------------------------------\u001b[0m",
            "\u001b[0;31mNameError\u001b[0m                                 Traceback (most recent call last)",
            "\u001b[0;32m<ipython-input-11-ca75e216b539>\u001b[0m in \u001b[0;36m<module>\u001b[0;34m\u001b[0m\n\u001b[0;32m----> 1\u001b[0;31m \u001b[0mtrain_table_concat\u001b[0m\u001b[0;34m[\u001b[0m\u001b[0;34m'label'\u001b[0m\u001b[0;34m]\u001b[0m\u001b[0;34m.\u001b[0m\u001b[0mvalue_counts\u001b[0m\u001b[0;34m(\u001b[0m\u001b[0;34m)\u001b[0m\u001b[0;34m\u001b[0m\u001b[0;34m\u001b[0m\u001b[0m\n\u001b[0m",
            "\u001b[0;31mNameError\u001b[0m: name 'train_table_concat' is not defined"
          ]
        }
      ]
    },
    {
      "cell_type": "code",
      "source": [],
      "metadata": {
        "colab": {
          "base_uri": "https://localhost:8080/"
        },
        "id": "_icBa-w8oHrP",
        "outputId": "a7574bbe-238b-405e-ed50-b0d42c21e36c"
      },
      "execution_count": 41,
      "outputs": [
        {
          "output_type": "execute_result",
          "data": {
            "text/plain": [
              "document              0\n",
              "context               0\n",
              "target_speaker_ctx    0\n",
              "other_speaker_ctx     0\n",
              "label                 0\n",
              "dtype: int64"
            ]
          },
          "metadata": {},
          "execution_count": 41
        }
      ]
    },
    {
      "cell_type": "code",
      "source": [
        "train_table_filter =  train_table.copy()\n",
        "\n",
        "# train_table_filter = train_table_concat.copy()\n",
        "train_label_table_filter = train_table_filter.rename(columns={'sentence_id':'id', 'sentence':'document'})\n",
        "train_label_table_filter = train_label_table_filter.fillna('.')\n",
        "\n",
        "\n",
        "test_table_filter = test_table.copy()\n",
        "test_label_table_filter = test_table_filter.rename(columns={'sentence_id':'id', 'sentence':'document'})\n",
        "test_label_table_filter = test_label_table_filter.fillna('.')\n",
        "train_label_table_filter"
      ],
      "metadata": {
        "id": "AlAZvyq4EuNU",
        "colab": {
          "base_uri": "https://localhost:8080/",
          "height": 554
        },
        "outputId": "7cf3c5c0-97a2-4f9b-8ef9-e1b8c305f41d"
      },
      "execution_count": 40,
      "outputs": [
        {
          "output_type": "execute_result",
          "data": {
            "text/plain": [
              "                                               document  \\\n",
              "0                                  엄마 왜 종남이만 많이 줘? 내거야.   \n",
              "1                                            또 그놈의 잔소리.   \n",
              "2                                          너한테 무슨말 안하디?   \n",
              "3                                  아, 오빠만 보면 삘이팍! 온다구요.   \n",
              "4     태워주긴 뭘 태워줘? 걸어서 가. 부영이 앞으로 언니 신경 안쓰이게 니할일 딱딱 하...   \n",
              "...                                                 ...   \n",
              "4398                                              안잤다니?   \n",
              "4399              자네딸 데려다 직싸게 고생시키면서 두고두고 복수할려고. 이의 없지?   \n",
              "4400                                           응. 들어가라.   \n",
              "4401                이럴때 핸드폰 하나있으면 얼마나 좋아? 나다. 너 지금 어디야?   \n",
              "4402                                         그럴일이 있습니다.   \n",
              "\n",
              "                                                context  \\\n",
              "0                                   상태보면 종남접시에 좀더 많이 담긴   \n",
              "1                     마지못해 반찬꺼내 상차리는 과자. 들오는 순경. 뒤따라 현찰   \n",
              "2                                    저녁먹던중. 들어와 앉는 범인부영   \n",
              "3     할수없이 청난옆에 앉는 건강. 좋아서 얼른 팔짱끼는 청난. 슬쩍 빼내는 건강. 청난...   \n",
              "4               신문보는 범인. 찻잔놓는 솔이. 이층에서 어영의 노랫소리. 슥보는 범인   \n",
              "...                                                 ...   \n",
              "4398  다시 기어들오는 과자. 이상것 놓고, 찾다가 건강 베개맡에 있던 핸펀 발견. 나가려...   \n",
              "4399                                 허겁지겁 들오는 범인. 앉은 순경   \n",
              "4400                         들오는 이상. 현찰은 속상해 애들방앞에 걸터앉은   \n",
              "4401                                  수화기 들고 번호누르는데 부르르   \n",
              "4402                                                  .   \n",
              "\n",
              "                                     target_speaker_ctx  \\\n",
              "0                                                         \n",
              "1      사연을 말하자면 너무 길어서 밤을 새도 모자라니 넘어갑시다. 니가 알지 내가 아냐...   \n",
              "2                                        언니 먹을것좀 해줘야겠다.   \n",
              "3        도련님하고 저하고 삘이 통하네요. 오빠. 아버님, 오빠가 저 이렇게 했어요. 뭐요?   \n",
              "4      벌써 나가게? 너 괜찮니? 쓸데없이. 어영아. 일루 잠깐 앉아봐. 일부러 이럴필요...   \n",
              "...                                                 ...   \n",
              "4398                                                      \n",
              "4399   자네 딸, 비행기 못탔어. 내가 붙잡았어. 지금 우리 아들이랑 같이 있네. 첨엔 ...   \n",
              "4400                                                      \n",
              "4401                                                      \n",
              "4402                                                      \n",
              "\n",
              "                                      other_speaker_ctx      label  \n",
              "0                              자, 똑같이 나눴으니까 싸우지들 말고 먹어.  dysphoria  \n",
              "1      아침에 해가 분명 동쪽에서 뜨던데. 오늘부터 살림연습 들어갔어? 못한다고 딱 잡아...  dysphoria  \n",
              "2                                             요새 힘든가봐요.    neutral  \n",
              "3      문부서지겠다. 그렇게 좋다니? 들어와 앉아. 예 아부지. 아 아닙니다. 내가 언제...   euphoria  \n",
              "4      먼일인지 아주 신바람이 났시유. 예 아부지. 일찍 일어나서 운동도 하고 책상 정리...  dysphoria  \n",
              "...                                                 ...        ...  \n",
              "4398                                 엄마. 아까부터 뭐하고 돌아다녀?    neutral  \n",
              "4399   무슨 일입니까? 전화받자마자 쫓아왔습니다. 그게 무슨 소립니까? 아까 분명 공항이...   euphoria  \n",
              "4400                                      작은형, 아직 안늦었지?    neutral  \n",
              "4401                                                     dysphoria  \n",
              "4402                                         대체 무슨 일인가?  dysphoria  \n",
              "\n",
              "[4403 rows x 5 columns]"
            ],
            "text/html": [
              "\n",
              "  <div id=\"df-5e0d5550-60d3-48ac-8042-522e880243e1\">\n",
              "    <div class=\"colab-df-container\">\n",
              "      <div>\n",
              "<style scoped>\n",
              "    .dataframe tbody tr th:only-of-type {\n",
              "        vertical-align: middle;\n",
              "    }\n",
              "\n",
              "    .dataframe tbody tr th {\n",
              "        vertical-align: top;\n",
              "    }\n",
              "\n",
              "    .dataframe thead th {\n",
              "        text-align: right;\n",
              "    }\n",
              "</style>\n",
              "<table border=\"1\" class=\"dataframe\">\n",
              "  <thead>\n",
              "    <tr style=\"text-align: right;\">\n",
              "      <th></th>\n",
              "      <th>document</th>\n",
              "      <th>context</th>\n",
              "      <th>target_speaker_ctx</th>\n",
              "      <th>other_speaker_ctx</th>\n",
              "      <th>label</th>\n",
              "    </tr>\n",
              "  </thead>\n",
              "  <tbody>\n",
              "    <tr>\n",
              "      <th>0</th>\n",
              "      <td>엄마 왜 종남이만 많이 줘? 내거야.</td>\n",
              "      <td>상태보면 종남접시에 좀더 많이 담긴</td>\n",
              "      <td></td>\n",
              "      <td>자, 똑같이 나눴으니까 싸우지들 말고 먹어.</td>\n",
              "      <td>dysphoria</td>\n",
              "    </tr>\n",
              "    <tr>\n",
              "      <th>1</th>\n",
              "      <td>또 그놈의 잔소리.</td>\n",
              "      <td>마지못해 반찬꺼내 상차리는 과자. 들오는 순경. 뒤따라 현찰</td>\n",
              "      <td>사연을 말하자면 너무 길어서 밤을 새도 모자라니 넘어갑시다. 니가 알지 내가 아냐...</td>\n",
              "      <td>아침에 해가 분명 동쪽에서 뜨던데. 오늘부터 살림연습 들어갔어? 못한다고 딱 잡아...</td>\n",
              "      <td>dysphoria</td>\n",
              "    </tr>\n",
              "    <tr>\n",
              "      <th>2</th>\n",
              "      <td>너한테 무슨말 안하디?</td>\n",
              "      <td>저녁먹던중. 들어와 앉는 범인부영</td>\n",
              "      <td>언니 먹을것좀 해줘야겠다.</td>\n",
              "      <td>요새 힘든가봐요.</td>\n",
              "      <td>neutral</td>\n",
              "    </tr>\n",
              "    <tr>\n",
              "      <th>3</th>\n",
              "      <td>아, 오빠만 보면 삘이팍! 온다구요.</td>\n",
              "      <td>할수없이 청난옆에 앉는 건강. 좋아서 얼른 팔짱끼는 청난. 슬쩍 빼내는 건강. 청난...</td>\n",
              "      <td>도련님하고 저하고 삘이 통하네요. 오빠. 아버님, 오빠가 저 이렇게 했어요. 뭐요?</td>\n",
              "      <td>문부서지겠다. 그렇게 좋다니? 들어와 앉아. 예 아부지. 아 아닙니다. 내가 언제...</td>\n",
              "      <td>euphoria</td>\n",
              "    </tr>\n",
              "    <tr>\n",
              "      <th>4</th>\n",
              "      <td>태워주긴 뭘 태워줘? 걸어서 가. 부영이 앞으로 언니 신경 안쓰이게 니할일 딱딱 하...</td>\n",
              "      <td>신문보는 범인. 찻잔놓는 솔이. 이층에서 어영의 노랫소리. 슥보는 범인</td>\n",
              "      <td>벌써 나가게? 너 괜찮니? 쓸데없이. 어영아. 일루 잠깐 앉아봐. 일부러 이럴필요...</td>\n",
              "      <td>먼일인지 아주 신바람이 났시유. 예 아부지. 일찍 일어나서 운동도 하고 책상 정리...</td>\n",
              "      <td>dysphoria</td>\n",
              "    </tr>\n",
              "    <tr>\n",
              "      <th>...</th>\n",
              "      <td>...</td>\n",
              "      <td>...</td>\n",
              "      <td>...</td>\n",
              "      <td>...</td>\n",
              "      <td>...</td>\n",
              "    </tr>\n",
              "    <tr>\n",
              "      <th>4398</th>\n",
              "      <td>안잤다니?</td>\n",
              "      <td>다시 기어들오는 과자. 이상것 놓고, 찾다가 건강 베개맡에 있던 핸펀 발견. 나가려...</td>\n",
              "      <td></td>\n",
              "      <td>엄마. 아까부터 뭐하고 돌아다녀?</td>\n",
              "      <td>neutral</td>\n",
              "    </tr>\n",
              "    <tr>\n",
              "      <th>4399</th>\n",
              "      <td>자네딸 데려다 직싸게 고생시키면서 두고두고 복수할려고. 이의 없지?</td>\n",
              "      <td>허겁지겁 들오는 범인. 앉은 순경</td>\n",
              "      <td>자네 딸, 비행기 못탔어. 내가 붙잡았어. 지금 우리 아들이랑 같이 있네. 첨엔 ...</td>\n",
              "      <td>무슨 일입니까? 전화받자마자 쫓아왔습니다. 그게 무슨 소립니까? 아까 분명 공항이...</td>\n",
              "      <td>euphoria</td>\n",
              "    </tr>\n",
              "    <tr>\n",
              "      <th>4400</th>\n",
              "      <td>응. 들어가라.</td>\n",
              "      <td>들오는 이상. 현찰은 속상해 애들방앞에 걸터앉은</td>\n",
              "      <td></td>\n",
              "      <td>작은형, 아직 안늦었지?</td>\n",
              "      <td>neutral</td>\n",
              "    </tr>\n",
              "    <tr>\n",
              "      <th>4401</th>\n",
              "      <td>이럴때 핸드폰 하나있으면 얼마나 좋아? 나다. 너 지금 어디야?</td>\n",
              "      <td>수화기 들고 번호누르는데 부르르</td>\n",
              "      <td></td>\n",
              "      <td></td>\n",
              "      <td>dysphoria</td>\n",
              "    </tr>\n",
              "    <tr>\n",
              "      <th>4402</th>\n",
              "      <td>그럴일이 있습니다.</td>\n",
              "      <td>.</td>\n",
              "      <td></td>\n",
              "      <td>대체 무슨 일인가?</td>\n",
              "      <td>dysphoria</td>\n",
              "    </tr>\n",
              "  </tbody>\n",
              "</table>\n",
              "<p>4403 rows × 5 columns</p>\n",
              "</div>\n",
              "      <button class=\"colab-df-convert\" onclick=\"convertToInteractive('df-5e0d5550-60d3-48ac-8042-522e880243e1')\"\n",
              "              title=\"Convert this dataframe to an interactive table.\"\n",
              "              style=\"display:none;\">\n",
              "        \n",
              "  <svg xmlns=\"http://www.w3.org/2000/svg\" height=\"24px\"viewBox=\"0 0 24 24\"\n",
              "       width=\"24px\">\n",
              "    <path d=\"M0 0h24v24H0V0z\" fill=\"none\"/>\n",
              "    <path d=\"M18.56 5.44l.94 2.06.94-2.06 2.06-.94-2.06-.94-.94-2.06-.94 2.06-2.06.94zm-11 1L8.5 8.5l.94-2.06 2.06-.94-2.06-.94L8.5 2.5l-.94 2.06-2.06.94zm10 10l.94 2.06.94-2.06 2.06-.94-2.06-.94-.94-2.06-.94 2.06-2.06.94z\"/><path d=\"M17.41 7.96l-1.37-1.37c-.4-.4-.92-.59-1.43-.59-.52 0-1.04.2-1.43.59L10.3 9.45l-7.72 7.72c-.78.78-.78 2.05 0 2.83L4 21.41c.39.39.9.59 1.41.59.51 0 1.02-.2 1.41-.59l7.78-7.78 2.81-2.81c.8-.78.8-2.07 0-2.86zM5.41 20L4 18.59l7.72-7.72 1.47 1.35L5.41 20z\"/>\n",
              "  </svg>\n",
              "      </button>\n",
              "      \n",
              "  <style>\n",
              "    .colab-df-container {\n",
              "      display:flex;\n",
              "      flex-wrap:wrap;\n",
              "      gap: 12px;\n",
              "    }\n",
              "\n",
              "    .colab-df-convert {\n",
              "      background-color: #E8F0FE;\n",
              "      border: none;\n",
              "      border-radius: 50%;\n",
              "      cursor: pointer;\n",
              "      display: none;\n",
              "      fill: #1967D2;\n",
              "      height: 32px;\n",
              "      padding: 0 0 0 0;\n",
              "      width: 32px;\n",
              "    }\n",
              "\n",
              "    .colab-df-convert:hover {\n",
              "      background-color: #E2EBFA;\n",
              "      box-shadow: 0px 1px 2px rgba(60, 64, 67, 0.3), 0px 1px 3px 1px rgba(60, 64, 67, 0.15);\n",
              "      fill: #174EA6;\n",
              "    }\n",
              "\n",
              "    [theme=dark] .colab-df-convert {\n",
              "      background-color: #3B4455;\n",
              "      fill: #D2E3FC;\n",
              "    }\n",
              "\n",
              "    [theme=dark] .colab-df-convert:hover {\n",
              "      background-color: #434B5C;\n",
              "      box-shadow: 0px 1px 3px 1px rgba(0, 0, 0, 0.15);\n",
              "      filter: drop-shadow(0px 1px 2px rgba(0, 0, 0, 0.3));\n",
              "      fill: #FFFFFF;\n",
              "    }\n",
              "  </style>\n",
              "\n",
              "      <script>\n",
              "        const buttonEl =\n",
              "          document.querySelector('#df-5e0d5550-60d3-48ac-8042-522e880243e1 button.colab-df-convert');\n",
              "        buttonEl.style.display =\n",
              "          google.colab.kernel.accessAllowed ? 'block' : 'none';\n",
              "\n",
              "        async function convertToInteractive(key) {\n",
              "          const element = document.querySelector('#df-5e0d5550-60d3-48ac-8042-522e880243e1');\n",
              "          const dataTable =\n",
              "            await google.colab.kernel.invokeFunction('convertToInteractive',\n",
              "                                                     [key], {});\n",
              "          if (!dataTable) return;\n",
              "\n",
              "          const docLinkHtml = 'Like what you see? Visit the ' +\n",
              "            '<a target=\"_blank\" href=https://colab.research.google.com/notebooks/data_table.ipynb>data table notebook</a>'\n",
              "            + ' to learn more about interactive tables.';\n",
              "          element.innerHTML = '';\n",
              "          dataTable['output_type'] = 'display_data';\n",
              "          await google.colab.output.renderOutput(dataTable, element);\n",
              "          const docLink = document.createElement('div');\n",
              "          docLink.innerHTML = docLinkHtml;\n",
              "          element.appendChild(docLink);\n",
              "        }\n",
              "      </script>\n",
              "    </div>\n",
              "  </div>\n",
              "  "
            ]
          },
          "metadata": {},
          "execution_count": 40
        }
      ]
    },
    {
      "cell_type": "code",
      "source": [
        "test_label_table_filter"
      ],
      "metadata": {
        "colab": {
          "base_uri": "https://localhost:8080/",
          "height": 606
        },
        "id": "_tiShmt10ES_",
        "outputId": "3a8d288e-4b0a-46b0-da33-afa99a447d4c"
      },
      "execution_count": 235,
      "outputs": [
        {
          "output_type": "execute_result",
          "data": {
            "text/plain": [
              "                                               document  \\\n",
              "0                                                 같이 가.   \n",
              "1     이런식으로 가르치니 발전이 없죠. 격투기라는게 말 그대로 싸우는 기술인데, 실전에 ...   \n",
              "2                                                너 괜찮니?   \n",
              "3               딸이 둘인가 있었는데...찾을려고 맘먹으면 경찰이 왜 못찾겠냐만은...   \n",
              "4           사채 썼다며. 아주 떡대같은 놈들이 찾아와서 협박하고 가드라. 모르는 소리야?   \n",
              "...                                                 ...   \n",
              "2931                                               알았어.   \n",
              "2932                        그래? 그럼 내가 올라가서 음식이라도 좀 해줄까?   \n",
              "2933                                       무슨 일로 집합시켰어?   \n",
              "2934                                      부킹해서 첨만난게 아냐?   \n",
              "2935                             겁나서 못먹겠어. 들어가면 나올거 아냐.   \n",
              "\n",
              "                                                context  \\\n",
              "0                                            현찰 이미 좀 취한   \n",
              "1     관장안고 누운채 땀뻘뻘 흘리며 애쓰고 있는 재수. 서로 재는데, 이상한테 맞던 장면...   \n",
              "2               신문보는 범인. 찻잔놓는 솔이. 이층에서 어영의 노랫소리. 슥보는 범인   \n",
              "3                                                   NaN   \n",
              "4                                                   NaN   \n",
              "...                                                 ...   \n",
              "2931                                                NaN   \n",
              "2932                                                NaN   \n",
              "2933                              기다리고선 건강. 급히 오는 현찰 이상   \n",
              "2934                                 어영. 친구2 아줌마1,2 둘러싼   \n",
              "2935                        오징어다리 빨면서 엎드려 노트북으로 주식보는 건강   \n",
              "\n",
              "                                     target_speaker_ctx  \\\n",
              "0      그래. 그래서 니 별명이 딱지대장이었잖아. 어떻게 그렇게 딱지를 잘치는지. 맨날 ...   \n",
              "1                                          지금 하는 중이거든요.   \n",
              "2                                               벌써 나가게?   \n",
              "3      남들은 고시패스하면 편한길부터 갈려고 하는데, 나중에라도 후회하지 않겠냐? 니엄마...   \n",
              "4      나 지금 최대한 인내하고 있다. 지금부터 내가 묻는말에 거짓말 한개없이 솔직하게 ...   \n",
              "...                                                 ...   \n",
              "2931                뭐하러 쓸데없는 짓은 해? 만나서 얘기해. 내가 그쪽으로 갈게.   \n",
              "2932   대체 무슨 일인가? 무슨 일인데? 자네가 이시간에 왜 거기서 술판을 벌이고 있어?...   \n",
              "2933                                                      \n",
              "2934                                                      \n",
              "2935         왜 이렇게 안올라? 팍팍 좀 올라주지. 한방이면 끝나는데, 어엉. 문열렸어.   \n",
              "\n",
              "                                      other_speaker_ctx      label  \n",
              "0      내가? 맞어, 그랬어. 생각난다. 친구들하고 돈으로 바꿨지. 저축. 너두 같이 줏...   euphoria  \n",
              "1                  버티지만 말고 공격 들어오세요. 이런식으로 하니까 발전이 없는거,  dysphoria  \n",
              "2      먼일인지 아주 신바람이 났시유. 예 아부지. 일찍 일어나서 운동도 하고 책상 정리...   euphoria  \n",
              "3      제가 사시 본건 경찰일을 더 잘하기 위해서지, 다른뜻 없습니다. 솔직히 합격하고 ...  dysphoria  \n",
              "4      오빠, 무슨 일있어? 아까 전화 목소리도 안좋던데. 무슨 빚? 나 빚같은거 없어....  dysphoria  \n",
              "...                                                 ...        ...  \n",
              "2931                       쓸데없는 짓? 좀있다 이집 딸내미 나가면 그때 와.  dysphoria  \n",
              "2932   그럴일이 있습니다. 여자신발 맞습니다. 사실은, 우리 부장검사님이 부부싸움을 하셨...  dysphoria  \n",
              "2933   군기들이 왕창 빠졌구만. 형을 길바닥에서 기다리게 하고 말야. 들어가서 기다리지....    neutral  \n",
              "2934   왜 아직 식을 안하지? 야야, 신랑이 아직 안왔댄다. 뭐? 혹시 도망간거 아니니?...  dysphoria  \n",
              "2935                      안에 있냐? 쯧쯧... 꼬라지 봐라. 밥은 먹었다니?  dysphoria  \n",
              "\n",
              "[2936 rows x 5 columns]"
            ],
            "text/html": [
              "\n",
              "  <div id=\"df-c1413796-fa2c-4ebf-838f-350401cfb9b9\">\n",
              "    <div class=\"colab-df-container\">\n",
              "      <div>\n",
              "<style scoped>\n",
              "    .dataframe tbody tr th:only-of-type {\n",
              "        vertical-align: middle;\n",
              "    }\n",
              "\n",
              "    .dataframe tbody tr th {\n",
              "        vertical-align: top;\n",
              "    }\n",
              "\n",
              "    .dataframe thead th {\n",
              "        text-align: right;\n",
              "    }\n",
              "</style>\n",
              "<table border=\"1\" class=\"dataframe\">\n",
              "  <thead>\n",
              "    <tr style=\"text-align: right;\">\n",
              "      <th></th>\n",
              "      <th>document</th>\n",
              "      <th>context</th>\n",
              "      <th>target_speaker_ctx</th>\n",
              "      <th>other_speaker_ctx</th>\n",
              "      <th>label</th>\n",
              "    </tr>\n",
              "  </thead>\n",
              "  <tbody>\n",
              "    <tr>\n",
              "      <th>0</th>\n",
              "      <td>같이 가.</td>\n",
              "      <td>현찰 이미 좀 취한</td>\n",
              "      <td>그래. 그래서 니 별명이 딱지대장이었잖아. 어떻게 그렇게 딱지를 잘치는지. 맨날 ...</td>\n",
              "      <td>내가? 맞어, 그랬어. 생각난다. 친구들하고 돈으로 바꿨지. 저축. 너두 같이 줏...</td>\n",
              "      <td>euphoria</td>\n",
              "    </tr>\n",
              "    <tr>\n",
              "      <th>1</th>\n",
              "      <td>이런식으로 가르치니 발전이 없죠. 격투기라는게 말 그대로 싸우는 기술인데, 실전에 ...</td>\n",
              "      <td>관장안고 누운채 땀뻘뻘 흘리며 애쓰고 있는 재수. 서로 재는데, 이상한테 맞던 장면...</td>\n",
              "      <td>지금 하는 중이거든요.</td>\n",
              "      <td>버티지만 말고 공격 들어오세요. 이런식으로 하니까 발전이 없는거,</td>\n",
              "      <td>dysphoria</td>\n",
              "    </tr>\n",
              "    <tr>\n",
              "      <th>2</th>\n",
              "      <td>너 괜찮니?</td>\n",
              "      <td>신문보는 범인. 찻잔놓는 솔이. 이층에서 어영의 노랫소리. 슥보는 범인</td>\n",
              "      <td>벌써 나가게?</td>\n",
              "      <td>먼일인지 아주 신바람이 났시유. 예 아부지. 일찍 일어나서 운동도 하고 책상 정리...</td>\n",
              "      <td>euphoria</td>\n",
              "    </tr>\n",
              "    <tr>\n",
              "      <th>3</th>\n",
              "      <td>딸이 둘인가 있었는데...찾을려고 맘먹으면 경찰이 왜 못찾겠냐만은...</td>\n",
              "      <td>NaN</td>\n",
              "      <td>남들은 고시패스하면 편한길부터 갈려고 하는데, 나중에라도 후회하지 않겠냐? 니엄마...</td>\n",
              "      <td>제가 사시 본건 경찰일을 더 잘하기 위해서지, 다른뜻 없습니다. 솔직히 합격하고 ...</td>\n",
              "      <td>dysphoria</td>\n",
              "    </tr>\n",
              "    <tr>\n",
              "      <th>4</th>\n",
              "      <td>사채 썼다며. 아주 떡대같은 놈들이 찾아와서 협박하고 가드라. 모르는 소리야?</td>\n",
              "      <td>NaN</td>\n",
              "      <td>나 지금 최대한 인내하고 있다. 지금부터 내가 묻는말에 거짓말 한개없이 솔직하게 ...</td>\n",
              "      <td>오빠, 무슨 일있어? 아까 전화 목소리도 안좋던데. 무슨 빚? 나 빚같은거 없어....</td>\n",
              "      <td>dysphoria</td>\n",
              "    </tr>\n",
              "    <tr>\n",
              "      <th>...</th>\n",
              "      <td>...</td>\n",
              "      <td>...</td>\n",
              "      <td>...</td>\n",
              "      <td>...</td>\n",
              "      <td>...</td>\n",
              "    </tr>\n",
              "    <tr>\n",
              "      <th>2931</th>\n",
              "      <td>알았어.</td>\n",
              "      <td>NaN</td>\n",
              "      <td>뭐하러 쓸데없는 짓은 해? 만나서 얘기해. 내가 그쪽으로 갈게.</td>\n",
              "      <td>쓸데없는 짓? 좀있다 이집 딸내미 나가면 그때 와.</td>\n",
              "      <td>dysphoria</td>\n",
              "    </tr>\n",
              "    <tr>\n",
              "      <th>2932</th>\n",
              "      <td>그래? 그럼 내가 올라가서 음식이라도 좀 해줄까?</td>\n",
              "      <td>NaN</td>\n",
              "      <td>대체 무슨 일인가? 무슨 일인데? 자네가 이시간에 왜 거기서 술판을 벌이고 있어?...</td>\n",
              "      <td>그럴일이 있습니다. 여자신발 맞습니다. 사실은, 우리 부장검사님이 부부싸움을 하셨...</td>\n",
              "      <td>dysphoria</td>\n",
              "    </tr>\n",
              "    <tr>\n",
              "      <th>2933</th>\n",
              "      <td>무슨 일로 집합시켰어?</td>\n",
              "      <td>기다리고선 건강. 급히 오는 현찰 이상</td>\n",
              "      <td></td>\n",
              "      <td>군기들이 왕창 빠졌구만. 형을 길바닥에서 기다리게 하고 말야. 들어가서 기다리지....</td>\n",
              "      <td>neutral</td>\n",
              "    </tr>\n",
              "    <tr>\n",
              "      <th>2934</th>\n",
              "      <td>부킹해서 첨만난게 아냐?</td>\n",
              "      <td>어영. 친구2 아줌마1,2 둘러싼</td>\n",
              "      <td></td>\n",
              "      <td>왜 아직 식을 안하지? 야야, 신랑이 아직 안왔댄다. 뭐? 혹시 도망간거 아니니?...</td>\n",
              "      <td>dysphoria</td>\n",
              "    </tr>\n",
              "    <tr>\n",
              "      <th>2935</th>\n",
              "      <td>겁나서 못먹겠어. 들어가면 나올거 아냐.</td>\n",
              "      <td>오징어다리 빨면서 엎드려 노트북으로 주식보는 건강</td>\n",
              "      <td>왜 이렇게 안올라? 팍팍 좀 올라주지. 한방이면 끝나는데, 어엉. 문열렸어.</td>\n",
              "      <td>안에 있냐? 쯧쯧... 꼬라지 봐라. 밥은 먹었다니?</td>\n",
              "      <td>dysphoria</td>\n",
              "    </tr>\n",
              "  </tbody>\n",
              "</table>\n",
              "<p>2936 rows × 5 columns</p>\n",
              "</div>\n",
              "      <button class=\"colab-df-convert\" onclick=\"convertToInteractive('df-c1413796-fa2c-4ebf-838f-350401cfb9b9')\"\n",
              "              title=\"Convert this dataframe to an interactive table.\"\n",
              "              style=\"display:none;\">\n",
              "        \n",
              "  <svg xmlns=\"http://www.w3.org/2000/svg\" height=\"24px\"viewBox=\"0 0 24 24\"\n",
              "       width=\"24px\">\n",
              "    <path d=\"M0 0h24v24H0V0z\" fill=\"none\"/>\n",
              "    <path d=\"M18.56 5.44l.94 2.06.94-2.06 2.06-.94-2.06-.94-.94-2.06-.94 2.06-2.06.94zm-11 1L8.5 8.5l.94-2.06 2.06-.94-2.06-.94L8.5 2.5l-.94 2.06-2.06.94zm10 10l.94 2.06.94-2.06 2.06-.94-2.06-.94-.94-2.06-.94 2.06-2.06.94z\"/><path d=\"M17.41 7.96l-1.37-1.37c-.4-.4-.92-.59-1.43-.59-.52 0-1.04.2-1.43.59L10.3 9.45l-7.72 7.72c-.78.78-.78 2.05 0 2.83L4 21.41c.39.39.9.59 1.41.59.51 0 1.02-.2 1.41-.59l7.78-7.78 2.81-2.81c.8-.78.8-2.07 0-2.86zM5.41 20L4 18.59l7.72-7.72 1.47 1.35L5.41 20z\"/>\n",
              "  </svg>\n",
              "      </button>\n",
              "      \n",
              "  <style>\n",
              "    .colab-df-container {\n",
              "      display:flex;\n",
              "      flex-wrap:wrap;\n",
              "      gap: 12px;\n",
              "    }\n",
              "\n",
              "    .colab-df-convert {\n",
              "      background-color: #E8F0FE;\n",
              "      border: none;\n",
              "      border-radius: 50%;\n",
              "      cursor: pointer;\n",
              "      display: none;\n",
              "      fill: #1967D2;\n",
              "      height: 32px;\n",
              "      padding: 0 0 0 0;\n",
              "      width: 32px;\n",
              "    }\n",
              "\n",
              "    .colab-df-convert:hover {\n",
              "      background-color: #E2EBFA;\n",
              "      box-shadow: 0px 1px 2px rgba(60, 64, 67, 0.3), 0px 1px 3px 1px rgba(60, 64, 67, 0.15);\n",
              "      fill: #174EA6;\n",
              "    }\n",
              "\n",
              "    [theme=dark] .colab-df-convert {\n",
              "      background-color: #3B4455;\n",
              "      fill: #D2E3FC;\n",
              "    }\n",
              "\n",
              "    [theme=dark] .colab-df-convert:hover {\n",
              "      background-color: #434B5C;\n",
              "      box-shadow: 0px 1px 3px 1px rgba(0, 0, 0, 0.15);\n",
              "      filter: drop-shadow(0px 1px 2px rgba(0, 0, 0, 0.3));\n",
              "      fill: #FFFFFF;\n",
              "    }\n",
              "  </style>\n",
              "\n",
              "      <script>\n",
              "        const buttonEl =\n",
              "          document.querySelector('#df-c1413796-fa2c-4ebf-838f-350401cfb9b9 button.colab-df-convert');\n",
              "        buttonEl.style.display =\n",
              "          google.colab.kernel.accessAllowed ? 'block' : 'none';\n",
              "\n",
              "        async function convertToInteractive(key) {\n",
              "          const element = document.querySelector('#df-c1413796-fa2c-4ebf-838f-350401cfb9b9');\n",
              "          const dataTable =\n",
              "            await google.colab.kernel.invokeFunction('convertToInteractive',\n",
              "                                                     [key], {});\n",
              "          if (!dataTable) return;\n",
              "\n",
              "          const docLinkHtml = 'Like what you see? Visit the ' +\n",
              "            '<a target=\"_blank\" href=https://colab.research.google.com/notebooks/data_table.ipynb>data table notebook</a>'\n",
              "            + ' to learn more about interactive tables.';\n",
              "          element.innerHTML = '';\n",
              "          dataTable['output_type'] = 'display_data';\n",
              "          await google.colab.output.renderOutput(dataTable, element);\n",
              "          const docLink = document.createElement('div');\n",
              "          docLink.innerHTML = docLinkHtml;\n",
              "          element.appendChild(docLink);\n",
              "        }\n",
              "      </script>\n",
              "    </div>\n",
              "  </div>\n",
              "  "
            ]
          },
          "metadata": {},
          "execution_count": 235
        }
      ]
    },
    {
      "cell_type": "code",
      "source": [
        "def change_class_euphoria(label):\n",
        "  if label == 'euphoria':\n",
        "    label='euphoria'\n",
        "    return label\n",
        "  else:\n",
        "    label = 'not'\n",
        "    return label"
      ],
      "metadata": {
        "id": "Xc1t2AWifPLq"
      },
      "execution_count": 42,
      "outputs": []
    },
    {
      "cell_type": "code",
      "source": [
        "def change_class_dysphoria(label):\n",
        "  if label == 'dysphoria':\n",
        "    return label\n",
        "  else:\n",
        "    label = 'not'\n",
        "    return label"
      ],
      "metadata": {
        "id": "6kYT46zJ4uPq"
      },
      "execution_count": 43,
      "outputs": []
    },
    {
      "cell_type": "code",
      "source": [
        "train_data_euphoria = train_label_table_filter.copy()\n",
        "train_data_euphoria['label'] = train_data_euphoria['label'].apply(change_class_euphoria)\n",
        "train_data_euphoria\n",
        "\n",
        "\n",
        "test_data_euphoria = test_label_table_filter.copy()\n",
        "test_data_euphoria['label'] = test_data_euphoria['label'].apply(change_class_euphoria)\n",
        "test_data_euphoria\n",
        "\n",
        "\n",
        "test_data_total = test_label_table_filter.copy()\n"
      ],
      "metadata": {
        "id": "VEapIqEDfiFM"
      },
      "execution_count": 44,
      "outputs": []
    },
    {
      "cell_type": "code",
      "source": [
        "len(test_data_euphoria)"
      ],
      "metadata": {
        "colab": {
          "base_uri": "https://localhost:8080/"
        },
        "id": "Zo66uTKy8neB",
        "outputId": "8c16476d-11d5-43ba-ffd6-512b8c2167e8"
      },
      "execution_count": 45,
      "outputs": [
        {
          "output_type": "execute_result",
          "data": {
            "text/plain": [
              "2936"
            ]
          },
          "metadata": {},
          "execution_count": 45
        }
      ]
    },
    {
      "cell_type": "code",
      "source": [
        "train_data_dysphoria = train_label_table_filter.copy()\n",
        "train_data_dysphoria['label'] = train_data_dysphoria['label'].apply(change_class_dysphoria)\n",
        "train_data_dysphoria\n",
        "\n",
        "test_data_dysphoria = test_label_table_filter.copy()\n",
        "test_data_dysphoria['label'] = test_data_dysphoria['label'].apply(change_class_dysphoria)\n",
        "test_data_dysphoria"
      ],
      "metadata": {
        "colab": {
          "base_uri": "https://localhost:8080/",
          "height": 606
        },
        "id": "cypUILl95NZ6",
        "outputId": "a7fa4bde-a47e-4e77-c9f3-452354cc326e"
      },
      "execution_count": 46,
      "outputs": [
        {
          "output_type": "execute_result",
          "data": {
            "text/plain": [
              "                                               document  \\\n",
              "0                                                 같이 가.   \n",
              "1     이런식으로 가르치니 발전이 없죠. 격투기라는게 말 그대로 싸우는 기술인데, 실전에 ...   \n",
              "2                                                너 괜찮니?   \n",
              "3               딸이 둘인가 있었는데...찾을려고 맘먹으면 경찰이 왜 못찾겠냐만은...   \n",
              "4           사채 썼다며. 아주 떡대같은 놈들이 찾아와서 협박하고 가드라. 모르는 소리야?   \n",
              "...                                                 ...   \n",
              "2931                                               알았어.   \n",
              "2932                        그래? 그럼 내가 올라가서 음식이라도 좀 해줄까?   \n",
              "2933                                       무슨 일로 집합시켰어?   \n",
              "2934                                      부킹해서 첨만난게 아냐?   \n",
              "2935                             겁나서 못먹겠어. 들어가면 나올거 아냐.   \n",
              "\n",
              "                                                context  \\\n",
              "0                                            현찰 이미 좀 취한   \n",
              "1     관장안고 누운채 땀뻘뻘 흘리며 애쓰고 있는 재수. 서로 재는데, 이상한테 맞던 장면...   \n",
              "2               신문보는 범인. 찻잔놓는 솔이. 이층에서 어영의 노랫소리. 슥보는 범인   \n",
              "3                                                     .   \n",
              "4                                                     .   \n",
              "...                                                 ...   \n",
              "2931                                                  .   \n",
              "2932                                                  .   \n",
              "2933                              기다리고선 건강. 급히 오는 현찰 이상   \n",
              "2934                                 어영. 친구2 아줌마1,2 둘러싼   \n",
              "2935                        오징어다리 빨면서 엎드려 노트북으로 주식보는 건강   \n",
              "\n",
              "                                     target_speaker_ctx  \\\n",
              "0      그래. 그래서 니 별명이 딱지대장이었잖아. 어떻게 그렇게 딱지를 잘치는지. 맨날 ...   \n",
              "1                                          지금 하는 중이거든요.   \n",
              "2                                               벌써 나가게?   \n",
              "3      남들은 고시패스하면 편한길부터 갈려고 하는데, 나중에라도 후회하지 않겠냐? 니엄마...   \n",
              "4      나 지금 최대한 인내하고 있다. 지금부터 내가 묻는말에 거짓말 한개없이 솔직하게 ...   \n",
              "...                                                 ...   \n",
              "2931                뭐하러 쓸데없는 짓은 해? 만나서 얘기해. 내가 그쪽으로 갈게.   \n",
              "2932   대체 무슨 일인가? 무슨 일인데? 자네가 이시간에 왜 거기서 술판을 벌이고 있어?...   \n",
              "2933                                                      \n",
              "2934                                                      \n",
              "2935         왜 이렇게 안올라? 팍팍 좀 올라주지. 한방이면 끝나는데, 어엉. 문열렸어.   \n",
              "\n",
              "                                      other_speaker_ctx      label  \n",
              "0      내가? 맞어, 그랬어. 생각난다. 친구들하고 돈으로 바꿨지. 저축. 너두 같이 줏...        not  \n",
              "1                  버티지만 말고 공격 들어오세요. 이런식으로 하니까 발전이 없는거,  dysphoria  \n",
              "2      먼일인지 아주 신바람이 났시유. 예 아부지. 일찍 일어나서 운동도 하고 책상 정리...        not  \n",
              "3      제가 사시 본건 경찰일을 더 잘하기 위해서지, 다른뜻 없습니다. 솔직히 합격하고 ...  dysphoria  \n",
              "4      오빠, 무슨 일있어? 아까 전화 목소리도 안좋던데. 무슨 빚? 나 빚같은거 없어....  dysphoria  \n",
              "...                                                 ...        ...  \n",
              "2931                       쓸데없는 짓? 좀있다 이집 딸내미 나가면 그때 와.  dysphoria  \n",
              "2932   그럴일이 있습니다. 여자신발 맞습니다. 사실은, 우리 부장검사님이 부부싸움을 하셨...  dysphoria  \n",
              "2933   군기들이 왕창 빠졌구만. 형을 길바닥에서 기다리게 하고 말야. 들어가서 기다리지....        not  \n",
              "2934   왜 아직 식을 안하지? 야야, 신랑이 아직 안왔댄다. 뭐? 혹시 도망간거 아니니?...  dysphoria  \n",
              "2935                      안에 있냐? 쯧쯧... 꼬라지 봐라. 밥은 먹었다니?  dysphoria  \n",
              "\n",
              "[2936 rows x 5 columns]"
            ],
            "text/html": [
              "\n",
              "  <div id=\"df-dba50510-4a18-473c-a622-127095b00c66\">\n",
              "    <div class=\"colab-df-container\">\n",
              "      <div>\n",
              "<style scoped>\n",
              "    .dataframe tbody tr th:only-of-type {\n",
              "        vertical-align: middle;\n",
              "    }\n",
              "\n",
              "    .dataframe tbody tr th {\n",
              "        vertical-align: top;\n",
              "    }\n",
              "\n",
              "    .dataframe thead th {\n",
              "        text-align: right;\n",
              "    }\n",
              "</style>\n",
              "<table border=\"1\" class=\"dataframe\">\n",
              "  <thead>\n",
              "    <tr style=\"text-align: right;\">\n",
              "      <th></th>\n",
              "      <th>document</th>\n",
              "      <th>context</th>\n",
              "      <th>target_speaker_ctx</th>\n",
              "      <th>other_speaker_ctx</th>\n",
              "      <th>label</th>\n",
              "    </tr>\n",
              "  </thead>\n",
              "  <tbody>\n",
              "    <tr>\n",
              "      <th>0</th>\n",
              "      <td>같이 가.</td>\n",
              "      <td>현찰 이미 좀 취한</td>\n",
              "      <td>그래. 그래서 니 별명이 딱지대장이었잖아. 어떻게 그렇게 딱지를 잘치는지. 맨날 ...</td>\n",
              "      <td>내가? 맞어, 그랬어. 생각난다. 친구들하고 돈으로 바꿨지. 저축. 너두 같이 줏...</td>\n",
              "      <td>not</td>\n",
              "    </tr>\n",
              "    <tr>\n",
              "      <th>1</th>\n",
              "      <td>이런식으로 가르치니 발전이 없죠. 격투기라는게 말 그대로 싸우는 기술인데, 실전에 ...</td>\n",
              "      <td>관장안고 누운채 땀뻘뻘 흘리며 애쓰고 있는 재수. 서로 재는데, 이상한테 맞던 장면...</td>\n",
              "      <td>지금 하는 중이거든요.</td>\n",
              "      <td>버티지만 말고 공격 들어오세요. 이런식으로 하니까 발전이 없는거,</td>\n",
              "      <td>dysphoria</td>\n",
              "    </tr>\n",
              "    <tr>\n",
              "      <th>2</th>\n",
              "      <td>너 괜찮니?</td>\n",
              "      <td>신문보는 범인. 찻잔놓는 솔이. 이층에서 어영의 노랫소리. 슥보는 범인</td>\n",
              "      <td>벌써 나가게?</td>\n",
              "      <td>먼일인지 아주 신바람이 났시유. 예 아부지. 일찍 일어나서 운동도 하고 책상 정리...</td>\n",
              "      <td>not</td>\n",
              "    </tr>\n",
              "    <tr>\n",
              "      <th>3</th>\n",
              "      <td>딸이 둘인가 있었는데...찾을려고 맘먹으면 경찰이 왜 못찾겠냐만은...</td>\n",
              "      <td>.</td>\n",
              "      <td>남들은 고시패스하면 편한길부터 갈려고 하는데, 나중에라도 후회하지 않겠냐? 니엄마...</td>\n",
              "      <td>제가 사시 본건 경찰일을 더 잘하기 위해서지, 다른뜻 없습니다. 솔직히 합격하고 ...</td>\n",
              "      <td>dysphoria</td>\n",
              "    </tr>\n",
              "    <tr>\n",
              "      <th>4</th>\n",
              "      <td>사채 썼다며. 아주 떡대같은 놈들이 찾아와서 협박하고 가드라. 모르는 소리야?</td>\n",
              "      <td>.</td>\n",
              "      <td>나 지금 최대한 인내하고 있다. 지금부터 내가 묻는말에 거짓말 한개없이 솔직하게 ...</td>\n",
              "      <td>오빠, 무슨 일있어? 아까 전화 목소리도 안좋던데. 무슨 빚? 나 빚같은거 없어....</td>\n",
              "      <td>dysphoria</td>\n",
              "    </tr>\n",
              "    <tr>\n",
              "      <th>...</th>\n",
              "      <td>...</td>\n",
              "      <td>...</td>\n",
              "      <td>...</td>\n",
              "      <td>...</td>\n",
              "      <td>...</td>\n",
              "    </tr>\n",
              "    <tr>\n",
              "      <th>2931</th>\n",
              "      <td>알았어.</td>\n",
              "      <td>.</td>\n",
              "      <td>뭐하러 쓸데없는 짓은 해? 만나서 얘기해. 내가 그쪽으로 갈게.</td>\n",
              "      <td>쓸데없는 짓? 좀있다 이집 딸내미 나가면 그때 와.</td>\n",
              "      <td>dysphoria</td>\n",
              "    </tr>\n",
              "    <tr>\n",
              "      <th>2932</th>\n",
              "      <td>그래? 그럼 내가 올라가서 음식이라도 좀 해줄까?</td>\n",
              "      <td>.</td>\n",
              "      <td>대체 무슨 일인가? 무슨 일인데? 자네가 이시간에 왜 거기서 술판을 벌이고 있어?...</td>\n",
              "      <td>그럴일이 있습니다. 여자신발 맞습니다. 사실은, 우리 부장검사님이 부부싸움을 하셨...</td>\n",
              "      <td>dysphoria</td>\n",
              "    </tr>\n",
              "    <tr>\n",
              "      <th>2933</th>\n",
              "      <td>무슨 일로 집합시켰어?</td>\n",
              "      <td>기다리고선 건강. 급히 오는 현찰 이상</td>\n",
              "      <td></td>\n",
              "      <td>군기들이 왕창 빠졌구만. 형을 길바닥에서 기다리게 하고 말야. 들어가서 기다리지....</td>\n",
              "      <td>not</td>\n",
              "    </tr>\n",
              "    <tr>\n",
              "      <th>2934</th>\n",
              "      <td>부킹해서 첨만난게 아냐?</td>\n",
              "      <td>어영. 친구2 아줌마1,2 둘러싼</td>\n",
              "      <td></td>\n",
              "      <td>왜 아직 식을 안하지? 야야, 신랑이 아직 안왔댄다. 뭐? 혹시 도망간거 아니니?...</td>\n",
              "      <td>dysphoria</td>\n",
              "    </tr>\n",
              "    <tr>\n",
              "      <th>2935</th>\n",
              "      <td>겁나서 못먹겠어. 들어가면 나올거 아냐.</td>\n",
              "      <td>오징어다리 빨면서 엎드려 노트북으로 주식보는 건강</td>\n",
              "      <td>왜 이렇게 안올라? 팍팍 좀 올라주지. 한방이면 끝나는데, 어엉. 문열렸어.</td>\n",
              "      <td>안에 있냐? 쯧쯧... 꼬라지 봐라. 밥은 먹었다니?</td>\n",
              "      <td>dysphoria</td>\n",
              "    </tr>\n",
              "  </tbody>\n",
              "</table>\n",
              "<p>2936 rows × 5 columns</p>\n",
              "</div>\n",
              "      <button class=\"colab-df-convert\" onclick=\"convertToInteractive('df-dba50510-4a18-473c-a622-127095b00c66')\"\n",
              "              title=\"Convert this dataframe to an interactive table.\"\n",
              "              style=\"display:none;\">\n",
              "        \n",
              "  <svg xmlns=\"http://www.w3.org/2000/svg\" height=\"24px\"viewBox=\"0 0 24 24\"\n",
              "       width=\"24px\">\n",
              "    <path d=\"M0 0h24v24H0V0z\" fill=\"none\"/>\n",
              "    <path d=\"M18.56 5.44l.94 2.06.94-2.06 2.06-.94-2.06-.94-.94-2.06-.94 2.06-2.06.94zm-11 1L8.5 8.5l.94-2.06 2.06-.94-2.06-.94L8.5 2.5l-.94 2.06-2.06.94zm10 10l.94 2.06.94-2.06 2.06-.94-2.06-.94-.94-2.06-.94 2.06-2.06.94z\"/><path d=\"M17.41 7.96l-1.37-1.37c-.4-.4-.92-.59-1.43-.59-.52 0-1.04.2-1.43.59L10.3 9.45l-7.72 7.72c-.78.78-.78 2.05 0 2.83L4 21.41c.39.39.9.59 1.41.59.51 0 1.02-.2 1.41-.59l7.78-7.78 2.81-2.81c.8-.78.8-2.07 0-2.86zM5.41 20L4 18.59l7.72-7.72 1.47 1.35L5.41 20z\"/>\n",
              "  </svg>\n",
              "      </button>\n",
              "      \n",
              "  <style>\n",
              "    .colab-df-container {\n",
              "      display:flex;\n",
              "      flex-wrap:wrap;\n",
              "      gap: 12px;\n",
              "    }\n",
              "\n",
              "    .colab-df-convert {\n",
              "      background-color: #E8F0FE;\n",
              "      border: none;\n",
              "      border-radius: 50%;\n",
              "      cursor: pointer;\n",
              "      display: none;\n",
              "      fill: #1967D2;\n",
              "      height: 32px;\n",
              "      padding: 0 0 0 0;\n",
              "      width: 32px;\n",
              "    }\n",
              "\n",
              "    .colab-df-convert:hover {\n",
              "      background-color: #E2EBFA;\n",
              "      box-shadow: 0px 1px 2px rgba(60, 64, 67, 0.3), 0px 1px 3px 1px rgba(60, 64, 67, 0.15);\n",
              "      fill: #174EA6;\n",
              "    }\n",
              "\n",
              "    [theme=dark] .colab-df-convert {\n",
              "      background-color: #3B4455;\n",
              "      fill: #D2E3FC;\n",
              "    }\n",
              "\n",
              "    [theme=dark] .colab-df-convert:hover {\n",
              "      background-color: #434B5C;\n",
              "      box-shadow: 0px 1px 3px 1px rgba(0, 0, 0, 0.15);\n",
              "      filter: drop-shadow(0px 1px 2px rgba(0, 0, 0, 0.3));\n",
              "      fill: #FFFFFF;\n",
              "    }\n",
              "  </style>\n",
              "\n",
              "      <script>\n",
              "        const buttonEl =\n",
              "          document.querySelector('#df-dba50510-4a18-473c-a622-127095b00c66 button.colab-df-convert');\n",
              "        buttonEl.style.display =\n",
              "          google.colab.kernel.accessAllowed ? 'block' : 'none';\n",
              "\n",
              "        async function convertToInteractive(key) {\n",
              "          const element = document.querySelector('#df-dba50510-4a18-473c-a622-127095b00c66');\n",
              "          const dataTable =\n",
              "            await google.colab.kernel.invokeFunction('convertToInteractive',\n",
              "                                                     [key], {});\n",
              "          if (!dataTable) return;\n",
              "\n",
              "          const docLinkHtml = 'Like what you see? Visit the ' +\n",
              "            '<a target=\"_blank\" href=https://colab.research.google.com/notebooks/data_table.ipynb>data table notebook</a>'\n",
              "            + ' to learn more about interactive tables.';\n",
              "          element.innerHTML = '';\n",
              "          dataTable['output_type'] = 'display_data';\n",
              "          await google.colab.output.renderOutput(dataTable, element);\n",
              "          const docLink = document.createElement('div');\n",
              "          docLink.innerHTML = docLinkHtml;\n",
              "          element.appendChild(docLink);\n",
              "        }\n",
              "      </script>\n",
              "    </div>\n",
              "  </div>\n",
              "  "
            ]
          },
          "metadata": {},
          "execution_count": 46
        }
      ]
    },
    {
      "cell_type": "code",
      "source": [
        "len(test_data_dysphoria)"
      ],
      "metadata": {
        "colab": {
          "base_uri": "https://localhost:8080/"
        },
        "id": "VCWz_tJC8rzY",
        "outputId": "9be646d0-ad6e-4725-9b28-2a9a9ec5672e"
      },
      "execution_count": 47,
      "outputs": [
        {
          "output_type": "execute_result",
          "data": {
            "text/plain": [
              "2936"
            ]
          },
          "metadata": {},
          "execution_count": 47
        }
      ]
    },
    {
      "cell_type": "markdown",
      "metadata": {
        "id": "PELt80KAJTg3"
      },
      "source": [
        "# 2) 데이터 정제하기\n",
        "\n",
        "train_data의 데이터 중복 유무를 확인합니다."
      ]
    },
    {
      "cell_type": "markdown",
      "metadata": {
        "id": "DmYBgvl8Jyat"
      },
      "source": [
        "# 3) 토큰화\n",
        "\n",
        "토큰화를 진행해봅시다. 토큰화 과정에서 불용어를 제거하겠습니다. 불용어는 정의하기 나름인데, 한국어의 조사, 접속사 등의 보편적인 불용어를 사용할 수도 있겠지만 결국 풀고자 하는 문제의 데이터를 지속 검토하면서 계속해서 추가하는 경우 또한 많습니다. 실제 현업인 상황이라면 일반적으로 아래의 불용어보다 더 많은 불용어를 사용할 수 있습니다."
      ]
    },
    {
      "cell_type": "markdown",
      "metadata": {
        "id": "30pEL3iSL8ud"
      },
      "source": [
        "# 4) 정수 인코딩\n",
        "\n",
        "기계가 텍스트를 숫자로 처리할 수 있도록 훈련 데이터와 테스트 데이터에 정수 인코딩을 수행해야 합니다. 우선, 훈련 데이터에 대해서 단어 집합(vocaburary)을 만들어봅시다."
      ]
    },
    {
      "cell_type": "code",
      "execution_count": 177,
      "metadata": {
        "colab": {
          "base_uri": "https://localhost:8080/",
          "height": 706
        },
        "id": "fluCRfaIJRq1",
        "outputId": "1f23e9c4-5084-473b-d3d9-d0a2299fc7ea"
      },
      "outputs": [
        {
          "output_type": "stream",
          "name": "stderr",
          "text": [
            "/usr/local/lib/python3.7/dist-packages/ipykernel_launcher.py:12: FutureWarning: The default value of regex will change from True to False in a future version.\n",
            "  if sys.path[0] == '':\n",
            "/usr/local/lib/python3.7/dist-packages/ipykernel_launcher.py:13: FutureWarning: The default value of regex will change from True to False in a future version.\n",
            "  del sys.path[0]\n"
          ]
        },
        {
          "output_type": "stream",
          "name": "stdout",
          "text": [
            "False\n"
          ]
        },
        {
          "output_type": "stream",
          "name": "stderr",
          "text": [
            "100%|██████████| 4143/4143 [00:05<00:00, 708.98it/s]\n",
            "/usr/local/lib/python3.7/dist-packages/ipykernel_launcher.py:12: FutureWarning: The default value of regex will change from True to False in a future version.\n",
            "  if sys.path[0] == '':\n",
            "/usr/local/lib/python3.7/dist-packages/ipykernel_launcher.py:13: FutureWarning: The default value of regex will change from True to False in a future version.\n",
            "  del sys.path[0]\n"
          ]
        },
        {
          "output_type": "stream",
          "name": "stdout",
          "text": [
            "단어 집합(vocabulary)의 크기 : 4426\n",
            "등장 빈도가 2번 이하인 희귀 단어의 수: 2634\n",
            "단어 집합에서 희귀 단어의 비율: 59.51197469498418\n",
            "전체 등장 빈도에서 희귀 단어 등장 빈도 비율: 8.984312255715587\n",
            "단어 집합의 크기 : 1793\n",
            "False\n"
          ]
        },
        {
          "output_type": "stream",
          "name": "stderr",
          "text": [
            "100%|██████████| 4143/4143 [00:05<00:00, 747.84it/s]\n"
          ]
        },
        {
          "output_type": "stream",
          "name": "stdout",
          "text": [
            "단어 집합(vocabulary)의 크기 : 4426\n",
            "등장 빈도가 2번 이하인 희귀 단어의 수: 2634\n",
            "단어 집합에서 희귀 단어의 비율: 59.51197469498418\n",
            "전체 등장 빈도에서 희귀 단어 등장 빈도 비율: 8.984312255715587\n",
            "단어 집합의 크기 : 1793\n"
          ]
        },
        {
          "output_type": "display_data",
          "data": {
            "text/plain": [
              "<Figure size 432x288 with 1 Axes>"
            ],
            "image/png": "[encoded data removed]"
          },
          "metadata": {
            "needs_background": "light"
          }
        }
      ],
      "source": [
        "# # document 열과 label 열의 중복을 제외한 값의 개수\n",
        "\n",
        "# def preprocess(train_data):\n",
        "#   train_data['document'].nunique(),train_data['label'].nunique()\n",
        "#   # document 열의 중복 제거\n",
        "#   train_data.drop_duplicates(subset=['document'], inplace=True)\n",
        "#   train_data['label'].value_counts().plot(kind = 'bar')\n",
        "#   train_data.loc[train_data.document.isnull()]\n",
        "#   train_data = train_data.dropna(how = 'any') # Null 값이 존재하는 행 제거\n",
        "#   print(train_data.isnull().values.any()) # Null 값이 존재하는지 확인\n",
        "#   # 한글과 공백을 제외하고 모두 제거\n",
        "#   train_data['document'] = train_data['document'].str.replace(\"[^ㄱ-ㅎㅏ-ㅣ가-힣 ]\",\"\")\n",
        "#   train_data['document'] = train_data['document'].str.replace('^ +', \"\") # white space 데이터를 empty value로 변경\n",
        "#   train_data['document'].replace('', np.nan, inplace=True)\n",
        "#   train_data = train_data.dropna(how = 'any')\n",
        "#   stopwords = ['의','가','이','은','들','는','좀','잘','걍','과','도','를','으로','자','에','와','한','하다']\n",
        "#   okt = Okt()\n",
        "#   okt.morphs('와 이런 것도 영화라고 차라리 뮤직비디오를 만드는 게 나을 뻔', stem = True)\n",
        "#   X_train = []\n",
        "#   for sentence in tqdm(train_data['document']):\n",
        "#       tokenized_sentence = okt.morphs(sentence, stem=True) # 토큰화\n",
        "#       stopwords_removed_sentence = [word for word in tokenized_sentence if not word in stopwords] # 불용어 제거\n",
        "#       X_train.append(stopwords_removed_sentence)\n",
        "#   tokenizer = Tokenizer()\n",
        "#   tokenizer.fit_on_texts(X_train)\n",
        "#   threshold = 3\n",
        "#   total_cnt = len(tokenizer.word_index) # 단어의 수\n",
        "#   rare_cnt = 0 # 등장 빈도수가 threshold보다 작은 단어의 개수를 카운트\n",
        "#   total_freq = 0 # 훈련 데이터의 전체 단어 빈도수 총 합\n",
        "#   rare_freq = 0 # 등장 빈도수가 threshold보다 작은 단어의 등장 빈도수의 총 합\n",
        "\n",
        "#   # 단어와 빈도수의 쌍(pair)을 key와 value로 받는다.\n",
        "#   for key, value in tokenizer.word_counts.items():\n",
        "#       total_freq = total_freq + value\n",
        "\n",
        "#       # 단어의 등장 빈도수가 threshold보다 작으면\n",
        "#       if(value < threshold):\n",
        "#           rare_cnt = rare_cnt + 1\n",
        "#           rare_freq = rare_freq + value\n",
        "\n",
        "#   print('단어 집합(vocabulary)의 크기 :',total_cnt)\n",
        "#   print('등장 빈도가 %s번 이하인 희귀 단어의 수: %s'%(threshold - 1, rare_cnt))\n",
        "#   print(\"단어 집합에서 희귀 단어의 비율:\", (rare_cnt / total_cnt)*100)\n",
        "#   print(\"전체 등장 빈도에서 희귀 단어 등장 빈도 비율:\", (rare_freq / total_freq)*100)\n",
        "#   # 전체 단어 개수 중 빈도수 2이하인 단어는 제거.\n",
        "#   # 0번 패딩 토큰을 고려하여 + 1\n",
        "#   vocab_size = total_cnt - rare_cnt + 1\n",
        "#   print('단어 집합의 크기 :',vocab_size)\n",
        "#   tokenizer = Tokenizer(vocab_size) \n",
        "#   tokenizer.fit_on_texts(X_train)\n",
        "#   X_train = tokenizer.texts_to_sequences(X_train)\n",
        "#   # X_test = tokenizer.texts_to_sequences(X_test)\n",
        "\n",
        "#   return train_data, X_train\n",
        "\n",
        "# train_data_dysphoria_processed, X_train_dysphoria =  preprocess(train_data_dysphoria)\n",
        "\n",
        "# train_data_euphoria_processed, X_train_euphoria =  preprocess(train_data_euphoria)\n",
        "\n",
        "\n"
      ]
    },
    {
      "cell_type": "code",
      "source": [
        "# # document 열과 label 열의 중복을 제외한 값의 개수\n",
        "\n",
        "# def preprocess_test(train_data):\n",
        "#   train_data['document'].nunique(),train_data['label'].nunique()\n",
        "#   # document 열의 중복 제거\n",
        "#   train_data.drop_duplicates(subset=['document'], inplace=True)\n",
        "#   train_data['label'].value_counts().plot(kind = 'bar')\n",
        "#   train_data.loc[train_data.document.isnull()]\n",
        "#   train_data = train_data.fillna('빈 문장') # Null 값이 존재하는 행 제거\n",
        "#   # print(train_data.isnull().values.any()) # Null 값이 존재하는지 확인\n",
        "#   # 한글과 공백을 제외하고 모두 제거\n",
        "#   train_data['document'] = train_data['document'].str.replace(\"[^ㄱ-ㅎㅏ-ㅣ가-힣 ]\",\"\")\n",
        "#   train_data['document'] = train_data['document'].str.replace('^ +', \"\") # white space 데이터를 empty value로 변경\n",
        "#   train_data['document'].replace('', '빈 문장', inplace=True)\n",
        "#   # train_data = train_data.dropna(how = 'any')\n",
        "#   stopwords = ['의','가','이','은','들','는','좀','잘','걍','과','도','를','으로','자','에','와','한','하다']\n",
        "#   okt = Okt()\n",
        "#   okt.morphs('와 이런 것도 영화라고 차라리 뮤직비디오를 만드는 게 나을 뻔', stem = True)\n",
        "#   X_train = []\n",
        "#   for sentence in tqdm(train_data['document']):\n",
        "#       tokenized_sentence = okt.morphs(sentence, stem=True) # 토큰화\n",
        "#       stopwords_removed_sentence = [word for word in tokenized_sentence if not word in stopwords] # 불용어 제거\n",
        "#       X_train.append(stopwords_removed_sentence)\n",
        "#   tokenizer = Tokenizer()\n",
        "#   tokenizer.fit_on_texts(X_train)\n",
        "#   threshold = 3\n",
        "#   total_cnt = len(tokenizer.word_index) # 단어의 수\n",
        "#   rare_cnt = 0 # 등장 빈도수가 threshold보다 작은 단어의 개수를 카운트\n",
        "#   total_freq = 0 # 훈련 데이터의 전체 단어 빈도수 총 합\n",
        "#   rare_freq = 0 # 등장 빈도수가 threshold보다 작은 단어의 등장 빈도수의 총 합\n",
        "\n",
        "#   # 단어와 빈도수의 쌍(pair)을 key와 value로 받는다.\n",
        "#   for key, value in tokenizer.word_counts.items():\n",
        "#       total_freq = total_freq + value\n",
        "\n",
        "#       # 단어의 등장 빈도수가 threshold보다 작으면\n",
        "#       if(value < threshold):\n",
        "#           rare_cnt = rare_cnt + 1\n",
        "#           rare_freq = rare_freq + value\n",
        "\n",
        "#   print('단어 집합(vocabulary)의 크기 :',total_cnt)\n",
        "#   print('등장 빈도가 %s번 이하인 희귀 단어의 수: %s'%(threshold - 1, rare_cnt))\n",
        "#   print(\"단어 집합에서 희귀 단어의 비율:\", (rare_cnt / total_cnt)*100)\n",
        "#   print(\"전체 등장 빈도에서 희귀 단어 등장 빈도 비율:\", (rare_freq / total_freq)*100)\n",
        "#   # 전체 단어 개수 중 빈도수 2이하인 단어는 제거.\n",
        "#   # 0번 패딩 토큰을 고려하여 + 1\n",
        "#   vocab_size = total_cnt - rare_cnt + 1\n",
        "#   print('단어 집합의 크기 :',vocab_size)\n",
        "#   tokenizer = Tokenizer(vocab_size) \n",
        "#   tokenizer.fit_on_texts(X_train)\n",
        "#   X_train = tokenizer.texts_to_sequences(X_train)\n",
        "#   # X_test = tokenizer.texts_to_sequences(X_test)\n",
        "\n",
        "#   return train_data, X_train\n",
        "\n",
        "\n",
        "\n",
        "# test_data_dysphoria_processed, X_test_dysphoria =  preprocess_test(test_data_dysphoria)\n",
        "\n",
        "# test_data_euphoria_processed, X_test_euphoria =  preprocess_test(test_data_euphoria)\n",
        "\n",
        "# test_data_total_processed, X_test_total =  preprocess_test(test_data_total)\n",
        "\n"
      ],
      "metadata": {
        "colab": {
          "base_uri": "https://localhost:8080/",
          "height": 859
        },
        "id": "DHb0ag9Qrxpp",
        "outputId": "42447cc7-2d8b-4eaf-b516-a89376d39c68"
      },
      "execution_count": 178,
      "outputs": [
        {
          "output_type": "stream",
          "name": "stderr",
          "text": [
            "/usr/local/lib/python3.7/dist-packages/ipykernel_launcher.py:12: FutureWarning: The default value of regex will change from True to False in a future version.\n",
            "  if sys.path[0] == '':\n",
            "/usr/local/lib/python3.7/dist-packages/ipykernel_launcher.py:13: FutureWarning: The default value of regex will change from True to False in a future version.\n",
            "  del sys.path[0]\n",
            "100%|██████████| 2770/2770 [00:03<00:00, 748.34it/s]\n",
            "/usr/local/lib/python3.7/dist-packages/ipykernel_launcher.py:12: FutureWarning: The default value of regex will change from True to False in a future version.\n",
            "  if sys.path[0] == '':\n",
            "/usr/local/lib/python3.7/dist-packages/ipykernel_launcher.py:13: FutureWarning: The default value of regex will change from True to False in a future version.\n",
            "  del sys.path[0]\n"
          ]
        },
        {
          "output_type": "stream",
          "name": "stdout",
          "text": [
            "단어 집합(vocabulary)의 크기 : 3703\n",
            "등장 빈도가 2번 이하인 희귀 단어의 수: 2306\n",
            "단어 집합에서 희귀 단어의 비율: 62.27383202808534\n",
            "전체 등장 빈도에서 희귀 단어 등장 빈도 비율: 11.596240359897173\n",
            "단어 집합의 크기 : 1398\n"
          ]
        },
        {
          "output_type": "stream",
          "name": "stderr",
          "text": [
            "100%|██████████| 2770/2770 [00:03<00:00, 733.38it/s]\n",
            "/usr/local/lib/python3.7/dist-packages/ipykernel_launcher.py:12: FutureWarning: The default value of regex will change from True to False in a future version.\n",
            "  if sys.path[0] == '':\n",
            "/usr/local/lib/python3.7/dist-packages/ipykernel_launcher.py:13: FutureWarning: The default value of regex will change from True to False in a future version.\n",
            "  del sys.path[0]\n"
          ]
        },
        {
          "output_type": "stream",
          "name": "stdout",
          "text": [
            "단어 집합(vocabulary)의 크기 : 3703\n",
            "등장 빈도가 2번 이하인 희귀 단어의 수: 2306\n",
            "단어 집합에서 희귀 단어의 비율: 62.27383202808534\n",
            "전체 등장 빈도에서 희귀 단어 등장 빈도 비율: 11.596240359897173\n",
            "단어 집합의 크기 : 1398\n"
          ]
        },
        {
          "output_type": "stream",
          "name": "stderr",
          "text": [
            "100%|██████████| 2770/2770 [00:04<00:00, 661.99it/s]\n"
          ]
        },
        {
          "output_type": "stream",
          "name": "stdout",
          "text": [
            "단어 집합(vocabulary)의 크기 : 3703\n",
            "등장 빈도가 2번 이하인 희귀 단어의 수: 2306\n",
            "단어 집합에서 희귀 단어의 비율: 62.27383202808534\n",
            "전체 등장 빈도에서 희귀 단어 등장 빈도 비율: 11.596240359897173\n",
            "단어 집합의 크기 : 1398\n"
          ]
        },
        {
          "output_type": "display_data",
          "data": {
            "text/plain": [
              "<Figure size 432x288 with 1 Axes>"
            ],
            "image/png": "[encoded data removed]"
          },
          "metadata": {
            "needs_background": "light"
          }
        }
      ]
    },
    {
      "cell_type": "code",
      "source": [
        "# # document 열과 label 열의 중복을 제외한 값의 개수\n",
        "\n",
        "# def preprocess_pos(train_data):\n",
        "  \n",
        "#   train_data['document'].nunique(),train_data['label'].nunique()\n",
        "#   # document 열의 중복 제거\n",
        "#   train_data.drop_duplicates(subset=['document'], inplace=True)\n",
        "#   train_data['label'].value_counts().plot(kind = 'bar')\n",
        "#   train_data.loc[train_data.document.isnull()]\n",
        "#   # train_data = train_data.fillna('빈 문장') # Null 값이 존재하는 행 제거\n",
        "#   # print(train_data.isnull().values.any()) # Null 값이 존재하는지 확인\n",
        "#   # 한글과 공백을 제외하고 모두 제거\n",
        "#   # train_data['document'] = train_data['document'].str.replace(\"[^ㄱ-ㅎㅏ-ㅣ가-힣 ]\",\"\")\n",
        "#   train_data['document'] = train_data['document'].str.replace('^ +', \"\") # white space 데이터를 empty value로 변경\n",
        "#   # train_data['document'].replace('', '빈 문장', inplace=True)\n",
        "#   # train_data = train_data.dropna(how = 'any')\n",
        "#   # stopwords = ['의','가','이','은','들','는','좀','잘','걍','과','도','를','으로','자','에','와','한','하다']\n",
        "#   okt = Okt()\n",
        "#   # okt.morphs('와 이런 것도 영화라고 차라리 뮤직비디오를 만드는 게 나을 뻔', stem = True)\n",
        "\n",
        "\n",
        "#   X_train = []\n",
        "#   for sentence in tqdm(train_data['document']):\n",
        "#     pos = okt.pos(sentence)\n",
        "#     main_words = [word_pos[0] for word_pos in pos if word_pos[1] not in (\"Josa\", \"Suffix\", \"Number\")] # 가져오고자 하는 품사에 해당하면 해당 형태소를 main_words 리스트에 추가합니다.\n",
        "#     main_words_str = \" \".join(main_words) # main_words 리스트 안의 형태소들을 띄어쓰기로 분리된 하나의 문자열로 join시켜줍니다.\n",
        "#     X_train.append(main_words_str) # 선택한 형태소들로 이루어진 문자열을 최종 리스트에 추가해줍니다\n",
        "#     # print(X_train)\n",
        "#     # tokenized_sentence = okt.morphs(sentence, stem=True) # 토큰화\n",
        "#     # stopwords_removed_sentence = [word for word in tokenized_sentence if not word in stopwords] # 불용어 제거\n",
        "#     # X_train.append(stopwords_removed_sentence)\n",
        "#   tokenizer = Tokenizer()\n",
        "#   tokenizer.fit_on_texts(X_train)\n",
        "#   threshold = 3\n",
        "#   total_cnt = len(tokenizer.word_index) # 단어의 수\n",
        "#   rare_cnt = 0 # 등장 빈도수가 threshold보다 작은 단어의 개수를 카운트\n",
        "#   total_freq = 0 # 훈련 데이터의 전체 단어 빈도수 총 합\n",
        "#   rare_freq = 0 # 등장 빈도수가 threshold보다 작은 단어의 등장 빈도수의 총 합\n",
        "\n",
        "#   # 단어와 빈도수의 쌍(pair)을 key와 value로 받는다.\n",
        "#   for key, value in tokenizer.word_counts.items():\n",
        "#       total_freq = total_freq + value\n",
        "\n",
        "#       # 단어의 등장 빈도수가 threshold보다 작으면\n",
        "#       if(value < threshold):\n",
        "#           rare_cnt = rare_cnt + 1\n",
        "#           rare_freq = rare_freq + value\n",
        "\n",
        "#   print('단어 집합(vocabulary)의 크기 :',total_cnt)\n",
        "#   print('등장 빈도가 %s번 이하인 희귀 단어의 수: %s'%(threshold - 1, rare_cnt))\n",
        "#   print(\"단어 집합에서 희귀 단어의 비율:\", (rare_cnt / total_cnt)*100)\n",
        "#   print(\"전체 등장 빈도에서 희귀 단어 등장 빈도 비율:\", (rare_freq / total_freq)*100)\n",
        "#   # 전체 단어 개수 중 빈도수 2이하인 단어는 제거.\n",
        "#   # 0번 패딩 토큰을 고려하여 + 1\n",
        "#   vocab_size = total_cnt - rare_cnt + 1\n",
        "#   print('단어 집합의 크기 :',vocab_size)\n",
        "#   tokenizer = Tokenizer(vocab_size) \n",
        "#   tokenizer.fit_on_texts(X_train)\n",
        "#   X_train = tokenizer.texts_to_sequences(X_train)\n",
        "#   # X_test = tokenizer.texts_to_sequences(X_test)\n",
        "\n",
        "#   return train_data, X_train\n",
        "\n",
        "\n",
        "# train_data_dysphoria_processed, X_train_dysphoria =  preprocess_pos(train_data_dysphoria)\n",
        "\n",
        "# train_data_euphoria_processed, X_train_euphoria =  preprocess_pos(train_data_euphoria)\n",
        "\n",
        "# test_data_dysphoria_processed, X_test_dysphoria =  preprocess_pos(test_data_dysphoria)\n",
        "\n",
        "# test_data_euphoria_processed, X_test_euphoria =  preprocess_pos(test_data_euphoria)\n",
        "\n",
        "# test_data_total_processed, X_test_total =  preprocess_pos(test_data_total)\n",
        "\n"
      ],
      "metadata": {
        "colab": {
          "base_uri": "https://localhost:8080/",
          "height": 887
        },
        "id": "QVzoQcZJsN_2",
        "outputId": "1f6507f0-7ca8-4b9a-8f5c-f7ef36de2851"
      },
      "execution_count": 242,
      "outputs": [
        {
          "output_type": "stream",
          "name": "stderr",
          "text": [
            "/usr/local/lib/python3.7/dist-packages/ipykernel_launcher.py:13: FutureWarning: The default value of regex will change from True to False in a future version.\n",
            "  del sys.path[0]\n",
            "100%|██████████| 4144/4144 [00:10<00:00, 407.85it/s]\n",
            "/usr/local/lib/python3.7/dist-packages/ipykernel_launcher.py:13: FutureWarning: The default value of regex will change from True to False in a future version.\n",
            "  del sys.path[0]\n"
          ]
        },
        {
          "output_type": "stream",
          "name": "stdout",
          "text": [
            "단어 집합(vocabulary)의 크기 : 9020\n",
            "등장 빈도가 2번 이하인 희귀 단어의 수: 6887\n",
            "단어 집합에서 희귀 단어의 비율: 76.35254988913526\n",
            "전체 등장 빈도에서 희귀 단어 등장 빈도 비율: 23.086863692549723\n",
            "단어 집합의 크기 : 2134\n"
          ]
        },
        {
          "output_type": "stream",
          "name": "stderr",
          "text": [
            " 18%|█▊        | 739/4144 [00:01<00:08, 407.11it/s]\n"
          ]
        },
        {
          "output_type": "error",
          "ename": "KeyboardInterrupt",
          "evalue": "ignored",
          "traceback": [
            "\u001b[0;31m---------------------------------------------------------------------------\u001b[0m",
            "\u001b[0;31mKeyboardInterrupt\u001b[0m                         Traceback (most recent call last)",
            "\u001b[0;32m<ipython-input-242-0f7e7e322980>\u001b[0m in \u001b[0;36m<module>\u001b[0;34m\u001b[0m\n\u001b[1;32m     64\u001b[0m \u001b[0mtrain_data_dysphoria_processed\u001b[0m\u001b[0;34m,\u001b[0m \u001b[0mX_train_dysphoria\u001b[0m \u001b[0;34m=\u001b[0m  \u001b[0mpreprocess_pos\u001b[0m\u001b[0;34m(\u001b[0m\u001b[0mtrain_data_dysphoria\u001b[0m\u001b[0;34m)\u001b[0m\u001b[0;34m\u001b[0m\u001b[0;34m\u001b[0m\u001b[0m\n\u001b[1;32m     65\u001b[0m \u001b[0;34m\u001b[0m\u001b[0m\n\u001b[0;32m---> 66\u001b[0;31m \u001b[0mtrain_data_euphoria_processed\u001b[0m\u001b[0;34m,\u001b[0m \u001b[0mX_train_euphoria\u001b[0m \u001b[0;34m=\u001b[0m  \u001b[0mpreprocess_pos\u001b[0m\u001b[0;34m(\u001b[0m\u001b[0mtrain_data_euphoria\u001b[0m\u001b[0;34m)\u001b[0m\u001b[0;34m\u001b[0m\u001b[0;34m\u001b[0m\u001b[0m\n\u001b[0m\u001b[1;32m     67\u001b[0m \u001b[0;34m\u001b[0m\u001b[0m\n\u001b[1;32m     68\u001b[0m \u001b[0mtest_data_dysphoria_processed\u001b[0m\u001b[0;34m,\u001b[0m \u001b[0mX_test_dysphoria\u001b[0m \u001b[0;34m=\u001b[0m  \u001b[0mpreprocess_pos\u001b[0m\u001b[0;34m(\u001b[0m\u001b[0mtest_data_dysphoria\u001b[0m\u001b[0;34m)\u001b[0m\u001b[0;34m\u001b[0m\u001b[0;34m\u001b[0m\u001b[0m\n",
            "\u001b[0;32m<ipython-input-242-0f7e7e322980>\u001b[0m in \u001b[0;36mpreprocess_pos\u001b[0;34m(train_data)\u001b[0m\n\u001b[1;32m     21\u001b[0m   \u001b[0mX_train\u001b[0m \u001b[0;34m=\u001b[0m \u001b[0;34m[\u001b[0m\u001b[0;34m]\u001b[0m\u001b[0;34m\u001b[0m\u001b[0;34m\u001b[0m\u001b[0m\n\u001b[1;32m     22\u001b[0m   \u001b[0;32mfor\u001b[0m \u001b[0msentence\u001b[0m \u001b[0;32min\u001b[0m \u001b[0mtqdm\u001b[0m\u001b[0;34m(\u001b[0m\u001b[0mtrain_data\u001b[0m\u001b[0;34m[\u001b[0m\u001b[0;34m'document'\u001b[0m\u001b[0;34m]\u001b[0m\u001b[0;34m)\u001b[0m\u001b[0;34m:\u001b[0m\u001b[0;34m\u001b[0m\u001b[0;34m\u001b[0m\u001b[0m\n\u001b[0;32m---> 23\u001b[0;31m     \u001b[0mpos\u001b[0m \u001b[0;34m=\u001b[0m \u001b[0mokt\u001b[0m\u001b[0;34m.\u001b[0m\u001b[0mpos\u001b[0m\u001b[0;34m(\u001b[0m\u001b[0msentence\u001b[0m\u001b[0;34m)\u001b[0m\u001b[0;34m\u001b[0m\u001b[0;34m\u001b[0m\u001b[0m\n\u001b[0m\u001b[1;32m     24\u001b[0m     \u001b[0mmain_words\u001b[0m \u001b[0;34m=\u001b[0m \u001b[0;34m[\u001b[0m\u001b[0mword_pos\u001b[0m\u001b[0;34m[\u001b[0m\u001b[0;36m0\u001b[0m\u001b[0;34m]\u001b[0m \u001b[0;32mfor\u001b[0m \u001b[0mword_pos\u001b[0m \u001b[0;32min\u001b[0m \u001b[0mpos\u001b[0m \u001b[0;32mif\u001b[0m \u001b[0mword_pos\u001b[0m\u001b[0;34m[\u001b[0m\u001b[0;36m1\u001b[0m\u001b[0;34m]\u001b[0m \u001b[0;32mnot\u001b[0m \u001b[0;32min\u001b[0m \u001b[0;34m(\u001b[0m\u001b[0;34m\"Josa\"\u001b[0m\u001b[0;34m,\u001b[0m \u001b[0;34m\"Suffix\"\u001b[0m\u001b[0;34m,\u001b[0m \u001b[0;34m\"Number\"\u001b[0m\u001b[0;34m)\u001b[0m\u001b[0;34m]\u001b[0m \u001b[0;31m# 가져오고자 하는 품사에 해당하면 해당 형태소를 main_words 리스트에 추가합니다.\u001b[0m\u001b[0;34m\u001b[0m\u001b[0;34m\u001b[0m\u001b[0m\n\u001b[1;32m     25\u001b[0m     \u001b[0mmain_words_str\u001b[0m \u001b[0;34m=\u001b[0m \u001b[0;34m\" \"\u001b[0m\u001b[0;34m.\u001b[0m\u001b[0mjoin\u001b[0m\u001b[0;34m(\u001b[0m\u001b[0mmain_words\u001b[0m\u001b[0;34m)\u001b[0m \u001b[0;31m# main_words 리스트 안의 형태소들을 띄어쓰기로 분리된 하나의 문자열로 join시켜줍니다.\u001b[0m\u001b[0;34m\u001b[0m\u001b[0;34m\u001b[0m\u001b[0m\n",
            "\u001b[0;32m/usr/local/lib/python3.7/dist-packages/konlpy/tag/_okt.py\u001b[0m in \u001b[0;36mpos\u001b[0;34m(self, phrase, norm, stem, join)\u001b[0m\n\u001b[1;32m     72\u001b[0m                     \u001b[0mphrase\u001b[0m\u001b[0;34m,\u001b[0m\u001b[0;34m\u001b[0m\u001b[0;34m\u001b[0m\u001b[0m\n\u001b[1;32m     73\u001b[0m                     \u001b[0mjpype\u001b[0m\u001b[0;34m.\u001b[0m\u001b[0mjava\u001b[0m\u001b[0;34m.\u001b[0m\u001b[0mlang\u001b[0m\u001b[0;34m.\u001b[0m\u001b[0mBoolean\u001b[0m\u001b[0;34m(\u001b[0m\u001b[0mnorm\u001b[0m\u001b[0;34m)\u001b[0m\u001b[0;34m,\u001b[0m\u001b[0;34m\u001b[0m\u001b[0;34m\u001b[0m\u001b[0m\n\u001b[0;32m---> 74\u001b[0;31m                     jpype.java.lang.Boolean(stem)).toArray()\n\u001b[0m\u001b[1;32m     75\u001b[0m         \u001b[0;32mif\u001b[0m \u001b[0mjoin\u001b[0m\u001b[0;34m:\u001b[0m\u001b[0;34m\u001b[0m\u001b[0;34m\u001b[0m\u001b[0m\n\u001b[1;32m     76\u001b[0m             \u001b[0;32mreturn\u001b[0m \u001b[0;34m[\u001b[0m\u001b[0mt\u001b[0m \u001b[0;32mfor\u001b[0m \u001b[0mt\u001b[0m \u001b[0;32min\u001b[0m \u001b[0mtokens\u001b[0m\u001b[0;34m]\u001b[0m\u001b[0;34m\u001b[0m\u001b[0;34m\u001b[0m\u001b[0m\n",
            "\u001b[0;31mKeyboardInterrupt\u001b[0m: "
          ]
        },
        {
          "output_type": "display_data",
          "data": {
            "text/plain": [
              "<Figure size 432x288 with 1 Axes>"
            ],
            "image/png": "[encoded data removed]"
          },
          "metadata": {
            "needs_background": "light"
          }
        }
      ]
    },
    {
      "cell_type": "code",
      "source": [
        "# train_data_dysphoria_processed, X_train_dysphoria =  preprocess_pos_d(train_data_dysphoria)\n",
        "\n",
        "# train_data_euphoria_processed, X_train_euphoria =  preprocess_pos_d(train_data_euphoria)\n",
        "\n",
        "# test_data_dysphoria_processed, X_test_dysphoria =  preprocess_pos_d(test_data_dysphoria)\n",
        "\n",
        "# test_data_euphoria_processed, X_test_euphoria =  preprocess_pos_d(test_data_euphoria)\n",
        "\n",
        "# test_data_total_processed, X_test_total =  preprocess_pos_d(test_data_total)"
      ],
      "metadata": {
        "colab": {
          "base_uri": "https://localhost:8080/"
        },
        "id": "-7Zznfui34JH",
        "outputId": "3d81de77-36d3-4a97-b300-a6075cca6cf9"
      },
      "execution_count": 253,
      "outputs": [
        {
          "output_type": "execute_result",
          "data": {
            "text/plain": [
              "0"
            ]
          },
          "metadata": {},
          "execution_count": 253
        }
      ]
    },
    {
      "cell_type": "code",
      "source": [
        "train_data_dysphoria.isnull().sum()"
      ],
      "metadata": {
        "colab": {
          "base_uri": "https://localhost:8080/"
        },
        "id": "cuDRD1udCM5h",
        "outputId": "87a3d594-f421-499c-fed4-8c78d21c5048"
      },
      "execution_count": 39,
      "outputs": [
        {
          "output_type": "execute_result",
          "data": {
            "text/plain": [
              "document                 0\n",
              "context               1209\n",
              "target_speaker_ctx       0\n",
              "other_speaker_ctx        0\n",
              "label                    0\n",
              "dtype: int64"
            ]
          },
          "metadata": {},
          "execution_count": 39
        }
      ]
    },
    {
      "cell_type": "code",
      "source": [
        "# document 열과 label 열의 중복을 제외한 값의 개수\n",
        "\n",
        "def preprocess_pos_d(train_data):\n",
        "\n",
        "  X_train_d = []\n",
        "  for col in ['document','context', 'target_speaker_ctx','other_speaker_ctx']:\n",
        "\n",
        "    # document 열의 중복 제거\n",
        "    # train_data.drop_duplicates(subset=[col], inplace=True)\n",
        "    # train_data['label'].value_counts().plot(kind = 'bar')\n",
        "    # train_data.loc[train_data.document.isnull()]\n",
        "    # train_data = train_data.fillna('빈 문장') # Null 값이 존재하는 행 제거\n",
        "    # print(train_data.isnull().values.any()) # Null 값이 존재하는지 확인\n",
        "    # 한글과 공백을 제외하고 모두 제거\n",
        "    # train_data['document'] = train_data['document'].str.replace(\"[^ㄱ-ㅎㅏ-ㅣ가-힣 ]\",\"\")\n",
        "    train_data[col] = train_data[col].str.replace('^ +', \"\") # white space 데이터를 empty value로 변경\n",
        "    # train_data['document'].replace('', '빈 문장', inplace=True)\n",
        "    # train_data = train_data.dropna(how = 'any')\n",
        "    # stopwords = ['의','가','이','은','들','는','좀','잘','걍','과','도','를','으로','자','에','와','한','하다']\n",
        "    okt = Okt()\n",
        "    # okt.morphs('와 이런 것도 영화라고 차라리 뮤직비디오를 만드는 게 나을 뻔', stem = True)\n",
        "\n",
        "\n",
        "    X_train = []\n",
        "    for sentence in tqdm(train_data[col]):\n",
        "      # print(sentence)\n",
        "      pos = okt.pos(sentence)\n",
        "      main_words = [word_pos[0] for word_pos in pos if word_pos[1] not in (\"Josa\", \"Suffix\", \"Number\")] # 가져오고자 하는 품사에 해당하면 해당 형태소를 main_words 리스트에 추가합니다.\n",
        "      if len(main_words)==0:\n",
        "          main_words.append('.')\n",
        "      main_words_str = \" \".join(main_words) # main_words 리스트 안의 형태소들을 띄어쓰기로 분리된 하나의 문자열로 join시켜줍니다.\n",
        "\n",
        "      X_train.append(main_words_str) # 선택한 형태소들로 이루어진 문자열을 최종 리스트에 추가해줍니다\n",
        "      # print(X_train)\n",
        "      # tokenized_sentence = okt.morphs(sentence, stem=True) # 토큰화\n",
        "      # stopwords_removed_sentence = [word for word in tokenized_sentence if not word in stopwords] # 불용어 제거\n",
        "      # X_train.append(stopwords_removed_sentence)\n",
        "    \n",
        "    tokenizer = Tokenizer()\n",
        "    tokenizer.fit_on_texts(X_train)\n",
        "    threshold = 3\n",
        "    total_cnt = len(tokenizer.word_index) # 단어의 수\n",
        "    rare_cnt = 0 # 등장 빈도수가 threshold보다 작은 단어의 개수를 카운트\n",
        "    total_freq = 0 # 훈련 데이터의 전체 단어 빈도수 총 합\n",
        "    rare_freq = 0 # 등장 빈도수가 threshold보다 작은 단어의 등장 빈도수의 총 합\n",
        "\n",
        "    # 단어와 빈도수의 쌍(pair)을 key와 value로 받는다.\n",
        "    for key, value in tokenizer.word_counts.items():\n",
        "        total_freq = total_freq + value\n",
        "\n",
        "        # 단어의 등장 빈도수가 threshold보다 작으면\n",
        "        if(value < threshold):\n",
        "            rare_cnt = rare_cnt + 1\n",
        "            rare_freq = rare_freq + value\n",
        "\n",
        "    print('단어 집합(vocabulary)의 크기 :',total_cnt)\n",
        "    print('등장 빈도가 %s번 이하인 희귀 단어의 수: %s'%(threshold - 1, rare_cnt))\n",
        "    print(\"단어 집합에서 희귀 단어의 비율:\", (rare_cnt / total_cnt)*100)\n",
        "    print(\"전체 등장 빈도에서 희귀 단어 등장 빈도 비율:\", (rare_freq / total_freq)*100)\n",
        "    # 전체 단어 개수 중 빈도수 2이하인 단어는 제거.\n",
        "    # 0번 패딩 토큰을 고려하여 + 1\n",
        "    vocab_size = total_cnt - rare_cnt + 1\n",
        "    print('단어 집합의 크기 :',vocab_size)\n",
        "    tokenizer = Tokenizer(vocab_size) \n",
        "    tokenizer.fit_on_texts(X_train)\n",
        "    X_train = tokenizer.texts_to_sequences(X_train)\n",
        "    # X_test = tokenizer.texts_to_sequences(X_test)\n",
        "\n",
        "    X_train_d.append(X_train)\n",
        "\n",
        "\n",
        "  return train_data, X_train_d\n",
        "\n",
        "\n",
        "train_data_dysphoria_processed, X_train_dysphoria =  preprocess_pos_d(train_data_dysphoria)\n",
        "\n",
        "train_data_euphoria_processed, X_train_euphoria =  preprocess_pos_d(train_data_euphoria)\n",
        "\n",
        "test_data_dysphoria_processed, X_test_dysphoria =  preprocess_pos_d(test_data_dysphoria)\n",
        "\n",
        "test_data_euphoria_processed, X_test_euphoria =  preprocess_pos_d(test_data_euphoria)\n",
        "\n",
        "test_data_total_processed, X_test_total =  preprocess_pos_d(test_data_total)\n",
        "\n"
      ],
      "metadata": {
        "colab": {
          "base_uri": "https://localhost:8080/"
        },
        "id": "qc54au8q0bzX",
        "outputId": "7e52b3ed-f9bd-4692-828c-7360ec4c8938"
      },
      "execution_count": 51,
      "outputs": [
        {
          "output_type": "stream",
          "name": "stderr",
          "text": [
            "/usr/local/lib/python3.7/dist-packages/ipykernel_launcher.py:16: FutureWarning: The default value of regex will change from True to False in a future version.\n",
            "  app.launch_new_instance()\n",
            "100%|██████████| 4403/4403 [00:07<00:00, 577.11it/s]\n"
          ]
        },
        {
          "output_type": "stream",
          "name": "stdout",
          "text": [
            "단어 집합(vocabulary)의 크기 : 9020\n",
            "등장 빈도가 2번 이하인 희귀 단어의 수: 6883\n",
            "단어 집합에서 희귀 단어의 비율: 76.30820399113082\n",
            "전체 등장 빈도에서 희귀 단어 등장 빈도 비율: 22.881898977516506\n",
            "단어 집합의 크기 : 2138\n"
          ]
        },
        {
          "output_type": "stream",
          "name": "stderr",
          "text": [
            "100%|██████████| 4403/4403 [00:06<00:00, 683.70it/s]\n"
          ]
        },
        {
          "output_type": "stream",
          "name": "stdout",
          "text": [
            "단어 집합(vocabulary)의 크기 : 2175\n",
            "등장 빈도가 2번 이하인 희귀 단어의 수: 602\n",
            "단어 집합에서 희귀 단어의 비율: 27.67816091954023\n",
            "전체 등장 빈도에서 희귀 단어 등장 빈도 비율: 2.5673745936256194\n",
            "단어 집합의 크기 : 1574\n"
          ]
        },
        {
          "output_type": "stream",
          "name": "stderr",
          "text": [
            "100%|██████████| 4403/4403 [00:18<00:00, 234.15it/s]\n"
          ]
        },
        {
          "output_type": "stream",
          "name": "stdout",
          "text": [
            "단어 집합(vocabulary)의 크기 : 9331\n",
            "등장 빈도가 2번 이하인 희귀 단어의 수: 3897\n",
            "단어 집합에서 희귀 단어의 비율: 41.76401243167935\n",
            "전체 등장 빈도에서 희귀 단어 등장 빈도 비율: 5.99469666877798\n",
            "단어 집합의 크기 : 5435\n"
          ]
        },
        {
          "output_type": "stream",
          "name": "stderr",
          "text": [
            "100%|██████████| 4403/4403 [00:29<00:00, 151.07it/s]\n"
          ]
        },
        {
          "output_type": "stream",
          "name": "stdout",
          "text": [
            "단어 집합(vocabulary)의 크기 : 10464\n",
            "등장 빈도가 2번 이하인 희귀 단어의 수: 3630\n",
            "단어 집합에서 희귀 단어의 비율: 34.690366972477065\n",
            "전체 등장 빈도에서 희귀 단어 등장 빈도 비율: 3.520827624006577\n",
            "단어 집합의 크기 : 6835\n"
          ]
        },
        {
          "output_type": "stream",
          "name": "stderr",
          "text": [
            "100%|██████████| 4403/4403 [00:07<00:00, 576.83it/s]\n"
          ]
        },
        {
          "output_type": "stream",
          "name": "stdout",
          "text": [
            "단어 집합(vocabulary)의 크기 : 9020\n",
            "등장 빈도가 2번 이하인 희귀 단어의 수: 6883\n",
            "단어 집합에서 희귀 단어의 비율: 76.30820399113082\n",
            "전체 등장 빈도에서 희귀 단어 등장 빈도 비율: 22.881898977516506\n",
            "단어 집합의 크기 : 2138\n"
          ]
        },
        {
          "output_type": "stream",
          "name": "stderr",
          "text": [
            "100%|██████████| 4403/4403 [00:06<00:00, 692.72it/s]\n"
          ]
        },
        {
          "output_type": "stream",
          "name": "stdout",
          "text": [
            "단어 집합(vocabulary)의 크기 : 2175\n",
            "등장 빈도가 2번 이하인 희귀 단어의 수: 602\n",
            "단어 집합에서 희귀 단어의 비율: 27.67816091954023\n",
            "전체 등장 빈도에서 희귀 단어 등장 빈도 비율: 2.5673745936256194\n",
            "단어 집합의 크기 : 1574\n"
          ]
        },
        {
          "output_type": "stream",
          "name": "stderr",
          "text": [
            "100%|██████████| 4403/4403 [00:19<00:00, 229.89it/s]\n"
          ]
        },
        {
          "output_type": "stream",
          "name": "stdout",
          "text": [
            "단어 집합(vocabulary)의 크기 : 9331\n",
            "등장 빈도가 2번 이하인 희귀 단어의 수: 3897\n",
            "단어 집합에서 희귀 단어의 비율: 41.76401243167935\n",
            "전체 등장 빈도에서 희귀 단어 등장 빈도 비율: 5.99469666877798\n",
            "단어 집합의 크기 : 5435\n"
          ]
        },
        {
          "output_type": "stream",
          "name": "stderr",
          "text": [
            "100%|██████████| 4403/4403 [00:29<00:00, 150.01it/s]\n"
          ]
        },
        {
          "output_type": "stream",
          "name": "stdout",
          "text": [
            "단어 집합(vocabulary)의 크기 : 10464\n",
            "등장 빈도가 2번 이하인 희귀 단어의 수: 3630\n",
            "단어 집합에서 희귀 단어의 비율: 34.690366972477065\n",
            "전체 등장 빈도에서 희귀 단어 등장 빈도 비율: 3.520827624006577\n",
            "단어 집합의 크기 : 6835\n"
          ]
        },
        {
          "output_type": "stream",
          "name": "stderr",
          "text": [
            "100%|██████████| 2936/2936 [00:05<00:00, 571.51it/s]\n"
          ]
        },
        {
          "output_type": "stream",
          "name": "stdout",
          "text": [
            "단어 집합(vocabulary)의 크기 : 7091\n",
            "등장 빈도가 2번 이하인 희귀 단어의 수: 5557\n",
            "단어 집합에서 희귀 단어의 비율: 78.36694401353829\n",
            "전체 등장 빈도에서 희귀 단어 등장 빈도 비율: 27.32548430193721\n",
            "단어 집합의 크기 : 1535\n"
          ]
        },
        {
          "output_type": "stream",
          "name": "stderr",
          "text": [
            "100%|██████████| 2936/2936 [00:04<00:00, 659.14it/s]\n"
          ]
        },
        {
          "output_type": "stream",
          "name": "stdout",
          "text": [
            "단어 집합(vocabulary)의 크기 : 2031\n",
            "등장 빈도가 2번 이하인 희귀 단어의 수: 645\n",
            "단어 집합에서 희귀 단어의 비율: 31.757754800590842\n",
            "전체 등장 빈도에서 희귀 단어 등장 빈도 비율: 3.905760100331452\n",
            "단어 집합의 크기 : 1387\n"
          ]
        },
        {
          "output_type": "stream",
          "name": "stderr",
          "text": [
            "100%|██████████| 2936/2936 [00:13<00:00, 222.54it/s]\n"
          ]
        },
        {
          "output_type": "stream",
          "name": "stdout",
          "text": [
            "단어 집합(vocabulary)의 크기 : 8273\n",
            "등장 빈도가 2번 이하인 희귀 단어의 수: 4087\n",
            "단어 집합에서 희귀 단어의 비율: 49.40166807687659\n",
            "전체 등장 빈도에서 희귀 단어 등장 빈도 비율: 8.779446543198501\n",
            "단어 집합의 크기 : 4187\n"
          ]
        },
        {
          "output_type": "stream",
          "name": "stderr",
          "text": [
            "100%|██████████| 2936/2936 [00:23<00:00, 126.43it/s]\n"
          ]
        },
        {
          "output_type": "stream",
          "name": "stdout",
          "text": [
            "단어 집합(vocabulary)의 크기 : 9667\n",
            "등장 빈도가 2번 이하인 희귀 단어의 수: 4108\n",
            "단어 집합에서 희귀 단어의 비율: 42.495086376331855\n",
            "전체 등장 빈도에서 희귀 단어 등장 빈도 비율: 5.501181558125963\n",
            "단어 집합의 크기 : 5560\n"
          ]
        },
        {
          "output_type": "stream",
          "name": "stderr",
          "text": [
            "100%|██████████| 2936/2936 [00:05<00:00, 571.31it/s]\n"
          ]
        },
        {
          "output_type": "stream",
          "name": "stdout",
          "text": [
            "단어 집합(vocabulary)의 크기 : 7091\n",
            "등장 빈도가 2번 이하인 희귀 단어의 수: 5557\n",
            "단어 집합에서 희귀 단어의 비율: 78.36694401353829\n",
            "전체 등장 빈도에서 희귀 단어 등장 빈도 비율: 27.32548430193721\n",
            "단어 집합의 크기 : 1535\n"
          ]
        },
        {
          "output_type": "stream",
          "name": "stderr",
          "text": [
            "100%|██████████| 2936/2936 [00:04<00:00, 685.26it/s]\n"
          ]
        },
        {
          "output_type": "stream",
          "name": "stdout",
          "text": [
            "단어 집합(vocabulary)의 크기 : 2031\n",
            "등장 빈도가 2번 이하인 희귀 단어의 수: 645\n",
            "단어 집합에서 희귀 단어의 비율: 31.757754800590842\n",
            "전체 등장 빈도에서 희귀 단어 등장 빈도 비율: 3.905760100331452\n",
            "단어 집합의 크기 : 1387\n"
          ]
        },
        {
          "output_type": "stream",
          "name": "stderr",
          "text": [
            "100%|██████████| 2936/2936 [00:13<00:00, 218.16it/s]\n"
          ]
        },
        {
          "output_type": "stream",
          "name": "stdout",
          "text": [
            "단어 집합(vocabulary)의 크기 : 8273\n",
            "등장 빈도가 2번 이하인 희귀 단어의 수: 4087\n",
            "단어 집합에서 희귀 단어의 비율: 49.40166807687659\n",
            "전체 등장 빈도에서 희귀 단어 등장 빈도 비율: 8.779446543198501\n",
            "단어 집합의 크기 : 4187\n"
          ]
        },
        {
          "output_type": "stream",
          "name": "stderr",
          "text": [
            "100%|██████████| 2936/2936 [00:24<00:00, 121.96it/s]\n"
          ]
        },
        {
          "output_type": "stream",
          "name": "stdout",
          "text": [
            "단어 집합(vocabulary)의 크기 : 9667\n",
            "등장 빈도가 2번 이하인 희귀 단어의 수: 4108\n",
            "단어 집합에서 희귀 단어의 비율: 42.495086376331855\n",
            "전체 등장 빈도에서 희귀 단어 등장 빈도 비율: 5.501181558125963\n",
            "단어 집합의 크기 : 5560\n"
          ]
        },
        {
          "output_type": "stream",
          "name": "stderr",
          "text": [
            "100%|██████████| 2936/2936 [00:05<00:00, 557.61it/s]\n"
          ]
        },
        {
          "output_type": "stream",
          "name": "stdout",
          "text": [
            "단어 집합(vocabulary)의 크기 : 7091\n",
            "등장 빈도가 2번 이하인 희귀 단어의 수: 5557\n",
            "단어 집합에서 희귀 단어의 비율: 78.36694401353829\n",
            "전체 등장 빈도에서 희귀 단어 등장 빈도 비율: 27.32548430193721\n",
            "단어 집합의 크기 : 1535\n"
          ]
        },
        {
          "output_type": "stream",
          "name": "stderr",
          "text": [
            "100%|██████████| 2936/2936 [00:04<00:00, 692.82it/s]\n"
          ]
        },
        {
          "output_type": "stream",
          "name": "stdout",
          "text": [
            "단어 집합(vocabulary)의 크기 : 2031\n",
            "등장 빈도가 2번 이하인 희귀 단어의 수: 645\n",
            "단어 집합에서 희귀 단어의 비율: 31.757754800590842\n",
            "전체 등장 빈도에서 희귀 단어 등장 빈도 비율: 3.905760100331452\n",
            "단어 집합의 크기 : 1387\n"
          ]
        },
        {
          "output_type": "stream",
          "name": "stderr",
          "text": [
            "100%|██████████| 2936/2936 [00:14<00:00, 205.62it/s]\n"
          ]
        },
        {
          "output_type": "stream",
          "name": "stdout",
          "text": [
            "단어 집합(vocabulary)의 크기 : 8273\n",
            "등장 빈도가 2번 이하인 희귀 단어의 수: 4087\n",
            "단어 집합에서 희귀 단어의 비율: 49.40166807687659\n",
            "전체 등장 빈도에서 희귀 단어 등장 빈도 비율: 8.779446543198501\n",
            "단어 집합의 크기 : 4187\n"
          ]
        },
        {
          "output_type": "stream",
          "name": "stderr",
          "text": [
            "100%|██████████| 2936/2936 [00:21<00:00, 135.48it/s]\n"
          ]
        },
        {
          "output_type": "stream",
          "name": "stdout",
          "text": [
            "단어 집합(vocabulary)의 크기 : 9667\n",
            "등장 빈도가 2번 이하인 희귀 단어의 수: 4108\n",
            "단어 집합에서 희귀 단어의 비율: 42.495086376331855\n",
            "전체 등장 빈도에서 희귀 단어 등장 빈도 비율: 5.501181558125963\n",
            "단어 집합의 크기 : 5560\n"
          ]
        }
      ]
    },
    {
      "cell_type": "code",
      "source": [
        "test_data_dysphoria_processed.shape, len(X_test_dysphoria), test_data_euphoria_processed.shape, len(X_test_euphoria)\n"
      ],
      "metadata": {
        "colab": {
          "base_uri": "https://localhost:8080/"
        },
        "id": "sseIzdH48VvJ",
        "outputId": "b15ec76c-61e1-4d84-ab90-edff3725c161"
      },
      "execution_count": 52,
      "outputs": [
        {
          "output_type": "execute_result",
          "data": {
            "text/plain": [
              "((2936, 5), 4, (2936, 5), 4)"
            ]
          },
          "metadata": {},
          "execution_count": 52
        }
      ]
    },
    {
      "cell_type": "code",
      "source": [
        "len(X_test_dysphoria[1])"
      ],
      "metadata": {
        "colab": {
          "base_uri": "https://localhost:8080/"
        },
        "id": "LLU-FLPMAkWP",
        "outputId": "80552965-567e-49e0-8cb0-e81b1b29e03f"
      },
      "execution_count": 59,
      "outputs": [
        {
          "output_type": "execute_result",
          "data": {
            "text/plain": [
              "2936"
            ]
          },
          "metadata": {},
          "execution_count": 59
        }
      ]
    },
    {
      "cell_type": "code",
      "source": [
        "# # test_data_dysphoria_processed.fillna('.')\n",
        "# for aaa in range(len(X_train_dysphoria)):\n",
        "#   if len(X_train_dysphoria[aaa])==0:\n",
        "#     print('ok')"
      ],
      "metadata": {
        "id": "nsx_lHxZ23Zf"
      },
      "execution_count": null,
      "outputs": []
    },
    {
      "cell_type": "code",
      "execution_count": null,
      "metadata": {
        "id": "q9ZCUaR0JvDV"
      },
      "outputs": [],
      "source": [
        "# stopwords = ['의','가','이','은','들','는','좀','잘','걍','과','도','를','으로','자','에','와','한','하다']\n",
        "# okt = Okt()\n",
        "# okt.morphs('와 이런 것도 영화라고 차라리 뮤직비디오를 만드는 게 나을 뻔', stem = True)\n",
        "# X_train = []\n",
        "# for sentence in tqdm(train_data['document']):\n",
        "#     tokenized_sentence = okt.morphs(sentence, stem=True) # 토큰화\n",
        "#     stopwords_removed_sentence = [word for word in tokenized_sentence if not word in stopwords] # 불용어 제거\n",
        "#     X_train.append(stopwords_removed_sentence)\n",
        "# print(X_train[:3])"
      ]
    },
    {
      "cell_type": "code",
      "execution_count": null,
      "metadata": {
        "id": "FSjT1GlmL6yh"
      },
      "outputs": [],
      "source": [
        "# X_test = []\n",
        "# for sentence in tqdm(test_data['document']):\n",
        "#     tokenized_sentence = okt.morphs(sentence, stem=True) # 토큰화\n",
        "#     stopwords_removed_sentence = [word for word in tokenized_sentence if not word in stopwords] # 불용어 제거\n",
        "#     X_test.append(stopwords_removed_sentence)"
      ]
    },
    {
      "cell_type": "code",
      "execution_count": null,
      "metadata": {
        "id": "Uz6rOH1KL_Hm"
      },
      "outputs": [],
      "source": [
        "# tokenizer = Tokenizer()\n",
        "# tokenizer.fit_on_texts(X_train)"
      ]
    },
    {
      "cell_type": "code",
      "execution_count": null,
      "metadata": {
        "id": "ZzFBsVyPMBBw"
      },
      "outputs": [],
      "source": [
        "# print(tokenizer.word_index)"
      ]
    },
    {
      "cell_type": "code",
      "execution_count": null,
      "metadata": {
        "id": "c3V9_6UlMDLu"
      },
      "outputs": [],
      "source": [
        "# threshold = 3\n",
        "# total_cnt = len(tokenizer.word_index) # 단어의 수\n",
        "# rare_cnt = 0 # 등장 빈도수가 threshold보다 작은 단어의 개수를 카운트\n",
        "# total_freq = 0 # 훈련 데이터의 전체 단어 빈도수 총 합\n",
        "# rare_freq = 0 # 등장 빈도수가 threshold보다 작은 단어의 등장 빈도수의 총 합\n",
        "\n",
        "# # 단어와 빈도수의 쌍(pair)을 key와 value로 받는다.\n",
        "# for key, value in tokenizer.word_counts.items():\n",
        "#     total_freq = total_freq + value\n",
        "\n",
        "#     # 단어의 등장 빈도수가 threshold보다 작으면\n",
        "#     if(value < threshold):\n",
        "#         rare_cnt = rare_cnt + 1\n",
        "#         rare_freq = rare_freq + value\n",
        "\n",
        "# print('단어 집합(vocabulary)의 크기 :',total_cnt)\n",
        "# print('등장 빈도가 %s번 이하인 희귀 단어의 수: %s'%(threshold - 1, rare_cnt))\n",
        "# print(\"단어 집합에서 희귀 단어의 비율:\", (rare_cnt / total_cnt)*100)\n",
        "# print(\"전체 등장 빈도에서 희귀 단어 등장 빈도 비율:\", (rare_freq / total_freq)*100)"
      ]
    },
    {
      "cell_type": "code",
      "execution_count": null,
      "metadata": {
        "id": "mW9nRip_MFOq"
      },
      "outputs": [],
      "source": [
        "# # 전체 단어 개수 중 빈도수 2이하인 단어는 제거.\n",
        "# # 0번 패딩 토큰을 고려하여 + 1\n",
        "# vocab_size = total_cnt - rare_cnt + 1\n",
        "# print('단어 집합의 크기 :',vocab_size)"
      ]
    },
    {
      "cell_type": "code",
      "execution_count": null,
      "metadata": {
        "id": "_4FMBvzXMH_r"
      },
      "outputs": [],
      "source": [
        "# tokenizer = Tokenizer(vocab_size) \n",
        "# tokenizer.fit_on_texts(X_train)\n",
        "# X_train = tokenizer.texts_to_sequences(X_train)\n",
        "# # X_test = tokenizer.texts_to_sequences(X_test)"
      ]
    },
    {
      "cell_type": "code",
      "source": [
        "def to_num(label):\n",
        "  if label == 'not':\n",
        "    label = 1\n",
        "    return label\n",
        "  else:\n",
        "    label = 0\n",
        "    return label\n",
        "\n",
        "\n",
        "Y_train_tonum_euphoria = train_data_euphoria_processed['label'].apply(to_num)  \n",
        "Y_train_tonum_dysphoria = train_data_dysphoria_processed['label'].apply(to_num) \n",
        "\n",
        "Y_test_tonum_euphoria = test_data_euphoria_processed['label'].apply(to_num)  \n",
        "Y_test_tonum_dysphoria = test_data_dysphoria_processed['label'].apply(to_num) \n",
        "\n",
        "\n",
        "Y_test_tonum_total = np.array(test_data_total_processed['label'])"
      ],
      "metadata": {
        "id": "BRwzGiitmvBU"
      },
      "execution_count": 56,
      "outputs": []
    },
    {
      "cell_type": "code",
      "source": [
        "Y_train_euphoria = np.array(Y_train_tonum_euphoria)\n",
        "Y_train_dysphoria = np.array(Y_train_tonum_dysphoria)\n",
        "\n",
        "Y_test_euphoria = np.array(Y_test_tonum_euphoria)\n",
        "Y_test_dysphoria = np.array(Y_test_tonum_dysphoria)\n",
        "\n",
        "Y_test_total = np.array(Y_test_tonum_total)\n",
        "# y_test = np.array(test_data['label'])\n",
        "\n",
        "\n",
        "\n",
        "Y_train_dysphoria.shape"
      ],
      "metadata": {
        "id": "b8zQjzYznHIK",
        "colab": {
          "base_uri": "https://localhost:8080/"
        },
        "outputId": "4a42027a-9554-4198-f99f-e60c56645c58"
      },
      "execution_count": 57,
      "outputs": [
        {
          "output_type": "execute_result",
          "data": {
            "text/plain": [
              "(4403,)"
            ]
          },
          "metadata": {},
          "execution_count": 57
        }
      ]
    },
    {
      "cell_type": "markdown",
      "metadata": {
        "id": "aJls9fuzMLXF"
      },
      "source": [
        "# 5) 빈 샘플 제거\n",
        "\n",
        "전체 데이터에서 빈도수가 낮은 단어가 삭제되었다는 것은 빈도수가 낮은 단어만으로 구성되었던 샘플들은 빈(empty) 샘플이 되었다는 것을 의미합니다. 빈 샘플들은 어떤 레이블이 붙어있던 의미가 없으므로 빈 샘플들을 제거해주는 작업을 하겠습니다. 각 샘플들의 길이를 확인해서 길이가 0인 샘플들의 인덱스를 받아오겠습니다."
      ]
    },
    {
      "cell_type": "code",
      "execution_count": 27,
      "metadata": {
        "id": "mGySQuaoMNVu",
        "colab": {
          "base_uri": "https://localhost:8080/"
        },
        "outputId": "26cdb373-6d5d-43f8-9b05-121bbd111d02"
      },
      "outputs": [
        {
          "output_type": "execute_result",
          "data": {
            "text/plain": [
              "[]"
            ]
          },
          "metadata": {},
          "execution_count": 27
        }
      ],
      "source": [
        "drop_train = [index for index, sentence in enumerate(X_train_euphoria) if len(sentence) < 1]\n",
        "drop_train"
      ]
    },
    {
      "cell_type": "code",
      "execution_count": 60,
      "metadata": {
        "colab": {
          "base_uri": "https://localhost:8080/"
        },
        "id": "8sFTxuKoMO00",
        "outputId": "a25e9940-74bc-4fba-de1c-f9d4382a59ad"
      },
      "outputs": [
        {
          "output_type": "stream",
          "name": "stderr",
          "text": [
            "/usr/local/lib/python3.7/dist-packages/numpy/lib/function_base.py:4454: VisibleDeprecationWarning: Creating an ndarray from ragged nested sequences (which is a list-or-tuple of lists-or-tuples-or ndarrays with different lengths or shapes) is deprecated. If you meant to do this, you must specify 'dtype=object' when creating the ndarray.\n",
            "  arr = asarray(arr)\n"
          ]
        }
      ],
      "source": [
        "# 빈 샘플들을 제거\n",
        "train_x_euphoria = np.delete(X_train_euphoria, drop_train, axis=0)\n",
        "train_x_dysphoria = np.delete(X_train_dysphoria, drop_train, axis=0)\n",
        "\n",
        "train_y_euphoria = np.delete(Y_train_euphoria, drop_train, axis=0)\n",
        "train_y_dysphoria = np.delete(Y_train_dysphoria, drop_train, axis=0)\n",
        "\n",
        "# len(np.delete(Y_train, drop_train, axis=0))"
      ]
    },
    {
      "cell_type": "code",
      "source": [
        "# test_x_euphoria = np.delete(X_test_euphoria, drop_train, axis=0)\n",
        "# test_x_dysphoria = np.delete(X_test_dysphoria, drop_train, axis=0)\n",
        "\n",
        "# test_y_euphoria = np.delete(Y_test_euphoria, drop_train, axis=0)\n",
        "# test_y_dysphoria = np.delete(Y_test_dysphoria, drop_train, axis=0)\n",
        "\n",
        "test_x_euphoria = X_test_euphoria.copy()\n",
        "test_x_dysphoria = X_test_dysphoria.copy()\n",
        "test_x_total= X_test_total.copy()\n",
        "\n",
        "test_y_euphoria = Y_test_euphoria.copy()\n",
        "test_y_dysphoria = Y_test_dysphoria.copy()\n",
        "test_y_total= Y_test_total.copy()\n",
        "\n"
      ],
      "metadata": {
        "id": "7lYdExKf0QtQ"
      },
      "execution_count": 61,
      "outputs": []
    },
    {
      "cell_type": "code",
      "source": [
        "len(test_x_euphoria) , len(test_x_dysphoria), len(test_x_total)"
      ],
      "metadata": {
        "colab": {
          "base_uri": "https://localhost:8080/"
        },
        "id": "eCG0g999rV2o",
        "outputId": "3b181eae-791c-4efd-b5a8-6a4403fc07b8"
      },
      "execution_count": 62,
      "outputs": [
        {
          "output_type": "execute_result",
          "data": {
            "text/plain": [
              "(4, 4, 4)"
            ]
          },
          "metadata": {},
          "execution_count": 62
        }
      ]
    },
    {
      "cell_type": "markdown",
      "metadata": {
        "id": "5TCxzEz3MP1s"
      },
      "source": [
        "# 6) 패딩\n",
        "\n",
        "서로 다른 길이의 샘플들의 길이를 동일하게 맞춰주는 패딩 작업을 진행해보겠습니다. 전체 데이터에서 가장 길이가 긴 리뷰와 전체 데이터의 길이 분포를 알아보겠습니다."
      ]
    },
    {
      "cell_type": "code",
      "source": [
        "train_x_euphoria.shape"
      ],
      "metadata": {
        "colab": {
          "base_uri": "https://localhost:8080/"
        },
        "id": "t3e8ZtHZAIKX",
        "outputId": "4b54fba8-a0b1-4d09-eb6d-55c40b209534"
      },
      "execution_count": 74,
      "outputs": [
        {
          "output_type": "execute_result",
          "data": {
            "text/plain": [
              "(4, 4403)"
            ]
          },
          "metadata": {},
          "execution_count": 74
        }
      ]
    },
    {
      "cell_type": "code",
      "execution_count": 65,
      "metadata": {
        "colab": {
          "base_uri": "https://localhost:8080/",
          "height": 1000
        },
        "id": "6HYWVqpEMRsw",
        "outputId": "e694531b-767c-4503-bf18-c1a003118294"
      },
      "outputs": [
        {
          "output_type": "stream",
          "name": "stdout",
          "text": [
            "리뷰의 최대 길이 : 38\n",
            "리뷰의 평균 길이 : 6.286622757210992\n"
          ]
        },
        {
          "output_type": "display_data",
          "data": {
            "text/plain": [
              "<Figure size 432x288 with 1 Axes>"
            ],
            "image/png": "[encoded data removed]"
          },
          "metadata": {
            "needs_background": "light"
          }
        },
        {
          "output_type": "stream",
          "name": "stdout",
          "text": [
            "전체 샘플 중 길이가 25 이하인 샘플의 비율: 99.50034067681126\n",
            "리뷰의 최대 길이 : 46\n",
            "리뷰의 평균 길이 : 7.283215989098342\n"
          ]
        },
        {
          "output_type": "display_data",
          "data": {
            "text/plain": [
              "<Figure size 432x288 with 1 Axes>"
            ],
            "image/png": "[encoded data removed]"
          },
          "metadata": {
            "needs_background": "light"
          }
        },
        {
          "output_type": "stream",
          "name": "stdout",
          "text": [
            "전체 샘플 중 길이가 25 이하인 샘플의 비율: 97.79695662048603\n",
            "리뷰의 최대 길이 : 259\n",
            "리뷰의 평균 길이 : 19.887576652282533\n"
          ]
        },
        {
          "output_type": "display_data",
          "data": {
            "text/plain": [
              "<Figure size 432x288 with 1 Axes>"
            ],
            "image/png": "[encoded data removed]"
          },
          "metadata": {
            "needs_background": "light"
          }
        },
        {
          "output_type": "stream",
          "name": "stdout",
          "text": [
            "전체 샘플 중 길이가 25 이하인 샘플의 비율: 73.94957983193278\n",
            "리뷰의 최대 길이 : 492\n",
            "리뷰의 평균 길이 : 31.98296615943675\n"
          ]
        },
        {
          "output_type": "display_data",
          "data": {
            "text/plain": [
              "<Figure size 432x288 with 1 Axes>"
            ],
            "image/png": "[encoded data removed]"
          },
          "metadata": {
            "needs_background": "light"
          }
        },
        {
          "output_type": "stream",
          "name": "stdout",
          "text": [
            "전체 샘플 중 길이가 25 이하인 샘플의 비율: 62.41199182375653\n",
            "리뷰의 최대 길이 : 38\n",
            "리뷰의 평균 길이 : 6.286622757210992\n"
          ]
        },
        {
          "output_type": "display_data",
          "data": {
            "text/plain": [
              "<Figure size 432x288 with 1 Axes>"
            ],
            "image/png": "[encoded data removed]"
          },
          "metadata": {
            "needs_background": "light"
          }
        },
        {
          "output_type": "stream",
          "name": "stdout",
          "text": [
            "전체 샘플 중 길이가 25 이하인 샘플의 비율: 99.50034067681126\n",
            "리뷰의 최대 길이 : 46\n",
            "리뷰의 평균 길이 : 7.283215989098342\n"
          ]
        },
        {
          "output_type": "display_data",
          "data": {
            "text/plain": [
              "<Figure size 432x288 with 1 Axes>"
            ],
            "image/png": "[encoded data removed]"
          },
          "metadata": {
            "needs_background": "light"
          }
        },
        {
          "output_type": "stream",
          "name": "stdout",
          "text": [
            "전체 샘플 중 길이가 25 이하인 샘플의 비율: 97.79695662048603\n",
            "리뷰의 최대 길이 : 259\n",
            "리뷰의 평균 길이 : 19.887576652282533\n"
          ]
        },
        {
          "output_type": "display_data",
          "data": {
            "text/plain": [
              "<Figure size 432x288 with 1 Axes>"
            ],
            "image/png": "[encoded data removed]"
          },
          "metadata": {
            "needs_background": "light"
          }
        },
        {
          "output_type": "stream",
          "name": "stdout",
          "text": [
            "전체 샘플 중 길이가 25 이하인 샘플의 비율: 73.94957983193278\n",
            "리뷰의 최대 길이 : 492\n",
            "리뷰의 평균 길이 : 31.98296615943675\n"
          ]
        },
        {
          "output_type": "display_data",
          "data": {
            "text/plain": [
              "<Figure size 432x288 with 1 Axes>"
            ],
            "image/png": "[encoded data removed]"
          },
          "metadata": {
            "needs_background": "light"
          }
        },
        {
          "output_type": "stream",
          "name": "stdout",
          "text": [
            "전체 샘플 중 길이가 25 이하인 샘플의 비율: 62.41199182375653\n",
            "리뷰의 최대 길이 : 34\n",
            "리뷰의 평균 길이 : 5.9288147138964575\n"
          ]
        },
        {
          "output_type": "display_data",
          "data": {
            "text/plain": [
              "<Figure size 432x288 with 1 Axes>"
            ],
            "image/png": "[encoded data removed]"
          },
          "metadata": {
            "needs_background": "light"
          }
        },
        {
          "output_type": "stream",
          "name": "stdout",
          "text": [
            "전체 샘플 중 길이가 25 이하인 샘플의 비율: 99.62534059945504\n",
            "리뷰의 최대 길이 : 48\n",
            "리뷰의 평균 길이 : 7.3072207084468666\n"
          ]
        },
        {
          "output_type": "display_data",
          "data": {
            "text/plain": [
              "<Figure size 432x288 with 1 Axes>"
            ],
            "image/png": "[encoded data removed]"
          },
          "metadata": {
            "needs_background": "light"
          }
        },
        {
          "output_type": "stream",
          "name": "stdout",
          "text": [
            "전체 샘플 중 길이가 25 이하인 샘플의 비율: 97.58174386920982\n",
            "리뷰의 최대 길이 : 270\n",
            "리뷰의 평균 길이 : 20.231948228882835\n"
          ]
        },
        {
          "output_type": "display_data",
          "data": {
            "text/plain": [
              "<Figure size 432x288 with 1 Axes>"
            ],
            "image/png": "[encoded data removed]"
          },
          "metadata": {
            "needs_background": "light"
          }
        },
        {
          "output_type": "stream",
          "name": "stdout",
          "text": [
            "전체 샘플 중 길이가 25 이하인 샘플의 비율: 73.87602179836512\n",
            "리뷰의 최대 길이 : 409\n",
            "리뷰의 평균 길이 : 33.64202997275204\n"
          ]
        },
        {
          "output_type": "display_data",
          "data": {
            "text/plain": [
              "<Figure size 432x288 with 1 Axes>"
            ],
            "image/png": "[encoded data removed]"
          },
          "metadata": {
            "needs_background": "light"
          }
        },
        {
          "output_type": "stream",
          "name": "stdout",
          "text": [
            "전체 샘플 중 길이가 25 이하인 샘플의 비율: 60.252043596730246\n",
            "리뷰의 최대 길이 : 34\n",
            "리뷰의 평균 길이 : 5.9288147138964575\n"
          ]
        },
        {
          "output_type": "display_data",
          "data": {
            "text/plain": [
              "<Figure size 432x288 with 1 Axes>"
            ],
            "image/png": "[encoded data removed]"
          },
          "metadata": {
            "needs_background": "light"
          }
        },
        {
          "output_type": "stream",
          "name": "stdout",
          "text": [
            "전체 샘플 중 길이가 25 이하인 샘플의 비율: 99.62534059945504\n",
            "리뷰의 최대 길이 : 48\n",
            "리뷰의 평균 길이 : 7.3072207084468666\n"
          ]
        },
        {
          "output_type": "display_data",
          "data": {
            "text/plain": [
              "<Figure size 432x288 with 1 Axes>"
            ],
            "image/png": "[encoded data removed]"
          },
          "metadata": {
            "needs_background": "light"
          }
        },
        {
          "output_type": "stream",
          "name": "stdout",
          "text": [
            "전체 샘플 중 길이가 25 이하인 샘플의 비율: 97.58174386920982\n",
            "리뷰의 최대 길이 : 270\n",
            "리뷰의 평균 길이 : 20.231948228882835\n"
          ]
        },
        {
          "output_type": "display_data",
          "data": {
            "text/plain": [
              "<Figure size 432x288 with 1 Axes>"
            ],
            "image/png": "[encoded data removed]"
          },
          "metadata": {
            "needs_background": "light"
          }
        },
        {
          "output_type": "stream",
          "name": "stdout",
          "text": [
            "전체 샘플 중 길이가 25 이하인 샘플의 비율: 73.87602179836512\n",
            "리뷰의 최대 길이 : 409\n",
            "리뷰의 평균 길이 : 33.64202997275204\n"
          ]
        },
        {
          "output_type": "display_data",
          "data": {
            "text/plain": [
              "<Figure size 432x288 with 1 Axes>"
            ],
            "image/png": "[encoded data removed]"
          },
          "metadata": {
            "needs_background": "light"
          }
        },
        {
          "output_type": "stream",
          "name": "stdout",
          "text": [
            "전체 샘플 중 길이가 25 이하인 샘플의 비율: 60.252043596730246\n",
            "리뷰의 최대 길이 : 34\n",
            "리뷰의 평균 길이 : 5.9288147138964575\n"
          ]
        },
        {
          "output_type": "display_data",
          "data": {
            "text/plain": [
              "<Figure size 432x288 with 1 Axes>"
            ],
            "image/png": "[encoded data removed]"
          },
          "metadata": {
            "needs_background": "light"
          }
        },
        {
          "output_type": "stream",
          "name": "stdout",
          "text": [
            "전체 샘플 중 길이가 25 이하인 샘플의 비율: 99.62534059945504\n",
            "리뷰의 최대 길이 : 48\n",
            "리뷰의 평균 길이 : 7.3072207084468666\n"
          ]
        },
        {
          "output_type": "display_data",
          "data": {
            "text/plain": [
              "<Figure size 432x288 with 1 Axes>"
            ],
            "image/png": "[encoded data removed]"
          },
          "metadata": {
            "needs_background": "light"
          }
        },
        {
          "output_type": "stream",
          "name": "stdout",
          "text": [
            "전체 샘플 중 길이가 25 이하인 샘플의 비율: 97.58174386920982\n",
            "리뷰의 최대 길이 : 270\n",
            "리뷰의 평균 길이 : 20.231948228882835\n"
          ]
        },
        {
          "output_type": "display_data",
          "data": {
            "text/plain": [
              "<Figure size 432x288 with 1 Axes>"
            ],
            "image/png": "[encoded data removed]"
          },
          "metadata": {
            "needs_background": "light"
          }
        },
        {
          "output_type": "stream",
          "name": "stdout",
          "text": [
            "전체 샘플 중 길이가 25 이하인 샘플의 비율: 73.87602179836512\n",
            "리뷰의 최대 길이 : 409\n",
            "리뷰의 평균 길이 : 33.64202997275204\n"
          ]
        },
        {
          "output_type": "display_data",
          "data": {
            "text/plain": [
              "<Figure size 432x288 with 1 Axes>"
            ],
            "image/png": "[encoded data removed]"
          },
          "metadata": {
            "needs_background": "light"
          }
        },
        {
          "output_type": "stream",
          "name": "stdout",
          "text": [
            "전체 샘플 중 길이가 25 이하인 샘플의 비율: 60.252043596730246\n"
          ]
        },
        {
          "output_type": "execute_result",
          "data": {
            "text/plain": [
              "((4, 2936, 25), (4, 2936, 25))"
            ]
          },
          "metadata": {},
          "execution_count": 65
        }
      ],
      "source": [
        "def preprocess2(train_x):  \n",
        "\n",
        "  train_x_pad_d = []\n",
        "\n",
        "  for index in range(len(train_x)):\n",
        "\n",
        "    print('리뷰의 최대 길이 :',max(len(review) for review in train_x[index]))\n",
        "    print('리뷰의 평균 길이 :',sum(map(len, train_x[index]))/len(train_x[index]))\n",
        "    plt.hist([len(review) for review in train_x[index]], bins=50)\n",
        "    plt.xlabel('length of samples')\n",
        "    plt.ylabel('number of samples')\n",
        "    plt.show()\n",
        "\n",
        "    def below_threshold_len(max_len, nested_list):\n",
        "      count = 0\n",
        "      for sentence in nested_list:\n",
        "        if(len(sentence) <= max_len):\n",
        "            count = count + 1\n",
        "      print('전체 샘플 중 길이가 %s 이하인 샘플의 비율: %s'%(max_len, (count / len(nested_list))*100))\n",
        "\n",
        "    max_len = 25\n",
        "    below_threshold_len(max_len, train_x[index])\n",
        "    train_x_pad = pad_sequences(train_x[index], maxlen=max_len)\n",
        "    # X_test = pad_sequences(X_test, maxlen=max_len)\n",
        "\n",
        "    train_x_pad_d.append(train_x_pad)\n",
        "\n",
        "  return np.array(train_x_pad_d)\n",
        "\n",
        "train_x_pad_euphoria = preprocess2(train_x_euphoria)\n",
        "train_x_pad_dysphoria = preprocess2(train_x_dysphoria)\n",
        "\n",
        "test_x_pad_euphoria = preprocess2(test_x_euphoria)\n",
        "test_x_pad_dysphoria = preprocess2(test_x_dysphoria)\n",
        "\n",
        "test_x_pad_total = preprocess2(test_x_total)\n",
        "\n",
        "\n",
        "test_x_pad_euphoria.shape, test_x_pad_dysphoria.shape\n"
      ]
    },
    {
      "cell_type": "markdown",
      "metadata": {
        "id": "qEqOCvmvMXt2"
      },
      "source": [
        "## 2. CNN-LSTM 네이버 영화 리뷰 감성 분석하기\n",
        "\n",
        "하이퍼파라미터인 임베딩 벡터의 차원은 100, 은닉 상태의 크기는 128입니다. 모델은 다 대 일 구조의 LSTM을 사용합니다. 해당 모델은 마지막 시점에서 두 개의 선택지 중 하나를 예측하는 이진 분류 문제를 수행하는 모델입니다. 이진 분류 문제의 경우, 출력층에 로지스틱 회귀를 사용해야 하므로 활성화 함수로는 시그모이드 함수를 사용하고, 손실 함수로 크로스 엔트로피 함수를 사용합니다. 하이퍼파라미터인 배치 크기는 64이며, 15 에포크를 수행합니다.\n",
        "\n",
        "EarlyStopping(monitor='val_loss', mode='min', verbose=1, patience=4)는 검증 데이터 손실(val_loss)이 증가하면, 과적합 징후므로 검증 데이터 손실이 4회 증가하면 정해진 에포크가 도달하지 못하였더라도 학습을 조기 종료(Early Stopping)한다는 의미입니다. ModelCheckpoint를 사용하여 검증 데이터의 정확도(val_acc)가 이전보다 좋아질 경우에만 모델을 저장합니다. validation_split=0.2을 사용하여 훈련 데이터의 20%를 검증 데이터로 분리해서 사용하고, 검증 데이터를 통해서 훈련이 적절히 되고 있는지 확인합니다. 검증 데이터는 기계가 훈련 데이터에 과적합되고 있지는 않은지 확인하기 위한 용도로 사용됩니다."
      ]
    },
    {
      "cell_type": "code",
      "source": [
        "train_x_pad_euphoria.shape"
      ],
      "metadata": {
        "colab": {
          "base_uri": "https://localhost:8080/"
        },
        "id": "7DmcyjYfpKTf",
        "outputId": "1e358a24-41cb-4dcd-cf8f-6aa1196d3211"
      },
      "execution_count": 77,
      "outputs": [
        {
          "output_type": "execute_result",
          "data": {
            "text/plain": [
              "(4, 4403, 25)"
            ]
          },
          "metadata": {},
          "execution_count": 77
        }
      ]
    },
    {
      "cell_type": "code",
      "source": [
        "# from sklearn.model_selection import train_test_split\n",
        "# from tensorflow.keras.layers import Embedding, Dense, LSTM, InputLayer, Dropout, Activation, TimeDistributed, Bidirectional\n",
        "# from tensorflow.keras.layers import Conv1D, MaxPooling1D\n",
        "# from keras.datasets import imdb\n",
        "# from tensorflow import keras\n",
        "# from tensorflow.keras import layers\n",
        "# from tensorflow.keras.models import Sequential\n",
        "# from tensorflow.keras.models import load_model\n",
        "# from tensorflow.keras.callbacks import EarlyStopping, ModelCheckpoint\n",
        "\n",
        "\n",
        "# import numpy\n",
        "# import tensorflow as tf\n",
        "# import matplotlib.pyplot as plt\n",
        "\n",
        "# x_train_a, x_test_a, y_train_a,  y_test_a = train_test_split(train_x_pad_euphoria, train_y_euphoria, test_size = 0.3, random_state= 7777777, stratify= train_y_euphoria)\n",
        "# # x_train.shape, y_train.shape\n",
        "\n",
        "# model_lstm_a = Sequential()\n",
        "# model_lstm_a.add(Embedding(10000,100,input_length=None))\n",
        "# model_lstm_a.add(LSTM(128))\n",
        "# model_lstm_a.add(Dense(1,activation='sigmoid'))\n",
        "# model_lstm_a.summary()\n",
        "\n",
        "# es = EarlyStopping(monitor='val_loss', mode='min', verbose=1, patience=4)\n",
        "# mc = ModelCheckpoint('best_model_a.h5', monitor='val_acc', mode='max', verbose=1, save_best_only=True)\n",
        "\n",
        "# model_lstm_a.compile(optimizer='adam',loss='binary_crossentropy',metrics=['acc'])\n",
        "# history = model_lstm_a.fit(x_train_a, y_train_a, epochs=30, callbacks=[es, mc], batch_size=32, validation_data=(x_test_a, y_test_a))"
      ],
      "metadata": {
        "id": "yF5IG2GEwkQs"
      },
      "execution_count": 222,
      "outputs": []
    },
    {
      "cell_type": "code",
      "source": [
        "# from sklearn.model_selection import train_test_split\n",
        "# from tensorflow.keras.layers import Embedding, Dense, LSTM, InputLayer, Dropout, Activation, TimeDistributed, Bidirectional\n",
        "# from tensorflow.keras.layers import Conv1D, MaxPooling1D\n",
        "# from keras.datasets import imdb\n",
        "# from tensorflow import keras\n",
        "# from tensorflow.keras import layers\n",
        "# from tensorflow.keras.models import Sequential\n",
        "# from tensorflow.keras.models import load_model\n",
        "# from tensorflow.keras.callbacks import EarlyStopping, ModelCheckpoint\n",
        "\n",
        "\n",
        "# import numpy\n",
        "# import tensorflow as tf\n",
        "# import matplotlib.pyplot as plt\n",
        "\n",
        "# x_train_d, x_test_d, y_train_d,  y_test_d = train_test_split(train_x_pad_dysphoria, train_y_dysphoria, test_size = 0.3, random_state= 7777777, stratify= train_y_dysphoria)\n",
        "# # x_train.shape, y_train.shape\n",
        "\n",
        "# model_lstm_d = Sequential()\n",
        "# model_lstm_d.add(Embedding(10000,100,input_length=None))\n",
        "# model_lstm_d.add(LSTM(128))\n",
        "# model_lstm_d.add(Dense(1,activation='sigmoid'))\n",
        "# model_lstm_d.summary()\n",
        "\n",
        "# es = EarlyStopping(monitor='val_loss', mode='min', verbose=1, patience=4)\n",
        "# mc = ModelCheckpoint('best_model_d.h5', monitor='val_acc', mode='max', verbose=1, save_best_only=True)\n",
        "\n",
        "# model_lstm_d.compile(optimizer='adam',loss='binary_crossentropy',metrics=['acc'])\n",
        "# history = model_lstm_d.fit(x_train_d, y_train_d, epochs=30, callbacks=[es, mc], batch_size=32, validation_data=(x_test_d, y_test_d))"
      ],
      "metadata": {
        "id": "Xa7xBWacwkN2"
      },
      "execution_count": 223,
      "outputs": []
    },
    {
      "cell_type": "code",
      "source": [
        "import tensorflow as tf\n",
        "device_name = tf.test.gpu_device_name()\n",
        "if device_name != '/device:GPU:0':\n",
        "  raise SystemError('GPU device not found')\n",
        "print('Found GPU at: {}'.format(device_name))\n",
        "\n",
        "import os # GPU 설정\n",
        "os.environ[\"CUDA_DEVICE_ORDER\"]=\"PCI_BUS_ID\";\n",
        "os.environ[\"CUDA_VISIBLE_DEVICES\"]=\"0\"; \n"
      ],
      "metadata": {
        "colab": {
          "base_uri": "https://localhost:8080/"
        },
        "id": "xmORQuN5SBPe",
        "outputId": "06e44c63-d190-4a24-88d0-38cd2d25476f"
      },
      "execution_count": 66,
      "outputs": [
        {
          "output_type": "stream",
          "name": "stdout",
          "text": [
            "Found GPU at: /device:GPU:0\n"
          ]
        }
      ]
    },
    {
      "cell_type": "code",
      "source": [
        "train_x_pad_dysphoria.shape"
      ],
      "metadata": {
        "colab": {
          "base_uri": "https://localhost:8080/"
        },
        "id": "6t7gPCa6JA7v",
        "outputId": "e9f2c671-2034-4d8e-d8db-981fba66a2d7"
      },
      "execution_count": 84,
      "outputs": [
        {
          "output_type": "execute_result",
          "data": {
            "text/plain": [
              "(4, 4403, 25)"
            ]
          },
          "metadata": {},
          "execution_count": 84
        }
      ]
    },
    {
      "cell_type": "code",
      "source": [
        "from sklearn.model_selection import train_test_split\n",
        "from tensorflow.keras.layers import Embedding, Dense, LSTM, InputLayer, Dropout, Activation, TimeDistributed, Bidirectional, Input, Flatten\n",
        "from tensorflow.keras.layers import Conv1D, MaxPooling1D\n",
        "from keras.models import Model \n",
        "from keras.datasets import imdb\n",
        "from tensorflow import keras\n",
        "from tensorflow.keras import layers\n",
        "from tensorflow.keras.models import Sequential\n",
        "from tensorflow.keras.models import load_model\n",
        "from tensorflow.keras.callbacks import EarlyStopping, ModelCheckpoint\n",
        "\n",
        "\n",
        "import numpy\n",
        "import tensorflow as tf\n",
        "import matplotlib.pyplot as plt\n",
        "\n",
        "x_train_d, x_test_d, y_train_d,  y_test_d = train_test_split(train_x_pad_dysphoria.reshape(4403, 4*25), train_y_dysphoria, test_size = 0.3, random_state= 7777777, stratify= train_y_dysphoria)\n",
        "# x_train.shape, y_train.shape\n",
        "\n",
        "\n",
        "# input = Input(shape = (100))\n",
        "# # output = TimeDistributed(Flatten(input_shape=(4,25)))(input)\n",
        "# output = Embedding(10000,100,input_length=None)(input)\n",
        "# # output = Bidirectional(LSTM(128, dropout=0.25, return_sequences =True))(output)\n",
        "# output = Bidirectional(LSTM(128, dropout=0.25))(output)\n",
        "# output = Dense(1,activation='sigmoid')(output)\n",
        "\n",
        "# model_lstm_d = Model(input, output)\n",
        "\n",
        "# model_lstm_d.summary()\n",
        "\n",
        "\n",
        "model_lstm_d = Sequential()\n",
        "model_lstm_d.add(Embedding(10000, 100))\n",
        "model_lstm_d.add(Conv1D(128, 5, padding='valid', activation='relu', strides=1))\n",
        "model_lstm_d.add(MaxPooling1D(pool_size=4))\n",
        "model_lstm_d.add(layers.Bidirectional(layers.LSTM(128)))\n",
        "model_lstm_d.add(Dropout(0.25))\n",
        "model_lstm_d.add(layers.Dense(10))\n",
        "model_lstm_d.add(layers.Dense(1))\n",
        "model_lstm_d.add(Activation('sigmoid'))\n",
        "model_lstm_d.summary()\n",
        "\n",
        "# model_lstm_d = Sequential()\n",
        "# model_lstm_d.add(Embedding(10000,100,input_length=None))\n",
        "# # model_lstm_d.add(layers.Bidirectional(LSTM(64, dropout=0.25, recurrent_dropout=0.25)))\n",
        "# model_lstm_d.add(layers.Bidirectional(LSTM(128, dropout=0.25, recurrent_dropout=0.25, inputs)))\n",
        "# # model_lstm_d.add(Dense(20,activation='sigmoid'))\n",
        "# model_lstm_d.add(Dense(1,activation='sigmoid'))\n",
        "# model_lstm_d.summary()\n",
        "\n",
        "es = EarlyStopping(monitor='val_loss', mode='min', verbose=1, patience=4)\n",
        "mc = ModelCheckpoint('best_model_d.h5', monitor='val_acc', mode='max', verbose=1, save_best_only=True)\n",
        "\n",
        "model_lstm_d.compile(optimizer='adam',loss='binary_crossentropy',metrics=['acc'])\n",
        "history = model_lstm_d.fit(x_train_d, y_train_d, epochs=30, callbacks=[es, mc], batch_size=32, validation_data=(x_test_d, y_test_d))"
      ],
      "metadata": {
        "colab": {
          "base_uri": "https://localhost:8080/"
        },
        "id": "Ikm1Uly_L5Ol",
        "outputId": "887a1afb-437f-46d4-ed79-39218eb74669"
      },
      "execution_count": 112,
      "outputs": [
        {
          "output_type": "stream",
          "name": "stdout",
          "text": [
            "Model: \"sequential_3\"\n",
            "_________________________________________________________________\n",
            " Layer (type)                Output Shape              Param #   \n",
            "=================================================================\n",
            " embedding_26 (Embedding)    (None, None, 100)         1000000   \n",
            "                                                                 \n",
            " conv1d (Conv1D)             (None, None, 128)         64128     \n",
            "                                                                 \n",
            " max_pooling1d (MaxPooling1D  (None, None, 128)        0         \n",
            " )                                                               \n",
            "                                                                 \n",
            " bidirectional_27 (Bidirecti  (None, 256)              263168    \n",
            " onal)                                                           \n",
            "                                                                 \n",
            " dropout (Dropout)           (None, 256)               0         \n",
            "                                                                 \n",
            " dense_9 (Dense)             (None, 10)                2570      \n",
            "                                                                 \n",
            " dense_10 (Dense)            (None, 1)                 11        \n",
            "                                                                 \n",
            " activation (Activation)     (None, 1)                 0         \n",
            "                                                                 \n",
            "=================================================================\n",
            "Total params: 1,329,877\n",
            "Trainable params: 1,329,877\n",
            "Non-trainable params: 0\n",
            "_________________________________________________________________\n",
            "Epoch 1/30\n",
            "97/97 [==============================] - ETA: 0s - loss: 0.6707 - acc: 0.6152\n",
            "Epoch 1: val_acc improved from -inf to 0.61696, saving model to best_model_d.h5\n",
            "97/97 [==============================] - 10s 29ms/step - loss: 0.6707 - acc: 0.6152 - val_loss: 0.6663 - val_acc: 0.6170\n",
            "Epoch 2/30\n",
            "95/97 [============================>.] - ETA: 0s - loss: 0.6507 - acc: 0.6227\n",
            "Epoch 2: val_acc did not improve from 0.61696\n",
            "97/97 [==============================] - 1s 12ms/step - loss: 0.6498 - acc: 0.6239 - val_loss: 0.6869 - val_acc: 0.6117\n",
            "Epoch 3/30\n",
            "94/97 [============================>.] - ETA: 0s - loss: 0.4872 - acc: 0.7510\n",
            "Epoch 3: val_acc did not improve from 0.61696\n",
            "97/97 [==============================] - 1s 12ms/step - loss: 0.4863 - acc: 0.7515 - val_loss: 0.8280 - val_acc: 0.5443\n",
            "Epoch 4/30\n",
            "94/97 [============================>.] - ETA: 0s - loss: 0.2768 - acc: 0.8707\n",
            "Epoch 4: val_acc did not improve from 0.61696\n",
            "97/97 [==============================] - 1s 12ms/step - loss: 0.2783 - acc: 0.8696 - val_loss: 1.1112 - val_acc: 0.5382\n",
            "Epoch 5/30\n",
            "93/97 [===========================>..] - ETA: 0s - loss: 0.1531 - acc: 0.9439\n",
            "Epoch 5: val_acc did not improve from 0.61696\n",
            "97/97 [==============================] - 1s 12ms/step - loss: 0.1604 - acc: 0.9416 - val_loss: 1.5787 - val_acc: 0.5155\n",
            "Epoch 5: early stopping\n"
          ]
        }
      ]
    },
    {
      "cell_type": "code",
      "source": [
        "from sklearn.model_selection import train_test_split\n",
        "from tensorflow.keras.layers import Embedding, Dense, LSTM, InputLayer, Dropout, Activation, TimeDistributed, Bidirectional\n",
        "from tensorflow.keras.layers import Conv1D, MaxPooling1D\n",
        "from keras.datasets import imdb\n",
        "from tensorflow import keras\n",
        "from tensorflow.keras import layers\n",
        "from tensorflow.keras.models import Sequential\n",
        "from tensorflow.keras.models import load_model\n",
        "from tensorflow.keras.callbacks import EarlyStopping, ModelCheckpoint\n",
        "\n",
        "\n",
        "import numpy\n",
        "import tensorflow as tf\n",
        "import matplotlib.pyplot as plt\n",
        "\n",
        "\n",
        "# with tf.device('/device:GPU:0'):\n",
        "#   random_image_gpu = tf.random.normal((100, 100, 100, 3))\n",
        "#   net_gpu = tf.keras.layers.Conv2D(32, 7)(random_image_gpu)\n",
        "\n",
        "\n",
        "\n",
        "with tf.device('/device:GPU:0'):\n",
        "\n",
        "  x_train_a, x_test_a, y_train_a,  y_test_a = train_test_split(train_x_pad_euphoria, train_y_euphoria, test_size = 0.3, random_state= 7777777, stratify= train_y_euphoria)\n",
        "  # x_train.shape, y_train.shape\n",
        "\n",
        "  model_lstm_a = Sequential()\n",
        "  model_lstm_a.add(Embedding(10000,100,input_length=None))\n",
        "  # model_lstm_a.add(LSTM(128))\n",
        "  model_lstm_a.add(layers.Bidirectional(LSTM(256, dropout=0.25, recurrent_dropout=0.25)))\n",
        "  model_lstm_a.add(Dense(1,activation='sigmoid'))\n",
        "  model_lstm_a.summary()\n",
        "  \n",
        "\n",
        "  es = EarlyStopping(monitor='val_loss', mode='min', verbose=1, patience=4)\n",
        "  mc = ModelCheckpoint('best_model_a.h5', monitor='val_acc', mode='max', verbose=1, save_best_only=True)\n",
        "\n",
        "  model_lstm_a.compile(optimizer='adam',loss='binary_crossentropy',metrics=['acc'])\n",
        "  history = model_lstm_a.fit(x_train_a, y_train_a, epochs=30, callbacks=[es, mc], batch_size=32, validation_data=(x_test_a, y_test_a))"
      ],
      "metadata": {
        "colab": {
          "base_uri": "https://localhost:8080/"
        },
        "id": "MogkjD2TL5MH",
        "outputId": "3dda3725-edf7-4adc-d1d1-9ac841c545e5"
      },
      "execution_count": 225,
      "outputs": [
        {
          "output_type": "stream",
          "name": "stderr",
          "text": [
            "WARNING:tensorflow:Layer lstm_10 will not use cuDNN kernels since it doesn't meet the criteria. It will use a generic GPU kernel as fallback when running on GPU.\n",
            "WARNING:tensorflow:Layer lstm_10 will not use cuDNN kernels since it doesn't meet the criteria. It will use a generic GPU kernel as fallback when running on GPU.\n",
            "WARNING:tensorflow:Layer lstm_10 will not use cuDNN kernels since it doesn't meet the criteria. It will use a generic GPU kernel as fallback when running on GPU.\n"
          ]
        },
        {
          "output_type": "stream",
          "name": "stdout",
          "text": [
            "Model: \"sequential_10\"\n",
            "_________________________________________________________________\n",
            " Layer (type)                Output Shape              Param #   \n",
            "=================================================================\n",
            " embedding_10 (Embedding)    (None, None, 100)         1000000   \n",
            "                                                                 \n",
            " bidirectional_10 (Bidirecti  (None, 512)              731136    \n",
            " onal)                                                           \n",
            "                                                                 \n",
            " dense_10 (Dense)            (None, 1)                 513       \n",
            "                                                                 \n",
            "=================================================================\n",
            "Total params: 1,731,649\n",
            "Trainable params: 1,731,649\n",
            "Non-trainable params: 0\n",
            "_________________________________________________________________\n",
            "Epoch 1/30\n",
            "89/89 [==============================] - ETA: 0s - loss: 0.5977 - acc: 0.7207\n",
            "Epoch 1: val_acc improved from -inf to 0.72929, saving model to best_model_a.h5\n",
            "89/89 [==============================] - 23s 210ms/step - loss: 0.5977 - acc: 0.7207 - val_loss: 0.5724 - val_acc: 0.7293\n",
            "Epoch 2/30\n",
            "89/89 [==============================] - ETA: 0s - loss: 0.5090 - acc: 0.7506\n",
            "Epoch 2: val_acc did not improve from 0.72929\n",
            "89/89 [==============================] - 18s 207ms/step - loss: 0.5090 - acc: 0.7506 - val_loss: 0.5616 - val_acc: 0.7293\n",
            "Epoch 3/30\n",
            "89/89 [==============================] - ETA: 0s - loss: 0.3755 - acc: 0.8291\n",
            "Epoch 3: val_acc improved from 0.72929 to 0.73257, saving model to best_model_a.h5\n",
            "89/89 [==============================] - 16s 184ms/step - loss: 0.3755 - acc: 0.8291 - val_loss: 0.6473 - val_acc: 0.7326\n",
            "Epoch 4/30\n",
            "89/89 [==============================] - ETA: 0s - loss: 0.2975 - acc: 0.8692\n",
            "Epoch 4: val_acc did not improve from 0.73257\n",
            "89/89 [==============================] - 16s 184ms/step - loss: 0.2975 - acc: 0.8692 - val_loss: 0.7376 - val_acc: 0.7022\n",
            "Epoch 5/30\n",
            "89/89 [==============================] - ETA: 0s - loss: 0.2434 - acc: 0.9001\n",
            "Epoch 5: val_acc did not improve from 0.73257\n",
            "89/89 [==============================] - 16s 177ms/step - loss: 0.2434 - acc: 0.9001 - val_loss: 0.8763 - val_acc: 0.7252\n",
            "Epoch 6/30\n",
            "89/89 [==============================] - ETA: 0s - loss: 0.2025 - acc: 0.9163\n",
            "Epoch 6: val_acc did not improve from 0.73257\n",
            "89/89 [==============================] - 16s 181ms/step - loss: 0.2025 - acc: 0.9163 - val_loss: 0.9544 - val_acc: 0.7186\n",
            "Epoch 6: early stopping\n"
          ]
        }
      ]
    },
    {
      "cell_type": "code",
      "source": [],
      "metadata": {
        "id": "lNYWFx6OzSr8"
      },
      "execution_count": null,
      "outputs": []
    },
    {
      "cell_type": "code",
      "source": [],
      "metadata": {
        "id": "CTp9YO1BzSpA"
      },
      "execution_count": null,
      "outputs": []
    },
    {
      "cell_type": "code",
      "source": [
        "# loaded_model = load_model('best_model.h5')\n",
        "a = model_lstm_a.evaluate(test_x_pad_euphoria , test_y_euphoria)\n",
        "d = model_lstm_d.evaluate(test_x_pad_dysphoria , test_y_dysphoria)\n",
        "\n",
        "print(a, d)\n",
        "\n",
        "prediction_euphoria = model_lstm_a.predict(test_x_pad_euphoria)\n",
        "prediction_dysphoria = model_lstm_d.predict(test_x_pad_dysphoria)\n",
        "\n"
      ],
      "metadata": {
        "colab": {
          "base_uri": "https://localhost:8080/"
        },
        "id": "R7UBVW-qz-bR",
        "outputId": "a02aa2d8-cddf-48ed-fb46-61fe61a10714"
      },
      "execution_count": 226,
      "outputs": [
        {
          "output_type": "stream",
          "name": "stdout",
          "text": [
            "87/87 [==============================] - 1s 14ms/step - loss: 1.3020 - acc: 0.6469\n",
            "87/87 [==============================] - 1s 14ms/step - loss: 1.3736 - acc: 0.5466\n",
            "[1.3019987344741821, 0.6469314098358154] [1.3736066818237305, 0.5465704202651978]\n",
            "87/87 [==============================] - 2s 13ms/step\n",
            "87/87 [==============================] - 2s 13ms/step\n"
          ]
        }
      ]
    },
    {
      "cell_type": "code",
      "source": [
        "test_y_euphoria"
      ],
      "metadata": {
        "colab": {
          "base_uri": "https://localhost:8080/"
        },
        "id": "CMklfAvslaK4",
        "outputId": "0603e6a8-f4ce-4091-c540-826bc7f2d0ce"
      },
      "execution_count": 203,
      "outputs": [
        {
          "output_type": "execute_result",
          "data": {
            "text/plain": [
              "array([0, 1, 0, ..., 1, 1, 1])"
            ]
          },
          "metadata": {},
          "execution_count": 203
        }
      ]
    },
    {
      "cell_type": "code",
      "source": [
        "prediction =[]\n",
        "\n",
        "for i in range(len(prediction_euphoria)):\n",
        "  if prediction_euphoria[i] < 0.5:\n",
        "    prediction.append(0)\n",
        "  else:\n",
        "    prediction.append(1)\n",
        "\n",
        "  \n",
        "score = (prediction == test_y_euphoria).sum()\n",
        "score/2770"
      ],
      "metadata": {
        "colab": {
          "base_uri": "https://localhost:8080/"
        },
        "id": "a_1CBdCFkp_H",
        "outputId": "8f6d54a8-94ba-4e8d-8c50-e8ba86cbaa31"
      },
      "execution_count": 150,
      "outputs": [
        {
          "output_type": "execute_result",
          "data": {
            "text/plain": [
              "0.6725631768953069"
            ]
          },
          "metadata": {},
          "execution_count": 150
        }
      ]
    },
    {
      "cell_type": "code",
      "source": [
        "prediction =[]\n",
        "\n",
        "for i in range(len(prediction_dysphoria)):\n",
        "  if prediction_dysphoria[i] < 0.5:\n",
        "    prediction.append(0)\n",
        "  else:\n",
        "    prediction.append(1)\n",
        "\n",
        "  \n",
        "score = (prediction == test_y_dysphoria).sum()\n",
        "score/2770"
      ],
      "metadata": {
        "colab": {
          "base_uri": "https://localhost:8080/"
        },
        "id": "Cow3H4rilpvP",
        "outputId": "15219771-fb9f-4390-ebdc-36e6f543d401"
      },
      "execution_count": 149,
      "outputs": [
        {
          "output_type": "execute_result",
          "data": {
            "text/plain": [
              "0.5855595667870036"
            ]
          },
          "metadata": {},
          "execution_count": 149
        }
      ]
    },
    {
      "cell_type": "code",
      "source": [
        "print(len(prediction_euphoria))\n",
        "print(len(prediction_dysphoria))\n",
        "\n",
        "print(prediction_euphoria)\n",
        "print(prediction_dysphoria)\n",
        "\n",
        "prediction = []\n",
        "\n",
        "th = 0.5\n",
        "\n",
        "for i in range(len(prediction_euphoria)):\n",
        "\n",
        "\n",
        "  # if abs(prediction_euphoria[i] - prediction_dysphoria[i]) < 0.3 :\n",
        "  #   if (prediction_euphoria[i] < th) & (prediction_dysphoria[i] > th):\n",
        "\n",
        "  #   prediction.append('neutral')\n",
        "\n",
        "  # else:\n",
        "  if (prediction_euphoria[i] <= th) & (prediction_dysphoria[i] >= th):\n",
        "    prediction.append('euphoria')\n",
        "\n",
        "  elif (prediction_euphoria[i] >= th) & (prediction_dysphoria[i] <= th):\n",
        "    prediction.append('dysphoria')\n",
        "\n",
        "  elif (prediction_euphoria[i] <= th) & (prediction_dysphoria[i] <= th):\n",
        "\n",
        "    # if abs(prediction_euphoria[i] - prediction_dysphoria[i]) < 0.1:\n",
        "    #    prediction.append('neutral')\n",
        "\n",
        "    if prediction_euphoria[i] > prediction_dysphoria[i]:\n",
        "      prediction.append('dysphoria')\n",
        "\n",
        "    elif prediction_euphoria[i] < prediction_dysphoria[i]:\n",
        "      prediction.append('euphoria')\n",
        "    \n",
        "  else:\n",
        "    prediction.append('neutral')\n",
        "\n",
        "\n",
        "print(len(prediction))\n"
      ],
      "metadata": {
        "colab": {
          "base_uri": "https://localhost:8080/"
        },
        "id": "Y-H8Edkd_mUb",
        "outputId": "da412264-b9cf-42dc-ffed-6d47b2c119f3"
      },
      "execution_count": 159,
      "outputs": [
        {
          "output_type": "stream",
          "name": "stdout",
          "text": [
            "2770\n",
            "2770\n",
            "[[0.80196387]\n",
            " [0.97763205]\n",
            " [0.7665231 ]\n",
            " ...\n",
            " [0.65257305]\n",
            " [0.9950564 ]\n",
            " [0.9803109 ]]\n",
            "[[0.355147  ]\n",
            " [0.01041934]\n",
            " [0.1876609 ]\n",
            " ...\n",
            " [0.92724043]\n",
            " [0.00490221]\n",
            " [0.02267619]]\n",
            "2770\n"
          ]
        }
      ]
    },
    {
      "cell_type": "code",
      "source": [],
      "metadata": {
        "id": "5KJRWWZFAufR"
      },
      "execution_count": 159,
      "outputs": []
    },
    {
      "cell_type": "code",
      "source": [
        "test_y_total"
      ],
      "metadata": {
        "colab": {
          "base_uri": "https://localhost:8080/"
        },
        "id": "t19vClx3AoDg",
        "outputId": "c42b44f4-5c97-4be9-b1b1-56427005d011"
      },
      "execution_count": 160,
      "outputs": [
        {
          "output_type": "execute_result",
          "data": {
            "text/plain": [
              "array(['euphoria', 'dysphoria', 'euphoria', ..., 'neutral', 'dysphoria',\n",
              "       'dysphoria'], dtype=object)"
            ]
          },
          "metadata": {},
          "execution_count": 160
        }
      ]
    },
    {
      "cell_type": "code",
      "source": [
        "score = (prediction ==test_y_total).sum()"
      ],
      "metadata": {
        "id": "QKN46rxI139g"
      },
      "execution_count": 161,
      "outputs": []
    },
    {
      "cell_type": "code",
      "source": [
        "score/2770"
      ],
      "metadata": {
        "colab": {
          "base_uri": "https://localhost:8080/"
        },
        "id": "IddNqbe7CmyL",
        "outputId": "21b9af84-eb79-48ec-f609-8dec95020b68"
      },
      "execution_count": 162,
      "outputs": [
        {
          "output_type": "execute_result",
          "data": {
            "text/plain": [
              "0.527797833935018"
            ]
          },
          "metadata": {},
          "execution_count": 162
        }
      ]
    },
    {
      "cell_type": "code",
      "source": [
        "# kerc_x = raw_data[:7339]\n",
        "# kerc_y = raw_data[:7339]\n",
        "\n",
        "# kerc_x = kerc_x['sentence']\n",
        "# kerc_y = kerc_y['label']"
      ],
      "metadata": {
        "id": "vLqYGjrFz-Yk"
      },
      "execution_count": 108,
      "outputs": []
    },
    {
      "cell_type": "code",
      "source": [
        "# def change_class_dysphoria(label):\n",
        "#   if label in ['dysphoria']:\n",
        "#     label= 0\n",
        "#     return label\n",
        "#   else:\n",
        "#     label = 1\n",
        "#     return label\n",
        "\n",
        "# def change_class_euphoria(label):\n",
        "#   if label in ['euphoria']:\n",
        "#     label= 0\n",
        "#     return label\n",
        "#   else:\n",
        "#     label = 1\n",
        "#     return label"
      ],
      "metadata": {
        "id": "MJrXAaLs0OZB"
      },
      "execution_count": null,
      "outputs": []
    },
    {
      "cell_type": "code",
      "source": [
        "kerc_x = train_x_pad[:7339]\n",
        "kerc_y = train_y[:7339]\n",
        "\n",
        "# kerc_y_rev = kerc_y.copy()\n",
        "# kerc_y_rev = kerc_y_rev.apply(change_class_euphoria)\n",
        "# kerc_y_rev "
      ],
      "metadata": {
        "id": "R6sBCVT10Xr5"
      },
      "execution_count": null,
      "outputs": []
    },
    {
      "cell_type": "code",
      "source": [
        "kerc_x"
      ],
      "metadata": {
        "colab": {
          "base_uri": "https://localhost:8080/"
        },
        "id": "iGDWR3Ek17wr",
        "outputId": "1480910c-8095-46a8-a576-fd8d491da8bd"
      },
      "execution_count": null,
      "outputs": [
        {
          "output_type": "execute_result",
          "data": {
            "text/plain": [
              "array([[   0,    0,   60, ..., 1649,    1,  715],\n",
              "       [   0,    0,    0, ...,   12,  324,  954],\n",
              "       [   0,    0,    0, ...,  122,   37,   26],\n",
              "       ...,\n",
              "       [   0,    0,    0, ...,    5,  108,   62],\n",
              "       [   0,    0,    0, ...,   36,    6,    7],\n",
              "       [   0,    0,    0, ...,   17,    1,  680]], dtype=int32)"
            ]
          },
          "metadata": {},
          "execution_count": 330
        }
      ]
    },
    {
      "cell_type": "code",
      "source": [
        "pd.Series(kerc_y).value_counts()"
      ],
      "metadata": {
        "colab": {
          "base_uri": "https://localhost:8080/"
        },
        "id": "oDh1qwrK2Wkl",
        "outputId": "9057b763-b992-4af8-f9bc-0b761629516f"
      },
      "execution_count": null,
      "outputs": [
        {
          "output_type": "execute_result",
          "data": {
            "text/plain": [
              "0    4724\n",
              "1    2615\n",
              "dtype: int64"
            ]
          },
          "metadata": {},
          "execution_count": 331
        }
      ]
    },
    {
      "cell_type": "code",
      "source": [
        "loaded_model = load_model('best_model.h5')\n",
        "print(\"\\n 테스트 정확도(loss, acc): \" , model_lstm.evaluate(kerc_x , kerc_y))"
      ],
      "metadata": {
        "colab": {
          "base_uri": "https://localhost:8080/"
        },
        "id": "wdUQBx5Dz-VS",
        "outputId": "89a327d9-c002-46cd-f037-680d3d0f3ae5"
      },
      "execution_count": null,
      "outputs": [
        {
          "output_type": "stream",
          "name": "stdout",
          "text": [
            "230/230 [==============================] - 3s 14ms/step - loss: 0.4018 - acc: 0.8537\n",
            "\n",
            " 테스트 정확도(loss, acc):  [0.4017942547798157, 0.8536585569381714]\n"
          ]
        }
      ]
    },
    {
      "cell_type": "code",
      "source": [
        "prediction_dysphoria =  model_lstm.predict(kerc_x)\n",
        "prediction_dysphoria \n",
        "\n",
        "\n"
      ],
      "metadata": {
        "colab": {
          "base_uri": "https://localhost:8080/"
        },
        "id": "XFS-b8Zrz-R6",
        "outputId": "4fe949f3-aa82-4f1a-d032-715aefa742ad"
      },
      "execution_count": null,
      "outputs": [
        {
          "output_type": "stream",
          "name": "stdout",
          "text": [
            "230/230 [==============================] - 3s 14ms/step\n"
          ]
        },
        {
          "output_type": "execute_result",
          "data": {
            "text/plain": [
              "array([[4.6360773e-01],\n",
              "       [1.8952533e-03],\n",
              "       [9.1178828e-01],\n",
              "       ...,\n",
              "       [1.9353182e-03],\n",
              "       [2.0992234e-03],\n",
              "       [1.1071332e-04]], dtype=float32)"
            ]
          },
          "metadata": {},
          "execution_count": 332
        }
      ]
    },
    {
      "cell_type": "code",
      "source": [
        "# prediction_euphoria =  model_lstm.predict(kerc_x)\n",
        "# prediction_euphoria "
      ],
      "metadata": {
        "colab": {
          "base_uri": "https://localhost:8080/",
          "height": 367
        },
        "id": "26IWiv4xwkK8",
        "outputId": "71383a4d-c5ce-4d09-9d5d-6ab0fa834171"
      },
      "execution_count": null,
      "outputs": [
        {
          "output_type": "stream",
          "name": "stdout",
          "text": [
            "161/230 [====================>.........] - ETA: 0s"
          ]
        },
        {
          "output_type": "error",
          "ename": "KeyboardInterrupt",
          "evalue": "ignored",
          "traceback": [
            "\u001b[0;31m---------------------------------------------------------------------------\u001b[0m",
            "\u001b[0;31mKeyboardInterrupt\u001b[0m                         Traceback (most recent call last)",
            "\u001b[0;32m<ipython-input-256-8bba4286d377>\u001b[0m in \u001b[0;36m<module>\u001b[0;34m\u001b[0m\n\u001b[0;32m----> 1\u001b[0;31m \u001b[0mprediction_euphoria\u001b[0m \u001b[0;34m=\u001b[0m  \u001b[0mmodel_lstm\u001b[0m\u001b[0;34m.\u001b[0m\u001b[0mpredict\u001b[0m\u001b[0;34m(\u001b[0m\u001b[0mkerc_x\u001b[0m\u001b[0;34m)\u001b[0m\u001b[0;34m\u001b[0m\u001b[0;34m\u001b[0m\u001b[0m\n\u001b[0m\u001b[1;32m      2\u001b[0m \u001b[0mprediction_euphoria\u001b[0m\u001b[0;34m\u001b[0m\u001b[0;34m\u001b[0m\u001b[0m\n",
            "\u001b[0;32m/usr/local/lib/python3.7/dist-packages/keras/utils/traceback_utils.py\u001b[0m in \u001b[0;36merror_handler\u001b[0;34m(*args, **kwargs)\u001b[0m\n\u001b[1;32m     62\u001b[0m     \u001b[0mfiltered_tb\u001b[0m \u001b[0;34m=\u001b[0m \u001b[0;32mNone\u001b[0m\u001b[0;34m\u001b[0m\u001b[0;34m\u001b[0m\u001b[0m\n\u001b[1;32m     63\u001b[0m     \u001b[0;32mtry\u001b[0m\u001b[0;34m:\u001b[0m\u001b[0;34m\u001b[0m\u001b[0;34m\u001b[0m\u001b[0m\n\u001b[0;32m---> 64\u001b[0;31m       \u001b[0;32mreturn\u001b[0m \u001b[0mfn\u001b[0m\u001b[0;34m(\u001b[0m\u001b[0;34m*\u001b[0m\u001b[0margs\u001b[0m\u001b[0;34m,\u001b[0m \u001b[0;34m**\u001b[0m\u001b[0mkwargs\u001b[0m\u001b[0;34m)\u001b[0m\u001b[0;34m\u001b[0m\u001b[0;34m\u001b[0m\u001b[0m\n\u001b[0m\u001b[1;32m     65\u001b[0m     \u001b[0;32mexcept\u001b[0m \u001b[0mException\u001b[0m \u001b[0;32mas\u001b[0m \u001b[0me\u001b[0m\u001b[0;34m:\u001b[0m  \u001b[0;31m# pylint: disable=broad-except\u001b[0m\u001b[0;34m\u001b[0m\u001b[0;34m\u001b[0m\u001b[0m\n\u001b[1;32m     66\u001b[0m       \u001b[0mfiltered_tb\u001b[0m \u001b[0;34m=\u001b[0m \u001b[0m_process_traceback_frames\u001b[0m\u001b[0;34m(\u001b[0m\u001b[0me\u001b[0m\u001b[0;34m.\u001b[0m\u001b[0m__traceback__\u001b[0m\u001b[0;34m)\u001b[0m\u001b[0;34m\u001b[0m\u001b[0;34m\u001b[0m\u001b[0m\n",
            "\u001b[0;32m/usr/local/lib/python3.7/dist-packages/keras/engine/training.py\u001b[0m in \u001b[0;36mpredict\u001b[0;34m(self, x, batch_size, verbose, steps, callbacks, max_queue_size, workers, use_multiprocessing)\u001b[0m\n\u001b[1;32m   2031\u001b[0m           \u001b[0;32mfor\u001b[0m \u001b[0mstep\u001b[0m \u001b[0;32min\u001b[0m \u001b[0mdata_handler\u001b[0m\u001b[0;34m.\u001b[0m\u001b[0msteps\u001b[0m\u001b[0;34m(\u001b[0m\u001b[0;34m)\u001b[0m\u001b[0;34m:\u001b[0m\u001b[0;34m\u001b[0m\u001b[0;34m\u001b[0m\u001b[0m\n\u001b[1;32m   2032\u001b[0m             \u001b[0mcallbacks\u001b[0m\u001b[0;34m.\u001b[0m\u001b[0mon_predict_batch_begin\u001b[0m\u001b[0;34m(\u001b[0m\u001b[0mstep\u001b[0m\u001b[0;34m)\u001b[0m\u001b[0;34m\u001b[0m\u001b[0;34m\u001b[0m\u001b[0m\n\u001b[0;32m-> 2033\u001b[0;31m             \u001b[0mtmp_batch_outputs\u001b[0m \u001b[0;34m=\u001b[0m \u001b[0mself\u001b[0m\u001b[0;34m.\u001b[0m\u001b[0mpredict_function\u001b[0m\u001b[0;34m(\u001b[0m\u001b[0miterator\u001b[0m\u001b[0;34m)\u001b[0m\u001b[0;34m\u001b[0m\u001b[0;34m\u001b[0m\u001b[0m\n\u001b[0m\u001b[1;32m   2034\u001b[0m             \u001b[0;32mif\u001b[0m \u001b[0mdata_handler\u001b[0m\u001b[0;34m.\u001b[0m\u001b[0mshould_sync\u001b[0m\u001b[0;34m:\u001b[0m\u001b[0;34m\u001b[0m\u001b[0;34m\u001b[0m\u001b[0m\n\u001b[1;32m   2035\u001b[0m               \u001b[0mcontext\u001b[0m\u001b[0;34m.\u001b[0m\u001b[0masync_wait\u001b[0m\u001b[0;34m(\u001b[0m\u001b[0;34m)\u001b[0m\u001b[0;34m\u001b[0m\u001b[0;34m\u001b[0m\u001b[0m\n",
            "\u001b[0;32m/usr/local/lib/python3.7/dist-packages/tensorflow/python/util/traceback_utils.py\u001b[0m in \u001b[0;36merror_handler\u001b[0;34m(*args, **kwargs)\u001b[0m\n\u001b[1;32m    148\u001b[0m     \u001b[0mfiltered_tb\u001b[0m \u001b[0;34m=\u001b[0m \u001b[0;32mNone\u001b[0m\u001b[0;34m\u001b[0m\u001b[0;34m\u001b[0m\u001b[0m\n\u001b[1;32m    149\u001b[0m     \u001b[0;32mtry\u001b[0m\u001b[0;34m:\u001b[0m\u001b[0;34m\u001b[0m\u001b[0;34m\u001b[0m\u001b[0m\n\u001b[0;32m--> 150\u001b[0;31m       \u001b[0;32mreturn\u001b[0m \u001b[0mfn\u001b[0m\u001b[0;34m(\u001b[0m\u001b[0;34m*\u001b[0m\u001b[0margs\u001b[0m\u001b[0;34m,\u001b[0m \u001b[0;34m**\u001b[0m\u001b[0mkwargs\u001b[0m\u001b[0;34m)\u001b[0m\u001b[0;34m\u001b[0m\u001b[0;34m\u001b[0m\u001b[0m\n\u001b[0m\u001b[1;32m    151\u001b[0m     \u001b[0;32mexcept\u001b[0m \u001b[0mException\u001b[0m \u001b[0;32mas\u001b[0m \u001b[0me\u001b[0m\u001b[0;34m:\u001b[0m\u001b[0;34m\u001b[0m\u001b[0;34m\u001b[0m\u001b[0m\n\u001b[1;32m    152\u001b[0m       \u001b[0mfiltered_tb\u001b[0m \u001b[0;34m=\u001b[0m \u001b[0m_process_traceback_frames\u001b[0m\u001b[0;34m(\u001b[0m\u001b[0me\u001b[0m\u001b[0;34m.\u001b[0m\u001b[0m__traceback__\u001b[0m\u001b[0;34m)\u001b[0m\u001b[0;34m\u001b[0m\u001b[0;34m\u001b[0m\u001b[0m\n",
            "\u001b[0;32m/usr/local/lib/python3.7/dist-packages/tensorflow/python/eager/def_function.py\u001b[0m in \u001b[0;36m__call__\u001b[0;34m(self, *args, **kwds)\u001b[0m\n\u001b[1;32m    913\u001b[0m \u001b[0;34m\u001b[0m\u001b[0m\n\u001b[1;32m    914\u001b[0m       \u001b[0;32mwith\u001b[0m \u001b[0mOptionalXlaContext\u001b[0m\u001b[0;34m(\u001b[0m\u001b[0mself\u001b[0m\u001b[0;34m.\u001b[0m\u001b[0m_jit_compile\u001b[0m\u001b[0;34m)\u001b[0m\u001b[0;34m:\u001b[0m\u001b[0;34m\u001b[0m\u001b[0;34m\u001b[0m\u001b[0m\n\u001b[0;32m--> 915\u001b[0;31m         \u001b[0mresult\u001b[0m \u001b[0;34m=\u001b[0m \u001b[0mself\u001b[0m\u001b[0;34m.\u001b[0m\u001b[0m_call\u001b[0m\u001b[0;34m(\u001b[0m\u001b[0;34m*\u001b[0m\u001b[0margs\u001b[0m\u001b[0;34m,\u001b[0m \u001b[0;34m**\u001b[0m\u001b[0mkwds\u001b[0m\u001b[0;34m)\u001b[0m\u001b[0;34m\u001b[0m\u001b[0;34m\u001b[0m\u001b[0m\n\u001b[0m\u001b[1;32m    916\u001b[0m \u001b[0;34m\u001b[0m\u001b[0m\n\u001b[1;32m    917\u001b[0m       \u001b[0mnew_tracing_count\u001b[0m \u001b[0;34m=\u001b[0m \u001b[0mself\u001b[0m\u001b[0;34m.\u001b[0m\u001b[0mexperimental_get_tracing_count\u001b[0m\u001b[0;34m(\u001b[0m\u001b[0;34m)\u001b[0m\u001b[0;34m\u001b[0m\u001b[0;34m\u001b[0m\u001b[0m\n",
            "\u001b[0;32m/usr/local/lib/python3.7/dist-packages/tensorflow/python/eager/def_function.py\u001b[0m in \u001b[0;36m_call\u001b[0;34m(self, *args, **kwds)\u001b[0m\n\u001b[1;32m    952\u001b[0m       \u001b[0;31m# In this case we have not created variables on the first call. So we can\u001b[0m\u001b[0;34m\u001b[0m\u001b[0;34m\u001b[0m\u001b[0;34m\u001b[0m\u001b[0m\n\u001b[1;32m    953\u001b[0m       \u001b[0;31m# run the first trace but we should fail if variables are created.\u001b[0m\u001b[0;34m\u001b[0m\u001b[0;34m\u001b[0m\u001b[0;34m\u001b[0m\u001b[0m\n\u001b[0;32m--> 954\u001b[0;31m       \u001b[0mresults\u001b[0m \u001b[0;34m=\u001b[0m \u001b[0mself\u001b[0m\u001b[0;34m.\u001b[0m\u001b[0m_stateful_fn\u001b[0m\u001b[0;34m(\u001b[0m\u001b[0;34m*\u001b[0m\u001b[0margs\u001b[0m\u001b[0;34m,\u001b[0m \u001b[0;34m**\u001b[0m\u001b[0mkwds\u001b[0m\u001b[0;34m)\u001b[0m\u001b[0;34m\u001b[0m\u001b[0;34m\u001b[0m\u001b[0m\n\u001b[0m\u001b[1;32m    955\u001b[0m       \u001b[0;32mif\u001b[0m \u001b[0mself\u001b[0m\u001b[0;34m.\u001b[0m\u001b[0m_created_variables\u001b[0m \u001b[0;32mand\u001b[0m \u001b[0;32mnot\u001b[0m \u001b[0mALLOW_DYNAMIC_VARIABLE_CREATION\u001b[0m\u001b[0;34m:\u001b[0m\u001b[0;34m\u001b[0m\u001b[0;34m\u001b[0m\u001b[0m\n\u001b[1;32m    956\u001b[0m         raise ValueError(\"Creating variables on a non-first call to a function\"\n",
            "\u001b[0;32m/usr/local/lib/python3.7/dist-packages/tensorflow/python/eager/function.py\u001b[0m in \u001b[0;36m__call__\u001b[0;34m(self, *args, **kwargs)\u001b[0m\n\u001b[1;32m   2452\u001b[0m        filtered_flat_args) = self._maybe_define_function(args, kwargs)\n\u001b[1;32m   2453\u001b[0m     return graph_function._call_flat(\n\u001b[0;32m-> 2454\u001b[0;31m         filtered_flat_args, captured_inputs=graph_function.captured_inputs)  # pylint: disable=protected-access\n\u001b[0m\u001b[1;32m   2455\u001b[0m \u001b[0;34m\u001b[0m\u001b[0m\n\u001b[1;32m   2456\u001b[0m   \u001b[0;34m@\u001b[0m\u001b[0mproperty\u001b[0m\u001b[0;34m\u001b[0m\u001b[0;34m\u001b[0m\u001b[0m\n",
            "\u001b[0;32m/usr/local/lib/python3.7/dist-packages/tensorflow/python/eager/function.py\u001b[0m in \u001b[0;36m_call_flat\u001b[0;34m(self, args, captured_inputs, cancellation_manager)\u001b[0m\n\u001b[1;32m   1859\u001b[0m       \u001b[0;31m# No tape is watching; skip to running the function.\u001b[0m\u001b[0;34m\u001b[0m\u001b[0;34m\u001b[0m\u001b[0;34m\u001b[0m\u001b[0m\n\u001b[1;32m   1860\u001b[0m       return self._build_call_outputs(self._inference_function.call(\n\u001b[0;32m-> 1861\u001b[0;31m           ctx, args, cancellation_manager=cancellation_manager))\n\u001b[0m\u001b[1;32m   1862\u001b[0m     forward_backward = self._select_forward_and_backward_functions(\n\u001b[1;32m   1863\u001b[0m         \u001b[0margs\u001b[0m\u001b[0;34m,\u001b[0m\u001b[0;34m\u001b[0m\u001b[0;34m\u001b[0m\u001b[0m\n",
            "\u001b[0;32m/usr/local/lib/python3.7/dist-packages/tensorflow/python/eager/function.py\u001b[0m in \u001b[0;36mcall\u001b[0;34m(self, ctx, args, cancellation_manager)\u001b[0m\n\u001b[1;32m    500\u001b[0m               \u001b[0minputs\u001b[0m\u001b[0;34m=\u001b[0m\u001b[0margs\u001b[0m\u001b[0;34m,\u001b[0m\u001b[0;34m\u001b[0m\u001b[0;34m\u001b[0m\u001b[0m\n\u001b[1;32m    501\u001b[0m               \u001b[0mattrs\u001b[0m\u001b[0;34m=\u001b[0m\u001b[0mattrs\u001b[0m\u001b[0;34m,\u001b[0m\u001b[0;34m\u001b[0m\u001b[0;34m\u001b[0m\u001b[0m\n\u001b[0;32m--> 502\u001b[0;31m               ctx=ctx)\n\u001b[0m\u001b[1;32m    503\u001b[0m         \u001b[0;32melse\u001b[0m\u001b[0;34m:\u001b[0m\u001b[0;34m\u001b[0m\u001b[0;34m\u001b[0m\u001b[0m\n\u001b[1;32m    504\u001b[0m           outputs = execute.execute_with_cancellation(\n",
            "\u001b[0;32m/usr/local/lib/python3.7/dist-packages/tensorflow/python/eager/execute.py\u001b[0m in \u001b[0;36mquick_execute\u001b[0;34m(op_name, num_outputs, inputs, attrs, ctx, name)\u001b[0m\n\u001b[1;32m     53\u001b[0m     \u001b[0mctx\u001b[0m\u001b[0;34m.\u001b[0m\u001b[0mensure_initialized\u001b[0m\u001b[0;34m(\u001b[0m\u001b[0;34m)\u001b[0m\u001b[0;34m\u001b[0m\u001b[0;34m\u001b[0m\u001b[0m\n\u001b[1;32m     54\u001b[0m     tensors = pywrap_tfe.TFE_Py_Execute(ctx._handle, device_name, op_name,\n\u001b[0;32m---> 55\u001b[0;31m                                         inputs, attrs, num_outputs)\n\u001b[0m\u001b[1;32m     56\u001b[0m   \u001b[0;32mexcept\u001b[0m \u001b[0mcore\u001b[0m\u001b[0;34m.\u001b[0m\u001b[0m_NotOkStatusException\u001b[0m \u001b[0;32mas\u001b[0m \u001b[0me\u001b[0m\u001b[0;34m:\u001b[0m\u001b[0;34m\u001b[0m\u001b[0;34m\u001b[0m\u001b[0m\n\u001b[1;32m     57\u001b[0m     \u001b[0;32mif\u001b[0m \u001b[0mname\u001b[0m \u001b[0;32mis\u001b[0m \u001b[0;32mnot\u001b[0m \u001b[0;32mNone\u001b[0m\u001b[0;34m:\u001b[0m\u001b[0;34m\u001b[0m\u001b[0;34m\u001b[0m\u001b[0m\n",
            "\u001b[0;31mKeyboardInterrupt\u001b[0m: "
          ]
        }
      ]
    },
    {
      "cell_type": "code",
      "source": [
        "prediction_dysphoria "
      ],
      "metadata": {
        "colab": {
          "base_uri": "https://localhost:8080/"
        },
        "id": "hkBg3M7NEnxb",
        "outputId": "33334e50-105d-4ced-d0b6-2ba22e54daa8"
      },
      "execution_count": null,
      "outputs": [
        {
          "output_type": "execute_result",
          "data": {
            "text/plain": [
              "array([[4.6360773e-01],\n",
              "       [1.8952533e-03],\n",
              "       [9.1178828e-01],\n",
              "       ...,\n",
              "       [1.9353182e-03],\n",
              "       [2.0992234e-03],\n",
              "       [1.1071332e-04]], dtype=float32)"
            ]
          },
          "metadata": {},
          "execution_count": 366
        }
      ]
    },
    {
      "cell_type": "code",
      "source": [
        "prediction_euphoria "
      ],
      "metadata": {
        "colab": {
          "base_uri": "https://localhost:8080/"
        },
        "id": "lfOqONLm_f1R",
        "outputId": "99f93d76-9f97-4540-eb76-515c8531eb11"
      },
      "execution_count": null,
      "outputs": [
        {
          "output_type": "execute_result",
          "data": {
            "text/plain": [
              "array([[0.93047106],\n",
              "       [0.9849134 ],\n",
              "       [0.88269943],\n",
              "       ...,\n",
              "       [0.9988724 ],\n",
              "       [0.9884098 ],\n",
              "       [0.999921  ]], dtype=float32)"
            ]
          },
          "metadata": {},
          "execution_count": 367
        }
      ]
    },
    {
      "cell_type": "code",
      "source": [],
      "metadata": {
        "id": "dbg20i-EcEqD"
      },
      "execution_count": null,
      "outputs": []
    },
    {
      "cell_type": "code",
      "source": [
        "v_test = []\n",
        "for sentence in tqdm(train_data['document'][:7339]):\n",
        "    tokenized_sentence = okt.morphs(sentence, stem=True) # 토큰화\n",
        "    stopwords_removed_sentence = [word for word in tokenized_sentence if not word in stopwords] # 불용어 제거\n",
        "    X_train.append(stopwords_removed_sentence)"
      ],
      "metadata": {
        "colab": {
          "base_uri": "https://localhost:8080/"
        },
        "id": "cj3OIrUwW8yZ",
        "outputId": "d039372b-9418-4a95-87d9-daae91f40412"
      },
      "execution_count": null,
      "outputs": [
        {
          "output_type": "execute_result",
          "data": {
            "text/plain": [
              "[247,\n",
              " 271,\n",
              " 1146,\n",
              " 1872,\n",
              " 2489,\n",
              " 2638,\n",
              " 3132,\n",
              " 3177,\n",
              " 3219,\n",
              " 3304,\n",
              " 3325,\n",
              " 3805,\n",
              " 4162,\n",
              " 4200,\n",
              " 4908,\n",
              " 5713,\n",
              " 5894,\n",
              " 6145,\n",
              " 6319,\n",
              " 9795,\n",
              " 71376]"
            ]
          },
          "metadata": {},
          "execution_count": 351
        }
      ]
    },
    {
      "cell_type": "code",
      "source": [
        "tokenizer = Tokenizer(vocab_size) \n",
        "tokenizer.fit_on_texts(X_train)\n",
        "X_train = tokenizer.texts_to_sequences(X_train)\n",
        "# X_test = tokenizer.texts_to_sequences(X_test)"
      ],
      "metadata": {
        "colab": {
          "base_uri": "https://localhost:8080/"
        },
        "id": "SjV9Je2DFS8N",
        "outputId": "f0dbe149-423a-40a9-a2ee-4d5e37d55d72"
      },
      "execution_count": null,
      "outputs": [
        {
          "output_type": "stream",
          "name": "stdout",
          "text": [
            "7339\n"
          ]
        }
      ]
    },
    {
      "cell_type": "code",
      "source": [
        "# 빈 샘플들을 제거\n",
        "train_x = np.delete(X_train, drop_train, axis=0)\n",
        "train_y = np.delete(Y_train, drop_train, axis=0)\n",
        "print(len(train_x))\n",
        "print(len(train_y))\n",
        "# len(np.delete(Y_train, drop_train, axis=0))"
      ],
      "metadata": {
        "id": "Be28zes_YKtp"
      },
      "execution_count": null,
      "outputs": []
    },
    {
      "cell_type": "code",
      "source": [
        "dab = train_label_table['label'][:7339]"
      ],
      "metadata": {
        "id": "FK0lIXHHGPIy"
      },
      "execution_count": null,
      "outputs": []
    },
    {
      "cell_type": "code",
      "source": [
        "dab_np = np.array(dab)\n",
        "dab_np = np.delete(dab_np, drop_train_rev, axis=0)\n",
        "dab_np.shape"
      ],
      "metadata": {
        "colab": {
          "base_uri": "https://localhost:8080/"
        },
        "id": "FTk04lldXjwq",
        "outputId": "f273aec6-5cf5-4460-c1fd-ca21798729ed"
      },
      "execution_count": null,
      "outputs": [
        {
          "output_type": "execute_result",
          "data": {
            "text/plain": [
              "(7320,)"
            ]
          },
          "metadata": {},
          "execution_count": 362
        }
      ]
    },
    {
      "cell_type": "code",
      "source": [
        "prediction_np = np.array(prediction)\n",
        "prediction_np = np.delete(prediction_np, drop_train_rev, axis=0)\n",
        "prediction_np.shape"
      ],
      "metadata": {
        "colab": {
          "base_uri": "https://localhost:8080/"
        },
        "id": "Gsh4nLDXYWge",
        "outputId": "1c4e2a93-f7ae-4c27-c792-43aff6b30b38"
      },
      "execution_count": null,
      "outputs": [
        {
          "output_type": "execute_result",
          "data": {
            "text/plain": [
              "(7320,)"
            ]
          },
          "metadata": {},
          "execution_count": 361
        }
      ]
    },
    {
      "cell_type": "code",
      "source": [
        "a=(dab_np == prediction_np).sum()\n",
        "print(a)"
      ],
      "metadata": {
        "colab": {
          "base_uri": "https://localhost:8080/"
        },
        "id": "Fj9nHplzGT_x",
        "outputId": "17ceb6f2-bf00-489e-82dc-86d4436f4002"
      },
      "execution_count": null,
      "outputs": [
        {
          "output_type": "stream",
          "name": "stdout",
          "text": [
            "3626\n"
          ]
        }
      ]
    },
    {
      "cell_type": "code",
      "source": [
        "pd.set_option('display.max_rows', 10) # row 생략 없이 출력\n",
        "\n",
        "print(pd.Series(prediction))"
      ],
      "metadata": {
        "colab": {
          "base_uri": "https://localhost:8080/"
        },
        "id": "FSsKIDD1_mRq",
        "outputId": "84b95088-04b4-41a8-c3f6-d27e43e94323"
      },
      "execution_count": null,
      "outputs": [
        {
          "output_type": "stream",
          "name": "stdout",
          "text": [
            "0       dysphoria\n",
            "1       dysphoria\n",
            "2             not\n",
            "3       dysphoria\n",
            "4             not\n",
            "          ...    \n",
            "7334    dysphoria\n",
            "7335    dysphoria\n",
            "7336    dysphoria\n",
            "7337    dysphoria\n",
            "7338    dysphoria\n",
            "Length: 7339, dtype: object\n"
          ]
        }
      ]
    },
    {
      "cell_type": "code",
      "source": [
        "train_label_table_filter['label'][:7339]"
      ],
      "metadata": {
        "colab": {
          "base_uri": "https://localhost:8080/"
        },
        "id": "li20Txsl_mPf",
        "outputId": "6d8226b3-3a37-474d-87c6-ced3d0bf945c"
      },
      "execution_count": null,
      "outputs": [
        {
          "output_type": "execute_result",
          "data": {
            "text/plain": [
              "0       dysphoria\n",
              "1       dysphoria\n",
              "2         neutral\n",
              "3       dysphoria\n",
              "4        euphoria\n",
              "          ...    \n",
              "7334     euphoria\n",
              "7335     euphoria\n",
              "7336     euphoria\n",
              "7337     euphoria\n",
              "7338     euphoria\n",
              "Name: label, Length: 7339, dtype: object"
            ]
          },
          "metadata": {},
          "execution_count": 285
        }
      ]
    },
    {
      "cell_type": "code",
      "source": [
        "train_label_table_filter['label'][:7339] == prediction"
      ],
      "metadata": {
        "colab": {
          "base_uri": "https://localhost:8080/"
        },
        "id": "mjRAIIKn_mMp",
        "outputId": "ddcd6ab1-d507-446d-baca-8b0fa4cb231b"
      },
      "execution_count": null,
      "outputs": [
        {
          "output_type": "execute_result",
          "data": {
            "text/plain": [
              "0        True\n",
              "1        True\n",
              "2        True\n",
              "3        True\n",
              "4        True\n",
              "        ...  \n",
              "7334    False\n",
              "7335    False\n",
              "7336    False\n",
              "7337    False\n",
              "7338    False\n",
              "Name: label, Length: 7339, dtype: bool"
            ]
          },
          "metadata": {},
          "execution_count": 327
        }
      ]
    },
    {
      "cell_type": "code",
      "source": [
        "(train_label_table_filter['label'][:7339] == prediction).sum()"
      ],
      "metadata": {
        "colab": {
          "base_uri": "https://localhost:8080/"
        },
        "id": "lXeCKuS2_mKC",
        "outputId": "71dca381-b847-4793-c654-0488ba63b65a"
      },
      "execution_count": null,
      "outputs": [
        {
          "output_type": "execute_result",
          "data": {
            "text/plain": [
              "3638"
            ]
          },
          "metadata": {},
          "execution_count": 326
        }
      ]
    },
    {
      "cell_type": "code",
      "source": [],
      "metadata": {
        "id": "iuKSXrau_mHa"
      },
      "execution_count": null,
      "outputs": []
    },
    {
      "cell_type": "code",
      "source": [
        "model.compile(optimizer='adam', loss='binary_crossentropy', metrics=['acc'])"
      ],
      "metadata": {
        "id": "9By_mngswkIa"
      },
      "execution_count": null,
      "outputs": []
    },
    {
      "cell_type": "code",
      "source": [],
      "metadata": {
        "id": "O5u9AAAfwkCp"
      },
      "execution_count": null,
      "outputs": []
    },
    {
      "cell_type": "code",
      "source": [],
      "metadata": {
        "id": "fsqj18uCwj_5"
      },
      "execution_count": null,
      "outputs": []
    },
    {
      "cell_type": "code",
      "execution_count": null,
      "metadata": {
        "id": "DG3HtYo3aG6O"
      },
      "outputs": [],
      "source": [
        "\n",
        "from tensorflow.keras.layers import Embedding, Dense, LSTM, InputLayer, Dropout, Activation, TimeDistributed, Bidirectional\n",
        "from tensorflow.keras.layers import Conv1D, MaxPooling1D\n",
        "from keras.datasets import imdb\n",
        "from tensorflow import keras\n",
        "from tensorflow.keras import layers\n",
        "from tensorflow.keras.models import Sequential\n",
        "from tensorflow.keras.models import load_model\n",
        "from tensorflow.keras.callbacks import EarlyStopping, ModelCheckpoint\n",
        "\n",
        "\n",
        "import numpy\n",
        "import tensorflow as tf\n",
        "import matplotlib.pyplot as plt\n",
        "\n",
        "embedding_dim = 100\n",
        "hidden_units = 128\n",
        "\n",
        "model = Sequential()\n",
        "model.add(Embedding(1200, 100))\n",
        "model.add(Conv1D(128, 5, padding='valid', activation='relu', strides=1))\n",
        "model.add(MaxPooling1D(pool_size=4))\n",
        "model.add(layers.Bidirectional(LSTM(128, dropout=0.25, recurrent_dropout=0.25)))\n",
        "model.add(Dense(1))\n",
        "model.add(Activation('sigmoid'))\n",
        "model.summary()\n",
        "\n",
        "es = EarlyStopping(monitor='val_loss', mode='min', verbose=1, patience=4)\n",
        "mc = ModelCheckpoint('best_model.h5', monitor='val_acc', mode='max', verbose=1, save_best_only=True)\n",
        "\n",
        "model.compile(optimizer='adam', loss='binary_crossentropy', metrics=['acc'])\n",
        "history = model.fit(x_train, y_train.reshape(-1,1), epochs=30, callbacks=[es, mc], batch_size=32, validation_data=(x_test, y_test.reshape(-1,1)))\n"
      ]
    },
    {
      "cell_type": "code",
      "execution_count": null,
      "metadata": {
        "colab": {
          "base_uri": "https://localhost:8080/"
        },
        "id": "IYU7kYp4aq4q",
        "outputId": "cd1c5933-da52-4021-9f9d-4437bc826258"
      },
      "outputs": [
        {
          "output_type": "stream",
          "name": "stderr",
          "text": [
            "WARNING:tensorflow:Layer lstm_2 will not use cuDNN kernels since it doesn't meet the criteria. It will use a generic GPU kernel as fallback when running on GPU.\n",
            "WARNING:tensorflow:Layer lstm_2 will not use cuDNN kernels since it doesn't meet the criteria. It will use a generic GPU kernel as fallback when running on GPU.\n",
            "WARNING:tensorflow:Layer lstm_2 will not use cuDNN kernels since it doesn't meet the criteria. It will use a generic GPU kernel as fallback when running on GPU.\n"
          ]
        },
        {
          "output_type": "stream",
          "name": "stdout",
          "text": [
            "886/886 [==============================] - 6s 5ms/step - loss: 0.2867 - acc: 0.8906\n",
            "\n",
            " 테스트 정확도: 0.8906\n",
            "886/886 [==============================] - 4s 5ms/step - loss: 0.2867 - acc: 0.8906\n",
            "[0.28665339946746826, 0.8905941247940063]\n"
          ]
        }
      ],
      "source": [
        "loaded_model = load_model('best_model.h5')\n",
        "print(\"\\n 테스트 정확도(loss, acc): \" , loaded_model.evaluate(x_test, y_test))"
      ]
    },
    {
      "cell_type": "code",
      "source": [
        "import pandas as pd\n",
        "raw_data = pd.read_excel('/content/gdrive/MyDrive/대회/감정분석 대회/train_label_data.xlsx')\n",
        "# test_data = pd.read_table('ratings_test.txt')\n",
        "\n",
        "raw_data\n"
      ],
      "metadata": {
        "colab": {
          "base_uri": "https://localhost:8080/",
          "height": 424
        },
        "id": "024BG9k9qBEL",
        "outputId": "939d8d9a-6263-4673-ae93-5a2fcdec7686"
      },
      "execution_count": null,
      "outputs": [
        {
          "output_type": "execute_result",
          "data": {
            "text/plain": [
              "      sentence_id person                                           sentence  \\\n",
              "0               1     어영  야! 전화 받아. 아무리 바빠도 내전화는 받아야 되는거 아냐? 약속 하나도 못지키는...   \n",
              "1               2     어영     우리 아무래도 안되겠다. 이게 최선인거 같애. 평생 잊지 않을게. 행복하길 바란다.   \n",
              "2               3    지구대                          김경사님, 아직 안가셨어요? 시간 다됐을텐데.   \n",
              "3               4     순경                                         근무중인데 어딜가?   \n",
              "4               5    지구대    다녀오세요. 이런날은 무조건 가서 축하해주셔야죠. 이순경이 대신 근무선다고 나온대요.   \n",
              "...           ...    ...                                                ...   \n",
              "7334        12285     청난                               종남이 맛있는것도 사주고 잘 챙겨줘.   \n",
              "7335        12286     건강                        걱정마라. 먹어도 같이 먹고 굶어도 같이 굶는다.   \n",
              "7336        12287     종남                                       아빠. 우리 저거 타.   \n",
              "7337        12288     건강  나 못타는데. 한번도 안타봤어. 툭하면 차멀미까지 하는데, 봐라, 너도 내몸땡이에 ...   \n",
              "7338        12289     건강                              여기 꼼짝말고 있어. 어디 가면 안돼.   \n",
              "\n",
              "      scene                                            context      label  \n",
              "0     S0104                                                NaN  dysphoria  \n",
              "1     S0108           포기한듯 탁 일어서는데, 띵동 문자. 후다닥 보는 어영. 기막혀 읽어보는  dysphoria  \n",
              "2     S0109    초조하게 시계보면서 왔다갔다 서성이는 김순경. 순찰차(경차)와서 멈추고 내리는 지구대    neutral  \n",
              "3     S0109    초조하게 시계보면서 왔다갔다 서성이는 김순경. 순찰차(경차)와서 멈추고 내리는 지구대  dysphoria  \n",
              "4     S0109    초조하게 시계보면서 왔다갔다 서성이는 김순경. 순찰차(경차)와서 멈추고 내리는 지구대   euphoria  \n",
              "...     ...                                                ...        ...  \n",
              "7334  S3576                                                NaN   euphoria  \n",
              "7335  S3576                                                NaN   euphoria  \n",
              "7336  S3576                                                NaN   euphoria  \n",
              "7337  S3576                                                NaN   euphoria  \n",
              "7338  S3576  시간경과. 놀이기구 타는 건강종남. 사람들 비명. 신난 종남 소리지르고. 건강 하얗...   euphoria  \n",
              "\n",
              "[7339 rows x 6 columns]"
            ],
            "text/html": [
              "\n",
              "  <div id=\"df-9327c6a6-fff4-49e4-aaeb-9ae05091ac5a\">\n",
              "    <div class=\"colab-df-container\">\n",
              "      <div>\n",
              "<style scoped>\n",
              "    .dataframe tbody tr th:only-of-type {\n",
              "        vertical-align: middle;\n",
              "    }\n",
              "\n",
              "    .dataframe tbody tr th {\n",
              "        vertical-align: top;\n",
              "    }\n",
              "\n",
              "    .dataframe thead th {\n",
              "        text-align: right;\n",
              "    }\n",
              "</style>\n",
              "<table border=\"1\" class=\"dataframe\">\n",
              "  <thead>\n",
              "    <tr style=\"text-align: right;\">\n",
              "      <th></th>\n",
              "      <th>sentence_id</th>\n",
              "      <th>person</th>\n",
              "      <th>sentence</th>\n",
              "      <th>scene</th>\n",
              "      <th>context</th>\n",
              "      <th>label</th>\n",
              "    </tr>\n",
              "  </thead>\n",
              "  <tbody>\n",
              "    <tr>\n",
              "      <th>0</th>\n",
              "      <td>1</td>\n",
              "      <td>어영</td>\n",
              "      <td>야! 전화 받아. 아무리 바빠도 내전화는 받아야 되는거 아냐? 약속 하나도 못지키는...</td>\n",
              "      <td>S0104</td>\n",
              "      <td>NaN</td>\n",
              "      <td>dysphoria</td>\n",
              "    </tr>\n",
              "    <tr>\n",
              "      <th>1</th>\n",
              "      <td>2</td>\n",
              "      <td>어영</td>\n",
              "      <td>우리 아무래도 안되겠다. 이게 최선인거 같애. 평생 잊지 않을게. 행복하길 바란다.</td>\n",
              "      <td>S0108</td>\n",
              "      <td>포기한듯 탁 일어서는데, 띵동 문자. 후다닥 보는 어영. 기막혀 읽어보는</td>\n",
              "      <td>dysphoria</td>\n",
              "    </tr>\n",
              "    <tr>\n",
              "      <th>2</th>\n",
              "      <td>3</td>\n",
              "      <td>지구대</td>\n",
              "      <td>김경사님, 아직 안가셨어요? 시간 다됐을텐데.</td>\n",
              "      <td>S0109</td>\n",
              "      <td>초조하게 시계보면서 왔다갔다 서성이는 김순경. 순찰차(경차)와서 멈추고 내리는 지구대</td>\n",
              "      <td>neutral</td>\n",
              "    </tr>\n",
              "    <tr>\n",
              "      <th>3</th>\n",
              "      <td>4</td>\n",
              "      <td>순경</td>\n",
              "      <td>근무중인데 어딜가?</td>\n",
              "      <td>S0109</td>\n",
              "      <td>초조하게 시계보면서 왔다갔다 서성이는 김순경. 순찰차(경차)와서 멈추고 내리는 지구대</td>\n",
              "      <td>dysphoria</td>\n",
              "    </tr>\n",
              "    <tr>\n",
              "      <th>4</th>\n",
              "      <td>5</td>\n",
              "      <td>지구대</td>\n",
              "      <td>다녀오세요. 이런날은 무조건 가서 축하해주셔야죠. 이순경이 대신 근무선다고 나온대요.</td>\n",
              "      <td>S0109</td>\n",
              "      <td>초조하게 시계보면서 왔다갔다 서성이는 김순경. 순찰차(경차)와서 멈추고 내리는 지구대</td>\n",
              "      <td>euphoria</td>\n",
              "    </tr>\n",
              "    <tr>\n",
              "      <th>...</th>\n",
              "      <td>...</td>\n",
              "      <td>...</td>\n",
              "      <td>...</td>\n",
              "      <td>...</td>\n",
              "      <td>...</td>\n",
              "      <td>...</td>\n",
              "    </tr>\n",
              "    <tr>\n",
              "      <th>7334</th>\n",
              "      <td>12285</td>\n",
              "      <td>청난</td>\n",
              "      <td>종남이 맛있는것도 사주고 잘 챙겨줘.</td>\n",
              "      <td>S3576</td>\n",
              "      <td>NaN</td>\n",
              "      <td>euphoria</td>\n",
              "    </tr>\n",
              "    <tr>\n",
              "      <th>7335</th>\n",
              "      <td>12286</td>\n",
              "      <td>건강</td>\n",
              "      <td>걱정마라. 먹어도 같이 먹고 굶어도 같이 굶는다.</td>\n",
              "      <td>S3576</td>\n",
              "      <td>NaN</td>\n",
              "      <td>euphoria</td>\n",
              "    </tr>\n",
              "    <tr>\n",
              "      <th>7336</th>\n",
              "      <td>12287</td>\n",
              "      <td>종남</td>\n",
              "      <td>아빠. 우리 저거 타.</td>\n",
              "      <td>S3576</td>\n",
              "      <td>NaN</td>\n",
              "      <td>euphoria</td>\n",
              "    </tr>\n",
              "    <tr>\n",
              "      <th>7337</th>\n",
              "      <td>12288</td>\n",
              "      <td>건강</td>\n",
              "      <td>나 못타는데. 한번도 안타봤어. 툭하면 차멀미까지 하는데, 봐라, 너도 내몸땡이에 ...</td>\n",
              "      <td>S3576</td>\n",
              "      <td>NaN</td>\n",
              "      <td>euphoria</td>\n",
              "    </tr>\n",
              "    <tr>\n",
              "      <th>7338</th>\n",
              "      <td>12289</td>\n",
              "      <td>건강</td>\n",
              "      <td>여기 꼼짝말고 있어. 어디 가면 안돼.</td>\n",
              "      <td>S3576</td>\n",
              "      <td>시간경과. 놀이기구 타는 건강종남. 사람들 비명. 신난 종남 소리지르고. 건강 하얗...</td>\n",
              "      <td>euphoria</td>\n",
              "    </tr>\n",
              "  </tbody>\n",
              "</table>\n",
              "<p>7339 rows × 6 columns</p>\n",
              "</div>\n",
              "      <button class=\"colab-df-convert\" onclick=\"convertToInteractive('df-9327c6a6-fff4-49e4-aaeb-9ae05091ac5a')\"\n",
              "              title=\"Convert this dataframe to an interactive table.\"\n",
              "              style=\"display:none;\">\n",
              "        \n",
              "  <svg xmlns=\"http://www.w3.org/2000/svg\" height=\"24px\"viewBox=\"0 0 24 24\"\n",
              "       width=\"24px\">\n",
              "    <path d=\"M0 0h24v24H0V0z\" fill=\"none\"/>\n",
              "    <path d=\"M18.56 5.44l.94 2.06.94-2.06 2.06-.94-2.06-.94-.94-2.06-.94 2.06-2.06.94zm-11 1L8.5 8.5l.94-2.06 2.06-.94-2.06-.94L8.5 2.5l-.94 2.06-2.06.94zm10 10l.94 2.06.94-2.06 2.06-.94-2.06-.94-.94-2.06-.94 2.06-2.06.94z\"/><path d=\"M17.41 7.96l-1.37-1.37c-.4-.4-.92-.59-1.43-.59-.52 0-1.04.2-1.43.59L10.3 9.45l-7.72 7.72c-.78.78-.78 2.05 0 2.83L4 21.41c.39.39.9.59 1.41.59.51 0 1.02-.2 1.41-.59l7.78-7.78 2.81-2.81c.8-.78.8-2.07 0-2.86zM5.41 20L4 18.59l7.72-7.72 1.47 1.35L5.41 20z\"/>\n",
              "  </svg>\n",
              "      </button>\n",
              "      \n",
              "  <style>\n",
              "    .colab-df-container {\n",
              "      display:flex;\n",
              "      flex-wrap:wrap;\n",
              "      gap: 12px;\n",
              "    }\n",
              "\n",
              "    .colab-df-convert {\n",
              "      background-color: #E8F0FE;\n",
              "      border: none;\n",
              "      border-radius: 50%;\n",
              "      cursor: pointer;\n",
              "      display: none;\n",
              "      fill: #1967D2;\n",
              "      height: 32px;\n",
              "      padding: 0 0 0 0;\n",
              "      width: 32px;\n",
              "    }\n",
              "\n",
              "    .colab-df-convert:hover {\n",
              "      background-color: #E2EBFA;\n",
              "      box-shadow: 0px 1px 2px rgba(60, 64, 67, 0.3), 0px 1px 3px 1px rgba(60, 64, 67, 0.15);\n",
              "      fill: #174EA6;\n",
              "    }\n",
              "\n",
              "    [theme=dark] .colab-df-convert {\n",
              "      background-color: #3B4455;\n",
              "      fill: #D2E3FC;\n",
              "    }\n",
              "\n",
              "    [theme=dark] .colab-df-convert:hover {\n",
              "      background-color: #434B5C;\n",
              "      box-shadow: 0px 1px 3px 1px rgba(0, 0, 0, 0.15);\n",
              "      filter: drop-shadow(0px 1px 2px rgba(0, 0, 0, 0.3));\n",
              "      fill: #FFFFFF;\n",
              "    }\n",
              "  </style>\n",
              "\n",
              "      <script>\n",
              "        const buttonEl =\n",
              "          document.querySelector('#df-9327c6a6-fff4-49e4-aaeb-9ae05091ac5a button.colab-df-convert');\n",
              "        buttonEl.style.display =\n",
              "          google.colab.kernel.accessAllowed ? 'block' : 'none';\n",
              "\n",
              "        async function convertToInteractive(key) {\n",
              "          const element = document.querySelector('#df-9327c6a6-fff4-49e4-aaeb-9ae05091ac5a');\n",
              "          const dataTable =\n",
              "            await google.colab.kernel.invokeFunction('convertToInteractive',\n",
              "                                                     [key], {});\n",
              "          if (!dataTable) return;\n",
              "\n",
              "          const docLinkHtml = 'Like what you see? Visit the ' +\n",
              "            '<a target=\"_blank\" href=https://colab.research.google.com/notebooks/data_table.ipynb>data table notebook</a>'\n",
              "            + ' to learn more about interactive tables.';\n",
              "          element.innerHTML = '';\n",
              "          dataTable['output_type'] = 'display_data';\n",
              "          await google.colab.output.renderOutput(dataTable, element);\n",
              "          const docLink = document.createElement('div');\n",
              "          docLink.innerHTML = docLinkHtml;\n",
              "          element.appendChild(docLink);\n",
              "        }\n",
              "      </script>\n",
              "    </div>\n",
              "  </div>\n",
              "  "
            ]
          },
          "metadata": {},
          "execution_count": 103
        }
      ]
    },
    {
      "cell_type": "code",
      "source": [
        "kerc_x = train_x_pad[:7339]\n",
        "kerc_y = train_y[:7339]"
      ],
      "metadata": {
        "id": "iXwbm9aZqBBg"
      },
      "execution_count": null,
      "outputs": []
    },
    {
      "cell_type": "code",
      "source": [
        "loaded_model = load_model('best_model.h5')\n",
        "print(\"\\n 테스트 정확도(loss, acc): \" , loaded_model.evaluate(kerc_x , kerc_y))"
      ],
      "metadata": {
        "colab": {
          "base_uri": "https://localhost:8080/"
        },
        "id": "SBsYMpA3qA-7",
        "outputId": "3c19ba24-829d-45a7-e394-9daff9f58d62"
      },
      "execution_count": null,
      "outputs": [
        {
          "output_type": "stream",
          "name": "stderr",
          "text": [
            "WARNING:tensorflow:Layer lstm_2 will not use cuDNN kernels since it doesn't meet the criteria. It will use a generic GPU kernel as fallback when running on GPU.\n",
            "WARNING:tensorflow:Layer lstm_2 will not use cuDNN kernels since it doesn't meet the criteria. It will use a generic GPU kernel as fallback when running on GPU.\n",
            "WARNING:tensorflow:Layer lstm_2 will not use cuDNN kernels since it doesn't meet the criteria. It will use a generic GPU kernel as fallback when running on GPU.\n"
          ]
        },
        {
          "output_type": "stream",
          "name": "stdout",
          "text": [
            "230/230 [==============================] - 2s 7ms/step - loss: 0.8385 - acc: 0.6630\n",
            "\n",
            " 테스트 정확도(loss, acc):  [0.8384918570518494, 0.663033127784729]\n"
          ]
        }
      ]
    },
    {
      "cell_type": "code",
      "source": [],
      "metadata": {
        "id": "gB4qS5s-qA8T"
      },
      "execution_count": null,
      "outputs": []
    },
    {
      "cell_type": "code",
      "source": [],
      "metadata": {
        "id": "dGqJGdb0qA5z"
      },
      "execution_count": null,
      "outputs": []
    },
    {
      "cell_type": "code",
      "source": [],
      "metadata": {
        "id": "s1AxCtIQwiGC"
      },
      "execution_count": null,
      "outputs": []
    },
    {
      "cell_type": "code",
      "source": [],
      "metadata": {
        "id": "20sPcdL1wiDK"
      },
      "execution_count": null,
      "outputs": []
    },
    {
      "cell_type": "code",
      "source": [],
      "metadata": {
        "id": "GPT0FCVGwiAa"
      },
      "execution_count": null,
      "outputs": []
    },
    {
      "cell_type": "code",
      "execution_count": null,
      "metadata": {
        "colab": {
          "base_uri": "https://localhost:8080/",
          "height": 1000
        },
        "id": "7zVF9isTMXOw",
        "outputId": "a9c8a5df-0cf2-471c-af82-e60300b3cade"
      },
      "outputs": [
        {
          "output_type": "stream",
          "name": "stdout",
          "text": [
            "Model: \"sequential_5\"\n",
            "_________________________________________________________________\n",
            " Layer (type)                Output Shape              Param #   \n",
            "=================================================================\n",
            " embedding_5 (Embedding)     (None, None, 100)         120000    \n",
            "                                                                 \n",
            " conv1d_5 (Conv1D)           (None, None, 128)         64128     \n",
            "                                                                 \n",
            " max_pooling1d_5 (MaxPooling  (None, None, 128)        0         \n",
            " 1D)                                                             \n",
            "                                                                 \n",
            " bidirectional_5 (Bidirectio  (None, 256)              263168    \n",
            " nal)                                                            \n",
            "                                                                 \n",
            " dropout (Dropout)           (None, 256)               0         \n",
            "                                                                 \n",
            " dense_5 (Dense)             (None, 10)                2570      \n",
            "                                                                 \n",
            " dense_6 (Dense)             (None, 1)                 11        \n",
            "                                                                 \n",
            " activation_5 (Activation)   (None, 1)                 0         \n",
            "                                                                 \n",
            "=================================================================\n",
            "Total params: 449,877\n",
            "Trainable params: 449,877\n",
            "Non-trainable params: 0\n",
            "_________________________________________________________________\n",
            "Epoch 1/40\n"
          ]
        },
        {
          "output_type": "error",
          "ename": "InvalidArgumentError",
          "evalue": "ignored",
          "traceback": [
            "\u001b[0;31m---------------------------------------------------------------------------\u001b[0m",
            "\u001b[0;31mInvalidArgumentError\u001b[0m                      Traceback (most recent call last)",
            "\u001b[0;32m<ipython-input-128-68048b02ad1c>\u001b[0m in \u001b[0;36m<module>\u001b[0;34m\u001b[0m\n\u001b[1;32m     31\u001b[0m \u001b[0;34m\u001b[0m\u001b[0m\n\u001b[1;32m     32\u001b[0m \u001b[0mmodel\u001b[0m\u001b[0;34m.\u001b[0m\u001b[0mcompile\u001b[0m\u001b[0;34m(\u001b[0m\u001b[0moptimizer\u001b[0m\u001b[0;34m=\u001b[0m\u001b[0;34m'adam'\u001b[0m\u001b[0;34m,\u001b[0m \u001b[0mloss\u001b[0m\u001b[0;34m=\u001b[0m\u001b[0;34m'binary_crossentropy'\u001b[0m\u001b[0;34m,\u001b[0m \u001b[0mmetrics\u001b[0m\u001b[0;34m=\u001b[0m\u001b[0;34m[\u001b[0m\u001b[0;34m'acc'\u001b[0m\u001b[0;34m]\u001b[0m\u001b[0;34m)\u001b[0m\u001b[0;34m\u001b[0m\u001b[0;34m\u001b[0m\u001b[0m\n\u001b[0;32m---> 33\u001b[0;31m \u001b[0mhistory\u001b[0m \u001b[0;34m=\u001b[0m \u001b[0mmodel\u001b[0m\u001b[0;34m.\u001b[0m\u001b[0mfit\u001b[0m\u001b[0;34m(\u001b[0m\u001b[0mx_train\u001b[0m\u001b[0;34m,\u001b[0m \u001b[0my_train\u001b[0m\u001b[0;34m,\u001b[0m \u001b[0mepochs\u001b[0m\u001b[0;34m=\u001b[0m\u001b[0;36m40\u001b[0m\u001b[0;34m,\u001b[0m \u001b[0mcallbacks\u001b[0m\u001b[0;34m=\u001b[0m\u001b[0;34m[\u001b[0m\u001b[0mes\u001b[0m\u001b[0;34m,\u001b[0m \u001b[0mmc\u001b[0m\u001b[0;34m]\u001b[0m\u001b[0;34m,\u001b[0m \u001b[0mbatch_size\u001b[0m\u001b[0;34m=\u001b[0m\u001b[0;36m32\u001b[0m\u001b[0;34m,\u001b[0m \u001b[0mvalidation_data\u001b[0m\u001b[0;34m=\u001b[0m\u001b[0;34m(\u001b[0m\u001b[0mx_test\u001b[0m\u001b[0;34m,\u001b[0m \u001b[0my_test\u001b[0m\u001b[0;34m)\u001b[0m\u001b[0;34m)\u001b[0m\u001b[0;34m\u001b[0m\u001b[0;34m\u001b[0m\u001b[0m\n\u001b[0m",
            "\u001b[0;32m/usr/local/lib/python3.7/dist-packages/keras/utils/traceback_utils.py\u001b[0m in \u001b[0;36merror_handler\u001b[0;34m(*args, **kwargs)\u001b[0m\n\u001b[1;32m     65\u001b[0m     \u001b[0;32mexcept\u001b[0m \u001b[0mException\u001b[0m \u001b[0;32mas\u001b[0m \u001b[0me\u001b[0m\u001b[0;34m:\u001b[0m  \u001b[0;31m# pylint: disable=broad-except\u001b[0m\u001b[0;34m\u001b[0m\u001b[0;34m\u001b[0m\u001b[0m\n\u001b[1;32m     66\u001b[0m       \u001b[0mfiltered_tb\u001b[0m \u001b[0;34m=\u001b[0m \u001b[0m_process_traceback_frames\u001b[0m\u001b[0;34m(\u001b[0m\u001b[0me\u001b[0m\u001b[0;34m.\u001b[0m\u001b[0m__traceback__\u001b[0m\u001b[0;34m)\u001b[0m\u001b[0;34m\u001b[0m\u001b[0;34m\u001b[0m\u001b[0m\n\u001b[0;32m---> 67\u001b[0;31m       \u001b[0;32mraise\u001b[0m \u001b[0me\u001b[0m\u001b[0;34m.\u001b[0m\u001b[0mwith_traceback\u001b[0m\u001b[0;34m(\u001b[0m\u001b[0mfiltered_tb\u001b[0m\u001b[0;34m)\u001b[0m \u001b[0;32mfrom\u001b[0m \u001b[0;32mNone\u001b[0m\u001b[0;34m\u001b[0m\u001b[0;34m\u001b[0m\u001b[0m\n\u001b[0m\u001b[1;32m     68\u001b[0m     \u001b[0;32mfinally\u001b[0m\u001b[0;34m:\u001b[0m\u001b[0;34m\u001b[0m\u001b[0;34m\u001b[0m\u001b[0m\n\u001b[1;32m     69\u001b[0m       \u001b[0;32mdel\u001b[0m \u001b[0mfiltered_tb\u001b[0m\u001b[0;34m\u001b[0m\u001b[0;34m\u001b[0m\u001b[0m\n",
            "\u001b[0;32m/usr/local/lib/python3.7/dist-packages/tensorflow/python/eager/execute.py\u001b[0m in \u001b[0;36mquick_execute\u001b[0;34m(op_name, num_outputs, inputs, attrs, ctx, name)\u001b[0m\n\u001b[1;32m     53\u001b[0m     \u001b[0mctx\u001b[0m\u001b[0;34m.\u001b[0m\u001b[0mensure_initialized\u001b[0m\u001b[0;34m(\u001b[0m\u001b[0;34m)\u001b[0m\u001b[0;34m\u001b[0m\u001b[0;34m\u001b[0m\u001b[0m\n\u001b[1;32m     54\u001b[0m     tensors = pywrap_tfe.TFE_Py_Execute(ctx._handle, device_name, op_name,\n\u001b[0;32m---> 55\u001b[0;31m                                         inputs, attrs, num_outputs)\n\u001b[0m\u001b[1;32m     56\u001b[0m   \u001b[0;32mexcept\u001b[0m \u001b[0mcore\u001b[0m\u001b[0;34m.\u001b[0m\u001b[0m_NotOkStatusException\u001b[0m \u001b[0;32mas\u001b[0m \u001b[0me\u001b[0m\u001b[0;34m:\u001b[0m\u001b[0;34m\u001b[0m\u001b[0;34m\u001b[0m\u001b[0m\n\u001b[1;32m     57\u001b[0m     \u001b[0;32mif\u001b[0m \u001b[0mname\u001b[0m \u001b[0;32mis\u001b[0m \u001b[0;32mnot\u001b[0m \u001b[0;32mNone\u001b[0m\u001b[0;34m:\u001b[0m\u001b[0;34m\u001b[0m\u001b[0;34m\u001b[0m\u001b[0m\n",
            "\u001b[0;31mInvalidArgumentError\u001b[0m: Graph execution error:\n\nDetected at node 'sequential_5/embedding_5/embedding_lookup' defined at (most recent call last):\n    File \"/usr/lib/python3.7/runpy.py\", line 193, in _run_module_as_main\n      \"__main__\", mod_spec)\n    File \"/usr/lib/python3.7/runpy.py\", line 85, in _run_code\n      exec(code, run_globals)\n    File \"/usr/local/lib/python3.7/dist-packages/ipykernel_launcher.py\", line 16, in <module>\n      app.launch_new_instance()\n    File \"/usr/local/lib/python3.7/dist-packages/traitlets/config/application.py\", line 846, in launch_instance\n      app.start()\n    File \"/usr/local/lib/python3.7/dist-packages/ipykernel/kernelapp.py\", line 612, in start\n      self.io_loop.start()\n    File \"/usr/local/lib/python3.7/dist-packages/tornado/platform/asyncio.py\", line 132, in start\n      self.asyncio_loop.run_forever()\n    File \"/usr/lib/python3.7/asyncio/base_events.py\", line 541, in run_forever\n      self._run_once()\n    File \"/usr/lib/python3.7/asyncio/base_events.py\", line 1786, in _run_once\n      handle._run()\n    File \"/usr/lib/python3.7/asyncio/events.py\", line 88, in _run\n      self._context.run(self._callback, *self._args)\n    File \"/usr/local/lib/python3.7/dist-packages/tornado/ioloop.py\", line 758, in _run_callback\n      ret = callback()\n    File \"/usr/local/lib/python3.7/dist-packages/tornado/stack_context.py\", line 300, in null_wrapper\n      return fn(*args, **kwargs)\n    File \"/usr/local/lib/python3.7/dist-packages/tornado/gen.py\", line 1233, in inner\n      self.run()\n    File \"/usr/local/lib/python3.7/dist-packages/tornado/gen.py\", line 1147, in run\n      yielded = self.gen.send(value)\n    File \"/usr/local/lib/python3.7/dist-packages/ipykernel/kernelbase.py\", line 365, in process_one\n      yield gen.maybe_future(dispatch(*args))\n    File \"/usr/local/lib/python3.7/dist-packages/tornado/gen.py\", line 326, in wrapper\n      yielded = next(result)\n    File \"/usr/local/lib/python3.7/dist-packages/ipykernel/kernelbase.py\", line 268, in dispatch_shell\n      yield gen.maybe_future(handler(stream, idents, msg))\n    File \"/usr/local/lib/python3.7/dist-packages/tornado/gen.py\", line 326, in wrapper\n      yielded = next(result)\n    File \"/usr/local/lib/python3.7/dist-packages/ipykernel/kernelbase.py\", line 545, in execute_request\n      user_expressions, allow_stdin,\n    File \"/usr/local/lib/python3.7/dist-packages/tornado/gen.py\", line 326, in wrapper\n      yielded = next(result)\n    File \"/usr/local/lib/python3.7/dist-packages/ipykernel/ipkernel.py\", line 306, in do_execute\n      res = shell.run_cell(code, store_history=store_history, silent=silent)\n    File \"/usr/local/lib/python3.7/dist-packages/ipykernel/zmqshell.py\", line 536, in run_cell\n      return super(ZMQInteractiveShell, self).run_cell(*args, **kwargs)\n    File \"/usr/local/lib/python3.7/dist-packages/IPython/core/interactiveshell.py\", line 2855, in run_cell\n      raw_cell, store_history, silent, shell_futures)\n    File \"/usr/local/lib/python3.7/dist-packages/IPython/core/interactiveshell.py\", line 2881, in _run_cell\n      return runner(coro)\n    File \"/usr/local/lib/python3.7/dist-packages/IPython/core/async_helpers.py\", line 68, in _pseudo_sync_runner\n      coro.send(None)\n    File \"/usr/local/lib/python3.7/dist-packages/IPython/core/interactiveshell.py\", line 3058, in run_cell_async\n      interactivity=interactivity, compiler=compiler, result=result)\n    File \"/usr/local/lib/python3.7/dist-packages/IPython/core/interactiveshell.py\", line 3249, in run_ast_nodes\n      if (await self.run_code(code, result,  async_=asy)):\n    File \"/usr/local/lib/python3.7/dist-packages/IPython/core/interactiveshell.py\", line 3326, in run_code\n      exec(code_obj, self.user_global_ns, self.user_ns)\n    File \"<ipython-input-128-68048b02ad1c>\", line 33, in <module>\n      history = model.fit(x_train, y_train, epochs=40, callbacks=[es, mc], batch_size=32, validation_data=(x_test, y_test))\n    File \"/usr/local/lib/python3.7/dist-packages/keras/utils/traceback_utils.py\", line 64, in error_handler\n      return fn(*args, **kwargs)\n    File \"/usr/local/lib/python3.7/dist-packages/keras/engine/training.py\", line 1409, in fit\n      tmp_logs = self.train_function(iterator)\n    File \"/usr/local/lib/python3.7/dist-packages/keras/engine/training.py\", line 1051, in train_function\n      return step_function(self, iterator)\n    File \"/usr/local/lib/python3.7/dist-packages/keras/engine/training.py\", line 1040, in step_function\n      outputs = model.distribute_strategy.run(run_step, args=(data,))\n    File \"/usr/local/lib/python3.7/dist-packages/keras/engine/training.py\", line 1030, in run_step\n      outputs = model.train_step(data)\n    File \"/usr/local/lib/python3.7/dist-packages/keras/engine/training.py\", line 889, in train_step\n      y_pred = self(x, training=True)\n    File \"/usr/local/lib/python3.7/dist-packages/keras/utils/traceback_utils.py\", line 64, in error_handler\n      return fn(*args, **kwargs)\n    File \"/usr/local/lib/python3.7/dist-packages/keras/engine/training.py\", line 490, in __call__\n      return super().__call__(*args, **kwargs)\n    File \"/usr/local/lib/python3.7/dist-packages/keras/utils/traceback_utils.py\", line 64, in error_handler\n      return fn(*args, **kwargs)\n    File \"/usr/local/lib/python3.7/dist-packages/keras/engine/base_layer.py\", line 1014, in __call__\n      outputs = call_fn(inputs, *args, **kwargs)\n    File \"/usr/local/lib/python3.7/dist-packages/keras/utils/traceback_utils.py\", line 92, in error_handler\n      return fn(*args, **kwargs)\n    File \"/usr/local/lib/python3.7/dist-packages/keras/engine/sequential.py\", line 374, in call\n      return super(Sequential, self).call(inputs, training=training, mask=mask)\n    File \"/usr/local/lib/python3.7/dist-packages/keras/engine/functional.py\", line 459, in call\n      inputs, training=training, mask=mask)\n    File \"/usr/local/lib/python3.7/dist-packages/keras/engine/functional.py\", line 596, in _run_internal_graph\n      outputs = node.layer(*args, **kwargs)\n    File \"/usr/local/lib/python3.7/dist-packages/keras/utils/traceback_utils.py\", line 64, in error_handler\n      return fn(*args, **kwargs)\n    File \"/usr/local/lib/python3.7/dist-packages/keras/engine/base_layer.py\", line 1014, in __call__\n      outputs = call_fn(inputs, *args, **kwargs)\n    File \"/usr/local/lib/python3.7/dist-packages/keras/utils/traceback_utils.py\", line 92, in error_handler\n      return fn(*args, **kwargs)\n    File \"/usr/local/lib/python3.7/dist-packages/keras/layers/core/embedding.py\", line 199, in call\n      out = tf.nn.embedding_lookup(self.embeddings, inputs)\nNode: 'sequential_5/embedding_5/embedding_lookup'\nindices[27,17] = 1867 is not in [0, 1200)\n\t [[{{node sequential_5/embedding_5/embedding_lookup}}]] [Op:__inference_train_function_43050]"
          ]
        }
      ],
      "source": [
        "\n",
        "from tensorflow.keras.layers import Embedding, Dense, LSTM, InputLayer, Dropout, Activation, TimeDistributed, Bidirectional\n",
        "from tensorflow.keras.layers import Conv1D, MaxPooling1D\n",
        "from keras.datasets import imdb\n",
        "from tensorflow import keras\n",
        "from tensorflow.keras import layers\n",
        "from tensorflow.keras.models import Sequential\n",
        "from tensorflow.keras.models import load_model\n",
        "from tensorflow.keras.callbacks import EarlyStopping, ModelCheckpoint\n",
        "\n",
        "\n",
        "import numpy\n",
        "import tensorflow as tf\n",
        "import matplotlib.pyplot as plt\n",
        "\n",
        "embedding_dim = 100\n",
        "hidden_units = 128\n",
        "\n",
        "model = Sequential()\n",
        "model.add(Embedding(1200, embedding_dim))\n",
        "model.add(Conv1D(128, 5, padding='valid', activation='relu', strides=1))\n",
        "model.add(MaxPooling1D(pool_size=4))\n",
        "model.add(layers.Bidirectional(layers.LSTM(128)))\n",
        "model.add(Dropout(0.25))\n",
        "model.add(layers.Dense(10))\n",
        "model.add(layers.Dense(1))\n",
        "model.add(Activation('sigmoid'))\n",
        "model.summary()\n",
        "\n",
        "es = EarlyStopping(monitor='val_loss', mode='min', verbose=1, patience=5)\n",
        "mc = ModelCheckpoint('best_model.h5', monitor='val_acc', mode='max', verbose=1, save_best_only=True)\n",
        "\n",
        "model.compile(optimizer='adam', loss='binary_crossentropy', metrics=['acc'])\n",
        "history = model.fit(x_train, y_train, epochs=40, callbacks=[es, mc], batch_size=32, validation_data=(x_test, y_test))\n"
      ]
    },
    {
      "cell_type": "code",
      "execution_count": null,
      "metadata": {
        "colab": {
          "base_uri": "https://localhost:8080/"
        },
        "id": "d3Mo6Xd1O4zg",
        "outputId": "af309f2b-5482-48c4-e22f-6b0764a9a460"
      },
      "outputs": [
        {
          "name": "stdout",
          "output_type": "stream",
          "text": [
            "1527/1527 [==============================] - 6s 4ms/step - loss: 0.4769 - acc: 0.7535\n",
            "\n",
            " 테스트 정확도: 0.7535\n"
          ]
        }
      ],
      "source": [
        "loaded_model = load_model('best_model.h5')\n",
        "print(\"\\n 테스트 정확도: %.4f\" % (loaded_model.evaluate(x_test, y_test)[1]))"
      ]
    },
    {
      "cell_type": "code",
      "execution_count": null,
      "metadata": {
        "id": "rgOuSNJxitb6",
        "colab": {
          "base_uri": "https://localhost:8080/",
          "height": 424
        },
        "outputId": "c520fc32-97a7-4f10-8d4a-e36369c2b638"
      },
      "outputs": [
        {
          "output_type": "execute_result",
          "data": {
            "text/plain": [
              "      sentence_id person                                           sentence  \\\n",
              "0               1     어영  야! 전화 받아. 아무리 바빠도 내전화는 받아야 되는거 아냐? 약속 하나도 못지키는...   \n",
              "1               2     어영     우리 아무래도 안되겠다. 이게 최선인거 같애. 평생 잊지 않을게. 행복하길 바란다.   \n",
              "2               3    지구대                          김경사님, 아직 안가셨어요? 시간 다됐을텐데.   \n",
              "3               4     순경                                         근무중인데 어딜가?   \n",
              "4               5    지구대    다녀오세요. 이런날은 무조건 가서 축하해주셔야죠. 이순경이 대신 근무선다고 나온대요.   \n",
              "...           ...    ...                                                ...   \n",
              "7334        12285     청난                               종남이 맛있는것도 사주고 잘 챙겨줘.   \n",
              "7335        12286     건강                        걱정마라. 먹어도 같이 먹고 굶어도 같이 굶는다.   \n",
              "7336        12287     종남                                       아빠. 우리 저거 타.   \n",
              "7337        12288     건강  나 못타는데. 한번도 안타봤어. 툭하면 차멀미까지 하는데, 봐라, 너도 내몸땡이에 ...   \n",
              "7338        12289     건강                              여기 꼼짝말고 있어. 어디 가면 안돼.   \n",
              "\n",
              "      scene                                            context      label  \n",
              "0     S0104                                                NaN  dysphoria  \n",
              "1     S0108           포기한듯 탁 일어서는데, 띵동 문자. 후다닥 보는 어영. 기막혀 읽어보는  dysphoria  \n",
              "2     S0109    초조하게 시계보면서 왔다갔다 서성이는 김순경. 순찰차(경차)와서 멈추고 내리는 지구대    neutral  \n",
              "3     S0109    초조하게 시계보면서 왔다갔다 서성이는 김순경. 순찰차(경차)와서 멈추고 내리는 지구대  dysphoria  \n",
              "4     S0109    초조하게 시계보면서 왔다갔다 서성이는 김순경. 순찰차(경차)와서 멈추고 내리는 지구대   euphoria  \n",
              "...     ...                                                ...        ...  \n",
              "7334  S3576                                                NaN   euphoria  \n",
              "7335  S3576                                                NaN   euphoria  \n",
              "7336  S3576                                                NaN   euphoria  \n",
              "7337  S3576                                                NaN   euphoria  \n",
              "7338  S3576  시간경과. 놀이기구 타는 건강종남. 사람들 비명. 신난 종남 소리지르고. 건강 하얗...   euphoria  \n",
              "\n",
              "[7339 rows x 6 columns]"
            ],
            "text/html": [
              "\n",
              "  <div id=\"df-4c0ff7ad-c45b-4e1d-b702-f54dd360b550\">\n",
              "    <div class=\"colab-df-container\">\n",
              "      <div>\n",
              "<style scoped>\n",
              "    .dataframe tbody tr th:only-of-type {\n",
              "        vertical-align: middle;\n",
              "    }\n",
              "\n",
              "    .dataframe tbody tr th {\n",
              "        vertical-align: top;\n",
              "    }\n",
              "\n",
              "    .dataframe thead th {\n",
              "        text-align: right;\n",
              "    }\n",
              "</style>\n",
              "<table border=\"1\" class=\"dataframe\">\n",
              "  <thead>\n",
              "    <tr style=\"text-align: right;\">\n",
              "      <th></th>\n",
              "      <th>sentence_id</th>\n",
              "      <th>person</th>\n",
              "      <th>sentence</th>\n",
              "      <th>scene</th>\n",
              "      <th>context</th>\n",
              "      <th>label</th>\n",
              "    </tr>\n",
              "  </thead>\n",
              "  <tbody>\n",
              "    <tr>\n",
              "      <th>0</th>\n",
              "      <td>1</td>\n",
              "      <td>어영</td>\n",
              "      <td>야! 전화 받아. 아무리 바빠도 내전화는 받아야 되는거 아냐? 약속 하나도 못지키는...</td>\n",
              "      <td>S0104</td>\n",
              "      <td>NaN</td>\n",
              "      <td>dysphoria</td>\n",
              "    </tr>\n",
              "    <tr>\n",
              "      <th>1</th>\n",
              "      <td>2</td>\n",
              "      <td>어영</td>\n",
              "      <td>우리 아무래도 안되겠다. 이게 최선인거 같애. 평생 잊지 않을게. 행복하길 바란다.</td>\n",
              "      <td>S0108</td>\n",
              "      <td>포기한듯 탁 일어서는데, 띵동 문자. 후다닥 보는 어영. 기막혀 읽어보는</td>\n",
              "      <td>dysphoria</td>\n",
              "    </tr>\n",
              "    <tr>\n",
              "      <th>2</th>\n",
              "      <td>3</td>\n",
              "      <td>지구대</td>\n",
              "      <td>김경사님, 아직 안가셨어요? 시간 다됐을텐데.</td>\n",
              "      <td>S0109</td>\n",
              "      <td>초조하게 시계보면서 왔다갔다 서성이는 김순경. 순찰차(경차)와서 멈추고 내리는 지구대</td>\n",
              "      <td>neutral</td>\n",
              "    </tr>\n",
              "    <tr>\n",
              "      <th>3</th>\n",
              "      <td>4</td>\n",
              "      <td>순경</td>\n",
              "      <td>근무중인데 어딜가?</td>\n",
              "      <td>S0109</td>\n",
              "      <td>초조하게 시계보면서 왔다갔다 서성이는 김순경. 순찰차(경차)와서 멈추고 내리는 지구대</td>\n",
              "      <td>dysphoria</td>\n",
              "    </tr>\n",
              "    <tr>\n",
              "      <th>4</th>\n",
              "      <td>5</td>\n",
              "      <td>지구대</td>\n",
              "      <td>다녀오세요. 이런날은 무조건 가서 축하해주셔야죠. 이순경이 대신 근무선다고 나온대요.</td>\n",
              "      <td>S0109</td>\n",
              "      <td>초조하게 시계보면서 왔다갔다 서성이는 김순경. 순찰차(경차)와서 멈추고 내리는 지구대</td>\n",
              "      <td>euphoria</td>\n",
              "    </tr>\n",
              "    <tr>\n",
              "      <th>...</th>\n",
              "      <td>...</td>\n",
              "      <td>...</td>\n",
              "      <td>...</td>\n",
              "      <td>...</td>\n",
              "      <td>...</td>\n",
              "      <td>...</td>\n",
              "    </tr>\n",
              "    <tr>\n",
              "      <th>7334</th>\n",
              "      <td>12285</td>\n",
              "      <td>청난</td>\n",
              "      <td>종남이 맛있는것도 사주고 잘 챙겨줘.</td>\n",
              "      <td>S3576</td>\n",
              "      <td>NaN</td>\n",
              "      <td>euphoria</td>\n",
              "    </tr>\n",
              "    <tr>\n",
              "      <th>7335</th>\n",
              "      <td>12286</td>\n",
              "      <td>건강</td>\n",
              "      <td>걱정마라. 먹어도 같이 먹고 굶어도 같이 굶는다.</td>\n",
              "      <td>S3576</td>\n",
              "      <td>NaN</td>\n",
              "      <td>euphoria</td>\n",
              "    </tr>\n",
              "    <tr>\n",
              "      <th>7336</th>\n",
              "      <td>12287</td>\n",
              "      <td>종남</td>\n",
              "      <td>아빠. 우리 저거 타.</td>\n",
              "      <td>S3576</td>\n",
              "      <td>NaN</td>\n",
              "      <td>euphoria</td>\n",
              "    </tr>\n",
              "    <tr>\n",
              "      <th>7337</th>\n",
              "      <td>12288</td>\n",
              "      <td>건강</td>\n",
              "      <td>나 못타는데. 한번도 안타봤어. 툭하면 차멀미까지 하는데, 봐라, 너도 내몸땡이에 ...</td>\n",
              "      <td>S3576</td>\n",
              "      <td>NaN</td>\n",
              "      <td>euphoria</td>\n",
              "    </tr>\n",
              "    <tr>\n",
              "      <th>7338</th>\n",
              "      <td>12289</td>\n",
              "      <td>건강</td>\n",
              "      <td>여기 꼼짝말고 있어. 어디 가면 안돼.</td>\n",
              "      <td>S3576</td>\n",
              "      <td>시간경과. 놀이기구 타는 건강종남. 사람들 비명. 신난 종남 소리지르고. 건강 하얗...</td>\n",
              "      <td>euphoria</td>\n",
              "    </tr>\n",
              "  </tbody>\n",
              "</table>\n",
              "<p>7339 rows × 6 columns</p>\n",
              "</div>\n",
              "      <button class=\"colab-df-convert\" onclick=\"convertToInteractive('df-4c0ff7ad-c45b-4e1d-b702-f54dd360b550')\"\n",
              "              title=\"Convert this dataframe to an interactive table.\"\n",
              "              style=\"display:none;\">\n",
              "        \n",
              "  <svg xmlns=\"http://www.w3.org/2000/svg\" height=\"24px\"viewBox=\"0 0 24 24\"\n",
              "       width=\"24px\">\n",
              "    <path d=\"M0 0h24v24H0V0z\" fill=\"none\"/>\n",
              "    <path d=\"M18.56 5.44l.94 2.06.94-2.06 2.06-.94-2.06-.94-.94-2.06-.94 2.06-2.06.94zm-11 1L8.5 8.5l.94-2.06 2.06-.94-2.06-.94L8.5 2.5l-.94 2.06-2.06.94zm10 10l.94 2.06.94-2.06 2.06-.94-2.06-.94-.94-2.06-.94 2.06-2.06.94z\"/><path d=\"M17.41 7.96l-1.37-1.37c-.4-.4-.92-.59-1.43-.59-.52 0-1.04.2-1.43.59L10.3 9.45l-7.72 7.72c-.78.78-.78 2.05 0 2.83L4 21.41c.39.39.9.59 1.41.59.51 0 1.02-.2 1.41-.59l7.78-7.78 2.81-2.81c.8-.78.8-2.07 0-2.86zM5.41 20L4 18.59l7.72-7.72 1.47 1.35L5.41 20z\"/>\n",
              "  </svg>\n",
              "      </button>\n",
              "      \n",
              "  <style>\n",
              "    .colab-df-container {\n",
              "      display:flex;\n",
              "      flex-wrap:wrap;\n",
              "      gap: 12px;\n",
              "    }\n",
              "\n",
              "    .colab-df-convert {\n",
              "      background-color: #E8F0FE;\n",
              "      border: none;\n",
              "      border-radius: 50%;\n",
              "      cursor: pointer;\n",
              "      display: none;\n",
              "      fill: #1967D2;\n",
              "      height: 32px;\n",
              "      padding: 0 0 0 0;\n",
              "      width: 32px;\n",
              "    }\n",
              "\n",
              "    .colab-df-convert:hover {\n",
              "      background-color: #E2EBFA;\n",
              "      box-shadow: 0px 1px 2px rgba(60, 64, 67, 0.3), 0px 1px 3px 1px rgba(60, 64, 67, 0.15);\n",
              "      fill: #174EA6;\n",
              "    }\n",
              "\n",
              "    [theme=dark] .colab-df-convert {\n",
              "      background-color: #3B4455;\n",
              "      fill: #D2E3FC;\n",
              "    }\n",
              "\n",
              "    [theme=dark] .colab-df-convert:hover {\n",
              "      background-color: #434B5C;\n",
              "      box-shadow: 0px 1px 3px 1px rgba(0, 0, 0, 0.15);\n",
              "      filter: drop-shadow(0px 1px 2px rgba(0, 0, 0, 0.3));\n",
              "      fill: #FFFFFF;\n",
              "    }\n",
              "  </style>\n",
              "\n",
              "      <script>\n",
              "        const buttonEl =\n",
              "          document.querySelector('#df-4c0ff7ad-c45b-4e1d-b702-f54dd360b550 button.colab-df-convert');\n",
              "        buttonEl.style.display =\n",
              "          google.colab.kernel.accessAllowed ? 'block' : 'none';\n",
              "\n",
              "        async function convertToInteractive(key) {\n",
              "          const element = document.querySelector('#df-4c0ff7ad-c45b-4e1d-b702-f54dd360b550');\n",
              "          const dataTable =\n",
              "            await google.colab.kernel.invokeFunction('convertToInteractive',\n",
              "                                                     [key], {});\n",
              "          if (!dataTable) return;\n",
              "\n",
              "          const docLinkHtml = 'Like what you see? Visit the ' +\n",
              "            '<a target=\"_blank\" href=https://colab.research.google.com/notebooks/data_table.ipynb>data table notebook</a>'\n",
              "            + ' to learn more about interactive tables.';\n",
              "          element.innerHTML = '';\n",
              "          dataTable['output_type'] = 'display_data';\n",
              "          await google.colab.output.renderOutput(dataTable, element);\n",
              "          const docLink = document.createElement('div');\n",
              "          docLink.innerHTML = docLinkHtml;\n",
              "          element.appendChild(docLink);\n",
              "        }\n",
              "      </script>\n",
              "    </div>\n",
              "  </div>\n",
              "  "
            ]
          },
          "metadata": {},
          "execution_count": 61
        }
      ],
      "source": [
        "import pandas as pd\n",
        "raw_data = pd.read_excel('/content/gdrive/MyDrive/대회/감정분석 대회/train_label_data.xlsx')\n",
        "# test_data = pd.read_table('ratings_test.txt')\n",
        "\n",
        "raw_data"
      ]
    },
    {
      "cell_type": "code",
      "source": [
        "kerc_x = train_x_pad[:7339]\n",
        "kerc_y = train_y[:7339]"
      ],
      "metadata": {
        "id": "aY60jxAUXx7C"
      },
      "execution_count": null,
      "outputs": []
    },
    {
      "cell_type": "code",
      "source": [
        "loaded_model = load_model('best_model.h5')\n",
        "print(\"\\n 테스트 정확도(loss, acc): \" , loaded_model.evaluate(kerc_x , kerc_y))"
      ],
      "metadata": {
        "colab": {
          "base_uri": "https://localhost:8080/"
        },
        "id": "Atsa_OxiYAfQ",
        "outputId": "092071ef-3839-4bce-9e6c-9430cdc22dee"
      },
      "execution_count": null,
      "outputs": [
        {
          "output_type": "stream",
          "name": "stdout",
          "text": [
            "230/230 [==============================] - 2s 6ms/step - loss: 0.7506 - acc: 0.6715\n",
            "\n",
            " 테스트 정확도(loss, acc):  [0.7506495714187622, 0.6714811325073242]\n"
          ]
        }
      ]
    },
    {
      "cell_type": "code",
      "source": [],
      "metadata": {
        "id": "CJuIgk5PYAcj"
      },
      "execution_count": null,
      "outputs": []
    },
    {
      "cell_type": "code",
      "source": [],
      "metadata": {
        "id": "hcVNC2P_YAZz"
      },
      "execution_count": null,
      "outputs": []
    },
    {
      "cell_type": "code",
      "source": [],
      "metadata": {
        "id": "5hMJrvM_YAOz"
      },
      "execution_count": null,
      "outputs": []
    },
    {
      "cell_type": "code",
      "source": [],
      "metadata": {
        "id": "HIxszfbucFqs"
      },
      "execution_count": null,
      "outputs": []
    },
    {
      "cell_type": "code",
      "execution_count": null,
      "metadata": {
        "colab": {
          "base_uri": "https://localhost:8080/"
        },
        "outputId": "42895c90-f52c-46c8-9181-ee47535a1854",
        "id": "4nVjjz7-cFqx"
      },
      "outputs": [
        {
          "output_type": "stream",
          "name": "stdout",
          "text": [
            "Model: \"sequential_3\"\n",
            "_________________________________________________________________\n",
            " Layer (type)                Output Shape              Param #   \n",
            "=================================================================\n",
            " embedding_3 (Embedding)     (None, None, 100)         120000    \n",
            "                                                                 \n",
            " conv1d_3 (Conv1D)           (None, None, 128)         64128     \n",
            "                                                                 \n",
            " max_pooling1d_3 (MaxPooling  (None, None, 128)        0         \n",
            " 1D)                                                             \n",
            "                                                                 \n",
            " bidirectional_3 (Bidirectio  (None, 256)              263168    \n",
            " nal)                                                            \n",
            "                                                                 \n",
            " dropout_3 (Dropout)         (None, 256)               0         \n",
            "                                                                 \n",
            " dense_6 (Dense)             (None, 10)                2570      \n",
            "                                                                 \n",
            " dense_7 (Dense)             (None, 3)                 33        \n",
            "                                                                 \n",
            " activation_3 (Activation)   (None, 3)                 0         \n",
            "                                                                 \n",
            "=================================================================\n",
            "Total params: 449,899\n",
            "Trainable params: 449,899\n",
            "Non-trainable params: 0\n",
            "_________________________________________________________________\n",
            "Epoch 1/40\n",
            "2329/2329 [==============================] - ETA: 0s - loss: 0.4153 - acc: 0.8387\n",
            "Epoch 1: val_acc improved from -inf to 0.85664, saving model to best_model.h5\n",
            "2329/2329 [==============================] - 30s 10ms/step - loss: 0.4153 - acc: 0.8387 - val_loss: 0.3684 - val_acc: 0.8566\n",
            "Epoch 2/40\n",
            "2325/2329 [============================>.] - ETA: 0s - loss: 0.3382 - acc: 0.8692\n",
            "Epoch 2: val_acc improved from 0.85664 to 0.86171, saving model to best_model.h5\n",
            "2329/2329 [==============================] - 21s 9ms/step - loss: 0.3382 - acc: 0.8691 - val_loss: 0.3546 - val_acc: 0.8617\n",
            "Epoch 3/40\n",
            "2324/2329 [============================>.] - ETA: 0s - loss: 0.3000 - acc: 0.8840\n",
            "Epoch 3: val_acc did not improve from 0.86171\n",
            "2329/2329 [==============================] - 20s 9ms/step - loss: 0.3000 - acc: 0.8840 - val_loss: 0.3619 - val_acc: 0.8583\n",
            "Epoch 4/40\n",
            "2325/2329 [============================>.] - ETA: 0s - loss: 0.2566 - acc: 0.9022\n",
            "Epoch 4: val_acc did not improve from 0.86171\n",
            "2329/2329 [==============================] - 20s 9ms/step - loss: 0.2567 - acc: 0.9022 - val_loss: 0.3814 - val_acc: 0.8549\n",
            "Epoch 5/40\n",
            "2328/2329 [============================>.] - ETA: 0s - loss: 0.2068 - acc: 0.9216\n",
            "Epoch 5: val_acc did not improve from 0.86171\n",
            "2329/2329 [==============================] - 20s 9ms/step - loss: 0.2067 - acc: 0.9216 - val_loss: 0.4510 - val_acc: 0.8493\n",
            "Epoch 6/40\n",
            "2328/2329 [============================>.] - ETA: 0s - loss: 0.1623 - acc: 0.9378\n",
            "Epoch 6: val_acc did not improve from 0.86171\n",
            "2329/2329 [==============================] - 21s 9ms/step - loss: 0.1624 - acc: 0.9378 - val_loss: 0.5271 - val_acc: 0.8475\n",
            "Epoch 7/40\n",
            "2329/2329 [==============================] - ETA: 0s - loss: 0.1283 - acc: 0.9505\n",
            "Epoch 7: val_acc did not improve from 0.86171\n",
            "2329/2329 [==============================] - 20s 9ms/step - loss: 0.1283 - acc: 0.9505 - val_loss: 0.5592 - val_acc: 0.8394\n",
            "Epoch 7: early stopping\n"
          ]
        }
      ],
      "source": [
        "\n",
        "from tensorflow.keras.layers import Embedding, Dense, LSTM, InputLayer, Dropout, Activation, TimeDistributed, Bidirectional\n",
        "from tensorflow.keras.layers import Conv1D, MaxPooling1D\n",
        "from keras.datasets import imdb\n",
        "from tensorflow import keras\n",
        "from tensorflow.keras import layers\n",
        "from tensorflow.keras.models import Sequential\n",
        "from tensorflow.keras.models import load_model\n",
        "from tensorflow.keras.callbacks import EarlyStopping, ModelCheckpoint\n",
        "\n",
        "\n",
        "import numpy\n",
        "import tensorflow as tf\n",
        "import matplotlib.pyplot as plt\n",
        "\n",
        "embedding_dim = 100\n",
        "hidden_units = 128\n",
        "\n",
        "model = Sequential()\n",
        "model.add(Embedding(1200, embedding_dim))\n",
        "model.add(Conv1D(128, 5, padding='valid', activation='relu', strides=1))\n",
        "model.add(MaxPooling1D(pool_size=4))\n",
        "model.add(layers.Bidirectional(layers.LSTM(128)))\n",
        "model.add(Dropout(0.25))\n",
        "model.add(layers.Dense(10))\n",
        "model.add(layers.Dense(3))\n",
        "model.add(Activation('softmax'))\n",
        "model.summary()\n",
        "\n",
        "es = EarlyStopping(monitor='val_loss', mode='min', verbose=1, patience=5)\n",
        "mc = ModelCheckpoint('best_model.h5', monitor='val_acc', mode='max', verbose=1, save_best_only=True)\n",
        "\n",
        "model.compile(optimizer='adam', loss='sparse_categorical_crossentropy', metrics=['acc'])\n",
        "history = model.fit(x_train, y_train, epochs=40, callbacks=[es, mc], batch_size=32, validation_data=(x_test, y_test))\n"
      ]
    },
    {
      "cell_type": "code",
      "execution_count": null,
      "metadata": {
        "colab": {
          "base_uri": "https://localhost:8080/"
        },
        "outputId": "af309f2b-5482-48c4-e22f-6b0764a9a460",
        "id": "Ll0YdKCgcFqy"
      },
      "outputs": [
        {
          "name": "stdout",
          "output_type": "stream",
          "text": [
            "1527/1527 [==============================] - 6s 4ms/step - loss: 0.4769 - acc: 0.7535\n",
            "\n",
            " 테스트 정확도: 0.7535\n"
          ]
        }
      ],
      "source": [
        "loaded_model = load_model('best_model.h5')\n",
        "print(\"\\n 테스트 정확도: %.4f\" % (loaded_model.evaluate(x_test, y_test)[1]))"
      ]
    },
    {
      "cell_type": "code",
      "execution_count": null,
      "metadata": {
        "colab": {
          "base_uri": "https://localhost:8080/",
          "height": 424
        },
        "outputId": "1dbf714a-d940-491a-a836-340ac1b46d1c",
        "id": "GMJy-6rzcFqy"
      },
      "outputs": [
        {
          "output_type": "execute_result",
          "data": {
            "text/plain": [
              "      sentence_id person                                           sentence  \\\n",
              "0               1     어영  야! 전화 받아. 아무리 바빠도 내전화는 받아야 되는거 아냐? 약속 하나도 못지키는...   \n",
              "1               2     어영     우리 아무래도 안되겠다. 이게 최선인거 같애. 평생 잊지 않을게. 행복하길 바란다.   \n",
              "2               3    지구대                          김경사님, 아직 안가셨어요? 시간 다됐을텐데.   \n",
              "3               4     순경                                         근무중인데 어딜가?   \n",
              "4               5    지구대    다녀오세요. 이런날은 무조건 가서 축하해주셔야죠. 이순경이 대신 근무선다고 나온대요.   \n",
              "...           ...    ...                                                ...   \n",
              "7334        12285     청난                               종남이 맛있는것도 사주고 잘 챙겨줘.   \n",
              "7335        12286     건강                        걱정마라. 먹어도 같이 먹고 굶어도 같이 굶는다.   \n",
              "7336        12287     종남                                       아빠. 우리 저거 타.   \n",
              "7337        12288     건강  나 못타는데. 한번도 안타봤어. 툭하면 차멀미까지 하는데, 봐라, 너도 내몸땡이에 ...   \n",
              "7338        12289     건강                              여기 꼼짝말고 있어. 어디 가면 안돼.   \n",
              "\n",
              "      scene                                            context      label  \n",
              "0     S0104                                                NaN  dysphoria  \n",
              "1     S0108           포기한듯 탁 일어서는데, 띵동 문자. 후다닥 보는 어영. 기막혀 읽어보는  dysphoria  \n",
              "2     S0109    초조하게 시계보면서 왔다갔다 서성이는 김순경. 순찰차(경차)와서 멈추고 내리는 지구대    neutral  \n",
              "3     S0109    초조하게 시계보면서 왔다갔다 서성이는 김순경. 순찰차(경차)와서 멈추고 내리는 지구대  dysphoria  \n",
              "4     S0109    초조하게 시계보면서 왔다갔다 서성이는 김순경. 순찰차(경차)와서 멈추고 내리는 지구대   euphoria  \n",
              "...     ...                                                ...        ...  \n",
              "7334  S3576                                                NaN   euphoria  \n",
              "7335  S3576                                                NaN   euphoria  \n",
              "7336  S3576                                                NaN   euphoria  \n",
              "7337  S3576                                                NaN   euphoria  \n",
              "7338  S3576  시간경과. 놀이기구 타는 건강종남. 사람들 비명. 신난 종남 소리지르고. 건강 하얗...   euphoria  \n",
              "\n",
              "[7339 rows x 6 columns]"
            ],
            "text/html": [
              "\n",
              "  <div id=\"df-d7232e28-fd0d-475c-a5a9-563744b364dd\">\n",
              "    <div class=\"colab-df-container\">\n",
              "      <div>\n",
              "<style scoped>\n",
              "    .dataframe tbody tr th:only-of-type {\n",
              "        vertical-align: middle;\n",
              "    }\n",
              "\n",
              "    .dataframe tbody tr th {\n",
              "        vertical-align: top;\n",
              "    }\n",
              "\n",
              "    .dataframe thead th {\n",
              "        text-align: right;\n",
              "    }\n",
              "</style>\n",
              "<table border=\"1\" class=\"dataframe\">\n",
              "  <thead>\n",
              "    <tr style=\"text-align: right;\">\n",
              "      <th></th>\n",
              "      <th>sentence_id</th>\n",
              "      <th>person</th>\n",
              "      <th>sentence</th>\n",
              "      <th>scene</th>\n",
              "      <th>context</th>\n",
              "      <th>label</th>\n",
              "    </tr>\n",
              "  </thead>\n",
              "  <tbody>\n",
              "    <tr>\n",
              "      <th>0</th>\n",
              "      <td>1</td>\n",
              "      <td>어영</td>\n",
              "      <td>야! 전화 받아. 아무리 바빠도 내전화는 받아야 되는거 아냐? 약속 하나도 못지키는...</td>\n",
              "      <td>S0104</td>\n",
              "      <td>NaN</td>\n",
              "      <td>dysphoria</td>\n",
              "    </tr>\n",
              "    <tr>\n",
              "      <th>1</th>\n",
              "      <td>2</td>\n",
              "      <td>어영</td>\n",
              "      <td>우리 아무래도 안되겠다. 이게 최선인거 같애. 평생 잊지 않을게. 행복하길 바란다.</td>\n",
              "      <td>S0108</td>\n",
              "      <td>포기한듯 탁 일어서는데, 띵동 문자. 후다닥 보는 어영. 기막혀 읽어보는</td>\n",
              "      <td>dysphoria</td>\n",
              "    </tr>\n",
              "    <tr>\n",
              "      <th>2</th>\n",
              "      <td>3</td>\n",
              "      <td>지구대</td>\n",
              "      <td>김경사님, 아직 안가셨어요? 시간 다됐을텐데.</td>\n",
              "      <td>S0109</td>\n",
              "      <td>초조하게 시계보면서 왔다갔다 서성이는 김순경. 순찰차(경차)와서 멈추고 내리는 지구대</td>\n",
              "      <td>neutral</td>\n",
              "    </tr>\n",
              "    <tr>\n",
              "      <th>3</th>\n",
              "      <td>4</td>\n",
              "      <td>순경</td>\n",
              "      <td>근무중인데 어딜가?</td>\n",
              "      <td>S0109</td>\n",
              "      <td>초조하게 시계보면서 왔다갔다 서성이는 김순경. 순찰차(경차)와서 멈추고 내리는 지구대</td>\n",
              "      <td>dysphoria</td>\n",
              "    </tr>\n",
              "    <tr>\n",
              "      <th>4</th>\n",
              "      <td>5</td>\n",
              "      <td>지구대</td>\n",
              "      <td>다녀오세요. 이런날은 무조건 가서 축하해주셔야죠. 이순경이 대신 근무선다고 나온대요.</td>\n",
              "      <td>S0109</td>\n",
              "      <td>초조하게 시계보면서 왔다갔다 서성이는 김순경. 순찰차(경차)와서 멈추고 내리는 지구대</td>\n",
              "      <td>euphoria</td>\n",
              "    </tr>\n",
              "    <tr>\n",
              "      <th>...</th>\n",
              "      <td>...</td>\n",
              "      <td>...</td>\n",
              "      <td>...</td>\n",
              "      <td>...</td>\n",
              "      <td>...</td>\n",
              "      <td>...</td>\n",
              "    </tr>\n",
              "    <tr>\n",
              "      <th>7334</th>\n",
              "      <td>12285</td>\n",
              "      <td>청난</td>\n",
              "      <td>종남이 맛있는것도 사주고 잘 챙겨줘.</td>\n",
              "      <td>S3576</td>\n",
              "      <td>NaN</td>\n",
              "      <td>euphoria</td>\n",
              "    </tr>\n",
              "    <tr>\n",
              "      <th>7335</th>\n",
              "      <td>12286</td>\n",
              "      <td>건강</td>\n",
              "      <td>걱정마라. 먹어도 같이 먹고 굶어도 같이 굶는다.</td>\n",
              "      <td>S3576</td>\n",
              "      <td>NaN</td>\n",
              "      <td>euphoria</td>\n",
              "    </tr>\n",
              "    <tr>\n",
              "      <th>7336</th>\n",
              "      <td>12287</td>\n",
              "      <td>종남</td>\n",
              "      <td>아빠. 우리 저거 타.</td>\n",
              "      <td>S3576</td>\n",
              "      <td>NaN</td>\n",
              "      <td>euphoria</td>\n",
              "    </tr>\n",
              "    <tr>\n",
              "      <th>7337</th>\n",
              "      <td>12288</td>\n",
              "      <td>건강</td>\n",
              "      <td>나 못타는데. 한번도 안타봤어. 툭하면 차멀미까지 하는데, 봐라, 너도 내몸땡이에 ...</td>\n",
              "      <td>S3576</td>\n",
              "      <td>NaN</td>\n",
              "      <td>euphoria</td>\n",
              "    </tr>\n",
              "    <tr>\n",
              "      <th>7338</th>\n",
              "      <td>12289</td>\n",
              "      <td>건강</td>\n",
              "      <td>여기 꼼짝말고 있어. 어디 가면 안돼.</td>\n",
              "      <td>S3576</td>\n",
              "      <td>시간경과. 놀이기구 타는 건강종남. 사람들 비명. 신난 종남 소리지르고. 건강 하얗...</td>\n",
              "      <td>euphoria</td>\n",
              "    </tr>\n",
              "  </tbody>\n",
              "</table>\n",
              "<p>7339 rows × 6 columns</p>\n",
              "</div>\n",
              "      <button class=\"colab-df-convert\" onclick=\"convertToInteractive('df-d7232e28-fd0d-475c-a5a9-563744b364dd')\"\n",
              "              title=\"Convert this dataframe to an interactive table.\"\n",
              "              style=\"display:none;\">\n",
              "        \n",
              "  <svg xmlns=\"http://www.w3.org/2000/svg\" height=\"24px\"viewBox=\"0 0 24 24\"\n",
              "       width=\"24px\">\n",
              "    <path d=\"M0 0h24v24H0V0z\" fill=\"none\"/>\n",
              "    <path d=\"M18.56 5.44l.94 2.06.94-2.06 2.06-.94-2.06-.94-.94-2.06-.94 2.06-2.06.94zm-11 1L8.5 8.5l.94-2.06 2.06-.94-2.06-.94L8.5 2.5l-.94 2.06-2.06.94zm10 10l.94 2.06.94-2.06 2.06-.94-2.06-.94-.94-2.06-.94 2.06-2.06.94z\"/><path d=\"M17.41 7.96l-1.37-1.37c-.4-.4-.92-.59-1.43-.59-.52 0-1.04.2-1.43.59L10.3 9.45l-7.72 7.72c-.78.78-.78 2.05 0 2.83L4 21.41c.39.39.9.59 1.41.59.51 0 1.02-.2 1.41-.59l7.78-7.78 2.81-2.81c.8-.78.8-2.07 0-2.86zM5.41 20L4 18.59l7.72-7.72 1.47 1.35L5.41 20z\"/>\n",
              "  </svg>\n",
              "      </button>\n",
              "      \n",
              "  <style>\n",
              "    .colab-df-container {\n",
              "      display:flex;\n",
              "      flex-wrap:wrap;\n",
              "      gap: 12px;\n",
              "    }\n",
              "\n",
              "    .colab-df-convert {\n",
              "      background-color: #E8F0FE;\n",
              "      border: none;\n",
              "      border-radius: 50%;\n",
              "      cursor: pointer;\n",
              "      display: none;\n",
              "      fill: #1967D2;\n",
              "      height: 32px;\n",
              "      padding: 0 0 0 0;\n",
              "      width: 32px;\n",
              "    }\n",
              "\n",
              "    .colab-df-convert:hover {\n",
              "      background-color: #E2EBFA;\n",
              "      box-shadow: 0px 1px 2px rgba(60, 64, 67, 0.3), 0px 1px 3px 1px rgba(60, 64, 67, 0.15);\n",
              "      fill: #174EA6;\n",
              "    }\n",
              "\n",
              "    [theme=dark] .colab-df-convert {\n",
              "      background-color: #3B4455;\n",
              "      fill: #D2E3FC;\n",
              "    }\n",
              "\n",
              "    [theme=dark] .colab-df-convert:hover {\n",
              "      background-color: #434B5C;\n",
              "      box-shadow: 0px 1px 3px 1px rgba(0, 0, 0, 0.15);\n",
              "      filter: drop-shadow(0px 1px 2px rgba(0, 0, 0, 0.3));\n",
              "      fill: #FFFFFF;\n",
              "    }\n",
              "  </style>\n",
              "\n",
              "      <script>\n",
              "        const buttonEl =\n",
              "          document.querySelector('#df-d7232e28-fd0d-475c-a5a9-563744b364dd button.colab-df-convert');\n",
              "        buttonEl.style.display =\n",
              "          google.colab.kernel.accessAllowed ? 'block' : 'none';\n",
              "\n",
              "        async function convertToInteractive(key) {\n",
              "          const element = document.querySelector('#df-d7232e28-fd0d-475c-a5a9-563744b364dd');\n",
              "          const dataTable =\n",
              "            await google.colab.kernel.invokeFunction('convertToInteractive',\n",
              "                                                     [key], {});\n",
              "          if (!dataTable) return;\n",
              "\n",
              "          const docLinkHtml = 'Like what you see? Visit the ' +\n",
              "            '<a target=\"_blank\" href=https://colab.research.google.com/notebooks/data_table.ipynb>data table notebook</a>'\n",
              "            + ' to learn more about interactive tables.';\n",
              "          element.innerHTML = '';\n",
              "          dataTable['output_type'] = 'display_data';\n",
              "          await google.colab.output.renderOutput(dataTable, element);\n",
              "          const docLink = document.createElement('div');\n",
              "          docLink.innerHTML = docLinkHtml;\n",
              "          element.appendChild(docLink);\n",
              "        }\n",
              "      </script>\n",
              "    </div>\n",
              "  </div>\n",
              "  "
            ]
          },
          "metadata": {},
          "execution_count": 116
        }
      ],
      "source": [
        "import pandas as pd\n",
        "raw_data = pd.read_excel('/content/gdrive/MyDrive/대회/감정분석 대회/train_label_data.xlsx')\n",
        "# test_data = pd.read_table('ratings_test.txt')\n",
        "\n",
        "raw_data"
      ]
    },
    {
      "cell_type": "code",
      "source": [
        "kerc_x = train_x_pad[:7339]\n",
        "kerc_y = train_y[:7339]"
      ],
      "metadata": {
        "id": "3SU0mt-icFqy"
      },
      "execution_count": null,
      "outputs": []
    },
    {
      "cell_type": "code",
      "source": [
        "loaded_model = load_model('best_model.h5')\n",
        "print(\"\\n 테스트 정확도(loss, acc): \" , loaded_model.evaluate(kerc_x , kerc_y))"
      ],
      "metadata": {
        "colab": {
          "base_uri": "https://localhost:8080/"
        },
        "outputId": "ba355bcc-e004-4a4a-a2c2-b91e5101f398",
        "id": "25KIIHNEcFqy"
      },
      "execution_count": null,
      "outputs": [
        {
          "output_type": "stream",
          "name": "stdout",
          "text": [
            "230/230 [==============================] - 2s 4ms/step - loss: 0.8429 - acc: 0.6010\n",
            "\n",
            " 테스트 정확도(loss, acc):  [0.8429270386695862, 0.6010355353355408]\n"
          ]
        }
      ]
    },
    {
      "cell_type": "code",
      "source": [],
      "metadata": {
        "id": "UdWIorY3c_fa"
      },
      "execution_count": null,
      "outputs": []
    },
    {
      "cell_type": "code",
      "source": [],
      "metadata": {
        "id": "MAyV8RrjdcC8"
      },
      "execution_count": null,
      "outputs": []
    },
    {
      "cell_type": "code",
      "source": [],
      "metadata": {
        "id": "mUm5ybkIdcAb"
      },
      "execution_count": null,
      "outputs": []
    },
    {
      "cell_type": "code",
      "source": [],
      "metadata": {
        "id": "m3anjqo4db-C"
      },
      "execution_count": null,
      "outputs": []
    },
    {
      "cell_type": "code",
      "source": [],
      "metadata": {
        "id": "r809SuJidb7X"
      },
      "execution_count": null,
      "outputs": []
    },
    {
      "cell_type": "code",
      "source": [],
      "metadata": {
        "id": "_Qae1Nepdb4z"
      },
      "execution_count": null,
      "outputs": []
    },
    {
      "cell_type": "code",
      "source": [],
      "metadata": {
        "id": "zpKOLHyZdb2D"
      },
      "execution_count": null,
      "outputs": []
    },
    {
      "cell_type": "code",
      "source": [],
      "metadata": {
        "id": "dLHDbLOIdbzS"
      },
      "execution_count": null,
      "outputs": []
    },
    {
      "cell_type": "code",
      "source": [],
      "metadata": {
        "id": "p0Po9EIDdbw7"
      },
      "execution_count": null,
      "outputs": []
    },
    {
      "cell_type": "code",
      "source": [],
      "metadata": {
        "id": "NWW4sFVAdbuL"
      },
      "execution_count": null,
      "outputs": []
    },
    {
      "cell_type": "code",
      "source": [],
      "metadata": {
        "id": "ZS_da1-TgXyz"
      },
      "execution_count": null,
      "outputs": []
    },
    {
      "cell_type": "markdown",
      "metadata": {
        "id": "FAtDjGGCgY2W"
      },
      "source": [
        "# 2) 데이터 정제하기\n",
        "\n",
        "train_data의 데이터 중복 유무를 확인합니다."
      ]
    },
    {
      "cell_type": "code",
      "execution_count": null,
      "metadata": {
        "colab": {
          "base_uri": "https://localhost:8080/"
        },
        "outputId": "e8538afa-5dd1-4203-b6e6-33864083359a",
        "id": "pxawBD6agY2X"
      },
      "outputs": [
        {
          "output_type": "execute_result",
          "data": {
            "text/plain": [
              "(106500, 3)"
            ]
          },
          "metadata": {},
          "execution_count": 78
        }
      ],
      "source": [
        "# document 열과 label 열의 중복을 제외한 값의 개수\n",
        "train_data['document'].nunique(), train_data['label'].nunique()"
      ]
    },
    {
      "cell_type": "code",
      "execution_count": null,
      "metadata": {
        "id": "djGS_D1JgY2X"
      },
      "outputs": [],
      "source": [
        "# document 열의 중복 제거\n",
        "train_data.drop_duplicates(subset=['document'], inplace=True)"
      ]
    },
    {
      "cell_type": "code",
      "execution_count": null,
      "metadata": {
        "colab": {
          "base_uri": "https://localhost:8080/"
        },
        "outputId": "e1ffa800-6ae5-4f12-a09e-504a8605e7d0",
        "id": "XcatHrxpgY2X"
      },
      "outputs": [
        {
          "output_type": "stream",
          "name": "stdout",
          "text": [
            "총 샘플의 수 : 106501\n"
          ]
        }
      ],
      "source": [
        "print('총 샘플의 수 :',len(train_data))"
      ]
    },
    {
      "cell_type": "code",
      "execution_count": null,
      "metadata": {
        "colab": {
          "base_uri": "https://localhost:8080/",
          "height": 324
        },
        "outputId": "f72e3fae-9ddb-4fcd-cdfd-61c82277ec6c",
        "id": "BW3DVCMwgY2X"
      },
      "outputs": [
        {
          "output_type": "execute_result",
          "data": {
            "text/plain": [
              "<matplotlib.axes._subplots.AxesSubplot at 0x7fa5f6ec9d50>"
            ]
          },
          "metadata": {},
          "execution_count": 81
        },
        {
          "output_type": "display_data",
          "data": {
            "text/plain": [
              "<Figure size 432x288 with 1 Axes>"
            ],
            "image/png": "[encoded data removed]"
          },
          "metadata": {
            "needs_background": "light"
          }
        }
      ],
      "source": [
        "train_data['label'].value_counts().plot(kind = 'bar')"
      ]
    },
    {
      "cell_type": "code",
      "execution_count": null,
      "metadata": {
        "colab": {
          "base_uri": "https://localhost:8080/"
        },
        "outputId": "3395770f-4dfb-4d2d-e4f6-b0905a804f46",
        "id": "7QHftNXzgY2X"
      },
      "outputs": [
        {
          "output_type": "stream",
          "name": "stdout",
          "text": [
            "       label  count\n",
            "0  dysphoria  77878\n",
            "1   euphoria  17386\n",
            "2    neutral  11237\n"
          ]
        }
      ],
      "source": [
        "print(train_data.groupby('label').size().reset_index(name = 'count'))"
      ]
    },
    {
      "cell_type": "code",
      "execution_count": null,
      "metadata": {
        "colab": {
          "base_uri": "https://localhost:8080/"
        },
        "outputId": "5e427161-1bdf-4ae7-bace-f636109664ed",
        "id": "tj6CtoSXgY2X"
      },
      "outputs": [
        {
          "output_type": "stream",
          "name": "stdout",
          "text": [
            "True\n"
          ]
        }
      ],
      "source": [
        "print(train_data.isnull().values.any())"
      ]
    },
    {
      "cell_type": "code",
      "execution_count": null,
      "metadata": {
        "colab": {
          "base_uri": "https://localhost:8080/"
        },
        "outputId": "e733a032-13b1-46b2-c6dd-6e97dcdad50f",
        "id": "j0QncR4sgY2Y"
      },
      "outputs": [
        {
          "output_type": "stream",
          "name": "stdout",
          "text": [
            "document    1\n",
            "label       0\n",
            "dtype: int64\n"
          ]
        }
      ],
      "source": [
        "print(train_data.isnull().sum())"
      ]
    },
    {
      "cell_type": "code",
      "execution_count": null,
      "metadata": {
        "colab": {
          "base_uri": "https://localhost:8080/",
          "height": 81
        },
        "outputId": "064f2ba0-7bfa-46b1-f3a6-ad822b0b99d4",
        "id": "Zkk8artsgY2Y"
      },
      "outputs": [
        {
          "output_type": "execute_result",
          "data": {
            "text/plain": [
              "       document     label\n",
              "102831      NaN  euphoria"
            ],
            "text/html": [
              "\n",
              "  <div id=\"df-4eb92a54-7570-41d8-874e-e2cf37385949\">\n",
              "    <div class=\"colab-df-container\">\n",
              "      <div>\n",
              "<style scoped>\n",
              "    .dataframe tbody tr th:only-of-type {\n",
              "        vertical-align: middle;\n",
              "    }\n",
              "\n",
              "    .dataframe tbody tr th {\n",
              "        vertical-align: top;\n",
              "    }\n",
              "\n",
              "    .dataframe thead th {\n",
              "        text-align: right;\n",
              "    }\n",
              "</style>\n",
              "<table border=\"1\" class=\"dataframe\">\n",
              "  <thead>\n",
              "    <tr style=\"text-align: right;\">\n",
              "      <th></th>\n",
              "      <th>document</th>\n",
              "      <th>label</th>\n",
              "    </tr>\n",
              "  </thead>\n",
              "  <tbody>\n",
              "    <tr>\n",
              "      <th>102831</th>\n",
              "      <td>NaN</td>\n",
              "      <td>euphoria</td>\n",
              "    </tr>\n",
              "  </tbody>\n",
              "</table>\n",
              "</div>\n",
              "      <button class=\"colab-df-convert\" onclick=\"convertToInteractive('df-4eb92a54-7570-41d8-874e-e2cf37385949')\"\n",
              "              title=\"Convert this dataframe to an interactive table.\"\n",
              "              style=\"display:none;\">\n",
              "        \n",
              "  <svg xmlns=\"http://www.w3.org/2000/svg\" height=\"24px\"viewBox=\"0 0 24 24\"\n",
              "       width=\"24px\">\n",
              "    <path d=\"M0 0h24v24H0V0z\" fill=\"none\"/>\n",
              "    <path d=\"M18.56 5.44l.94 2.06.94-2.06 2.06-.94-2.06-.94-.94-2.06-.94 2.06-2.06.94zm-11 1L8.5 8.5l.94-2.06 2.06-.94-2.06-.94L8.5 2.5l-.94 2.06-2.06.94zm10 10l.94 2.06.94-2.06 2.06-.94-2.06-.94-.94-2.06-.94 2.06-2.06.94z\"/><path d=\"M17.41 7.96l-1.37-1.37c-.4-.4-.92-.59-1.43-.59-.52 0-1.04.2-1.43.59L10.3 9.45l-7.72 7.72c-.78.78-.78 2.05 0 2.83L4 21.41c.39.39.9.59 1.41.59.51 0 1.02-.2 1.41-.59l7.78-7.78 2.81-2.81c.8-.78.8-2.07 0-2.86zM5.41 20L4 18.59l7.72-7.72 1.47 1.35L5.41 20z\"/>\n",
              "  </svg>\n",
              "      </button>\n",
              "      \n",
              "  <style>\n",
              "    .colab-df-container {\n",
              "      display:flex;\n",
              "      flex-wrap:wrap;\n",
              "      gap: 12px;\n",
              "    }\n",
              "\n",
              "    .colab-df-convert {\n",
              "      background-color: #E8F0FE;\n",
              "      border: none;\n",
              "      border-radius: 50%;\n",
              "      cursor: pointer;\n",
              "      display: none;\n",
              "      fill: #1967D2;\n",
              "      height: 32px;\n",
              "      padding: 0 0 0 0;\n",
              "      width: 32px;\n",
              "    }\n",
              "\n",
              "    .colab-df-convert:hover {\n",
              "      background-color: #E2EBFA;\n",
              "      box-shadow: 0px 1px 2px rgba(60, 64, 67, 0.3), 0px 1px 3px 1px rgba(60, 64, 67, 0.15);\n",
              "      fill: #174EA6;\n",
              "    }\n",
              "\n",
              "    [theme=dark] .colab-df-convert {\n",
              "      background-color: #3B4455;\n",
              "      fill: #D2E3FC;\n",
              "    }\n",
              "\n",
              "    [theme=dark] .colab-df-convert:hover {\n",
              "      background-color: #434B5C;\n",
              "      box-shadow: 0px 1px 3px 1px rgba(0, 0, 0, 0.15);\n",
              "      filter: drop-shadow(0px 1px 2px rgba(0, 0, 0, 0.3));\n",
              "      fill: #FFFFFF;\n",
              "    }\n",
              "  </style>\n",
              "\n",
              "      <script>\n",
              "        const buttonEl =\n",
              "          document.querySelector('#df-4eb92a54-7570-41d8-874e-e2cf37385949 button.colab-df-convert');\n",
              "        buttonEl.style.display =\n",
              "          google.colab.kernel.accessAllowed ? 'block' : 'none';\n",
              "\n",
              "        async function convertToInteractive(key) {\n",
              "          const element = document.querySelector('#df-4eb92a54-7570-41d8-874e-e2cf37385949');\n",
              "          const dataTable =\n",
              "            await google.colab.kernel.invokeFunction('convertToInteractive',\n",
              "                                                     [key], {});\n",
              "          if (!dataTable) return;\n",
              "\n",
              "          const docLinkHtml = 'Like what you see? Visit the ' +\n",
              "            '<a target=\"_blank\" href=https://colab.research.google.com/notebooks/data_table.ipynb>data table notebook</a>'\n",
              "            + ' to learn more about interactive tables.';\n",
              "          element.innerHTML = '';\n",
              "          dataTable['output_type'] = 'display_data';\n",
              "          await google.colab.output.renderOutput(dataTable, element);\n",
              "          const docLink = document.createElement('div');\n",
              "          docLink.innerHTML = docLinkHtml;\n",
              "          element.appendChild(docLink);\n",
              "        }\n",
              "      </script>\n",
              "    </div>\n",
              "  </div>\n",
              "  "
            ]
          },
          "metadata": {},
          "execution_count": 85
        }
      ],
      "source": [
        "train_data.loc[train_data.document.isnull()]"
      ]
    },
    {
      "cell_type": "code",
      "execution_count": null,
      "metadata": {
        "colab": {
          "base_uri": "https://localhost:8080/"
        },
        "outputId": "7b2e638a-5bc1-49a0-a379-f945989807a3",
        "id": "53frWLITgY2Y"
      },
      "outputs": [
        {
          "output_type": "stream",
          "name": "stdout",
          "text": [
            "False\n"
          ]
        }
      ],
      "source": [
        "train_data = train_data.dropna(how = 'any') # Null 값이 존재하는 행 제거\n",
        "print(train_data.isnull().values.any()) # Null 값이 존재하는지 확인"
      ]
    },
    {
      "cell_type": "code",
      "execution_count": null,
      "metadata": {
        "colab": {
          "base_uri": "https://localhost:8080/"
        },
        "outputId": "ba77ac66-a2af-4492-cd4a-cf061934df93",
        "id": "V5yvcnCqgY2Y"
      },
      "outputs": [
        {
          "output_type": "stream",
          "name": "stdout",
          "text": [
            "106500\n"
          ]
        }
      ],
      "source": [
        "print(len(train_data))"
      ]
    },
    {
      "cell_type": "code",
      "execution_count": null,
      "metadata": {
        "colab": {
          "base_uri": "https://localhost:8080/",
          "height": 355
        },
        "outputId": "438c206d-f948-43ce-af33-a9ca4d9a8fc7",
        "id": "Hd8oGVC0gY2Y"
      },
      "outputs": [
        {
          "output_type": "stream",
          "name": "stderr",
          "text": [
            "/usr/local/lib/python3.7/dist-packages/ipykernel_launcher.py:2: FutureWarning: The default value of regex will change from True to False in a future version.\n",
            "  \n",
            "/usr/local/lib/python3.7/dist-packages/ipykernel_launcher.py:2: SettingWithCopyWarning: \n",
            "A value is trying to be set on a copy of a slice from a DataFrame.\n",
            "Try using .loc[row_indexer,col_indexer] = value instead\n",
            "\n",
            "See the caveats in the documentation: https://pandas.pydata.org/pandas-docs/stable/user_guide/indexing.html#returning-a-view-versus-a-copy\n",
            "  \n"
          ]
        },
        {
          "output_type": "execute_result",
          "data": {
            "text/plain": [
              "                                            document      label\n",
              "0  야 전화 받아 아무리 바빠도 내전화는 받아야 되는거 아냐 약속 하나도 못지키는 주제...  dysphoria\n",
              "1         우리 아무래도 안되겠다 이게 최선인거 같애 평생 잊지 않을게 행복하길 바란다  dysphoria\n",
              "2                             김경사님 아직 안가셨어요 시간 다됐을텐데    neutral\n",
              "3                                          근무중인데 어딜가  dysphoria\n",
              "4       다녀오세요 이런날은 무조건 가서 축하해주셔야죠 이순경이 대신 근무선다고 나온대요   euphoria"
            ],
            "text/html": [
              "\n",
              "  <div id=\"df-009df4a8-31a8-4bc3-b684-eab84031aa89\">\n",
              "    <div class=\"colab-df-container\">\n",
              "      <div>\n",
              "<style scoped>\n",
              "    .dataframe tbody tr th:only-of-type {\n",
              "        vertical-align: middle;\n",
              "    }\n",
              "\n",
              "    .dataframe tbody tr th {\n",
              "        vertical-align: top;\n",
              "    }\n",
              "\n",
              "    .dataframe thead th {\n",
              "        text-align: right;\n",
              "    }\n",
              "</style>\n",
              "<table border=\"1\" class=\"dataframe\">\n",
              "  <thead>\n",
              "    <tr style=\"text-align: right;\">\n",
              "      <th></th>\n",
              "      <th>document</th>\n",
              "      <th>label</th>\n",
              "    </tr>\n",
              "  </thead>\n",
              "  <tbody>\n",
              "    <tr>\n",
              "      <th>0</th>\n",
              "      <td>야 전화 받아 아무리 바빠도 내전화는 받아야 되는거 아냐 약속 하나도 못지키는 주제...</td>\n",
              "      <td>dysphoria</td>\n",
              "    </tr>\n",
              "    <tr>\n",
              "      <th>1</th>\n",
              "      <td>우리 아무래도 안되겠다 이게 최선인거 같애 평생 잊지 않을게 행복하길 바란다</td>\n",
              "      <td>dysphoria</td>\n",
              "    </tr>\n",
              "    <tr>\n",
              "      <th>2</th>\n",
              "      <td>김경사님 아직 안가셨어요 시간 다됐을텐데</td>\n",
              "      <td>neutral</td>\n",
              "    </tr>\n",
              "    <tr>\n",
              "      <th>3</th>\n",
              "      <td>근무중인데 어딜가</td>\n",
              "      <td>dysphoria</td>\n",
              "    </tr>\n",
              "    <tr>\n",
              "      <th>4</th>\n",
              "      <td>다녀오세요 이런날은 무조건 가서 축하해주셔야죠 이순경이 대신 근무선다고 나온대요</td>\n",
              "      <td>euphoria</td>\n",
              "    </tr>\n",
              "  </tbody>\n",
              "</table>\n",
              "</div>\n",
              "      <button class=\"colab-df-convert\" onclick=\"convertToInteractive('df-009df4a8-31a8-4bc3-b684-eab84031aa89')\"\n",
              "              title=\"Convert this dataframe to an interactive table.\"\n",
              "              style=\"display:none;\">\n",
              "        \n",
              "  <svg xmlns=\"http://www.w3.org/2000/svg\" height=\"24px\"viewBox=\"0 0 24 24\"\n",
              "       width=\"24px\">\n",
              "    <path d=\"M0 0h24v24H0V0z\" fill=\"none\"/>\n",
              "    <path d=\"M18.56 5.44l.94 2.06.94-2.06 2.06-.94-2.06-.94-.94-2.06-.94 2.06-2.06.94zm-11 1L8.5 8.5l.94-2.06 2.06-.94-2.06-.94L8.5 2.5l-.94 2.06-2.06.94zm10 10l.94 2.06.94-2.06 2.06-.94-2.06-.94-.94-2.06-.94 2.06-2.06.94z\"/><path d=\"M17.41 7.96l-1.37-1.37c-.4-.4-.92-.59-1.43-.59-.52 0-1.04.2-1.43.59L10.3 9.45l-7.72 7.72c-.78.78-.78 2.05 0 2.83L4 21.41c.39.39.9.59 1.41.59.51 0 1.02-.2 1.41-.59l7.78-7.78 2.81-2.81c.8-.78.8-2.07 0-2.86zM5.41 20L4 18.59l7.72-7.72 1.47 1.35L5.41 20z\"/>\n",
              "  </svg>\n",
              "      </button>\n",
              "      \n",
              "  <style>\n",
              "    .colab-df-container {\n",
              "      display:flex;\n",
              "      flex-wrap:wrap;\n",
              "      gap: 12px;\n",
              "    }\n",
              "\n",
              "    .colab-df-convert {\n",
              "      background-color: #E8F0FE;\n",
              "      border: none;\n",
              "      border-radius: 50%;\n",
              "      cursor: pointer;\n",
              "      display: none;\n",
              "      fill: #1967D2;\n",
              "      height: 32px;\n",
              "      padding: 0 0 0 0;\n",
              "      width: 32px;\n",
              "    }\n",
              "\n",
              "    .colab-df-convert:hover {\n",
              "      background-color: #E2EBFA;\n",
              "      box-shadow: 0px 1px 2px rgba(60, 64, 67, 0.3), 0px 1px 3px 1px rgba(60, 64, 67, 0.15);\n",
              "      fill: #174EA6;\n",
              "    }\n",
              "\n",
              "    [theme=dark] .colab-df-convert {\n",
              "      background-color: #3B4455;\n",
              "      fill: #D2E3FC;\n",
              "    }\n",
              "\n",
              "    [theme=dark] .colab-df-convert:hover {\n",
              "      background-color: #434B5C;\n",
              "      box-shadow: 0px 1px 3px 1px rgba(0, 0, 0, 0.15);\n",
              "      filter: drop-shadow(0px 1px 2px rgba(0, 0, 0, 0.3));\n",
              "      fill: #FFFFFF;\n",
              "    }\n",
              "  </style>\n",
              "\n",
              "      <script>\n",
              "        const buttonEl =\n",
              "          document.querySelector('#df-009df4a8-31a8-4bc3-b684-eab84031aa89 button.colab-df-convert');\n",
              "        buttonEl.style.display =\n",
              "          google.colab.kernel.accessAllowed ? 'block' : 'none';\n",
              "\n",
              "        async function convertToInteractive(key) {\n",
              "          const element = document.querySelector('#df-009df4a8-31a8-4bc3-b684-eab84031aa89');\n",
              "          const dataTable =\n",
              "            await google.colab.kernel.invokeFunction('convertToInteractive',\n",
              "                                                     [key], {});\n",
              "          if (!dataTable) return;\n",
              "\n",
              "          const docLinkHtml = 'Like what you see? Visit the ' +\n",
              "            '<a target=\"_blank\" href=https://colab.research.google.com/notebooks/data_table.ipynb>data table notebook</a>'\n",
              "            + ' to learn more about interactive tables.';\n",
              "          element.innerHTML = '';\n",
              "          dataTable['output_type'] = 'display_data';\n",
              "          await google.colab.output.renderOutput(dataTable, element);\n",
              "          const docLink = document.createElement('div');\n",
              "          docLink.innerHTML = docLinkHtml;\n",
              "          element.appendChild(docLink);\n",
              "        }\n",
              "      </script>\n",
              "    </div>\n",
              "  </div>\n",
              "  "
            ]
          },
          "metadata": {},
          "execution_count": 88
        }
      ],
      "source": [
        "# 한글과 공백을 제외하고 모두 제거\n",
        "train_data['document'] = train_data['document'].str.replace(\"[^ㄱ-ㅎㅏ-ㅣ가-힣 ]\",\"\")\n",
        "train_data[:5]"
      ]
    },
    {
      "cell_type": "code",
      "execution_count": null,
      "metadata": {
        "colab": {
          "base_uri": "https://localhost:8080/"
        },
        "outputId": "dbf3c10b-f5b0-46ef-ab24-b4b0e25e4e32",
        "id": "ufqG3kosgY2Y"
      },
      "outputs": [
        {
          "output_type": "stream",
          "name": "stderr",
          "text": [
            "/usr/local/lib/python3.7/dist-packages/ipykernel_launcher.py:1: FutureWarning: The default value of regex will change from True to False in a future version.\n",
            "  \"\"\"Entry point for launching an IPython kernel.\n"
          ]
        },
        {
          "output_type": "stream",
          "name": "stdout",
          "text": [
            "document    2\n",
            "label       0\n",
            "dtype: int64\n"
          ]
        },
        {
          "output_type": "stream",
          "name": "stderr",
          "text": [
            "/usr/local/lib/python3.7/dist-packages/ipykernel_launcher.py:1: SettingWithCopyWarning: \n",
            "A value is trying to be set on a copy of a slice from a DataFrame.\n",
            "Try using .loc[row_indexer,col_indexer] = value instead\n",
            "\n",
            "See the caveats in the documentation: https://pandas.pydata.org/pandas-docs/stable/user_guide/indexing.html#returning-a-view-versus-a-copy\n",
            "  \"\"\"Entry point for launching an IPython kernel.\n",
            "/usr/local/lib/python3.7/dist-packages/pandas/core/generic.py:6619: SettingWithCopyWarning: \n",
            "A value is trying to be set on a copy of a slice from a DataFrame\n",
            "\n",
            "See the caveats in the documentation: https://pandas.pydata.org/pandas-docs/stable/user_guide/indexing.html#returning-a-view-versus-a-copy\n",
            "  return self._update_inplace(result)\n"
          ]
        }
      ],
      "source": [
        "train_data['document'] = train_data['document'].str.replace('^ +', \"\") # white space 데이터를 empty value로 변경\n",
        "train_data['document'].replace('', np.nan, inplace=True)\n",
        "print(train_data.isnull().sum())"
      ]
    },
    {
      "cell_type": "code",
      "execution_count": null,
      "metadata": {
        "colab": {
          "base_uri": "https://localhost:8080/",
          "height": 112
        },
        "outputId": "ae8fda35-b9b4-4025-e8ec-fe122692ab1b",
        "id": "s-nYtOqhgY2Y"
      },
      "outputs": [
        {
          "output_type": "execute_result",
          "data": {
            "text/plain": [
              "     document      label\n",
              "4267      NaN  dysphoria\n",
              "4623      NaN  dysphoria"
            ],
            "text/html": [
              "\n",
              "  <div id=\"df-f29b7e14-fedb-4147-9331-e777845c4d8a\">\n",
              "    <div class=\"colab-df-container\">\n",
              "      <div>\n",
              "<style scoped>\n",
              "    .dataframe tbody tr th:only-of-type {\n",
              "        vertical-align: middle;\n",
              "    }\n",
              "\n",
              "    .dataframe tbody tr th {\n",
              "        vertical-align: top;\n",
              "    }\n",
              "\n",
              "    .dataframe thead th {\n",
              "        text-align: right;\n",
              "    }\n",
              "</style>\n",
              "<table border=\"1\" class=\"dataframe\">\n",
              "  <thead>\n",
              "    <tr style=\"text-align: right;\">\n",
              "      <th></th>\n",
              "      <th>document</th>\n",
              "      <th>label</th>\n",
              "    </tr>\n",
              "  </thead>\n",
              "  <tbody>\n",
              "    <tr>\n",
              "      <th>4267</th>\n",
              "      <td>NaN</td>\n",
              "      <td>dysphoria</td>\n",
              "    </tr>\n",
              "    <tr>\n",
              "      <th>4623</th>\n",
              "      <td>NaN</td>\n",
              "      <td>dysphoria</td>\n",
              "    </tr>\n",
              "  </tbody>\n",
              "</table>\n",
              "</div>\n",
              "      <button class=\"colab-df-convert\" onclick=\"convertToInteractive('df-f29b7e14-fedb-4147-9331-e777845c4d8a')\"\n",
              "              title=\"Convert this dataframe to an interactive table.\"\n",
              "              style=\"display:none;\">\n",
              "        \n",
              "  <svg xmlns=\"http://www.w3.org/2000/svg\" height=\"24px\"viewBox=\"0 0 24 24\"\n",
              "       width=\"24px\">\n",
              "    <path d=\"M0 0h24v24H0V0z\" fill=\"none\"/>\n",
              "    <path d=\"M18.56 5.44l.94 2.06.94-2.06 2.06-.94-2.06-.94-.94-2.06-.94 2.06-2.06.94zm-11 1L8.5 8.5l.94-2.06 2.06-.94-2.06-.94L8.5 2.5l-.94 2.06-2.06.94zm10 10l.94 2.06.94-2.06 2.06-.94-2.06-.94-.94-2.06-.94 2.06-2.06.94z\"/><path d=\"M17.41 7.96l-1.37-1.37c-.4-.4-.92-.59-1.43-.59-.52 0-1.04.2-1.43.59L10.3 9.45l-7.72 7.72c-.78.78-.78 2.05 0 2.83L4 21.41c.39.39.9.59 1.41.59.51 0 1.02-.2 1.41-.59l7.78-7.78 2.81-2.81c.8-.78.8-2.07 0-2.86zM5.41 20L4 18.59l7.72-7.72 1.47 1.35L5.41 20z\"/>\n",
              "  </svg>\n",
              "      </button>\n",
              "      \n",
              "  <style>\n",
              "    .colab-df-container {\n",
              "      display:flex;\n",
              "      flex-wrap:wrap;\n",
              "      gap: 12px;\n",
              "    }\n",
              "\n",
              "    .colab-df-convert {\n",
              "      background-color: #E8F0FE;\n",
              "      border: none;\n",
              "      border-radius: 50%;\n",
              "      cursor: pointer;\n",
              "      display: none;\n",
              "      fill: #1967D2;\n",
              "      height: 32px;\n",
              "      padding: 0 0 0 0;\n",
              "      width: 32px;\n",
              "    }\n",
              "\n",
              "    .colab-df-convert:hover {\n",
              "      background-color: #E2EBFA;\n",
              "      box-shadow: 0px 1px 2px rgba(60, 64, 67, 0.3), 0px 1px 3px 1px rgba(60, 64, 67, 0.15);\n",
              "      fill: #174EA6;\n",
              "    }\n",
              "\n",
              "    [theme=dark] .colab-df-convert {\n",
              "      background-color: #3B4455;\n",
              "      fill: #D2E3FC;\n",
              "    }\n",
              "\n",
              "    [theme=dark] .colab-df-convert:hover {\n",
              "      background-color: #434B5C;\n",
              "      box-shadow: 0px 1px 3px 1px rgba(0, 0, 0, 0.15);\n",
              "      filter: drop-shadow(0px 1px 2px rgba(0, 0, 0, 0.3));\n",
              "      fill: #FFFFFF;\n",
              "    }\n",
              "  </style>\n",
              "\n",
              "      <script>\n",
              "        const buttonEl =\n",
              "          document.querySelector('#df-f29b7e14-fedb-4147-9331-e777845c4d8a button.colab-df-convert');\n",
              "        buttonEl.style.display =\n",
              "          google.colab.kernel.accessAllowed ? 'block' : 'none';\n",
              "\n",
              "        async function convertToInteractive(key) {\n",
              "          const element = document.querySelector('#df-f29b7e14-fedb-4147-9331-e777845c4d8a');\n",
              "          const dataTable =\n",
              "            await google.colab.kernel.invokeFunction('convertToInteractive',\n",
              "                                                     [key], {});\n",
              "          if (!dataTable) return;\n",
              "\n",
              "          const docLinkHtml = 'Like what you see? Visit the ' +\n",
              "            '<a target=\"_blank\" href=https://colab.research.google.com/notebooks/data_table.ipynb>data table notebook</a>'\n",
              "            + ' to learn more about interactive tables.';\n",
              "          element.innerHTML = '';\n",
              "          dataTable['output_type'] = 'display_data';\n",
              "          await google.colab.output.renderOutput(dataTable, element);\n",
              "          const docLink = document.createElement('div');\n",
              "          docLink.innerHTML = docLinkHtml;\n",
              "          element.appendChild(docLink);\n",
              "        }\n",
              "      </script>\n",
              "    </div>\n",
              "  </div>\n",
              "  "
            ]
          },
          "metadata": {},
          "execution_count": 90
        }
      ],
      "source": [
        "train_data.loc[train_data.document.isnull()][:5]"
      ]
    },
    {
      "cell_type": "code",
      "execution_count": null,
      "metadata": {
        "colab": {
          "base_uri": "https://localhost:8080/"
        },
        "outputId": "8e01eb69-05d6-4e3b-a5ff-b0dbfbf638a8",
        "id": "-i9Rr3H6gY2Y"
      },
      "outputs": [
        {
          "output_type": "stream",
          "name": "stdout",
          "text": [
            "106498\n"
          ]
        }
      ],
      "source": [
        "train_data = train_data.dropna(how = 'any')\n",
        "print(len(train_data))"
      ]
    },
    {
      "cell_type": "code",
      "execution_count": null,
      "metadata": {
        "id": "XpgWmE9EgY2Y"
      },
      "outputs": [],
      "source": [
        "# test_data.drop_duplicates(subset = ['document'], inplace=True) # document 열에서 중복인 내용이 있다면 중복 제거\n",
        "# test_data['document'] = test_data['document'].str.replace(\"[^ㄱ-ㅎㅏ-ㅣ가-힣 ]\",\"\") # 정규 표현식 수행\n",
        "# test_data['document'] = test_data['document'].str.replace('^ +', \"\") # 공백은 empty 값으로 변경\n",
        "# test_data['document'].replace('', np.nan, inplace=True) # 공백은 Null 값으로 변경\n",
        "# test_data = test_data.dropna(how='any') # Null 값 제거\n",
        "# print('전처리 후 테스트용 샘플의 개수 :',len(test_data))\n"
      ]
    },
    {
      "cell_type": "markdown",
      "metadata": {
        "id": "GwuxlzosgY2Z"
      },
      "source": [
        "# 3) 토큰화\n",
        "\n",
        "토큰화를 진행해봅시다. 토큰화 과정에서 불용어를 제거하겠습니다. 불용어는 정의하기 나름인데, 한국어의 조사, 접속사 등의 보편적인 불용어를 사용할 수도 있겠지만 결국 풀고자 하는 문제의 데이터를 지속 검토하면서 계속해서 추가하는 경우 또한 많습니다. 실제 현업인 상황이라면 일반적으로 아래의 불용어보다 더 많은 불용어를 사용할 수 있습니다."
      ]
    },
    {
      "cell_type": "code",
      "execution_count": null,
      "metadata": {
        "id": "DQoLHaPXgY2Z"
      },
      "outputs": [],
      "source": [
        "stopwords = ['의','가','이','은','들','는','좀','잘','걍','과','도','를','으로','자','에','와','한','하다']"
      ]
    },
    {
      "cell_type": "code",
      "execution_count": null,
      "metadata": {
        "colab": {
          "base_uri": "https://localhost:8080/"
        },
        "outputId": "1a9ffd61-a0dd-4a8d-8182-231c549508ac",
        "id": "Vs5uu41UgY2Z"
      },
      "outputs": [
        {
          "output_type": "execute_result",
          "data": {
            "text/plain": [
              "['오다', '이렇다', '것', '도', '영화', '라고', '차라리', '뮤직비디오', '를', '만들다', '게', '나다', '뻔']"
            ]
          },
          "metadata": {},
          "execution_count": 94
        }
      ],
      "source": [
        "okt = Okt()\n",
        "okt.morphs('와 이런 것도 영화라고 차라리 뮤직비디오를 만드는 게 나을 뻔', stem = True)"
      ]
    },
    {
      "cell_type": "code",
      "execution_count": null,
      "metadata": {
        "colab": {
          "base_uri": "https://localhost:8080/"
        },
        "outputId": "00a769c3-cbbd-4902-f792-7d87625fb0a8",
        "id": "cEsdPQrhgY2Z"
      },
      "outputs": [
        {
          "output_type": "stream",
          "name": "stderr",
          "text": [
            "100%|██████████| 106498/106498 [04:58<00:00, 356.87it/s]\n"
          ]
        }
      ],
      "source": [
        "X_train = []\n",
        "for sentence in tqdm(train_data['document']):\n",
        "    tokenized_sentence = okt.morphs(sentence, stem=True) # 토큰화\n",
        "    stopwords_removed_sentence = [word for word in tokenized_sentence if not word in stopwords] # 불용어 제거\n",
        "    X_train.append(stopwords_removed_sentence)"
      ]
    },
    {
      "cell_type": "code",
      "execution_count": null,
      "metadata": {
        "colab": {
          "base_uri": "https://localhost:8080/"
        },
        "outputId": "80043219-2586-4ccf-844c-2d0548080e22",
        "id": "xSkB9NHlgY2Z"
      },
      "outputs": [
        {
          "output_type": "stream",
          "name": "stdout",
          "text": [
            "[['야', '전화', '받다', '아무리', '바쁘다', '내', '전화', '받다', '되다', '알다', '약속', '하나', '못', '지키다', '주제', '법', '을', '지키다'], ['우리', '아무래도', '안되다', '게', '최선', '인거', '같다', '애', '평생', '잊다', '않다', '행복하다', '바라다'], ['김', '경사', '님', '아직', '안', '가다', '시간', '다', '돼다']]\n"
          ]
        }
      ],
      "source": [
        "print(X_train[:3])"
      ]
    },
    {
      "cell_type": "code",
      "execution_count": null,
      "metadata": {
        "id": "qkusNX0vgY2Z"
      },
      "outputs": [],
      "source": [
        "# X_test = []\n",
        "# for sentence in tqdm(test_data['document']):\n",
        "#     tokenized_sentence = okt.morphs(sentence, stem=True) # 토큰화\n",
        "#     stopwords_removed_sentence = [word for word in tokenized_sentence if not word in stopwords] # 불용어 제거\n",
        "#     X_test.append(stopwords_removed_sentence)"
      ]
    },
    {
      "cell_type": "markdown",
      "metadata": {
        "id": "Z-ViY_qmgY2Z"
      },
      "source": [
        "# 4) 정수 인코딩\n",
        "\n",
        "기계가 텍스트를 숫자로 처리할 수 있도록 훈련 데이터와 테스트 데이터에 정수 인코딩을 수행해야 합니다. 우선, 훈련 데이터에 대해서 단어 집합(vocaburary)을 만들어봅시다."
      ]
    },
    {
      "cell_type": "code",
      "execution_count": null,
      "metadata": {
        "id": "by6xj5XGgY2Z"
      },
      "outputs": [],
      "source": [
        "tokenizer = Tokenizer()\n",
        "tokenizer.fit_on_texts(X_train)"
      ]
    },
    {
      "cell_type": "code",
      "execution_count": null,
      "metadata": {
        "colab": {
          "base_uri": "https://localhost:8080/"
        },
        "outputId": "4634f2bf-b7b1-4c1b-ef5d-e883681d90df",
        "id": "VCWx9xmhgY2Z"
      },
      "outputs": [
        {
          "output_type": "stream",
          "name": "stdout",
          "text": [
            "{'을': 1, '나': 2, '내': 3, '있다': 4, '너무': 5, '것': 6, '같다': 7, '친구': 8, '보다': 9, '없다': 10, '안': 11, '않다': 12, '되다': 13, '그렇다': 14, '좋다': 15, '못': 16, '에서': 17, '말': 18, '사람': 19, '이야': 20, '만': 21, '거': 22, '생각': 23, '그': 24, '들다': 25, '싶다': 26, '게': 27, '받다': 28, '모르다': 29, '돼다': 30, '더': 31, '다': 32, '자다': 33, '나다': 34, '때': 35, '에게': 36, '가다': 37, '아니다': 38, '돈': 39, '하고': 40, '일': 41, '한테': 42, '수': 43, '고': 44, '많이': 45, '정말': 46, '이제': 47, '로': 48, '어떻다': 49, '걱정': 50, '회사': 51, '힘들다': 52, '우리': 53, '뭐': 54, '응': 55, '나르다': 56, '해': 57, '먹다': 58, '오다': 59, '요즘': 60, '야': 61, '마음': 62, '때문': 63, '많다': 64, '오늘': 65, '적': 66, '엄마': 67, '집': 68, '아내': 69, '결혼': 70, '스럽다': 71, '남편': 72, '나오다': 73, '기분': 74, '왜': 75, '아프다': 76, '맞다': 77, '지금': 78, '이번': 79, '랑': 80, '난': 81, '화가': 82, '애': 83, '인데': 84, '라고': 85, '슬프다': 86, '나이': 87, '알다': 88, '주다': 89, '거야': 90, '어': 91, '준비': 92, '근데': 93, '이렇게': 94, '까지': 95, '다른': 96, '일이': 97, '아': 98, '해주다': 99, '걸': 100, '이다': 101, '그냥': 102, '막': 103, '아들': 104, '직장': 105, '가족': 106, '건강': 107, '혼자': 108, '자식': 109, '날': 110, '불안하다': 111, '부모님': 112, '그래서': 113, '되어다': 114, '이렇다': 115, '인': 116, '병원': 117, '같이': 118, '아이': 119, '자꾸': 120, '다니다': 121, '전': 122, '서': 123, '계속': 124, '공부': 125, '고민': 126, '당황': 127, '살다': 128, '진짜': 129, '만나다': 130, '속상하다': 131, '시간': 132, '얘기': 133, '취업': 134, '열심히': 135, '아빠': 136, '당하다': 137, '크다': 138, '아무': 139, '학교': 140, '내다': 141, '앞': 142, '싫다': 143, '몸': 144, '보고': 145, '줄': 146, '기쁘다': 147, '하나': 148, '알': 149, '노후': 150, '갑자기': 151, '그렇게': 152, '딸': 153, '연락': 154, '생기다': 155, '지': 156, '자기': 157, '부터': 158, '버리다': 159, '에는': 160, '살': 161, '스트레스': 162, '짜증': 163, '아직': 164, '또': 165, '건': 166, '나가다': 167, '은퇴': 168, '업무': 169, '좋아하다': 170, '죽다': 171, '님': 172, '번': 173, '이랑': 174, '믿다': 175, '떨어지다': 176, '항상': 177, '성적': 178, '친하다': 179, '니까': 180, '선생님': 181, '해보다': 182, '우울하다': 183, '문제': 184, '여자': 185, '이야기': 186, '남자친구': 187, '없이': 188, '상사': 189, '년': 190, '어제': 191, '싸우다': 192, '마다': 193, '하': 194, '차다': 195, '비': 196, '시험': 197, '어렵다': 198, '운동': 199, '남자': 200, '걸다': 201, '술': 202, '면': 203, '네': 204, '건강하다': 205, '저': 206, '걸리다': 207, '에도': 208, '어리다': 209, '사실': 210, '대해': 211, '지내다': 212, '무슨': 213, '그래도': 214, '상처': 215, '너': 216, '조금': 217, '시키다': 218, '그거': 219, '라': 220, '생활': 221, '얼마': 222, '직원': 223, '모으다': 224, '위해': 225, '두다': 226, '밥': 227, '자신': 228, '곳': 229, '매일': 230, '동생': 231, '대화': 232, '가지': 233, '이나': 234, '처음': 235, '그게': 236, '미안하다': 237, '이라': 238, '쓰다': 239, '수가': 240, '두렵다': 241, '중': 242, '챙기다': 243, '상황': 244, '신경': 245, '처럼': 246, '후': 247, '무섭다': 248, '동료': 249, '데': 250, '정도': 251, '주변': 252, '느끼다': 253, '보이다': 254, '괴롭히다': 255, '느낌': 256, '언니': 257, '께': 258, '여자친구': 259, '나서다': 260, '몇': 261, '보내다': 262, '감': 263, '쉬다': 264, '대학': 265, '잘못': 266, '남': 267, '약간': 268, '다행': 269, '억울하다': 270, '지다': 271, '해도': 272, '갈다': 273, '팀': 274, '들어가다': 275, '요': 276, '면접': 277, '그때': 278, '다시': 279, '중이': 280, '달라': 281, '말다': 282, '노력': 283, '후회': 284, '괴롭다': 285, '힘드다': 286, '그니까': 287, '연애': 288, '모두': 289, '병': 290, '아주': 291, '혼란': 292, '이르다': 293, '빨리': 294, '새롭다': 295, '눈물': 296, '텐데': 297, '한심하다': 298, '치료': 299, '바쁘다': 300, '수술': 301, '고맙다': 302, '듣다': 303, '그런데': 304, '먼저': 305, '되게': 306, '세상': 307, '편하다': 308, '형': 309, '건지다': 310, '놀다': 311, '부끄럽다': 312, '보': 313, '관리': 314, '예전': 315, '이라고': 316, '젊다': 317, '결과': 318, '반': 319, '모습': 320, '시작': 321, '써다': 322, '꼭': 323, '물어보다': 324, '무시': 325, '화': 326, '느껴지다': 327, '자주': 328, '빌리다': 329, '따돌림': 330, '나쁘다': 331, '도와주다': 332, '여행': 333, '실수': 334, '충격': 335, '심하다': 336, '남다': 337, '원하다': 338, '내일': 339, '언제': 340, '그동안': 341, '밖에': 342, '행복하다': 343, '달': 344, '괜찮다': 345, '이유': 346, '고생': 347, '얼마나': 348, '뭘': 349, '답답하다': 350, '배신': 351, '도움': 352, '소리': 353, '하지만': 354, '어떡하다': 355, '좋아지다': 356, '이해': 357, '별로': 358, '점점': 359, '함께': 360, '늦다': 361, '서로': 362, '이상': 363, '의사': 364, '니': 365, '제일': 366, '약': 367, '놓다': 368, '엔': 369, '사이': 370, '코로나': 371, '뒤': 372, '갖다': 373, '들어서다': 374, '볼': 375, '들어오다': 376, '전화': 377, '엄청': 378, '평소': 379, '벌써': 380, '사다': 381, '암': 382, '감정': 383, '찾다': 384, '오래': 385, '키우다': 386, '하니': 387, '제': 388, '두': 389, '다음': 390, '어디': 391, '제대로': 392, '간': 393, '필요하다': 394, '사랑': 395, '진로': 396, '떠나다': 397, '오랜': 398, '수도': 399, '감사하다': 400, '솔직하다': 401, '동기': 402, '인지': 403, '아직도': 404, '뭔가': 405, '오빠': 406, '만들다': 407, '이라도': 408, '뭐라다': 409, '분': 410, '승진': 411, '라도': 412, '젠': 413, '할머니': 414, '얼굴': 415, '음식': 416, '사귀다': 417, '둘': 418, '합격': 419, '라는': 420, '귀찮다': 421, '외로워': 422, '이지': 423, '사고': 424, '건데': 425, '관심': 426, '선물': 427, '부족하다': 428, '걔': 429, '어머니': 430, '옆': 431, '원': 432, '그리고': 433, '그만두다': 434, '실망': 435, '사': 436, '명': 437, '프로젝트': 438, '투자': 439, '불편하다': 440, '김': 441, '거지': 442, '기도': 443, '맨날': 444, '대다': 445, '질투': 446, '동안': 447, '요새': 448, '이혼': 449, '드디어': 450, '딱': 451, '가기': 452, '약속': 453, '기다리다': 454, '자금': 455, '관계': 456, '모임': 457, '눈치': 458, '벌다': 459, '자리': 460, '상태': 461, '재정': 462, '노인': 463, '중요하다': 464, '하루': 465, '크게': 466, '모든': 467, '헤어지다': 468, '늙다': 469, '이상하다': 470, '사장': 471, '곧': 472, '온': 473, '대한': 474, '혹시': 475, '손': 476, '예': 477, '오르다': 478, '치다': 479, '바람': 480, '꿈': 481, '질환': 482, '선배': 483, '주': 484, '막막하다': 485, '이고': 486, '누구': 487, '편안하다': 488, '일도': 489, '가게': 490, '사업': 491, '행동': 492, '거기': 493, '씨': 494, '힘': 495, '끝나다': 496, '최근': 497, '바로': 498, '머리': 499, '늘': 500, '눈': 501, '매번': 502, '갚다': 503, '아무래도': 504, '가장': 505, '준': 506, '방': 507, '인정': 508, '옷': 509, '대': 510, '아침': 511, '보기': 512, '씩': 513, '대로': 514, '기': 515, '주식': 516, '꼰대': 517, '용돈': 518, '조심스럽다': 519, '초조하다': 520, '입원': 521, '척': 522, '늘다': 523, '에서는': 524, '인생': 525, '생일': 526, '빠지다': 527, '아버지': 528, '아무리': 529, '서다': 530, '구': 531, '성가시다': 532, '지원': 533, '출산': 534, '입다': 535, '재밌다': 536, '따돌리다': 537, '차': 538, '그것': 539, '낳다': 540, '부장': 541, '방법': 542, '평생': 543, '코': 544, '일단': 545, '적다': 546, '넘다': 547, '취직': 548, '잔소리': 549, '그걸': 550, '해결': 551, '드리다': 552, '거들다': 553, '외롭다': 554, '성': 555, '노': 556, '끊다': 557, '퇴근': 558, '출근': 559, '잠': 560, '싫어하다': 561, '나중': 562, '가끔': 563, '거짓말': 564, '따르다': 565, '기억': 566, '뿐': 567, '여서': 568, '위': 569, '괜히': 570, '퇴직': 571, '빼다': 572, '안되다': 573, '속': 574, '애가': 575, '누가': 576, '욕': 577, '인사': 578, '화나다': 579, '며칠': 580, '결국': 581, '께서': 582, '부서': 583, '높다': 584, '무엇': 585, '원래': 586, '맡다': 587, '혼나다': 588, '야근': 589, '건강검진': 590, '아깝다': 591, '회의': 592, '한번': 593, '놀라다': 594, '몰래': 595, '전혀': 596, '당뇨': 597, '때리다': 598, '아부지': 599, '돌아가다': 600, '부부': 601, '거의': 602, '당장': 603, '사과': 604, '짜증나다': 605, '놈': 606, '피우다': 607, '학원': 608, '당연하다': 609, '성격': 610, '입사': 611, '맛있다': 612, '비교': 613, '결혼식': 614, '울다': 615, '주말': 616, '알아보다': 617, '담배': 618, '피곤하다': 619, '구역질': 620, '가면': 621, '식': 622, '당': 623, '부럽다': 624, '만큼': 625, '상담': 626, '경제': 627, '당혹스럽다': 628, '다녀오다': 629, '여기': 630, '없어지다': 631, '실망하다': 632, '말고': 633, '쓸다': 634, '계획': 635, '검사': 636, '다치다': 637, '길': 638, '처리': 639, '보험': 640, '하라': 641, '끼리': 642, '어쩔': 643, '가난하다': 644, '라서': 645, '서운하다': 646, '여유': 647, '잖다': 648, '능력': 649, '누나': 650, '발표': 651, '여러': 652, '임신': 653, '뜨다': 654, '큰일': 655, '이라는': 656, '옆집': 657, '자고': 658, '일찍': 659, '잡다': 660, '가야': 661, '지치다': 662, '미치다': 663, '삶': 664, '집안': 665, '재산': 666, '후배': 667, '에만': 668, '급하다': 669, '끄다': 670, '일어나다': 671, '월급': 672, '경찰': 673, '쪽': 674, '배우다': 675, '학교폭력': 676, '가보다': 677, '세': 678, '열': 679, '찾아오다': 680, '손자': 681, '죄책감': 682, '포기': 683, '쓰이다': 684, '옛날': 685, '으로는': 686, '부분': 687, '인가': 688, '미리': 689, '다르다': 690, '든': 691, '고립': 692, '째': 693, '장님': 694, '스스로': 695, '대학교': 696, '한다는': 697, '오해': 698, '불다': 699, '소식': 700, '의견': 701, '나누다': 702, '잃다': 703, '영': 704, '애인': 705, '오히려': 706, '인제': 707, '거절': 708, '저번': 709, '매우': 710, '비싸다': 711, '주지': 712, '빚': 713, '가지다': 714, '검진': 715, '많아지다': 716, '오': 717, '삼': 718, '정신': 719, '군대': 720, '심해지다': 721, '에서도': 722, '점': 723, '사정': 724, '냐': 725, '올해': 726, '들어주다': 727, '작다': 728, '덕분': 729, '넣다': 730, '점수': 731, '지키다': 732, '바꾸다': 733, '혐오': 734, '반대': 735, '이네': 736, '시': 737, '지만': 738, '즐겁다': 739, '희생': 740, '음': 741, '아기': 742, '기다': 743, '땐': 744, '해고': 745, '말씀': 746, '예쁘다': 747, '저녁': 748, '밤': 749, '좌절': 750, '자녀': 751, '아끼다': 752, '고등학교': 753, '살이': 754, '신나다': 755, '어느': 756, '앉다': 757, '서럽다': 758, '물건': 759, '다가오다': 760, '연금': 761, '부모': 762, '죽': 763, '수업': 764, '오랫동안': 765, '별': 766, '무조건': 767, '부르다': 768, '맘': 769, '환멸': 770, '꾸준하다': 771, '다투다': 772, '경험': 773, '졸업': 774, '성공하다': 775, '배': 776, '폭력': 777, '자랑': 778, '들이다': 779, '결정': 780, '어울리다': 781, '이후': 782, '위로': 783, '사기': 784, '가해자': 785, '주위': 786, '맞추다': 787, '형편': 788, '으로도': 789, '따다': 790, '만날': 791, '마비': 792, '시선': 793, '동네': 794, '순간': 795, '거리': 796, '이미': 797, '저축': 798, '편': 799, '개': 800, '칭찬': 801, '만족스럽다': 802, '죽음': 803, '친해지다': 804, '허리': 805, '정': 806, '부담': 807, '완전': 808, '편이': 809, '올리다': 810, '끝': 811, '본인': 812, '잠깐': 813, '열등감': 814, '부탁': 815, '풀다': 816, '신': 817, '참다': 818, '집중': 819, '타다': 820, '대출': 821, '이기다': 822, '게임': 823, '일부러': 824, '다행하다': 825, '멀어지다': 826, '뻔하다': 827, '그만': 828, '사주다': 829, '한데': 830, '신뢰': 831, '치매': 832, '이사': 833, '직업': 834, '신고': 835, '장': 836, '통': 837, '생기': 838, '웃다': 839, '괴롭힘': 840, '회식': 841, '오지': 842, '얘': 843, '생활비': 844, '그러면': 845, '지인': 846, '분위기': 847, '쓰러지다': 848, '대인관계': 849, '버려진': 850, '어쩌지': 851, '선택': 852, '막상': 853, '퇴사': 854, '얻다': 855, '진행': 856, '과장': 857, '상': 858, '십': 859, '정리': 860, '래': 861, '보이': 862, '골다': 863, '며느리': 864, '말씀드리다': 865, '문': 866, '산': 867, '소문': 868, '신입': 869, '그러니까': 870, '해오다': 871, '첫': 872, '박': 873, '집안일': 874, '얼른': 875, '이래': 876, '그건': 877, '해봤다': 878, '드': 879, '털다': 880, '살아오다': 881, '걱정스럽다': 882, '나아지다': 883, '죄송하다': 884, '일만': 885, '간다': 886, '피해': 887, '울': 888, '느긋하다': 889, '이직': 890, '나빠지다': 891, '그치다': 892, '고혈압': 893, '대신': 894, '낼': 895, '전부': 896, '등산': 897, '휴가': 898, '력': 899, '지나가다': 900, '지나다': 901, '마련': 902, '고백': 903, '붙다': 904, '어어': 905, '기대': 906, '이라서': 907, '등': 908, '집다': 909, '나니': 910, '우울증': 911, '경우': 912, '분명': 913, '떨리다': 914, '긴장': 915, '여': 916, '다리': 917, '똑같다': 918, '명절': 919, '속이다': 920, '만난': 921, '넘어가다': 922, '확실하다': 923, '쉬': 924, '외': 925, '사회': 926, '새': 927, '도대체': 928, '노래': 929, '일자리': 930, '퇴원': 931, '겪다': 932, '미루다': 933, '퇴직금': 934, '진단': 935, '대답': 936, '밖': 937, '피하': 938, '의지': 939, '교통사고': 940, '체력': 941, '돌보다': 942, '축하': 943, '따로': 944, '꺼내다': 945, '비다': 946, '깨다': 947, '돌아오다': 948, '바뀌다': 949, '필요': 950, '낮다': 951, '소개': 952, '런가': 953, '영상': 954, '직접': 955, '아예': 956, '계시다': 957, '유지': 958, '표현': 959, '실패하다': 960, '미래': 961, '태어나다': 962, '마시다': 963, '가정': 964, '비통하다': 965, '사라지다': 966, '잊다': 967, '기회': 968, '왕따': 969, '살아가다': 970, '핸드폰': 971, '돌리다': 972, '나름': 973, '탓': 974, '청소': 975, '아무렇다': 976, '건가': 977, '창피하다': 978, '서류': 979, '무릎': 980, '정년': 981, '망하다': 982, '입': 983, '겠다': 984, '짓': 985, '엄청나다': 986, '보다는': 987, '이지만': 988, '웃기다': 989, '넘기다': 990, '수치': 991, '그리다': 992, '하자': 993, '관련': 994, '혈압': 995, '자체': 996, '대하': 997, '강요': 998, '뭔': 999, '아파트': 1000, '짐': 1001, '확인': 1002, '즐기다': 1003, '인하다': 1004, '비슷하다': 1005, '변하다': 1006, '물': 1007, '절대': 1008, '영화': 1009, '태도': 1010, '시기': 1011, '연봉': 1012, '가입': 1013, '줄다': 1014, '기간': 1015, '지르다': 1016, '현실': 1017, '험담': 1018, '부하': 1019, '근무': 1020, '이건': 1021, '가슴': 1022, '질문': 1023, '훨씬': 1024, '스러운': 1025, '의심': 1026, '전화하다': 1027, '과의': 1028, '에게도': 1029, '바라다': 1030, '일로': 1031, '놀리다': 1032, '한두': 1033, '섭섭하다': 1034, '동서': 1035, '자신감': 1036, '스럽게': 1037, '충분하다': 1038, '차이': 1039, '사람과': 1040, '조용하다': 1041, '끝내다': 1042, '들키다': 1043, '실적': 1044, '일주일': 1045, '무척': 1046, '이어서': 1047, '마지막': 1048, '장난': 1049, '계약': 1050, '황당하다': 1051, '쯤': 1052, '차라리': 1053, '부리다': 1054, '쳐다보다': 1055, '취미': 1056, '생각나다': 1057, '글쎄': 1058, '친척': 1059, '당신': 1060, '보지': 1061, '치고': 1062, '혼내다': 1063, '롭고': 1064, '찌다': 1065, '만약': 1066, '착하다': 1067, '뽑다': 1068, '쓸쓸하다': 1069, '후회되다': 1070, '보여주다': 1071, '살기': 1072, '이름': 1073, '어이': 1074, '이면': 1075, '예민하다': 1076, '형님': 1077, '누군가': 1078, '요구': 1079, '안달': 1080, '작년': 1081, '잠꼬대': 1082, '딱하다': 1083, '취급': 1084, '개인': 1085, '남지': 1086, '차리다': 1087, '눕다': 1088, '효과': 1089, '과제': 1090, '인간': 1091, '식사': 1092, '아쉽다': 1093, '미우다': 1094, '통보': 1095, '찾아보다': 1096, '의식': 1097, '공무원': 1098, '관': 1099, '풀리다': 1100, '겨우': 1101, '넌': 1102, '궁금하다': 1103, '여기저기': 1104, '화장실': 1105, '은행': 1106, '꽤': 1107, '학생': 1108, '조': 1109, '굉장하다': 1110, '더욱': 1111, '아르바이트': 1112, '허무하다': 1113, '똑같이': 1114, '망치다': 1115, '팀원': 1116, '적금': 1117, '사진': 1118, '터지다': 1119, '맡기다': 1120, '특히': 1121, '손주': 1122, '갱년기': 1123, '에게는': 1124, '맛': 1125, '고치다': 1126, '덜': 1127, '분명하다': 1128, '의미': 1129, '동창': 1130, '취소': 1131, '특별하다': 1132, '멀리': 1133, '통해': 1134, '려고': 1135, '어차피': 1136, '밀리다': 1137, '화해': 1138, '내년': 1139, '안정': 1140, '기업': 1141, '뿌듯하다': 1142, '살리다': 1143, '로는': 1144, '탈락': 1145, '거나': 1146, '가깝다': 1147, '라면': 1148, '어른': 1149, '이니까': 1150, '잃어버리다': 1151, '상대': 1152, '유학': 1153, '전학': 1154, '흥분': 1155, '신랑': 1156, '이라니': 1157, '어디서': 1158, '날다': 1159, '입장': 1160, '우선': 1161, '이란': 1162, '만에': 1163, '그대로': 1164, '종일': 1165, '부동산': 1166, '사춘기': 1167, '금방': 1168, '며': 1169, '통장': 1170, '버': 1171, '겁': 1172, '멀다': 1173, '찍다': 1174, '초라하다': 1175, '일해': 1176, '대체': 1177, '앓다': 1178, '부담스럽다': 1179, '기대하다': 1180, '반응': 1181, '양제': 1182, '값': 1183, '조심하다': 1184, '선': 1185, '커서': 1186, '수입': 1187, '병문안': 1188, '성과': 1189, '막히다': 1190, '은근': 1191, '냄새': 1192, '이십': 1193, '내용': 1194, '자격증': 1195, '로봇': 1196, '허락': 1197, '문자': 1198, '응원': 1199, '숙제': 1200, '녀석': 1201, '가버리다': 1202, '지도': 1203, '할아버지': 1204, '한마디': 1205, '뺏다': 1206, '비용': 1207, '비밀': 1208, '묻다': 1209, '데이트': 1210, '옮기다': 1211, '책': 1212, '소개팅': 1213, '수학': 1214, '사소하다': 1215, '만성': 1216, '조언': 1217, '틀리다': 1218, '히': 1219, '버티다': 1220, '드니': 1221, '커피': 1222, '교수': 1223, '동호회': 1224, '니깐': 1225, '유산': 1226, '사원': 1227, '난리': 1228, '저렇게': 1229, '활동': 1230, '시어머니': 1231, '해내다': 1232, '개월': 1233, '채': 1234, '피': 1235, '팔': 1236, '쌓이다': 1237, '안심': 1238, '악화': 1239, '요양원': 1240, '완치': 1241, '아버님': 1242, '조절': 1243, '버스': 1244, '약하다': 1245, '당한': 1246, '조차': 1247, '듯': 1248, '에게만': 1249, '굳이': 1250, '끼다': 1251, '잡히다': 1252, '진지하다': 1253, '앞두다': 1254, '물리다': 1255, '장이': 1256, '진심': 1257, '그렇다고': 1258, '어찌': 1259, '상의': 1260, '산책': 1261, '와이프': 1262, '평가': 1263, '전공': 1264, '하루하루': 1265, '배려': 1266, '대리': 1267, '진학': 1268, '알아주다': 1269, '보통': 1270, '헤어지자': 1271, '당첨': 1272, '소중하다': 1273, '부정': 1274, '대비': 1275, '최종': 1276, '교육': 1277, '장사': 1278, '열다': 1279, '안좋다': 1280, '까지는': 1281, '친': 1282, '짜다': 1283, '읽다': 1284, '가방': 1285, '여기다': 1286, '물론': 1287, '보고서': 1288, '영어': 1289, '장례식': 1290, '믿음': 1291, '사용': 1292, '경력': 1293, '점심': 1294, '다시다': 1295, '아줌마': 1296, '복잡하다': 1297, '관절염': 1298, '애기': 1299, '컴퓨터': 1300, '가져가다': 1301, '줄이다': 1302, '재미': 1303, '저러다': 1304, '발': 1305, '역시': 1306, '이대로': 1307, '자료': 1308, '마치': 1309, '항': 1310, '밉다': 1311, '일인': 1312, '학년': 1313, '추천': 1314, '넘어지다': 1315, '벗어나다': 1316, '심지어': 1317, '암치료': 1318, '받아들이다': 1319, '싸움': 1320, '불쌍하다': 1321, '가르치다': 1322, '달라지다': 1323, '치': 1324, '아아': 1325, '내려가다': 1326, '일등': 1327, '습관': 1328, '시절': 1329, '판정': 1330, '친절하다': 1331, '취약': 1332, '싫어지다': 1333, '그녀': 1334, '최고': 1335, '싸다': 1336, '세우다': 1337, '차갑다': 1338, '상대방': 1339, '이루다': 1340, '남아': 1341, '숨기다': 1342, '반복': 1343, '마음대로': 1344, '제출': 1345, '갑작스럽다': 1346, '노년': 1347, '올라가다': 1348, '잠도': 1349, '마주치다': 1350, '거래': 1351, '직': 1352, '차별': 1353, '적성': 1354, '대기업': 1355, '소외': 1356, '지적': 1357, '소홀하다': 1358, '요청': 1359, '시댁': 1360, '그런': 1361, '손해': 1362, '불': 1363, '발령': 1364, '감기': 1365, '타고': 1366, '모': 1367, '예의': 1368, '어색하다': 1369, '든든하다': 1370, '인간관계': 1371, '모양': 1372, '중간': 1373, '손님': 1374, '땅': 1375, '낫다': 1376, '완전하다': 1377, '벌': 1378, '그랬는데': 1379, '지각': 1380, '신입사원': 1381, '식단': 1382, '시골': 1383, '답': 1384, '삼십': 1385, '닮다': 1386, '시끄럽다': 1387, '통화': 1388, '뛰다': 1389, '치우다': 1390, '어쩌면': 1391, '너무하다': 1392, '견디다': 1393, '백': 1394, '불만': 1395, '언젠가': 1396, '영감': 1397, '뉴스': 1398, '딸아이': 1399, '악의': 1400, '잘나다': 1401, '모이다': 1402, '지난번': 1403, '식구': 1404, '새벽': 1405, '월세': 1406, '감당': 1407, '거래처': 1408, '조금씩': 1409, '어려워지다': 1410, '무리': 1411, '곁': 1412, '어이없다': 1413, '달다': 1414, '공': 1415, '훔치다': 1416, '해달라다': 1417, '타': 1418, '잘해주다': 1419, '꼴': 1420, '도저히': 1421, '지방': 1422, '육아': 1423, '안도': 1424, '만의': 1425, '날아가다': 1426, '살짝': 1427, '아이디어': 1428, '정보': 1429, '가만히': 1430, '의욕': 1431, '다가가다': 1432, '와의': 1433, '수능': 1434, '자꾸만': 1435, '비참하다': 1436, '걷다': 1437, '지경': 1438, '뒷바라지': 1439, '요리': 1440, '시대': 1441, '강아지': 1442, '설명': 1443, '걔네': 1444, '무한도전': 1445, '혼수': 1446, '내주다': 1447, '서울': 1448, '집사람': 1449, '바보': 1450, '환자': 1451, '순': 1452, '테': 1453, '숨': 1454, '적도': 1455, '넉넉하다': 1456, '심해': 1457, '지갑': 1458, '중년': 1459, '한잔': 1460, '길이': 1461, '라니': 1462, '마무리': 1463, '빠르다': 1464, '커지다': 1465, '줄어들다': 1466, '간호사': 1467, '지시': 1468, '오십': 1469, '도망가다': 1470, '사무실': 1471, '안타깝다': 1472, '기적': 1473, '갈수록': 1474, '잘리다': 1475, '표정': 1476, '잦다': 1477, '조급하다': 1478, '막내': 1479, '듣기': 1480, '혼': 1481, '재미있다': 1482, '발견': 1483, '금액': 1484, '내리다': 1485, '차려': 1486, '함부로': 1487, '방금': 1488, '양': 1489, '데리': 1490, '그렇지만': 1491, '추억': 1492, '대회': 1493, '아마': 1494, '이용': 1495, '올라서다': 1496, '권유': 1497, '형수': 1498, '만이': 1499, '실': 1500, '떨다': 1501, '책임': 1502, '풀': 1503, '기준': 1504, '최선': 1505, '까먹다': 1506, '이쁘다': 1507, '신청': 1508, '귀': 1509, '그만하다': 1510, '우연히': 1511, '집도': 1512, '지겹다': 1513, '고기': 1514, '깊다': 1515, '이별': 1516, '움직이다': 1517, '너무나': 1518, '여태': 1519, '다이어트': 1520, '심': 1521, '폐암': 1522, '정작': 1523, '보람': 1524, '써주다': 1525, '가라': 1526, '무리하다': 1527, '기르다': 1528, '떠오르다': 1529, '용기': 1530, '실제': 1531, '굳다': 1532, '이러다가': 1533, '절망': 1534, '비웃다': 1535, '기계': 1536, '곳도': 1537, '육십': 1538, '채용': 1539, '이전': 1540, '이런': 1541, '관절': 1542, '한숨': 1543, '든지': 1544, '심각하다': 1545, '꾸다': 1546, '에선': 1547, '끊기다': 1548, '민망하다': 1549, '담임': 1550, '에요': 1551, '운전': 1552, '작성': 1553, '잡고': 1554, '면서': 1555, '초등학교': 1556, '보태': 1557, '지병': 1558, '과연': 1559, '채다': 1560, '현재': 1561, '물다': 1562, '이제야': 1563, '성공': 1564, '원망': 1565, '공감': 1566, '처지다': 1567, '천식': 1568, '해외': 1569, '멈추다': 1570, '독립': 1571, '자존심': 1572, '끼': 1573, '시도': 1574, '정상': 1575, '가능하다': 1576, '화도': 1577, '가볍다': 1578, '왠지': 1579, '왜냐면': 1580, '창피해': 1581, '한참': 1582, '시장': 1583, '분노': 1584, '참여': 1585, '지출': 1586, '늘어나다': 1587, '서글프다': 1588, '증상': 1589, '조심': 1590, '계산': 1591, '목소리': 1592, '과거': 1593, '어서': 1594, '안다': 1595, '기운': 1596, '푼': 1597, '지긋지긋하다': 1598, '쉽다': 1599, '반찬': 1600, '깜짝': 1601, '영업': 1602, '단': 1603, '지난': 1604, '인정받다': 1605, '무기': 1606, '말기': 1607, '손녀': 1608, '오라': 1609, '찾아가다': 1610, '소': 1611, '돌다': 1612, '하래': 1613, '외식': 1614, '터': 1615, '설레다': 1616, '참고': 1617, '엉망': 1618, '자르다': 1619, '중학교': 1620, '학업': 1621, '간암': 1622, '말다툼': 1623, '법': 1624, '나라': 1625, '식당': 1626, '재수': 1627, '세월': 1628, '간단하다': 1629, '확': 1630, '핑계': 1631, '카드': 1632, '으응': 1633, '멀쩡하다': 1634, '적응하다': 1635, '외출': 1636, '위험하다': 1637, '제안': 1638, '이력서': 1639, '출장': 1640, '회': 1641, '날짜': 1642, '실력': 1643, '티': 1644, '조건': 1645, '곤란하다': 1646, '체중': 1647, '위암': 1648, '목표': 1649, '업': 1650, '군데': 1651, '바라보다': 1652, '거고': 1653, '친정': 1654, '산다': 1655, '살림': 1656, '저런': 1657, '소용': 1658, '심정': 1659, '오래되다': 1660, '다가': 1661, '보이지': 1662, '형제': 1663, '먹기': 1664, '지고': 1665, '날리다': 1666, '지는': 1667, '초기': 1668, '기대다': 1669, '여성': 1670, '보험금': 1671, '간섭': 1672, '가부장': 1673, '먹이다': 1674, '마누라': 1675, '천천히': 1676, '구해': 1677, '도전': 1678, '따라가다': 1679, '책임지다': 1680, '각자': 1681, '존재': 1682, '간호': 1683, '심장': 1684, '또래': 1685, '환갑': 1686, '대표': 1687, '분들': 1688, '슬슬': 1689, '데리다': 1690, '아저씨': 1691, '뻔': 1692, '워': 1693, '올라오다': 1694, '바': 1695, '명품': 1696, '상상': 1697, '식품': 1698, '감동': 1699, '금': 1700, '사회생활': 1701, '예정': 1702, '무량': 1703, '방어': 1704, '마저': 1705, '매': 1706, '짧다': 1707, '저희': 1708, '말리다': 1709, '담당': 1710, '심부름': 1711, '대단하다': 1712, '데려오다': 1713, '정확하다': 1714, '자라다': 1715, '내지': 1716, '성적표': 1717, '고객': 1718, '던지다': 1719, '프로그램': 1720, '동아리': 1721, '마을': 1722, '부터라도': 1723, '외모': 1724, '기침': 1725, '고는': 1726, '찜질방': 1727, '유': 1728, '깨우다': 1729, '저기': 1730, '이니': 1731, '달리': 1732, '말로': 1733, '모자라다': 1734, '최대한': 1735, '프러포즈': 1736, '인터넷': 1737, '신기하다': 1738, '합병증': 1739, '불합격': 1740, '세대': 1741, '회복': 1742, '내내': 1743, '코골': 1744, '땜': 1745, '기본': 1746, '용서': 1747, '뒤지다': 1748, '기사': 1749, '들리다': 1750, '지나치다': 1751, '야하다': 1752, '내야': 1753, '보답': 1754, '추석': 1755, '달이': 1756, '놓치다': 1757, '자전거': 1758, '당당하다': 1759, '펴다': 1760, '치밀다': 1761, '재촉': 1762, '가격': 1763, '체육': 1764, '확신': 1765, '사수': 1766, '겁나다': 1767, '언': 1768, '소용없다': 1769, '군': 1770, '하필': 1771, '벌리다': 1772, '대충': 1773, '낫': 1774, '예상': 1775, '짝': 1776, '카페': 1777, '내기': 1778, '펀드': 1779, '마스크': 1780, '낙담하다': 1781, '일상': 1782, '역겹다': 1783, '둘째': 1784, '현장': 1785, '진급': 1786, '그날': 1787, '동': 1788, '철': 1789, '보라': 1790, '흘리다': 1791, '잊어버리다': 1792, '정말로': 1793, '와도': 1794, '지켜보다': 1795, '디스크': 1796, '닫다': 1797, '종종': 1798, '여자애': 1799, '유명하다': 1800, '한편': 1801, '주시': 1802, '안해': 1803, '덕': 1804, '죄': 1805, '사건': 1806, '무사하다': 1807, '워낙': 1808, '연': 1809, '키': 1810, '사람인': 1811, '어찌나': 1812, '게다가': 1813, '대상': 1814, '주가': 1815, '온종일': 1816, '질병': 1817, '세다': 1818, '이만': 1819, '방해': 1820, '여전하다': 1821, '저지르다': 1822, '접다': 1823, '잔': 1824, '연습': 1825, '다섯': 1826, '과도': 1827, '가다가': 1828, '지하철': 1829, '학과': 1830, '매달': 1831, '주사': 1832, '복지': 1833, '래야': 1834, '파티': 1835, '우린': 1836, '씻다': 1837, '질': 1838, '주어': 1839, '당분간': 1840, '해드리다': 1841, '재': 1842, '물어': 1843, '어깨': 1844, '돌아다니다': 1845, '랑은': 1846, '가도': 1847, '억지로': 1848, '당뇨병': 1849, '걷기': 1850, '분야': 1851, '완벽하다': 1852, '과외': 1853, '꺼리다': 1854, '연예인': 1855, '근': 1856, '듯이': 1857, '제사': 1858, '그저': 1859, '버릇': 1860, '나타나다': 1861, '참석': 1862, '정이': 1863, '운': 1864, '욕심': 1865, '이든': 1866, '온몸': 1867, '학기': 1868, '경로당': 1869, '급여': 1870, '최': 1871, '가져오다': 1872, '편지': 1873, '쓰레기': 1874, '유튜브': 1875, '바닥': 1876, '이에요': 1877, '숨다': 1878, '신세': 1879, '무너지다': 1880, '센터': 1881, '별거': 1882, '경기': 1883, '환경': 1884, '백수': 1885, '육': 1886, '생': 1887, '긍정': 1888, '운영': 1889, '명예퇴직': 1890, '여유롭다': 1891, '고등학생': 1892, '자살': 1893, '마감': 1894, '죠': 1895, '막다': 1896, '지난주': 1897, '설거지': 1898, '하늘': 1899, '기한': 1900, '멋지다': 1901, '근처': 1902, '서도': 1903, '고르다': 1904, '대놓고': 1905, '느리다': 1906, '자취': 1907, '부': 1908, '가까워지다': 1909, '그랬더니': 1910, '입학': 1911, '무언가': 1912, '에겐': 1913, '외국': 1914, '주기': 1915, '화목': 1916, '자존감': 1917, '금연': 1918, '자랑스럽다': 1919, '대가': 1920, '이동': 1921, '쌓다': 1922, '부쩍': 1923, '무겁다': 1924, '금전': 1925, '반갑다': 1926, '부자': 1927, '내면': 1928, '처지': 1929, '술자리': 1930, '매출': 1931, '방문': 1932, '원금': 1933, '내려오다': 1934, '그만큼': 1935, '마': 1936, '칠': 1937, '처벌': 1938, '피다': 1939, '예약': 1940, '깔다': 1941, '지역': 1942, '감다': 1943, '깨': 1944, '파다': 1945, '바르다': 1946, '영향': 1947, '동창회': 1948, '불우하다': 1949, '상관없다': 1950, '전환': 1951, '씁쓸하다': 1952, '소통': 1953, '반장': 1954, '번째': 1955, '압박': 1956, '희망': 1957, '로부터': 1958, '신체': 1959, '교회': 1960, '권': 1961, '대서': 1962, '탈모': 1963, '출금': 1964, '내버리다': 1965, '알바': 1966, '예능': 1967, '어딜': 1968, '짓다': 1969, '시집': 1970, '잘살다': 1971, '양보': 1972, '안쓰럽다': 1973, '설득': 1974, '피해자': 1975, '쟤': 1976, '단체': 1977, '과는': 1978, '약해지다': 1979, '아무튼': 1980, '쓸모없다': 1981, '도박': 1982, '대부분': 1983, '서른': 1984, '고집': 1985, '새다': 1986, '존경': 1987, '덥다': 1988, '까지만': 1989, '이자': 1990, '까지도': 1991, '적당하다': 1992, '처방': 1993, '만족하다': 1994, '길어지다': 1995, '고장': 1996, '적응': 1997, '과목': 1998, '음악': 1999, '경사': 2000, '심심하다': 2001, '한텐': 2002, '이냐': 2003, '진작': 2004, '추다': 2005, '기술': 2006, '이틀': 2007, '상관': 2008, '스타일': 2009, '착각': 2010, '빼': 2011, '그림': 2012, '적극': 2013, '데려가다': 2014, '사서': 2015, '큰아들': 2016, '몹시': 2017, '직무': 2018, '보증': 2019, '이웃': 2020, '토': 2021, '창업': 2022, '어머님': 2023, '깜빡': 2024, '어딨다': 2025, '쇼핑': 2026, '좁다': 2027, '마흔': 2028, '체': 2029, '방학': 2030, '켜다': 2031, '선임': 2032, '끔찍하다': 2033, '놓이다': 2034, '보상': 2035, '미워하다': 2036, '비상': 2037, '차례': 2038, '비도': 2039, '병실': 2040, '언제나': 2041, '의문': 2042, '장기': 2043, '작업': 2044, '불쾌하다': 2045, '작': 2046, '반말': 2047, '날씨': 2048, '주의': 2049, '별일': 2050, '지지': 2051, '똥': 2052, '그립다': 2053, '방송': 2054, '자세하다': 2055, '에서만': 2056, '어떻': 2057, '꿈꾸다': 2058, '도착': 2059, '전달': 2060, '부인': 2061, '지속': 2062, '층': 2063, '우리나라': 2064, '회복하다': 2065, '명도': 2066, '부당하다': 2067, '헬스장': 2068, '변화': 2069, '고지혈증': 2070, '다해': 2071, '제발': 2072, '놔두다': 2073, '잔뜩': 2074, '밝다': 2075, '처': 2076, '길다': 2077, '엄': 2078, '틈': 2079, '마르다': 2080, '이러니까': 2081, '상하': 2082, '보다도': 2083, '제주도': 2084, '식이': 2085, '전체': 2086, '채우다': 2087, '자연': 2088, '고향': 2089, '과정': 2090, '구박': 2091, '위축': 2092, '보너스': 2093, '이식': 2094, '티브이': 2095, '골프': 2096, '복권': 2097, '재테크': 2098, '성인': 2099, '원서': 2100, '부터는': 2101, '재발': 2102, '인연': 2103, '뜻': 2104, '복수': 2105, '상해': 2106, '따뜻하다': 2107, '돌려주다': 2108, '뼈': 2109, '으론': 2110, '치르다': 2111, '끼치다': 2112, '고통': 2113, '애매하다': 2114, '옳다': 2115, '로서': 2116, '기획': 2117, '해외여행': 2118, '정기': 2119, '숨기': 2120, '투병': 2121, '이대': 2122, '학교생활': 2123, '공원': 2124, '치료받다': 2125, '단절': 2126, '끓이다': 2127, '후임': 2128, '그나마': 2129, '잠들다': 2130, '가까이': 2131, '차이다': 2132, '역할': 2133, '징계': 2134, '으로만': 2135, '맞벌이': 2136, '이기': 2137, '중학생': 2138, '텔레비전': 2139, '카톡': 2140, '감사': 2141, '가로': 2142, '수익': 2143, '등급': 2144, '청년': 2145, '인원': 2146, '회장': 2147, '경쟁': 2148, '집값': 2149, '밑': 2150, '경찰서': 2151, '도둑': 2152, '차도': 2153, '목': 2154, '정해': 2155, '장가': 2156, '부다': 2157, '일방': 2158, '드릴': 2159, '겉': 2160, '깨지다': 2161, '인기': 2162, '존중': 2163, '인상': 2164, '진정': 2165, '데도': 2166, '성실하다': 2167, '여름': 2168, '신경질': 2169, '의도': 2170, '외로움': 2171, '통증': 2172, '유일하다': 2173, '마냥': 2174, '취해': 2175, '여직원': 2176, '강하다': 2177, '어영': 2178, '빨': 2179, '조만간': 2180, '귀엽다': 2181, '배달': 2182, '침대': 2183, '대접': 2184, '무': 2185, '둘이서': 2186, '판단': 2187, '쭉': 2188, '대학생': 2189, '피부': 2190, '몰다': 2191, '급식': 2192, '놀': 2193, '폭행': 2194, '떠나가다': 2195, '중간고사': 2196, '어려움': 2197, '항암': 2198, '글': 2199, '가난': 2200, '대요': 2201, '진': 2202, '도련님': 2203, '맘대로': 2204, '등록금': 2205, '잠시': 2206, '상품': 2207, '번호': 2208, '돌아보다': 2209, '얘길': 2210, '보단': 2211, '익숙하다': 2212, '하고는': 2213, '겨울': 2214, '대처': 2215, '진료': 2216, '일정': 2217, '생계': 2218, '난감하다': 2219, '한결': 2220, '계단': 2221, '외톨이': 2222, '내시경': 2223, '늦어지다': 2224, '유독': 2225, '책상': 2226, '열리다': 2227, '부딪히다': 2228, '다정하다': 2229, '낳을': 2230, '남기다': 2231, '주인': 2232, '새끼': 2233, '시부모': 2234, '안부': 2235, '나가야': 2236, '동갑': 2237, '사내': 2238, '시달리다': 2239, '초': 2240, '업체': 2241, '만으로도': 2242, '핀잔': 2243, '병들다': 2244, '만기': 2245, '쏟다': 2246, '파혼': 2247, '고통스럽다': 2248, '에다가': 2249, '빨다': 2250, '출신': 2251, '하든': 2252, '탈': 2253, '어머': 2254, '푹': 2255, '바치다': 2256, '이해해': 2257, '방이': 2258, '만만하다': 2259, '종남': 2260, '재혼': 2261, '실패': 2262, '만큼은': 2263, '집주인': 2264, '치가': 2265, '허전하다': 2266, '염려': 2267, '주문': 2268, '노트': 2269, '망설이다': 2270, '입시': 2271, '한순간': 2272, '시력': 2273, '한국': 2274, '로만': 2275, '와는': 2276, '주제': 2277, '꽃': 2278, '면목': 2279, '꼴다': 2280, '높아지다': 2281, '과일': 2282, '부영': 2283, '눈앞': 2284, '번은': 2285, '어쩌다': 2286, '방식': 2287, '어젯밤': 2288, '증거': 2289, '드라마': 2290, '트집': 2291, '이리': 2292, '일어나서': 2293, '깎다': 2294, '극복': 2295, '틀다': 2296, '세금': 2297, '실감': 2298, '동성애자': 2299, '젊은이': 2300, '휴대폰': 2301, '움직': 2302, '남겨지다': 2303, '수군거리다': 2304, '장소': 2305, '먹고살다': 2306, '임원': 2307, '교실': 2308, '불공평하다': 2309, '예요': 2310, '어디가': 2311, '경': 2312, '자마자': 2313, '씌우다': 2314, '프로': 2315, '도통': 2316, '뵈다': 2317, '사오다': 2318, '중소기업': 2319, '자시다': 2320, '행사': 2321, '꼼꼼하다': 2322, '점심시간': 2323, '신장': 2324, '수다': 2325, '부도': 2326, '뚱뚱하다': 2327, '괘씸하다': 2328, '수정': 2329, '축구': 2330, '초대': 2331, '놀림': 2332, '병간호': 2333, '등록': 2334, '시리': 2335, '아부': 2336, '철저하다': 2337, '딴': 2338, '빼놓다': 2339, '머릿속': 2340, '치킨': 2341, '부러지다': 2342, '더럽다': 2343, '저렇다': 2344, '대고': 2345, '나하': 2346, '심란하다': 2347, '웃음': 2348, '첫째': 2349, '행복': 2350, '속도': 2351, '넘어서다': 2352, '대학원': 2353, '결혼기념일': 2354, '골다공증': 2355, '자괴': 2356, '목돈': 2357, '두려움': 2358, '휴직': 2359, '대인': 2360, '인턴': 2361, '구매': 2362, '말실수': 2363, '폐': 2364, '원인': 2365, '벌이': 2366, '수고': 2367, '참견': 2368, '조카': 2369, '식다': 2370, '빵': 2371, '윗': 2372, '턱': 2373, '신발': 2374, '잘생기다': 2375, '석': 2376, '거부': 2377, '늘리다': 2378, '팔다': 2379, '대책': 2380, '로또': 2381, '메시지': 2382, '관해': 2383, '풀이': 2384, '홀로': 2385, '한동안': 2386, '만으로': 2387, '소심하다': 2388, '통과': 2389, '이성': 2390, '정부': 2391, '산부인과': 2392, '후련하다': 2393, '기말고사': 2394, '이모': 2395, '모시다': 2396, '밤새': 2397, '신문': 2398, '만은': 2399, '툭하면': 2400, '계': 2401, '넓다': 2402, '그땐': 2403, '싸': 2404, '까진': 2405, '곤': 2406, '뱃살': 2407, '에다': 2408, '한창': 2409, '소원': 2410, '미국': 2411, '연기': 2412, '얄밉다': 2413, '달래': 2414, '외면': 2415, '휘': 2416, '단순하다': 2417, '뜻대로': 2418, '망가지다': 2419, '필기': 2420, '불행하다': 2421, '독감': 2422, '별것': 2423, '고마움': 2424, '속마음': 2425, '에게서': 2426, '흐르다': 2427, '건물': 2428, '발생': 2429, '귀가': 2430, '도중': 2431, '유방암': 2432, '가수': 2433, '당시': 2434, '비염': 2435, '지니': 2436, '유재석': 2437, '어쨌든': 2438, '노릇': 2439, '혜택': 2440, '안나': 2441, '갈등': 2442, '생기지': 2443, '동반': 2444, '째다': 2445, '겨': 2446, '내놓다': 2447, '주신': 2448, '애쓰다': 2449, '설마': 2450, '큰소리': 2451, '란': 2452, '어쩜': 2453, '뜯다': 2454, '잘해야': 2455, '발전': 2456, '전세': 2457, '수준': 2458, '목격': 2459, '학폭위': 2460, '문화': 2461, '뛰어나다': 2462, '시비': 2463, '마트': 2464, '권고사직': 2465, '미술': 2466, '사사건건': 2467, '자산': 2468, '전형': 2469, '인공': 2470, '격려': 2471, '국민연금': 2472, '인식': 2473, '죽이다': 2474, '말르다': 2475, '택시': 2476, '성질': 2477, '구석': 2478, '짝사랑': 2479, '도망': 2480, '애정': 2481, '가리다': 2482, '이래서': 2483, '하고도': 2484, '줍다': 2485, '농담': 2486, '신혼': 2487, '뒷': 2488, '떠들다': 2489, '내색': 2490, '스펙': 2491, '배우자': 2492, '처가': 2493, '다툼': 2494, '동물': 2495, '연차': 2496, '유행': 2497, '커닝': 2498, '헷갈리다': 2499, '가가': 2500, '기특하다': 2501, '도무지': 2502, '버겁다': 2503, '수학여행': 2504, '타지': 2505, '정규직': 2506, '실직': 2507, '연인': 2508, '사촌': 2509, '지진': 2510, '범인': 2511, '지난달': 2512, '체크': 2513, '임': 2514, '톡': 2515, '달래다': 2516, '복': 2517, '댁': 2518, '넘치다': 2519, '야단': 2520, '애도': 2521, '붙이다': 2522, '청혼': 2523, '돕다': 2524, '낯': 2525, '늦잠': 2526, '말투': 2527, '마주': 2528, '무능하다': 2529, '주더': 2530, '주로': 2531, '자유롭다': 2532, '명의': 2533, '절교': 2534, '버려지다': 2535, '백내장': 2536, '에서의': 2537, '러더': 2538, '조마조마하다': 2539, '이런저런': 2540, '스무': 2541, '알리': 2542, '라네': 2543, '지기': 2544, '장남': 2545, '나머지': 2546, '안보': 2547, '태우다': 2548, '이상은': 2549, '전해': 2550, '잘나가다': 2551, '사표': 2552, '사망': 2553, '오늘이': 2554, '낮': 2555, '월': 2556, '효도': 2557, '화장': 2558, '판': 2559, '희망이': 2560, '장난감': 2561, '그러다가': 2562, '이민': 2563, '김치': 2564, '결심': 2565, '수영': 2566, '라고는': 2567, '노트북': 2568, '한지': 2569, '스럽지': 2570, '관계도': 2571, '잔치': 2572, '만을': 2573, '장애': 2574, '학점': 2575, '요양': 2576, '교육비': 2577, '답장': 2578, '음식점': 2579, '불구': 2580, '중인': 2581, '자퇴': 2582, '재능': 2583, '나기': 2584, '정시': 2585, '대우': 2586, '이기도': 2587, '간질': 2588, '온갖': 2589, '장모님': 2590, '마찬가지': 2591, '혀': 2592, '도로': 2593, '계란': 2594, '올': 2595, '배고프다': 2596, '비만': 2597, '심다': 2598, '안녕하다': 2599, '거실': 2600, '사르다': 2601, '맺다': 2602, '기억나다': 2603, '일부': 2604, '애교': 2605, '어쩌나': 2606, '멋있다': 2607, '위원회': 2608, '여섯': 2609, '덜다': 2610, '종': 2611, '컨디션': 2612, '로라': 2613, '홀가분하다': 2614, '아이돌': 2615, '거울': 2616, '스터디': 2617, '익숙해지다': 2618, '매년': 2619, '내신': 2620, '죄송스럽다': 2621, '이끌다': 2622, '폐지': 2623, '단어': 2624, '매사': 2625, '일과': 2626, '증': 2627, '미역국': 2628, '신다': 2629, '젤': 2630, '모시': 2631, '맨': 2632, '가요': 2633, '누': 2634, '장면': 2635, '떼다': 2636, '라지': 2637, '찢어지다': 2638, '꾸미다': 2639, '무거워': 2640, '골': 2641, '따지다': 2642, '조사': 2643, '벗다': 2644, '다양하다': 2645, '쓰기': 2646, '총각': 2647, '길거리': 2648, '첫날': 2649, '건드리다': 2650, '어우': 2651, '청': 2652, '오니': 2653, '간식': 2654, '학비': 2655, '앞날': 2656, '재택근무': 2657, '보장': 2658, '몰리다': 2659, '전하': 2660, '남동생': 2661, '위기': 2662, '구조조정': 2663, '부질없다': 2664, '자부': 2665, '전교': 2666, '사지': 2667, '집착': 2668, '해지': 2669, '로운': 2670, '너무나도': 2671, '권하다': 2672, '대들다': 2673, '알려지다': 2674, '카카오': 2675, '마치다': 2676, '전염병': 2677, '주택': 2678, '회비': 2679, '웬만하다': 2680, '싹': 2681, '놀래다': 2682, '상견례': 2683, '누르다': 2684, '라며': 2685, '개다': 2686, '광고': 2687, '빌다': 2688, '외우다': 2689, '쑤시다': 2690, '셋': 2691, '리': 2692, '라니까': 2693, '표': 2694, '벽': 2695, '꽉': 2696, '추가': 2697, '뒤통수': 2698, '펑펑': 2699, '보살피다': 2700, '접근': 2701, '손가락': 2702, '붙잡다': 2703, '손실': 2704, '해주': 2705, '재미없다': 2706, '흉': 2707, '부러워하다': 2708, '착잡하다': 2709, '쓰리다': 2710, '백만': 2711, '한계': 2712, '말고는': 2713, '모의고사': 2714, '고과': 2715, '퇴학': 2716, '허탈하다': 2717, '요실금': 2718, '기력': 2719, '징그럽다': 2720, '벅차다': 2721, '일상생활': 2722, '복지관': 2723, '놀이': 2724, '깨어나다': 2725, '런닝맨': 2726, '익산': 2727, '스피커': 2728, '경감': 2729, '허다': 2730, '현찰': 2731, '갈리다': 2732, '쓴다': 2733, '난처하다': 2734, '밝히다': 2735, '냉장고': 2736, '따라오다': 2737, '형도': 2738, '국가': 2739, '마디': 2740, '시원하다': 2741, '끌다': 2742, '상당하다': 2743, '올려주다': 2744, '으로서': 2745, '웃기': 2746, '진정하다': 2747, '소화': 2748, '기념': 2749, '낙': 2750, '돌': 2751, '비우다': 2752, '러시': 2753, '못마땅하다': 2754, '한쪽': 2755, '이익': 2756, '입맛': 2757, '제때': 2758, '사이좋다': 2759, '전문': 2760, '의심스럽다': 2761, '오래전': 2762, '설계': 2763, '중반': 2764, '모자라': 2765, '허망': 2766, '실기': 2767, '농사': 2768, '제도': 2769, '직급': 2770, '사려': 2771, '오해해': 2772, '일구다': 2773, '으로의': 2774, '종양': 2775, '소름': 2776, '부양': 2777, '잔고': 2778, '수익률': 2779, '기쁨': 2780, '방향': 2781, '자유': 2782, '주눅': 2783, '병상': 2784, '흡연': 2785, '보더': 2786, '영원하다': 2787, '엊그제': 2788, '인슐린': 2789, '서툴다': 2790, '가뜩이나': 2791, '정리해고': 2792, '뇌졸중': 2793, '강의': 2794, '응응': 2795, '급': 2796, '담다': 2797, '의논': 2798, '흥분하다': 2799, '살라': 2800, '팔자': 2801, '더하다': 2802, '아시': 2803, '못자다': 2804, '스물': 2805, '홈쇼핑': 2806, '인수': 2807, '떼': 2808, '흔들리다': 2809, '코앞': 2810, '일일이': 2811, '내미다': 2812, '커플': 2813, '예비': 2814, '책임감': 2815, '목적': 2816, '전과': 2817, '옷차림': 2818, '전이': 2819, '울면': 2820, '발목': 2821, '무뚝뚝하다': 2822, '선뜻': 2823, '효율': 2824, '판매': 2825, '피로': 2826, '흥미': 2827, '쓸모': 2828, '높이다': 2829, '파일': 2830, '비난': 2831, '국어': 2832, '체육대회': 2833, '벌어지다': 2834, '학벌': 2835, '공고': 2836, '불평': 2837, '성향': 2838, '초반': 2839, '매주': 2840, '어지럽다': 2841, '따라서': 2842, '에스': 2843, '툴툴대': 2844, '자동차': 2845, '반항': 2846, '퇴': 2847, '알리다': 2848, '입대': 2849, '박다': 2850, '꼼짝': 2851, '담': 2852, '간만': 2853, '갈아입다': 2854, '분하다': 2855, '사항': 2856, '취하': 2857, '보약': 2858, '태실': 2859, '까다롭다': 2860, '굶다': 2861, '빨래': 2862, '더니': 2863, '술집': 2864, '서서': 2865, '배다': 2866, '단둘': 2867, '신혼여행': 2868, '캄캄하다': 2869, '고작': 2870, '전문가': 2871, '지금껏': 2872, '꾸리다': 2873, '지나': 2874, '어느새다': 2875, '전보': 2876, '고독': 2877, '마라톤': 2878, '내심': 2879, '혹': 2880, '간의': 2881, '제한': 2882, '고양이': 2883, '간병': 2884, '팔이': 2885, '귀농': 2886, '소비': 2887, '강제': 2888, '기미': 2889, '딸도': 2890, '학습': 2891, '이벤트': 2892, '수행평가': 2893, '맞이': 2894, '구직': 2895, '금리': 2896, '할당': 2897, '게으르다': 2898, '나야': 2899, '왕': 2900, '미련': 2901, '파악': 2902, '널': 2903, '꼬박꼬박': 2904, '박히다': 2905, '빈': 2906, '깨끗하다': 2907, '꼬이다': 2908, '오시': 2909, '굽다': 2910, '더러': 2911, '뵙다': 2912, '쓸데없다': 2913, '대박': 2914, '취향': 2915, '찾기': 2916, '빨갛다': 2917, '겹': 2918, '기만': 2919, '애초': 2920, '푸다': 2921, '시각': 2922, '현금': 2923, '인계': 2924, '생명': 2925, '예순': 2926, '치과': 2927, '지루하다': 2928, '방귀': 2929, '뽑히다': 2930, '살날': 2931, '개발': 2932, '룸메이트': 2933, '칠십': 2934, '척도': 2935, '아등바등': 2936, '평균': 2937, '황': 2938, '근육': 2939, '나은': 2940, '미팅': 2941, '안마': 2942, '의자': 2943, '매달리다': 2944, '눈빛': 2945, '사기꾼': 2946, '후유증': 2947, '미혼': 2948, '낮아지다': 2949, '기초': 2950, '병행': 2951, '불가능하다': 2952, '재활': 2953, '공간': 2954, '화만': 2955, '조원': 2956, '시유': 2957, '댕기': 2958, '똑똑하다': 2959, '십년': 2960, '분가': 2961, '고치': 2962, '고프다': 2963, '수상하다': 2964, '대기': 2965, '뜸': 2966, '찬': 2967, '닿다': 2968, '활': 2969, '래서': 2970, '밀다': 2971, '쏘다': 2972, '다기': 2973, '바깥': 2974, '몸살': 2975, '울적하다': 2976, '삶다': 2977, '덮다': 2978, '여동생': 2979, '노름': 2980, '편애': 2981, '리더': 2982, '틀어지다': 2983, '협박': 2984, '아야': 2985, '분해': 2986, '세계': 2987, '만지다': 2988, '멍하다': 2989, '없애다': 2990, '의료': 2991, '문과': 2992, '한시름': 2993, '개선': 2994, '살갑': 2995, '봉사': 2996, '여태껏': 2997, '비혼': 2998, '어르신': 2999, '답안': 3000, '주장': 3001, '불안감': 3002, '퍼센트': 3003, '면담': 3004, '녹내장': 3005, '불면증': 3006, '육아휴직': 3007, '절약': 3008, '다루다': 3009, '선고': 3010, '트라우마': 3011, '콜레스테롤': 3012, '투정': 3013, '보수': 3014, '중국': 3015, '스마트폰': 3016, '직속': 3017, '명단': 3018, '수습': 3019, '기념일': 3020, '기숙사': 3021, '보험사': 3022, '오토바이': 3023, '공모전': 3024, '곱다': 3025, '평등': 3026, '빅스': 3027, '수연': 3028, '겁니다': 3029, '에라도': 3030, '울컥': 3031, '조직': 3032, '얼': 3033, '그다음': 3034, '누명': 3035, '조치': 3036, '주무시다': 3037, '가만': 3038, '달리기': 3039, '약점': 3040, '막말': 3041, '에이': 3042, '돌아서다': 3043, '적어도': 3044, '논': 3045, '는걸': 3046, '해먹': 3047, '사돈': 3048, '물이': 3049, '초등학생': 3050, '대면': 3051, '똑바로': 3052, '출퇴근': 3053, '하루아침': 3054, '질리다': 3055, '청첩장': 3056, '평': 3057, '안주': 3058, '화분': 3059, '닦다': 3060, '동시': 3061, '잠수': 3062, '품': 3063, '부턴': 3064, '바다': 3065, '누군지': 3066, '차마': 3067, '일어나지': 3068, '돌이키다': 3069, '나나': 3070, '차서': 3071, '외박': 3072, '만치': 3073, '슬픔': 3074, '포함': 3075, '주어지다': 3076, '건망증': 3077, '주름': 3078, '엄두': 3079, '직할': 3080, '차장': 3081, '하소연': 3082, '이제껏': 3083, '힘내다': 3084, '금융': 3085, '께서는': 3086, '장거리': 3087, '퍼지다': 3088, '직장인': 3089, '규칙': 3090, '일거리': 3091, '거슬리다': 3092, '폐렴': 3093, '깜깜': 3094, '당하': 3095, '헌신': 3096, '독촉': 3097, '정성': 3098, '역': 3099, '제외': 3100, '무료': 3101, '성장하다': 3102, '지능': 3103, '휴식': 3104, '무관심하다': 3105, '독서': 3106, '학창': 3107, '비율': 3108, '전역': 3109, '소연': 3110, '구체': 3111, '볶음': 3112, '회원': 3113, '짤': 3114, '떡': 3115, '닥치다': 3116, '뿐이다': 3117, '겸': 3118, '졸라': 3119, '으': 3120, '사위': 3121, '처분': 3122, '마땅하다': 3123, '삼다': 3124, '따라다니다': 3125, '오기': 3126, '온통': 3127, '잘만': 3128, '배우': 3129, '응급실': 3130, '땀': 3131, '섞이다': 3132, '년도': 3133, '주민': 3134, '장만': 3135, '낙하산': 3136, '물가': 3137, '잠적': 3138, '더욱더': 3139, '배드민턴': 3140, '복용': 3141, '대장암': 3142, '끼우다': 3143, '누락': 3144, '분담': 3145, '해주시': 3146, '기울이다': 3147, '거짓': 3148, '메신저': 3149, '성화': 3150, '일반': 3151, '정책': 3152, '유럽': 3153, '게임기': 3154, '공채': 3155, '저금': 3156, '몽유병': 3157, '어쩐': 3158, '긁다': 3159, '아우': 3160, '변호사': 3161, '제수': 3162, '업다': 3163, '조르다': 3164, '고소하다': 3165, '여보': 3166, '울리다': 3167, '어째': 3168, '합의': 3169, '자네': 3170, '정해지다': 3171, '종류': 3172, '연희': 3173, '찌': 3174, '가출': 3175, '주방': 3176, '바지': 3177, '맥주': 3178, '보시': 3179, '괜': 3180, '잡': 3181, '예식장': 3182, '말썽': 3183, '치면': 3184, '메뉴': 3185, '자세': 3186, '오후': 3187, '국': 3188, '치기': 3189, '절': 3190, '반성': 3191, '양가': 3192, '빼먹다': 3193, '간이': 3194, '간절하다': 3195, '위주': 3196, '갇히다': 3197, '소문나다': 3198, '원망하다': 3199, '아래': 3200, '인들': 3201, '취': 3202, '지장': 3203, '멋대로': 3204, '공기': 3205, '예방': 3206, '여생': 3207, '지급': 3208, '주니': 3209, '시한': 3210, '단짝': 3211, '캠핑': 3212, '온라인': 3213, '모욕': 3214, '과를': 3215, '공유': 3216, '요즈음': 3217, '불륜': 3218, '문득': 3219, '두통': 3220, '야간': 3221, '이를': 3222, '참담하다': 3223, '성별': 3224, '빠듯해': 3225, '무례하다': 3226, '오전': 3227, '돋다': 3228, '함': 3229, '보험료': 3230, '별다르다': 3231, '개념': 3232, '완성': 3233, '구입': 3234, '상위': 3235, '교류': 3236, '낯선': 3237, '늙은이': 3238, '넉': 3239, '뇌': 3240, '불법': 3241, '감각': 3242, '학자금': 3243, '일으키다': 3244, '만남': 3245, '안전하다': 3246, '외국인': 3247, '쫓겨나다': 3248, '백화점': 3249, '아주머니': 3250, '출발': 3251, '독서실': 3252, '이집': 3253, '골치': 3254, '호텔': 3255, '기껏': 3256, '치질': 3257, '사랑받다': 3258, '차로': 3259, '남녀': 3260, '온대': 3261, '어쩌': 3262, '천': 3263, '꺼': 3264, '만하': 3265, '살찌다': 3266, '순서': 3267, '서두르다': 3268, '달리다': 3269, '매력': 3270, '연말': 3271, '가짜': 3272, '얻어먹다': 3273, '부지런하다': 3274, '비록': 3275, '뒷말': 3276, '양반': 3277, '치이다': 3278, '부상': 3279, '뒤늦다': 3280, '차질': 3281, '쉰': 3282, '쑤다': 3283, '거치다': 3284, '갖추다': 3285, '차지': 3286, '모이': 3287, '틀니': 3288, '건네다': 3289, '이과': 3290, '대출받다': 3291, '비리': 3292, '과로': 3293, '냥': 3294, '인맥': 3295, '급격하다': 3296, '위치': 3297, '동의': 3298, '부족': 3299, '심장마비': 3300, '심근경색': 3301, '예정일': 3302, '코지': 3303, '전날': 3304, '쌀쌀': 3305, '이라고는': 3306, '천만': 3307, '투석': 3308, '무작정': 3309, '대견하다': 3310, '주고받다': 3311, '광주': 3312, '공장': 3313, '사별': 3314, '담당자': 3315, '수시': 3316, '소변': 3317, '쑥스럽다': 3318, '기부': 3319, '호전': 3320, '서비스': 3321, '휠체어': 3322, '주거': 3323, '기능': 3324, '혈당': 3325, '한약': 3326, '구조': 3327, '위험': 3328, '가산': 3329, '슬리퍼': 3330, '서유기': 3331, '가치': 3332, '들르다': 3333, '최소한': 3334, '찢다': 3335, '희다': 3336, '훌륭하다': 3337, '몽땅': 3338, '이여': 3339, '제시': 3340, '쫓다': 3341, '끼니': 3342, '쏙': 3343, '돼지': 3344, '이랬는데': 3345, '신혼집': 3346, '터미널': 3347, '감추다': 3348, '도시': 3349, '주임': 3350, '망정': 3351, '아홉': 3352, '강도': 3353, '가사': 3354, '그릇': 3355, '걸어가다': 3356, '교사': 3357, '보호': 3358, '사적': 3359, '비행기': 3360, '썩': 3361, '결혼식장': 3362, '하객': 3363, '억': 3364, '아랫사람': 3365, '임플란트': 3366, '폭락': 3367, '공허하다': 3368, '기계로': 3369, '때로는': 3370, '기존': 3371, '시스템': 3372, '밟다': 3373, '보조': 3374, '수행': 3375, '문서': 3376, '막내딸': 3377, '후반': 3378, '적어지다': 3379, '케이크': 3380, '낙담': 3381, '조기': 3382, '결재': 3383, '여쭈다': 3384, '전원주택': 3385, '가능성': 3386, '협상': 3387, '서먹해지다': 3388, '고용': 3389, '졸업식': 3390, '베': 3391, '염세': 3392, '어둡다': 3393, '원만하다': 3394, '풍족하다': 3395, '거동': 3396, '가득하다': 3397, '노래방': 3398, '낭비': 3399, '화낼': 3400, '프레': 3401, '테이': 3402, '션': 3403, '장례': 3404, '담보': 3405, '좀처럼': 3406, '유치원': 3407, '무심하다': 3408, '환멸감': 3409, '뇌출혈': 3410, '부산': 3411, '반기다': 3412, '고개': 3413, '결제': 3414, '되찾다': 3415, '수당': 3416, '직전': 3417, '꾸중': 3418, '삼촌': 3419, '늘어서다': 3420, '증세': 3421, '평일': 3422, '소득': 3423, '택배': 3424, '지목': 3425, '복학생': 3426, '거여': 3427, '똥차': 3428, '으음': 3429, '신천지': 3430, '비위': 3431, '이러니': 3432, '효자': 3433, '본': 3434, '쫌': 3435, '아가씨': 3436, '설': 3437, '도망치다': 3438, '헤이': 3439, '서방': 3440, '도우미': 3441, '볼일': 3442, '감시': 3443, '꼬': 3444, '끌리다': 3445, '안고': 3446, '디자인': 3447, '시아버지': 3448, '용': 3449, '이구나': 3450, '충고': 3451, '양심': 3452, '자라': 3453, '리가': 3454, '늘어놓다': 3455, '대장': 3456, '심리': 3457, '유부': 3458, '향': 3459, '시집가다': 3460, '강사': 3461, '알아듣다': 3462, '재료': 3463, '놀란': 3464, '번만': 3465, '머리카락': 3466, '닦달': 3467, '와중': 3468, '열정': 3469, '지저분하다': 3470, '투성이': 3471, '순위': 3472, '변경': 3473, '주제가': 3474, '후원': 3475, '번거롭다': 3476, '피아노': 3477, '성사': 3478, '위협': 3479, '정체': 3480, '폰': 3481, '사치': 3482, '불이익': 3483, '호감': 3484, '다짐': 3485, '명문': 3486, '충돌': 3487, '슈퍼': 3488, '모로': 3489, '는커녕': 3490, '몸무게': 3491, '큰딸': 3492, '접촉': 3493, '장학금': 3494, '언성': 3495, '대응': 3496, '틀': 3497, '방치': 3498, '단순': 3499, '정정': 3500, '동업': 3501, '기구': 3502, '제자리': 3503, '여가': 3504, '더듬다': 3505, '월요일': 3506, '시즌': 3507, '소음': 3508, '임금': 3509, '심사': 3510, '빠듯한데': 3511, '몸매': 3512, '타박': 3513, '투': 3514, '화장품': 3515, '성희롱': 3516, '장수': 3517, '공개': 3518, '활발하다': 3519, '바이러스': 3520, '한소리': 3521, '갈아': 3522, '몇번': 3523, '간부': 3524, '밀리': 3525, '잠그다': 3526, '혼수상태': 3527, '어유': 3528, '마당': 3529, '가을': 3530, '만사': 3531, '실장': 3532, '실리다': 3533, '지은': 3534, '첨': 3535, '엉뚱하다': 3536, '이따': 3537, '꼬투리': 3538, '주머니': 3539, '우유': 3540, '아름답다': 3541, '힘쓰다': 3542, '삘': 3543, '도서관': 3544, '장인어른': 3545, '낭비하다': 3546, '그간': 3547, '보채다': 3548, '해치다': 3549, '요가': 3550, '도리': 3551, '평범하다': 3552, '칼': 3553, '연락처': 3554, '안내': 3555, '음주': 3556, '과자': 3557, '윗사람': 3558, '토익': 3559, '달려오다': 3560, '나오니': 3561, '오줌': 3562, '목숨': 3563, '보호자': 3564, '뛰어가다': 3565, '이며': 3566, '외도': 3567, '은커녕': 3568, '이장': 3569, '만족': 3570, '낚시': 3571, '타인': 3572, '비아': 3573, '낯설다': 3574, '태풍': 3575, '친정엄마': 3576, '조차도': 3577, '등교': 3578, '헬스': 3579, '간병인': 3580, '여유도': 3581, '교무': 3582, '육십이': 3583, '날씬하다': 3584, '무능력하다': 3585, '체계': 3586, '반영': 3587, '휴일': 3588, '지우다': 3589, '승인': 3590, '예금': 3591, '유전': 3592, '자제': 3593, '절반': 3594, '방관': 3595, '유능하다': 3596, '권태기': 3597, '무산': 3598, '채팅': 3599, '보이스피싱': 3600, '단점': 3601, '서울대': 3602, '헛소문': 3603, '비추다': 3604, '충': 3605, '이서': 3606, '청춘': 3607, '쫓기다': 3608, '축': 3609, '상치': 3610, '배치': 3611, '깔끔하다': 3612, '자상하다': 3613, '거품': 3614, '성형': 3615, '콘서트': 3616, '시국': 3617, '극적': 3618, '코로나바이러스': 3619, '결핵': 3620, '경비': 3621, '마음껏': 3622, '자서': 3623, '봄': 3624, '직종': 3625, '노동': 3626, '피자': 3627, '앞서다': 3628, '애완동물': 3629, '라떼': 3630, '인거': 3631, '비키다': 3632, '아유': 3633, '단속': 3634, '단단하다': 3635, '튼튼하다': 3636, '범죄': 3637, '하드': 3638, '손대다': 3639, '팔고': 3640, '내보내다': 3641, '아이고': 3642, '편찮다': 3643, '귀로': 3644, '뚝': 3645, '도시락': 3646, '말대꾸': 3647, '감고': 3648, '쫓아오다': 3649, '자지': 3650, '인걸': 3651, '검토': 3652, '중독': 3653, '우리둘': 3654, '찍': 3655, '외근': 3656, '공격': 3657, '자리다': 3658, '실컷': 3659, '계시': 3660, '반지': 3661, '끌': 3662, '어딘가': 3663, '판이': 3664, '셔': 3665, '잡채': 3666, '곗돈': 3667, '처제': 3668, '수발': 3669, '뻥': 3670, '멤버': 3671, '영영': 3672, '지옥': 3673, '산소': 3674, '동영상': 3675, '또한': 3676, '약도': 3677, '사태': 3678, '망치': 3679, '샤워': 3680, '침': 3681, '만들기': 3682, '시더': 3683, '퉁': 3684, '발언': 3685, '지불': 3686, '음성': 3687, '입양': 3688, '말고도': 3689, '빼앗다': 3690, '하고만': 3691, '다단계': 3692, '여간': 3693, '텅': 3694, '마음먹다': 3695, '심각해지다': 3696, '끼어들다': 3697, '브랜드': 3698, '꽃다발': 3699, '접': 3700, '고정': 3701, '감축': 3702, '몫': 3703, '훈련': 3704, '크기': 3705, '진자': 3706, '오른': 3707, '퍼트': 3708, '톡방': 3709, '떨치다': 3710, '거란': 3711, '가보': 3712, '영양': 3713, '다짜고짜': 3714, '가벼워지다': 3715, '공평하다': 3716, '해소': 3717, '폐경': 3718, '화려하다': 3719, '벌이다': 3720, '달성': 3721, '절대로': 3722, '입덧': 3723, '보복': 3724, '불황': 3725, '상한': 3726, '편의점': 3727, '서서히': 3728, '타격': 3729, '평온하다': 3730, '요통': 3731, '정해진': 3732, '죽겠네': 3733, '진절머리': 3734, '새우다': 3735, '신중하다': 3736, '폭': 3737, '청약': 3738, '텃세': 3739, '부리고': 3740, '예산': 3741, '잠자다': 3742, '제자': 3743, '인력': 3744, '작가': 3745, '은사': 3746, '갑갑하다': 3747, '종목': 3748, '벌레': 3749, '적지': 3750, '호흡': 3751, '으로가': 3752, '그이': 3753, '몰려오다': 3754, '환승': 3755, '가치관': 3756, '업자': 3757, '멍청하다': 3758, '도르다': 3759, '방독면': 3760, '레전드': 3761, '김밥': 3762, '여보세요': 3763, '거려': 3764, '쌩': 3765, '웬일': 3766, '건의': 3767, '호': 3768, '일요일': 3769, '젠데': 3770, '차분하다': 3771, '그러나': 3772, '짠하다': 3773, '토요일': 3774, '배정': 3775, '차고': 3776, '졸이다': 3777, '엄살': 3778, '되돌리다': 3779, '쐬다': 3780, '부어': 3781, '다그치다': 3782, '현': 3783, '꺼지다': 3784, '만두': 3785, '나좀': 3786, '귀하다': 3787, '홍삼': 3788, '처남': 3789, '리지': 3790, '바가지': 3791, '근사하다': 3792, '엉': 3793, '통금': 3794, '쫓아가다': 3795, '걘': 3796, '모레': 3797, '박사': 3798, '수중': 3799, '야식': 3800, '랄': 3801, '에야': 3802, '명예': 3803, '각오': 3804, '튀다': 3805, '이세': 3806, '선수': 3807, '이래도': 3808, '고해': 3809, '극': 3810, '연장': 3811, '빨르다': 3812, '쥐': 3813, '흔하다': 3814, '민폐': 3815, '드라이브': 3816, '음주운전': 3817, '생선': 3818, '찬성': 3819, '어쩌겠어': 3820, '부치다': 3821, '장래': 3822, '쓰레기통': 3823, '쥐다': 3824, '밤새다': 3825, '측': 3826, '단골': 3827, '바닷가': 3828, '뻥튀기': 3829, '기절': 3830, '창문': 3831, '밥상': 3832, '최신': 3833, '망': 3834, '기복': 3835, '공기업': 3836, '꼴등': 3837, '축복': 3838, '엘리베이터': 3839, '수험생': 3840, '작고': 3841, '일구': 3842, '외부': 3843, '떠올리다': 3844, '수면': 3845, '일지': 3846, '시술': 3847, '시누이': 3848, '식탁': 3849, '던': 3850, '알코올': 3851, '평상시': 3852, '둥': 3853, '이미지': 3854, '시험지': 3855, '절친': 3856, '확률': 3857, '조깅': 3858, '채소': 3859, '정답': 3860, '말리': 3861, '환불': 3862, '내시': 3863, '시계': 3864, '폭언': 3865, '고모': 3866, '신규': 3867, '주네': 3868, '들뜨다': 3869, '여력': 3870, '교제': 3871, '기증': 3872, '몇몇': 3873, '변명': 3874, '충당': 3875, '신입생': 3876, '음료수': 3877, '암담하다': 3878, '불안': 3879, '구역': 3880, '종이': 3881, '불량': 3882, '상속': 3883, '가나': 3884, '소소하다': 3885, '조정': 3886, '키도': 3887, '내외': 3888, '노약': 3889, '침침하다': 3890, '십만': 3891, '정치': 3892, '가발': 3893, '변기': 3894, '논리': 3895, '위안': 3896, '막연하다': 3897, '복학': 3898, '생활관': 3899, '누굴': 3900, '필요없다': 3901, '왼쪽': 3902, '발휘': 3903, '재판': 3904, '경위': 3905, '오죽하다': 3906, '어기다': 3907, '소린': 3908, '부리': 3909, '첨부': 3910, '아무나': 3911, '메': 3912, '잡기': 3913, '감싸다': 3914, '작전': 3915, '해대': 3916, '숙이다': 3917, '막내아들': 3918, '삐지다': 3919, '묻히다': 3920, '디': 3921, '가르다': 3922, '은혜': 3923, '사가다': 3924, '번듯하다': 3925, '설사': 3926, '흉보다': 3927, '설날': 3928, '정신과': 3929, '들여다보다': 3930, '태산': 3931, '끝내': 3932, '뜨겁다': 3933, '노망': 3934, '팍': 3935, '믿어지다': 3936, '웬': 3937, '씀씀이': 3938, '우기다': 3939, '이신': 3940, '사나': 3941, '양쪽': 3942, '망신': 3943, '암튼': 3944, '자도': 3945, '도우': 3946, '원장': 3947, '공항': 3948, '구분': 3949, '사면': 3950, '손가락질': 3951, '리기': 3952, '이빨': 3953, '만들어지다': 3954, '주도': 3955, '부유하다': 3956, '착실하다': 3957, '허약하다': 3958, '따름': 3959, '생리': 3960, '가져다주다': 3961, '선정': 3962, '진상': 3963, '졸': 3964, '찍히다': 3965, '그럭저럭': 3966, '정밀': 3967, '친목': 3968, '늦둥이': 3969, '외국어': 3970, '각방': 3971, '거두다': 3972, '걱정거리': 3973, '휴학': 3974, '감염': 3975, '하늘나라': 3976, '성추행': 3977, '베풀다': 3978, '이랑은': 3979, '등수': 3980, '넘겨주다': 3981, '흔쾌하다': 3982, '인스타그램': 3983, '연속': 3984, '식이요법': 3985, '질책': 3986, '자책': 3987, '안이': 3988, '떨어뜨리다': 3989, '납부': 3990, '부작용': 3991, '생산': 3992, '그룹': 3993, '성차별': 3994, '금요일': 3995, '답변': 3996, '에어컨': 3997, '능률': 3998, '과중': 3999, '살아나다': 4000, '고가': 4001, '노안': 4002, '빈자리': 4003, '활용': 4004, '고려': 4005, '어버이날': 4006, '예고': 4007, '불합리': 4008, '교과서': 4009, '욕설': 4010, '연령': 4011, '가라앉다': 4012, '성과급': 4013, '강남': 4014, '당선': 4015, '뺨': 4016, '호흡기': 4017, '하교': 4018, '신용': 4019, '의대': 4020, '액': 4021, '학부모': 4022, '일진': 4023, '사직서': 4024, '안일하다': 4025, '반드시': 4026, '경쟁자': 4027, '무얼': 4028, '안중': 4029, '번번이': 4030, '복도': 4031, '기기': 4032, '물리치료': 4033, '부잣집': 4034, '이웃집': 4035, '덩어리': 4036, '춤추다': 4037, '최악': 4038, '안경': 4039, '마취': 4040, '목욕탕': 4041, '꼰': 4042, '존나': 4043, '어어어어': 4044, '모범': 4045, '지구대': 4046, '지구': 4047, '노크': 4048, '에서부터': 4049, '만해': 4050, '각': 4051, '거꾸로': 4052, '가세': 4053, '주유소': 4054, '느': 4055, '삼겹살': 4056, '원수': 4057, '헛': 4058, '자격': 4059, '나아': 4060, '살펴보다': 4061, '소풍': 4062, '미처': 4063, '싸가지': 4064, '매다': 4065, '일곱': 4066, '달려가다': 4067, '자기야': 4068, '진도': 4069, '볶다': 4070, '납품': 4071, '마침': 4072, '해약': 4073, '척척': 4074, '슬쩍': 4075, '신부': 4076, '표시': 4077, '가시': 4078, '부탁드리다': 4079, '섞다': 4080, '수리': 4081, '공사': 4082, '험하다': 4083, '끈': 4084, '장도': 4085, '신호': 4086, '만점': 4087, '자부심': 4088, '상무': 4089, '어쩐지': 4090, '레스토랑': 4091, '맛없다': 4092, '쏟아지다': 4093, '물르다': 4094, '스치다': 4095, '소리치다': 4096, '특별': 4097, '해당': 4098, '중심': 4099, '생전': 4100, '무식하다': 4101, '어긋나다': 4102, '대꾸': 4103, '려': 4104, '일억': 4105, '덩달아': 4106, '면박': 4107, '다만': 4108, '행운': 4109, '가든': 4110, '춥다': 4111, '털': 4112, '서먹하다': 4113, '미끄러지다': 4114, '반려견': 4115, '부딪치다': 4116, '무급': 4117, '서글퍼지다': 4118, '전화번호': 4119, '한평생': 4120, '진실': 4121, '스킨십': 4122, '꾸짖다': 4123, '꾸지람': 4124, '뱉다': 4125, '고발': 4126, '단계': 4127, '입자': 4128, '주부': 4129, '밀치다': 4130, '생색': 4131, '에서야': 4132, '수지': 4133, '어쩌려': 4134, '종합': 4135, '테스트': 4136, '사라': 4137, '승진도': 4138, '인지도': 4139, '셈': 4140, '정산': 4141, '학력': 4142, '횡령': 4143, '정장': 4144, '이어지다': 4145, '근력': 4146, '중단': 4147, '무니': 4148, '상여금': 4149, '일흔': 4150, '퇴임': 4151, '으로부터': 4152, '해방': 4153, '동거': 4154, '저혈압': 4155, '따라잡다': 4156, '입지': 4157, '데뷔': 4158, '샘': 4159, '식장': 4160, '절실': 4161, '절제': 4162, '지식': 4163, '약물': 4164, '시설': 4165, '주도하다': 4166, '낮추다': 4167, '분배': 4168, '가담': 4169, '베개': 4170, '어떠하다': 4171, '뒷담화': 4172, '하마터면': 4173, '승낙': 4174, '완주': 4175, '미대': 4176, '구속': 4177, '국내': 4178, '가망': 4179, '범위': 4180, '의치': 4181, '죄다': 4182, '늦': 4183, '자연스럽다': 4184, '액수': 4185, '선후배': 4186, '비결': 4187, '적적하다': 4188, '섬': 4189, '미움': 4190, '수령': 4191, '홍보': 4192, '일어나고': 4193, '동자': 4194, '빼앗기다': 4195, '수월하다': 4196, '외제': 4197, '바닥나다': 4198, '깁스': 4199, '빈혈': 4200, '생신': 4201, '권위': 4202, '집단': 4203, '경쟁률': 4204, '에피소드': 4205, '자동': 4206, '마인드': 4207, '남사': 4208, '컬투쇼': 4209, '가위': 4210, '그니': 4211, '여사': 4212, '그까짓': 4213, '연결': 4214, '사시': 4215, '불어': 4216, '된거': 4217, '단지': 4218, '대유': 4219, '나라고': 4220, '에나': 4221, '남인': 4222, '챙': 4223, '태': 4224, '정식': 4225, '춤': 4226, '계세': 4227, '살인': 4228, '헬스클럽': 4229, '순이': 4230, '여자도': 4231, '학': 4232, '라곤': 4233, '댕': 4234, '드레스': 4235, '이중': 4236, '부부싸움': 4237, '시세': 4238, '가구': 4239, '처녀': 4240, '붙이': 4241, '소화도': 4242, '박스': 4243, '으로나': 4244, '구르다': 4245, '전쟁': 4246, '운명': 4247, '죽지': 4248, '꼬마': 4249, '방안': 4250, '헤치다': 4251, '고비': 4252, '예물': 4253, '보증금': 4254, '피고': 4255, '전망': 4256, '구경': 4257, '덧': 4258, '계모임': 4259, '따끔하다': 4260, '펼치다': 4261, '계좌': 4262, '접수': 4263, '타고나다': 4264, '체질': 4265, '수록': 4266, '라야': 4267, '사채': 4268, '찌르다': 4269, '신가': 4270, '발달': 4271, '씹다': 4272, '딸내미': 4273, '지게': 4274, '으으응': 4275, '얇다': 4276, '전념': 4277, '검색': 4278, '이상형': 4279, '손잡다': 4280, '채널': 4281, '대수롭다': 4282, '휴지': 4283, '요리사': 4284, '참가': 4285, '조바심': 4286, '동떨어지다': 4287, '선호': 4288, '병동': 4289, '빈털터리': 4290, '무책임하다': 4291, '마케팅': 4292, '집의': 4293, '학급': 4294, '본가': 4295, '에너지': 4296, '내려놓다': 4297, '띄다': 4298, '잔병치레': 4299, '병세': 4300, '주체': 4301, '채점': 4302, '가식': 4303, '모델': 4304, '뇌종양': 4305, '겉도': 4306, '노산': 4307, '쌍둥이': 4308, '영역': 4309, '젊음': 4310, '돈벌이': 4311, '난동': 4312, '치마': 4313, '쪽지': 4314, '경영': 4315, '의존': 4316, '앞서': 4317, '남성': 4318, '밀려오다': 4319, '만으로는': 4320, '연극': 4321, '여럿': 4322, '중풍': 4323, '더군다나': 4324, '감성': 4325, '가계': 4326, '적용': 4327, '오가다': 4328, '연세': 4329, '대상자': 4330, '경제력': 4331, '손목': 4332, '공지': 4333, '경조사': 4334, '종교': 4335, '아픔': 4336, '토막': 4337, '축제': 4338, '돈독하다': 4339, '전전긍긍': 4340, '휘두르다': 4341, '또다시': 4342, '하나같이': 4343, '경향': 4344, '졸다': 4345, '폭발': 4346, '중환자실': 4347, '악성': 4348, '필요성': 4349, '움': 4350, '떡볶이': 4351, '확정': 4352, '기저귀': 4353, '올바르다': 4354, '조퇴': 4355, '당일': 4356, '비타민': 4357, '차단': 4358, '안정감': 4359, '정직': 4360, '흉하다': 4361, '사느랗다': 4362, '방지': 4363, '모처럼': 4364, '동결': 4365, '철수': 4366, '클럽': 4367, '나잇': 4368, '군인': 4369, '점검': 4370, '수시로': 4371, '자석': 4372, '인재': 4373, '들려오다': 4374, '둔하다': 4375, '정신없이': 4376, '하락': 4377, '인성': 4378, '정의': 4379, '개인주의': 4380, '불안정하다': 4381, '양다리': 4382, '꼰대들': 4383, '발작': 4384, '틀어주다': 4385, '구나': 4386, '골지': 4387, '이케': 4388, '느이': 4389, '뱃속': 4390, '드럽다': 4391, '노리다': 4392, '파': 4393, '왕래': 4394, '애비': 4395, '대강': 4396, '휴': 4397, '법적': 4398, '충성': 4399, '빈손': 4400, '대한민국': 4401, '낡다': 4402, '구두': 4403, '한바탕': 4404, '집애': 4405, '이왕': 4406, '골골': 4407, '어영이': 4408, '다야': 4409, '넘어오다': 4410, '발뺌': 4411, '정돈': 4412, '소릴': 4413, '입히다': 4414, '걸치다': 4415, '유리': 4416, '떠보다': 4417, '눈뜨다': 4418, '조그만': 4419, '가만있다': 4420, '엇': 4421, '티비': 4422, '현관': 4423, '까칠하다': 4424, '까딱': 4425, '스토커': 4426, '쎄다': 4427, '전원': 4428, '멍': 4429, '돌이': 4430, '고급': 4431, '달도': 4432, '양말': 4433, '딸리다': 4434, '들통': 4435, '아버': 4436, '이도': 4437, '에서나': 4438, '프로포즈': 4439, '총': 4440, '협조': 4441, '끝장': 4442, '무지하다': 4443, '사먹다': 4444, '탁': 4445, '흘러가다': 4446, '오래오래': 4447, '얌전하다': 4448, '꿇다': 4449, '존댓말': 4450, '악': 4451, '무턱': 4452, '극단': 4453, '위아래': 4454, '자로': 4455, '상식': 4456, '흔들다': 4457, '밤늦다': 4458, '염치': 4459, '단호': 4460, '뽀뽀': 4461, '창고': 4462, '하루빨리': 4463, '무안하다': 4464, '교통': 4465, '약사': 4466, '힘없다': 4467, '여행가': 4468, '조상': 4469, '썩다': 4470, '헤매다': 4471, '후의': 4472, '튀어나오다': 4473, '마찰': 4474, '유난히': 4475, '명확하다': 4476, '틀어박히다': 4477, '트러블': 4478, '횟수': 4479, '하찮다': 4480, '야속하다': 4481, '웃': 4482, '여든': 4483, '밤새우다': 4484, '대판': 4485, '일일': 4486, '알레르기': 4487, '우울': 4488, '수만': 4489, '정밀검사': 4490, '이따금': 4491, '선거': 4492, '어휴': 4493, '각종': 4494, '취득': 4495, '조직검사': 4496, '필라테스': 4497, '황혼': 4498, '약국': 4499, '뜬금없이': 4500, '고혈압약': 4501, '특징': 4502, '엄격하다': 4503, '뿌리다': 4504, '이루어지다': 4505, '던데': 4506, '꾀병': 4507, '오디션': 4508, '유튜버': 4509, '몇십': 4510, '투명인간': 4511, '제품': 4512, '시기하다': 4513, '만원': 4514, '숱': 4515, '폐가': 4516, '지연': 4517, '저항': 4518, '우승': 4519, '우승하다': 4520, '양육': 4521, '대형': 4522, '코드': 4523, '오십이': 4524, '운동장': 4525, '필수': 4526, '서랍': 4527, '염증': 4528, '수급': 4529, '큰소리치다': 4530, '문화센터': 4531, '제의': 4532, '기관지염': 4533, '형식': 4534, '용품': 4535, '출근길': 4536, '여덟': 4537, '동성': 4538, '연수': 4539, '문병': 4540, '실천': 4541, '합격자': 4542, '댄스': 4543, '소질': 4544, '참으로': 4545, '아이폰': 4546, '쫓아내다': 4547, '내쫓다': 4548, '상가': 4549, '상쾌하다': 4550, '믿음직하다': 4551, '직책': 4552, '배제': 4553, '모자': 4554, '입금': 4555, '허덕이다': 4556, '조율': 4557, '희귀': 4558, '촬영': 4559, '훈련소': 4560, '연상': 4561, '빼기': 4562, '깜빡깜빡': 4563, '독': 4564, '하여간': 4565, '노리': 4566, '치사하다': 4567, '잡아먹다': 4568, '가만두다': 4569, '미가': 4570, '손발': 4571, '잠기다': 4572, '차라': 4573, '다음주': 4574, '덤비다': 4575, '갑': 4576, '오냐': 4577, '나로': 4578, '주차': 4579, '호강': 4580, '호호': 4581, '때우다': 4582, '영장': 4583, '기록': 4584, '너그럽다': 4585, '국민': 4586, '패': 4587, '저리': 4588, '집앞': 4589, '우미': 4590, '이담': 4591, '퇴근길': 4592, '고도': 4593, '라이': 4594, '앞가림': 4595, '툭툭': 4596, '앞길': 4597, '비밀번호': 4598, '본적': 4599, '화재': 4600, '주정': 4601, '악착같이': 4602, '잠버릇': 4603, '바짝': 4604, '여러가지': 4605, '대뜸': 4606, '맞짱': 4607, '막무가내': 4608, '시민': 4609, '하여튼': 4610, '알뜰하다': 4611, '단칸': 4612, '먹어주다': 4613, '식히다': 4614, '빠져나가다': 4615, '자격지심': 4616, '설치다': 4617, '익히다': 4618, '국물': 4619, '하이': 4620, '사가': 4621, '사연': 4622, '부가': 4623, '실례': 4624, '실습': 4625, '촌스럽다': 4626, '시집살이': 4627, '흐뭇하다': 4628, '대도': 4629, '주저앉다': 4630, '솜씨': 4631, '모함': 4632, '오천만': 4633, '새삼': 4634, '졸리다': 4635, '머': 4636, '놨어': 4637, '내부': 4638, '숫자': 4639, '바퀴': 4640, '독하다': 4641, '탕': 4642, '도울': 4643, '쪽팔리다': 4644, '사주지': 4645, '동참': 4646, '쌀': 4647, '결론': 4648, '놀이동산': 4649, '해나': 4650, '체험': 4651, '상냥하다': 4652, '적자': 4653, '오백만': 4654, '과실': 4655, '잡일': 4656, '채택': 4657, '재무': 4658, '의하다': 4659, '무의미하다': 4660, '주의자': 4661, '언행': 4662, '명상': 4663, '관리자': 4664, '메일': 4665, '주먹': 4666, '문신': 4667, '밝혀지다': 4668, '삭감': 4669, '대중교통': 4670, '응급': 4671, '한시': 4672, '버티고': 4673, '그토록': 4674, '성인병': 4675, '견제': 4676, '상승': 4677, '부업': 4678, '마이너스': 4679, '불친절하다': 4680, '꿀': 4681, '핵심': 4682, '밤낮없이': 4683, '감격': 4684, '권고': 4685, '산더미': 4686, '실내': 4687, '유출': 4688, '정직하다': 4689, '불임': 4690, '기독교': 4691, '두기': 4692, '나약하다': 4693, '백혈병': 4694, '통지': 4695, '뻐근하다': 4696, '상심': 4697, '역사': 4698, '담그다': 4699, '객관': 4700, '매니저': 4701, '선글라스': 4702, '기세': 4703, '자가': 4704, '캐': 4705, '여행지': 4706, '사생활': 4707, '부서장': 4708, '교복': 4709, '밖에도': 4710, '제공': 4711, '유난': 4712, '분장': 4713, '어보': 4714, '학대': 4715, '하반기': 4716, '패턴': 4717, '가장이': 4718, '췌장암': 4719, '붉다': 4720, '인스턴트': 4721, '야채': 4722, '기러기': 4723, '바늘': 4724, '장점': 4725, '간염': 4726, '식은땀': 4727, '자궁': 4728, '남자에게': 4729, '분노하다': 4730, '아마도': 4731, '복습': 4732, '무단': 4733, '배경': 4734, '미세먼지': 4735, '두근거리다': 4736, '체육관': 4737, '서운해하다': 4738, '완쾌': 4739, '중도': 4740, '거짓말쟁이': 4741, '염': 4742, '복귀': 4743, '한단': 4744, '전만': 4745, '제거': 4746, '아침밥': 4747, '교내': 4748, '아흔': 4749, '면역': 4750, '백신': 4751, '착용': 4752, '계주': 4753, '사무직': 4754, '지방간': 4755, '치아': 4756, '오류': 4757, '떳떳하다': 4758, '저조하다': 4759, '흐름': 4760, '끊어지다': 4761, '빠듯': 4762, '물품': 4763, '애지중지': 4764, '점차': 4765, '비서': 4766, '과학': 4767, '외제차': 4768, '천국': 4769, '유통': 4770, '마시기': 4771, '전주': 4772, '외할머니': 4773, '실험': 4774, '횡단보도': 4775, '가정부': 4776, '홍수': 4777, '나눠지다': 4778, '자연재해': 4779, '화물차': 4780, '경주': 4781, '신용재': 4782, '아리랑': 4783, '마우스피스': 4784, '이랬더니': 4785, '으으': 4786, '박아': 4787, '비치다': 4788, '반납': 4789, '타령': 4790, '시원찮다': 4791, '강력': 4792, '노고': 4793, '감옥': 4794, '가계부': 4795, '조회': 4796, '놀이터': 4797, '욕먹다': 4798, '산지': 4799, '사거리': 4800, '밀고': 4801, '고소': 4802, '도장': 4803, '늘어지다': 4804, '선보다': 4805, '법도': 4806, '쌈': 4807, '하기는': 4808, '질색': 4809, '가래': 4810, '러신': 4811, '홧김': 4812, '나무': 4813, '임마': 4814, '이거지': 4815, '리모컨': 4816, '홀랑': 4817, '환상': 4818, '인색하다': 4819, '치명': 4820, '저만': 4821, '길들이다': 4822, '웨딩드레스': 4823, '굴': 4824, '이따가': 4825, '누리': 4826, '잡지': 4827, '다독이다': 4828, '재우다': 4829, '차원': 4830, '계급': 4831, '안남다': 4832, '까불다': 4833, '사모님': 4834, '쓸데없이': 4835, '켜': 4836, '두드리다': 4837, '아랫': 4838, '구멍': 4839, '부진': 4840, '스포츠': 4841, '바라지': 4842, '육체': 4843, '불리하다': 4844, '청국장': 4845, '꼬리': 4846, '제멋대로': 4847, '엄연하다': 4848, '둘러보다': 4849, '뻗다': 4850, '복장': 4851, '일본': 4852, '주선': 4853, '두절': 4854, '썩이다': 4855, '면허': 4856, '드러내다': 4857, '서고': 4858, '압류': 4859, '꺾다': 4860, '시위': 4861, '의무': 4862, '안기다': 4863, '양해': 4864, '마자': 4865, '냄비': 4866, '기어': 4867, '관심사': 4868, '맑다': 4869, '소금': 4870, '찝찝하다': 4871, '얕다': 4872, '미용실': 4873, '부린다': 4874, '늦추다': 4875, '천만다행': 4876, '전셋집': 4877, '마마': 4878, '사유': 4879, '코피': 4880, '운전면허': 4881, '이러하다': 4882, '렸': 4883, '작아지다': 4884, '녀': 4885, '희생양': 4886, '연휴': 4887, '바람나다': 4888, '유도': 4889, '체육복': 4890, '제약': 4891, '두운': 4892, '임종': 4893, '구한': 4894, '부축': 4895, '내정자': 4896, '왜냐하면': 4897, '간경변증': 4898, '툭': 4899, '위자료': 4900, '져서': 4901, '피로하다': 4902, '언짢다': 4903, '수석': 4904, '프로게이머': 4905, '버럭': 4906, '드물다': 4907, '알아차리다': 4908, '잔액': 4909, '상환': 4910, '옛': 4911, '업계': 4912, '조그마하다': 4913, '강릉': 4914, '반려': 4915, '총무': 4916, '언쟁': 4917, '저리다': 4918, '량': 4919, '두서': 4920, '격리': 4921, '뒷전': 4922, '별문제': 4923, '촉박하다': 4924, '나날': 4925, '하얘지다': 4926, '기립': 4927, '모집': 4928, '헛살았': 4929, '회피': 4930, '이득': 4931, '고지식하다': 4932, '얼떨떨하다': 4933, '곱': 4934, '금도': 4935, '이나마': 4936, '사내연애': 4937, '야구': 4938, '상실': 4939, '결실': 4940, '통제': 4941, '재력': 4942, '정성껏': 4943, '근래': 4944, '반년': 4945, '날카롭다': 4946, '피드백': 4947, '마구': 4948, '평판': 4949, '새엄마': 4950, '작품': 4951, '골절': 4952, '오진': 4953, '진찰': 4954, '경기도': 4955, '십년지기': 4956, '십대': 4957, '인형': 4958, '묘': 4959, '당직': 4960, '영희': 4961, '뚜렷하다': 4962, '그랬다고': 4963, '고독사': 4964, '뮤지컬': 4965, '이뤄지다': 4966, '해명': 4967, '크리스마스': 4968, '방역': 4969, '즐거움': 4970, '벗': 4971, '감량': 4972, '경매': 4973, '어느덧다': 4974, '사주면': 4975, '소방관': 4976, '밀': 4977, '정반대': 4978, '불필요하다': 4979, '축의금': 4980, '팔팔하다': 4981, '민감하다': 4982, '비어': 4983, '도리어': 4984, '심장병': 4985, '위염': 4986, '민원': 4987, '연고': 4988, '부위': 4989, '처량하다': 4990, '토론': 4991, '대입': 4992, '준비물': 4993, '예감': 4994, '데이터': 4995, '라기보다는': 4996, '어금니': 4997, '폐결핵': 4998, '가두다': 4999, '계기': 5000, '학생회': 5001, '학번': 5002, '트럭': 5003, '패밀리': 5004, '승': 5005, '썸': 5006, '강호동': 5007, '어플': 5008, '지네': 5009, '빠뜨리다': 5010, '오만': 5011, '호적': 5012, '감히': 5013, '느그': 5014, '나가요': 5015, '수상': 5016, '뀌': 5017, '우': 5018, '갈라': 5019, '신분': 5020, '워치': 5021, '만회': 5022, '골목': 5023, '용이': 5024, '전과자': 5025, '짱': 5026, '맘껏': 5027, '저쪽': 5028, '모텔': 5029, '짚다': 5030, '소주': 5031, '델꼬': 5032, '손찌검': 5033, '여경': 5034, '꼬치꼬치': 5035, '허가': 5036, '두시': 5037, '빤스': 5038, '이쯤': 5039, '허세': 5040, '에가': 5041, '차근차근': 5042, '일루': 5043, '잇다': 5044, '건성': 5045, '입력': 5046, '붓다': 5047, '공짜': 5048, '면회': 5049, '해달': 5050, '짐작': 5051, '솟다': 5052, '명령': 5053, '덕이': 5054, '이불': 5055, '어떤': 5056, '부드럽다': 5057, '작정': 5058, '상이': 5059, '풍경': 5060, '유치하다': 5061, '특강': 5062, '굽': 5063, '엠티': 5064, '형부': 5065, '모범생': 5066, '속인': 5067, '출세': 5068, '올려놓다': 5069, '어쩌다가': 5070, '우정': 5071, '접대': 5072, '먹이': 5073, '그린': 5074, '이참': 5075, '악담': 5076, '사전': 5077, '깊이': 5078, '파트너': 5079, '싱겁다': 5080, '한도': 5081, '았': 5082, '꼬박': 5083, '통쾌하다': 5084, '물러나다': 5085, '의사소통': 5086, '연구': 5087, '지원이': 5088, '걸어오다': 5089, '찜찜하다': 5090, '고의': 5091, '만이라도': 5092, '보양식': 5093, '무인도': 5094, '보신': 5095, '응대': 5096, '길가': 5097, '옥상': 5098, '가신': 5099, '변': 5100, '유쾌하다': 5101, '식욕': 5102, '방과': 5103, '위독하다': 5104, '노년기': 5105, '틀림없다': 5106, '괜스레': 5107, '땅값': 5108, '폐업': 5109, '나무라다': 5110, '투자가': 5111, '보드': 5112, '임용고시': 5113, '오피스텔': 5114, '독신': 5115, '덩': 5116, '여야': 5117, '치레': 5118, '끊임없다': 5119, '담기다': 5120, '사우나': 5121, '일정하다': 5122, '기일': 5123, '충전': 5124, '증후군': 5125, '임산부': 5126, '유명': 5127, '추': 5128, '한정': 5129, '병마': 5130, '팔리다': 5131, '오로지': 5132, '시합': 5133, '난폭하다': 5134, '경치': 5135, '운동화': 5136, '전반': 5137, '안절부절': 5138, '상금': 5139, '덜컥': 5140, '항의': 5141, '경과': 5142, '미흡하다': 5143, '봉사활동': 5144, '율': 5145, '퍼뜨리': 5146, '수십': 5147, '실행': 5148, '귓등': 5149, '지향': 5150, '화면': 5151, '뇌수막염': 5152, '까지의': 5153, '성급하다': 5154, '당구': 5155, '본받다': 5156, '상담사': 5157, '계약서': 5158, '재계약': 5159, '현상': 5160, '숨쉬기': 5161, '명인': 5162, '제법': 5163, '중요성': 5164, '오락가락': 5165, '즙': 5166, '도태': 5167, '산업': 5168, '공통': 5169, '산후조리원': 5170, '소송': 5171, '사이트': 5172, '화상': 5173, '아르바이트생': 5174, '고약하다': 5175, '조롱': 5176, '분만': 5177, '휴대전화': 5178, '진전': 5179, '먹듯': 5180, '진통': 5181, '기안': 5182, '워크숍': 5183, '노화': 5184, '보도': 5185, '알람': 5186, '공경': 5187, '수술실': 5188, '결근': 5189, '매점': 5190, '탕진': 5191, '버튼': 5192, '비실': 5193, '감소': 5194, '팀워크': 5195, '제라': 5196, '분석': 5197, '피시방': 5198, '정당하다': 5199, '에까지': 5200, '주사기': 5201, '만큼의': 5202, '꾹': 5203, '빈곤하다': 5204, '승무원': 5205, '품다': 5206, '파킨슨병': 5207, '계곡': 5208, '맛집': 5209, '그다지': 5210, '투기': 5211, '안과': 5212, '잇몸': 5213, '여부': 5214, '관념': 5215, '임대': 5216, '후기': 5217, '말년': 5218, '간경화': 5219, '성하다': 5220, '박탈': 5221, '공휴일': 5222, '심부전증': 5223, '자동화': 5224, '사오': 5225, '직위': 5226, '갓': 5227, '유전자': 5228, '빵집': 5229, '실로': 5230, '나이라': 5231, '일수록': 5232, '설문조사': 5233, '추진': 5234, '린': 5235, '감자': 5236, '파견': 5237, '형성': 5238, '스카우트': 5239, '간혹': 5240, '깜박': 5241, '가운데': 5242, '원룸': 5243, '댓글': 5244, '얼어붙다': 5245, '하나님': 5246, '합의금': 5247, '엎': 5248, '터치': 5249, '다혈질': 5250, '점도': 5251, '마저도': 5252, '막걸리': 5253, '모금': 5254, '특성': 5255, '숙소': 5256, '조교': 5257, '어설프다': 5258, '맨발': 5259, '노하우': 5260, '놀랍다': 5261, '탱크': 5262, '제모': 5263, '이갈이': 5264, '페북': 5265, '대포': 5266, '보영': 5267, '아오': 5268, '노홍철': 5269, '아드님': 5270, '겉절이': 5271, '시오': 5272, '기름': 5273, '먼일': 5274, '옷벗다': 5275, '사방': 5276, '무지': 5277, '뚜껑': 5278, '림': 5279, '간지': 5280, '쉿': 5281, '아이스크림': 5282, '도둑질': 5283, '우회': 5284, '분통': 5285, '성도': 5286, '각서': 5287, '그딴': 5288, '오거': 5289, '이래저래': 5290, '뽕': 5291, '맵다': 5292, '금지': 5293, '려니': 5294, '재주': 5295, '싸인': 5296, '버는데': 5297, '베다': 5298, '환': 5299, '엎어지다': 5300, '한가하다': 5301, '냉정하다': 5302, '암만': 5303, '갈수': 5304, '확보': 5305, '수사': 5306, '한적': 5307, '벌벌': 5308, '연체': 5309, '딴사람': 5310, '쉬엄쉬엄': 5311, '샌드위치': 5312, '똑': 5313, '내뱉다': 5314, '목욕': 5315, '안녕': 5316, '청구': 5317, '삐': 5318, '웨딩': 5319, '집합': 5320, '코치': 5321, '나물': 5322, '용다': 5323, '성의': 5324, '스': 5325, '인격': 5326, '여대': 5327, '형사': 5328, '가시다': 5329, '미끄럽다': 5330, '엘': 5331, '지라': 5332, '어젠': 5333, '하나로': 5334, '복직': 5335, '앉히다': 5336, '쇼': 5337, '별명': 5338, '어도': 5339, '재건축': 5340, '임시': 5341, '커플링': 5342, '상대로': 5343, '융통성': 5344, '껍데기': 5345, '살수': 5346, '우릴': 5347, '훅': 5348, '익다': 5349, '타입': 5350, '깔보다': 5351, '보탬': 5352, '차비': 5353, '스트레칭': 5354, '남남': 5355, '색시': 5356, '범죄자': 5357, '불량하다': 5358, '마는': 5359, '여건': 5360, '숟가락': 5361, '덤벼': 5362, '야자': 5363, '습': 5364, '팔십': 5365, '난이': 5366, '얼다': 5367, '도덕': 5368, '마음속': 5369, '화끈': 5370, '교체': 5371, '뛰어들다': 5372, '환영': 5373, '예단': 5374, '방도': 5375, '뒤치다꺼리': 5376, '이해도': 5377, '리도': 5378, '찾아다니다': 5379, '서든': 5380, '억이': 5381, '꾸리': 5382, '연하': 5383, '저렴하다': 5384, '불쑥': 5385, '고만': 5386, '닫히다': 5387, '교차': 5388, '자기계발': 5389, '곡': 5390, '암울하다': 5391, '자극': 5392, '호스피스': 5393, '한의원': 5394, '활기차다': 5395, '네트워크': 5396, '갑작스레': 5397, '건너다': 5398, '섣불리': 5399, '사보다': 5400, '피우지': 5401, '인신공격': 5402, '조리': 5403, '옛말': 5404, '뇌경색': 5405, '게시판': 5406, '능숙하다': 5407, '적절하다': 5408, '남매': 5409, '화기': 5410, '무력하다': 5411, '깨닫다': 5412, '킥': 5413, '낙방': 5414, '활기': 5415, '연루': 5416, '설정': 5417, '협심증': 5418, '알아내다': 5419, '자율학습': 5420, '영문': 5421, '칸': 5422, '빠듯하': 5423, '개운하다': 5424, '소견': 5425, '이겠다': 5426, '수년': 5427, '경비원': 5428, '침착하다': 5429, '선언': 5430, '한없이': 5431, '이던': 5432, '급성': 5433, '공로': 5434, '위층': 5435, '친언니': 5436, '유급': 5437, '버느': 5438, '구글': 5439, '빌라': 5440, '트레이너': 5441, '건네주다': 5442, '지점': 5443, '학창시절': 5444, '턱걸이': 5445, '노출': 5446, '직설': 5447, '치솟다': 5448, '한탄': 5449, '훌쩍': 5450, '당기다': 5451, '모호하다': 5452, '원피스': 5453, '파산': 5454, '수빈': 5455, '투덜대다': 5456, '향수': 5457, '혼잣말': 5458, '탁구': 5459, '앞집': 5460, '싱숭생숭하다': 5461, '미용': 5462, '시원섭섭하다': 5463, '허비하다': 5464, '부족함': 5465, '투덜거리다': 5466, '반도': 5467, '쪼들리다': 5468, '금주': 5469, '러닝머신': 5470, '주연': 5471, '문의': 5472, '유리하다': 5473, '따갑다': 5474, '헛된': 5475, '장마': 5476, '멍하니': 5477, '정지': 5478, '지면': 5479, '규제': 5480, '진솔하다': 5481, '낯가림': 5482, '예체능': 5483, '최소': 5484, '정학': 5485, '분도': 5486, '카네이션': 5487, '최저': 5488, '증언': 5489, '증오': 5490, '캠프': 5491, '욱해': 5492, '원통': 5493, '동년배': 5494, '부사': 5495, '민지': 5496, '말수': 5497, '어학': 5498, '등하교': 5499, '학생회장': 5500, '매월': 5501, '머물다': 5502, '애로': 5503, '기관': 5504, '께선': 5505, '물질': 5506, '지난날': 5507, '만도': 5508, '발음': 5509, '공동': 5510, '협업': 5511, '부터가': 5512, '신사': 5513, '신약': 5514, '차림': 5515, '오픈': 5516, '위급하다': 5517, '구급차': 5518, '지체': 5519, '회계': 5520, '본능': 5521, '수영장': 5522, '회사원': 5523, '아쉬움': 5524, '처참하다': 5525, '적령': 5526, '오른쪽': 5527, '전신': 5528, '번다': 5529, '중요': 5530, '규모': 5531, '양치질': 5532, '전담': 5533, '무난': 5534, '발병': 5535, '여윳돈': 5536, '보청기': 5537, '연배': 5538, '아두': 5539, '비정상': 5540, '처자': 5541, '출가': 5542, '산재': 5543, '화난': 5544, '슥': 5545, '귀촌': 5546, '소설': 5547, '구토': 5548, '바르게': 5549, '부끄러움': 5550, '안면': 5551, '따위': 5552, '웹툰': 5553, '률': 5554, '격식': 5555, '문제점': 5556, '계열': 5557, '허벅지': 5558, '소셜': 5559, '걸음': 5560, '시가': 5561, '당번': 5562, '갑질': 5563, '일기': 5564, '부적': 5565, '연도': 5566, '장래희망': 5567, '나날이': 5568, '한국말': 5569, '테이블': 5570, '잊혀지다': 5571, '맞춤법': 5572, '분양': 5573, '초음파': 5574, '오징어': 5575, '제대': 5576, '집들이': 5577, '원대': 5578, '팬': 5579, '뭉치다': 5580, '쪼개다': 5581, '편집': 5582, '김치찌개': 5583, '복판': 5584, '흐': 5585, '애완견': 5586, '일어': 5587, '면도기': 5588, '생명체': 5589, '강연': 5590, '페이스북': 5591, '유아': 5592, '친가': 5593, '흐흐': 5594, '양세형': 5595, '이효리': 5596, '크크': 5597, '일병': 5598, '혜정': 5599, '어지간하다': 5600, '오신': 5601, '된장': 5602, '사신': 5603, '말귀': 5604, '뭣': 5605, '탱': 5606, '파스': 5607, '바로바로': 5608, '합류': 5609, '심심': 5610, '천사': 5611, '기전': 5612, '쌩까다': 5613, '전경': 5614, '재결합': 5615, '신어': 5616, '양복': 5617, '할인': 5618, '건너가다': 5619, '안쪽': 5620, '사납다': 5621, '대야': 5622, '보나': 5623, '독차지': 5624, '허허': 5625, '두루': 5626, '분리': 5627, '당사자': 5628, '검': 5629, '신지': 5630, '쵸': 5631, '흉내': 5632, '언닌': 5633, '글세': 5634, '해오': 5635, '똥집': 5636, '치자': 5637, '이리저리': 5638, '해석': 5639, '인권': 5640, '참나': 5641, '시동생': 5642, '몸땡': 5643, '키스': 5644, '쓰시': 5645, '저장': 5646, '방구': 5647, '정신차리다': 5648, '난리치다': 5649, '오케이': 5650, '플레이': 5651, '한판': 5652, '대체로': 5653, '손아래': 5654, '보아': 5655, '흔적': 5656, '술상': 5657, '벗기다': 5658, '밤중': 5659, '시내': 5660, '찰': 5661, '덴': 5662, '입어보다': 5663, '사도': 5664, '수없이': 5665, '용도': 5666, '딱지': 5667, '권리': 5668, '진술': 5669, '못지않다': 5670, '경고': 5671, '맏': 5672, '한때': 5673, '주무르다': 5674, '싹싹하다': 5675, '조각': 5676, '벌떡': 5677, '잡아떼다': 5678, '압니': 5679, '박수': 5680, '뛰어다니다': 5681, '새신랑': 5682, '죄인': 5683, '방울': 5684, '일어서다': 5685, '미스': 5686, '연예': 5687, '후보': 5688, '언론': 5689, '앞뒤': 5690, '살얼음': 5691, '혹은': 5692, '귀신': 5693, '넥타이': 5694, '염색': 5695, '스케줄': 5696, '가꾸다': 5697, '서면': 5698, '맛보다': 5699, '쿵쿵': 5700, '세고': 5701, '내력': 5702, '증인': 5703, '찾아내다': 5704, '더미': 5705, '근무시간': 5706, '나대다': 5707, '엉덩이': 5708, '교': 5709, '유세': 5710, '풀어지다': 5711, '매정하다': 5712, '꾼': 5713, '본의': 5714, '욱': 5715, '거구': 5716, '신혼부부': 5717, '타자': 5718, '과잉': 5719, '소고기': 5720, '친분': 5721, '순식간': 5722, '금세': 5723, '쇠': 5724, '말걸': 5725, '코로': 5726, '궁리': 5727, '신부전증': 5728, '어중간하다': 5729, '갈구다': 5730, '나인': 5731, '정신건강': 5732, '악기': 5733, '장애인': 5734, '종업원': 5735, '순수하다': 5736, '나누기': 5737, '틈틈이': 5738, '햄버거': 5739, '영정': 5740, '쥐구멍': 5741, '코스': 5742, '결과물': 5743, '받치다': 5744, '홀': 5745, '일기장': 5746, '정중하다': 5747, '삼성': 5748, '기피': 5749, '물혹': 5750, '겉모습': 5751, '장염': 5752, '구석구석': 5753, '어머님께': 5754, '다름없다': 5755, '파탄': 5756, '무좀': 5757, '다소': 5758, '층간소음': 5759, '골탕': 5760, '생일도': 5761, '낙심': 5762, '인복': 5763, '게이트볼': 5764, '주목': 5765, '겨를': 5766, '글씨': 5767, '색깔': 5768, '매몰': 5769, '주관': 5770, '살걸': 5771, '필통': 5772, '해산물': 5773, '전염': 5774, '태연하다': 5775, '의학': 5776, '팍팍하다': 5777, '쓴소리': 5778, '힐': 5779, '모질다': 5780, '전액': 5781, '수법': 5782, '잘되지': 5783, '전기': 5784, '침체': 5785, '이성애자': 5786, '불리다': 5787, '캐나다': 5788, '장기간': 5789, '주간': 5790, '친화력': 5791, '가누다': 5792, '서먹서먹하다': 5793, '류머티즘': 5794, '신용등급': 5795, '로움': 5796, '툴툴댔어': 5797, '어지르다': 5798, '프랜차이즈': 5799, '기관지': 5800, '흥청망청': 5801, '알아채다': 5802, '서로서로': 5803, '언급': 5804, '납골당': 5805, '입상': 5806, '의외로': 5807, '편견': 5808, '빛': 5809, '실종': 5810, '어처구니없다': 5811, '밤낮': 5812, '가득': 5813, '민간요법': 5814, '화병': 5815, '양육비': 5816, '독거': 5817, '지난해': 5818, '노예': 5819, '승승장구': 5820, '야유회': 5821, '기재': 5822, '근속': 5823, '김씨': 5824, '툴툴거려': 5825, '우대': 5826, '밥값': 5827, '교대': 5828, '되풀이': 5829, '박람회': 5830, '간신히': 5831, '대학병원': 5832, '돌발': 5833, '매너': 5834, '매형': 5835, '과금': 5836, '하곤': 5837, '무려': 5838, '합병': 5839, '본부장': 5840, '기여': 5841, '라인': 5842, '이명': 5843, '트로트': 5844, '검소': 5845, '주변인': 5846, '누리다': 5847, '어기': 5848, '원한': 5849, '위장': 5850, '불투명하다': 5851, '쇠약하다': 5852, '윤': 5853, '편입': 5854, '어가': 5855, '굴지': 5856, '불화': 5857, '뚫리다': 5858, '탄탄하다': 5859, '작업복': 5860, '트림': 5861, '통계': 5862, '트': 5863, '단정': 5864, '어린이집': 5865, '구성원': 5866, '덜하다': 5867, '부추기다': 5868, '고구마': 5869, '아낌없이': 5870, '향상': 5871, '속물': 5872, '엮': 5873, '앤': 5874, '위선': 5875, '절차': 5876, '생생하다': 5877, '체념하다': 5878, '투표': 5879, '연습생': 5880, '살피다': 5881, '음식물': 5882, '퍼붓다': 5883, '난청': 5884, '신용카드': 5885, '인센티브': 5886, '산후': 5887, '태권도': 5888, '제목': 5889, '샴푸': 5890, '인테리어': 5891, '착취': 5892, '질서': 5893, '뒷산': 5894, '피임': 5895, '선생': 5896, '관리사': 5897, '수능시험': 5898, '특정': 5899, '지끈': 5900, '비대': 5901, '현기증': 5902, '시큰둥하다': 5903, '마중': 5904, '소꿉친구': 5905, '훈육': 5906, '용어': 5907, '가라앉히다': 5908, '엄하': 5909, '그대': 5910, '임대료': 5911, '재작년': 5912, '현명하다': 5913, '감수': 5914, '살길': 5915, '소파': 5916, '만취': 5917, '병가': 5918, '포': 5919, '맞장구': 5920, '고사하고': 5921, '기수': 5922, '태블릿': 5923, '대립': 5924, '높이': 5925, '흉터': 5926, '진액': 5927, '고위': 5928, '궁핍하다': 5929, '계정': 5930, '시험관': 5931, '휩쓸다': 5932, '다인': 5933, '이라곤': 5934, '심술': 5935, '주치의': 5936, '론': 5937, '틀어놓다': 5938, '상장': 5939, '복구': 5940, '낮잠': 5941, '컵라면': 5942, '이마': 5943, '행정': 5944, '파전': 5945, '몰입': 5946, '단정하다': 5947, '남친': 5948, '실업': 5949, '진출': 5950, '터널': 5951, '아홉시': 5952, '어저께': 5953, '초코': 5954, '승광': 5955, '땐데': 5956, '갤럭시': 5957, '애완': 5958, '이명숙': 5959, '타투': 5960, '코너': 5961, '아이패드': 5962, '고속버스': 5963, '코일': 5964, '표창장': 5965, '장하다': 5966, '어허': 5967, '멋': 5968, '지팡이': 5969, '댕겨': 5970, '뭣땜': 5971, '무전': 5972, '마음가짐': 5973, '딸년': 5974, '유진': 5975, '앞장서다': 5976, '주소': 5977, '쌍': 5978, '손길': 5979, '순경': 5980, '빡쎄': 5981, '매장': 5982, '자빠지다': 5983, '고깃집': 5984, '개떡': 5985, '천지': 5986, '발길': 5987, '닌': 5988, '쯧쯧': 5989, '비꼬다': 5990, '유치장': 5991, '날아오다': 5992, '엎드리다': 5993, '보안': 5994, '밥맛': 5995, '치도': 5996, '끙끙대다': 5997, '씩씩하다': 5998, '퉁퉁': 5999, '말끝': 6000, '뭐좀': 6001, '티끌': 6002, '가드': 6003, '정황': 6004, '델꾸': 6005, '팍팍': 6006, '번하다': 6007, '샵': 6008, '짓거리': 6009, '만만': 6010, '나가시': 6011, '개업': 6012, '청난': 6013, '대지': 6014, '기죽다': 6015, '고자질': 6016, '뚫다': 6017, '이보': 6018, '호출': 6019, '저건': 6020, '우애': 6021, '속옷': 6022, '잉': 6023, '그제야': 6024, '유머': 6025, '두고두고': 6026, '쬐다': 6027, '백프롭니': 6028, '갈래': 6029, '구십': 6030, '숭숭': 6031, '열심': 6032, '비명': 6033, '더럽히다': 6034, '일생': 6035, '뒹굴': 6036, '세기': 6037, '쓸리다': 6038, '김장': 6039, '천재': 6040, '원칙': 6041, '소모': 6042, '한일': 6043, '다녀가다': 6044, '가정사': 6045, '살살': 6046, '탕수육': 6047, '만년': 6048, '핏줄': 6049, '보석': 6050, '디자이너': 6051, '장녀': 6052, '먹히다': 6053, '부침개': 6054, '일절': 6055, '흠': 6056, '마늘': 6057, '묵은지': 6058, '타가': 6059, '답지': 6060, '찌개': 6061, '뛰어오다': 6062, '근본': 6063, '동선': 6064, '만큼도': 6065, '걸레': 6066, '어쩌라고': 6067, '봉지': 6068, '밀가루': 6069, '붙들다': 6070, '한눈': 6071, '우습다': 6072, '두르다': 6073, '뻐꾸기': 6074, '뻐꾹': 6075, '외상': 6076, '시외버스': 6077, '공적': 6078, '빚쟁이': 6079, '살맛': 6080, '범': 6081, '울고불고': 6082, '엉엉': 6083, '실시': 6084, '비겁하다': 6085, '도난': 6086, '저절로': 6087, '정신병': 6088, '애착': 6089, '예절': 6090, '같잖다': 6091, '딸꾹': 6092, '넘어뜨리다': 6093, '반지하': 6094, '바이어': 6095, '앤데': 6096, '장인': 6097, '번인': 6098, '으로라도': 6099, '거니': 6100, '실체': 6101, '줄줄이': 6102, '킬로': 6103, '이외': 6104, '세트': 6105, '헛산': 6106, '난대': 6107, '재개발': 6108, '방광염': 6109, '만료': 6110, '부고': 6111, '마킹': 6112, '평화롭다': 6113, '방황': 6114, '꽁초': 6115, '해롭다': 6116, '찍기': 6117, '완료': 6118, '텃밭': 6119, '더디다': 6120, '백세': 6121, '구성': 6122, '구질구질하다': 6123, '꼴찌': 6124, '토로': 6125, '알파벳': 6126, '남고': 6127, '항심': 6128, '나아가다': 6129, '영정사진': 6130, '사십': 6131, '타일러': 6132, '유전병': 6133, '저염식': 6134, '오늘내일': 6135, '이주': 6136, '주책': 6137, '뒷이야기': 6138, '치부': 6139, '깨뜨리다': 6140, '재취': 6141, '확장': 6142, '리포트': 6143, '시행': 6144, '증명': 6145, '습득': 6146, '쌩쌩하다': 6147, '이군': 6148, '혈관': 6149, '인문': 6150, '만드': 6151, '의료기기': 6152, '가뿐하다': 6153, '시큰거리다': 6154, '근거': 6155, '체지방': 6156, '그로': 6157, '사하다': 6158, '리더십': 6159, '산모': 6160, '짜증스럽다': 6161, '팔지': 6162, '롭': 6163, '감독': 6164, '흐리다': 6165, '갑상선': 6166, '험악하다': 6167, '오타': 6168, '위태': 6169, '파산하다': 6170, '입양아': 6171, '편도': 6172, '고서': 6173, '카메라': 6174, '열기': 6175, '자매': 6176, '옆구리': 6177, '채도': 6178, '풍': 6179, '정색': 6180, '숙취': 6181, '복부': 6182, '닭': 6183, '극심하다': 6184, '어마어마하다': 6185, '테니스': 6186, '바탕': 6187, '조작': 6188, '여겨지다': 6189, '뜻밖': 6190, '분기': 6191, '커리어': 6192, '대부': 6193, '공인': 6194, '대우받다': 6195, '다수': 6196, '너무도': 6197, '뱀술': 6198, '익': 6199, '무대': 6200, '혈액': 6201, '맞선': 6202, '냉전': 6203, '수저': 6204, '주년': 6205, '빈곤': 6206, '뒷모습': 6207, '도구': 6208, '더치페이': 6209, '먹고다': 6210, '사랑스럽다': 6211, '세지': 6212, '어리석다': 6213, '부조': 6214, '주기도': 6215, '안전': 6216, '회관': 6217, '하얗다': 6218, '측정': 6219, '아프리카': 6220, '내려지다': 6221, '절뚝': 6222, '얼떨결': 6223, '무마': 6224, '특근': 6225, '삭막하다': 6226, '다달이': 6227, '특기': 6228, '뒷받침': 6229, '근심': 6230, '가정폭력': 6231, '상습': 6232, '사드': 6233, '빙판': 6234, '강': 6235, '동일하다': 6236, '몰두하다': 6237, '되레': 6238, '제로': 6239, '일보': 6240, '차량': 6241, '전화기': 6242, '적막하다': 6243, '재검사': 6244, '곧바로': 6245, '돌변': 6246, '공책': 6247, '업적': 6248, '쌍욕': 6249, '생인': 6250, '밭': 6251, '자립하다': 6252, '가습기': 6253, '훈수': 6254, '어지럽히다': 6255, '공연': 6256, '둘걸': 6257, '사인': 6258, '수단': 6259, '수명': 6260, '단벌': 6261, '거처': 6262, '과로사': 6263, '인터뷰': 6264, '밝아지다': 6265, '은행원': 6266, '호의': 6267, '실업자': 6268, '성장': 6269, '입술': 6270, '노숙자': 6271, '기둥': 6272, '말주변': 6273, '정착': 6274, '창창하다': 6275, '마이크': 6276, '수많다': 6277, '고령': 6278, '대감': 6279, '지망': 6280, '호르몬': 6281, '가격표': 6282, '기밀': 6283, '박해': 6284, '자연스레': 6285, '강박': 6286, '나다니다': 6287, '얼버무리다': 6288, '킬로그램': 6289, '우려': 6290, '협력': 6291, '커피숍': 6292, '행성': 6293, '농구': 6294, '불확실하다': 6295, '딱딱하다': 6296, '우수': 6297, '충실하다': 6298, '출전': 6299, '교우': 6300, '결석': 6301, '물리': 6302, '수락': 6303, '드러나다': 6304, '궁': 6305, '면도': 6306, '볼걸': 6307, '수험': 6308, '글자': 6309, '내려앉다': 6310, '착오': 6311, '과속': 6312, '벌금': 6313, '파기': 6314, '여자아이': 6315, '모조리': 6316, '출석': 6317, '채식': 6318, '사두': 6319, '유망': 6320, '죽마고우': 6321, '영화관': 6322, '회계사': 6323, '묵살': 6324, '헐뜯다': 6325, '용법': 6326, '인적': 6327, '짝꿍': 6328, '점원': 6329, '이동해': 6330, '사과받다': 6331, '복합': 6332, '열중': 6333, '덤덤하다': 6334, '피아니스트': 6335, '술잔': 6336, '부인과': 6337, '악순환': 6338, '퍼뜨린': 6339, '다운': 6340, '비법': 6341, '복지사': 6342, '불경기': 6343, '극도': 6344, '주자': 6345, '개개인': 6346, '화내': 6347, '건축': 6348, '예습': 6349, '도달': 6350, '문턱': 6351, '개학': 6352, '신선하다': 6353, '가스': 6354, '플러스': 6355, '젖다': 6356, '외톨': 6357, '거액': 6358, '합리': 6359, '메세지': 6360, '경계': 6361, '방심하다': 6362, '도입': 6363, '갓난아기': 6364, '잔인하다': 6365, '탈퇴': 6366, '극구': 6367, '종식': 6368, '궤양': 6369, '진저리': 6370, '그러하다': 6371, '하진': 6372, '계발': 6373, '쾅': 6374, '억지': 6375, '정신병원': 6376, '퍼뜨렸어': 6377, '툴툴': 6378, '비롯': 6379, '취한': 6380, '외할아버지': 6381, '수용': 6382, '재롱': 6383, '심기': 6384, '가족사진': 6385, '통풍': 6386, '가해': 6387, '외동': 6388, '알선': 6389, '영수증': 6390, '연관': 6391, '치열하다': 6392, '움큼': 6393, '세뱃돈': 6394, '명목': 6395, '으로서의': 6396, '실시간': 6397, '컵': 6398, '배탈': 6399, '두근두근': 6400, '노조': 6401, '일차': 6402, '편안함': 6403, '봉투': 6404, '온화하다': 6405, '복통': 6406, '훈계': 6407, '패션': 6408, '명과': 6409, '비운': 6410, '몹쓸': 6411, '안산': 6412, '관광': 6413, '구내식당': 6414, '외딴': 6415, '환절기': 6416, '창작': 6417, '내리막': 6418, '욱하': 6419, '변비': 6420, '녹음': 6421, '적히다': 6422, '빈도': 6423, '물티슈': 6424, '사상': 6425, '효': 6426, '분량': 6427, '떠돌다': 6428, '찌그러지다': 6429, '끼리끼리': 6430, '나본': 6431, '빙수': 6432, '너희': 6433, '곤다': 6434, '시청자': 6435, '이광수': 6436, '여친': 6437, '하하': 6438, '근까': 6439, '가야금': 6440, '갈고': 6441, '정형돈': 6442, '박명수': 6443, '클로버': 6444, '곰돌이': 6445, '재방송': 6446, '케이팝': 6447, '녜': 6448, '읍': 6449, '윤아': 6450, '몽골': 6451, '노주현': 6452, '넣기': 6453, '시방': 6454, '목구멍': 6455, '민족': 6456, '뭡': 6457, '대만': 6458, '도모': 6459, '덥석': 6460, '대문': 6461, '겄': 6462, '볕': 6463, '수퍼': 6464, '고시원': 6465, '난자': 6466, '횟집': 6467, '가중': 6468, '어르다': 6469, '현관문': 6470, '미신': 6471, '촌': 6472, '쪼': 6473, '쟁이': 6474, '체포': 6475, '취조': 6476, '찜질': 6477, '두부': 6478, '지지다': 6479, '내비': 6480, '세라': 6481, '사식': 6482, '우와': 6483, '용의자': 6484, '각각': 6485, '리드': 6486, '존심': 6487, '뛰놀다': 6488, '잔디': 6489, '들이밀다': 6490, '낌새': 6491, '순찰': 6492, '말랬': 6493, '금수': 6494, '변덕': 6495, '한결같이': 6496, '열시': 6497, '질린다': 6498, '삼일': 6499, '쨘': 6500, '반쪽': 6501, '하디': 6502, '덜덜': 6503, '뒹굴뒹굴': 6504, '징징거리다': 6505, '썰렁하다': 6506, '진땀': 6507, '에미': 6508, '칼국수': 6509, '쩍': 6510, '씻기다': 6511, '방만': 6512, '이상아': 6513, '과부': 6514, '땡기다': 6515, '안방': 6516, '지독하다': 6517, '우연': 6518, '욕실': 6519, '뚜들기다': 6520, '찧다': 6521, '두번째': 6522, '줌': 6523, '주인공': 6524, '백마': 6525, '놨는데': 6526, '목걸이': 6527, '챙피': 6528, '칠하다': 6529, '줄줄': 6530, '배아': 6531, '댓': 6532, '통속': 6533, '뉘우치다': 6534, '셋째': 6535, '와아': 6536, '같드': 6537, '이드': 6538, '닳다': 6539, '쪼끔': 6540, '빈말': 6541, '사주': 6542, '없드': 6543, '재직': 6544, '나란하다': 6545, '불능': 6546, '이정': 6547, '안떨어지다': 6548, '서지': 6549, '다른사람': 6550, '잡아가다': 6551, '묵다': 6552, '고스': 6553, '먹여주다': 6554, '을해': 6555, '콩': 6556, '건배': 6557, '선입견': 6558, '난건': 6559, '관계자': 6560, '거만': 6561, '작은딸': 6562, '찔리다': 6563, '혼인신고': 6564, '부들': 6565, '상반기': 6566, '링거': 6567, '젓가락': 6568, '달랑': 6569, '진하다': 6570, '온건': 6571, '자수': 6572, '큰아버지': 6573, '합동': 6574, '갈비': 6575, '갈비찜': 6576, '쌩병': 6577, '열흘': 6578, '행여': 6579, '트레이닝': 6580, '술술': 6581, '문책': 6582, '섣부르다': 6583, '좀더': 6584, '철렁': 6585, '얽히다': 6586, '쩔쩔매다': 6587, '중매': 6588, '부끄럼': 6589, '송금': 6590, '명함': 6591, '제삿날': 6592, '방가': 6593, '주전자': 6594, '회화': 6595, '스타': 6596, '눈물나다': 6597, '맥': 6598, '즈': 6599, '곤욕': 6600, '롤': 6601, '최대': 6602, '뱀': 6603, '인물': 6604, '필': 6605, '아니꼽다': 6606, '캔': 6607, '사무소': 6608, '선약': 6609, '이태리': 6610, '당근': 6611, '시렁': 6612, '투입': 6613, '이시고': 6614, '새해': 6615, '운동신경': 6616, '전시': 6617, '소집': 6618, '쪼르르': 6619, '계약금': 6620, '확고하다': 6621, '간소': 6622, '기름값': 6623, '신제품': 6624, '금고': 6625, '시르다': 6626, '부디': 6627, '불고기': 6628, '그러드': 6629, '야박하다': 6630, '삼분': 6631, '들보': 6632, '놨': 6633, '쌀밥': 6634, '무자식': 6635, '어나': 6636, '칠판': 6637, '고시': 6638, '시청': 6639, '로비': 6640, '기약': 6641, '변동': 6642, '뇌리': 6643, '뀌었어': 6644, '거뜬하다': 6645, '대학가': 6646, '다급하다': 6647, '사교성': 6648, '날로': 6649, '보내오다': 6650, '치우치다': 6651, '반의': 6652, '토라': 6653, '무게': 6654, '불행': 6655, '스마트': 6656, '전업': 6657, '만화': 6658, '이메일': 6659, '연주': 6660, '볼펜': 6661, '듬직하다': 6662, '악한': 6663, '산악': 6664, '어수선하다': 6665, '게을리': 6666, '애애': 6667, '부숴': 6668, '불치': 6669, '프리랜서': 6670, '자유분방하다': 6671, '부정맥': 6672, '한구석': 6673, '요법': 6674, '지수': 6675, '옥': 6676, '진즉': 6677, '엑스레이': 6678, '자신만만하다': 6679, '결리다': 6680, '체면': 6681, '구두쇠': 6682, '진영': 6683, '교장': 6684, '눌리': 6685, '호들갑': 6686, '대사': 6687, '되돌아보다': 6688, '탈출': 6689, '구가': 6690, '동정': 6691, '양수': 6692, '성경': 6693, '용납': 6694, '조사해': 6695, '옹알': 6696, '일급': 6697, '경멸': 6698, '강화': 6699, '서술': 6700, '순산': 6701, '수포': 6702, '호소': 6703, '삭제': 6704, '중요시': 6705, '역량': 6706, '발주': 6707, '법원': 6708, '강력하다': 6709, '해체': 6710, '성소수자': 6711, '식비': 6712, '생존': 6713, '둥글다': 6714, '서슴없이': 6715, '알콩달콩': 6716, '남일': 6717, '비관': 6718, '과체중': 6719, '재난': 6720, '일치': 6721, '막심': 6722, '미경': 6723, '커녕': 6724, '밖에는': 6725, '달이다': 6726, '감원': 6727, '매진': 6728, '고달프다': 6729, '섭취': 6730, '내겐': 6731, '편두통': 6732, '열사병': 6733, '교환': 6734, '혈변': 6735, '바다로': 6736, '파업': 6737, '기타': 6738, '번지': 6739, '잇속': 6740, '경청': 6741, '왕복': 6742, '경화': 6743, '나볼': 6744, '기획서': 6745, '개입': 6746, '개도': 6747, '포트폴리오': 6748, '고역': 6749, '교묘하다': 6750, '대적': 6751, '석류': 6752, '강조': 6753, '순하다': 6754, '번복': 6755, '앱': 6756, '힘겹다': 6757, '시니어': 6758, '투명': 6759, '맞서다': 6760, '만끽': 6761, '병인': 6762, '해둘걸': 6763, '천하태평': 6764, '선천': 6765, '괴로움': 6766, '모진': 6767, '급전': 6768, '빈약하다': 6769, '스테이크': 6770, '감흥': 6771, '허위': 6772, '재해': 6773, '아토피': 6774, '검증': 6775, '고대': 6776, '전산': 6777, '오직': 6778, '툴툴거리': 6779, '짧아지다': 6780, '아인': 6781, '피크': 6782, '추워지다': 6783, '감회': 6784, '띄우다': 6785, '유부녀': 6786, '이어폰': 6787, '헛디디다': 6788, '낫질': 6789, '자원': 6790, '사직': 6791, '시급': 6792, '달라붙다': 6793, '차선': 6794, '창밖': 6795, '과음': 6796, '무릎관절': 6797, '악취': 6798, '극진하다': 6799, '캐릭터': 6800, '작은아들': 6801, '예방주사': 6802, '요점': 6803, '나들이': 6804, '삼수': 6805, '눈초리': 6806, '다정다감하다': 6807, '에게라도': 6808, '어필': 6809, '차차': 6810, '어처구니': 6811, '축가': 6812, '납득': 6813, '게이': 6814, '팽': 6815, '제만': 6816, '별도': 6817, '승급': 6818, '쉬쉬': 6819, '귀지': 6820, '어안': 6821, '벙벙하다': 6822, '묵묵하다': 6823, '장담': 6824, '영심': 6825, '움츠리다': 6826, '은퇴식': 6827, '들러붙다': 6828, '스스럼없이': 6829, '헛구역질': 6830, '본격': 6831, '항공': 6832, '아이야': 6833, '쇼크': 6834, '심장질환': 6835, '원도': 6836, '달력': 6837, '현대': 6838, '점잖다': 6839, '하란': 6840, '재검': 6841, '렀': 6842, '감쪽': 6843, '사탕': 6844, '흥미롭다': 6845, '치주염': 6846, '과식': 6847, '더부룩하다': 6848, '철회': 6849, '설치': 6850, '슬럼프': 6851, '품질': 6852, '약혼녀': 6853, '십오': 6854, '맞대다': 6855, '풍요': 6856, '쪽방': 6857, '멘토': 6858, '번의': 6859, '일주년': 6860, '공과': 6861, '분할': 6862, '실업계': 6863, '신부전': 6864, '랍시고': 6865, '양도': 6866, '주택연금': 6867, '만큼만': 6868, '트렌드': 6869, '포장': 6870, '노부': 6871, '조가': 6872, '이슈': 6873, '여자라서': 6874, '금제': 6875, '움츠러들다': 6876, '실무': 6877, '유형': 6878, '결': 6879, '제자리걸음': 6880, '잡곡': 6881, '학회': 6882, '자자하다': 6883, '일반인': 6884, '우산': 6885, '백일': 6886, '쌓이네': 6887, '두둑': 6888, '설립': 6889, '시시콜콜': 6890, '가하다': 6891, '친근하다': 6892, '이장님': 6893, '경제활동': 6894, '추태': 6895, '헤아리다': 6896, '수군대다': 6897, '아이템': 6898, '퍼': 6899, '호통': 6900, '가주': 6901, '낙서': 6902, '무서움': 6903, '이어도': 6904, '햇빛': 6905, '위약금': 6906, '연명': 6907, '지위': 6908, '옮': 6909, '헤어': 6910, '신물': 6911, '여지': 6912, '무관심': 6913, '제작': 6914, '선산': 6915, '와이셔츠': 6916, '보유': 6917, '십억': 6918, '우시': 6919, '자국': 6920, '에게까지': 6921, '오십만': 6922, '음반': 6923, '합리화': 6924, '떼쓰다': 6925, '애통하다': 6926, '대의': 6927, '미숙': 6928, '정서': 6929, '건조하다': 6930, '첫인상': 6931, '수집': 6932, '메모': 6933, '초보': 6934, '난임': 6935, '곳곳': 6936, '생활고': 6937, '운용': 6938, '기반': 6939, '통째': 6940, '놨더': 6941, '이차': 6942, '사고방식': 6943, '간접흡연': 6944, '임해': 6945, '다지': 6946, '물속': 6947, '패혈증': 6948, '월급쟁이': 6949, '까봐': 6950, '애틋하다': 6951, '참고서': 6952, '구인': 6953, '쩝쩝': 6954, '호기심': 6955, '시리다': 6956, '출산율': 6957, '취할': 6958, '어두워지다': 6959, '독박': 6960, '돋보기': 6961, '캄캄해지다': 6962, '동조': 6963, '라디오': 6964, '슈퍼맨': 6965, '어미': 6966, '단풍': 6967, '실태': 6968, '산행': 6969, '의상': 6970, '첫사랑': 6971, '붙임성': 6972, '비속어': 6973, '중재': 6974, '자소': 6975, '살찐': 6976, '요금': 6977, '비정규직': 6978, '펜': 6979, '세운': 6980, '중개인': 6981, '확대': 6982, '직후': 6983, '과격하다': 6984, '발가락': 6985, '라든가': 6986, '팔짱': 6987, '시점': 6988, '고심': 6989, '패딩': 6990, '공식': 6991, '위계': 6992, '사흘': 6993, '외톨이야': 6994, '생일상': 6995, '무리다': 6996, '작동': 6997, '녹초': 6998, '정형외과': 6999, '북받치다': 7000, '외형': 7001, '빠져나오다': 7002, '정거장': 7003, '디저트': 7004, '말문': 7005, '뷔페': 7006, '오래도록': 7007, '책임자': 7008, '삼백만': 7009, '부리면': 7010, '아찔하다': 7011, '근원': 7012, '일시': 7013, '절단': 7014, '불의': 7015, '집회': 7016, '최씨': 7017, '야구장': 7018, '심리상담': 7019, '으로써': 7020, '수나': 7021, '정비': 7022, '답시고': 7023, '부품': 7024, '혹사': 7025, '곰팡이': 7026, '자원봉사': 7027, '증권사': 7028, '골반': 7029, '시냐': 7030, '시련': 7031, '왕년': 7032, '둘러대다': 7033, '긴장도': 7034, '꿈속': 7035, '부시': 7036, '튀어': 7037, '반대편': 7038, '커다랗다': 7039, '독일': 7040, '오버': 7041, '나요': 7042, '열악하다': 7043, '흠칫': 7044, '농촌': 7045, '타당': 7046, '아첨': 7047, '까맣다': 7048, '티셔츠': 7049, '추하다': 7050, '매뉴얼': 7051, '한식': 7052, '보신탕': 7053, '감명': 7054, '전국': 7055, '시야': 7056, '자게': 7057, '무의식': 7058, '울산': 7059, '기차': 7060, '원광대': 7061, '케찹': 7062, '라든지': 7063, '광': 7064, '피어싱': 7065, '일화': 7066, '전통': 7067, '브레이크': 7068, '패널': 7069, '기질': 7070, '이수근': 7071, '언덕': 7072, '액션': 7073, '아씨': 7074, '포항': 7075, '시식': 7076, '쿵': 7077, '오키': 7078, '어으': 7079, '코빅': 7080, '빡치다': 7081, '광희': 7082, '이스': 7083, '대학로': 7084, '피오': 7085, '프로필': 7086, '가요제': 7087, '홍대': 7088, '전도': 7089, '인스타': 7090, '영등동': 7091, '원정': 7092, '윤민': 7093, '윤익': 7094, '주행': 7095, '쪼리': 7096, '예비군': 7097, '디워': 7098, '조선시대': 7099, '단아': 7100, '세영': 7101, '떠가다': 7102, '까닥': 7103, '닭다리': 7104, '소속': 7105, '꼬셔': 7106, '팔방': 7107, '삼시': 7108, '삼십분': 7109, '묵비권': 7110, '대낮': 7111, '설령': 7112, '어딘데': 7113, '방방': 7114, '아작': 7115, '피의자': 7116, '나땜': 7117, '헌': 7118, '아하': 7119, '깝깝혀': 7120, '갸': 7121, '애나': 7122, '삼키다': 7123, '말나': 7124, '밑반찬': 7125, '굴비': 7126, '딱이다': 7127, '긴급': 7128, '부터도': 7129, '출입': 7130, '누운': 7131, '어영부영': 7132, '뭉': 7133, '검문': 7134, '까짓': 7135, '사양': 7136, '울엄': 7137, '뛰어놀다': 7138, '남용': 7139, '기울다': 7140, '청소년': 7141, '징징대다': 7142, '쿨하다': 7143, '천둥': 7144, '번개': 7145, '땡': 7146, '삐뚤어지다': 7147, '수로': 7148, '홀라당': 7149, '대변인': 7150, '대니': 7151, '재다': 7152, '잠복': 7153, '주무': 7154, '서나': 7155, '찬물': 7156, '저하': 7157, '척해': 7158, '멋쟁이': 7159, '얜': 7160, '양호': 7161, '이형': 7162, '맹세': 7163, '백프로': 7164, '사비': 7165, '일종': 7166, '달인': 7167, '쪼그리다': 7168, '성미': 7169, '냉면': 7170, '이왕이면': 7171, '집어넣다': 7172, '말단': 7173, '이따위': 7174, '남자라면': 7175, '군기': 7176, '단합': 7177, '술값': 7178, '굽히다': 7179, '김팀': 7180, '빡세': 7181, '실전': 7182, '격투기': 7183, '겉보기': 7184, '아보': 7185, '본체': 7186, '실실': 7187, '까마득하다': 7188, '가관': 7189, '몸뚱이': 7190, '구실': 7191, '출동': 7192, '틈나다': 7193, '그런대로': 7194, '설다': 7195, '하다못해': 7196, '칫솔': 7197, '의외': 7198, '볼라': 7199, '파서': 7200, '소매치기': 7201, '열도': 7202, '냉랭하다': 7203, '안건': 7204, '쌩쑈': 7205, '눈좀': 7206, '수건': 7207, '여우': 7208, '엿': 7209, '김현': 7210, '그야': 7211, '폼': 7212, '삘이팍': 7213, '말아먹다': 7214, '내조': 7215, '영혼': 7216, '셋방': 7217, '친엄마': 7218, '쏟아내다': 7219, '썰다': 7220, '젓갈': 7221, '패물': 7222, '손위': 7223, '존대': 7224, '북': 7225, '각별': 7226, '퍼먹': 7227, '계란후라이': 7228, '노른자': 7229, '접시': 7230, '깨끗이': 7231, '들먹이다': 7232, '수감': 7233, '남부럽다': 7234, '알겄': 7235, '콕': 7236, '파주': 7237, '지워지다': 7238, '교도소': 7239, '생략': 7240, '고래고래': 7241, '갓집': 7242, '갈라지다': 7243, '모의': 7244, '끈질기다': 7245, '운전자': 7246, '한턱': 7247, '싸매다': 7248, '까탈': 7249, '덤벙대다': 7250, '매스컴': 7251, '토마토': 7252, '읽히다': 7253, '누군데': 7254, '삼백': 7255, '뿌리': 7256, '압': 7257, '노심초사': 7258, '퇴짜': 7259, '얹히다': 7260, '일찍이': 7261, '까발리다': 7262, '명예롭': 7263, '바란': 7264, '더구나': 7265, '눈곱': 7266, '휴게실': 7267, '간도': 7268, '껍질': 7269, '연필': 7270, '전치': 7271, '부서지다': 7272, '끓다': 7273, '핀': 7274, '장단': 7275, '스프': 7276, '물정': 7277, '압수': 7278, '개털': 7279, '족쇄': 7280, '객': 7281, '격차': 7282, '피지': 7283, '일억이': 7284, '까지가': 7285, '부러': 7286, '식성': 7287, '은애': 7288, '화이팅': 7289, '사골': 7290, '아슬아슬하다': 7291, '탈주': 7292, '방탄': 7293, '탑승': 7294, '이의': 7295, '조개': 7296, '제삼자': 7297, '조성': 7298, '상일': 7299, '콜라': 7300, '해둘': 7301, '내다보다': 7302, '부득이': 7303, '부로': 7304, '시지': 7305, '상병': 7306, '몸조리': 7307, '사위다': 7308, '까지나': 7309, '삼고': 7310, '랬': 7311, '지하': 7312, '신종': 7313, '초밥': 7314, '덜렁': 7315, '잡아당기다': 7316, '허심': 7317, '탄회': 7318, '여덟시': 7319, '형아': 7320, '야심': 7321, '상팔자': 7322, '간장': 7323, '해마다': 7324, '열두': 7325, '저녁때': 7326, '곤두박질': 7327, '세심': 7328, '소수자': 7329, '팔목': 7330, '취준생': 7331, '생애': 7332, '모욕감': 7333, '쥐꼬리': 7334, '예술': 7335, '보직': 7336, '피피티': 7337, '불규칙하다': 7338, '원만': 7339, '싸구려': 7340, '셨': 7341, '증가': 7342, '등등': 7343, '볼품': 7344, '면은': 7345, '외적인': 7346, '파괴': 7347, '완벽': 7348, '핑': 7349, '초년': 7350, '익숙': 7351, '사회인': 7352, '만행': 7353, '울음소리': 7354, '헛되': 7355, '경영학': 7356, '적성검사': 7357, '족보': 7358, '멸시': 7359, '어김없이': 7360, '특이하다': 7361, '그려지다': 7362, '일당': 7363, '침울하다': 7364, '일용직': 7365, '노인성': 7366, '회의실': 7367, '악성종양': 7368, '발등': 7369, '이송': 7370, '펀드매니저': 7371, '미묘하다': 7372, '곧장': 7373, '전자': 7374, '골병': 7375, '낙오': 7376, '실명': 7377, '보류': 7378, '업도': 7379, '재수술': 7380, '돌잔치': 7381, '전의': 7382, '스레': 7383, '푸른': 7384, '아비': 7385, '화이트': 7386, '맑은': 7387, '다잡다': 7388, '권한': 7389, '생소하다': 7390, '근교': 7391, '머무르다': 7392, '잡혀가다': 7393, '슈퍼마켓': 7394, '천장': 7395, '월말': 7396, '맴돌다': 7397, '안지': 7398, '제보': 7399, '부풀리다': 7400, '양일': 7401, '시간대': 7402, '출연': 7403, '여한': 7404, '정수기': 7405, '얼음': 7406, '출하': 7407, '유언': 7408, '리스트': 7409, '시급하다': 7410, '구먼': 7411, '관둘': 7412, '사들이다': 7413, '족구': 7414, '고령자': 7415, '솔선수범': 7416, '스팸': 7417, '용지': 7418, '각박하다': 7419, '가불': 7420, '전문성': 7421, '도자기': 7422, '상조': 7423, '마땅치': 7424, '메우다': 7425, '철학': 7426, '회수': 7427, '나일': 7428, '회한': 7429, '성전환': 7430, '삐끗': 7431, '엑셀': 7432, '고단': 7433, '한껏': 7434, '손편지': 7435, '오락': 7436, '순환': 7437, '암투': 7438, '명복': 7439, '몰골': 7440, '초췌하다': 7441, '뽐내다': 7442, '리스크': 7443, '늘그막': 7444, '달마': 7445, '격해지다': 7446, '울화': 7447, '아려': 7448, '허구': 7449, '입사시험': 7450, '대화방': 7451, '좌석': 7452, '괴물': 7453, '메스껍다': 7454, '수술대': 7455, '잔업': 7456, '악감': 7457, '얹혀살다': 7458, '증권': 7459, '월등하다': 7460, '손바닥': 7461, '뇌수술': 7462, '독단': 7463, '밤잠': 7464, '음란물': 7465, '평화': 7466, '입버릇': 7467, '서인': 7468, '연초': 7469, '배분': 7470, '연로': 7471, '반려동물': 7472, '불참': 7473, '들락날락': 7474, '뺑소니': 7475, '상부': 7476, '앞당기다': 7477, '학우': 7478, '녹즙': 7479, '시샘': 7480, '삐쩍': 7481, '콤플렉스': 7482, '십견': 7483, '임원진': 7484, '야호': 7485, '허물': 7486, '불가피하다': 7487, '파스타': 7488, '필름': 7489, '아파해': 7490, '고기만': 7491, '온천': 7492, '미네': 7493, '권력': 7494, '공통점': 7495, '동문': 7496, '허사': 7497, '공공': 7498, '개강': 7499, '자각': 7500, '패키지': 7501, '오리엔테이션': 7502, '기형': 7503, '일자': 7504, '뇌척수막': 7505, '손수': 7506, '인큐베이터': 7507, '개그': 7508, '통지서': 7509, '위조': 7510, '어눌하다': 7511, '실비': 7512, '잡무': 7513, '원활하다': 7514, '사경': 7515, '분류': 7516, '성찬': 7517, '배부르다': 7518, '태교': 7519, '야뇨증': 7520, '심리치료': 7521, '이사해': 7522, '구심': 7523, '주번': 7524, '사이비': 7525, '욕구': 7526, '침묵': 7527, '다한': 7528, '위생': 7529, '낫더': 7530, '셀': 7531, '가증': 7532, '외동딸': 7533, '수기': 7534, '거더': 7535, '겸손하다': 7536, '나위': 7537, '풍요롭': 7538, '품절': 7539, '보건소': 7540, '싱글': 7541, '곧잘': 7542, '경직': 7543, '전립선': 7544, '합심': 7545, '할멈': 7546, '역류성': 7547, '식도염': 7548, '이맘때': 7549, '시라': 7550, '어련하다': 7551, '지사': 7552, '올케': 7553, '업종': 7554, '지정': 7555, '선명하다': 7556, '뽀삐': 7557, '노여움': 7558, '삭히다': 7559, '수도권': 7560, '한국어': 7561, '비웃음': 7562, '약과': 7563, '대피': 7564, '강압': 7565, '절도': 7566, '식도': 7567, '분실': 7568, '편의': 7569, '병중': 7570, '울화통': 7571, '흥이': 7572, '무덤': 7573, '영진': 7574, '지대': 7575, '박대': 7576, '깨달': 7577, '막대': 7578, '조이다': 7579, '감상': 7580, '일박': 7581, '으로선': 7582, '죗값': 7583, '양로원': 7584, '수긍': 7585, '초초해': 7586, '항해': 7587, '근절': 7588, '자질': 7589, '바둑': 7590, '개방': 7591, '청력': 7592, '게이머': 7593, '행세': 7594, '에게나': 7595, '이력': 7596, '이해력': 7597, '친밀하다': 7598, '해킹': 7599, '초래': 7600, '스르': 7601, '짖다': 7602, '육십오': 7603, '응모': 7604, '메달': 7605, '구제': 7606, '러닝': 7607, '만큼이나': 7608, '재산세': 7609, '뜨개질': 7610, '뭉치': 7611, '처우': 7612, '입찰': 7613, '폭탄': 7614, '두껍다': 7615, '미지수': 7616, '일손': 7617, '사이즈': 7618, '캐비닛': 7619, '벗겨지다': 7620, '무심코': 7621, '번갈아': 7622, '장모': 7623, '구상': 7624, '풀칠': 7625, '제빵사': 7626, '텅텅': 7627, '산악회': 7628, '결단': 7629, '베이비': 7630, '주저': 7631, '기승': 7632, '간수치': 7633, '키로': 7634, '수련': 7635, '따오다': 7636, '자만': 7637, '방탄소년단': 7638, '식후': 7639, '착': 7640, '립스틱': 7641, '클래식': 7642, '비판': 7643, '기혼': 7644, '산후조리': 7645, '간직': 7646, '주랑': 7647, '경품': 7648, '성폭행': 7649, '갑상샘': 7650, '대외': 7651, '파손': 7652, '세미나': 7653, '종신': 7654, '트릴': 7655, '수요일': 7656, '줄곧': 7657, '에서만큼은': 7658, '대각선': 7659, '개미': 7660, '공대': 7661, '유리창': 7662, '넓어지다': 7663, '더러워지다': 7664, '일부분': 7665, '출시': 7666, '일주': 7667, '전공자': 7668, '꽂다': 7669, '빈번': 7670, '로고': 7671, '먼지': 7672, '블로그': 7673, '낭송': 7674, '오르내리다': 7675, '곤충': 7676, '당해': 7677, '월차': 7678, '오피스': 7679, '용종': 7680, '작물': 7681, '물주': 7682, '어림': 7683, '회상': 7684, '목발': 7685, '서질': 7686, '아웃': 7687, '쏠쏠하다': 7688, '즈음': 7689, '유서': 7690, '앞당겨지다': 7691, '롯': 7692, '일쑤': 7693, '팔찌': 7694, '혈액형': 7695, '화환': 7696, '감사패': 7697, '규율': 7698, '무언': 7699, '민철': 7700, '거도': 7701, '균형': 7702, '강인하다': 7703, '검다': 7704, '여운': 7705, '반수': 7706, '조로': 7707, '설문지': 7708, '신음': 7709, '갖은': 7710, '항목': 7711, '목사': 7712, '청소기': 7713, '친아빠': 7714, '혼전': 7715, '반면': 7716, '납작하다': 7717, '조짐': 7718, '피시': 7719, '빵점': 7720, '깍': 7721, '빠져들다': 7722, '공포': 7723, '인정이': 7724, '관계없이': 7725, '말동무': 7726, '역다': 7727, '견': 7728, '부실하다': 7729, '우쭐대다': 7730, '긴급하다': 7731, '좌': 7732, '돌연사': 7733, '공금': 7734, '야외': 7735, '고함': 7736, '파마': 7737, '우울함': 7738, '전교생': 7739, '분과': 7740, '축적': 7741, '에서까지': 7742, '풍기': 7743, '구청': 7744, '막바지': 7745, '경찰관': 7746, '연연하다': 7747, '순리': 7748, '뒤척': 7749, '수평': 7750, '무력감': 7751, '치유': 7752, '끝내기': 7753, '람': 7754, '법인': 7755, '설교': 7756, '행실': 7757, '진창': 7758, '헤프': 7759, '고문': 7760, '별별': 7761, '안색': 7762, '집세': 7763, '싱글벙글': 7764, '인공수정': 7765, '일터': 7766, '깔깔': 7767, '작당': 7768, '소아': 7769, '나락': 7770, '프로그래밍': 7771, '속도위반': 7772, '다그': 7773, '혼미하다': 7774, '매매': 7775, '개수': 7776, '건방지다': 7777, '라던가': 7778, '열두시': 7779, '전시회': 7780, '구월': 7781, '장비': 7782, '귀국': 7783, '행위': 7784, '패스트푸드': 7785, '벙어리': 7786, '뎌': 7787, '종말': 7788, '친딸': 7789, '천이': 7790, '미소': 7791, '달아나다': 7792, '나앉다': 7793, '질타': 7794, '다라': 7795, '적반하장': 7796, '회삿돈': 7797, '완고하다': 7798, '스승': 7799, '사진작가': 7800, '물놀이': 7801, '대물리다': 7802, '벼르': 7803, '리액션': 7804, '콜센터': 7805, '줄넘기': 7806, '과대': 7807, '운동선수': 7808, '영화배우': 7809, '무당': 7810, '딩크족': 7811, '한문': 7812, '숙지': 7813, '얹다': 7814, '비누': 7815, '혼쭐': 7816, '굵다': 7817, '오류로': 7818, '내과': 7819, '숨통': 7820, '하반신': 7821, '멘트': 7822, '뒷정리': 7823, '차일피일': 7824, '차기': 7825, '적립': 7826, '공익': 7827, '적합하다': 7828, '차려입다': 7829, '법률': 7830, '쑥떡': 7831, '선지': 7832, '멘탈': 7833, '팔씨름': 7834, '구강': 7835, '내비게이션': 7836, '큰집': 7837, '헤엄': 7838, '싸늘하다': 7839, '회식비': 7840, '화요일': 7841, '살피': 7842, '유가족': 7843, '컴': 7844, '플레인': 7845, '충분': 7846, '부재': 7847, '특수': 7848, '예측': 7849, '장단점': 7850, '부당': 7851, '확진': 7852, '아사코': 7853, '한국인': 7854, '라이딩': 7855, '증도': 7856, '하나라': 7857, '것일': 7858, '인간미': 7859, '우유부단하다': 7860, '모나': 7861, '순은': 7862, '악몽': 7863, '류': 7864, '얼룩': 7865, '업주': 7866, '다스리다': 7867, '외치다': 7868, '로맨스': 7869, '병시': 7870, '뒷돈': 7871, '자막': 7872, '속임수': 7873, '벼랑': 7874, '처사': 7875, '격': 7876, '곤혹': 7877, '팬클럽': 7878, '갑상선암': 7879, '꾸역꾸역': 7880, '고교': 7881, '배구': 7882, '하트': 7883, '고속도로': 7884, '볼링': 7885, '내막': 7886, '이단': 7887, '공용': 7888, '의기소침하다': 7889, '뚝딱': 7890, '스토리': 7891, '핸들': 7892, '성우': 7893, '룸메': 7894, '여섯시': 7895, '거가': 7896, '리얼': 7897, '이라기보다는': 7898, '꼰댄': 7899, '비슷': 7900, '이라든지': 7901, '알파': 7902, '존': 7903, '대란': 7904, '쪼금': 7905, '추리': 7906, '닝': 7907, '한복': 7908, '동그랗다': 7909, '배그': 7910, '불침번': 7911, '로보트': 7912, '개그맨': 7913, '빡': 7914, '참치': 7915, '안전벨트': 7916, '갤로퍼': 7917, '성호': 7918, '병장': 7919, '해병대': 7920, '연동': 7921, '무교': 7922, '진화': 7923, '철심': 7924, '페미': 7925, '현이': 7926, '노량진': 7927, '데꼬': 7928, '공포영화': 7929, '송송': 7930, '최면': 7931, '송대': 7932, '거즘': 7933, '짱구': 7934, '오른손': 7935, '코스트코': 7936, '수원': 7937, '영주': 7938, '홀스': 7939, '쇼파': 7940, '민호': 7941, '재희': 7942, '다육': 7943, '순풍': 7944, '눌렸어': 7945, '순덕': 7946, '송일국': 7947, '최고다': 7948, '지드': 7949, '무치다': 7950, '자알': 7951, '린데': 7952, '처갓집': 7953, '쫘악': 7954, '방자': 7955, '주름살': 7956, '심문': 7957, '이탈': 7958, '각별히': 7959, '당부': 7960, '활짝': 7961, '동이': 7962, '엄니': 7963, '지유': 7964, '워디': 7965, '미장원': 7966, '누구세요': 7967, '핸드백': 7968, '삼거리': 7969, '마르지': 7970, '독수공방': 7971, '먹거리': 7972, '인자': 7973, '스돕': 7974, '일이십': 7975, '수제비': 7976, '열쇠': 7977, '아들내미': 7978, '차출': 7979, '안녕하십니까': 7980, '무릅쓰': 7981, '특단': 7982, '점심때': 7983, '고추장': 7984, '집게': 7985, '잘알다': 7986, '저저': 7987, '한테라': 7988, '수상경찰': 7989, '임자': 7990, '추후': 7991, '조종': 7992, '따귀': 7993, '고대로': 7994, '잔통박': 7995, '재떨이': 7996, '이하고': 7997, '훑다': 7998, '위쪽': 7999, '닭찜': 8000, '이딴': 8001, '합': 8002, '꼼장어': 8003, '일학년': 8004, '부랴부랴': 8005, '린다': 8006, '년전': 8007, '연한': 8008, '오르락내리락': 8009, '잠복근무': 8010, '동태': 8011, '통통하다': 8012, '꺼뻑': 8013, '통신': 8014, '오든': 8015, '꿰': 8016, '털털': 8017, '그나저나': 8018, '되새기다': 8019, '남아나다': 8020, '달콤하다': 8021, '묶다': 8022, '울렁거리다': 8023, '단칼': 8024, '날수': 8025, '설레임': 8026, '깡패': 8027, '판사': 8028, '협회': 8029, '웬만큼': 8030, '엽기': 8031, '하므다': 8032, '올가을': 8033, '살로': 8034, '훤': 8035, '비유': 8036, '대수': 8037, '엇다': 8038, '대표이사': 8039, '인게': 8040, '빌어': 8041, '궈': 8042, '눈감다': 8043, '애칭': 8044, '연속극': 8045, '쫄쫄': 8046, '보나마나': 8047, '세탁기': 8048, '느닷없다': 8049, '안통': 8050, '언뜻': 8051, '애기야': 8052, '이신가': 8053, '별수': 8054, '강화하다': 8055, '전근': 8056, '내딸': 8057, '지지리': 8058, '주유': 8059, '아물다': 8060, '뜨끈하다': 8061, '허드': 8062, '렛': 8063, '땡큐': 8064, '옷장': 8065, '가부': 8066, '쑈': 8067, '쪼이다': 8068, '드나들다': 8069, '김건': 8070, '강씨': 8071, '인가요': 8072, '멀미': 8073, '죄값': 8074, '치욕스럽다': 8075, '감옥살이': 8076, '맘속': 8077, '롱': 8078, '숑숑': 8079, '찻집': 8080, '따끈따끈하다': 8081, '얻어맞다': 8082, '침해': 8083, '민주': 8084, '시드': 8085, '눈알': 8086, '밴드': 8087, '거창하다': 8088, '사은': 8089, '후딱': 8090, '이까짓': 8091, '아하하': 8092, '증조': 8093, '시반': 8094, '뜰': 8095, '달달': 8096, '넷': 8097, '개판': 8098, '흰자': 8099, '거참': 8100, '정보망': 8101, '행선': 8102, '그러자': 8103, '찡하다': 8104, '밥좀': 8105, '보일러': 8106, '볼때': 8107, '본대': 8108, '불면': 8109, '메이커': 8110, '나부': 8111, '깡': 8112, '껏': 8113, '팡': 8114, '멸': 8115, '돈좀': 8116, '환장하다': 8117, '간략하다': 8118, '가슴속': 8119, '꼬맹이': 8120, '메롱': 8121, '스키': 8122, '스키장': 8123, '섭외': 8124, '보충수업': 8125, '덤': 8126, '등골': 8127, '직성': 8128, '분란': 8129, '짜장면': 8130, '옵니다': 8131, '장학생': 8132, '지휘': 8133, '식빵': 8134, '쥬스': 8135, '줄라': 8136, '금값': 8137, '확답': 8138, '플': 8139, '앞장': 8140, '나머진': 8141, '대안': 8142, '거역': 8143, '있드': 8144, '딴다': 8145, '선량하다': 8146, '덩이': 8147, '두발': 8148, '부질': 8149, '끝내주다': 8150, '다독': 8151, '제사상': 8152, '손상': 8153, '복원': 8154, '파렴치하다': 8155, '가능': 8156, '깐깐하다': 8157, '분별': 8158, '여차하면': 8159, '깨나': 8160, '손버릇': 8161, '오가면': 8162, '행주': 8163, '피부관리': 8164, '가유': 8165, '대보다': 8166, '아메리칸': 8167, '팔면': 8168, '미터': 8169, '치고받다': 8170, '냉동': 8171, '부엉부엉': 8172, '부엉이': 8173, '하고의': 8174, '웬수': 8175, '이돈': 8176, '개천': 8177, '막차': 8178, '문상': 8179, '천하': 8180, '금슬': 8181, '졸졸': 8182, '검찰': 8183, '오천': 8184, '평수': 8185, '이억': 8186, '보쌈': 8187, '수라도': 8188, '난이도': 8189, '퀴즈': 8190, '올가미': 8191, '티켓': 8192, '트이다': 8193, '지리다': 8194, '열렬하다': 8195, '스무살': 8196, '싹싹': 8197, '몸조심': 8198, '파토': 8199, '치밀': 8200, '닥치': 8201, '알기': 8202, '헛소리': 8203, '샘플': 8204, '식모': 8205, '결백': 8206, '환하다': 8207, '바래다주다': 8208, '판단력': 8209, '부킹': 8210, '예식': 8211, '이바지': 8212, '실갱': 8213, '같앴어': 8214, '한고비': 8215, '본전': 8216, '찌질하다': 8217, '얽매': 8218, '날개': 8219, '비치': 8220, '첩보': 8221, '진지': 8222, '버젓이': 8223, '시늉': 8224, '끌어안다': 8225, '남다르다': 8226, '센스': 8227, '놀이기구': 8228, '대머리': 8229, '에세이': 8230, '차오르다': 8231, '짜릿하다': 8232, '진동': 8233, '구걸': 8234, '진실하다': 8235, '싸움질': 8236, '안락사': 8237, '따로따로': 8238, '심근경색증': 8239, '글렀어': 8240, '시원': 8241, '완화': 8242, '우르르': 8243, '임용': 8244, '저녁식사': 8245, '티격태격': 8246, '솟구치다': 8247, '예방접종': 8248, '아래층': 8249, '금일': 8250, '미성년': 8251, '뇌물': 8252, '다크서클': 8253, '사이클': 8254, '전략': 8255, '상품권': 8256, '생태계': 8257, '측은하다': 8258, '변심': 8259, '전생': 8260, '어엿하다': 8261, '상대평가': 8262, '관문': 8263, '공과금': 8264, '변치': 8265, '발송': 8266, '떨떠름하다': 8267, '가정은': 8268, '구로': 8269, '트렸': 8270, '복리': 8271, '후생': 8272, '사진관': 8273, '동원': 8274, '자진': 8275, '지혜': 8276, '지향성': 8277, '추측': 8278, '해지니': 8279, '청원': 8280, '벌칙': 8281, '현미': 8282, '연일': 8283, '헛돈': 8284, '퇴행': 8285, '순번': 8286, '으쓱': 8287, '대학교수': 8288, '스카이': 8289, '중시': 8290, '급등': 8291, '자랑거리': 8292, '행색': 8293, '청해': 8294, '과민': 8295, '한적하다': 8296, '피부색': 8297, '우스꽝스럽다': 8298, '폭우': 8299, '옷가게': 8300, '잠잠하다': 8301, '예시': 8302, '입학식': 8303, '뭉클하다': 8304, '식판': 8305, '눈가': 8306, '들들': 8307, '몽': 8308, '과시': 8309, '그래그래': 8310, '사물': 8311, '숫기': 8312, '대성공': 8313, '태클': 8314, '발톱': 8315, '균': 8316, '시말서': 8317, '주중': 8318, '위조품': 8319, '둘리': 8320, '무감각': 8321, '거길': 8322, '깨우치다': 8323, '보듬다': 8324, '신체검사': 8325, '팔십이': 8326, '취객': 8327, '유용하다': 8328, '굴레': 8329, '시치미': 8330, '이백': 8331, '또는': 8332, '관여': 8333, '정원': 8334, '마사지': 8335, '골인': 8336, '골프채': 8337, '괴팍하다': 8338, '곰곰': 8339, '패닉': 8340, '포교': 8341, '완벽주의자': 8342, '떠들썩하다': 8343, '부임': 8344, '술병': 8345, '금반지': 8346, '에서조차': 8347, '화끈하다': 8348, '코인': 8349, '자잘하다': 8350, '멎다': 8351, '본사': 8352, '관리인': 8353, '한국사': 8354, '바꿔치다': 8355, '떠밀다': 8356, '미납': 8357, '수백': 8358, '자그마하다': 8359, '성의껏': 8360, '참관': 8361, '가루': 8362, '꿍꿍': 8363, '등지': 8364, '상도': 8365, '금식': 8366, '서슴지': 8367, '제압': 8368, '순종': 8369, '매수': 8370, '및': 8371, '학예회': 8372, '터뜨리다': 8373, '피티': 8374, '툴툴거린': 8375, '평균수명': 8376, '성전환수술': 8377, '그러기에': 8378, '대학입시': 8379, '떤다': 8380, '나마': 8381, '편리하다': 8382, '길고양이': 8383, '초콜릿': 8384, '대로는': 8385, '언어': 8386, '일가': 8387, '편집장': 8388, '중개사': 8389, '토지': 8390, '도구로': 8391, '뇌사': 8392, '컨설팅': 8393, '흉측하다': 8394, '도라지': 8395, '매입': 8396, '세차': 8397, '배송': 8398, '축축하다': 8399, '식사량': 8400, '몸싸움': 8401, '외딴섬': 8402, '국가고시': 8403, '황금': 8404, '꿋꿋': 8405, '도주': 8406, '방사선': 8407, '전립선암': 8408, '척추': 8409, '새내기': 8410, '익명': 8411, '칭얼대다': 8412, '분주하다': 8413, '중증': 8414, '비중': 8415, '교감': 8416, '성분': 8417, '오백': 8418, '곤경': 8419, '재킷': 8420, '단위': 8421, '네일아트': 8422, '공공장소': 8423, '한몫': 8424, '여주': 8425, '설렁설렁': 8426, '폐경기': 8427, '사후': 8428, '뾰족': 8429, '다시금': 8430, '우두커니': 8431, '조처': 8432, '대치': 8433, '퍼주': 8434, '취업률': 8435, '잉여': 8436, '혐의': 8437, '소가': 8438, '불신': 8439, '일석이조': 8440, '국수': 8441, '한창때': 8442, '발인': 8443, '트랜스젠더': 8444, '친자': 8445, '열세': 8446, '근로': 8447, '동고동락': 8448, '상실하다': 8449, '시름시름': 8450, '은행가': 8451, '소모품': 8452, '프린터': 8453, '관두': 8454, '휴양지': 8455, '자칫하면': 8456, '성당': 8457, '재수생': 8458, '창': 8459, '섬유': 8460, '새치기': 8461, '무장': 8462, '전전': 8463, '결핍': 8464, '만류': 8465, '계절': 8466, '커버': 8467, '잉꼬': 8468, '무직': 8469, '어쩌자': 8470, '사물함': 8471, '붕대': 8472, '유발': 8473, '풍선': 8474, '선선해지다': 8475, '스카웃': 8476, '교외': 8477, '타박상': 8478, '초과': 8479, '일어난다': 8480, '겁쟁이': 8481, '취약점': 8482, '석사': 8483, '미영': 8484, '대졸': 8485, '유물': 8486, '짐짝': 8487, '어지럼증': 8488, '급락': 8489, '팔다리': 8490, '혈당량': 8491, '졸지': 8492, '차근차근하다': 8493, '단련하다': 8494, '치료법': 8495, '부적절하다': 8496, '개성': 8497, '번창': 8498, '논의': 8499, '사이만': 8500, '장르': 8501, '호언': 8502, '중고차': 8503, '태평하다': 8504, '월간': 8505, '주스': 8506, '계층': 8507, '치고는': 8508, '화하다': 8509, '카레': 8510, '커뮤니케이션': 8511, '툴툴거렸어': 8512, '상사면': 8513, '타깃': 8514, '색': 8515, '기발하다': 8516, '알츠하이머': 8517, '렌즈': 8518, '조종사': 8519, '혈액암': 8520, '체지방률': 8521, '고열': 8522, '뻘쭘해': 8523, '슬그머니': 8524, '머뭇거리다': 8525, '혈안': 8526, '편식': 8527, '뻣뻣하다': 8528, '한결같다': 8529, '농사짓다': 8530, '비로소': 8531, '분풀이': 8532, '증진': 8533, '엎었어': 8534, '입상하다': 8535, '페이퍼': 8536, '병명': 8537, '항생제': 8538, '풍기다': 8539, '교통비': 8540, '정규': 8541, '깡통': 8542, '부진하다': 8543, '휴업': 8544, '압력': 8545, '추궁': 8546, '복무': 8547, '페이': 8548, '가로등': 8549, '세대차이': 8550, '괴리감': 8551, '우리엄마': 8552, '발짝': 8553, '실직자': 8554, '연금복권': 8555, '다나': 8556, '숙면': 8557, '서러워지다': 8558, '역정': 8559, '중식': 8560, '도록': 8561, '일면': 8562, '가엾다': 8563, '어린이': 8564, '지렁이': 8565, '워킹맘': 8566, '책정': 8567, '부주의하다': 8568, '방출': 8569, '귀중하다': 8570, '자재': 8571, '사교육': 8572, '시긴': 8573, '들려주다': 8574, '위도': 8575, '무렵': 8576, '휴무': 8577, '기성세대': 8578, '이일': 8579, '동물원': 8580, '친오빠': 8581, '실손': 8582, '약초': 8583, '구시대': 8584, '결산': 8585, '팝콘': 8586, '예외': 8587, '네이버': 8588, '안하무인': 8589, '돌연': 8590, '현지': 8591, '최상': 8592, '주요': 8593, '솔로': 8594, '집문서': 8595, '십자수': 8596, '동성애': 8597, '십억이': 8598, '친한친구': 8599, '고갈': 8600, '난장판': 8601, '찬밥': 8602, '집요하다': 8603, '흙': 8604, '기금': 8605, '중점': 8606, '석차': 8607, '종합병원': 8608, '금메달': 8609, '속박': 8610, '낙인': 8611, '주차장': 8612, '결혼반지': 8613, '개봉': 8614, '몰상식하다': 8615, '한강': 8616, '더위': 8617, '장기로': 8618, '운동회': 8619, '초인종': 8620, '문밖': 8621, '캠퍼스': 8622, '새벽같이': 8623, '열한': 8624, '고삼': 8625, '의뢰': 8626, '봉양': 8627, '추구': 8628, '김부': 8629, '더라도': 8630, '여리다': 8631, '섬세하다': 8632, '옆방': 8633, '대인기피증': 8634, '걸음걸이': 8635, '축소': 8636, '분발': 8637, '부여': 8638, '배역': 8639, '쫄딱': 8640, '경운기': 8641, '내자': 8642, '모태': 8643, '신신당부': 8644, '준치': 8645, '미로': 8646, '분리수거': 8647, '중압감': 8648, '비방': 8649, '컨닝': 8650, '재단': 8651, '짓궂다': 8652, '서기': 8653, '패거리': 8654, '아무렴': 8655, '쌈짓돈': 8656, '배터리': 8657, '가리키다': 8658, '반려자': 8659, '뒷방': 8660, '간경변': 8661, '불성실하다': 8662, '컨설턴트': 8663, '내장': 8664, '택': 8665, '웅': 8666, '환갑잔치': 8667, '후두': 8668, '쟨': 8669, '유동': 8670, '성숙하다': 8671, '스몰': 8672, '다큐멘터리': 8673, '술김': 8674, '병과': 8675, '투고': 8676, '눈시울': 8677, '말벗': 8678, '탐색': 8679, '버섯': 8680, '사무': 8681, '체형': 8682, '면제': 8683, '효능': 8684, '하와이': 8685, '마르고': 8686, '처럼만': 8687, '구단': 8688, '두드러기': 8689, '반박': 8690, '공황장애': 8691, '호상': 8692, '중성': 8693, '껄끄러워': 8694, '부패': 8695, '승률': 8696, '뿐더러': 8697, '나주': 8698, '암기': 8699, '짬': 8700, '빠릿빠릿': 8701, '삼십만': 8702, '체인점': 8703, '보미': 8704, '제기': 8705, '담담하다': 8706, '일거수일투족': 8707, '동창생': 8708, '술버릇': 8709, '빠듯할': 8710, '어리광': 8711, '반주': 8712, '부하라': 8713, '라나': 8714, '우기': 8715, '족족': 8716, '행패': 8717, '유복하다': 8718, '경로': 8719, '냉담하다': 8720, '에프': 8721, '운동복': 8722, '분투': 8723, '화제': 8724, '보완': 8725, '상향': 8726, '미심': 8727, '다다르다': 8728, '공백기': 8729, '헛웃음': 8730, '강원도': 8731, '탑': 8732, '물불': 8733, '시체': 8734, '소속사': 8735, '마려워': 8736, '정전': 8737, '문학소녀': 8738, '장시간': 8739, '구도': 8740, '백조': 8741, '의무감': 8742, '혈육': 8743, '방광암': 8744, '비즈니스': 8745, '섹스': 8746, '자판기': 8747, '무역': 8748, '인명': 8749, '잠자리': 8750, '손재주': 8751, '펜션': 8752, '대중': 8753, '자율': 8754, '제왕절개': 8755, '부녀': 8756, '연대': 8757, '오월': 8758, '강습': 8759, '힐링': 8760, '블라인드': 8761, '차곡차곡': 8762, '찌들다': 8763, '록': 8764, '가전제품': 8765, '소독': 8766, '명퇴': 8767, '허수아비': 8768, '코트': 8769, '클래스': 8770, '저녁밥': 8771, '왜소하다': 8772, '표기': 8773, '사래': 8774, '푼돈': 8775, '공단': 8776, '능': 8777, '추세': 8778, '심호흡': 8779, '솔로인': 8780, '붓기': 8781, '입담': 8782, '무색': 8783, '이끼': 8784, '삐걱': 8785, '하굣길': 8786, '설비': 8787, '이하': 8788, '점장님': 8789, '시신': 8790, '샐러드': 8791, '수동': 8792, '성취': 8793, '위원장': 8794, '승소': 8795, '갑상샘암': 8796, '넷플릭스': 8797, '문해': 8798, '경제권': 8799, '돌파구': 8800, '마땅': 8801, '달걀': 8802, '화투': 8803, '약재': 8804, '메뚜기': 8805, '포인트': 8806, '편협': 8807, '병약하다': 8808, '롯데': 8809, '산골': 8810, '벨': 8811, '정자': 8812, '전무': 8813, '친구여': 8814, '전선': 8815, '유머러스하다': 8816, '자포자기': 8817, '익사': 8818, '시일': 8819, '친우': 8820, '왈칵': 8821, '오십오': 8822, '밤샘': 8823, '껄': 8824, '아나운서': 8825, '쿠키': 8826, '앞니': 8827, '날카로워지다': 8828, '과장하다': 8829, '봉': 8830, '때론': 8831, '애사': 8832, '크림': 8833, '비뇨기': 8834, '요약': 8835, '시들하다': 8836, '붙잡히다': 8837, '오스': 8838, '민낯': 8839, '폴더': 8840, '막둥이': 8841, '킬로나': 8842, '차분해지다': 8843, '환경미화원': 8844, '박살': 8845, '문고': 8846, '인내심': 8847, '노랗다': 8848, '빡빡': 8849, '지배': 8850, '폐해': 8851, '가물가물': 8852, '가정불화': 8853, '포옹': 8854, '흑자': 8855, '좌천': 8856, '지표': 8857, '염좌': 8858, '퍼뜨려': 8859, '통원': 8860, '간판': 8861, '와전': 8862, '숙연': 8863, '축농증': 8864, '호응': 8865, '덕택': 8866, '그저께': 8867, '파리': 8868, '넋': 8869, '떠내려가다': 8870, '자해': 8871, '움직임': 8872, '두텁다': 8873, '돼지고기': 8874, '확산': 8875, '칠십이': 8876, '성대': 8877, '창피': 8878, '흩어지다': 8879, '금산사': 8880, '안이하다': 8881, '엇갈리다': 8882, '첩': 8883, '오래간만': 8884, '나른하다': 8885, '백이십': 8886, '빵빵': 8887, '고물': 8888, '끈기': 8889, '파고': 8890, '우월하다': 8891, '튀김': 8892, '생리대': 8893, '건전지': 8894, '액정': 8895, '체감': 8896, '케어': 8897, '잘나오다': 8898, '멍청이': 8899, '가상': 8900, '인증': 8901, '소지': 8902, '민수': 8903, '경위서': 8904, '싸하다': 8905, '학문': 8906, '수금': 8907, '액자': 8908, '조문': 8909, '다솜': 8910, '로써': 8911, '이체': 8912, '영어실력': 8913, '사례': 8914, '선도': 8915, '허리띠': 8916, '반고': 8917, '무기한': 8918, '땡볕': 8919, '강행': 8920, '앞일': 8921, '응답': 8922, '뚝뚝': 8923, '소도': 8924, '사후세계': 8925, '가압류': 8926, '흥얼거리다': 8927, '묶이다': 8928, '모발': 8929, '저택': 8930, '대시': 8931, '추슬러': 8932, '등반': 8933, '출품': 8934, '날인': 8935, '나뉘다': 8936, '감겨': 8937, '타오': 8938, '고리타분하다': 8939, '소사': 8940, '구별': 8941, '자락': 8942, '나신': 8943, '탁월하다': 8944, '경리': 8945, '근성': 8946, '심각': 8947, '현직': 8948, '넓히다': 8949, '자문': 8950, '투잡': 8951, '부조리': 8952, '행': 8953, '해임': 8954, '롤모델': 8955, '카': 8956, '유지비': 8957, '대충대충': 8958, '잔기침': 8959, '이율': 8960, '친형': 8961, '경미하다': 8962, '아이스': 8963, '굿': 8964, '제이': 8965, '진수': 8966, '고속': 8967, '부주의': 8968, '경황': 8969, '다이아몬드': 8970, '그른': 8971, '색다르다': 8972, '농약': 8973, '꾸물거리다': 8974, '차용': 8975, '젠더': 8976, '둘러싸이다': 8977, '박봉': 8978, '인쇄': 8979, '선풍기': 8980, '베스트': 8981, '문학': 8982, '수칙': 8983, '천만원': 8984, '뇌혈관': 8985, '가까스로': 8986, '무신경': 8987, '쓰레기봉투': 8988, '소수': 8989, '노려보다': 8990, '서너': 8991, '납': 8992, '상종': 8993, '얌체': 8994, '병환': 8995, '통학': 8996, '상주': 8997, '엠알아': 8998, '강의실': 8999, '타라': 9000, '확실': 9001, '좁히다': 9002, '통치': 9003, '전단지': 9004, '토악질': 9005, '담요': 9006, '생명보험': 9007, '기보': 9008, '별의별': 9009, '골프장': 9010, '에스컬레이터': 9011, '사의': 9012, '지우': 9013, '절절': 9014, '인대': 9015, '빛나다': 9016, '불미': 9017, '불똥': 9018, '매체': 9019, '젖': 9020, '알바생': 9021, '요일': 9022, '작용': 9023, '신분증': 9024, '불입': 9025, '감점': 9026, '켜지다': 9027, '포상': 9028, '탄력': 9029, '분홍색': 9030, '돕기': 9031, '전집': 9032, '톤': 9033, '불편': 9034, '널다': 9035, '간지럽다': 9036, '명순': 9037, '불길': 9038, '외침': 9039, '차이점': 9040, '원조': 9041, '차가워지다': 9042, '붕': 9043, '털리다': 9044, '영국': 9045, '손톱': 9046, '소위': 9047, '윤리': 9048, '코고': 9049, '문도': 9050, '고참': 9051, '룩': 9052, '국영수': 9053, '만일': 9054, '위반': 9055, '헤': 9056, '인자하다': 9057, '꼰대구': 9058, '하숙집': 9059, '동감': 9060, '판타지': 9061, '창호': 9062, '역차별': 9063, '게스트': 9064, '잔대': 9065, '쓱': 9066, '원불교': 9067, '시발': 9068, '고딩': 9069, '에를': 9070, '취중진담': 9071, '분대': 9072, '꼰대짓': 9073, '실어': 9074, '딥': 9075, '군사': 9076, '쓰나미': 9077, '네네': 9078, '엠씨몽': 9079, '저가': 9080, '외가': 9081, '질문지': 9082, '오지랖': 9083, '레깅스': 9084, '추리닝': 9085, '해금': 9086, '평택': 9087, '라디에이터': 9088, '리듬': 9089, '컥': 9090, '하품': 9091, '초벌': 9092, '디스': 9093, '겨드랑이': 9094, '김제': 9095, '신교대': 9096, '기독교인': 9097, '뀐': 9098, '꼰대긴': 9099, '인천': 9100, '좌회전': 9101, '구릉': 9102, '반대쪽': 9103, '고고': 9104, '방화': 9105, '평등하다': 9106, '요인': 9107, '토끼': 9108, '효리': 9109, '민박': 9110, '고요': 9111, '꼬깔': 9112, '김종국': 9113, '전전날': 9114, '으로서도': 9115, '재홍': 9116, '당직사관': 9117, '감자탕': 9118, '양념': 9119, '게장': 9120, '대천': 9121, '하아': 9122, '극혐': 9123, '소윤': 9124, '음원': 9125, '백지영': 9126, '이선균': 9127, '무한': 9128, '특집': 9129, '이천희': 9130, '벤츠': 9131, '이등병': 9132, '블루투스': 9133, '잠귀': 9134, '우위': 9135, '불도': 9136, '제육': 9137, '거탑': 9138, '이근': 9139, '대위': 9140, '에일리': 9141, '터미네이터': 9142, '스티커': 9143, '이마트': 9144, '용량': 9145, '민트': 9146, '부사관': 9147, '셔누': 9148, '엠뷸런스': 9149, '문지르다': 9150, '년생': 9151, '조림': 9152, '손맛': 9153, '시금치': 9154, '덧니': 9155, '본방': 9156, '흡입': 9157, '잠꼬댄': 9158, '사당': 9159, '영화에서처럼': 9160, '싣다': 9161, '흥부전': 9162, '전소민': 9163, '종국': 9164, '오리': 9165, '삼선': 9166, '볶음밥': 9167, '주먹밥': 9168, '에어백': 9169, '심형래': 9170, '보톡스': 9171, '채빈': 9172, '영광': 9173, '타월': 9174, '대본': 9175, '족저근막염': 9176, '홍빈': 9177, '나영석': 9178, '중얼': 9179, '장성규': 9180, '상회': 9181, '꽃게탕': 9182, '오르락': 9183, '내리락': 9184, '왜그': 9185, '혜리': 9186, '선민': 9187, '젤로': 9188, '횟감': 9189, '모델하우스': 9190, '시드라': 9191, '어쨌다': 9192, '아자': 9193, '잔금': 9194, '중대': 9195, '으이구': 9196, '장혀': 9197, '법대': 9198, '기고': 9199, '섭하다': 9200, '담판': 9201, '관내': 9202, '어딥': 9203, '패스': 9204, '위상': 9205, '밑바닥': 9206, '명심': 9207, '놈땜': 9208, '하부': 9209, '깃': 9210, '경찰청장': 9211, '목요일': 9212, '행방': 9213, '파이팅': 9214, '는다': 9215, '입도': 9216, '시정': 9217, '길목': 9218, '왔드': 9219, '먹겄': 9220, '고시생': 9221, '누란': 9222, '옷좀': 9223, '안되겄다': 9224, '취해갖': 9225, '수송': 9226, '서유': 9227, '신건': 9228, '훌륭': 9229, '일분': 9230, '팍새': 9231, '굳모닝': 9232, '러': 9233, '내복': 9234, '짝퉁': 9235, '아뇨': 9236, '자네도': 9237, '더없이': 9238, '뒤끝': 9239, '싫증': 9240, '빨빨': 9241, '이구': 9242, '상설': 9243, '쩔다': 9244, '단말': 9245, '시아': 9246, '용하다': 9247, '좋드': 9248, '일평생': 9249, '무진장': 9250, '타요': 9251, '이인삼각': 9252, '악질': 9253, '어떻든': 9254, '보글보글': 9255, '무식': 9256, '드네': 9257, '별루': 9258, '연하남': 9259, '푸닥거리': 9260, '즉': 9261, '질리': 9262, '사업가': 9263, '것땜': 9264, '쌍꺼풀': 9265, '콩닥콩닥': 9266, '김상태': 9267, '우범': 9268, '허용': 9269, '세번': 9270, '발부': 9271, '닭똥집': 9272, '운정': 9273, '딴말': 9274, '경찰차': 9275, '기겁': 9276, '대환영': 9277, '빗나가다': 9278, '이진': 9279, '라진': 9280, '신바람': 9281, '맥빠지다': 9282, '보강': 9283, '용의': 9284, '얼렁뚱땅': 9285, '준비운동': 9286, '어쩌겠': 9287, '후진': 9288, '번번하다': 9289, '오호': 9290, '유치': 9291, '질질': 9292, '새사람': 9293, '보물찾기': 9294, '다람쥐': 9295, '빼짝': 9296, '검산': 9297, '동등': 9298, '식대': 9299, '한재': 9300, '몇개': 9301, '오백만원': 9302, '하룻밤': 9303, '구속영장': 9304, '팔도': 9305, '빽빽': 9306, '쏠': 9307, '술좀': 9308, '뽑기': 9309, '다대고': 9310, '떠받다': 9311, '검찰청': 9312, '사석': 9313, '사십분': 9314, '불타다': 9315, '이로': 9316, '펑크': 9317, '우리동네': 9318, '쏜다': 9319, '삼십만원': 9320, '기합': 9321, '겸사겸사': 9322, '놨으': 9323, '홍길동': 9324, '꼴리다': 9325, '혼좀': 9326, '고등어': 9327, '하마': 9328, '보구': 9329, '빨랫감': 9330, '않드': 9331, '입방': 9332, '껀': 9333, '공주': 9334, '이천만원': 9335, '이천만': 9336, '이기만': 9337, '주야': 9338, '방범': 9339, '얼매': 9340, '치약': 9341, '자글자글': 9342, '맺힌': 9343, '다이아': 9344, '뇨': 9345, '후식': 9346, '모멸': 9347, '씬': 9348, '골드': 9349, '빨랑빨랑': 9350, '나발': 9351, '광고지': 9352, '들여놓다': 9353, '후계': 9354, '디게': 9355, '장부': 9356, '한우': 9357, '가위바위보': 9358, '청아': 9359, '막일': 9360, '퍼자': 9361, '그따위': 9362, '일원': 9363, '형말': 9364, '십팔번': 9365, '간수': 9366, '파인애플': 9367, '경찰대': 9368, '티격태격하': 9369, '개떡같다': 9370, '약오르다': 9371, '서요': 9372, '일대': 9373, '아이구': 9374, '관리직': 9375, '호박': 9376, '리자': 9377, '순전하다': 9378, '고마': 9379, '세느': 9380, '복작대다': 9381, '전요': 9382, '벼룩': 9383, '이론': 9384, '수제': 9385, '체포영장': 9386, '무고': 9387, '쩔쩔': 9388, '개코': 9389, '원리': 9390, '쫑': 9391, '작작하다': 9392, '밧데리': 9393, '댕길': 9394, '쫄따구': 9395, '아저씬': 9396, '효녀': 9397, '거진': 9398, '위급': 9399, '알구': 9400, '미세하다': 9401, '살랑살랑': 9402, '뚫어지다': 9403, '비사': 9404, '나와라': 9405, '아주아주': 9406, '그렇겐': 9407, '한자리': 9408, '자넨': 9409, '업보': 9410, '쓸개': 9411, '생해': 9412, '밥때': 9413, '가겄어': 9414, '시상': 9415, '썩을': 9416, '사바': 9417, '꿀꺽': 9418, '가정교육': 9419, '천년': 9420, '벌겋다': 9421, '오자': 9422, '뿅': 9423, '자루': 9424, '합치다': 9425, '넘겨보다': 9426, '공무': 9427, '리다': 9428, '인분': 9429, '술시': 9430, '어거지': 9431, '눈썰매장': 9432, '부감': 9433, '차안': 9434, '운전대': 9435, '감탄': 9436, '물결': 9437, '기막히다': 9438, '무치': 9439, '양식': 9440, '퍼석퍼석': 9441, '쓰래': 9442, '형좀': 9443, '사이사이': 9444, '다지다': 9445, '킴': 9446, '며늘': 9447, '전설': 9448, '낙제': 9449, '굴뚝': 9450, '햄': 9451, '석도': 9452, '요기': 9453, '벼': 9454, '벌주다': 9455, '볏단': 9456, '따님': 9457, '죽겄': 9458, '급혀': 9459, '따끈하다': 9460, '꿀꿀하다': 9461, '손윗': 9462, '진실성': 9463, '거좀': 9464, '명감': 9465, '페이지': 9466, '살인자': 9467, '돌부리': 9468, '위진': 9469, '바램': 9470, '꿋꿋하다': 9471, '화장지': 9472, '무신': 9473, '뭐땜': 9474, '장차': 9475, '신임': 9476, '달구다': 9477, '얼맙': 9478, '쐐기': 9479, '호락호락': 9480, '무쟈': 9481, '젯밥': 9482, '빽': 9483, '솥': 9484, '벼락': 9485, '랴': 9486, '고사리': 9487, '보름': 9488, '깨소금': 9489, '스케쥴': 9490, '암호': 9491, '띠': 9492, '뿌': 9493, '사로자다': 9494, '아침식사': 9495, '십분': 9496, '등장': 9497, '다발': 9498, '동전': 9499, '이십초': 9500, '오드': 9501, '끌어내리다': 9502, '후라이팬': 9503, '데우다': 9504, '천직': 9505, '가책': 9506, '떠지다': 9507, '치사': 9508, '틀려먹다': 9509, '대전': 9510, '인건비': 9511, '남하': 9512, '대세': 9513, '안당': 9514, '기어이': 9515, '인내': 9516, '반개': 9517, '돌려막기': 9518, '이천': 9519, '전부하다': 9520, '사천': 9521, '프랑스': 9522, '리라': 9523, '미끼': 9524, '채찍': 9525, '떨기': 9526, '무모하다': 9527, '조끼': 9528, '하나요': 9529, '평이': 9530, '통곡': 9531, '안내서': 9532, '쑥': 9533, '독해': 9534, '경이': 9535, '매운탕': 9536, '기지': 9537, '통수': 9538, '꾀죄죄': 9539, '한살이': 9540, '악물다': 9541, '경찰청': 9542, '강당': 9543, '건들': 9544, '아악': 9545, '말좀': 9546, '부아': 9547, '부들부들': 9548, '부자연스럽다': 9549, '팔짝': 9550, '얼씨구': 9551, '카리스마': 9552, '뻐': 9553, '밑천': 9554, '뽀너스': 9555, '살일': 9556, '팔지마다': 9557, '개값': 9558, '등치': 9559, '알라': 9560, '물기': 9561, '기척': 9562, '혼구녕': 9563, '만인': 9564, '수상한': 9565, '긴장감': 9566, '여느': 9567, '야야': 9568, '속초': 9569, '신행': 9570, '친구사이': 9571, '미라': 9572, '죽좀': 9573, '덕인': 9574, '의원': 9575, '그늘': 9576, '공장장': 9577, '작살': 9578, '빠': 9579, '졸업장': 9580, '서울역': 9581, '기필코': 9582, '인가가': 9583, '아픈덴': 9584, '박지르다': 9585, '덕담': 9586, '들쑥날쑥하다': 9587, '차례상': 9588, '차남': 9589, '장보고': 9590, '버르장머리': 9591, '유분수': 9592, '윷놀이': 9593, '너넨': 9594, '부대끼다': 9595, '데릴사위': 9596, '캡': 9597, '충치': 9598, '게임방': 9599, '서러움': 9600, '변태': 9601, '순탄': 9602, '체험학습': 9603, '클라우드': 9604, '줄어드': 9605, '경쟁력': 9606, '보직변경': 9607, '치매증': 9608, '청각': 9609, '새아버지': 9610, '수천만': 9611, '우물쭈물': 9612, '띵하다': 9613, '사오정': 9614, '경쾌하다': 9615, '참혹하다': 9616, '초연': 9617, '갈피': 9618, '편일': 9619, '멍울': 9620, '공황': 9621, '야무지다': 9622, '헛수고': 9623, '청천벽력': 9624, '사법고시': 9625, '나이다': 9626, '호프': 9627, '통한': 9628, '실효': 9629, '모피': 9630, '버냐': 9631, '무소식': 9632, '신호등': 9633, '마녀사냥': 9634, '자발': 9635, '들러리': 9636, '마음잡다': 9637, '중고': 9638, '획기': 9639, '직계': 9640, '트리': 9641, '유사하다': 9642, '세력': 9643, '생활기록부': 9644, '성찰': 9645, '함흥차사': 9646, '뀌어': 9647, '백미': 9648, '사그라지다': 9649, '납입': 9650, '때때로': 9651, '장터': 9652, '자본': 9653, '벼락치기': 9654, '낙태': 9655, '젊은것': 9656, '급사': 9657, '강점': 9658, '합석': 9659, '대드': 9660, '푸대접': 9661, '실물': 9662, '해변': 9663, '낭비벽': 9664, '기해': 9665, '모유': 9666, '수유': 9667, '사칭': 9668, '수수료': 9669, '단시간': 9670, '치장': 9671, '위대하다': 9672, '새총': 9673, '여름방학': 9674, '파가': 9675, '플루': 9676, '합창': 9677, '특목고': 9678, '가급적': 9679, '민첩하다': 9680, '휴게소': 9681, '열등하다': 9682, '모바일': 9683, '위경련': 9684, '장려': 9685, '응시': 9686, '압도': 9687, '역전': 9688, '활약': 9689, '공업고등학교': 9690, '과만': 9691, '체격': 9692, '슬러': 9693, '재학': 9694, '있냔': 9695, '기우': 9696, '제인': 9697, '고요함': 9698, '가려지다': 9699, '미화': 9700, '장어': 9701, '공정하다': 9702, '앙상하다': 9703, '온순하다': 9704, '측은': 9705, '대대로': 9706, '훈훈하다': 9707, '허우적거리다': 9708, '휩싸이다': 9709, '풀기': 9710, '자릿수': 9711, '수의': 9712, '폐인': 9713, '친부모': 9714, '수학과': 9715, '프로야구': 9716, '영양사': 9717, '아랑곳': 9718, '성심': 9719, '뼈마디': 9720, '바이오': 9721, '이치': 9722, '달팽이관': 9723, '지안': 9724, '게시': 9725, '준우승': 9726, '굴더': 9727, '상대편': 9728, '클레': 9729, '배상': 9730, '비자': 9731, '뿌리치다': 9732, '힐끔힐끔': 9733, '요로결석': 9734, '프린트': 9735, '추모': 9736, '기선': 9737, '조르지': 9738, '절박': 9739, '반신반의': 9740, '허투루': 9741, '치켜세우다': 9742, '레벨': 9743, '가이드라인': 9744, '탐방': 9745, '학구': 9746, '몰리': 9747, '조심성': 9748, '온돌': 9749, '치졸하다': 9750, '기출': 9751, '멸망하다': 9752, '부케': 9753, '거렸더': 9754, '케이스': 9755, '고용주': 9756, '노동청': 9757, '사량': 9758, '햇살': 9759, '정성은': 9760, '절로': 9761, '성관계': 9762, '작업장': 9763, '쏜살같다': 9764, '우아하다': 9765, '초월': 9766, '도가니탕': 9767, '자처': 9768, '피트니스': 9769, '스위스': 9770, '편집자': 9771, '법정': 9772, '부지': 9773, '답례': 9774, '빗다': 9775, '쳇바퀴': 9776, '빈둥거리': 9777, '사레': 9778, '정신질환': 9779, '부응': 9780, '미스코리아': 9781, '구장': 9782, '폭풍우': 9783, '헐다': 9784, '실버': 9785, '타운': 9786, '꽝': 9787, '지그': 9788, '쇠퇴하다': 9789, '과묵': 9790, '차트': 9791, '옷맵시': 9792, '자반': 9793, '떡하니': 9794, '쌤': 9795, '재정난': 9796, '동동': 9797, '타이밍': 9798, '종료': 9799, '비축': 9800, '는가': 9801, '한해': 9802, '출처': 9803, '건설업': 9804, '천생연분': 9805, '빠트렸어': 9806, '굴복': 9807, '웃음소리': 9808, '이비인후과': 9809, '막냇동생': 9810, '중복': 9811, '외적': 9812, '천사처럼': 9813, '행각': 9814, '골짜기': 9815, '돈대': 9816, '제하': 9817, '돈다': 9818, '무효': 9819, '운영자': 9820, '청와대': 9821, '치더': 9822, '방면': 9823, '십상': 9824, '시피': 9825, '아사': 9826, '은연중': 9827, '접종': 9828, '역대': 9829, '괴사': 9830, '청년회': 9831, '여물': 9832, '골고루': 9833, '반감': 9834, '통역': 9835, '봉급': 9836, '지로': 9837, '환기': 9838, '배낭여행': 9839, '명세서': 9840, '인기척': 9841, '이점': 9842, '의연하다': 9843, '으로서는': 9844, '지코': 9845, '친족': 9846, '심리테스트': 9847, '출력': 9848, '공로상': 9849, '찢기다': 9850, '이사도': 9851, '이유지': 9852, '애꿎': 9853, '위험수위': 9854, '이루': 9855, '보조금': 9856, '모회사': 9857, '마음씨': 9858, '자제력': 9859, '용접': 9860, '커트라인': 9861, '정류장': 9862, '항암제': 9863, '엄한데': 9864, '중절': 9865, '도용': 9866, '순인': 9867, '유심': 9868, '모면': 9869, '추스른다': 9870, '거일': 9871, '묵묵': 9872, '낄낄': 9873, '면역성': 9874, '난관': 9875, '랜덤': 9876, '골목길': 9877, '멈칫': 9878, '북적': 9879, '하원': 9880, '단장': 9881, '가분': 9882, '비틀': 9883, '나진': 9884, '유령': 9885, '추기': 9886, '자투리': 9887, '한글': 9888, '조장': 9889, '즘': 9890, '자택': 9891, '식충이': 9892, '세균': 9893, '흡족하다': 9894, '매니큐어': 9895, '곤란': 9896, '통일': 9897, '들추다': 9898, '소신': 9899, '낙찰': 9900, '세포': 9901, '에서라도': 9902, '재고': 9903, '사백': 9904, '판별': 9905, '검버섯': 9906, '바로잡다': 9907, '흘러나오다': 9908, '물류': 9909, '피부병': 9910, '샌들': 9911, '예쁘장하다': 9912, '질도': 9913, '입실': 9914, '사고뭉치': 9915, '위험부담': 9916, '사교': 9917, '마카롱': 9918, '라운딩': 9919, '신축': 9920, '도덕성': 9921, '메르스': 9922, '급감': 9923, '자본주의': 9924, '총명하다': 9925, '또박또박': 9926, '성장기': 9927, '근육통': 9928, '별반': 9929, '부수': 9930, '약골': 9931, '만화책': 9932, '부둥켜안다': 9933, '반토막': 9934, '윈도': 9935, '자사고': 9936, '소년원': 9937, '분노조절': 9938, '재건': 9939, '프로도': 9940, '핼쑥': 9941, '실업률': 9942, '바치': 9943, '앨범': 9944, '도나': 9945, '문구': 9946, '왜인': 9947, '놨는': 9948, '입김': 9949, '달려들다': 9950, '타의': 9951, '징조': 9952, '대변': 9953, '정나미': 9954, '동행': 9955, '다름없이': 9956, '청결': 9957, '냉소': 9958, '맛탕': 9959, '자칫': 9960, '쏠리다': 9961, '안식처': 9962, '철석': 9963, '현역': 9964, '구비': 9965, '환호성': 9966, '대범하다': 9967, '시행착오': 9968, '가르침': 9969, '버팀목': 9970, '쌍방': 9971, '귓속말': 9972, '앞서서': 9973, '대리점': 9974, '파노라마': 9975, '모녀': 9976, '생필품': 9977, '도도': 9978, '혼사': 9979, '서프라이즈': 9980, '우량': 9981, '반등': 9982, '물병': 9983, '우러러': 9984, '유기견': 9985, '수의사': 9986, '오붓하다': 9987, '낙도': 9988, '더치': 9989, '오염': 9990, '학자금대출': 9991, '남루하다': 9992, '중퇴': 9993, '저주받다': 9994, '부적합하다': 9995, '공예': 9996, '쾌적하다': 9997, '하체': 9998, '피부염': 9999, '가늠': 10000, '꺼림칙하다': 10001, '사자': 10002, '은행권': 10003, '어그러지다': 10004, '현황': 10005, '습하다': 10006, '급작': 10007, '옮을까': 10008, '융통': 10009, '천원': 10010, '의혹': 10011, '재물': 10012, '꾀다': 10013, '학폭': 10014, '난방': 10015, '히터': 10016, '가혹하다': 10017, '뒷골목': 10018, '의기양양하다': 10019, '궁상맞다': 10020, '클리': 10021, '닉': 10022, '크릴': 10023, '오일': 10024, '종업': 10025, '문명': 10026, '가이드': 10027, '복종': 10028, '병적': 10029, '농사일': 10030, '이용만': 10031, '영어학원': 10032, '산산조각': 10033, '화창하다': 10034, '조폭': 10035, '녹차': 10036, '다리다': 10037, '망가뜨렸거': 10038, '예치': 10039, '관할': 10040, '성교육': 10041, '전등': 10042, '명소': 10043, '허례': 10044, '허식': 10045, '기와': 10046, '환우': 10047, '처럼은': 10048, '원기준': 10049, '하청': 10050, '미식': 10051, '불만족': 10052, '욕구불만': 10053, '카페나': 10054, '월간지': 10055, '조의': 10056, '막중': 10057, '산걸': 10058, '속셈': 10059, '전동': 10060, '구타': 10061, '요강': 10062, '머신': 10063, '왕성': 10064, '진의': 10065, '외양': 10066, '따내다': 10067, '어깨동무': 10068, '블랙박스': 10069, '주재': 10070, '주최': 10071, '내달': 10072, '상세': 10073, '어지러움': 10074, '자인': 10075, '나돌다': 10076, '관점': 10077, '공중화장실': 10078, '장례비용': 10079, '헤어스타일': 10080, '고래': 10081, '애정도': 10082, '껌': 10083, '태희': 10084, '경련': 10085, '출근시간': 10086, '코웃음': 10087, '백오십': 10088, '덤벙거리다': 10089, '헤드헌터': 10090, '허탈': 10091, '헛살': 10092, '응나': 10093, '조울증': 10094, '파랗다': 10095, '융자': 10096, '설마설마': 10097, '단독': 10098, '붐': 10099, '고리': 10100, '장황하다': 10101, '인수합병': 10102, '줏대': 10103, '사백오십': 10104, '사백십': 10105, '평점': 10106, '약자': 10107, '환호': 10108, '수액': 10109, '작심삼일': 10110, '커뮤니티': 10111, '알아맞히다': 10112, '건단': 10113, '회포': 10114, '빅히트': 10115, '소년단': 10116, '사죄': 10117, '한밤중': 10118, '연달': 10119, '유라': 10120, '떵떵': 10121, '오르간': 10122, '권장': 10123, '쫄면': 10124, '우왕좌왕': 10125, '무가': 10126, '배당': 10127, '베트남': 10128, '다문화': 10129, '끈끈': 10130, '송년회': 10131, '불완전': 10132, '인파': 10133, '풍부하다': 10134, '치수': 10135, '발리': 10136, '우여곡절': 10137, '결코': 10138, '진탕': 10139, '티나': 10140, '자궁암': 10141, '누더기': 10142, '치근덕거리다': 10143, '신생': 10144, '인구': 10145, '가줄': 10146, '수치심': 10147, '계획성': 10148, '지칭': 10149, '준걸': 10150, '전학생': 10151, '생겨나다': 10152, '지민': 10153, '전문직': 10154, '창구': 10155, '장미': 10156, '발걸음': 10157, '구니': 10158, '순순하다': 10159, '경영인': 10160, '악플': 10161, '이기심': 10162, '충만': 10163, '별걱정': 10164, '소비자': 10165, '공포증': 10166, '머쓱하다': 10167, '성품': 10168, '참신하다': 10169, '에러': 10170, '십여': 10171, '투철': 10172, '할껄': 10173, '향후': 10174, '리어카': 10175, '수완': 10176, '황상': 10177, '식도암': 10178, '검수': 10179, '갈팡질팡': 10180, '막둥': 10181, '눈길': 10182, '동성연애': 10183, '생물학자': 10184, '음악가': 10185, '만병통치약': 10186, '어치': 10187, '알콜': 10188, '군무원': 10189, '적응도': 10190, '버벅거렸어': 10191, '의학과': 10192, '다분하다': 10193, '소아마비': 10194, '쩔뚝': 10195, '알코올중독': 10196, '아웃백': 10197, '문중': 10198, '고질': 10199, '늘씬하다': 10200, '집안사람': 10201, '관람': 10202, '억제': 10203, '새하얘지다': 10204, '수립': 10205, '벤처기업': 10206, '알림': 10207, '전조': 10208, '가운': 10209, '열사': 10210, '인감도장': 10211, '부금': 10212, '점주': 10213, '미션': 10214, '미꾸라지': 10215, '건다': 10216, '기프티콘': 10217, '폴립': 10218, '요건': 10219, '동사무소': 10220, '목록': 10221, '홍': 10222, '반발': 10223, '대거': 10224, '영웅': 10225, '입수': 10226, '감돌다': 10227, '사나워지다': 10228, '매끄럽다': 10229, '멱살': 10230, '조산': 10231, '청소부': 10232, '무상': 10233, '당혹': 10234, '래서야': 10235, '활동량': 10236, '어그': 10237, '불과하다': 10238, '위장병': 10239, '소망': 10240, '고액': 10241, '헐레벌떡': 10242, '해피엔딩': 10243, '물욕': 10244, '수직': 10245, '재수없다': 10246, '년차': 10247, '모카': 10248, '스파게티': 10249, '수강': 10250, '잔병': 10251, '하염없이': 10252, '돈줄': 10253, '제아': 10254, '과민반응': 10255, '려면': 10256, '친절': 10257, '악화시키다': 10258, '삿': 10259, '도해': 10260, '재천': 10261, '설계도': 10262, '이든지': 10263, '네로': 10264, '수혜': 10265, '조달': 10266, '사망률': 10267, '새마을금고': 10268, '시중': 10269, '만족감': 10270, '희미하다': 10271, '샤프': 10272, '알츠하이머병': 10273, '벌컥': 10274, '맹장': 10275, '부간': 10276, '속지': 10277, '크루즈': 10278, '유방': 10279, '덮이다': 10280, '모형': 10281, '재정상': 10282, '유산균': 10283, '형사고소': 10284, '어간': 10285, '번드르르하다': 10286, '총애': 10287, '발레': 10288, '뒤따르다': 10289, '망언': 10290, '승객': 10291, '공직자': 10292, '사업실패': 10293, '나뭇잎': 10294, '독려': 10295, '피라미드': 10296, '유입': 10297, '금실': 10298, '히스테리': 10299, '쇼핑중독': 10300, '바랬는데': 10301, '선하다': 10302, '미숙아': 10303, '성용': 10304, '밀도': 10305, '저걸': 10306, '실속': 10307, '의아': 10308, '세부': 10309, '합세': 10310, '대다수': 10311, '과감': 10312, '중견': 10313, '호캉스': 10314, '아비규환': 10315, '자궁경부암': 10316, '외교관': 10317, '억압': 10318, '어딘': 10319, '담하다': 10320, '호기롭': 10321, '병일': 10322, '팔뚝': 10323, '치중': 10324, '두뇌': 10325, '비직': 10326, '폐기': 10327, '울음': 10328, '역무': 10329, '신형': 10330, '지리산': 10331, '시안': 10332, '배움': 10333, '봉사자': 10334, '뛰어넘다': 10335, '버킷리스트': 10336, '주식시장': 10337, '감정노동': 10338, '상습범': 10339, '개별': 10340, '경제학': 10341, '통합': 10342, '밸': 10343, '하녀': 10344, '지퍼': 10345, '벽돌': 10346, '무르': 10347, '마리': 10348, '거금': 10349, '한턱내다': 10350, '혈연': 10351, '사안': 10352, '근소': 10353, '군살': 10354, '생으로': 10355, '빈정대다': 10356, '등진': 10357, '단백질': 10358, '들고나다': 10359, '생사': 10360, '인사말': 10361, '베란다': 10362, '자라나다': 10363, '박씨': 10364, '가동': 10365, '살더': 10366, '반점': 10367, '종용': 10368, '파일럿': 10369, '원자': 10370, '월드': 10371, '박도': 10372, '바리스타': 10373, '흑': 10374, '갑지': 10375, '다큐': 10376, '공약': 10377, '최고급': 10378, '누우': 10379, '소서': 10380, '휙': 10381, '사심': 10382, '일체': 10383, '손수레': 10384, '포토샵': 10385, '신념': 10386, '대주': 10387, '무임': 10388, '승차': 10389, '평생토록': 10390, '복사기': 10391, '부의': 10392, '약혼': 10393, '앓이': 10394, '그중': 10395, '뒤로': 10396, '천성': 10397, '약관': 10398, '산만하다': 10399, '넋두리': 10400, '귀인': 10401, '의젓하다': 10402, '보스': 10403, '영구': 10404, '부유': 10405, '피나': 10406, '궂': 10407, '혁신': 10408, '독특하다': 10409, '어렵사리': 10410, '나치': 10411, '부풀다': 10412, '허무맹랑': 10413, '홈': 10414, '캠핑카': 10415, '중이염': 10416, '공직': 10417, '약혼자': 10418, '홈페이지': 10419, '탁하다': 10420, '장치': 10421, '체증': 10422, '전적': 10423, '유행어': 10424, '불운': 10425, '틈틈하다': 10426, '돌침대': 10427, '금은': 10428, '강원랜드': 10429, '물러서다': 10430, '십이': 10431, '깜깜무소식': 10432, '삿대질': 10433, '팔로우': 10434, '치근대다': 10435, '거렸': 10436, '야말로': 10437, '자금난': 10438, '무표정': 10439, '복층': 10440, '진통제': 10441, '악착같다': 10442, '공문': 10443, '업그레이드': 10444, '내후년': 10445, '연가': 10446, '실현': 10447, '무인': 10448, '은둔': 10449, '더불다': 10450, '성문': 10451, '편파': 10452, '정치인': 10453, '뜨끔하다': 10454, '위인': 10455, '비행청소년': 10456, '신세대': 10457, '전복죽': 10458, '맞은편': 10459, '독자': 10460, '소지품': 10461, '사십이': 10462, '중병': 10463, '근황': 10464, '연기자': 10465, '캐스팅': 10466, '자만하다': 10467, '예배': 10468, '레고': 10469, '불결하다': 10470, '짓누르다': 10471, '거르': 10472, '임박': 10473, '공백': 10474, '올린다': 10475, '모니터': 10476, '삔': 10477, '에어로빅': 10478, '사교육비': 10479, '음악회': 10480, '스크린': 10481, '배웅': 10482, '싸고돌다': 10483, '무용지물': 10484, '사망자': 10485, '어째서': 10486, '표절': 10487, '긋다': 10488, '이인': 10489, '일조': 10490, '아부해': 10491, '하차': 10492, '시간표': 10493, '불분명': 10494, '된장찌개': 10495, '하향': 10496, '우두머리': 10497, '부닥치다': 10498, '밤하늘': 10499, '무관': 10500, '동기부여': 10501, '살균제': 10502, '점포': 10503, '짝짝이': 10504, '우연이': 10505, '서점': 10506, '상급자': 10507, '남탕': 10508, '결항': 10509, '도수': 10510, '나흘': 10511, '알차다': 10512, '말론': 10513, '밸런스': 10514, '가차': 10515, '건너편': 10516, '방전': 10517, '주민등록': 10518, '문구점': 10519, '식중독': 10520, '유명인': 10521, '이른바': 10522, '휘감다': 10523, '인심': 10524, '즉석식품': 10525, '고아원': 10526, '불문': 10527, '초면': 10528, '문외한': 10529, '으름장': 10530, '싯': 10531, '섭': 10532, '가사노동': 10533, '외투': 10534, '호칭': 10535, '떨구다': 10536, '제나': 10537, '강탈': 10538, '브리핑': 10539, '피겨': 10540, '밝혀내다': 10541, '삼지': 10542, '남김없이': 10543, '기원': 10544, '볼꼴': 10545, '백도': 10546, '허니문': 10547, '군것질': 10548, '눕혔는데': 10549, '행적': 10550, '확연': 10551, '규정': 10552, '전송': 10553, '부정행위': 10554, '다급해지다': 10555, '의류': 10556, '번역': 10557, '진취': 10558, '서양화': 10559, '교양': 10560, '서핑': 10561, '미관': 10562, '소희': 10563, '실용음악': 10564, '떄문': 10565, '동맥경화': 10566, '이해관계': 10567, '낙인찍히다': 10568, '막노동': 10569, '범주': 10570, '사촌동생': 10571, '흐릿하': 10572, '우선하다': 10573, '호불호': 10574, '넌지시': 10575, '라는데': 10576, '치인': 10577, '사체': 10578, '스런': 10579, '해하': 10580, '화방': 10581, '호실': 10582, '화학': 10583, '어쩌겠다': 10584, '윗몸일으키기': 10585, '선의': 10586, '설움': 10587, '치근덕대다': 10588, '기다림': 10589, '안락하다': 10590, '변변찮': 10591, '위궤양': 10592, '꼴불견': 10593, '무과': 10594, '심경': 10595, '믹스': 10596, '일그러지다': 10597, '쪼잔하': 10598, '엄만데': 10599, '주례': 10600, '공세': 10601, '워킹': 10602, '노처녀': 10603, '친한척': 10604, '하혈': 10605, '즉각': 10606, '중천': 10607, '밥상머리': 10608, '엎었': 10609, '명동': 10610, '차감': 10611, '관광지': 10612, '통탄': 10613, '발끝': 10614, '연골': 10615, '유연하다': 10616, '지자체': 10617, '대상포진': 10618, '월경': 10619, '벽지': 10620, '교재': 10621, '식물인간': 10622, '영민': 10623, '홍보팀': 10624, '최저생계비': 10625, '유익하다': 10626, '견적': 10627, '직도': 10628, '일리': 10629, '해제': 10630, '하직': 10631, '정민': 10632, '단번': 10633, '후줄근하다': 10634, '발버둥': 10635, '국회의원': 10636, '줌바': 10637, '자연과학': 10638, '감개': 10639, '팔로': 10640, '수줍음': 10641, '토닥이다': 10642, '혜인': 10643, '최우수상': 10644, '전자기기': 10645, '사투리': 10646, '친지': 10647, '꼬면': 10648, '콧물': 10649, '어리바리하다': 10650, '은인': 10651, '하인': 10652, '알더': 10653, '발표회': 10654, '수확': 10655, '눈병': 10656, '쇠고기': 10657, '가물치': 10658, '공존': 10659, '함정': 10660, '이혼소송': 10661, '코딩': 10662, '향기': 10663, '지우개': 10664, '트로피': 10665, '타협': 10666, '제조': 10667, '불가하다': 10668, '개교': 10669, '소유': 10670, '보육원': 10671, '전면': 10672, '반기': 10673, '계서': 10674, '외다': 10675, '메다': 10676, '신병': 10677, '이사장': 10678, '이용자': 10679, '타이어': 10680, '모성애': 10681, '세련되다': 10682, '밥풀': 10683, '양성': 10684, '꼽': 10685, '미달': 10686, '떨어트려': 10687, '매도': 10688, '광택': 10689, '청렴': 10690, '퍼뜨렸': 10691, '헬기': 10692, '백두산': 10693, '드림': 10694, '축구선수': 10695, '교활하다': 10696, '순진하다': 10697, '자업자득': 10698, '협의': 10699, '비공개': 10700, '측면': 10701, '스럽지도': 10702, '군소리': 10703, '어쩌란': 10704, '관성': 10705, '스페인': 10706, '속보': 10707, '쌤통': 10708, '삼포': 10709, '치네다': 10710, '벌점': 10711, '일전': 10712, '기숙': 10713, '모기지론': 10714, '도리도': 10715, '협착증': 10716, '별세': 10717, '발효': 10718, '구려': 10719, '정통': 10720, '호구': 10721, '고배': 10722, '인기투표': 10723, '학식': 10724, '할머님': 10725, '호주': 10726, '동양인': 10727, '딴지': 10728, '위임장': 10729, '음료': 10730, '아낌없다': 10731, '기저': 10732, '정적': 10733, '교과': 10734, '증시': 10735, '경쟁심': 10736, '곱씹다': 10737, '깨트렸어': 10738, '삼천만': 10739, '투여': 10740, '이기주의': 10741, '노령': 10742, '조목조목': 10743, '따분하다': 10744, '민우': 10745, '덜렁대다': 10746, '목도': 10747, '자영': 10748, '소형차': 10749, '빗': 10750, '거저': 10751, '렌스': 10752, '인쇄물': 10753, '이적': 10754, '빗대다': 10755, '삭신': 10756, '허황': 10757, '동일': 10758, '건너': 10759, '바른길': 10760, '처신': 10761, '콩나물': 10762, '협동': 10763, '미비하다': 10764, '엉터리': 10765, '랜드': 10766, '게걸': 10767, '노동부': 10768, '애프터': 10769, '순조': 10770, '다물다': 10771, '대략': 10772, '라니깐': 10773, '가량': 10774, '난데없이': 10775, '야위다': 10776, '토익시험': 10777, '사치하다': 10778, '길길이': 10779, '날뛰다': 10780, '부근': 10781, '박카스': 10782, '오만원': 10783, '대기발령': 10784, '칙': 10785, '감염병': 10786, '디지털': 10787, '수납': 10788, '밭일': 10789, '슬기롭다': 10790, '인척': 10791, '초경': 10792, '이모작': 10793, '달짜': 10794, '웨어': 10795, '요소': 10796, '쌀쌀하다': 10797, '바위': 10798, '센티': 10799, '혼하': 10800, '스킬': 10801, '기색': 10802, '컷': 10803, '시끌벅적하다': 10804, '유행병': 10805, '차일': 10806, '잔잔하다': 10807, '편법': 10808, '방석': 10809, '복인': 10810, '현식': 10811, '기지개': 10812, '우수하다': 10813, '아이엠': 10814, '꼬락서니': 10815, '불가능': 10816, '논밭': 10817, '소인배': 10818, '콩알': 10819, '으리': 10820, '햄스터': 10821, '뒷일': 10822, '격렬하다': 10823, '개인정보': 10824, '순이익': 10825, '소액': 10826, '스페인어': 10827, '공신': 10828, '인스턴트식품': 10829, '료': 10830, '애견': 10831, '주먹다짐': 10832, '녹용': 10833, '문뜩': 10834, '털모자': 10835, '불공정': 10836, '타이': 10837, '난해하다': 10838, '끝없다': 10839, '무궁무진': 10840, '졸업생': 10841, '끝일': 10842, '적나라하다': 10843, '매가': 10844, '악습': 10845, '브런치': 10846, '뒤엎': 10847, '유언비어': 10848, '면모': 10849, '종아리': 10850, '눈코': 10851, '유흥': 10852, '뻑뻑': 10853, '외아들': 10854, '체력장': 10855, '불상': 10856, '푸셔': 10857, '보충': 10858, '굴다': 10859, '직하다': 10860, '벤치': 10861, '도서실': 10862, '가스요금': 10863, '컴컴하다': 10864, '개조': 10865, '빨간색': 10866, '천대': 10867, '고충': 10868, '농기': 10869, '둔갑': 10870, '뜬금': 10871, '진가': 10872, '노쇠하다': 10873, '교태': 10874, '십구': 10875, '요령': 10876, '농구부': 10877, '쇼핑몰': 10878, '틱': 10879, '위원': 10880, '조선': 10881, '스토킹': 10882, '딸애': 10883, '애니': 10884, '현금인출기': 10885, '꼬르륵': 10886, '불효': 10887, '적정': 10888, '고향이': 10889, '합치': 10890, '단기간': 10891, '대폭': 10892, '잠옷': 10893, '어버이': 10894, '칠십팔이': 10895, '족저': 10896, '근막': 10897, '찬스': 10898, '맴도': 10899, '분간': 10900, '값지다': 10901, '말라가': 10902, '복사': 10903, '형평성': 10904, '발현': 10905, '미수': 10906, '술잔치': 10907, '학연': 10908, '숨소리': 10909, '연구원': 10910, '활달': 10911, '여파': 10912, '대게': 10913, '면전': 10914, '못줄': 10915, '양옆': 10916, '특성화고': 10917, '핵가족': 10918, '대가족': 10919, '캥거루': 10920, '사슴벌레': 10921, '인의': 10922, '낯빛': 10923, '뿌옇다': 10924, '배짱': 10925, '통폐합': 10926, '북한': 10927, '화상회의': 10928, '자장면': 10929, '월드컵': 10930, '일감': 10931, '외로': 10932, '면접시험': 10933, '초창': 10934, '선포': 10935, '정확': 10936, '파란색': 10937, '가정방문': 10938, '제어': 10939, '윽': 10940, '외곽': 10941, '모독': 10942, '상자': 10943, '나선': 10944, '인용': 10945, '무단횡단': 10946, '갓난아이': 10947, '쫒다': 10948, '문단속': 10949, '선동': 10950, '자본금': 10951, '진일': 10952, '사무치다': 10953, '희한하다': 10954, '바람맞다': 10955, '녹록': 10956, '알몸': 10957, '공군': 10958, '실습생': 10959, '만족도': 10960, '웨딩사진': 10961, '알약': 10962, '동무': 10963, '배신자': 10964, '빼주': 10965, '욱했다': 10966, '연결하다': 10967, '순응': 10968, '핫팩': 10969, '루머': 10970, '새우': 10971, '펼쳐지다': 10972, '면허증': 10973, '갈취': 10974, '런닝머신': 10975, '일비': 10976, '통틀어': 10977, '태그': 10978, '브로커': 10979, '나때': 10980, '경운': 10981, '킁': 10982, '생뚱': 10983, '사마': 10984, '띠링': 10985, '그르': 10986, '세시': 10987, '모기': 10988, '갖': 10989, '시로': 10990, '프레임': 10991, '의경': 10992, '오또케': 10993, '중국인': 10994, '그랬구나': 10995, '뜨득': 10996, '뽀득': 10997, '뽀드득': 10998, '광자': 10999, '눈썹': 11000, '기독': 11001, '청바지': 11002, '타임': 11003, '포스': 11004, '씨땡': 11005, '띵': 11006, '어찌어찌': 11007, '페메': 11008, '자구': 11009, '대구': 11010, '갈리': 11011, '얜데': 11012, '잠꼬': 11013, '고등': 11014, '동화': 11015, '선후': 11016, '전국투어': 11017, '이광': 11018, '베이스': 11019, '대량': 11020, '군부': 11021, '배틀': 11022, '낌': 11023, '거시': 11024, '고랑': 11025, '이세돌': 11026, '토니': 11027, '스타크': 11028, '민간인': 11029, '체적': 11030, '소울': 11031, '오디지': 11032, '시동': 11033, '굴러가다': 11034, '시구': 11035, '패떳': 11036, '권지용': 11037, '검정색': 11038, '블랙': 11039, '아디다스': 11040, '아리': 11041, '서양': 11042, '중학': 11043, '소화기': 11044, '동인': 11045, '하이퍼': 11046, '리얼리즘': 11047, '쿠팡': 11048, '컴플렉스': 11049, '결말': 11050, '피노키오': 11051, '맥도날드': 11052, '버거': 11053, '중앙시장': 11054, '구간': 11055, '편향': 11056, '어몽': 11057, '어스': 11058, '침상': 11059, '살집': 11060, '평평하다': 11061, '상엽': 11062, '욱하거': 11063, '종이컵': 11064, '졸리': 11065, '디코': 11066, '플라스틱': 11067, '득': 11068, '쿡쿡': 11069, '숙': 11070, '오오': 11071, '코브라': 11072, '정글짐': 11073, '술래': 11074, '철조망': 11075, '클립': 11076, '정찬우': 11077, '김태균': 11078, '등짝': 11079, '세바': 11080, '꼰대끼': 11081, '디데이': 11082, '분수': 11083, '산타': 11084, '쫙': 11085, '훈련병': 11086, '최원준': 11087, '밥그릇': 11088, '경상도': 11089, '꿀꿀이죽': 11090, '모순': 11091, '갈기': 11092, '바디': 11093, '반절': 11094, '어쨌': 11095, '으에에': 11096, '다다다': 11097, '글치': 11098, '소환': 11099, '마이웨이': 11100, '리필': 11101, '꿀렁': 11102, '무사': 11103, '싱싱하다': 11104, '꼰댄데': 11105, '부옇다': 11106, '으윽': 11107, '뽀미': 11108, '잠방': 11109, '유유': 11110, '꼬드기': 11111, '휴먼': 11112, '안드로이드': 11113, '일곱시': 11114, '탁탁': 11115, '차리기': 11116, '미니': 11117, '헤드': 11118, '점프': 11119, '격정': 11120, '개리': 11121, '모태범': 11122, '특': 11123, '고로케': 11124, '허니버터칩': 11125, '닭도리탕': 11126, '캠페인': 11127, '코칭': 11128, '성경공부': 11129, '애플': 11130, '사이드': 11131, '마블': 11132, '신기다': 11133, '국악': 11134, '초코파이': 11135, '질감': 11136, '년대': 11137, '대일': 11138, '덩치': 11139, '현준': 11140, '드립': 11141, '국도': 11142, '피망': 11143, '짐승': 11144, '모현동': 11145, '동산동': 11146, '가글': 11147, '멍충': 11148, '좌우': 11149, '배회': 11150, '팬더': 11151, '민경': 11152, '어허허': 11153, '혜': 11154, '후다닥': 11155, '규': 11156, '예은': 11157, '서약': 11158, '스님': 11159, '예수님': 11160, '김준희': 11161, '중앙': 11162, '튜브': 11163, '중앙동': 11164, '주작': 11165, '신림': 11166, '고은아': 11167, '임수정': 11168, '꼬셔달': 11169, '요만': 11170, '촉': 11171, '웅얼웅얼': 11172, '리야': 11173, '모토': 11174, '참기름': 11175, '스노': 11176, '쿨링': 11177, '진아씨': 11178, '유가': 11179, '간단': 11180, '웅얼': 11181, '신조': 11182, '중얼중얼': 11183, '호성': 11184, '빠딱': 11185, '대통령': 11186, '구출': 11187, '닭볶음탕': 11188, '실생활': 11189, '아이로봇': 11190, '이승기': 11191, '김종민': 11192, '순삭': 11193, '필승': 11194, '고세': 11195, '뚱땡이': 11196, '필자': 11197, '바리': 11198, '외자': 11199, '프리': 11200, '공공시설': 11201, '전인': 11202, '셔츠': 11203, '매트릭스': 11204, '우우': 11205, '식전': 11206, '중사': 11207, '아이유': 11208, '좀비': 11209, '예수': 11210, '소방대': 11211, '쇄골': 11212, '도롱': 11213, '부안': 11214, '빠득': 11215, '배기': 11216, '끽': 11217, '꽁': 11218, '헌혈증': 11219, '사다리': 11220, '다시마': 11221, '쩍국': 11222, '태반': 11223, '김희철': 11224, '사복': 11225, '뻘이거': 11226, '야웅': 11227, '육두문자': 11228, '핵': 11229, '차야': 11230, '슬립': 11231, '윤익이': 11232, '톱': 11233, '장윤': 11234, '어마': 11235, '애호박': 11236, '논현동': 11237, '보디가드': 11238, '분한': 11239, '계란말이': 11240, '긍': 11241, '훈련사': 11242, '슬기': 11243, '김광규': 11244, '끝말잇기': 11245, '여진': 11246, '경차': 11247, '적재': 11248, '깔리다': 11249, '찌그러뜨리다': 11250, '석재': 11251, '박준형': 11252, '오우': 11253, '찍찍': 11254, '팩트': 11255, '외계인': 11256, '동해': 11257, '코란': 11258, '코란도': 11259, '동양': 11260, '공동묘지': 11261, '묘지': 11262, '자갈치시장': 11263, '돈가스': 11264, '난중': 11265, '삿밥': 11266, '고이': 11267, '토닥토닥': 11268, '군산': 11269, '문어': 11270, '채율': 11271, '수현': 11272, '수아': 11273, '설자리': 11274, '헉': 11275, '높임말': 11276, '린스': 11277, '선진국': 11278, '함소원': 11279, '송': 11280, '너구리': 11281, '펌프': 11282, '앵벌이': 11283, '츄리닝': 11284, '양주': 11285, '꼽는데': 11286, '유포': 11287, '우루루': 11288, '비올': 11289, '재치': 11290, '김성주': 11291, '레시피': 11292, '밀면': 11293, '글구': 11294, '데시벨': 11295, '똑똑': 11296, '인위': 11297, '채영': 11298, '홀짝': 11299, '물세례': 11300, '놀토': 11301, '스토': 11302, '이순경': 11303, '지껄이다': 11304, '충심': 11305, '민중': 11306, '오골계': 11307, '초로': 11308, '콤달콤': 11309, '겉절일': 11310, '가로막': 11311, '성함': 11312, '달말': 11313, '서민이': 11314, '판검사': 11315, '맹글었잖아': 11316, '형노릇': 11317, '다산': 11318, '기분좋은날': 11319, '인근': 11320, '열대': 11321, '백대': 11322, '쟬': 11323, '한길': 11324, '몸가짐': 11325, '재빠르다': 11326, '기강': 11327, '청청': 11328, '구시': 11329, '묘연하다': 11330, '알리바이': 11331, '쌀집': 11332, '여편네': 11333, '문수사': 11334, '대질': 11335, '만팔백원': 11336, '이일만': 11337, '뻥끗': 11338, '이심전심': 11339, '백배': 11340, '천배': 11341, '존놈': 11342, '알짱대다': 11343, '왁': 11344, '열두달': 11345, '허니': 11346, '장독': 11347, '케나': 11348, '겄다': 11349, '뿡뿡': 11350, '워칙혀': 11351, '하렴': 11352, '엄친아': 11353, '계모': 11354, '첨가': 11355, '도도하다': 11356, '괴상하다': 11357, '해야쓰겄': 11358, '잔말': 11359, '상도동': 11360, '영등포': 11361, '칼파': 11362, '무기징역': 11363, '사형': 11364, '싱싱': 11365, '물좀': 11366, '워쩐': 11367, '으흐흑': 11368, '냉수': 11369, '혔': 11370, '구유': 11371, '따땃': 11372, '어루만지다': 11373, '허겄다': 11374, '나지유': 11375, '허지유': 11376, '덕대': 11377, '비건': 11378, '저물다': 11379, '청장': 11380, '대목': 11381, '김새': 11382, '오랬더': 11383, '렌트': 11384, '낚였': 11385, '월동': 11386, '놨습니': 11387, '여리고': 11388, '가랑잎': 11389, '해안': 11390, '이편': 11391, '싫증나다': 11392, '오죽': 11393, '밑창': 11394, '선집': 11395, '생년': 11396, '워딜': 11397, '이삼': 11398, '청승': 11399, '말랬잖': 11400, '안혔다': 11401, '나랏밥': 11402, '오랜만': 11403, '비번': 11404, '마누랄': 11405, '빨랠': 11406, '값좀': 11407, '덜렁덜렁': 11408, '눈칠': 11409, '수갑': 11410, '본보기': 11411, '쓴맛': 11412, '스커트': 11413, '얼씬': 11414, '글루': 11415, '이방': 11416, '징글징글': 11417, '꿈깨': 11418, '냥반': 11419, '긴요': 11420, '낼일': 11421, '워칙할껴': 11422, '없겄': 11423, '워칙': 11424, '둬': 11425, '넘버': 11426, '운전면허증': 11427, '장난치세': 11428, '땡니': 11429, '튕겨': 11430, '신상': 11431, '꼬시는데': 11432, '호송': 11433, '몰상식': 11434, '극치': 11435, '별꼴': 11436, '보안관': 11437, '둘입': 11438, '뻐팅겨': 11439, '임검': 11440, '굴린': 11441, '아래쪽': 11442, '앞좀': 11443, '찰밥': 11444, '호한': 11445, '화악': 11446, '줏어주': 11447, '전임': 11448, '바랬어': 11449, '미도': 11450, '낚아채다': 11451, '재미나': 11452, '캬': 11453, '천연기념물': 11454, '통행금지': 11455, '까꿍': 11456, '영락': 11457, '한걸음씩': 11458, '잔칫상': 11459, '상봉': 11460, '그꼬': 11461, '새살': 11462, '위자룐': 11463, '뜯기다': 11464, '어기적대다': 11465, '옷꼬': 11466, '입감': 11467, '두목': 11468, '증거물': 11469, '잔챙이': 11470, '숨쉬다': 11471, '휠': 11472, '쌓쟁여놓': 11473, '엿듣': 11474, '엿들은': 11475, '줏어온': 11476, '홍어': 11477, '했드': 11478, '단서': 11479, '딴딴하다': 11480, '일텐데': 11481, '엇다쓴다': 11482, '꼬셨': 11483, '방좀': 11484, '어엉': 11485, '실리': 11486, '어여': 11487, '들락거려': 11488, '한마딘': 11489, '역표시': 11490, '제적': 11491, '엊지냑': 11492, '사납드': 11493, '어정거리다': 11494, '먼짓거릴': 11495, '들락거리': 11496, '떳다하': 11497, '장경사': 11498, '사옵니까': 11499, '수퍼맨': 11500, '휘발유': 11501, '어린왕자': 11502, '백발백중': 11503, '눈채': 11504, '주욱': 11505, '그렇드': 11506, '숲속': 11507, '비닐봉지': 11508, '철철': 11509, '찮아다': 11510, '피앙세': 11511, '떼웠어': 11512, '남아돌다': 11513, '그깟': 11514, '오개': 11515, '땜빵': 11516, '서해': 11517, '한무': 11518, '데기': 11519, '주드': 11520, '신수': 11521, '딸좀': 11522, '살빼다': 11523, '벼렸는데': 11524, '조서': 11525, '일망타진': 11526, '주물럭대다': 11527, '내대신': 11528, '삘다음': 11529, '범생': 11530, '신세진': 11531, '쯧쯧꼬': 11532, '해논': 11533, '심오하다': 11534, '심층': 11535, '심뭐': 11536, '손좀': 11537, '뻥뻥': 11538, '일초': 11539, '달뒤': 11540, '뻠뿌질': 11541, '알순': 11542, '야비하다': 11543, '이유나': 11544, '정의감': 11545, '영일': 11546, '왕창': 11547, '모이라': 11548, '삼만원': 11549, '부피': 11550, '최하': 11551, '십만원': 11552, '둘려': 11553, '격투': 11554, '물렁': 11555, '니드': 11556, '서재': 11557, '침실': 11558, '술판': 11559, '여자신': 11560, '발도': 11561, '이사오': 11562, '잡아채다': 11563, '형대': 11564, '문구멍': 11565, '짭짤하다': 11566, '델꼬와봐': 11567, '빨랫': 11568, '한동': 11569, '빨기': 11570, '남도': 11571, '워쩌겄': 11572, '복은': 11573, '노닥거릴때': 11574, '뭐혀': 11575, '형사물': 11576, '흉내내': 11577, '송강호': 11578, '설경구': 11579, '해장국': 11580, '쫄래쫄래': 11581, '살겄': 11582, '놨드라구': 11583, '놨다': 11584, '셋트': 11585, '호수': 11586, '난뒤': 11587, '딸기': 11588, '아몬드': 11589, '미행': 11590, '델꾸와봐': 11591, '미슨': 11592, '키크': 11593, '삼일이': 11594, '무자': 11595, '다합': 11596, '왕재숩니': 11597, '왕서': 11598, '몽뎅일': 11599, '윤활유': 11600, '윤활': 11601, '몽둥이': 11602, '말종짓': 11603, '논걸': 11604, '투쟁': 11605, '주마': 11606, '봉창': 11607, '년뒤': 11608, '건어물': 11609, '아구찜': 11610, '긴긴': 11611, '어쭈': 11612, '날새': 11613, '따라쟁': 11614, '영은': 11615, '쟁': 11616, '낼날': 11617, '존일': 11618, '버스정류장': 11619, '입장료': 11620, '몇장': 11621, '해수': 11622, '첫출근': 11623, '등심': 11624, '껀데': 11625, '할애': 11626, '취했어': 11627, '안취했다': 11628, '괄세하': 11629, '짜르': 11630, '겉멋': 11631, '대개': 11632, '메주': 11633, '절루': 11634, '마안': 11635, '넌줄': 11636, '정품': 11637, '수선': 11638, '안온': 11639, '넘침': 11640, '돌총': 11641, '랜': 11642, '내보이다': 11643, '쪼는데': 11644, '어쨌대': 11645, '주먹질': 11646, '내껄': 11647, '용건': 11648, '깽': 11649, '빛바랜': 11650, '액면': 11651, '경찰복': 11652, '치루셨는데': 11653, '으로야': 11654, '튀드': 11655, '오점': 11656, '뭐대드': 11657, '깜짝쑈': 11658, '허드레': 11659, '볶이다': 11660, '한아름': 11661, '줏었는데': 11662, '줏었': 11663, '쌨다': 11664, '형땜': 11665, '볼땐': 11666, '자덕': 11667, '짊': 11668, '해얄거': 11669, '오늘밤': 11670, '깝깝': 11671, '방경': 11672, '느긋헌디': 11673, '양이랴': 11674, '방송국': 11675, '마이': 11676, '절정': 11677, '시뻘겋다': 11678, '스테이': 11679, '귤좀': 11680, '준돈': 11681, '번돈': 11682, '엎드러': 11683, '인살': 11684, '초대장': 11685, '주물럭주물럭': 11686, '얼씬거리다': 11687, '꽉꽉': 11688, '한가지': 11689, '뒤척거리다': 11690, '차내': 11691, '펄쩍': 11692, '시시하다': 11693, '막판': 11694, '막스': 11695, '치토스': 11696, '아차': 11697, '서하': 11698, '재소': 11699, '팀내': 11700, '불협화음': 11701, '꼭대기': 11702, '팥': 11703, '쫑나셨': 11704, '손안': 11705, '백통': 11706, '통화량': 11707, '청렴결백하다': 11708, '조숙하다': 11709, '여우야': 11710, '라이벌': 11711, '발동': 11712, '싹뚝': 11713, '까불지마': 11714, '장구': 11715, '내딛다': 11716, '제갈': 11717, '꼬로록': 11718, '익수': 11719, '옷사': 11720, '버시는': 11721, '왈': 11722, '쪼옥': 11723, '번데': 11724, '어쩌시게': 11725, '꼭꼭': 11726, '흙탕물': 11727, '거중': 11728, '기웃': 11729, '낭패': 11730, '타도': 11731, '날치기': 11732, '현행범': 11733, '꼬실려': 11734, '돈칠': 11735, '콧구녕만해': 11736, '콧구녕': 11737, '핑도네': 11738, '웰컴': 11739, '깊숙이': 11740, '살살하다': 11741, '이깟': 11742, '집일': 11743, '혀유': 11744, '존귀': 11745, '땠는': 11746, '후끈': 11747, '안때': 11748, '되겄어': 11749, '못혀': 11750, '맨첨': 11751, '훠언': 11752, '잘혔다': 11753, '먹겄다': 11754, '가겄': 11755, '찮': 11756, '오장육부': 11757, '강물': 11758, '똥물': 11759, '훌훌': 11760, '케인': 11761, '눈치드': 11762, '워칙하': 11763, '참말': 11764, '중국집': 11765, '잡수다': 11766, '짜릿짜릿하다': 11767, '대박나다': 11768, '여러분': 11769, '사설': 11770, '살위': 11771, '고만하다': 11772, '나소': 11773, '쥬얼리': 11774, '디다': 11775, '털레털레': 11776, '버선': 11777, '난또': 11778, '반듯하다': 11779, '신경안': 11780, '장건': 11781, '골든': 11782, '동쪽': 11783, '철좀': 11784, '꽈배기': 11785, '미만': 11786, '수족': 11787, '짓무': 11788, '루': 11789, '옴': 11790, '경대': 11791, '방자하다': 11792, '오란': 11793, '어쨌거': 11794, '왕준': 11795, '버는줄': 11796, '해꼬지': 11797, '돈떼': 11798, '달치': 11799, '떠벌리다': 11800, '은하': 11801, '뎅일': 11802, '뻥일': 11803, '짜장': 11804, '들락대': 11805, '거행': 11806, '케익커팅': 11807, '오인': 11808, '일박이일': 11809, '펜좀': 11810, '래지': 11811, '소탈': 11812, '싹수': 11813, '역적': 11814, '죽여주다': 11815, '까페': 11816, '교통경찰': 11817, '징역': 11818, '어딘지': 11819, '이구만': 11820, '공범': 11821, '승자': 11822, '몰라몰라': 11823, '쑈였단말': 11824, '아이디': 11825, '애좀': 11826, '좋겄': 11827, '진짜루': 11828, '회좀': 11829, '니아': 11830, '불효자': 11831, '뭐래드': 11832, '홀애비': 11833, '산요': 11834, '애고': 11835, '퍼잘거': 11836, '맹글어': 11837, '돈버시': 11838, '잔칫': 11839, '잘버는데': 11840, '해무': 11841, '회도': 11842, '델꾸오': 11843, '어영씨': 11844, '땡초': 11845, '쫑쫑쫑쫑': 11846, '다오': 11847, '그란': 11848, '하리': 11849, '출출하다': 11850, '홈런': 11851, '쪼지마': 11852, '안쫄려': 11853, '재수강': 11854, '과잉진압': 11855, '족집게': 11856, '준지': 11857, '엘티': 11858, '엣지': 11859, '서어': 11860, '쩌': 11861, '삼백만원': 11862, '감서': 11863, '선디': 11864, '팅': 11865, '파주댁': 11866, '라이프': 11867, '한성': 11868, '안되겄': 11869, '푸시': 11870, '리세': 11871, '김치부침개': 11872, '노닥': 11873, '노닥거려': 11874, '무섭드': 11875, '호락호락하다': 11876, '요딴': 11877, '쌩병나': 11878, '쭈욱': 11879, '화염병': 11880, '촛불집회': 11881, '청개구리': 11882, '설설': 11883, '명정': 11884, '기동대': 11885, '밥줘': 11886, '누구신지': 11887, '짤리': 11888, '싸이렌': 11889, '치룰거': 11890, '써비스': 11891, '돈버는거': 11892, '룸써비스': 11893, '스으': 11894, '쌔': 11895, '쌘': 11896, '혼인': 11897, '청문회': 11898, '생중계': 11899, '듭니': 11900, '오디': 11901, '총동원': 11902, '본론': 11903, '돈얘길': 11904, '사이버': 11905, '공갈': 11906, '최곤데': 11907, '사리': 11908, '쫄거없어': 11909, '쪽눈': 11910, '꽃뱀': 11911, '서둘다': 11912, '느이형': 11913, '허드렛일': 11914, '전화왔어': 11915, '마지못하다': 11916, '어쩌는': 11917, '빠삭하': 11918, '말버릇': 11919, '밤좀': 11920, '밤치': 11921, '매력없드': 11922, '까놓랬더': 11923, '이골': 11924, '맨손': 11925, '달러': 11926, '얼쩡거리다': 11927, '거땜': 11928, '돗': 11929, '뿌서': 11930, '말꼬리': 11931, '에잇': 11932, '피난': 11933, '뭐구': 11934, '멸치': 11935, '말랭이': 11936, '고추': 11937, '간디': 11938, '터졌겄': 11939, '컵좀': 11940, '썽나': 11941, '뿐데': 11942, '힘자랑': 11943, '찬란하다': 11944, '다꿰': 11945, '제차루': 11946, '쫌있다': 11947, '베이컨': 11948, '라스': 11949, '사과쥬스': 11950, '못궈줘': 11951, '빨때': 11952, '가늘다': 11953, '얄': 11954, '겨패': 11955, '한웅': 11956, '안거': 11957, '신지형': 11958, '뎅': 11959, '쌩쑈한거': 11960, '즉시': 11961, '연기력': 11962, '만만찮': 11963, '악역': 11964, '어깃진다': 11965, '천하다': 11966, '즌데': 11967, '치룬': 11968, '어쩌거': 11969, '어물': 11970, '쩡': 11971, '드러눕다': 11972, '개털이겄': 11973, '기별': 11974, '볼티': 11975, '낙장불입': 11976, '박쥐': 11977, '남잔': 11978, '개차반': 11979, '백원': 11980, '잡수시다': 11981, '안바': 11982, '선입견입니': 11983, '보고오다': 11984, '되드': 11985, '남편자랑': 11986, '남앞': 11987, '연례': 11988, '말랑말랑하다': 11989, '한보': 11990, '돈돈': 11991, '불지': 11992, '잡아들이다': 11993, '참작': 11994, '간나': 11995, '잘쓰다': 11996, '목말': 11997, '댕김': 11998, '못살겄': 11999, '알량하다': 12000, '발자국': 12001, '구금': 12002, '놨을텐데': 12003, '껀수': 12004, '등록증': 12005, '재판정': 12006, '예민': 12007, '떡대': 12008, '육하원칙': 12009, '의거': 12010, '엇다쓰': 12011, '빵꾸': 12012, '삼천': 12013, '사천오백': 12014, '경마': 12015, '사천오백이': 12016, '금새': 12017, '말랬다': 12018, '토끼다': 12019, '밥통': 12020, '누룽지': 12021, '짠지': 12022, '턴김': 12023, '드라이': 12024, '머리아픈데': 12025, '둘곳': 12026, '꿇릴': 12027, '만만찮구': 12028, '쳇': 12029, '족발': 12030, '수작': 12031, '티켓팅': 12032, '힘나다': 12033, '신비롭다': 12034, '살해': 12035, '일개': 12036, '화상통화': 12037, '격조': 12038, '산더민데': 12039, '젖히다': 12040, '텅빈': 12041, '미인': 12042, '벌좀': 12043, '송별': 12044, '번쩍': 12045, '곡해': 12046, '이빤스': 12047, '첨으로': 12048, '대가리': 12049, '궁짝': 12050, '어묵': 12051, '간분': 12052, '비행기표': 12053, '꼬맹': 12054, '소립': 12055, '전화통화': 12056, '싶드': 12057, '야속': 12058, '애인같드': 12059, '김순': 12060, '똘마니때': 12061, '똘마니똘마': 12062, '똘마니': 12063, '싫드': 12064, '파묻히다': 12065, '숨좀': 12066, '구이': 12067, '수도꼭지': 12068, '캥': 12069, '얼음땡': 12070, '짬밥': 12071, '거듭': 12072, '우상': 12073, '라드': 12074, '한장': 12075, '비씨': 12076, '안나드': 12077, '혼구': 12078, '녕': 12079, '시험대': 12080, '벙거지': 12081, '장갑': 12082, '털때': 12083, '꼬질르': 12084, '발칵': 12085, '놨었잖아': 12086, '논채': 12087, '회시': 12088, '가지가지': 12089, '거머리': 12090, '가잔': 12091, '한발': 12092, '상줄': 12093, '사관': 12094, '검경': 12095, '이태백': 12096, '노는덴줄': 12097, '부자연': 12098, '발버둥치다': 12099, '부둥키다': 12100, '술처': 12101, '엄말': 12102, '한술': 12103, '뒷마당': 12104, '간곡': 12105, '장살': 12106, '쪼다': 12107, '얼른얼른': 12108, '도가니': 12109, '법보': 12110, '손끝': 12111, '깝깝해': 12112, '싸다니다': 12113, '놨는디': 12114, '간간': 12115, '더냐': 12116, '땅땅': 12117, '호랑이': 12118, '잡아먹히다': 12119, '제명': 12120, '쌨어': 12121, '알도': 12122, '루자': 12123, '빙빙': 12124, '껄끄럽': 12125, '왜유': 12126, '꺽': 12127, '맛사지': 12128, '꽉차다': 12129, '마눌': 12130, '팽배': 12131, '여의고': 12132, '수색': 12133, '차지다': 12134, '맘좀': 12135, '깨깟하': 12136, '이발': 12137, '뭐혔': 12138, '어영인': 12139, '공권력': 12140, '거만하다': 12141, '장땡': 12142, '루고': 12143, '리셋': 12144, '사이니': 12145, '사살': 12146, '주물럭거리다': 12147, '이상인': 12148, '이뽀이뽀': 12149, '실갱일': 12150, '애국': 12151, '큰애넨': 12152, '치루셨습': 12153, '거사': 12154, '못치룬거': 12155, '꽃바구니': 12156, '팀건': 12157, '기각': 12158, '볶아치다': 12159, '사병': 12160, '마나': 12161, '뿌서져': 12162, '민': 12163, '죽도': 12164, '잉잉': 12165, '맞혔으': 12166, '탈수': 12167, '갈건': 12168, '눈칫밥': 12169, '낯짝': 12170, '뚜': 12171, '파급': 12172, '년반': 12173, '요게': 12174, '밥꼬라': 12175, '숟갈': 12176, '엄밀하다': 12177, '자선': 12178, '딴지걸': 12179, '되겄네유': 12180, '둔덕': 12181, '음해': 12182, '조취': 12183, '아담하다': 12184, '술꾼': 12185, '짓거릴': 12186, '오호호': 12187, '깨물다': 12188, '철판': 12189, '꼬신다': 12190, '빠삭해': 12191, '빠삭': 12192, '종이배': 12193, '종이비행기': 12194, '안상한': 12195, '셧': 12196, '한맺힌': 12197, '김경': 12198, '알때': 12199, '이상없다': 12200, '거랍니': 12201, '가풍': 12202, '양하다': 12203, '종지': 12204, '꼬지': 12205, '꽜잖': 12206, '먹음': 12207, '차츰차츰': 12208, '돌멩이': 12209, '좀제': 12210, '못질': 12211, '밉드': 12212, '고아': 12213, '고아라': 12214, '차츰': 12215, '쟤좀': 12216, '우길': 12217, '추접': 12218, '뭣들하': 12219, '식탐': 12220, '짐좀': 12221, '구일': 12222, '역성': 12223, '느지막': 12224, '푸욱': 12225, '똥개': 12226, '얘길해': 12227, '절벽': 12228, '후벼파다': 12229, '볼틈': 12230, '황홀하다': 12231, '은줄': 12232, '간전': 12233, '번잡': 12234, '안타': 12235, '차멀미': 12236, '케이': 12237, '혼동': 12238, '방편': 12239, '액세서리': 12240, '띄엄띄엄': 12241, '무의미': 12242, '산책로': 12243, '휘트니': 12244, '짊어지': 12245, '채근하듯': 12246, '앓아눕다': 12247, '차보': 12248, '단조롭다': 12249, '템포': 12250, '틱장애': 12251, '울상': 12252, '심보': 12253, '묶여서': 12254, '연신': 12255, '굽신거릴': 12256, '효용': 12257, '영업정지': 12258, '유창하다': 12259, '어울림': 12260, '일이구': 12261, '일기예보': 12262, '뵀었거': 12263, '매니아': 12264, '한치': 12265, '몰아치다': 12266, '정본': 12267, '감감': 12268, '점집': 12269, '한주': 12270, '지레': 12271, '영업직': 12272, '괜시리': 12273, '꼴등일': 12274, '그리기': 12275, '만화가': 12276, '올림피아드': 12277, '맨손체조': 12278, '워드': 12279, '장군': 12280, '항일': 12281, '안간힘': 12282, '친숙하다': 12283, '폐쇄한대': 12284, '귀감': 12285, '다양성': 12286, '식감': 12287, '패기': 12288, '서주': 12289, '등하굣길': 12290, '노환': 12291, '유의': 12292, '마침내': 12293, '뭣하': 12294, '꿈구': 12295, '나타': 12296, '경지': 12297, '이르렀다': 12298, '사택': 12299, '반딧불': 12300, '백해무익하다': 12301, '무자비하다': 12302, '게임중독': 12303, '폭등': 12304, '주관성': 12305, '편도선': 12306, '순진무구': 12307, '한마음': 12308, '다이야': 12309, '지름길': 12310, '송두리째': 12311, '주춤': 12312, '정신장애': 12313, '위태롭거': 12314, '시끌시끌하다': 12315, '틴트': 12316, '도안': 12317, '탄생': 12318, '꿈틀': 12319, '몸집': 12320, '주가지수': 12321, '징크스': 12322, '선망': 12323, '베이비박스': 12324, '서일': 12325, '관철': 12326, '킬로미터': 12327, '은행업': 12328, '무도': 12329, '독학': 12330, '산불': 12331, '짙다': 12332, '날아다니다': 12333, '찌뿌둥': 12334, '법석': 12335, '리조트': 12336, '이용권': 12337, '파워포인트': 12338, '재활용': 12339, '수거': 12340, '조급': 12341, '몆': 12342, '평탄하다': 12343, '블라우스': 12344, '글렀': 12345, '들으랬더': 12346, '신자': 12347, '무종교': 12348, '구절': 12349, '읊는다든': 12350, '옹호': 12351, '세련': 12352, '제재': 12353, '햇': 12354, '제각각': 12355, '적당': 12356, '겨워': 12357, '이내': 12358, '솔루션': 12359, '유투버': 12360, '합주': 12361, '실만': 12362, '출국': 12363, '주리': 12364, '쉬이': 12365, '이주나': 12366, '간사하다': 12367, '증원': 12368, '미역': 12369, '완도': 12370, '검정': 12371, '딛다': 12372, '스페셜리스트': 12373, '사수자리': 12374, '재산상속': 12375, '유품': 12376, '울분': 12377, '삼삼오오': 12378, '스릴': 12379, '헛수': 12380, '무기력증': 12381, '심화': 12382, '일수': 12383, '삼총사': 12384, '화들짝': 12385, '스케이트': 12386, '체결': 12387, '세방': 12388, '우승팀': 12389, '품평': 12390, '다단계판매': 12391, '낙상': 12392, '독사': 12393, '성해': 12394, '헉헉거리다': 12395, '혼담': 12396, '견해': 12397, '정오': 12398, '물산': 12399, '악쓰다': 12400, '도운': 12401, '기름기': 12402, '백만원': 12403, '차림새': 12404, '선상': 12405, '잠자코': 12406, '푹신하다': 12407, '대패': 12408, '핵전쟁': 12409, '옮는': 12410, '중계': 12411, '온라인과': 12412, '오프라인': 12413, '소정': 12414, '욱했던': 12415, '염분': 12416, '고지': 12417, '장일': 12418, '꼽아보': 12419, '약식': 12420, '편중': 12421, '갑자': 12422, '출판': 12423, '중개': 12424, '지상권': 12425, '떠나오다': 12426, '부와': 12427, '치의': 12428, '명백하다': 12429, '소관': 12430, '종인': 12431, '독신자': 12432, '벼슬도': 12433, '컨트롤': 12434, '성전환자': 12435, '중세': 12436, '찌릿찌릿하다': 12437, '팔십오': 12438, '삐뚤다': 12439, '빼뚤': 12440, '굴욕': 12441, '동방예의지국': 12442, '눈총': 12443, '아가서': 12444, '안치': 12445, '약수터': 12446, '으슬으슬': 12447, '역효과': 12448, '위함': 12449, '교정': 12450, '어여쁘다': 12451, '배움터': 12452, '제보자': 12453, '폭로': 12454, '거덜': 12455, '교육부': 12456, '왈가': 12457, '왈부': 12458, '국문과': 12459, '노출증': 12460, '고요하다': 12461, '콘테스트': 12462, '개최': 12463, '서성거리다': 12464, '졸혼': 12465, '유무': 12466, '시트': 12467, '로맨틱': 12468, '궂은일': 12469, '시기심': 12470, '층집': 12471, '갉아먹다': 12472, '노쇠': 12473, '우등상': 12474, '간편하다': 12475, '루테인': 12476, '서바이벌': 12477, '멘붕': 12478, '상호': 12479, '상상임신': 12480, '빈틈': 12481, '연구실': 12482, '윤리관': 12483, '중책': 12484, '대타': 12485, '지킴': 12486, '나폴레옹': 12487, '놨겠다': 12488, '형호': 12489, '파이다': 12490, '퇴소': 12491, '처치': 12492, '넘겨받다': 12493, '질해': 12494, '지방함량': 12495, '유니세프': 12496, '구년': 12497, '늠름하다': 12498, '힌트': 12499, '이중성': 12500, '불로소득': 12501, '베끼': 12502, '방조': 12503, '기침약': 12504, '과학고': 12505, '타계': 12506, '용무': 12507, '대론': 12508, '연식': 12509, '철인': 12510, '령': 12511, '플래카드': 12512, '무수': 12513, '타이틀': 12514, '위절제술': 12515, '자물쇠': 12516, '생일케이크': 12517, '콱': 12518, '서준': 12519, '직시': 12520, '외동아들': 12521, '구서': 12522, '용소': 12523, '범행': 12524, '로스쿨': 12525, '연세대': 12526, '암산': 12527, '초청': 12528, '과오': 12529, '호주머니': 12530, '앨': 12531, '폭염': 12532, '열병': 12533, '서적': 12534, '툴툴댔더': 12535, '매물도': 12536, '팽개': 12537, '터보': 12538, '안위': 12539, '민정': 12540, '돌리지': 12541, '의예': 12542, '커피믹스': 12543, '어두울': 12544, '후드': 12545, '저주': 12546, '하제': 12547, '잡음': 12548, '라식수술': 12549, '꼿꼿하다': 12550, '상함': 12551, '부자간': 12552, '티격태격해': 12553, '빗자루': 12554, '매니지먼트': 12555, '보호대': 12556, '주전': 12557, '결함': 12558, '양파': 12559, '사이더': 12560, '후보자': 12561, '누런': 12562, '말장난': 12563, '번질': 12564, '택해': 12565, '설계자': 12566, '건달': 12567, '장의': 12568, '국문학': 12569, '머피': 12570, '법칙': 12571, '일정량': 12572, '굶주리다': 12573, '피기': 12574, '장난스럽다': 12575, '돈값': 12576, '예비신부': 12577, '빈곤층': 12578, '학사': 12579, '닥달': 12580, '영화감독': 12581, '마그네슘': 12582, '슬며시': 12583, '한눈팔다': 12584, '의과대학': 12585, '육군사관학교': 12586, '요가랑': 12587, '장본': 12588, '번식': 12589, '옥탑방': 12590, '모색': 12591, '치민': 12592, '분쟁': 12593, '목적지': 12594, '수출': 12595, '젓다': 12596, '드세지다': 12597, '엠비티아이': 12598, '방비': 12599, '투찰': 12600, '나열하다': 12601, '관객': 12602, '이상신': 12603, '호가': 12604, '복달': 12605, '통역사': 12606, '매라': 12607, '닥달해': 12608, '베테': 12609, '처세술': 12610, '매스미디어': 12611, '웨이': 12612, '맨몸': 12613, '투약': 12614, '임상시험': 12615, '소지도': 12616, '증여': 12617, '해독': 12618, '장애우': 12619, '구순': 12620, '일확천금': 12621, '헤픈': 12622, '억압받다': 12623, '음치': 12624, '바퀴벌레': 12625, '흘겨보다': 12626, '화질': 12627, '반신': 12628, '오목': 12629, '카피라이터': 12630, '몸담': 12631, '로간': 12632, '요추': 12633, '협착': 12634, '병력': 12635, '변성기': 12636, '아칭믈': 12637, '유기농': 12638, '곡물': 12639, '배타': 12640, '이탈리아': 12641, '짓궃': 12642, '이자율': 12643, '떼돈': 12644, '안구': 12645, '증명사진': 12646, '일삼': 12647, '뀌었거': 12648, '원가': 12649, '회전목마': 12650, '요리조리': 12651, '워진': 12652, '공손하다': 12653, '달랄': 12654, '잔소릴': 12655, '넘겨짚다': 12656, '울화병': 12657, '빈둥대던': 12658, '추악하다': 12659, '리마': 12660, '득달': 12661, '불장난': 12662, '권투': 12663, '래미': 12664, '심성': 12665, '서쪽': 12666, '석양': 12667, '군상': 12668, '쿠션': 12669, '감사히': 12670, '프로세스': 12671, '시차': 12672, '소행': 12673, '엎었으': 12674, '셰프': 12675, '스테로이드': 12676, '안압': 12677, '비대증': 12678, '전향': 12679, '회서': 12680, '개고기': 12681, '처절하다': 12682, '서강대': 12683, '초긴장해': 12684, '혈중': 12685, '자기개발': 12686, '물약': 12687, '곱절': 12688, '암내': 12689, '구차하다': 12690, '백팔이': 12691, '견주': 12692, '삼십육': 12693, '재활용품': 12694, '원천': 12695, '전교꼴등': 12696, '물리치료사': 12697, '짤렸어': 12698, '비문증': 12699, '논다니': 12700, '초보자': 12701, '십수': 12702, '대학자': 12703, '순직': 12704, '부방': 12705, '진도면': 12706, '허비': 12707, '가정법원': 12708, '정당방위': 12709, '채취': 12710, '고스톱': 12711, '계로': 12712, '쟁쟁': 12713, '정리정돈': 12714, '진실로': 12715, '사례금': 12716, '불구자': 12717, '풋살': 12718, '스쿼트': 12719, '본드': 12720, '혼도': 12721, '판촉': 12722, '한파': 12723, '운동량': 12724, '불쾌감': 12725, '국채': 12726, '시전': 12727, '수임료': 12728, '창자': 12729, '지지자': 12730, '곽': 12731, '외환위기': 12732, '카풀': 12733, '어른스럽다': 12734, '문전': 12735, '전분': 12736, '반품': 12737, '콜로라도주': 12738, '입학시험': 12739, '독후감': 12740, '여름철': 12741, '장년': 12742, '산송장': 12743, '답습': 12744, '조례': 12745, '가군': 12746, '밖엔': 12747, '서거': 12748, '콜록콜록': 12749, '인품': 12750, '모양새': 12751, '태만': 12752, '바들바들': 12753, '억대': 12754, '다양해지다': 12755, '밑었던': 12756, '잇따르다': 12757, '계산기': 12758, '파란': 12759, '마구잡이': 12760, '가품': 12761, '옥살이': 12762, '체제': 12763, '돌입': 12764, '월요병': 12765, '콕콕': 12766, '불철': 12767, '비닐하우스': 12768, '후룸라이드': 12769, '파격': 12770, '지탄': 12771, '중금속': 12772, '해고자': 12773, '무효표': 12774, '시돈': 12775, '몸뚱어리': 12776, '담벼락': 12777, '고산': 12778, '페루': 12779, '안데스': 12780, '당국': 12781, '원어민': 12782, '소요': 12783, '먹구름': 12784, '밭농사': 12785, '주야장천': 12786, '반적': 12787, '희박하다': 12788, '차사': 12789, '처방전': 12790, '무통': 12791, '강좌': 12792, '삐친': 12793, '퇴로': 12794, '특이': 12795, '윽박': 12796, '위스키': 12797, '매각': 12798, '비겁': 12799, '매상': 12800, '쌈질': 12801, '약용식물': 12802, '최우': 12803, '꼼지락': 12804, '대학원생': 12805, '우쭐': 12806, '건재': 12807, '웅장': 12808, '남한': 12809, '학교행사': 12810, '난후': 12811, '스릴러': 12812, '합방': 12813, '문헌정보': 12814, '수위': 12815, '번꼴': 12816, '쩍거려': 12817, '헛딛는': 12818, '조이': 12819, '동경': 12820, '올림픽': 12821, '반경': 12822, '로되': 12823, '약주': 12824, '사발': 12825, '요란하다': 12826, '혈기': 12827, '남부끄럽다': 12828, '몸뚱아리': 12829, '구억': 12830, '종부세': 12831, '도사': 12832, '꼬아': 12833, '하단': 12834, '겨울철': 12835, '자손': 12836, '자제시키다': 12837, '신경증': 12838, '격하': 12839, '배변': 12840, '패드': 12841, '인치': 12842, '괄시': 12843, '미천하다': 12844, '칼슘': 12845, '시간제': 12846, '난거지': 12847, '어지러워지다': 12848, '제약회사': 12849, '실질': 12850, '보건': 12851, '새우등': 12852, '십일이': 12853, '토박이': 12854, '비일비재하다': 12855, '손색': 12856, '염두': 12857, '찌릿하': 12858, '헛수고더': 12859, '불성': 12860, '백삼십': 12861, '썻어': 12862, '평안하다': 12863, '셰계': 12864, '폐병': 12865, '핏기': 12866, '영지': 12867, '상철': 12868, '영점': 12869, '음감': 12870, '조곤조곤': 12871, '판막': 12872, '반도체': 12873, '짜이다': 12874, '산물': 12875, '묘사': 12876, '동지': 12877, '나타내다': 12878, '미투': 12879, '청심환': 12880, '정심': 12881, '생강차': 12882, '잔반': 12883, '코코아': 12884, '음미': 12885, '연극배우': 12886, '가랑이': 12887, '재택': 12888, '특수부대': 12889, '로나': 12890, '일관': 12891, '플랜': 12892, '사철': 12893, '거둬들이다': 12894, '지소': 12895, '궁색하다': 12896, '대작': 12897, '기역': 12898, '설탕': 12899, '충동': 12900, '생필': 12901, '가죽': 12902, '용감하다': 12903, '꽂히다': 12904, '오손도손': 12905, '핑곗거리': 12906, '어두우': 12907, '십일': 12908, '냉혹하다': 12909, '페인트': 12910, '유력': 12911, '하기야': 12912, '무어': 12913, '잔쯕': 12914, '굴렸': 12915, '애먼': 12916, '악보': 12917, '지휘자': 12918, '메꿀': 12919, '급우': 12920, '나시': 12921, '오순도순': 12922, '창립': 12923, '주얼리': 12924, '입국': 12925, '날씨예보': 12926, '일명': 12927, '날밤': 12928, '악착': 12929, '재항암': 12930, '닥치고': 12931, '아마추어': 12932, '오케스트라': 12933, '결별': 12934, '반신불수': 12935, '기념품': 12936, '국비': 12937, '만주': 12938, '헤드셋': 12939, '콩쿠르': 12940, '거북하다': 12941, '학용품': 12942, '손글씨': 12943, '황천': 12944, '되라셔': 12945, '민망': 12946, '목격자': 12947, '곯다': 12948, '면지': 12949, '원형탈모': 12950, '소박하다': 12951, '아웅': 12952, '조직개편': 12953, '속닥거리다': 12954, '부부인': 12955, '동락': 12956, '삼억': 12957, '빈칸': 12958, '버럭대다': 12959, '꽃집': 12960, '고수': 12961, '병풍': 12962, '백지상태': 12963, '에게서도': 12964, '저셔': 12965, '요플레': 12966, '전수': 12967, '깜짝깜짝': 12968, '밤길': 12969, '지주': 12970, '취했다': 12971, '시사': 12972, '이친': 12973, '불완전하다': 12974, '굳기': 12975, '골로': 12976, '신들리다': 12977, '식상하다': 12978, '백팔십팔': 12979, '센티미터': 12980, '뺨치': 12981, '강인': 12982, '허기지다': 12983, '청순': 12984, '페이스': 12985, '예견': 12986, '거보': 12987, '유튜버로': 12988, '축하파티': 12989, '흐물흐물': 12990, '남발': 12991, '감안': 12992, '연결고리': 12993, '총괄': 12994, '일억만': 12995, '검도': 12996, '유골': 12997, '소실': 12998, '차키': 12999, '독지가': 13000, '평가절하': 13001, '푸념': 13002, '여름날': 13003, '일사병': 13004, '스톡옵션': 13005, '본국': 13006, '무더위': 13007, '장마철': 13008, '장대': 13009, '전교회장': 13010, '전가': 13011, '습도': 13012, '순대': 13013, '뜬눈': 13014, '명예훼손': 13015, '탑골': 13016, '지방도': 13017, '좀빼': 13018, '가족계획': 13019, '헤딩': 13020, '웅덩이': 13021, '거미': 13022, '숨찬': 13023, '예사롭다': 13024, '전자레인지': 13025, '관련성': 13026, '궤도': 13027, '국제': 13028, '둔화': 13029, '오번': 13030, '사족': 13031, '방과후': 13032, '겁결': 13033, '기입': 13034, '논쟁': 13035, '싱가포르': 13036, '한사코': 13037, '셨는데': 13038, '우후죽순': 13039, '일일구': 13040, '감상문': 13041, '당화혈색소': 13042, '경희대': 13043, '못내': 13044, '이심': 13045, '판결': 13046, '걷히다': 13047, '종속': 13048, '소규모': 13049, '기생충': 13050, '사회면': 13051, '도래': 13052, '초소': 13053, '가려움증': 13054, '고하': 13055, '단것': 13056, '영화제': 13057, '영향력': 13058, '피곤': 13059, '태만하다': 13060, '빈부격차': 13061, '수면제': 13062, '보상금': 13063, '신변': 13064, '해몽': 13065, '추첨': 13066, '해볼껄': 13067, '자산운용': 13068, '몆년': 13069, '노궁': 13070, '유흥주점': 13071, '급증': 13072, '지린다': 13073, '올드': 13074, '적격하다': 13075, '동굴': 13076, '고착': 13077, '굳히다': 13078, '고학력자': 13079, '애달프다': 13080, '눈독': 13081, '자명종': 13082, '기왕': 13083, '가스레인지': 13084, '다이나믹듀오': 13085, '착착': 13086, '글짓기': 13087, '짜지다': 13088, '보도자료': 13089, '하고야': 13090, '머릿결': 13091, '심신': 13092, '타트': 13093, '체리': 13094, '복제': 13095, '보자기': 13096, '세네': 13097, '긴밀하다': 13098, '항적': 13099, '자리야': 13100, '구색': 13101, '직기': 13102, '유책': 13103, '목전': 13104, '융화': 13105, '알뜰살뜰': 13106, '고모부': 13107, '활황': 13108, '손흥민': 13109, '오묘하다': 13110, '명시': 13111, '운세': 13112, '할당량': 13113, '설경': 13114, '부녀회': 13115, '피치': 13116, '미적지근하다': 13117, '영문학': 13118, '이뿌다': 13119, '데인': 13120, '임종도': 13121, '고어': 13122, '빠듯하거': 13123, '말벌': 13124, '해충': 13125, '레인': 13126, '홍콩': 13127, '머리띠': 13128, '대항': 13129, '에게로': 13130, '농락': 13131, '변덕쟁이': 13132, '아리송하다': 13133, '자립': 13134, '도질': 13135, '췌장': 13136, '피씨': 13137, '보육': 13138, '바람직하다': 13139, '단편': 13140, '무제한': 13141, '리스': 13142, '여드름': 13143, '물회': 13144, '전남편': 13145, '옆반': 13146, '의적': 13147, '짊어져': 13148, '약정': 13149, '일본어': 13150, '세제': 13151, '갈망': 13152, '둘러싸다': 13153, '행시': 13154, '육류': 13155, '욱했어': 13156, '칠천만': 13157, '법안': 13158, '금번': 13159, '걜': 13160, '에펠탑': 13161, '런던': 13162, '시계탑': 13163, '그리스도': 13164, '독점': 13165, '전립선비대증': 13166, '경제학자': 13167, '정의롭': 13168, '선본': 13169, '바비큐': 13170, '텃새': 13171, '콘텐츠': 13172, '숨죽': 13173, '셀룰라이트': 13174, '올려다보다': 13175, '박하': 13176, '배출': 13177, '법무': 13178, '이복': 13179, '선천성': 13180, '작문': 13181, '황새': 13182, '뱁새': 13183, '못버는데': 13184, '축축': 13185, '울렁증': 13186, '분식집': 13187, '수백만': 13188, '화근': 13189, '감퇴': 13190, '성형수술': 13191, '그릴': 13192, '괴씸': 13193, '공략': 13194, '청탁': 13195, '고지서': 13196, '복대': 13197, '복강': 13198, '체액': 13199, '갈아엎다': 13200, '철야': 13201, '미안': 13202, '냉': 13203, '찌게': 13204, '마상': 13205, '구리다': 13206, '야생': 13207, '양약': 13208, '모교': 13209, '집밖': 13210, '버거운': 13211, '피디': 13212, '철썩': 13213, '동요': 13214, '까막눈': 13215, '보드게임': 13216, '표면': 13217, '수면시간': 13218, '카펫': 13219, '등쌀': 13220, '서류철': 13221, '골칫': 13222, '자욱하다': 13223, '입소': 13224, '외교': 13225, '파도': 13226, '상투': 13227, '뜻일': 13228, '필리핀': 13229, '파운데이션': 13230, '세수': 13231, '태아': 13232, '나이트클럽': 13233, '외향': 13234, '콘돔': 13235, '응낙': 13236, '워질': 13237, '다재': 13238, '복용량': 13239, '다정': 13240, '삼차': 13241, '업로드': 13242, '담소': 13243, '지도력': 13244, '노동조합': 13245, '새집': 13246, '느릿느릿': 13247, '추스': 13248, '색안경': 13249, '떼이다': 13250, '틀림없이': 13251, '폭음': 13252, '퇴보하다': 13253, '퇴보': 13254, '해진': 13255, '발끈': 13256, '내진': 13257, '헛되이': 13258, '아치': 13259, '부음': 13260, '허덕거리다': 13261, '생머리': 13262, '복기': 13263, '속사정': 13264, '안개': 13265, '뭐기': 13266, '바람둥이': 13267, '결절': 13268, '골도': 13269, '향기롭다': 13270, '반전': 13271, '육촌': 13272, '오차': 13273, '선처': 13274, '패배': 13275, '어번': 13276, '파벌': 13277, '거주': 13278, '기획사': 13279, '중역': 13280, '성폭력': 13281, '친철': 13282, '기적처럼': 13283, '성능': 13284, '대관절': 13285, '상대자': 13286, '혈색': 13287, '끝없이': 13288, '고전': 13289, '내정': 13290, '엠아르아': 13291, '이나라': 13292, '불명예': 13293, '금일봉': 13294, '영양가': 13295, '쉅': 13296, '나래': 13297, '대로가': 13298, '가트': 13299, '획득': 13300, '엮어': 13301, '스트레': 13302, '조미료': 13303, '미모': 13304, '정표': 13305, '단원': 13306, '잉크': 13307, '위신': 13308, '특유': 13309, '회선': 13310, '천구백': 13311, '이십일': 13312, '방송사': 13313, '추잡': 13314, '글쓰기': 13315, '계약해지': 13316, '알코올중독자': 13317, '눈웃음': 13318, '질부': 13319, '들쭉날쭉': 13320, '바른': 13321, '가계약': 13322, '성정체성': 13323, '외진': 13324, '저작물': 13325, '좌지우지': 13326, '커리큘럼': 13327, '건장하다': 13328, '지루함': 13329, '권리금': 13330, '연애편지': 13331, '복잡': 13332, '출결': 13333, '전출': 13334, '주병': 13335, '시금': 13336, '우산도': 13337, '주입': 13338, '신용하': 13339, '흐릿해': 13340, '백해무익': 13341, '동분서주': 13342, '물난리': 13343, '실의': 13344, '살랑': 13345, '채권': 13346, '썰매': 13347, '청사진': 13348, '홀어머니': 13349, '가로막다': 13350, '선행': 13351, '갓길': 13352, '덴데': 13353, '이승': 13354, '서늘하다': 13355, '됨됨이': 13356, '둥지': 13357, '참새': 13358, '실랑이': 13359, '계산서': 13360, '발행': 13361, '돗자리': 13362, '베프': 13363, '산길': 13364, '몸종': 13365, '식약청': 13366, '흠집': 13367, '절대음감': 13368, '현수막': 13369, '전락': 13370, '다년': 13371, '배반': 13372, '시신경': 13373, '휘청': 13374, '운수': 13375, '쭉쭉': 13376, '체통': 13377, '표적': 13378, '서예': 13379, '하여금': 13380, '취했더': 13381, '뉴저지': 13382, '모의투자': 13383, '밤사이': 13384, '째째하다': 13385, '세계대전': 13386, '배경인': 13387, '텐트': 13388, '삽입': 13389, '따끔': 13390, '가쁘': 13391, '앞진': 13392, '잠재우다': 13393, '얼추': 13394, '발품': 13395, '헤르페스': 13396, '유흥업소': 13397, '점심식사': 13398, '파선': 13399, '호우': 13400, '침수': 13401, '터전': 13402, '스카프': 13403, '면치': 13404, '억하심정': 13405, '포근하다': 13406, '유연제': 13407, '피신': 13408, '족': 13409, '인솔': 13410, '피부암': 13411, '어휘': 13412, '원점': 13413, '동글동글': 13414, '듯해': 13415, '아이콘': 13416, '식기세척기': 13417, '최저임금': 13418, '괘씸': 13419, '크나크다': 13420, '소나타': 13421, '그랜저': 13422, '구십이': 13423, '적극성': 13424, '사막': 13425, '우물가': 13426, '아쿠아': 13427, '로빅': 13428, '어리석음': 13429, '제빵': 13430, '차주': 13431, '어린시절': 13432, '파트': 13433, '대리인': 13434, '사실관계': 13435, '동학': 13436, '행렬': 13437, '떠다니다': 13438, '닌데': 13439, '테라스': 13440, '망태': 13441, '군생': 13442, '식지': 13443, '방향성': 13444, '소수만': 13445, '정보라': 13446, '교습': 13447, '알맞다': 13448, '공모': 13449, '불로': 13450, '날벼락': 13451, '소유권': 13452, '유지시': 13453, '후송': 13454, '나태하다': 13455, '노선': 13456, '여당': 13457, '퍼뜨릴까': 13458, '대식': 13459, '저승사자': 13460, '쟁겨주': 13461, '훨훨': 13462, '한자': 13463, '똑소리': 13464, '갈비뼈': 13465, '브로마이드': 13466, '사만': 13467, '일환': 13468, '웃옷': 13469, '상복': 13470, '애원': 13471, '양성애자': 13472, '파마머리': 13473, '생채기': 13474, '곪아': 13475, '생명과학': 13476, '백지장': 13477, '박동수': 13478, '아역': 13479, '새아빠': 13480, '기독교도': 13481, '광화문': 13482, '여념': 13483, '원자력': 13484, '얼싸안다': 13485, '땅문서': 13486, '다세대': 13487, '깜박깜박': 13488, '해짐': 13489, '폭삭': 13490, '잊힌': 13491, '베짱이': 13492, '택할': 13493, '조잡하다': 13494, '정성스럽다': 13495, '중추': 13496, '병색': 13497, '완연': 13498, '신장암': 13499, '무료함': 13500, '개국': 13501, '가령': 13502, '물음': 13503, '쥐어박다': 13504, '애정결핍': 13505, '삼일장': 13506, '아른거리다': 13507, '삼십오': 13508, '박약': 13509, '사과문': 13510, '병균': 13511, '가랬는데': 13512, '시인': 13513, '으로까지': 13514, '낄낄대다': 13515, '이석': 13516, '애니메이션': 13517, '만삭': 13518, '카바레': 13519, '구축': 13520, '상품화': 13521, '로더': 13522, '미세': 13523, '어림없다': 13524, '중일': 13525, '화살': 13526, '정당화': 13527, '찌뿌둥해': 13528, '세척': 13529, '신한': 13530, '나가떨어지다': 13531, '복약': 13532, '앙갚음': 13533, '냉대': 13534, '바람기': 13535, '동력': 13536, '하루걸러': 13537, '배상금': 13538, '험준하다': 13539, '소름끼치다': 13540, '캐드': 13541, '도면': 13542, '투덕거릴': 13543, '의식주': 13544, '사로잡히다': 13545, '초점': 13546, '겁박': 13547, '과소': 13548, '직렬': 13549, '전세계약': 13550, '적응력': 13551, '중지': 13552, '본기': 13553, '홀수': 13554, '비거': 13555, '간밤': 13556, '만큼이야': 13557, '피상': 13558, '참을성': 13559, '산책길': 13560, '엎어': 13561, '심려': 13562, '임무': 13563, '직분': 13564, '심정지': 13565, '집사': 13566, '이사야': 13567, '결판': 13568, '친자검사': 13569, '민해지니': 13570, '줄기세포': 13571, '걸남': 13572, '습성': 13573, '철면피': 13574, '메뉴얼': 13575, '돈일': 13576, '전해질': 13577, '목장': 13578, '대내': 13579, '간과': 13580, '고교생': 13581, '장학': 13582, '찹찹하다': 13583, '과언': 13584, '쭈글쭈글하다': 13585, '패싸움': 13586, '샤워실': 13587, '맹세코': 13588, '게으름': 13589, '삼계탕': 13590, '들끓다': 13591, '훤하': 13592, '횡재': 13593, '교생': 13594, '알갱이': 13595, '구애': 13596, '후각': 13597, '명일': 13598, '낫기': 13599, '민회': 13600, '차후': 13601, '재판매': 13602, '오한': 13603, '탱탱하다': 13604, '거슬러': 13605, '천벌': 13606, '본부': 13607, '물밀': 13608, '사륜': 13609, '쭈뼛거리다': 13610, '이상야릇하다': 13611, '순서대로': 13612, '툴툴댔거': 13613, '프라푸치노': 13614, '한달음': 13615, '차수': 13616, '심리학': 13617, '직속상관': 13618, '집밥': 13619, '배지': 13620, '벼슬': 13621, '복부비만': 13622, '채진': 13623, '애해': 13624, '불사': 13625, '통행': 13626, '단보': 13627, '심사숙고': 13628, '반문': 13629, '하루살이': 13630, '방탕하다': 13631, '자기방어': 13632, '중턱': 13633, '헛일': 13634, '가축': 13635, '배상도': 13636, '뒷덜미': 13637, '병진': 13638, '세태': 13639, '회로': 13640, '개정': 13641, '과학자': 13642, '일임': 13643, '이용도': 13644, '사리다': 13645, '행태': 13646, '태동': 13647, '꽁무니': 13648, '깨트린': 13649, '우러러보': 13650, '정문': 13651, '해부': 13652, '자치': 13653, '자작': 13654, '종잡': 13655, '봉인': 13656, '시종': 13657, '안취': 13658, '헛걸음': 13659, '짤릴까봐': 13660, '젋었': 13661, '용한': 13662, '철분': 13663, '흡수': 13664, '공평': 13665, '휴양': 13666, '그럴듯하다': 13667, '어린이날': 13668, '표준': 13669, '재무제표': 13670, '실정': 13671, '촛불': 13672, '웨딩홀': 13673, '칼로리': 13674, '옛날이야기': 13675, '단물': 13676, '대업': 13677, '결격': 13678, '불순': 13679, '꽃병': 13680, '공복': 13681, '음으로': 13682, '고현': 13683, '비일비재': 13684, '무선': 13685, '개통': 13686, '화폐': 13687, '만으론': 13688, '유혹': 13689, '빈둥대기': 13690, '식인': 13691, '밥투': 13692, '윤택': 13693, '신진대사': 13694, '맥북': 13695, '개살구': 13696, '십년감수': 13697, '융합': 13698, '살림살이': 13699, '찬사': 13700, '완강': 13701, '적기': 13702, '카트': 13703, '낭만': 13704, '프로그래머': 13705, '천근': 13706, '농어촌': 13707, '라미': 13708, '태생': 13709, '본문': 13710, '예상외': 13711, '논란': 13712, '기류': 13713, '탄산음료': 13714, '신인': 13715, '할멈들': 13716, '폐활량': 13717, '묘안': 13718, '힐끗': 13719, '수군수군': 13720, '라식': 13721, '복를': 13722, '괴팍': 13723, '선출': 13724, '건드': 13725, '오순도순하다': 13726, '간당간당': 13727, '한층': 13728, '마땅찮다': 13729, '무일푼': 13730, '같이만': 13731, '더욱이': 13732, '장성': 13733, '성비': 13734, '송구': 13735, '금지법': 13736, '주된': 13737, '대장염': 13738, '중과세': 13739, '공시가격': 13740, '사유재산': 13741, '적폐': 13742, '빌붙다': 13743, '망막': 13744, '참내': 13745, '무분별': 13746, '비합리적': 13747, '패가망신': 13748, '정치가': 13749, '자식새끼': 13750, '헛거': 13751, '경시': 13752, '뭉술': 13753, '선사': 13754, '부수입': 13755, '씨아이': 13756, '겹친': 13757, '대성통곡': 13758, '조마조마': 13759, '폐수': 13760, '방류': 13761, '물고기': 13762, '완곡하': 13763, '퍼뜨리면': 13764, '요구사항': 13765, '손사래': 13766, '요긴': 13767, '룰루랄라': 13768, '프라모델': 13769, '세로': 13770, '휴강': 13771, '손수건': 13772, '자그마치': 13773, '바람둥': 13774, '뛰어오르다': 13775, '떨어트렸으': 13776, '미필': 13777, '군필': 13778, '사대': 13779, '다락방': 13780, '휴게': 13781, '비꼼': 13782, '블루': 13783, '엄습해': 13784, '락': 13785, '시보': 13786, '왕인': 13787, '기상': 13788, '격일': 13789, '기곈': 13790, '시디': 13791, '성화니': 13792, '발리다': 13793, '뻘뻘': 13794, '흐지부지': 13795, '엄수': 13796, '말더': 13797, '가설': 13798, '부스럭': 13799, '열자': 13800, '결승': 13801, '건축물': 13802, '내쉬다': 13803, '굴렸다': 13804, '친밀': 13805, '몰래카메라': 13806, '여론': 13807, '언론사': 13808, '각기': 13809, '베이비부머': 13810, '거린': 13811, '증서': 13812, '월액': 13813, '특약': 13814, '해물탕': 13815, '수산시장': 13816, '한라산': 13817, '묶음': 13818, '때마': 13819, '치루길': 13820, '외손녀': 13821, '주일': 13822, '관장': 13823, '세탁': 13824, '경전': 13825, '헉헉대다': 13826, '힘차다': 13827, '피구': 13828, '박약하다': 13829, '거해': 13830, '젖병': 13831, '익스트림': 13832, '발림': 13833, '창의': 13834, '보온병': 13835, '바짓가랑이': 13836, '정액': 13837, '지피다': 13838, '붕괴': 13839, '옥자': 13840, '외무': 13841, '추근대다': 13842, '명부': 13843, '에서까지도': 13844, '대리출석': 13845, '격의': 13846, '아가': 13847, '부친상': 13848, '명성': 13849, '고꾸라지다': 13850, '실었는데': 13851, '표준어': 13852, '상극': 13853, '모여들다': 13854, '난소': 13855, '에서만이': 13856, '고려장': 13857, '구덩이': 13858, '산채': 13859, '천문학': 13860, '소년': 13861, '오매불망': 13862, '만반': 13863, '해선': 13864, '비책': 13865, '묏': 13866, '신작': 13867, '오에이': 13868, '민간': 13869, '난도': 13870, '사용자': 13871, '포도주': 13872, '맞닥뜨렸었어': 13873, '과민성': 13874, '적대': 13875, '똑바르다': 13876, '퀴즈쇼': 13877, '분업': 13878, '목덜미': 13879, '황무지': 13880, '도산': 13881, '회전': 13882, '동문회': 13883, '멀뚱하다': 13884, '철민': 13885, '한약재': 13886, '숨가쁘다': 13887, '마켓': 13888, '시리얼': 13889, '속세': 13890, '슬러지': 13891, '버니': 13892, '부류': 13893, '당일치기': 13894, '응징': 13895, '집수': 13896, '리해': 13897, '산업혁명': 13898, '식겁하다': 13899, '기울어지다': 13900, '걷어차다': 13901, '예정자': 13902, '장식': 13903, '학군': 13904, '조제': 13905, '멋쩍': 13906, '골증': 13907, '백칠십이': 13908, '판명': 13909, '머나멀다': 13910, '쪼잔': 13911, '노모': 13912, '소장': 13913, '열차': 13914, '탈선': 13915, '간장게장': 13916, '갑각류': 13917, '태인': 13918, '육아법': 13919, '금괴': 13920, '뛰어나가다': 13921, '굽실': 13922, '저급하다': 13923, '단결': 13924, '미스터리': 13925, '제트': 13926, '허울': 13927, '성대결절': 13928, '논술': 13929, '채집': 13930, '허름': 13931, '새치': 13932, '탯줄': 13933, '금융투자': 13934, '우엉': 13935, '팔자걸음': 13936, '백업': 13937, '친절해지다': 13938, '마네': 13939, '라켓': 13940, '광부': 13941, '굴착': 13942, '계속드': 13943, '불거지다': 13944, '으로부터도': 13945, '벌렁벌렁': 13946, '요지': 13947, '재니': 13948, '원활': 13949, '빠트려': 13950, '리하': 13951, '여중생': 13952, '외관': 13953, '커밍아웃': 13954, '초혼': 13955, '땅콩': 13956, '끔뻑이': 13957, '백여': 13958, '옮아온': 13959, '섬기다': 13960, '쪼그라들다': 13961, '체불': 13962, '어물쩍': 13963, '구지': 13964, '불리': 13965, '무뎌': 13966, '주렴': 13967, '생이별': 13968, '백일이': 13969, '별장': 13970, '경연': 13971, '종잣돈': 13972, '설계서': 13973, '또다른': 13974, '내란': 13975, '제철': 13976, '유채꽃': 13977, '벚꽃': 13978, '매부': 13979, '소품': 13980, '잡아내다': 13981, '수줍다': 13982, '미용사': 13983, '위중하다': 13984, '다냬': 13985, '칭하': 13986, '피땀': 13987, '탄탄': 13988, '대원': 13989, '불멍': 13990, '독약': 13991, '악명': 13992, '으레': 13993, '군중': 13994, '정석': 13995, '대자보': 13996, '밀어내기': 13997, '어수룩하다': 13998, '외손': 13999, '소설가': 14000, '개장': 14001, '교환학생': 14002, '코디': 14003, '색감': 14004, '이삿짐': 14005, '세관': 14006, '어쩌냐': 14007, '워크넷': 14008, '둥글둥글하다': 14009, '얼마간': 14010, '토사': 14011, '곽란': 14012, '보관': 14013, '작곡': 14014, '군말': 14015, '남학생': 14016, '견고하다': 14017, '관대하다': 14018, '첫걸음': 14019, '원고': 14020, '굴릴': 14021, '정기예금': 14022, '자고만': 14023, '살다보면': 14024, '돈자': 14025, '사업자': 14026, '상급': 14027, '제테크': 14028, '노무사': 14029, '수억': 14030, '할부': 14031, '공양': 14032, '의절': 14033, '만복': 14034, '보전': 14035, '하지정맥류': 14036, '이레': 14037, '젬병': 14038, '영란': 14039, '장근이': 14040, '특별대우': 14041, '고정관념': 14042, '미나': 14043, '물컵': 14044, '경신': 14045, '안정화': 14046, '수영모': 14047, '임도': 14048, '담화': 14049, '흐트러져': 14050, '지침': 14051, '빈둥대': 14052, '식약처': 14053, '오일이': 14054, '추출': 14055, '용매': 14056, '견과류': 14057, '바이크': 14058, '임종은': 14059, '버셨어': 14060, '형제자매': 14061, '국토': 14062, '대장정': 14063, '종친회': 14064, '착상': 14065, '선남선녀': 14066, '업소': 14067, '정육면체': 14068, '그림자': 14069, '구조대': 14070, '연상녀': 14071, '인공호흡': 14072, '부착': 14073, '요지경': 14074, '소방': 14075, '타부': 14076, '웠으': 14077, '와르르': 14078, '살바': 14079, '노인도': 14080, '요금소': 14081, '기자': 14082, '머슴': 14083, '러브콜': 14084, '개시': 14085, '뀔': 14086, '들것': 14087, '툴툴대다': 14088, '곱슬곱슬하다': 14089, '대걸레': 14090, '자랑거리다': 14091, '대접받다': 14092, '벌렁': 14093, '구부리다': 14094, '농작물': 14095, '부전': 14096, '아궁이': 14097, '골수암': 14098, '거뭇거뭇': 14099, '프': 14100, '독극물': 14101, '씨름': 14102, '부속품': 14103, '부속': 14104, '역도': 14105, '금단현상': 14106, '댄서': 14107, '허풍': 14108, '스킨': 14109, '애하': 14110, '매물': 14111, '하프마라톤': 14112, '준수': 14113, '춧': 14114, '버럭버럭': 14115, '토록': 14116, '며느라': 14117, '호화': 14118, '유람선': 14119, '장본인': 14120, '카를': 14121, '수업료': 14122, '애경': 14123, '진척': 14124, '할리': 14125, '휴대': 14126, '지도사': 14127, '원본': 14128, '잔뇨감': 14129, '퇴화': 14130, '맞춤': 14131, '분윳값': 14132, '바자회': 14133, '오메가': 14134, '단념하다': 14135, '맥박': 14136, '한의사': 14137, '속병': 14138, '초록색': 14139, '정기적금': 14140, '밑바탕': 14141, '내려다보다': 14142, '웠': 14143, '포대': 14144, '출렁': 14145, '책장': 14146, '무력': 14147, '이삼일': 14148, '동맥': 14149, '방석집': 14150, '대모': 14151, '취지': 14152, '로망': 14153, '도끼': 14154, '툴툴대는': 14155, '툴툴거리더': 14156, '감행': 14157, '요구르트': 14158, '근로계약서': 14159, '툴툴대기': 14160, '대규모': 14161, '이례': 14162, '칠해': 14163, '근거리': 14164, '아날로그': 14165, '전략기획': 14166, '로란': 14167, '발치': 14168, '이민하': 14169, '차곡하다': 14170, '사촌오빠': 14171, '와우': 14172, '추근거리다': 14173, '선곡': 14174, '작은아버지': 14175, '각질': 14176, '습기': 14177, '담양': 14178, '허튼': 14179, '공수도': 14180, '호사': 14181, '인턴십': 14182, '명쾌하다': 14183, '전용': 14184, '비열하다': 14185, '때매': 14186, '치맥': 14187, '억지스럽다': 14188, '사립학교': 14189, '정교': 14190, '삼사십': 14191, '예매': 14192, '분열': 14193, '배신감드': 14194, '따윈': 14195, '멀뚱멀뚱': 14196, '새기다': 14197, '브': 14198, '비굴하다': 14199, '뻘쭘했어': 14200, '불과': 14201, '부단하다': 14202, '장사치': 14203, '옥수수': 14204, '걸핏하면': 14205, '휘었다': 14206, '엄습': 14207, '여행기': 14208, '부모뻘': 14209, '배알': 14210, '진담': 14211, '정독': 14212, '이어진': 14213, '꼿꼿이': 14214, '해물': 14215, '무병장수': 14216, '일률': 14217, '오억이': 14218, '갈기갈기': 14219, '공부량': 14220, '노발': 14221, '대발': 14222, '국장': 14223, '비수': 14224, '느슨하다': 14225, '냅다': 14226, '철도': 14227, '퍼오더': 14228, '앙금': 14229, '도세': 14230, '희끗': 14231, '씌었던': 14232, '마크': 14233, '캐러멜': 14234, '마키아토': 14235, '외지': 14236, '짤려': 14237, '가빠지다': 14238, '가죽공예': 14239, '퀼팅': 14240, '궁전': 14241, '떄': 14242, '이견': 14243, '도벽': 14244, '환전': 14245, '안남': 14246, '올인': 14247, '간담': 14248, '답문': 14249, '감봉': 14250, '등산로': 14251, '동물병원': 14252, '기품': 14253, '문건': 14254, '어긋나게': 14255, '횡': 14256, '단자': 14257, '번뜩': 14258, '가물': 14259, '전철역': 14260, '이십팔': 14261, '지지도': 14262, '지문': 14263, '사월': 14264, '툴툴대더': 14265, '실언': 14266, '희소': 14267, '공경심': 14268, '토지대장': 14269, '할증': 14270, '문장': 14271, '패치': 14272, '한심헤': 14273, '사담': 14274, '인부': 14275, '신장결석': 14276, '웹서핑': 14277, '파릇파릇하다': 14278, '종교인': 14279, '환송': 14280, '술벗': 14281, '앞세우다': 14282, '경솔하다': 14283, '고급스럽다': 14284, '복날': 14285, '어우러지다': 14286, '경제사': 14287, '군림': 14288, '회신': 14289, '절감': 14290, '에스프레소': 14291, '조신': 14292, '조리사': 14293, '가계비': 14294, '유괴': 14295, '악수': 14296, '오살': 14297, '비행': 14298, '전직': 14299, '찻잔': 14300, '출판사': 14301, '말재': 14302, '화이트데이': 14303, '홱': 14304, '복숭아': 14305, '삭': 14306, '앰뷸런스': 14307, '난산': 14308, '중위': 14309, '노련': 14310, '쩍더': 14311, '학술': 14312, '로거': 14313, '암벽': 14314, '까치': 14315, '우스개': 14316, '안경점': 14317, '무지막지': 14318, '참석자': 14319, '김치전': 14320, '부스스': 14321, '도박중독': 14322, '호명': 14323, '백발': 14324, '림프샘': 14325, '돌기': 14326, '쾌변': 14327, '놀걸': 14328, '굴걸': 14329, '퍼부어': 14330, '룰': 14331, '스리': 14332, '잉어': 14333, '상온': 14334, '버벅거린': 14335, '매너리즘': 14336, '응급구조대': 14337, '직문': 14338, '엉거주춤': 14339, '기물': 14340, '꿈쩍': 14341, '짤릴까': 14342, '시시각각': 14343, '볼껄': 14344, '시원시원하다': 14345, '회칙': 14346, '동심': 14347, '경식': 14348, '나이키': 14349, '버는': 14350, '무너뜨렸다': 14351, '구독': 14352, '투어': 14353, '젠틀': 14354, '의리': 14355, '게재': 14356, '배후': 14357, '축구공': 14358, '증상만': 14359, '적집': 14360, '조촐하다': 14361, '산악자전거': 14362, '겨자': 14363, '상벌': 14364, '세워지다': 14365, '폐쇄되어': 14366, '충족': 14367, '무지개다리': 14368, '거름': 14369, '질의': 14370, '건실': 14371, '이천팔': 14372, '모기지': 14373, '펄펄': 14374, '공공기관': 14375, '이십만': 14376, '미미하다': 14377, '암흑': 14378, '술취해': 14379, '굳은살': 14380, '세지면': 14381, '청계산': 14382, '년제': 14383, '맞힌': 14384, '돋보이다': 14385, '전립선염': 14386, '사치품': 14387, '공정': 14388, '셀프': 14389, '바득바득': 14390, '다과': 14391, '난소암': 14392, '항복': 14393, '실족': 14394, '특채': 14395, '채운': 14396, '봉변': 14397, '냉동식품': 14398, '진중하다': 14399, '술수': 14400, '금지옥엽': 14401, '채근': 14402, '반짝이다': 14403, '팀별': 14404, '카메룬': 14405, '한정판': 14406, '회고': 14407, '사치스럽다': 14408, '손익': 14409, '미덕': 14410, '껄끄러우': 14411, '화려': 14412, '틈타다': 14413, '두창': 14414, '어평생': 14415, '정력': 14416, '광경': 14417, '미지근하다': 14418, '일꾼': 14419, '육십만원': 14420, '하위': 14421, '원산지': 14422, '장사꾼': 14423, '국산': 14424, '방사': 14425, '아누': 14426, '짐일': 14427, '이삼십': 14428, '팩': 14429, '누적': 14430, '실신': 14431, '외숙모': 14432, '배꼽': 14433, '마치니': 14434, '육신': 14435, '사기죄': 14436, '품목': 14437, '단식': 14438, '두통약': 14439, '구식': 14440, '왼': 14441, '수강생': 14442, '북새통': 14443, '미디어': 14444, '살인마': 14445, '피팅': 14446, '노부모': 14447, '요술': 14448, '신문방송학': 14449, '단조': 14450, '레슨': 14451, '드세다': 14452, '이씨': 14453, '신통': 14454, '잔해': 14455, '우편물': 14456, '초행길': 14457, '칠팔': 14458, '남성만': 14459, '가점': 14460, '뚜렷': 14461, '골방': 14462, '팸플릿': 14463, '빗집': 14464, '신속하다': 14465, '덕목': 14466, '부라': 14467, '만구천': 14468, '역서': 14469, '휜다': 14470, '주얼': 14471, '데이': 14472, '반바지': 14473, '러시아': 14474, '채권자': 14475, '결원': 14476, '운반': 14477, '삐그덕거릴까': 14478, '기량': 14479, '성가': 14480, '도비': 14481, '싼값': 14482, '아이러니': 14483, '잡티': 14484, '군다': 14485, '생동감': 14486, '여권': 14487, '물배': 14488, '어깃장': 14489, '스포츠댄스': 14490, '시중금리': 14491, '알거지': 14492, '장려상': 14493, '애석하다': 14494, '일위': 14495, '개설': 14496, '신비': 14497, '택했어': 14498, '귀금속': 14499, '멍멍하다': 14500, '피진': 14501, '맹구': 14502, '추수': 14503, '입막음': 14504, '속기': 14505, '이백사십만': 14506, '백팔십만': 14507, '단란': 14508, '비보': 14509, '대금': 14510, '통근': 14511, '폐품': 14512, '팔천': 14513, '화합': 14514, '허약': 14515, '놨거': 14516, '장롱': 14517, '초임': 14518, '대여': 14519, '응그': 14520, '부터의': 14521, '깨끗해지다': 14522, '자백': 14523, '먹잇감': 14524, '선별': 14525, '턱턱': 14526, '팬티': 14527, '이십여': 14528, '나변': 14529, '병아리': 14530, '혹평': 14531, '분출': 14532, '헛헛해': 14533, '오성': 14534, '둔감하다': 14535, '진퇴양난': 14536, '더하기': 14537, '그러냬': 14538, '항공기': 14539, '극성': 14540, '애프터눈': 14541, '특허': 14542, '착잡': 14543, '못정': 14544, '프렌': 14545, '이즈': 14546, '외주': 14547, '판다': 14548, '국경': 14549, '약인': 14550, '무심': 14551, '쓰다듬다': 14552, '홈트': 14553, '진부하다': 14554, '과신': 14555, '근엄하다': 14556, '상임': 14557, '희로애락': 14558, '제과제빵': 14559, '답사': 14560, '위험성': 14561, '존재도': 14562, '감지': 14563, '강매': 14564, '두어': 14565, '수속': 14566, '악행': 14567, '울타리': 14568, '음담패설': 14569, '팁': 14570, '적임': 14571, '확충': 14572, '성황리': 14573, '가사도': 14574, '긴축': 14575, '막강': 14576, '헛먹': 14577, '몰두': 14578, '현성': 14579, '요사이': 14580, '두피': 14581, '폐교': 14582, '나누어지다': 14583, '하우스': 14584, '탐욕': 14585, '인삼': 14586, '얽매이다': 14587, '장신구': 14588, '심정은': 14589, '령액': 14590, '내규': 14591, '과업': 14592, '부글부글': 14593, '이목': 14594, '레이저': 14595, '가안': 14596, '기정': 14597, '뀌었는데': 14598, '흐릿': 14599, '형체': 14600, '불우': 14601, '페스티벌': 14602, '유산소운동': 14603, '수목장': 14604, '한량': 14605, '채식주의자': 14606, '담합': 14607, '유비': 14608, '무환': 14609, '성어': 14610, '빠듯할까': 14611, '불균형': 14612, '수첩': 14613, '경악': 14614, '금치': 14615, '급변': 14616, '버벅거렸더': 14617, '황달': 14618, '염소': 14619, '다운증후군': 14620, '검정고시': 14621, '주주': 14622, '착복': 14623, '될런': 14624, '주휴수당': 14625, '점퍼': 14626, '상기': 14627, '헬스뿐': 14628, '파쇄': 14629, '상여': 14630, '색도': 14631, '체조': 14632, '풍년': 14633, '수확량': 14634, '회유': 14635, '서화': 14636, '결벽증': 14637, '의탁': 14638, '내숭': 14639, '일제': 14640, '냉기': 14641, '품위': 14642, '난무': 14643, '중대하다': 14644, '체류': 14645, '피싱': 14646, '식견': 14647, '데스크': 14648, '행복감': 14649, '김숙': 14650, '반값': 14651, '귀띔': 14652, '주군': 14653, '교통혼잡': 14654, '친부': 14655, '거미줄': 14656, '나은지': 14657, '분전': 14658, '습량': 14659, '통신비': 14660, '아득해지다': 14661, '다가서다': 14662, '환승역': 14663, '단층': 14664, '택했': 14665, '실격': 14666, '작자': 14667, '누님': 14668, '보건복지부': 14669, '항시': 14670, '환급금': 14671, '글로벌': 14672, '이의신청': 14673, '조항': 14674, '차이나': 14675, '계비': 14676, '저축량': 14677, '신문지': 14678, '영재': 14679, '철부지': 14680, '삐었어': 14681, '밀지': 14682, '후분': 14683, '반하다': 14684, '부결': 14685, '해만': 14686, '허겁지겁': 14687, '걸알': 14688, '한옆': 14689, '정상화': 14690, '작별': 14691, '눈살': 14692, '찌푸리다': 14693, '마약': 14694, '비키': 14695, '구십오': 14696, '약학': 14697, '콜': 14698, '효심': 14699, '지극': 14700, '끄덕이다': 14701, '김태희': 14702, '전지현': 14703, '오뚝하다': 14704, '트와이스': 14705, '나연': 14706, '박동': 14707, '툴툴거렸더': 14708, '차하': 14709, '잡다하다': 14710, '전파': 14711, '번지르르하다': 14712, '연쇄': 14713, '손등': 14714, '영리': 14715, '서빙': 14716, '심혈': 14717, '신장병': 14718, '예후': 14719, '근해': 14720, '빨강이': 14721, '항진': 14722, '베이': 14723, '킹': 14724, '진품': 14725, '일장기': 14726, '표지': 14727, '싸잡다': 14728, '닥달하': 14729, '이상향': 14730, '다방면': 14731, '안면도': 14732, '공기청정기': 14733, '알람시계': 14734, '이십분': 14735, '훼방': 14736, '잡초': 14737, '성내다': 14738, '회생': 14739, '밝기': 14740, '저당': 14741, '물체': 14742, '흠뻑': 14743, '궁둥이': 14744, '몸서리': 14745, '잉글리쉬': 14746, '등원': 14747, '여신': 14748, '배은망덕하다': 14749, '수렴': 14750, '자극받다': 14751, '수요': 14752, '스프레이': 14753, '원격': 14754, '양립': 14755, '무르익어': 14756, '자살률': 14757, '서민': 14758, '물색': 14759, '신생아': 14760, '꼬깃꼬깃': 14761, '까닭': 14762, '해치': 14763, '동작': 14764, '삼만': 14765, '화통': 14766, '본심': 14767, '휘둥그레지다': 14768, '재채기': 14769, '방인': 14770, '과분': 14771, '시카고': 14772, '소동': 14773, '이공': 14774, '맹렬하다': 14775, '지긋지긋': 14776, '연합': 14777, '비밀연애': 14778, '비현실적': 14779, '백팔십이': 14780, '돈줄로': 14781, '환심': 14782, '남이면': 14783, '옷값': 14784, '변상': 14785, '누렇': 14786, '동향': 14787, '거주지': 14788, '겹겹이': 14789, '의붓': 14790, '귤': 14791, '산통': 14792, '에베레스트산': 14793, '출산휴가': 14794, '요로': 14795, '홍조': 14796, '카디건': 14797, '비고': 14798, '노엽': 14799, '병날': 14800, '승연이': 14801, '승연': 14802, '선인장': 14803, '파상풍': 14804, '골수': 14805, '증자': 14806, '궁지': 14807, '이튿날': 14808, '뜬구름': 14809, '철로': 14810, '타나': 14811, '합숙': 14812, '배설물': 14813, '면밀하다': 14814, '능력자': 14815, '던지기': 14816, '원숭이': 14817, '할망구': 14818, '수주': 14819, '새로이': 14820, '의처증': 14821, '엉큼하다': 14822, '삽': 14823, '팔근육': 14824, '병해': 14825, '진득': 14826, '겹치': 14827, '불가': 14828, '하복부': 14829, '잔인': 14830, '나비': 14831, '화학물질': 14832, '어투': 14833, '부친': 14834, '프렌드': 14835, '극장': 14836, '애처': 14837, '공리': 14838, '부양가족': 14839, '관공서': 14840, '괴짜': 14841, '압정': 14842, '민아': 14843, '폐쇄': 14844, '출입문': 14845, '이르렀던': 14846, '누르기': 14847, '즐': 14848, '민사': 14849, '전해지다': 14850, '군데군데': 14851, '불어오다': 14852, '미적': 14853, '인종차별': 14854, '실연': 14855, '모닥불': 14856, '돌싱': 14857, '휘둘려': 14858, '오백일이': 14859, '만능': 14860, '엔지니어': 14861, '탁자': 14862, '이백오십': 14863, '폭하': 14864, '우발': 14865, '감정이입': 14866, '횡설수설': 14867, '턱뼈': 14868, '단명': 14869, '샛노랗': 14870, '퍼주시': 14871, '세속': 14872, '박차다': 14873, '폭럭': 14874, '삼이': 14875, '임기응변': 14876, '여고': 14877, '씹히다': 14878, '폭주': 14879, '것이므': 14880, '실지': 14881, '버젓': 14882, '전광판': 14883, '쾌차': 14884, '동호': 14885, '브로': 14886, '풀풀': 14887, '소재': 14888, '탄수화물': 14889, '백사십이': 14890, '스케일링': 14891, '간접': 14892, '국사': 14893, '계약위반': 14894, '비밀스럽다': 14895, '퍼뜨렸다': 14896, '문소리': 14897, '야망': 14898, '광고주': 14899, '환원': 14900, '느긋': 14901, '주정뱅이': 14902, '파고다': 14903, '액땜': 14904, '눈높이': 14905, '녹록하다': 14906, '조여': 14907, '세팅': 14908, '계영': 14909, '배영': 14910, '귀염': 14911, '신앙': 14912, '에부터': 14913, '회초리': 14914, '승부': 14915, '활성화': 14916, '실금': 14917, '사일': 14918, '잡담': 14919, '저명하다': 14920, '예년': 14921, '늪': 14922, '보살': 14923, '보조개': 14924, '따스하다': 14925, '발췌': 14926, '실화': 14927, '망중': 14928, '부비': 14929, '품성': 14930, '별관': 14931, '으르렁': 14932, '만기일': 14933, '성범죄': 14934, '말끔': 14935, '떨어트린': 14936, '팬데믹': 14937, '구설수': 14938, '감치': 14939, '처세': 14940, '특출하다': 14941, '수박': 14942, '며느릿감': 14943, '라섹': 14944, '반찬거리': 14945, '강북': 14946, '도봉구': 14947, '창동': 14948, '시산': 14949, '입증': 14950, '예술가': 14951, '전기자동차': 14952, '부정부패': 14953, '닥터': 14954, '직인': 14955, '주정하': 14956, '송이': 14957, '그레': 14958, '의병': 14959, '조부': 14960, '스피닝': 14961, '삼억이': 14962, '일촉즉발': 14963, '퍼뜨렸을까': 14964, '동명이인': 14965, '갈아타다': 14966, '단종': 14967, '둿': 14968, '타보라': 14969, '빗질': 14970, '흐트러졌': 14971, '일간': 14972, '미진하다': 14973, '도출': 14974, '수신': 14975, '엮일지': 14976, '땡전': 14977, '엘리트': 14978, '용역': 14979, '창백하다': 14980, '서커스': 14981, '호의호식': 14982, '숙련': 14983, '모아둘껄': 14984, '낙천': 14985, '폐하': 14986, '과반': 14987, '상승세': 14988, '클라이언트': 14989, '교통체증': 14990, '허송': 14991, '튀기다': 14992, '쉽사리': 14993, '팔로워': 14994, '주소록': 14995, '다크': 14996, '서클': 14997, '아동': 14998, '팔자주름': 14999, '쿵쾅': 15000, '모드': 15001, '옷가지': 15002, '음향': 15003, '구태여': 15004, '오백사': 15005, '주량': 15006, '목도리': 15007, '심취': 15008, '윙크': 15009, '키즈': 15010, '천금': 15011, '쉬기': 15012, '후론': 15013, '스튜어디스': 15014, '양치': 15015, '자의': 15016, '깃값': 15017, '할미': 15018, '초산': 15019, '요식업': 15020, '어플리케이션': 15021, '엄포': 15022, '미니스커트': 15023, '기계화': 15024, '행정고시': 15025, '난간': 15026, '긁혔는데': 15027, '국정감사': 15028, '무너': 15029, '최연': 15030, '들판': 15031, '우뚝': 15032, '만수무강': 15033, '총재': 15034, '산이': 15035, '삼십억': 15036, '서명': 15037, '중하': 15038, '체구': 15039, '생활환경': 15040, '영철': 15041, '케익': 15042, '사진첩': 15043, '가연': 15044, '정차': 15045, '재량': 15046, '뵀던': 15047, '외계어': 15048, '너머': 15049, '우르': 15050, '노랜데': 15051, '재생': 15052, '팝송': 15053, '렐라': 15054, '진욱': 15055, '뿔': 15056, '해신': 15057, '재깍재깍': 15058, '라기보단': 15059, '온기': 15060, '짜져': 15061, '미숫가루': 15062, '어루': 15063, '가끔가다': 15064, '면도날': 15065, '쭈': 15066, '축척': 15067, '아드레날린': 15068, '분비': 15069, '인류': 15070, '잔항': 15071, '생물': 15072, '구원': 15073, '자기혐오': 15074, '입성': 15075, '퍼센튼': 15076, '자위': 15077, '꿰차': 15078, '자시': 15079, '유교': 15080, '남경': 15081, '차별성': 15082, '여군': 15083, '버라이어티': 15084, '녹화': 15085, '박해진': 15086, '여깄': 15087, '중대로': 15088, '희재': 15089, '베일': 15090, '자유여행': 15091, '보이스': 15092, '슬비': 15093, '뒤틀리다': 15094, '배배': 15095, '간격': 15096, '쭈구리': 15097, '구렛나루': 15098, '머릴': 15099, '굳어지다': 15100, '겸상': 15101, '벌초': 15102, '김지영': 15103, '사소': 15104, '이재용': 15105, '실험실': 15106, '노가리': 15107, '게나': 15108, '일식집': 15109, '서라운드': 15110, '이동훈': 15111, '띵동': 15112, '노튼': 15113, '바야흐로': 15114, '목포': 15115, '어색': 15116, '특출나다': 15117, '분일': 15118, '고구': 15119, '동아': 15120, '똥차짓': 15121, '그나': 15122, '연하다': 15123, '런닝': 15124, '짜내다': 15125, '작곡가': 15126, '해커': 15127, '꼽주듯': 15128, '몬': 15129, '스태프': 15130, '카지노': 15131, '꾀죄죄하다': 15132, '어벤져스': 15133, '트론': 15134, '아이언맨': 15135, '장착': 15136, '타일': 15137, '횡단': 15138, '팔꿈치': 15139, '조형기': 15140, '프로요': 15141, '종영': 15142, '눈싸움': 15143, '아른아른': 15144, '유승': 15145, '은씨': 15146, '유성은': 15147, '감미롭다': 15148, '세일러문': 15149, '마동석': 15150, '꼽으라면': 15151, '어벤저스': 15152, '화표': 15153, '활활': 15154, '타오르다': 15155, '찬가': 15156, '못닸': 15157, '해병': 15158, '콧구멍': 15159, '끼울다': 15160, '만리장성': 15161, '랐': 15162, '전진': 15163, '여깄다': 15164, '적정하다': 15165, '엄할': 15166, '의민': 15167, '굔데': 15168, '불교': 15169, '데프콘': 15170, '입덕': 15171, '카시오페아': 15172, '싱가폴': 15173, '침범': 15174, '큐시트': 15175, '루즈': 15176, '앞치마': 15177, '컨셉': 15178, '땡땡': 15179, '물감': 15180, '전시장': 15181, '이경': 15182, '찐꼰대': 15183, '위세': 15184, '변주': 15185, '밀양': 15186, '초딩': 15187, '중딩': 15188, '조각상': 15189, '돌하르방': 15190, '흑백': 15191, '퍼왔': 15192, '낑기다': 15193, '동방신기': 15194, '빅뱅': 15195, '소복이': 15196, '장구채': 15197, '박자': 15198, '째지다': 15199, '이경영': 15200, '안수지': 15201, '대피소': 15202, '에어': 15203, '길쭉하다': 15204, '십자가': 15205, '무용': 15206, '화재경보기': 15207, '쫄려': 15208, '포스터': 15209, '경보기': 15210, '과도기': 15211, '회색': 15212, '눈동자': 15213, '다고': 15214, '아이지': 15215, '반대말': 15216, '애틋': 15217, '멸망': 15218, '정복': 15219, '맴': 15220, '연출': 15221, '파양': 15222, '출입구': 15223, '군복': 15224, '더블': 15225, '가로지르다': 15226, '사생': 15227, '아련하다': 15228, '증발': 15229, '아련': 15230, '도심': 15231, '과수원': 15232, '농장': 15233, '헌법': 15234, '건전하다': 15235, '앵': 15236, '테라': 15237, '버닝': 15238, '침낭': 15239, '데자뷰': 15240, '급발진': 15241, '막막': 15242, '엥': 15243, '아래턱': 15244, '상엽이': 15245, '선잠': 15246, '다사': 15247, '다난': 15248, '평타': 15249, '시월': 15250, '슈웅': 15251, '핫': 15252, '개개': 15253, '해애': 15254, '걸르': 15255, '껀덕': 15256, '겁내': 15257, '방침': 15258, '수수': 15259, '풍파': 15260, '앗다': 15261, '헤헤': 15262, '쿠': 15263, '이쒸': 15264, '알걸': 15265, '천둥소리': 15266, '박수지': 15267, '천안': 15268, '김국': 15269, '그랴': 15270, '솔': 15271, '윗몸': 15272, '로기': 15273, '간다라': 15274, '쭈뼛쭈뼛': 15275, '서스럼없': 15276, '화법': 15277, '탐구': 15278, '전입': 15279, '시크': 15280, '겸손': 15281, '탄지': 15282, '어언': 15283, '중간계': 15284, '술래잡기': 15285, '살점': 15286, '똠': 15287, '권혁수': 15288, '붓': 15289, '찰지다': 15290, '혈': 15291, '독선': 15292, '스매싱': 15293, '억울': 15294, '안겹': 15295, '청중': 15296, '뜰걸': 15297, '명언': 15298, '위론': 15299, '유툽': 15300, '솔직': 15301, '고분고분': 15302, '눈엣가시': 15303, '난가': 15304, '영아': 15305, '노비': 15306, '양대': 15307, '산맥': 15308, '모음': 15309, '확행': 15310, '행인': 15311, '문예': 15312, '올여름': 15313, '엎친': 15314, '통신망': 15315, '각심': 15316, '벨트': 15317, '생수': 15318, '정총': 15319, '포지션': 15320, '양세찬': 15321, '도예': 15322, '단기': 15323, '이재인': 15324, '강시': 15325, '가락': 15326, '조인트': 15327, '놨었는데': 15328, '성묘': 15329, '억양': 15330, '소매': 15331, '구리': 15332, '발길질': 15333, '신문배달': 15334, '유래': 15335, '국밥': 15336, '방임': 15337, '떵떵거리': 15338, '발언권': 15339, '말뚝': 15340, '세뇌': 15341, '잠재': 15342, '성범죄자': 15343, '마우스': 15344, '바깥쪽': 15345, '디귿': 15346, '으아아': 15347, '상무고': 15348, '엉덩방아': 15349, '비틀비틀': 15350, '주정이': 15351, '술주': 15352, '요런': 15353, '용산역': 15354, '젠장': 15355, '기차역': 15356, '꼬장': 15357, '아앙': 15358, '구라': 15359, '꼰대스트': 15360, '간간히': 15361, '버셔가지': 15362, '스틱': 15363, '클러치': 15364, '파워': 15365, '가꼬': 15366, '부릉': 15367, '후루룩': 15368, '핸': 15369, '짚차': 15370, '파로': 15371, '사악하다': 15372, '잭스': 15373, '로우': 15374, '낙지': 15375, '코미디': 15376, '빅리그': 15377, '신들': 15378, '어거거거': 15379, '곽도원': 15380, '주지훈': 15381, '인싸력': 15382, '뿜뿜': 15383, '꼰대면': 15384, '침구': 15385, '관물': 15386, '마이크로': 15387, '대별': 15388, '마술사': 15389, '크큭': 15390, '커커커커컥': 15391, '소대': 15392, '개편': 15393, '물구나무': 15394, '새카맣': 15395, '폐허': 15396, '실외': 15397, '온도': 15398, '펑': 15399, '아싸': 15400, '남원': 15401, '키로거': 15402, '뽀미잖': 15403, '꼬셨어': 15404, '꼬신': 15405, '문란하다': 15406, '코곤다': 15407, '국군': 15408, '행정관': 15409, '군의관': 15410, '기면': 15411, '왜러': 15412, '국방': 15413, '현격히': 15414, '쪼만': 15415, '설문': 15416, '갈라고': 15417, '대매': 15418, '산속': 15419, '컨테이너': 15420, '홀리': 15421, '구현': 15422, '방수': 15423, '유아기': 15424, '이입': 15425, '그리움': 15426, '열한시': 15427, '고학년': 15428, '무술': 15429, '디디다': 15430, '일케': 15431, '네다섯': 15432, '양팔': 15433, '이즘': 15434, '하수': 15435, '맨홀': 15436, '푸덕': 15437, '깔아뭉갠': 15438, '엘레베이터': 15439, '시트콤': 15440, '이영자': 15441, '곰': 15442, '얀': 15443, '여상': 15444, '페': 15445, '삼천포': 15446, '안재현': 15447, '송민호': 15448, '고자': 15449, '꼬깔꼬깔': 15450, '송지효': 15451, '월요커플': 15452, '멜로': 15453, '박태환': 15454, '스피드': 15455, '스케이팅': 15456, '꼰대분': 15457, '건줄': 15458, '몽글몽글하다': 15459, '감자칩': 15460, '샤부샤부': 15461, '자상': 15462, '울컥울컥': 15463, '복수심': 15464, '현인': 15465, '징': 15466, '꼬꼬': 15467, '디지털콘텐츠': 15468, '바삭바삭': 15469, '바삭바삭하다': 15470, '컵밥': 15471, '인문학': 15472, '소양': 15473, '혁준': 15474, '상하이': 15475, '아이스티': 15476, '산적': 15477, '경포대': 15478, '원주': 15479, '체크아웃': 15480, '광어': 15481, '콘센트': 15482, '귀엽드': 15483, '군번': 15484, '데려꼬': 15485, '박격포': 15486, '흐느적': 15487, '김혜자': 15488, '짬찌': 15489, '벽에닥': 15490, '잭': 15491, '잭시': 15492, '근사치': 15493, '아우슈비츠': 15494, '궁극': 15495, '유기체': 15496, '한류': 15497, '버전': 15498, '단소': 15499, '비너스': 15500, '조화롭다': 15501, '아시아': 15502, '차이니스': 15503, '일본인': 15504, '라기': 15505, '신종플루': 15506, '실용': 15507, '명분': 15508, '건국': 15509, '빠득빠득': 15510, '뿡': 15511, '보급': 15512, '동연': 15513, '혜민': 15514, '별천지': 15515, '묘미': 15516, '원교': 15517, '현석': 15518, '원기': 15519, '무지개': 15520, '하연': 15521, '꼬셔가지': 15522, '꼬셨잖': 15523, '레어템': 15524, '해감': 15525, '칵': 15526, '설악산': 15527, '이롭다': 15528, '쓰레받기': 15529, '냬': 15530, '앞쪽': 15531, '웰빙': 15532, '부송': 15533, '조꼼': 15534, '서대전역': 15535, '어리숙하다': 15536, '때란': 15537, '취했던': 15538, '알딸딸하다': 15539, '부순': 15540, '떨이': 15541, '어이없이': 15542, '확시': 15543, '개극혐': 15544, '뒤집힌': 15545, '통학버스': 15546, '어흐': 15547, '사육': 15548, '바부': 15549, '유나': 15550, '관습': 15551, '절하': 15552, '캉': 15553, '크런': 15554, '몸속': 15555, '곪는다': 15556, '안착': 15557, '준위': 15558, '간간이': 15559, '쓰레긴데': 15560, '와장창': 15561, '교훈': 15562, '묵': 15563, '변애': 15564, '경험치': 15565, '토토가': 15566, '젝스키스': 15567, '남극': 15568, '북극': 15569, '세종': 15570, '비지': 15571, '패떴': 15572, '알고리즘': 15573, '황당': 15574, '오르막': 15575, '카페베네': 15576, '꼰대네': 15577, '심지': 15578, '산디': 15579, '표본': 15580, '몰카': 15581, '학위': 15582, '휜': 15583, '휘도': 15584, '이라기': 15585, '경희': 15586, '위압': 15587, '스파이': 15588, '조세호': 15589, '하닌': 15590, '민혁': 15591, '박찬': 15592, '송예림': 15593, '월달': 15594, '아프리카티비': 15595, '세인': 15596, '악녀': 15597, '차승원': 15598, '세명': 15599, '류승룡': 15600, '이수': 15601, '김수정': 15602, '강박증': 15603, '밍': 15604, '어허헣': 15605, '쩝': 15606, '은서': 15607, '은빈': 15608, '거냬': 15609, '한채연': 15610, '어쩌구저쩌구': 15611, '가오': 15612, '성욱': 15613, '요정': 15614, '월남': 15615, '햇반': 15616, '미트볼': 15617, '생채': 15618, '갬동갬동': 15619, '녀고': 15620, '북중': 15621, '에고': 15622, '기사도': 15623, '거즈': 15624, '매달다': 15625, '실내수영장': 15626, '방콕': 15627, '샤이니': 15628, '나도야': 15629, '신천': 15630, '박예진': 15631, '진아': 15632, '김수로': 15633, '뜩': 15634, '하니지': 15635, '칭': 15636, '글썽': 15637, '메인': 15638, '영창': 15639, '꼰대라': 15640, '주저리주저리': 15641, '점오': 15642, '구거': 15643, '스피컨': 15644, '새우잠': 15645, '빠딱빠딱': 15646, '묵적': 15647, '어쩌고저쩌고': 15648, '저쩌': 15649, '홀리데이': 15650, '치안': 15651, '역사상': 15652, '었': 15653, '절충': 15654, '우월': 15655, '페미니스트': 15656, '새근새근': 15657, '고거': 15658, '맞닥뜨리면': 15659, '대차': 15660, '전복': 15661, '키기': 15662, '추월': 15663, '칙칙하다': 15664, '멸종': 15665, '교란': 15666, '은지원': 15667, '조합': 15668, '완전체': 15669, '팬카페': 15670, '오분': 15671, '신한은행': 15672, '국민은행': 15673, '킥킥대다': 15674, '압축': 15675, '엑스맨': 15676, '벤틀리': 15677, '윌리엄': 15678, '칼부림': 15679, '분포': 15680, '훈': 15681, '최석훈': 15682, '석훈': 15683, '극상': 15684, '압바': 15685, '컹컹': 15686, '컹': 15687, '같이도': 15688, '별개': 15689, '신기': 15690, '꼬매': 15691, '고릴라': 15692, '영어선생님': 15693, '호탕': 15694, '끙끙': 15695, '해년': 15696, '수권': 15697, '빠꾸': 15698, '백종원': 15699, '로봇청소기': 15700, '다이빙': 15701, '유튜': 15702, '사나이': 15703, '교도': 15704, '빡센': 15705, '롯데리아': 15706, '군대리아': 15707, '투사': 15708, '사부': 15709, '라운드': 15710, '수염': 15711, '배율': 15712, '냔': 15713, '장로': 15714, '대순': 15715, '진리': 15716, '흰색': 15717, '크로스': 15718, '이분': 15719, '장선': 15720, '무한정': 15721, '흔': 15722, '정선': 15723, '취침': 15724, '내무실': 15725, '퍽퍽': 15726, '윽윽': 15727, '전차': 15728, '컥컥컥컥': 15729, '초뒤': 15730, '승현': 15731, '철문': 15732, '어찌저찌': 15733, '파이': 15734, '후라이드': 15735, '은진': 15736, '레이더스': 15737, '유목': 15738, '캐치': 15739, '토핑': 15740, '인애': 15741, '컬처': 15742, '쇼킹': 15743, '전신주': 15744, '디립': 15745, '히든싱어': 15746, '회동할': 15747, '타이틀곡': 15748, '인트': 15749, '산사태': 15750, '잠기': 15751, '유족': 15752, '주상': 15753, '정읍': 15754, '중상': 15755, '긁힌': 15756, '빠드득': 15757, '나머': 15758, '잠결': 15759, '발차기': 15760, '우당탕': 15761, '주섬주섬': 15762, '타겟': 15763, '주석': 15764, '오열': 15765, '깍두기': 15766, '라만': 15767, '즉석': 15768, '북부': 15769, '사정없이': 15770, '명치': 15771, '쪼꼬만': 15772, '끽끽': 15773, '다이얼': 15774, '헤벌쭉헤벌쭉': 15775, '흐느껴': 15776, '왜왜왜왜': 15777, '으하하하하': 15778, '수혈': 15779, '갈랬더': 15780, '안동': 15781, '골든타임': 15782, '난리였드': 15783, '맛내기': 15784, '비빔국수': 15785, '연륜': 15786, '전골': 15787, '맺혔다기': 15788, '비비다': 15789, '제제': 15790, '성만': 15791, '다방': 15792, '공업': 15793, '밀집': 15794, '험상궂다': 15795, '불빛': 15796, '기장': 15797, '트레이닝복': 15798, '밑위': 15799, '바글바글': 15800, '진남': 15801, '띠이다': 15802, '말대답': 15803, '사변': 15804, '범일': 15805, '사범': 15806, '꼰대같애': 15807, '마르': 15808, '노땅': 15809, '이랬다고': 15810, '건들건들': 15811, '미담': 15812, '개그콘서트': 15813, '트렌트': 15814, '토크쇼': 15815, '쉼표': 15816, '예능인': 15817, '식스센스': 15818, '다재다능하다': 15819, '범접': 15820, '쳐드': 15821, '에서처럼': 15822, '봇': 15823, '컨텐츠': 15824, '지윤': 15825, '시엔': 15826, '싱크대': 15827, '어웅': 15828, '현충일': 15829, '켁켁켁켁': 15830, '정신연령': 15831, '왠만하다': 15832, '비학': 15833, '끝판': 15834, '병사': 15835, '무너뜨릴': 15836, '끈끈함': 15837, '순도': 15838, '여의도': 15839, '불꽃': 15840, '뉘앙스': 15841, '수료': 15842, '카아': 15843, '콩깍지': 15844, '씌': 15845, '거였드': 15846, '우씨': 15847, '부대': 15848, '뻐티': 15849, '예진': 15850, '인욱': 15851, '취했': 15852, '잤겄고': 15853, '잤겄': 15854, '그르케': 15855, '쫌씩': 15856, '쪼오끔': 15857, '천상': 15858, '재방': 15859, '쭝국': 15860, '꼬깔콘': 15861, '경준': 15862, '나피딘': 15863, '에바': 15864, '년마단': 15865, '강변가요제': 15866, '상탠데': 15867, '육전': 15868, '어저껜': 15869, '껜': 15870, '지리': 15871, '뻥치': 15872, '안대': 15873, '보디': 15874, '라이네': 15875, '거거': 15876, '겹치기': 15877, '구황': 15878, '브로콜리': 15879, '맵': 15880, '하숙': 15881, '바리바리': 15882, '맺혔': 15883, '효모': 15884, '영환': 15885, '파출부': 15886, '파장': 15887, '문진': 15888, '지칙': 15889, '연두': 15890, '번역기': 15891, '옹': 15892, '핥다': 15893, '하악': 15894, '어후': 15895, '멍멍': 15896, '사스': 15897, '낑낑대다': 15898, '관등': 15899, '성명': 15900, '진호': 15901, '명령어': 15902, '지니다': 15903, '끝말': 15904, '안씨': 15905, '광규': 15906, '여관': 15907, '육중': 15908, '완': 15909, '선반': 15910, '추돌': 15911, '가속': 15912, '감속': 15913, '쇠판': 15914, '용수철': 15915, '튕겨가지': 15916, '화물': 15917, '철근': 15918, '결박': 15919, '온전': 15920, '형상': 15921, '카니발': 15922, '도일': 15923, '유재': 15924, '예언': 15925, '정준': 15926, '정준하': 15927, '으아어': 15928, '놀부': 15929, '흥부': 15930, '레이스': 15931, '광수': 15932, '남창희': 15933, '남창': 15934, '단대': 15935, '중량': 15936, '쯧': 15937, '이산': 15938, '힌': 15939, '근다잉': 15940, '고정은': 15941, '쉰내': 15942, '특색': 15943, '해풍': 15944, '섬초': 15945, '내륙': 15946, '댐': 15947, '리뷰': 15948, '초적': 15949, '디트로이트': 15950, '비컴': 15951, '녹다': 15952, '거던': 15953, '엔딩': 15954, '셧다운': 15955, '해해': 15956, '아인슈타인': 15957, '반론': 15958, '반란': 15959, '바이오하자드': 15960, '호진': 15961, '육수': 15962, '슬으슬': 15963, '태백산맥': 15964, '태백산': 15965, '조명': 15966, '꼬맸': 15967, '거깄는': 15968, '믄': 15969, '여깄는': 15970, '가드레일': 15971, '돈데': 15972, '뉴': 15973, '도로로': 15974, '번화가': 15975, '링': 15976, '씌였다': 15977, '킥복싱': 15978, '쌍코피': 15979, '주르륵': 15980, '베이징': 15981, '뒷짐': 15982, '근다매': 15983, '기묘하다': 15984, '까마귀': 15985, '숙숙': 15986, '방언': 15987, '터친': 15988, '에레레레레렐': 15989, '눌린': 15990, '눌': 15991, '눌렸거': 15992, '눌렸는데': 15993, '눌려': 15994, '수맥': 15995, '눌렸': 15996, '풀리겄': 15997, '고령화': 15998, '할머닌데': 15999, '백골': 16000, '뽀비': 16001, '아쿠아리움': 16002, '해운대': 16003, '여수': 16004, '피식': 16005, '마인': 16006, '닥': 16007, '강하': 16008, '우러나': 16009, '권익': 16010, '제삿밥': 16011, '강가': 16012, '풍습': 16013, '파김치': 16014, '근다': 16015, '오래됐드': 16016, '한물가다': 16017, '넷이': 16018, '습관성': 16019, '자겄다': 16020, '갈았겄': 16021, '다니닌다': 16022, '씨익': 16023, '왜애': 16024, '트리오': 16025, '다거나': 16026, '기생': 16027, '음음음': 16028, '뼈대': 16029, '우스갯소리': 16030, '후려': 16031, '승질': 16032, '신호야': 16033, '이병': 16034, '끗': 16035, '틱틱대': 16036, '워커홀릭': 16037, '울먹거리다': 16038, '으이': 16039, '윈윈': 16040, '전라도': 16041, '불평등': 16042, '이준석': 16043, '욕망': 16044, '고결하다': 16045, '반세기': 16046, '부실': 16047, '임기': 16048, '재임': 16049, '스며들다': 16050, '유추': 16051, '민국': 16052, '만세': 16053, '송종국': 16054, '이휘재': 16055, '장윤정': 16056, '미란': 16057, '보재': 16058, '전준': 16059, '센치': 16060, '현무': 16061, '기면증': 16062, '같이는': 16063, '은영': 16064, '하나고': 16065, '경진': 16066, '오락실': 16067, '버스비': 16068, '하이킹': 16069, '식스센슨': 16070, '가려내다': 16071, '남방': 16072, '농협': 16073, '취했구': 16074, '죽겄다': 16075, '어지럽혀지다': 16076, '온수': 16077, '매트': 16078, '우적': 16079, '꼰대더': 16080, '무살': 16081, '투맨': 16082, '부추': 16083, '짤방': 16084, '대로의': 16085, '주물럭': 16086, '주물': 16087, '럭': 16088, '조리법': 16089, '소스': 16090, '자하': 16091, '불평등하다': 16092, '뽀': 16093, '폐쇄성들': 16094, '우석': 16095, '유리천장': 16096, '골대': 16097, '신동': 16098, '꼽으': 16099, '귓': 16100, '글렀다': 16101, '보연': 16102, '법당': 16103, '마티즌': 16104, '슝': 16105, '가건물': 16106, '진앙': 16107, '천진': 16108, '아시냐': 16109, '수원역': 16110, '익산역': 16111, '주현': 16112, '글귀': 16113, '선교': 16114, '획일': 16115, '탑재': 16116, '냉동인간': 16117, '동거인': 16118, '여런': 16119, '노스트': 16120, '주영': 16121, '한지민': 16122, '눈부시다': 16123, '상체': 16124, '가슴골': 16125, '꼰데라떼': 16126, '복불복': 16127, '케케케': 16128, '티맵': 16129, '아리아': 16130, '플로': 16131, '음성인식': 16132, '주구': 16133, '왓치': 16134, '뭐시기': 16135, '로남불': 16136, '간결하다': 16137, '아라라': 16138, '꼰데': 16139, '디지털화': 16140, '꼰대였': 16141, '꼰댄가': 16142, '꼰댄가봐': 16143, '꽁트': 16144, '명수': 16145, '유인물': 16146, '선교사': 16147, '뱃지': 16148, '알곡': 16149, '쭉정이': 16150, '침례교': 16151, '시그널': 16152, '스텝': 16153, '논외': 16154, '쓰레긴': 16155, '괘': 16156, '메뉸데': 16157, '쓰럽기': 16158, '전제': 16159, '재연': 16160, '집집': 16161, '대중화': 16162}\n"
          ]
        }
      ],
      "source": [
        "print(tokenizer.word_index)"
      ]
    },
    {
      "cell_type": "code",
      "execution_count": null,
      "metadata": {
        "colab": {
          "base_uri": "https://localhost:8080/"
        },
        "outputId": "217e8a37-ad03-4226-f25b-e16365677cc7",
        "id": "mjmY-mpvgY2a"
      },
      "outputs": [
        {
          "output_type": "stream",
          "name": "stdout",
          "text": [
            "단어 집합(vocabulary)의 크기 : 16162\n",
            "등장 빈도가 2번 이하인 희귀 단어의 수: 6975\n",
            "단어 집합에서 희귀 단어의 비율: 43.156787526296256\n",
            "전체 등장 빈도에서 희귀 단어 등장 빈도 비율: 0.7970579879415386\n"
          ]
        }
      ],
      "source": [
        "threshold = 3\n",
        "total_cnt = len(tokenizer.word_index) # 단어의 수\n",
        "rare_cnt = 0 # 등장 빈도수가 threshold보다 작은 단어의 개수를 카운트\n",
        "total_freq = 0 # 훈련 데이터의 전체 단어 빈도수 총 합\n",
        "rare_freq = 0 # 등장 빈도수가 threshold보다 작은 단어의 등장 빈도수의 총 합\n",
        "\n",
        "# 단어와 빈도수의 쌍(pair)을 key와 value로 받는다.\n",
        "for key, value in tokenizer.word_counts.items():\n",
        "    total_freq = total_freq + value\n",
        "\n",
        "    # 단어의 등장 빈도수가 threshold보다 작으면\n",
        "    if(value < threshold):\n",
        "        rare_cnt = rare_cnt + 1\n",
        "        rare_freq = rare_freq + value\n",
        "\n",
        "print('단어 집합(vocabulary)의 크기 :',total_cnt)\n",
        "print('등장 빈도가 %s번 이하인 희귀 단어의 수: %s'%(threshold - 1, rare_cnt))\n",
        "print(\"단어 집합에서 희귀 단어의 비율:\", (rare_cnt / total_cnt)*100)\n",
        "print(\"전체 등장 빈도에서 희귀 단어 등장 빈도 비율:\", (rare_freq / total_freq)*100)"
      ]
    },
    {
      "cell_type": "code",
      "execution_count": null,
      "metadata": {
        "colab": {
          "base_uri": "https://localhost:8080/"
        },
        "outputId": "2bedbf92-d970-4c18-dffb-6a050da54f18",
        "id": "-3rkaF3JgY2a"
      },
      "outputs": [
        {
          "output_type": "stream",
          "name": "stdout",
          "text": [
            "단어 집합의 크기 : 9188\n"
          ]
        }
      ],
      "source": [
        "# 전체 단어 개수 중 빈도수 2이하인 단어는 제거.\n",
        "# 0번 패딩 토큰을 고려하여 + 1\n",
        "vocab_size = total_cnt - rare_cnt + 1\n",
        "print('단어 집합의 크기 :',vocab_size)"
      ]
    },
    {
      "cell_type": "code",
      "execution_count": null,
      "metadata": {
        "id": "rP5fAL5kgY2a"
      },
      "outputs": [],
      "source": [
        "tokenizer = Tokenizer(vocab_size) \n",
        "tokenizer.fit_on_texts(X_train)\n",
        "X_train = tokenizer.texts_to_sequences(X_train)\n",
        "# X_test = tokenizer.texts_to_sequences(X_test)"
      ]
    },
    {
      "cell_type": "code",
      "execution_count": null,
      "metadata": {
        "colab": {
          "base_uri": "https://localhost:8080/"
        },
        "outputId": "fa694174-345d-42e4-f461-0bd782d998c4",
        "id": "LQa-OQN-gY2a"
      },
      "outputs": [
        {
          "output_type": "stream",
          "name": "stdout",
          "text": [
            "[[61, 377, 28, 529, 300, 3, 377, 28, 13, 88, 453, 148, 16, 732, 2277, 1624, 1, 732], [53, 504, 573, 27, 1505, 3631, 7, 83, 543, 967, 12, 343, 1030], [441, 2000, 172, 164, 11, 37, 132, 32, 30]]\n"
          ]
        }
      ],
      "source": [
        "print(X_train[:3])"
      ]
    },
    {
      "cell_type": "code",
      "source": [
        "def to_num(label):\n",
        "  if label == 'dysphoria':\n",
        "    label = 0\n",
        "    return 0 \n",
        "  elif label == 'neutral':\n",
        "    label = 1\n",
        "    return 1\n",
        "  elif label == 'euphoria':\n",
        "    return 2\n",
        "\n",
        "Y_train_tonum = train_data['label'].apply(to_num)  \n",
        "Y_train_tonum"
      ],
      "metadata": {
        "colab": {
          "base_uri": "https://localhost:8080/"
        },
        "outputId": "cb22c9a4-cb3d-4b04-92a0-749d3d078ecd",
        "id": "pDVcNrPkgY2a"
      },
      "execution_count": null,
      "outputs": [
        {
          "output_type": "execute_result",
          "data": {
            "text/plain": [
              "0         0\n",
              "1         0\n",
              "2         1\n",
              "3         0\n",
              "4         2\n",
              "         ..\n",
              "112024    1\n",
              "112025    1\n",
              "112026    1\n",
              "112027    1\n",
              "112028    1\n",
              "Name: label, Length: 106498, dtype: int64"
            ]
          },
          "metadata": {},
          "execution_count": 104
        }
      ]
    },
    {
      "cell_type": "code",
      "execution_count": null,
      "metadata": {
        "id": "Lbq7SvfJgY2a"
      },
      "outputs": [],
      "source": [
        "Y_train = np.array(Y_train_tonum)\n",
        "# y_test = np.array(test_data['label'])"
      ]
    },
    {
      "cell_type": "markdown",
      "metadata": {
        "id": "aNbyQfo7gY2b"
      },
      "source": [
        "# 5) 빈 샘플 제거\n",
        "\n",
        "전체 데이터에서 빈도수가 낮은 단어가 삭제되었다는 것은 빈도수가 낮은 단어만으로 구성되었던 샘플들은 빈(empty) 샘플이 되었다는 것을 의미합니다. 빈 샘플들은 어떤 레이블이 붙어있던 의미가 없으므로 빈 샘플들을 제거해주는 작업을 하겠습니다. 각 샘플들의 길이를 확인해서 길이가 0인 샘플들의 인덱스를 받아오겠습니다."
      ]
    },
    {
      "cell_type": "code",
      "execution_count": null,
      "metadata": {
        "id": "3VuY8GHAgY2b"
      },
      "outputs": [],
      "source": [
        "drop_train = [index for index, sentence in enumerate(X_train) if len(sentence) < 1]"
      ]
    },
    {
      "cell_type": "code",
      "execution_count": null,
      "metadata": {
        "colab": {
          "base_uri": "https://localhost:8080/"
        },
        "outputId": "dceb116d-da6f-41a5-b088-96235846b78e",
        "id": "00SR9i-jgY2b"
      },
      "outputs": [
        {
          "output_type": "stream",
          "name": "stdout",
          "text": [
            "106465\n",
            "106465\n"
          ]
        },
        {
          "output_type": "stream",
          "name": "stderr",
          "text": [
            "/usr/local/lib/python3.7/dist-packages/numpy/lib/function_base.py:4454: VisibleDeprecationWarning: Creating an ndarray from ragged nested sequences (which is a list-or-tuple of lists-or-tuples-or ndarrays with different lengths or shapes) is deprecated. If you meant to do this, you must specify 'dtype=object' when creating the ndarray.\n",
            "  arr = asarray(arr)\n"
          ]
        }
      ],
      "source": [
        "# 빈 샘플들을 제거\n",
        "train_x = np.delete(X_train, drop_train, axis=0)\n",
        "train_y = np.delete(Y_train, drop_train, axis=0)\n",
        "print(len(train_x))\n",
        "print(len(train_y))\n",
        "# len(np.delete(Y_train, drop_train, axis=0))"
      ]
    },
    {
      "cell_type": "markdown",
      "metadata": {
        "id": "HWGumVgvgY2b"
      },
      "source": [
        "# 6) 패딩\n",
        "\n",
        "서로 다른 길이의 샘플들의 길이를 동일하게 맞춰주는 패딩 작업을 진행해보겠습니다. 전체 데이터에서 가장 길이가 긴 리뷰와 전체 데이터의 길이 분포를 알아보겠습니다."
      ]
    },
    {
      "cell_type": "code",
      "execution_count": null,
      "metadata": {
        "colab": {
          "base_uri": "https://localhost:8080/",
          "height": 318
        },
        "outputId": "d352a6bc-caf5-48f5-df6e-a607a36a0df8",
        "id": "tboCE_cggY2b"
      },
      "outputs": [
        {
          "output_type": "stream",
          "name": "stdout",
          "text": [
            "리뷰의 최대 길이 : 105\n",
            "리뷰의 평균 길이 : 10.6232417510188\n"
          ]
        },
        {
          "output_type": "display_data",
          "data": {
            "text/plain": [
              "<Figure size 432x288 with 1 Axes>"
            ],
            "image/png": "[encoded data removed]"
          },
          "metadata": {
            "needs_background": "light"
          }
        }
      ],
      "source": [
        "print('리뷰의 최대 길이 :',max(len(review) for review in X_train))\n",
        "print('리뷰의 평균 길이 :',sum(map(len, X_train))/len(X_train))\n",
        "plt.hist([len(review) for review in X_train], bins=50)\n",
        "plt.xlabel('length of samples')\n",
        "plt.ylabel('number of samples')\n",
        "plt.show()"
      ]
    },
    {
      "cell_type": "code",
      "execution_count": null,
      "metadata": {
        "id": "8FOHMa5dgY2b"
      },
      "outputs": [],
      "source": [
        "def below_threshold_len(max_len, nested_list):\n",
        "  count = 0\n",
        "  for sentence in nested_list:\n",
        "    if(len(sentence) <= max_len):\n",
        "        count = count + 1\n",
        "  print('전체 샘플 중 길이가 %s 이하인 샘플의 비율: %s'%(max_len, (count / len(nested_list))*100))"
      ]
    },
    {
      "cell_type": "code",
      "execution_count": null,
      "metadata": {
        "colab": {
          "base_uri": "https://localhost:8080/"
        },
        "outputId": "93b923fa-1770-4183-a31e-1ed90f7d2613",
        "id": "eCzD4pyygY2b"
      },
      "outputs": [
        {
          "output_type": "stream",
          "name": "stdout",
          "text": [
            "전체 샘플 중 길이가 20 이하인 샘플의 비율: 96.73132015216268\n"
          ]
        }
      ],
      "source": [
        "max_len = 20\n",
        "below_threshold_len(max_len, train_x)"
      ]
    },
    {
      "cell_type": "code",
      "execution_count": null,
      "metadata": {
        "id": "RbV9PPTjgY2b"
      },
      "outputs": [],
      "source": [
        "train_x_pad = pad_sequences(train_x, maxlen=max_len)\n",
        "# X_test = pad_sequences(X_test, maxlen=max_len)"
      ]
    },
    {
      "cell_type": "markdown",
      "metadata": {
        "id": "YNUiHd2xgY2b"
      },
      "source": [
        "## 2. CNN-LSTM 네이버 영화 리뷰 감성 분석하기\n",
        "\n",
        "하이퍼파라미터인 임베딩 벡터의 차원은 100, 은닉 상태의 크기는 128입니다. 모델은 다 대 일 구조의 LSTM을 사용합니다. 해당 모델은 마지막 시점에서 두 개의 선택지 중 하나를 예측하는 이진 분류 문제를 수행하는 모델입니다. 이진 분류 문제의 경우, 출력층에 로지스틱 회귀를 사용해야 하므로 활성화 함수로는 시그모이드 함수를 사용하고, 손실 함수로 크로스 엔트로피 함수를 사용합니다. 하이퍼파라미터인 배치 크기는 64이며, 15 에포크를 수행합니다.\n",
        "\n",
        "EarlyStopping(monitor='val_loss', mode='min', verbose=1, patience=4)는 검증 데이터 손실(val_loss)이 증가하면, 과적합 징후므로 검증 데이터 손실이 4회 증가하면 정해진 에포크가 도달하지 못하였더라도 학습을 조기 종료(Early Stopping)한다는 의미입니다. ModelCheckpoint를 사용하여 검증 데이터의 정확도(val_acc)가 이전보다 좋아질 경우에만 모델을 저장합니다. validation_split=0.2을 사용하여 훈련 데이터의 20%를 검증 데이터로 분리해서 사용하고, 검증 데이터를 통해서 훈련이 적절히 되고 있는지 확인합니다. 검증 데이터는 기계가 훈련 데이터에 과적합되고 있지는 않은지 확인하기 위한 용도로 사용됩니다."
      ]
    },
    {
      "cell_type": "code",
      "source": [
        "train_x_pad.shape, train_y.shape"
      ],
      "metadata": {
        "colab": {
          "base_uri": "https://localhost:8080/"
        },
        "outputId": "a4d0d571-e933-49e0-9a59-4f4b20b985c0",
        "id": "7ZFImQtIgY2c"
      },
      "execution_count": null,
      "outputs": [
        {
          "output_type": "execute_result",
          "data": {
            "text/plain": [
              "((106465, 20), (106465,))"
            ]
          },
          "metadata": {},
          "execution_count": 112
        }
      ]
    },
    {
      "cell_type": "code",
      "source": [
        "train_y"
      ],
      "metadata": {
        "colab": {
          "base_uri": "https://localhost:8080/"
        },
        "outputId": "cf693967-58e7-4361-b639-1af5a7c17457",
        "id": "yQIrXslmgY2c"
      },
      "execution_count": null,
      "outputs": [
        {
          "output_type": "execute_result",
          "data": {
            "text/plain": [
              "array([0, 0, 1, ..., 1, 1, 1])"
            ]
          },
          "metadata": {},
          "execution_count": 113
        }
      ]
    },
    {
      "cell_type": "code",
      "source": [
        "from sklearn.model_selection import train_test_split\n",
        "x_train, x_test, y_train,  y_test = train_test_split(train_x_pad, train_y, test_size = 0.3, random_state= 7777777, stratify= train_y)\n",
        "x_train.shape, y_train.shape"
      ],
      "metadata": {
        "colab": {
          "base_uri": "https://localhost:8080/"
        },
        "outputId": "cf3d1164-41f4-4aba-e3c7-1c79ea912685",
        "id": "97QB79cTgY2c"
      },
      "execution_count": null,
      "outputs": [
        {
          "output_type": "execute_result",
          "data": {
            "text/plain": [
              "((74525, 20), (74525,))"
            ]
          },
          "metadata": {},
          "execution_count": 114
        }
      ]
    },
    {
      "cell_type": "code",
      "execution_count": null,
      "metadata": {
        "colab": {
          "base_uri": "https://localhost:8080/"
        },
        "outputId": "863d4c0b-f45e-4343-bb20-9db23f82abe3",
        "id": "7Nc4ABJpgY2c"
      },
      "outputs": [
        {
          "output_type": "stream",
          "name": "stderr",
          "text": [
            "WARNING:tensorflow:Layer lstm_2 will not use cuDNN kernels since it doesn't meet the criteria. It will use a generic GPU kernel as fallback when running on GPU.\n",
            "WARNING:tensorflow:Layer lstm_2 will not use cuDNN kernels since it doesn't meet the criteria. It will use a generic GPU kernel as fallback when running on GPU.\n",
            "WARNING:tensorflow:Layer lstm_2 will not use cuDNN kernels since it doesn't meet the criteria. It will use a generic GPU kernel as fallback when running on GPU.\n"
          ]
        },
        {
          "output_type": "stream",
          "name": "stdout",
          "text": [
            "Model: \"sequential_2\"\n",
            "_________________________________________________________________\n",
            " Layer (type)                Output Shape              Param #   \n",
            "=================================================================\n",
            " embedding_2 (Embedding)     (None, None, 100)         120000    \n",
            "                                                                 \n",
            " conv1d_2 (Conv1D)           (None, None, 128)         64128     \n",
            "                                                                 \n",
            " max_pooling1d_2 (MaxPooling  (None, None, 128)        0         \n",
            " 1D)                                                             \n",
            "                                                                 \n",
            " bidirectional_2 (Bidirectio  (None, 256)              263168    \n",
            " nal)                                                            \n",
            "                                                                 \n",
            " dense_2 (Dense)             (None, 3)                 771       \n",
            "                                                                 \n",
            " activation_2 (Activation)   (None, 3)                 0         \n",
            "                                                                 \n",
            "=================================================================\n",
            "Total params: 448,067\n",
            "Trainable params: 448,067\n",
            "Non-trainable params: 0\n",
            "_________________________________________________________________\n",
            "Epoch 1/30\n",
            "2067/2067 [==============================] - ETA: 0s - loss: 0.3164 - acc: 0.8780\n",
            "Epoch 1: val_acc improved from -inf to 0.89059, saving model to best_model.h5\n",
            "2067/2067 [==============================] - 107s 45ms/step - loss: 0.3164 - acc: 0.8780 - val_loss: 0.2867 - val_acc: 0.8906\n",
            "Epoch 2/30\n",
            "2067/2067 [==============================] - ETA: 0s - loss: 0.2629 - acc: 0.8971\n",
            "Epoch 2: val_acc did not improve from 0.89059\n",
            "2067/2067 [==============================] - 92s 45ms/step - loss: 0.2629 - acc: 0.8971 - val_loss: 0.2793 - val_acc: 0.8895\n",
            "Epoch 3/30\n",
            "2067/2067 [==============================] - ETA: 0s - loss: 0.2363 - acc: 0.9070\n",
            "Epoch 3: val_acc did not improve from 0.89059\n",
            "2067/2067 [==============================] - 90s 43ms/step - loss: 0.2363 - acc: 0.9070 - val_loss: 0.2826 - val_acc: 0.8884\n",
            "Epoch 4/30\n",
            "2067/2067 [==============================] - ETA: 0s - loss: 0.2102 - acc: 0.9168\n",
            "Epoch 4: val_acc did not improve from 0.89059\n",
            "2067/2067 [==============================] - 93s 45ms/step - loss: 0.2102 - acc: 0.9168 - val_loss: 0.3027 - val_acc: 0.8894\n",
            "Epoch 5/30\n",
            "2067/2067 [==============================] - ETA: 0s - loss: 0.1793 - acc: 0.9295\n",
            "Epoch 5: val_acc did not improve from 0.89059\n",
            "2067/2067 [==============================] - 92s 45ms/step - loss: 0.1793 - acc: 0.9295 - val_loss: 0.3261 - val_acc: 0.8837\n",
            "Epoch 6/30\n",
            "2067/2067 [==============================] - ETA: 0s - loss: 0.1458 - acc: 0.9428\n",
            "Epoch 6: val_acc did not improve from 0.89059\n",
            "2067/2067 [==============================] - 90s 43ms/step - loss: 0.1458 - acc: 0.9428 - val_loss: 0.3715 - val_acc: 0.8758\n",
            "Epoch 6: early stopping\n"
          ]
        }
      ],
      "source": [
        "\n",
        "from tensorflow.keras.layers import Embedding, Dense, LSTM, InputLayer, Dropout, Activation, TimeDistributed, Bidirectional\n",
        "from tensorflow.keras.layers import Conv1D, MaxPooling1D\n",
        "from keras.datasets import imdb\n",
        "from tensorflow import keras\n",
        "from tensorflow.keras import layers\n",
        "from tensorflow.keras.models import Sequential\n",
        "from tensorflow.keras.models import load_model\n",
        "from tensorflow.keras.callbacks import EarlyStopping, ModelCheckpoint\n",
        "\n",
        "\n",
        "import numpy\n",
        "import tensorflow as tf\n",
        "import matplotlib.pyplot as plt\n",
        "\n",
        "embedding_dim = 100\n",
        "hidden_units = 128\n",
        "\n",
        "model = Sequential()\n",
        "model.add(Embedding(1200, 100))\n",
        "model.add(Conv1D(128, 5, padding='valid', activation='relu', strides=1))\n",
        "model.add(MaxPooling1D(pool_size=4))\n",
        "model.add(layers.Bidirectional(LSTM(128, dropout=0.25, recurrent_dropout=0.25)))\n",
        "model.add(Dense(3))\n",
        "model.add(Activation('softmax'))\n",
        "model.summary()\n",
        "\n",
        "es = EarlyStopping(monitor='val_loss', mode='min', verbose=1, patience=4)\n",
        "mc = ModelCheckpoint('best_model.h5', monitor='val_acc', mode='max', verbose=1, save_best_only=True)\n",
        "\n",
        "model.compile(optimizer='adam', loss='sparse_categorical_crossentropy', metrics=['acc'])\n",
        "history = model.fit(x_train, y_train, epochs=30, callbacks=[es, mc], batch_size=32, validation_data=(x_test, y_test))\n"
      ]
    },
    {
      "cell_type": "code",
      "execution_count": null,
      "metadata": {
        "colab": {
          "base_uri": "https://localhost:8080/"
        },
        "outputId": "cd1c5933-da52-4021-9f9d-4437bc826258",
        "id": "yO_5uKAXgY2c"
      },
      "outputs": [
        {
          "output_type": "stream",
          "name": "stderr",
          "text": [
            "WARNING:tensorflow:Layer lstm_2 will not use cuDNN kernels since it doesn't meet the criteria. It will use a generic GPU kernel as fallback when running on GPU.\n",
            "WARNING:tensorflow:Layer lstm_2 will not use cuDNN kernels since it doesn't meet the criteria. It will use a generic GPU kernel as fallback when running on GPU.\n",
            "WARNING:tensorflow:Layer lstm_2 will not use cuDNN kernels since it doesn't meet the criteria. It will use a generic GPU kernel as fallback when running on GPU.\n"
          ]
        },
        {
          "output_type": "stream",
          "name": "stdout",
          "text": [
            "886/886 [==============================] - 6s 5ms/step - loss: 0.2867 - acc: 0.8906\n",
            "\n",
            " 테스트 정확도: 0.8906\n",
            "886/886 [==============================] - 4s 5ms/step - loss: 0.2867 - acc: 0.8906\n",
            "[0.28665339946746826, 0.8905941247940063]\n"
          ]
        }
      ],
      "source": [
        "loaded_model = load_model('best_model.h5')\n",
        "print(\"\\n 테스트 정확도(loss, acc): \" , loaded_model.evaluate(x_test, y_test))"
      ]
    },
    {
      "cell_type": "code",
      "source": [
        "import pandas as pd\n",
        "raw_data = pd.read_excel('/content/gdrive/MyDrive/대회/감정분석 대회/train_label_data.xlsx')\n",
        "# test_data = pd.read_table('ratings_test.txt')\n",
        "\n",
        "raw_data\n"
      ],
      "metadata": {
        "colab": {
          "base_uri": "https://localhost:8080/",
          "height": 424
        },
        "outputId": "939d8d9a-6263-4673-ae93-5a2fcdec7686",
        "id": "nu5d_NlSgY2c"
      },
      "execution_count": null,
      "outputs": [
        {
          "output_type": "execute_result",
          "data": {
            "text/plain": [
              "      sentence_id person                                           sentence  \\\n",
              "0               1     어영  야! 전화 받아. 아무리 바빠도 내전화는 받아야 되는거 아냐? 약속 하나도 못지키는...   \n",
              "1               2     어영     우리 아무래도 안되겠다. 이게 최선인거 같애. 평생 잊지 않을게. 행복하길 바란다.   \n",
              "2               3    지구대                          김경사님, 아직 안가셨어요? 시간 다됐을텐데.   \n",
              "3               4     순경                                         근무중인데 어딜가?   \n",
              "4               5    지구대    다녀오세요. 이런날은 무조건 가서 축하해주셔야죠. 이순경이 대신 근무선다고 나온대요.   \n",
              "...           ...    ...                                                ...   \n",
              "7334        12285     청난                               종남이 맛있는것도 사주고 잘 챙겨줘.   \n",
              "7335        12286     건강                        걱정마라. 먹어도 같이 먹고 굶어도 같이 굶는다.   \n",
              "7336        12287     종남                                       아빠. 우리 저거 타.   \n",
              "7337        12288     건강  나 못타는데. 한번도 안타봤어. 툭하면 차멀미까지 하는데, 봐라, 너도 내몸땡이에 ...   \n",
              "7338        12289     건강                              여기 꼼짝말고 있어. 어디 가면 안돼.   \n",
              "\n",
              "      scene                                            context      label  \n",
              "0     S0104                                                NaN  dysphoria  \n",
              "1     S0108           포기한듯 탁 일어서는데, 띵동 문자. 후다닥 보는 어영. 기막혀 읽어보는  dysphoria  \n",
              "2     S0109    초조하게 시계보면서 왔다갔다 서성이는 김순경. 순찰차(경차)와서 멈추고 내리는 지구대    neutral  \n",
              "3     S0109    초조하게 시계보면서 왔다갔다 서성이는 김순경. 순찰차(경차)와서 멈추고 내리는 지구대  dysphoria  \n",
              "4     S0109    초조하게 시계보면서 왔다갔다 서성이는 김순경. 순찰차(경차)와서 멈추고 내리는 지구대   euphoria  \n",
              "...     ...                                                ...        ...  \n",
              "7334  S3576                                                NaN   euphoria  \n",
              "7335  S3576                                                NaN   euphoria  \n",
              "7336  S3576                                                NaN   euphoria  \n",
              "7337  S3576                                                NaN   euphoria  \n",
              "7338  S3576  시간경과. 놀이기구 타는 건강종남. 사람들 비명. 신난 종남 소리지르고. 건강 하얗...   euphoria  \n",
              "\n",
              "[7339 rows x 6 columns]"
            ],
            "text/html": [
              "\n",
              "  <div id=\"df-9327c6a6-fff4-49e4-aaeb-9ae05091ac5a\">\n",
              "    <div class=\"colab-df-container\">\n",
              "      <div>\n",
              "<style scoped>\n",
              "    .dataframe tbody tr th:only-of-type {\n",
              "        vertical-align: middle;\n",
              "    }\n",
              "\n",
              "    .dataframe tbody tr th {\n",
              "        vertical-align: top;\n",
              "    }\n",
              "\n",
              "    .dataframe thead th {\n",
              "        text-align: right;\n",
              "    }\n",
              "</style>\n",
              "<table border=\"1\" class=\"dataframe\">\n",
              "  <thead>\n",
              "    <tr style=\"text-align: right;\">\n",
              "      <th></th>\n",
              "      <th>sentence_id</th>\n",
              "      <th>person</th>\n",
              "      <th>sentence</th>\n",
              "      <th>scene</th>\n",
              "      <th>context</th>\n",
              "      <th>label</th>\n",
              "    </tr>\n",
              "  </thead>\n",
              "  <tbody>\n",
              "    <tr>\n",
              "      <th>0</th>\n",
              "      <td>1</td>\n",
              "      <td>어영</td>\n",
              "      <td>야! 전화 받아. 아무리 바빠도 내전화는 받아야 되는거 아냐? 약속 하나도 못지키는...</td>\n",
              "      <td>S0104</td>\n",
              "      <td>NaN</td>\n",
              "      <td>dysphoria</td>\n",
              "    </tr>\n",
              "    <tr>\n",
              "      <th>1</th>\n",
              "      <td>2</td>\n",
              "      <td>어영</td>\n",
              "      <td>우리 아무래도 안되겠다. 이게 최선인거 같애. 평생 잊지 않을게. 행복하길 바란다.</td>\n",
              "      <td>S0108</td>\n",
              "      <td>포기한듯 탁 일어서는데, 띵동 문자. 후다닥 보는 어영. 기막혀 읽어보는</td>\n",
              "      <td>dysphoria</td>\n",
              "    </tr>\n",
              "    <tr>\n",
              "      <th>2</th>\n",
              "      <td>3</td>\n",
              "      <td>지구대</td>\n",
              "      <td>김경사님, 아직 안가셨어요? 시간 다됐을텐데.</td>\n",
              "      <td>S0109</td>\n",
              "      <td>초조하게 시계보면서 왔다갔다 서성이는 김순경. 순찰차(경차)와서 멈추고 내리는 지구대</td>\n",
              "      <td>neutral</td>\n",
              "    </tr>\n",
              "    <tr>\n",
              "      <th>3</th>\n",
              "      <td>4</td>\n",
              "      <td>순경</td>\n",
              "      <td>근무중인데 어딜가?</td>\n",
              "      <td>S0109</td>\n",
              "      <td>초조하게 시계보면서 왔다갔다 서성이는 김순경. 순찰차(경차)와서 멈추고 내리는 지구대</td>\n",
              "      <td>dysphoria</td>\n",
              "    </tr>\n",
              "    <tr>\n",
              "      <th>4</th>\n",
              "      <td>5</td>\n",
              "      <td>지구대</td>\n",
              "      <td>다녀오세요. 이런날은 무조건 가서 축하해주셔야죠. 이순경이 대신 근무선다고 나온대요.</td>\n",
              "      <td>S0109</td>\n",
              "      <td>초조하게 시계보면서 왔다갔다 서성이는 김순경. 순찰차(경차)와서 멈추고 내리는 지구대</td>\n",
              "      <td>euphoria</td>\n",
              "    </tr>\n",
              "    <tr>\n",
              "      <th>...</th>\n",
              "      <td>...</td>\n",
              "      <td>...</td>\n",
              "      <td>...</td>\n",
              "      <td>...</td>\n",
              "      <td>...</td>\n",
              "      <td>...</td>\n",
              "    </tr>\n",
              "    <tr>\n",
              "      <th>7334</th>\n",
              "      <td>12285</td>\n",
              "      <td>청난</td>\n",
              "      <td>종남이 맛있는것도 사주고 잘 챙겨줘.</td>\n",
              "      <td>S3576</td>\n",
              "      <td>NaN</td>\n",
              "      <td>euphoria</td>\n",
              "    </tr>\n",
              "    <tr>\n",
              "      <th>7335</th>\n",
              "      <td>12286</td>\n",
              "      <td>건강</td>\n",
              "      <td>걱정마라. 먹어도 같이 먹고 굶어도 같이 굶는다.</td>\n",
              "      <td>S3576</td>\n",
              "      <td>NaN</td>\n",
              "      <td>euphoria</td>\n",
              "    </tr>\n",
              "    <tr>\n",
              "      <th>7336</th>\n",
              "      <td>12287</td>\n",
              "      <td>종남</td>\n",
              "      <td>아빠. 우리 저거 타.</td>\n",
              "      <td>S3576</td>\n",
              "      <td>NaN</td>\n",
              "      <td>euphoria</td>\n",
              "    </tr>\n",
              "    <tr>\n",
              "      <th>7337</th>\n",
              "      <td>12288</td>\n",
              "      <td>건강</td>\n",
              "      <td>나 못타는데. 한번도 안타봤어. 툭하면 차멀미까지 하는데, 봐라, 너도 내몸땡이에 ...</td>\n",
              "      <td>S3576</td>\n",
              "      <td>NaN</td>\n",
              "      <td>euphoria</td>\n",
              "    </tr>\n",
              "    <tr>\n",
              "      <th>7338</th>\n",
              "      <td>12289</td>\n",
              "      <td>건강</td>\n",
              "      <td>여기 꼼짝말고 있어. 어디 가면 안돼.</td>\n",
              "      <td>S3576</td>\n",
              "      <td>시간경과. 놀이기구 타는 건강종남. 사람들 비명. 신난 종남 소리지르고. 건강 하얗...</td>\n",
              "      <td>euphoria</td>\n",
              "    </tr>\n",
              "  </tbody>\n",
              "</table>\n",
              "<p>7339 rows × 6 columns</p>\n",
              "</div>\n",
              "      <button class=\"colab-df-convert\" onclick=\"convertToInteractive('df-9327c6a6-fff4-49e4-aaeb-9ae05091ac5a')\"\n",
              "              title=\"Convert this dataframe to an interactive table.\"\n",
              "              style=\"display:none;\">\n",
              "        \n",
              "  <svg xmlns=\"http://www.w3.org/2000/svg\" height=\"24px\"viewBox=\"0 0 24 24\"\n",
              "       width=\"24px\">\n",
              "    <path d=\"M0 0h24v24H0V0z\" fill=\"none\"/>\n",
              "    <path d=\"M18.56 5.44l.94 2.06.94-2.06 2.06-.94-2.06-.94-.94-2.06-.94 2.06-2.06.94zm-11 1L8.5 8.5l.94-2.06 2.06-.94-2.06-.94L8.5 2.5l-.94 2.06-2.06.94zm10 10l.94 2.06.94-2.06 2.06-.94-2.06-.94-.94-2.06-.94 2.06-2.06.94z\"/><path d=\"M17.41 7.96l-1.37-1.37c-.4-.4-.92-.59-1.43-.59-.52 0-1.04.2-1.43.59L10.3 9.45l-7.72 7.72c-.78.78-.78 2.05 0 2.83L4 21.41c.39.39.9.59 1.41.59.51 0 1.02-.2 1.41-.59l7.78-7.78 2.81-2.81c.8-.78.8-2.07 0-2.86zM5.41 20L4 18.59l7.72-7.72 1.47 1.35L5.41 20z\"/>\n",
              "  </svg>\n",
              "      </button>\n",
              "      \n",
              "  <style>\n",
              "    .colab-df-container {\n",
              "      display:flex;\n",
              "      flex-wrap:wrap;\n",
              "      gap: 12px;\n",
              "    }\n",
              "\n",
              "    .colab-df-convert {\n",
              "      background-color: #E8F0FE;\n",
              "      border: none;\n",
              "      border-radius: 50%;\n",
              "      cursor: pointer;\n",
              "      display: none;\n",
              "      fill: #1967D2;\n",
              "      height: 32px;\n",
              "      padding: 0 0 0 0;\n",
              "      width: 32px;\n",
              "    }\n",
              "\n",
              "    .colab-df-convert:hover {\n",
              "      background-color: #E2EBFA;\n",
              "      box-shadow: 0px 1px 2px rgba(60, 64, 67, 0.3), 0px 1px 3px 1px rgba(60, 64, 67, 0.15);\n",
              "      fill: #174EA6;\n",
              "    }\n",
              "\n",
              "    [theme=dark] .colab-df-convert {\n",
              "      background-color: #3B4455;\n",
              "      fill: #D2E3FC;\n",
              "    }\n",
              "\n",
              "    [theme=dark] .colab-df-convert:hover {\n",
              "      background-color: #434B5C;\n",
              "      box-shadow: 0px 1px 3px 1px rgba(0, 0, 0, 0.15);\n",
              "      filter: drop-shadow(0px 1px 2px rgba(0, 0, 0, 0.3));\n",
              "      fill: #FFFFFF;\n",
              "    }\n",
              "  </style>\n",
              "\n",
              "      <script>\n",
              "        const buttonEl =\n",
              "          document.querySelector('#df-9327c6a6-fff4-49e4-aaeb-9ae05091ac5a button.colab-df-convert');\n",
              "        buttonEl.style.display =\n",
              "          google.colab.kernel.accessAllowed ? 'block' : 'none';\n",
              "\n",
              "        async function convertToInteractive(key) {\n",
              "          const element = document.querySelector('#df-9327c6a6-fff4-49e4-aaeb-9ae05091ac5a');\n",
              "          const dataTable =\n",
              "            await google.colab.kernel.invokeFunction('convertToInteractive',\n",
              "                                                     [key], {});\n",
              "          if (!dataTable) return;\n",
              "\n",
              "          const docLinkHtml = 'Like what you see? Visit the ' +\n",
              "            '<a target=\"_blank\" href=https://colab.research.google.com/notebooks/data_table.ipynb>data table notebook</a>'\n",
              "            + ' to learn more about interactive tables.';\n",
              "          element.innerHTML = '';\n",
              "          dataTable['output_type'] = 'display_data';\n",
              "          await google.colab.output.renderOutput(dataTable, element);\n",
              "          const docLink = document.createElement('div');\n",
              "          docLink.innerHTML = docLinkHtml;\n",
              "          element.appendChild(docLink);\n",
              "        }\n",
              "      </script>\n",
              "    </div>\n",
              "  </div>\n",
              "  "
            ]
          },
          "metadata": {},
          "execution_count": 103
        }
      ]
    },
    {
      "cell_type": "code",
      "source": [
        "kerc_x = train_x_pad[:7339]\n",
        "kerc_y = train_y[:7339]"
      ],
      "metadata": {
        "id": "L3D5dI3JgY2c"
      },
      "execution_count": null,
      "outputs": []
    },
    {
      "cell_type": "code",
      "source": [
        "loaded_model = load_model('best_model.h5')\n",
        "print(\"\\n 테스트 정확도(loss, acc): \" , loaded_model.evaluate(kerc_x , kerc_y))"
      ],
      "metadata": {
        "colab": {
          "base_uri": "https://localhost:8080/"
        },
        "outputId": "3c19ba24-829d-45a7-e394-9daff9f58d62",
        "id": "y_xbl_HugY2d"
      },
      "execution_count": null,
      "outputs": [
        {
          "output_type": "stream",
          "name": "stderr",
          "text": [
            "WARNING:tensorflow:Layer lstm_2 will not use cuDNN kernels since it doesn't meet the criteria. It will use a generic GPU kernel as fallback when running on GPU.\n",
            "WARNING:tensorflow:Layer lstm_2 will not use cuDNN kernels since it doesn't meet the criteria. It will use a generic GPU kernel as fallback when running on GPU.\n",
            "WARNING:tensorflow:Layer lstm_2 will not use cuDNN kernels since it doesn't meet the criteria. It will use a generic GPU kernel as fallback when running on GPU.\n"
          ]
        },
        {
          "output_type": "stream",
          "name": "stdout",
          "text": [
            "230/230 [==============================] - 2s 7ms/step - loss: 0.8385 - acc: 0.6630\n",
            "\n",
            " 테스트 정확도(loss, acc):  [0.8384918570518494, 0.663033127784729]\n"
          ]
        }
      ]
    },
    {
      "cell_type": "code",
      "source": [],
      "metadata": {
        "id": "8xnsdqKDgY2d"
      },
      "execution_count": null,
      "outputs": []
    },
    {
      "cell_type": "code",
      "source": [],
      "metadata": {
        "id": "JrlGNAO9gY2d"
      },
      "execution_count": null,
      "outputs": []
    },
    {
      "cell_type": "code",
      "execution_count": null,
      "metadata": {
        "colab": {
          "base_uri": "https://localhost:8080/"
        },
        "outputId": "03c5d35d-1ede-4ffb-8659-086085a2f17e",
        "id": "DUvfN0_mgY2d"
      },
      "outputs": [
        {
          "output_type": "stream",
          "name": "stdout",
          "text": [
            "Model: \"sequential_2\"\n",
            "_________________________________________________________________\n",
            " Layer (type)                Output Shape              Param #   \n",
            "=================================================================\n",
            " embedding_2 (Embedding)     (None, None, 100)         120000    \n",
            "                                                                 \n",
            " conv1d_2 (Conv1D)           (None, None, 128)         64128     \n",
            "                                                                 \n",
            " max_pooling1d_2 (MaxPooling  (None, None, 128)        0         \n",
            " 1D)                                                             \n",
            "                                                                 \n",
            " bidirectional_2 (Bidirectio  (None, 256)              263168    \n",
            " nal)                                                            \n",
            "                                                                 \n",
            " dropout_2 (Dropout)         (None, 256)               0         \n",
            "                                                                 \n",
            " dense_4 (Dense)             (None, 10)                2570      \n",
            "                                                                 \n",
            " dense_5 (Dense)             (None, 3)                 33        \n",
            "                                                                 \n",
            " activation_2 (Activation)   (None, 3)                 0         \n",
            "                                                                 \n",
            "=================================================================\n",
            "Total params: 449,899\n",
            "Trainable params: 449,899\n",
            "Non-trainable params: 0\n",
            "_________________________________________________________________\n",
            "Epoch 1/40\n",
            "2067/2067 [==============================] - ETA: 0s - loss: 0.3173 - acc: 0.8777\n",
            "Epoch 1: val_acc improved from -inf to 0.89102, saving model to best_model.h5\n",
            "2067/2067 [==============================] - 37s 11ms/step - loss: 0.3173 - acc: 0.8777 - val_loss: 0.2880 - val_acc: 0.8910\n",
            "Epoch 2/40\n",
            "2061/2067 [============================>.] - ETA: 0s - loss: 0.2594 - acc: 0.8980\n",
            "Epoch 2: val_acc did not improve from 0.89102\n",
            "2067/2067 [==============================] - 21s 10ms/step - loss: 0.2598 - acc: 0.8979 - val_loss: 0.2810 - val_acc: 0.8893\n",
            "Epoch 3/40\n",
            "2061/2067 [============================>.] - ETA: 0s - loss: 0.2304 - acc: 0.9097\n",
            "Epoch 3: val_acc did not improve from 0.89102\n",
            "2067/2067 [==============================] - 19s 9ms/step - loss: 0.2306 - acc: 0.9096 - val_loss: 0.2927 - val_acc: 0.8843\n",
            "Epoch 4/40\n",
            "2066/2067 [============================>.] - ETA: 0s - loss: 0.1971 - acc: 0.9215\n",
            "Epoch 4: val_acc did not improve from 0.89102\n",
            "2067/2067 [==============================] - 19s 9ms/step - loss: 0.1971 - acc: 0.9215 - val_loss: 0.3020 - val_acc: 0.8853\n",
            "Epoch 5/40\n",
            "2062/2067 [============================>.] - ETA: 0s - loss: 0.1596 - acc: 0.9375\n",
            "Epoch 5: val_acc did not improve from 0.89102\n",
            "2067/2067 [==============================] - 20s 10ms/step - loss: 0.1595 - acc: 0.9375 - val_loss: 0.3545 - val_acc: 0.8848\n",
            "Epoch 6/40\n",
            "2066/2067 [============================>.] - ETA: 0s - loss: 0.1218 - acc: 0.9525\n",
            "Epoch 6: val_acc did not improve from 0.89102\n",
            "2067/2067 [==============================] - 20s 10ms/step - loss: 0.1218 - acc: 0.9525 - val_loss: 0.4049 - val_acc: 0.8714\n",
            "Epoch 7/40\n",
            "2061/2067 [============================>.] - ETA: 0s - loss: 0.0933 - acc: 0.9638\n",
            "Epoch 7: val_acc did not improve from 0.89102\n",
            "2067/2067 [==============================] - 18s 9ms/step - loss: 0.0932 - acc: 0.9638 - val_loss: 0.4732 - val_acc: 0.8740\n",
            "Epoch 7: early stopping\n"
          ]
        }
      ],
      "source": [
        "\n",
        "from tensorflow.keras.layers import Embedding, Dense, LSTM, InputLayer, Dropout, Activation, TimeDistributed, Bidirectional\n",
        "from tensorflow.keras.layers import Conv1D, MaxPooling1D\n",
        "from keras.datasets import imdb\n",
        "from tensorflow import keras\n",
        "from tensorflow.keras import layers\n",
        "from tensorflow.keras.models import Sequential\n",
        "from tensorflow.keras.models import load_model\n",
        "from tensorflow.keras.callbacks import EarlyStopping, ModelCheckpoint\n",
        "\n",
        "\n",
        "import numpy\n",
        "import tensorflow as tf\n",
        "import matplotlib.pyplot as plt\n",
        "\n",
        "embedding_dim = 100\n",
        "hidden_units = 128\n",
        "\n",
        "model = Sequential()\n",
        "model.add(Embedding(1200, embedding_dim))\n",
        "model.add(Conv1D(128, 5, padding='valid', activation='relu', strides=1))\n",
        "model.add(MaxPooling1D(pool_size=4))\n",
        "model.add(layers.Bidirectional(layers.LSTM(128)))\n",
        "model.add(Dropout(0.25))\n",
        "model.add(layers.Dense(10))\n",
        "model.add(layers.Dense(3))\n",
        "model.add(Activation('softmax'))\n",
        "model.summary()\n",
        "\n",
        "es = EarlyStopping(monitor='val_loss', mode='min', verbose=1, patience=5)\n",
        "mc = ModelCheckpoint('best_model.h5', monitor='val_acc', mode='max', verbose=1, save_best_only=True)\n",
        "\n",
        "model.compile(optimizer='adam', loss='sparse_categorical_crossentropy', metrics=['acc'])\n",
        "history = model.fit(x_train, y_train, epochs=40, callbacks=[es, mc], batch_size=32, validation_data=(x_test, y_test))\n"
      ]
    },
    {
      "cell_type": "code",
      "execution_count": null,
      "metadata": {
        "colab": {
          "base_uri": "https://localhost:8080/"
        },
        "outputId": "af309f2b-5482-48c4-e22f-6b0764a9a460",
        "id": "0sSamA5QgY2d"
      },
      "outputs": [
        {
          "name": "stdout",
          "output_type": "stream",
          "text": [
            "1527/1527 [==============================] - 6s 4ms/step - loss: 0.4769 - acc: 0.7535\n",
            "\n",
            " 테스트 정확도: 0.7535\n"
          ]
        }
      ],
      "source": [
        "loaded_model = load_model('best_model.h5')\n",
        "print(\"\\n 테스트 정확도: %.4f\" % (loaded_model.evaluate(x_test, y_test)[1]))"
      ]
    },
    {
      "cell_type": "code",
      "execution_count": null,
      "metadata": {
        "colab": {
          "base_uri": "https://localhost:8080/",
          "height": 424
        },
        "outputId": "c520fc32-97a7-4f10-8d4a-e36369c2b638",
        "id": "y_HNzjGMgY2d"
      },
      "outputs": [
        {
          "output_type": "execute_result",
          "data": {
            "text/plain": [
              "      sentence_id person                                           sentence  \\\n",
              "0               1     어영  야! 전화 받아. 아무리 바빠도 내전화는 받아야 되는거 아냐? 약속 하나도 못지키는...   \n",
              "1               2     어영     우리 아무래도 안되겠다. 이게 최선인거 같애. 평생 잊지 않을게. 행복하길 바란다.   \n",
              "2               3    지구대                          김경사님, 아직 안가셨어요? 시간 다됐을텐데.   \n",
              "3               4     순경                                         근무중인데 어딜가?   \n",
              "4               5    지구대    다녀오세요. 이런날은 무조건 가서 축하해주셔야죠. 이순경이 대신 근무선다고 나온대요.   \n",
              "...           ...    ...                                                ...   \n",
              "7334        12285     청난                               종남이 맛있는것도 사주고 잘 챙겨줘.   \n",
              "7335        12286     건강                        걱정마라. 먹어도 같이 먹고 굶어도 같이 굶는다.   \n",
              "7336        12287     종남                                       아빠. 우리 저거 타.   \n",
              "7337        12288     건강  나 못타는데. 한번도 안타봤어. 툭하면 차멀미까지 하는데, 봐라, 너도 내몸땡이에 ...   \n",
              "7338        12289     건강                              여기 꼼짝말고 있어. 어디 가면 안돼.   \n",
              "\n",
              "      scene                                            context      label  \n",
              "0     S0104                                                NaN  dysphoria  \n",
              "1     S0108           포기한듯 탁 일어서는데, 띵동 문자. 후다닥 보는 어영. 기막혀 읽어보는  dysphoria  \n",
              "2     S0109    초조하게 시계보면서 왔다갔다 서성이는 김순경. 순찰차(경차)와서 멈추고 내리는 지구대    neutral  \n",
              "3     S0109    초조하게 시계보면서 왔다갔다 서성이는 김순경. 순찰차(경차)와서 멈추고 내리는 지구대  dysphoria  \n",
              "4     S0109    초조하게 시계보면서 왔다갔다 서성이는 김순경. 순찰차(경차)와서 멈추고 내리는 지구대   euphoria  \n",
              "...     ...                                                ...        ...  \n",
              "7334  S3576                                                NaN   euphoria  \n",
              "7335  S3576                                                NaN   euphoria  \n",
              "7336  S3576                                                NaN   euphoria  \n",
              "7337  S3576                                                NaN   euphoria  \n",
              "7338  S3576  시간경과. 놀이기구 타는 건강종남. 사람들 비명. 신난 종남 소리지르고. 건강 하얗...   euphoria  \n",
              "\n",
              "[7339 rows x 6 columns]"
            ],
            "text/html": [
              "\n",
              "  <div id=\"df-4c0ff7ad-c45b-4e1d-b702-f54dd360b550\">\n",
              "    <div class=\"colab-df-container\">\n",
              "      <div>\n",
              "<style scoped>\n",
              "    .dataframe tbody tr th:only-of-type {\n",
              "        vertical-align: middle;\n",
              "    }\n",
              "\n",
              "    .dataframe tbody tr th {\n",
              "        vertical-align: top;\n",
              "    }\n",
              "\n",
              "    .dataframe thead th {\n",
              "        text-align: right;\n",
              "    }\n",
              "</style>\n",
              "<table border=\"1\" class=\"dataframe\">\n",
              "  <thead>\n",
              "    <tr style=\"text-align: right;\">\n",
              "      <th></th>\n",
              "      <th>sentence_id</th>\n",
              "      <th>person</th>\n",
              "      <th>sentence</th>\n",
              "      <th>scene</th>\n",
              "      <th>context</th>\n",
              "      <th>label</th>\n",
              "    </tr>\n",
              "  </thead>\n",
              "  <tbody>\n",
              "    <tr>\n",
              "      <th>0</th>\n",
              "      <td>1</td>\n",
              "      <td>어영</td>\n",
              "      <td>야! 전화 받아. 아무리 바빠도 내전화는 받아야 되는거 아냐? 약속 하나도 못지키는...</td>\n",
              "      <td>S0104</td>\n",
              "      <td>NaN</td>\n",
              "      <td>dysphoria</td>\n",
              "    </tr>\n",
              "    <tr>\n",
              "      <th>1</th>\n",
              "      <td>2</td>\n",
              "      <td>어영</td>\n",
              "      <td>우리 아무래도 안되겠다. 이게 최선인거 같애. 평생 잊지 않을게. 행복하길 바란다.</td>\n",
              "      <td>S0108</td>\n",
              "      <td>포기한듯 탁 일어서는데, 띵동 문자. 후다닥 보는 어영. 기막혀 읽어보는</td>\n",
              "      <td>dysphoria</td>\n",
              "    </tr>\n",
              "    <tr>\n",
              "      <th>2</th>\n",
              "      <td>3</td>\n",
              "      <td>지구대</td>\n",
              "      <td>김경사님, 아직 안가셨어요? 시간 다됐을텐데.</td>\n",
              "      <td>S0109</td>\n",
              "      <td>초조하게 시계보면서 왔다갔다 서성이는 김순경. 순찰차(경차)와서 멈추고 내리는 지구대</td>\n",
              "      <td>neutral</td>\n",
              "    </tr>\n",
              "    <tr>\n",
              "      <th>3</th>\n",
              "      <td>4</td>\n",
              "      <td>순경</td>\n",
              "      <td>근무중인데 어딜가?</td>\n",
              "      <td>S0109</td>\n",
              "      <td>초조하게 시계보면서 왔다갔다 서성이는 김순경. 순찰차(경차)와서 멈추고 내리는 지구대</td>\n",
              "      <td>dysphoria</td>\n",
              "    </tr>\n",
              "    <tr>\n",
              "      <th>4</th>\n",
              "      <td>5</td>\n",
              "      <td>지구대</td>\n",
              "      <td>다녀오세요. 이런날은 무조건 가서 축하해주셔야죠. 이순경이 대신 근무선다고 나온대요.</td>\n",
              "      <td>S0109</td>\n",
              "      <td>초조하게 시계보면서 왔다갔다 서성이는 김순경. 순찰차(경차)와서 멈추고 내리는 지구대</td>\n",
              "      <td>euphoria</td>\n",
              "    </tr>\n",
              "    <tr>\n",
              "      <th>...</th>\n",
              "      <td>...</td>\n",
              "      <td>...</td>\n",
              "      <td>...</td>\n",
              "      <td>...</td>\n",
              "      <td>...</td>\n",
              "      <td>...</td>\n",
              "    </tr>\n",
              "    <tr>\n",
              "      <th>7334</th>\n",
              "      <td>12285</td>\n",
              "      <td>청난</td>\n",
              "      <td>종남이 맛있는것도 사주고 잘 챙겨줘.</td>\n",
              "      <td>S3576</td>\n",
              "      <td>NaN</td>\n",
              "      <td>euphoria</td>\n",
              "    </tr>\n",
              "    <tr>\n",
              "      <th>7335</th>\n",
              "      <td>12286</td>\n",
              "      <td>건강</td>\n",
              "      <td>걱정마라. 먹어도 같이 먹고 굶어도 같이 굶는다.</td>\n",
              "      <td>S3576</td>\n",
              "      <td>NaN</td>\n",
              "      <td>euphoria</td>\n",
              "    </tr>\n",
              "    <tr>\n",
              "      <th>7336</th>\n",
              "      <td>12287</td>\n",
              "      <td>종남</td>\n",
              "      <td>아빠. 우리 저거 타.</td>\n",
              "      <td>S3576</td>\n",
              "      <td>NaN</td>\n",
              "      <td>euphoria</td>\n",
              "    </tr>\n",
              "    <tr>\n",
              "      <th>7337</th>\n",
              "      <td>12288</td>\n",
              "      <td>건강</td>\n",
              "      <td>나 못타는데. 한번도 안타봤어. 툭하면 차멀미까지 하는데, 봐라, 너도 내몸땡이에 ...</td>\n",
              "      <td>S3576</td>\n",
              "      <td>NaN</td>\n",
              "      <td>euphoria</td>\n",
              "    </tr>\n",
              "    <tr>\n",
              "      <th>7338</th>\n",
              "      <td>12289</td>\n",
              "      <td>건강</td>\n",
              "      <td>여기 꼼짝말고 있어. 어디 가면 안돼.</td>\n",
              "      <td>S3576</td>\n",
              "      <td>시간경과. 놀이기구 타는 건강종남. 사람들 비명. 신난 종남 소리지르고. 건강 하얗...</td>\n",
              "      <td>euphoria</td>\n",
              "    </tr>\n",
              "  </tbody>\n",
              "</table>\n",
              "<p>7339 rows × 6 columns</p>\n",
              "</div>\n",
              "      <button class=\"colab-df-convert\" onclick=\"convertToInteractive('df-4c0ff7ad-c45b-4e1d-b702-f54dd360b550')\"\n",
              "              title=\"Convert this dataframe to an interactive table.\"\n",
              "              style=\"display:none;\">\n",
              "        \n",
              "  <svg xmlns=\"http://www.w3.org/2000/svg\" height=\"24px\"viewBox=\"0 0 24 24\"\n",
              "       width=\"24px\">\n",
              "    <path d=\"M0 0h24v24H0V0z\" fill=\"none\"/>\n",
              "    <path d=\"M18.56 5.44l.94 2.06.94-2.06 2.06-.94-2.06-.94-.94-2.06-.94 2.06-2.06.94zm-11 1L8.5 8.5l.94-2.06 2.06-.94-2.06-.94L8.5 2.5l-.94 2.06-2.06.94zm10 10l.94 2.06.94-2.06 2.06-.94-2.06-.94-.94-2.06-.94 2.06-2.06.94z\"/><path d=\"M17.41 7.96l-1.37-1.37c-.4-.4-.92-.59-1.43-.59-.52 0-1.04.2-1.43.59L10.3 9.45l-7.72 7.72c-.78.78-.78 2.05 0 2.83L4 21.41c.39.39.9.59 1.41.59.51 0 1.02-.2 1.41-.59l7.78-7.78 2.81-2.81c.8-.78.8-2.07 0-2.86zM5.41 20L4 18.59l7.72-7.72 1.47 1.35L5.41 20z\"/>\n",
              "  </svg>\n",
              "      </button>\n",
              "      \n",
              "  <style>\n",
              "    .colab-df-container {\n",
              "      display:flex;\n",
              "      flex-wrap:wrap;\n",
              "      gap: 12px;\n",
              "    }\n",
              "\n",
              "    .colab-df-convert {\n",
              "      background-color: #E8F0FE;\n",
              "      border: none;\n",
              "      border-radius: 50%;\n",
              "      cursor: pointer;\n",
              "      display: none;\n",
              "      fill: #1967D2;\n",
              "      height: 32px;\n",
              "      padding: 0 0 0 0;\n",
              "      width: 32px;\n",
              "    }\n",
              "\n",
              "    .colab-df-convert:hover {\n",
              "      background-color: #E2EBFA;\n",
              "      box-shadow: 0px 1px 2px rgba(60, 64, 67, 0.3), 0px 1px 3px 1px rgba(60, 64, 67, 0.15);\n",
              "      fill: #174EA6;\n",
              "    }\n",
              "\n",
              "    [theme=dark] .colab-df-convert {\n",
              "      background-color: #3B4455;\n",
              "      fill: #D2E3FC;\n",
              "    }\n",
              "\n",
              "    [theme=dark] .colab-df-convert:hover {\n",
              "      background-color: #434B5C;\n",
              "      box-shadow: 0px 1px 3px 1px rgba(0, 0, 0, 0.15);\n",
              "      filter: drop-shadow(0px 1px 2px rgba(0, 0, 0, 0.3));\n",
              "      fill: #FFFFFF;\n",
              "    }\n",
              "  </style>\n",
              "\n",
              "      <script>\n",
              "        const buttonEl =\n",
              "          document.querySelector('#df-4c0ff7ad-c45b-4e1d-b702-f54dd360b550 button.colab-df-convert');\n",
              "        buttonEl.style.display =\n",
              "          google.colab.kernel.accessAllowed ? 'block' : 'none';\n",
              "\n",
              "        async function convertToInteractive(key) {\n",
              "          const element = document.querySelector('#df-4c0ff7ad-c45b-4e1d-b702-f54dd360b550');\n",
              "          const dataTable =\n",
              "            await google.colab.kernel.invokeFunction('convertToInteractive',\n",
              "                                                     [key], {});\n",
              "          if (!dataTable) return;\n",
              "\n",
              "          const docLinkHtml = 'Like what you see? Visit the ' +\n",
              "            '<a target=\"_blank\" href=https://colab.research.google.com/notebooks/data_table.ipynb>data table notebook</a>'\n",
              "            + ' to learn more about interactive tables.';\n",
              "          element.innerHTML = '';\n",
              "          dataTable['output_type'] = 'display_data';\n",
              "          await google.colab.output.renderOutput(dataTable, element);\n",
              "          const docLink = document.createElement('div');\n",
              "          docLink.innerHTML = docLinkHtml;\n",
              "          element.appendChild(docLink);\n",
              "        }\n",
              "      </script>\n",
              "    </div>\n",
              "  </div>\n",
              "  "
            ]
          },
          "metadata": {},
          "execution_count": 61
        }
      ],
      "source": [
        "import pandas as pd\n",
        "raw_data = pd.read_excel('/content/gdrive/MyDrive/대회/감정분석 대회/train_label_data.xlsx')\n",
        "# test_data = pd.read_table('ratings_test.txt')\n",
        "\n",
        "raw_data"
      ]
    },
    {
      "cell_type": "code",
      "source": [
        "kerc_x = train_x_pad[:7339]\n",
        "kerc_y = train_y[:7339]"
      ],
      "metadata": {
        "id": "5wRgI9z-gY2h"
      },
      "execution_count": null,
      "outputs": []
    },
    {
      "cell_type": "code",
      "source": [
        "loaded_model = load_model('best_model.h5')\n",
        "print(\"\\n 테스트 정확도(loss, acc): \" , loaded_model.evaluate(kerc_x , kerc_y))"
      ],
      "metadata": {
        "colab": {
          "base_uri": "https://localhost:8080/"
        },
        "outputId": "092071ef-3839-4bce-9e6c-9430cdc22dee",
        "id": "0jKWD1pBgY2h"
      },
      "execution_count": null,
      "outputs": [
        {
          "output_type": "stream",
          "name": "stdout",
          "text": [
            "230/230 [==============================] - 2s 6ms/step - loss: 0.7506 - acc: 0.6715\n",
            "\n",
            " 테스트 정확도(loss, acc):  [0.7506495714187622, 0.6714811325073242]\n"
          ]
        }
      ]
    },
    {
      "cell_type": "code",
      "source": [],
      "metadata": {
        "id": "1AxyldRqgY2h"
      },
      "execution_count": null,
      "outputs": []
    },
    {
      "cell_type": "code",
      "source": [],
      "metadata": {
        "id": "mlcUrh8zgY2i"
      },
      "execution_count": null,
      "outputs": []
    },
    {
      "cell_type": "code",
      "source": [],
      "metadata": {
        "id": "mrLz0lLAgY2i"
      },
      "execution_count": null,
      "outputs": []
    },
    {
      "cell_type": "code",
      "source": [],
      "metadata": {
        "id": "bN9xARb1gY2i"
      },
      "execution_count": null,
      "outputs": []
    },
    {
      "cell_type": "code",
      "execution_count": null,
      "metadata": {
        "colab": {
          "base_uri": "https://localhost:8080/"
        },
        "outputId": "42895c90-f52c-46c8-9181-ee47535a1854",
        "id": "T6aLLVvFgY2i"
      },
      "outputs": [
        {
          "output_type": "stream",
          "name": "stdout",
          "text": [
            "Model: \"sequential_3\"\n",
            "_________________________________________________________________\n",
            " Layer (type)                Output Shape              Param #   \n",
            "=================================================================\n",
            " embedding_3 (Embedding)     (None, None, 100)         120000    \n",
            "                                                                 \n",
            " conv1d_3 (Conv1D)           (None, None, 128)         64128     \n",
            "                                                                 \n",
            " max_pooling1d_3 (MaxPooling  (None, None, 128)        0         \n",
            " 1D)                                                             \n",
            "                                                                 \n",
            " bidirectional_3 (Bidirectio  (None, 256)              263168    \n",
            " nal)                                                            \n",
            "                                                                 \n",
            " dropout_3 (Dropout)         (None, 256)               0         \n",
            "                                                                 \n",
            " dense_6 (Dense)             (None, 10)                2570      \n",
            "                                                                 \n",
            " dense_7 (Dense)             (None, 3)                 33        \n",
            "                                                                 \n",
            " activation_3 (Activation)   (None, 3)                 0         \n",
            "                                                                 \n",
            "=================================================================\n",
            "Total params: 449,899\n",
            "Trainable params: 449,899\n",
            "Non-trainable params: 0\n",
            "_________________________________________________________________\n",
            "Epoch 1/40\n",
            "2329/2329 [==============================] - ETA: 0s - loss: 0.4153 - acc: 0.8387\n",
            "Epoch 1: val_acc improved from -inf to 0.85664, saving model to best_model.h5\n",
            "2329/2329 [==============================] - 30s 10ms/step - loss: 0.4153 - acc: 0.8387 - val_loss: 0.3684 - val_acc: 0.8566\n",
            "Epoch 2/40\n",
            "2325/2329 [============================>.] - ETA: 0s - loss: 0.3382 - acc: 0.8692\n",
            "Epoch 2: val_acc improved from 0.85664 to 0.86171, saving model to best_model.h5\n",
            "2329/2329 [==============================] - 21s 9ms/step - loss: 0.3382 - acc: 0.8691 - val_loss: 0.3546 - val_acc: 0.8617\n",
            "Epoch 3/40\n",
            "2324/2329 [============================>.] - ETA: 0s - loss: 0.3000 - acc: 0.8840\n",
            "Epoch 3: val_acc did not improve from 0.86171\n",
            "2329/2329 [==============================] - 20s 9ms/step - loss: 0.3000 - acc: 0.8840 - val_loss: 0.3619 - val_acc: 0.8583\n",
            "Epoch 4/40\n",
            "2325/2329 [============================>.] - ETA: 0s - loss: 0.2566 - acc: 0.9022\n",
            "Epoch 4: val_acc did not improve from 0.86171\n",
            "2329/2329 [==============================] - 20s 9ms/step - loss: 0.2567 - acc: 0.9022 - val_loss: 0.3814 - val_acc: 0.8549\n",
            "Epoch 5/40\n",
            "2328/2329 [============================>.] - ETA: 0s - loss: 0.2068 - acc: 0.9216\n",
            "Epoch 5: val_acc did not improve from 0.86171\n",
            "2329/2329 [==============================] - 20s 9ms/step - loss: 0.2067 - acc: 0.9216 - val_loss: 0.4510 - val_acc: 0.8493\n",
            "Epoch 6/40\n",
            "2328/2329 [============================>.] - ETA: 0s - loss: 0.1623 - acc: 0.9378\n",
            "Epoch 6: val_acc did not improve from 0.86171\n",
            "2329/2329 [==============================] - 21s 9ms/step - loss: 0.1624 - acc: 0.9378 - val_loss: 0.5271 - val_acc: 0.8475\n",
            "Epoch 7/40\n",
            "2329/2329 [==============================] - ETA: 0s - loss: 0.1283 - acc: 0.9505\n",
            "Epoch 7: val_acc did not improve from 0.86171\n",
            "2329/2329 [==============================] - 20s 9ms/step - loss: 0.1283 - acc: 0.9505 - val_loss: 0.5592 - val_acc: 0.8394\n",
            "Epoch 7: early stopping\n"
          ]
        }
      ],
      "source": [
        "\n",
        "from tensorflow.keras.layers import Embedding, Dense, LSTM, InputLayer, Dropout, Activation, TimeDistributed, Bidirectional\n",
        "from tensorflow.keras.layers import Conv1D, MaxPooling1D\n",
        "from keras.datasets import imdb\n",
        "from tensorflow import keras\n",
        "from tensorflow.keras import layers\n",
        "from tensorflow.keras.models import Sequential\n",
        "from tensorflow.keras.models import load_model\n",
        "from tensorflow.keras.callbacks import EarlyStopping, ModelCheckpoint\n",
        "\n",
        "\n",
        "import numpy\n",
        "import tensorflow as tf\n",
        "import matplotlib.pyplot as plt\n",
        "\n",
        "embedding_dim = 100\n",
        "hidden_units = 128\n",
        "\n",
        "model = Sequential()\n",
        "model.add(Embedding(1200, embedding_dim))\n",
        "model.add(Conv1D(128, 5, padding='valid', activation='relu', strides=1))\n",
        "model.add(MaxPooling1D(pool_size=4))\n",
        "model.add(layers.Bidirectional(layers.LSTM(128)))\n",
        "model.add(Dropout(0.25))\n",
        "model.add(layers.Dense(10))\n",
        "model.add(layers.Dense(3))\n",
        "model.add(Activation('softmax'))\n",
        "model.summary()\n",
        "\n",
        "es = EarlyStopping(monitor='val_loss', mode='min', verbose=1, patience=5)\n",
        "mc = ModelCheckpoint('best_model.h5', monitor='val_acc', mode='max', verbose=1, save_best_only=True)\n",
        "\n",
        "model.compile(optimizer='adam', loss='sparse_categorical_crossentropy', metrics=['acc'])\n",
        "history = model.fit(x_train, y_train, epochs=40, callbacks=[es, mc], batch_size=32, validation_data=(x_test, y_test))\n"
      ]
    },
    {
      "cell_type": "code",
      "execution_count": null,
      "metadata": {
        "colab": {
          "base_uri": "https://localhost:8080/"
        },
        "outputId": "af309f2b-5482-48c4-e22f-6b0764a9a460",
        "id": "rqYSi-RYgY2i"
      },
      "outputs": [
        {
          "name": "stdout",
          "output_type": "stream",
          "text": [
            "1527/1527 [==============================] - 6s 4ms/step - loss: 0.4769 - acc: 0.7535\n",
            "\n",
            " 테스트 정확도: 0.7535\n"
          ]
        }
      ],
      "source": [
        "loaded_model = load_model('best_model.h5')\n",
        "print(\"\\n 테스트 정확도: %.4f\" % (loaded_model.evaluate(x_test, y_test)[1]))"
      ]
    },
    {
      "cell_type": "code",
      "execution_count": null,
      "metadata": {
        "colab": {
          "base_uri": "https://localhost:8080/",
          "height": 424
        },
        "outputId": "1dbf714a-d940-491a-a836-340ac1b46d1c",
        "id": "xqzc6IOwgY2i"
      },
      "outputs": [
        {
          "output_type": "execute_result",
          "data": {
            "text/plain": [
              "      sentence_id person                                           sentence  \\\n",
              "0               1     어영  야! 전화 받아. 아무리 바빠도 내전화는 받아야 되는거 아냐? 약속 하나도 못지키는...   \n",
              "1               2     어영     우리 아무래도 안되겠다. 이게 최선인거 같애. 평생 잊지 않을게. 행복하길 바란다.   \n",
              "2               3    지구대                          김경사님, 아직 안가셨어요? 시간 다됐을텐데.   \n",
              "3               4     순경                                         근무중인데 어딜가?   \n",
              "4               5    지구대    다녀오세요. 이런날은 무조건 가서 축하해주셔야죠. 이순경이 대신 근무선다고 나온대요.   \n",
              "...           ...    ...                                                ...   \n",
              "7334        12285     청난                               종남이 맛있는것도 사주고 잘 챙겨줘.   \n",
              "7335        12286     건강                        걱정마라. 먹어도 같이 먹고 굶어도 같이 굶는다.   \n",
              "7336        12287     종남                                       아빠. 우리 저거 타.   \n",
              "7337        12288     건강  나 못타는데. 한번도 안타봤어. 툭하면 차멀미까지 하는데, 봐라, 너도 내몸땡이에 ...   \n",
              "7338        12289     건강                              여기 꼼짝말고 있어. 어디 가면 안돼.   \n",
              "\n",
              "      scene                                            context      label  \n",
              "0     S0104                                                NaN  dysphoria  \n",
              "1     S0108           포기한듯 탁 일어서는데, 띵동 문자. 후다닥 보는 어영. 기막혀 읽어보는  dysphoria  \n",
              "2     S0109    초조하게 시계보면서 왔다갔다 서성이는 김순경. 순찰차(경차)와서 멈추고 내리는 지구대    neutral  \n",
              "3     S0109    초조하게 시계보면서 왔다갔다 서성이는 김순경. 순찰차(경차)와서 멈추고 내리는 지구대  dysphoria  \n",
              "4     S0109    초조하게 시계보면서 왔다갔다 서성이는 김순경. 순찰차(경차)와서 멈추고 내리는 지구대   euphoria  \n",
              "...     ...                                                ...        ...  \n",
              "7334  S3576                                                NaN   euphoria  \n",
              "7335  S3576                                                NaN   euphoria  \n",
              "7336  S3576                                                NaN   euphoria  \n",
              "7337  S3576                                                NaN   euphoria  \n",
              "7338  S3576  시간경과. 놀이기구 타는 건강종남. 사람들 비명. 신난 종남 소리지르고. 건강 하얗...   euphoria  \n",
              "\n",
              "[7339 rows x 6 columns]"
            ],
            "text/html": [
              "\n",
              "  <div id=\"df-d7232e28-fd0d-475c-a5a9-563744b364dd\">\n",
              "    <div class=\"colab-df-container\">\n",
              "      <div>\n",
              "<style scoped>\n",
              "    .dataframe tbody tr th:only-of-type {\n",
              "        vertical-align: middle;\n",
              "    }\n",
              "\n",
              "    .dataframe tbody tr th {\n",
              "        vertical-align: top;\n",
              "    }\n",
              "\n",
              "    .dataframe thead th {\n",
              "        text-align: right;\n",
              "    }\n",
              "</style>\n",
              "<table border=\"1\" class=\"dataframe\">\n",
              "  <thead>\n",
              "    <tr style=\"text-align: right;\">\n",
              "      <th></th>\n",
              "      <th>sentence_id</th>\n",
              "      <th>person</th>\n",
              "      <th>sentence</th>\n",
              "      <th>scene</th>\n",
              "      <th>context</th>\n",
              "      <th>label</th>\n",
              "    </tr>\n",
              "  </thead>\n",
              "  <tbody>\n",
              "    <tr>\n",
              "      <th>0</th>\n",
              "      <td>1</td>\n",
              "      <td>어영</td>\n",
              "      <td>야! 전화 받아. 아무리 바빠도 내전화는 받아야 되는거 아냐? 약속 하나도 못지키는...</td>\n",
              "      <td>S0104</td>\n",
              "      <td>NaN</td>\n",
              "      <td>dysphoria</td>\n",
              "    </tr>\n",
              "    <tr>\n",
              "      <th>1</th>\n",
              "      <td>2</td>\n",
              "      <td>어영</td>\n",
              "      <td>우리 아무래도 안되겠다. 이게 최선인거 같애. 평생 잊지 않을게. 행복하길 바란다.</td>\n",
              "      <td>S0108</td>\n",
              "      <td>포기한듯 탁 일어서는데, 띵동 문자. 후다닥 보는 어영. 기막혀 읽어보는</td>\n",
              "      <td>dysphoria</td>\n",
              "    </tr>\n",
              "    <tr>\n",
              "      <th>2</th>\n",
              "      <td>3</td>\n",
              "      <td>지구대</td>\n",
              "      <td>김경사님, 아직 안가셨어요? 시간 다됐을텐데.</td>\n",
              "      <td>S0109</td>\n",
              "      <td>초조하게 시계보면서 왔다갔다 서성이는 김순경. 순찰차(경차)와서 멈추고 내리는 지구대</td>\n",
              "      <td>neutral</td>\n",
              "    </tr>\n",
              "    <tr>\n",
              "      <th>3</th>\n",
              "      <td>4</td>\n",
              "      <td>순경</td>\n",
              "      <td>근무중인데 어딜가?</td>\n",
              "      <td>S0109</td>\n",
              "      <td>초조하게 시계보면서 왔다갔다 서성이는 김순경. 순찰차(경차)와서 멈추고 내리는 지구대</td>\n",
              "      <td>dysphoria</td>\n",
              "    </tr>\n",
              "    <tr>\n",
              "      <th>4</th>\n",
              "      <td>5</td>\n",
              "      <td>지구대</td>\n",
              "      <td>다녀오세요. 이런날은 무조건 가서 축하해주셔야죠. 이순경이 대신 근무선다고 나온대요.</td>\n",
              "      <td>S0109</td>\n",
              "      <td>초조하게 시계보면서 왔다갔다 서성이는 김순경. 순찰차(경차)와서 멈추고 내리는 지구대</td>\n",
              "      <td>euphoria</td>\n",
              "    </tr>\n",
              "    <tr>\n",
              "      <th>...</th>\n",
              "      <td>...</td>\n",
              "      <td>...</td>\n",
              "      <td>...</td>\n",
              "      <td>...</td>\n",
              "      <td>...</td>\n",
              "      <td>...</td>\n",
              "    </tr>\n",
              "    <tr>\n",
              "      <th>7334</th>\n",
              "      <td>12285</td>\n",
              "      <td>청난</td>\n",
              "      <td>종남이 맛있는것도 사주고 잘 챙겨줘.</td>\n",
              "      <td>S3576</td>\n",
              "      <td>NaN</td>\n",
              "      <td>euphoria</td>\n",
              "    </tr>\n",
              "    <tr>\n",
              "      <th>7335</th>\n",
              "      <td>12286</td>\n",
              "      <td>건강</td>\n",
              "      <td>걱정마라. 먹어도 같이 먹고 굶어도 같이 굶는다.</td>\n",
              "      <td>S3576</td>\n",
              "      <td>NaN</td>\n",
              "      <td>euphoria</td>\n",
              "    </tr>\n",
              "    <tr>\n",
              "      <th>7336</th>\n",
              "      <td>12287</td>\n",
              "      <td>종남</td>\n",
              "      <td>아빠. 우리 저거 타.</td>\n",
              "      <td>S3576</td>\n",
              "      <td>NaN</td>\n",
              "      <td>euphoria</td>\n",
              "    </tr>\n",
              "    <tr>\n",
              "      <th>7337</th>\n",
              "      <td>12288</td>\n",
              "      <td>건강</td>\n",
              "      <td>나 못타는데. 한번도 안타봤어. 툭하면 차멀미까지 하는데, 봐라, 너도 내몸땡이에 ...</td>\n",
              "      <td>S3576</td>\n",
              "      <td>NaN</td>\n",
              "      <td>euphoria</td>\n",
              "    </tr>\n",
              "    <tr>\n",
              "      <th>7338</th>\n",
              "      <td>12289</td>\n",
              "      <td>건강</td>\n",
              "      <td>여기 꼼짝말고 있어. 어디 가면 안돼.</td>\n",
              "      <td>S3576</td>\n",
              "      <td>시간경과. 놀이기구 타는 건강종남. 사람들 비명. 신난 종남 소리지르고. 건강 하얗...</td>\n",
              "      <td>euphoria</td>\n",
              "    </tr>\n",
              "  </tbody>\n",
              "</table>\n",
              "<p>7339 rows × 6 columns</p>\n",
              "</div>\n",
              "      <button class=\"colab-df-convert\" onclick=\"convertToInteractive('df-d7232e28-fd0d-475c-a5a9-563744b364dd')\"\n",
              "              title=\"Convert this dataframe to an interactive table.\"\n",
              "              style=\"display:none;\">\n",
              "        \n",
              "  <svg xmlns=\"http://www.w3.org/2000/svg\" height=\"24px\"viewBox=\"0 0 24 24\"\n",
              "       width=\"24px\">\n",
              "    <path d=\"M0 0h24v24H0V0z\" fill=\"none\"/>\n",
              "    <path d=\"M18.56 5.44l.94 2.06.94-2.06 2.06-.94-2.06-.94-.94-2.06-.94 2.06-2.06.94zm-11 1L8.5 8.5l.94-2.06 2.06-.94-2.06-.94L8.5 2.5l-.94 2.06-2.06.94zm10 10l.94 2.06.94-2.06 2.06-.94-2.06-.94-.94-2.06-.94 2.06-2.06.94z\"/><path d=\"M17.41 7.96l-1.37-1.37c-.4-.4-.92-.59-1.43-.59-.52 0-1.04.2-1.43.59L10.3 9.45l-7.72 7.72c-.78.78-.78 2.05 0 2.83L4 21.41c.39.39.9.59 1.41.59.51 0 1.02-.2 1.41-.59l7.78-7.78 2.81-2.81c.8-.78.8-2.07 0-2.86zM5.41 20L4 18.59l7.72-7.72 1.47 1.35L5.41 20z\"/>\n",
              "  </svg>\n",
              "      </button>\n",
              "      \n",
              "  <style>\n",
              "    .colab-df-container {\n",
              "      display:flex;\n",
              "      flex-wrap:wrap;\n",
              "      gap: 12px;\n",
              "    }\n",
              "\n",
              "    .colab-df-convert {\n",
              "      background-color: #E8F0FE;\n",
              "      border: none;\n",
              "      border-radius: 50%;\n",
              "      cursor: pointer;\n",
              "      display: none;\n",
              "      fill: #1967D2;\n",
              "      height: 32px;\n",
              "      padding: 0 0 0 0;\n",
              "      width: 32px;\n",
              "    }\n",
              "\n",
              "    .colab-df-convert:hover {\n",
              "      background-color: #E2EBFA;\n",
              "      box-shadow: 0px 1px 2px rgba(60, 64, 67, 0.3), 0px 1px 3px 1px rgba(60, 64, 67, 0.15);\n",
              "      fill: #174EA6;\n",
              "    }\n",
              "\n",
              "    [theme=dark] .colab-df-convert {\n",
              "      background-color: #3B4455;\n",
              "      fill: #D2E3FC;\n",
              "    }\n",
              "\n",
              "    [theme=dark] .colab-df-convert:hover {\n",
              "      background-color: #434B5C;\n",
              "      box-shadow: 0px 1px 3px 1px rgba(0, 0, 0, 0.15);\n",
              "      filter: drop-shadow(0px 1px 2px rgba(0, 0, 0, 0.3));\n",
              "      fill: #FFFFFF;\n",
              "    }\n",
              "  </style>\n",
              "\n",
              "      <script>\n",
              "        const buttonEl =\n",
              "          document.querySelector('#df-d7232e28-fd0d-475c-a5a9-563744b364dd button.colab-df-convert');\n",
              "        buttonEl.style.display =\n",
              "          google.colab.kernel.accessAllowed ? 'block' : 'none';\n",
              "\n",
              "        async function convertToInteractive(key) {\n",
              "          const element = document.querySelector('#df-d7232e28-fd0d-475c-a5a9-563744b364dd');\n",
              "          const dataTable =\n",
              "            await google.colab.kernel.invokeFunction('convertToInteractive',\n",
              "                                                     [key], {});\n",
              "          if (!dataTable) return;\n",
              "\n",
              "          const docLinkHtml = 'Like what you see? Visit the ' +\n",
              "            '<a target=\"_blank\" href=https://colab.research.google.com/notebooks/data_table.ipynb>data table notebook</a>'\n",
              "            + ' to learn more about interactive tables.';\n",
              "          element.innerHTML = '';\n",
              "          dataTable['output_type'] = 'display_data';\n",
              "          await google.colab.output.renderOutput(dataTable, element);\n",
              "          const docLink = document.createElement('div');\n",
              "          docLink.innerHTML = docLinkHtml;\n",
              "          element.appendChild(docLink);\n",
              "        }\n",
              "      </script>\n",
              "    </div>\n",
              "  </div>\n",
              "  "
            ]
          },
          "metadata": {},
          "execution_count": 116
        }
      ],
      "source": [
        "import pandas as pd\n",
        "raw_data = pd.read_excel('/content/gdrive/MyDrive/대회/감정분석 대회/train_label_data.xlsx')\n",
        "# test_data = pd.read_table('ratings_test.txt')\n",
        "\n",
        "raw_data"
      ]
    },
    {
      "cell_type": "code",
      "source": [
        "kerc_x = train_x_pad[:7339]\n",
        "kerc_y = train_y[:7339]"
      ],
      "metadata": {
        "id": "1kfsaj6hgY2i"
      },
      "execution_count": null,
      "outputs": []
    },
    {
      "cell_type": "code",
      "source": [
        "loaded_model = load_model('best_model.h5')\n",
        "print(\"\\n 테스트 정확도(loss, acc): \" , loaded_model.evaluate(kerc_x , kerc_y))"
      ],
      "metadata": {
        "colab": {
          "base_uri": "https://localhost:8080/"
        },
        "outputId": "ba355bcc-e004-4a4a-a2c2-b91e5101f398",
        "id": "g8pFI4QwgY2i"
      },
      "execution_count": null,
      "outputs": [
        {
          "output_type": "stream",
          "name": "stdout",
          "text": [
            "230/230 [==============================] - 2s 4ms/step - loss: 0.8429 - acc: 0.6010\n",
            "\n",
            " 테스트 정확도(loss, acc):  [0.8429270386695862, 0.6010355353355408]\n"
          ]
        }
      ]
    },
    {
      "cell_type": "code",
      "source": [],
      "metadata": {
        "id": "BFpkicAkgY2i"
      },
      "execution_count": null,
      "outputs": []
    },
    {
      "cell_type": "code",
      "source": [],
      "metadata": {
        "id": "qLwq4M8ZgY2i"
      },
      "execution_count": null,
      "outputs": []
    },
    {
      "cell_type": "code",
      "source": [],
      "metadata": {
        "id": "ItPjdYTIgY2i"
      },
      "execution_count": null,
      "outputs": []
    },
    {
      "cell_type": "code",
      "source": [],
      "metadata": {
        "id": "2XQ_YM91gY2i"
      },
      "execution_count": null,
      "outputs": []
    },
    {
      "cell_type": "code",
      "source": [],
      "metadata": {
        "id": "XDoCCH1MgY2j"
      },
      "execution_count": null,
      "outputs": []
    },
    {
      "cell_type": "code",
      "source": [],
      "metadata": {
        "id": "zcD5n0sZgY2j"
      },
      "execution_count": null,
      "outputs": []
    },
    {
      "cell_type": "code",
      "source": [],
      "metadata": {
        "id": "7uiXjZZDgY2j"
      },
      "execution_count": null,
      "outputs": []
    },
    {
      "cell_type": "code",
      "source": [],
      "metadata": {
        "id": "AYeegdAZgY2j"
      },
      "execution_count": null,
      "outputs": []
    },
    {
      "cell_type": "code",
      "source": [],
      "metadata": {
        "id": "-p4zReDVgY2j"
      },
      "execution_count": null,
      "outputs": []
    },
    {
      "cell_type": "code",
      "source": [],
      "metadata": {
        "id": "lgwEgmcAgY2j"
      },
      "execution_count": null,
      "outputs": []
    }
  ],
  "metadata": {
    "accelerator": "GPU",
    "colab": {
      "provenance": [],
      "collapsed_sections": [
        "FAtDjGGCgY2W",
        "GwuxlzosgY2Z",
        "Z-ViY_qmgY2Z",
        "aNbyQfo7gY2b",
        "HWGumVgvgY2b",
        "YNUiHd2xgY2b"
      ]
    },
    "gpuClass": "standard",
    "kernelspec": {
      "display_name": "Python 3",
      "name": "python3"
    },
    "language_info": {
      "name": "python"
    }
  },
  "nbformat": 4,
  "nbformat_minor": 0
}