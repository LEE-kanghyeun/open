{
 "cells": [
  {
   "cell_type": "markdown",
   "metadata": {},
   "source": [
    "# AND GATE"
   ]
  },
  {
   "cell_type": "code",
   "execution_count": 15,
   "metadata": {},
   "outputs": [
    {
     "name": "stdout",
     "output_type": "stream",
     "text": [
      "1\n",
      "0\n",
      "0\n",
      "0\n"
     ]
    }
   ],
   "source": [
    "def AND(x1, x2):\n",
    "    w1, w2, threshold = .5, .5, .7\n",
    "    tmp = w1 * x1 + w2 * x2\n",
    "    if tmp <= threshold:\n",
    "        return 0\n",
    "    elif tmp > threshold:\n",
    "        return 1\n",
    "    \n",
    "print(AND(0.8,0.9), AND(0.1,0.9),AND(0.9,0.1),AND(0.1,0.1), sep ='\\n')"
   ]
  },
  {
   "cell_type": "markdown",
   "metadata": {},
   "source": [
    "# NAND GATE"
   ]
  },
  {
   "cell_type": "code",
   "execution_count": 13,
   "metadata": {},
   "outputs": [
    {
     "name": "stdout",
     "output_type": "stream",
     "text": [
      "0\n",
      "1\n",
      "1\n",
      "1\n",
      "\n",
      "\n",
      "0\n",
      "1\n",
      "1\n",
      "1\n",
      "\n",
      "\n"
     ]
    }
   ],
   "source": [
    "def NAND(x1, x2):\n",
    "    w1, w2, threshold = -.5, -.5, -.7\n",
    "    tmp = w1 * x1 + w2 * x2\n",
    "    if tmp <= threshold:\n",
    "        return 0\n",
    "    elif tmp > threshold:\n",
    "        return 1\n",
    "    \n",
    "print(NAND(0.8,0.9), NAND(0.1,0.9),NAND(0.9,0.1),NAND(0.1,0.1),'\\n', sep ='\\n')\n",
    "print(NAND(1,1), NAND(0,1),NAND(1,0),NAND(0,0),'\\n', sep ='\\n')"
   ]
  },
  {
   "cell_type": "code",
   "execution_count": 61,
   "metadata": {},
   "outputs": [
    {
     "name": "stdout",
     "output_type": "stream",
     "text": [
      "0\n",
      "1\n",
      "1\n",
      "1\n"
     ]
    }
   ],
   "source": [
    "def NAND(x1, x2):\n",
    "    w1, w2, threshold = .5, .5, .7\n",
    "    tmp = w1 * x1 + w2 * x2\n",
    "    if tmp <= threshold:\n",
    "        return 1\n",
    "    elif tmp > threshold:\n",
    "        return 0\n",
    "    \n",
    "print(NAND(0.8,0.9), NAND(0.1,0.9),NAND(0.9,0.1),NAND(0.1,0.1), sep ='\\n')"
   ]
  },
  {
   "cell_type": "markdown",
   "metadata": {},
   "source": [
    "# OR GATE"
   ]
  },
  {
   "cell_type": "code",
   "execution_count": 18,
   "metadata": {},
   "outputs": [
    {
     "name": "stdout",
     "output_type": "stream",
     "text": [
      "1\n",
      "1\n",
      "1\n",
      "0\n"
     ]
    }
   ],
   "source": [
    "def OR(x1, x2):\n",
    "    w1, w2, threshold = .5, .5, .3\n",
    "    tmp = w1 * x1 + w2 * x2\n",
    "    if tmp <= threshold:\n",
    "        return 0\n",
    "    elif tmp > threshold:\n",
    "        return 1\n",
    "    \n",
    "print(OR(0.8,0.9), OR(0.1,0.9),OR(0.9,0.1),OR(0.1,0.1), sep ='\\n')"
   ]
  },
  {
   "cell_type": "markdown",
   "metadata": {},
   "source": [
    "#  Bias"
   ]
  },
  {
   "cell_type": "code",
   "execution_count": 48,
   "metadata": {},
   "outputs": [
    {
     "name": "stdout",
     "output_type": "stream",
     "text": [
      "26\n",
      "26\n",
      "26\n",
      "[ 3  8 15]\n",
      "[ 3  8 15]\n"
     ]
    }
   ],
   "source": [
    "## 간단한 행렬곱\n",
    "import numpy as np\n",
    "\n",
    "x = np.array([1, 2, 3])\n",
    "w = np.array([3, 4, 5])\n",
    "\n",
    "print(x.dot(w))   \n",
    "print(x@w)\n",
    "\n",
    "print(np.sum(w * x))\n",
    "print(x*w)\n",
    "print(np.multiply(x,w))\n",
    "\n"
   ]
  },
  {
   "cell_type": "code",
   "execution_count": 52,
   "metadata": {},
   "outputs": [
    {
     "name": "stdout",
     "output_type": "stream",
     "text": [
      "1\n",
      "0\n",
      "0\n",
      "0\n"
     ]
    }
   ],
   "source": [
    "def AND(x1, x2):\n",
    "    x = np.array([x1, x2])\n",
    "    w = np.array([.5, .5])\n",
    "    b = -.7\n",
    "    tmp = np.sum(w * x) + b   \n",
    "    if tmp <= 0:             ## bias를 통해, threshold를 0으로 변경\n",
    "        return 0\n",
    "    elif tmp > 0:\n",
    "        return 1\n",
    "\n",
    "def NAND(x1, x2):\n",
    "    x = np.array([x1, x2])\n",
    "    w = np.array([-.1, -.1])\n",
    "    b = .2\n",
    "    tmp = np.sum(w * x) + b\n",
    "    if tmp <= 0:\n",
    "        return 0\n",
    "    elif tmp > 0:\n",
    "        return 1\n",
    "\n",
    "def OR(x1, x2):\n",
    "    x = np.array([x1, x2])\n",
    "    w = np.array([1., 1.])\n",
    "    b = 0.\n",
    "    tmp = np.sum(w * x) + b\n",
    "    if tmp <= 0:\n",
    "        return 0\n",
    "    elif tmp > 0:\n",
    "        return 1\n",
    "\n",
    "print(AND(0.8,0.9), AND(0.1,0.9),AND(0.9,0.1),AND(0.1,0.1), sep ='\\n')"
   ]
  },
  {
   "cell_type": "markdown",
   "metadata": {},
   "source": [
    "# 다층 퍼셉트론"
   ]
  },
  {
   "cell_type": "code",
   "execution_count": 55,
   "metadata": {},
   "outputs": [
    {
     "name": "stdout",
     "output_type": "stream",
     "text": [
      "0\n",
      "1\n",
      "1\n",
      "0\n"
     ]
    }
   ],
   "source": [
    "def XOR(x1, x2):      ## MLP는 퍼셉트론을 합친 모델\n",
    "    s1 = NAND(x1, x2)\n",
    "    s2 = OR(x1, x2)\n",
    "    y = AND(s1, s2)\n",
    "    return y\n",
    "\n",
    "print(XOR(0,0), XOR(1,0),XOR(0,1),XOR(1,1), sep ='\\n')"
   ]
  },
  {
   "cell_type": "code",
   "execution_count": 65,
   "metadata": {},
   "outputs": [
    {
     "name": "stdout",
     "output_type": "stream",
     "text": [
      "0\n",
      "1\n",
      "1\n",
      "0\n",
      "0\n",
      "1\n",
      "1\n",
      "0\n"
     ]
    }
   ],
   "source": [
    "def AND(x1, x2):\n",
    "    w1, w2, threshold = .5, .5, .7\n",
    "    tmp = w1 * x1 + w2 * x2\n",
    "    if tmp <= threshold:\n",
    "        return 0\n",
    "    elif tmp > threshold:\n",
    "        return 1\n",
    "    \n",
    "def AND2(x1, x2):\n",
    "    w1, w2, threshold = .5, .5, .2\n",
    "    tmp = w1 * x1 + w2 * x2\n",
    "    if tmp <= threshold:\n",
    "        return 1\n",
    "    elif tmp > threshold:\n",
    "        return 0\n",
    "    \n",
    "def NOR(x1, x2):\n",
    "    w1, w2, threshold = .5, .5, .3\n",
    "    tmp = w1 * x1 + w2 * x2\n",
    "    if tmp <= threshold:\n",
    "        return 1\n",
    "    elif tmp > threshold:\n",
    "        return 0\n",
    "\n",
    "    \n",
    "def XOR(x1, x2):\n",
    "    s1 = AND(x1, x2)\n",
    "    s2 = AND2(x1, x2)\n",
    "    y = NOR(s1, s2)\n",
    "    return y\n",
    "\n",
    "print(XOR(0,0), XOR(1,0),XOR(0,1),XOR(1,1), sep ='\\n')\n",
    "print(XOR(0.8,0.9), XOR(0.1,0.9),XOR(0.9,0.1),XOR(0.1,0.1), sep ='\\n')"
   ]
  },
  {
   "attachments": {
    "20211221_172249.png": {
     "image/png": "[encoded data removed]"
    }
   },
   "cell_type": "markdown",
   "metadata": {},
   "source": [
    "# 3-11번\n",
    "![20211221_172249.png](attachment:20211221_172249.png)"
   ]
  },
  {
   "cell_type": "code",
   "execution_count": 11,
   "metadata": {},
   "outputs": [
    {
     "name": "stdout",
     "output_type": "stream",
     "text": [
      "0\n",
      "0\n",
      "1\n",
      "0\n",
      "\n",
      "\n",
      "0\n",
      "1\n",
      "0\n",
      "0\n",
      "\n",
      "\n",
      "0\n",
      "1\n",
      "1\n",
      "1\n",
      "\n",
      "\n",
      "0\n",
      "1\n",
      "1\n",
      "0\n",
      "\n",
      "\n"
     ]
    }
   ],
   "source": [
    "# 3-11번 (XOR)\n",
    "import numpy as np\n",
    "\n",
    "def AND3(x1, x2):\n",
    "    w1, w2, bias = -0.5, 1, -0.7\n",
    "    tmp = x1*w1 + x2*w2 + bias\n",
    "    \n",
    "    if tmp > 0:\n",
    "        return 1\n",
    "    elif tmp < 0:\n",
    "        return 0\n",
    "    \n",
    "print(AND3(0,0), AND3(1,0),AND3(0,1),AND3(1,1),'\\n', sep ='\\n')\n",
    "\n",
    "\n",
    "def AND4(x1, x2):\n",
    "    w1, w2, bias = 1, -0.5, -0.7\n",
    "    tmp = x1*w1 + x2*w2 + bias\n",
    "    \n",
    "    if tmp > 0:\n",
    "        return 1\n",
    "    elif tmp < 0:\n",
    "        return 0\n",
    "    \n",
    "print(AND4(0,0), AND4(1,0),AND4(0,1),AND4(1,1),'\\n', sep ='\\n')\n",
    "\n",
    "\n",
    "def OR(x1, x2):\n",
    "    x = np.array([x1, x2])\n",
    "    w = np.array([1., 1.])\n",
    "    b = -0.5\n",
    "    tmp = np.sum(w * x) + b\n",
    "    if tmp <= 0:\n",
    "        return 0\n",
    "    elif tmp > 0:\n",
    "        return 1\n",
    "    \n",
    "print(OR(0,0), OR(1,0),OR(0,1),OR(1,1),'\\n', sep ='\\n')\n",
    "\n",
    "\n",
    "def XOR(x1, x2):\n",
    "    s1 = AND3(x1 ,x2)\n",
    "    s2 = AND4(x1, x2)\n",
    "    y = OR(s1 , s2)\n",
    "    return y\n",
    "    \n",
    "print(XOR(0,0), XOR(1,0), XOR(0,1), XOR(1,1),'\\n', sep ='\\n')\n",
    "    \n",
    "    \n"
   ]
  },
  {
   "cell_type": "code",
   "execution_count": 28,
   "metadata": {},
   "outputs": [
    {
     "name": "stdout",
     "output_type": "stream",
     "text": [
      "1\n",
      "-1\n",
      "-1\n",
      "-1\n",
      "-1\n",
      "-1\n",
      "-1\n",
      "1\n"
     ]
    }
   ],
   "source": [
    "# 3-2번\n",
    "\n",
    "# NOR을 구현하시오 \n",
    "# 조건 :\n",
    "# 1) 출력은 1과 -1로 (tanh 사용)\n",
    "# 2) 가중치는 +0.5, +1 , -0.5, -1만 사용 가능\n",
    "\n",
    "def NOR(x1, x2):\n",
    "    w1, w2, bias = -1, -1, 0.5\n",
    "    tmp = w1 * x1 + w2 * x2 + bias\n",
    "    \n",
    "    ## activation function (tanh)\n",
    "    if tmp > 0:\n",
    "        return 1\n",
    "    elif tmp < 0:\n",
    "        return -1\n",
    "    \n",
    "print(NOR(0,0), NOR(1,0), NOR(0,1), NOR(1,1), sep ='\\n')\n",
    "\n",
    "\n",
    "\n",
    "# AND \n",
    "# : 출력은 1과 -1로 (0 대신 -1을 활용하는 unitstep 사용)\n",
    "# : 가중치는 절대값 0.5, 1만 사용 가능\n",
    "\n",
    "def AND(x1, x2):\n",
    "    w1, w2, bias = 0.5, 0.5, -1\n",
    "    tmp = w1 * x1 + w2 * x2 + bias\n",
    "    \n",
    "    ## activation function (0 대신 -1을 활용하는 unitstep 사용) x>= 0 => 1, x<0 => -1\n",
    "    if tmp >= 0:  ## 0이 나와도, 1이라고 판단\n",
    "        return 1\n",
    "    elif tmp < 0:\n",
    "        return -1\n",
    "    \n",
    "print(AND (0,0), AND (1,0), AND(0,1), AND(1,1), sep ='\\n')"
   ]
  },
  {
   "cell_type": "code",
   "execution_count": null,
   "metadata": {},
   "outputs": [],
   "source": []
  }
 ],
 "metadata": {
  "kernelspec": {
   "display_name": "Python 3",
   "language": "python",
   "name": "python3"
  },
  "language_info": {
   "codemirror_mode": {
    "name": "ipython",
    "version": 3
   },
   "file_extension": ".py",
   "mimetype": "text/x-python",
   "name": "python",
   "nbconvert_exporter": "python",
   "pygments_lexer": "ipython3",
   "version": "3.7.6"
  }
 },
 "nbformat": 4,
 "nbformat_minor": 4
}
