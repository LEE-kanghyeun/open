{
 "cells": [
  {
   "cell_type": "markdown",
   "metadata": {},
   "source": [
    "# CT 복원영상에서 폐, 기도, 심장을 가이드해주는 딥러닝 모델 만들기"
   ]
  },
  {
   "cell_type": "markdown",
   "metadata": {},
   "source": [
    "## 1. CT이미지 데이터셋 살펴보기"
   ]
  },
  {
   "cell_type": "code",
   "execution_count": 1,
   "metadata": {},
   "outputs": [],
   "source": [
    "import os\n",
    "import pandas as pd"
   ]
  },
  {
   "cell_type": "code",
   "execution_count": 2,
   "metadata": {},
   "outputs": [
    {
     "data": {
      "text/plain": [
       "True"
      ]
     },
     "execution_count": 2,
     "metadata": {},
     "output_type": "execute_result"
    }
   ],
   "source": [
    "import torch\n",
    "torch.cuda.is_available()"
   ]
  },
  {
   "cell_type": "code",
   "execution_count": 3,
   "metadata": {},
   "outputs": [
    {
     "data": {
      "text/html": [
       "<div>\n",
       "<style scoped>\n",
       "    .dataframe tbody tr th:only-of-type {\n",
       "        vertical-align: middle;\n",
       "    }\n",
       "\n",
       "    .dataframe tbody tr th {\n",
       "        vertical-align: top;\n",
       "    }\n",
       "\n",
       "    .dataframe thead th {\n",
       "        text-align: right;\n",
       "    }\n",
       "</style>\n",
       "<table border=\"1\" class=\"dataframe\">\n",
       "  <thead>\n",
       "    <tr style=\"text-align: right;\">\n",
       "      <th></th>\n",
       "      <th>ImageId</th>\n",
       "      <th>MaskId</th>\n",
       "    </tr>\n",
       "  </thead>\n",
       "  <tbody>\n",
       "    <tr>\n",
       "      <th>0</th>\n",
       "      <td>ID00007637202177411956430_0.jpg</td>\n",
       "      <td>ID00007637202177411956430_mask_0.jpg</td>\n",
       "    </tr>\n",
       "    <tr>\n",
       "      <th>1</th>\n",
       "      <td>ID00007637202177411956430_1.jpg</td>\n",
       "      <td>ID00007637202177411956430_mask_1.jpg</td>\n",
       "    </tr>\n",
       "    <tr>\n",
       "      <th>2</th>\n",
       "      <td>ID00007637202177411956430_2.jpg</td>\n",
       "      <td>ID00007637202177411956430_mask_2.jpg</td>\n",
       "    </tr>\n",
       "    <tr>\n",
       "      <th>3</th>\n",
       "      <td>ID00007637202177411956430_3.jpg</td>\n",
       "      <td>ID00007637202177411956430_mask_3.jpg</td>\n",
       "    </tr>\n",
       "    <tr>\n",
       "      <th>4</th>\n",
       "      <td>ID00007637202177411956430_4.jpg</td>\n",
       "      <td>ID00007637202177411956430_mask_4.jpg</td>\n",
       "    </tr>\n",
       "  </tbody>\n",
       "</table>\n",
       "</div>"
      ],
      "text/plain": [
       "                           ImageId                                MaskId\n",
       "0  ID00007637202177411956430_0.jpg  ID00007637202177411956430_mask_0.jpg\n",
       "1  ID00007637202177411956430_1.jpg  ID00007637202177411956430_mask_1.jpg\n",
       "2  ID00007637202177411956430_2.jpg  ID00007637202177411956430_mask_2.jpg\n",
       "3  ID00007637202177411956430_3.jpg  ID00007637202177411956430_mask_3.jpg\n",
       "4  ID00007637202177411956430_4.jpg  ID00007637202177411956430_mask_4.jpg"
      ]
     },
     "execution_count": 3,
     "metadata": {},
     "output_type": "execute_result"
    }
   ],
   "source": [
    "# data_dir = \"../DATASET/Segmentation/\"\n",
    "data_dir = r\"C:\\Users\\com\\MEDICAL-DATASET-002\\Segmentation\"\n",
    "data_df = pd.read_csv(os.path.join(data_dir, \"train.csv\"))\n",
    "data_df.head()"
   ]
  },
  {
   "cell_type": "code",
   "execution_count": 4,
   "metadata": {},
   "outputs": [],
   "source": [
    "def extract_client_id(x):\n",
    "    return x.split(\"_\")[0]"
   ]
  },
  {
   "cell_type": "code",
   "execution_count": 5,
   "metadata": {},
   "outputs": [
    {
     "data": {
      "text/html": [
       "<div>\n",
       "<style scoped>\n",
       "    .dataframe tbody tr th:only-of-type {\n",
       "        vertical-align: middle;\n",
       "    }\n",
       "\n",
       "    .dataframe tbody tr th {\n",
       "        vertical-align: top;\n",
       "    }\n",
       "\n",
       "    .dataframe thead th {\n",
       "        text-align: right;\n",
       "    }\n",
       "</style>\n",
       "<table border=\"1\" class=\"dataframe\">\n",
       "  <thead>\n",
       "    <tr style=\"text-align: right;\">\n",
       "      <th></th>\n",
       "      <th>ImageId</th>\n",
       "      <th>MaskId</th>\n",
       "      <th>Id</th>\n",
       "    </tr>\n",
       "  </thead>\n",
       "  <tbody>\n",
       "    <tr>\n",
       "      <th>0</th>\n",
       "      <td>ID00007637202177411956430_0.jpg</td>\n",
       "      <td>ID00007637202177411956430_mask_0.jpg</td>\n",
       "      <td>ID00007637202177411956430</td>\n",
       "    </tr>\n",
       "    <tr>\n",
       "      <th>1</th>\n",
       "      <td>ID00007637202177411956430_1.jpg</td>\n",
       "      <td>ID00007637202177411956430_mask_1.jpg</td>\n",
       "      <td>ID00007637202177411956430</td>\n",
       "    </tr>\n",
       "    <tr>\n",
       "      <th>2</th>\n",
       "      <td>ID00007637202177411956430_2.jpg</td>\n",
       "      <td>ID00007637202177411956430_mask_2.jpg</td>\n",
       "      <td>ID00007637202177411956430</td>\n",
       "    </tr>\n",
       "    <tr>\n",
       "      <th>3</th>\n",
       "      <td>ID00007637202177411956430_3.jpg</td>\n",
       "      <td>ID00007637202177411956430_mask_3.jpg</td>\n",
       "      <td>ID00007637202177411956430</td>\n",
       "    </tr>\n",
       "    <tr>\n",
       "      <th>4</th>\n",
       "      <td>ID00007637202177411956430_4.jpg</td>\n",
       "      <td>ID00007637202177411956430_mask_4.jpg</td>\n",
       "      <td>ID00007637202177411956430</td>\n",
       "    </tr>\n",
       "    <tr>\n",
       "      <th>...</th>\n",
       "      <td>...</td>\n",
       "      <td>...</td>\n",
       "      <td>...</td>\n",
       "    </tr>\n",
       "    <tr>\n",
       "      <th>16703</th>\n",
       "      <td>ID00426637202313170790466_403.jpg</td>\n",
       "      <td>ID00426637202313170790466_mask_403.jpg</td>\n",
       "      <td>ID00426637202313170790466</td>\n",
       "    </tr>\n",
       "    <tr>\n",
       "      <th>16704</th>\n",
       "      <td>ID00426637202313170790466_404.jpg</td>\n",
       "      <td>ID00426637202313170790466_mask_404.jpg</td>\n",
       "      <td>ID00426637202313170790466</td>\n",
       "    </tr>\n",
       "    <tr>\n",
       "      <th>16705</th>\n",
       "      <td>ID00426637202313170790466_405.jpg</td>\n",
       "      <td>ID00426637202313170790466_mask_405.jpg</td>\n",
       "      <td>ID00426637202313170790466</td>\n",
       "    </tr>\n",
       "    <tr>\n",
       "      <th>16706</th>\n",
       "      <td>ID00426637202313170790466_406.jpg</td>\n",
       "      <td>ID00426637202313170790466_mask_406.jpg</td>\n",
       "      <td>ID00426637202313170790466</td>\n",
       "    </tr>\n",
       "    <tr>\n",
       "      <th>16707</th>\n",
       "      <td>ID00426637202313170790466_407.jpg</td>\n",
       "      <td>ID00426637202313170790466_mask_407.jpg</td>\n",
       "      <td>ID00426637202313170790466</td>\n",
       "    </tr>\n",
       "  </tbody>\n",
       "</table>\n",
       "<p>16708 rows × 3 columns</p>\n",
       "</div>"
      ],
      "text/plain": [
       "                                 ImageId  \\\n",
       "0        ID00007637202177411956430_0.jpg   \n",
       "1        ID00007637202177411956430_1.jpg   \n",
       "2        ID00007637202177411956430_2.jpg   \n",
       "3        ID00007637202177411956430_3.jpg   \n",
       "4        ID00007637202177411956430_4.jpg   \n",
       "...                                  ...   \n",
       "16703  ID00426637202313170790466_403.jpg   \n",
       "16704  ID00426637202313170790466_404.jpg   \n",
       "16705  ID00426637202313170790466_405.jpg   \n",
       "16706  ID00426637202313170790466_406.jpg   \n",
       "16707  ID00426637202313170790466_407.jpg   \n",
       "\n",
       "                                       MaskId                         Id  \n",
       "0        ID00007637202177411956430_mask_0.jpg  ID00007637202177411956430  \n",
       "1        ID00007637202177411956430_mask_1.jpg  ID00007637202177411956430  \n",
       "2        ID00007637202177411956430_mask_2.jpg  ID00007637202177411956430  \n",
       "3        ID00007637202177411956430_mask_3.jpg  ID00007637202177411956430  \n",
       "4        ID00007637202177411956430_mask_4.jpg  ID00007637202177411956430  \n",
       "...                                       ...                        ...  \n",
       "16703  ID00426637202313170790466_mask_403.jpg  ID00426637202313170790466  \n",
       "16704  ID00426637202313170790466_mask_404.jpg  ID00426637202313170790466  \n",
       "16705  ID00426637202313170790466_mask_405.jpg  ID00426637202313170790466  \n",
       "16706  ID00426637202313170790466_mask_406.jpg  ID00426637202313170790466  \n",
       "16707  ID00426637202313170790466_mask_407.jpg  ID00426637202313170790466  \n",
       "\n",
       "[16708 rows x 3 columns]"
      ]
     },
     "execution_count": 5,
     "metadata": {},
     "output_type": "execute_result"
    }
   ],
   "source": [
    "data_df[\"Id\"] = data_df.ImageId.apply(lambda x:extract_client_id(x))\n",
    "data_df"
   ]
  },
  {
   "cell_type": "code",
   "execution_count": 6,
   "metadata": {},
   "outputs": [],
   "source": [
    "import numpy as np"
   ]
  },
  {
   "cell_type": "code",
   "execution_count": 7,
   "metadata": {},
   "outputs": [
    {
     "name": "stdout",
     "output_type": "stream",
     "text": [
      "112\n"
     ]
    }
   ],
   "source": [
    "client_ids = np.unique(data_df.Id.values)\n",
    "print(len(client_ids))  ## 총 임상 참여자(또는 환자)의 수는 112명 "
   ]
  },
  {
   "cell_type": "code",
   "execution_count": 8,
   "metadata": {},
   "outputs": [
    {
     "data": {
      "text/html": [
       "<div>\n",
       "<style scoped>\n",
       "    .dataframe tbody tr th:only-of-type {\n",
       "        vertical-align: middle;\n",
       "    }\n",
       "\n",
       "    .dataframe tbody tr th {\n",
       "        vertical-align: top;\n",
       "    }\n",
       "\n",
       "    .dataframe thead th {\n",
       "        text-align: right;\n",
       "    }\n",
       "</style>\n",
       "<table border=\"1\" class=\"dataframe\">\n",
       "  <thead>\n",
       "    <tr style=\"text-align: right;\">\n",
       "      <th></th>\n",
       "      <th>ImageId</th>\n",
       "      <th>MaskId</th>\n",
       "    </tr>\n",
       "  </thead>\n",
       "  <tbody>\n",
       "    <tr>\n",
       "      <th>0</th>\n",
       "      <td>ID00007637202177411956430_0.jpg</td>\n",
       "      <td>ID00007637202177411956430_mask_0.jpg</td>\n",
       "    </tr>\n",
       "    <tr>\n",
       "      <th>1</th>\n",
       "      <td>ID00007637202177411956430_1.jpg</td>\n",
       "      <td>ID00007637202177411956430_mask_1.jpg</td>\n",
       "    </tr>\n",
       "    <tr>\n",
       "      <th>2</th>\n",
       "      <td>ID00007637202177411956430_2.jpg</td>\n",
       "      <td>ID00007637202177411956430_mask_2.jpg</td>\n",
       "    </tr>\n",
       "    <tr>\n",
       "      <th>3</th>\n",
       "      <td>ID00007637202177411956430_3.jpg</td>\n",
       "      <td>ID00007637202177411956430_mask_3.jpg</td>\n",
       "    </tr>\n",
       "    <tr>\n",
       "      <th>4</th>\n",
       "      <td>ID00007637202177411956430_4.jpg</td>\n",
       "      <td>ID00007637202177411956430_mask_4.jpg</td>\n",
       "    </tr>\n",
       "    <tr>\n",
       "      <th>5</th>\n",
       "      <td>ID00007637202177411956430_5.jpg</td>\n",
       "      <td>ID00007637202177411956430_mask_5.jpg</td>\n",
       "    </tr>\n",
       "    <tr>\n",
       "      <th>6</th>\n",
       "      <td>ID00007637202177411956430_6.jpg</td>\n",
       "      <td>ID00007637202177411956430_mask_6.jpg</td>\n",
       "    </tr>\n",
       "    <tr>\n",
       "      <th>7</th>\n",
       "      <td>ID00007637202177411956430_7.jpg</td>\n",
       "      <td>ID00007637202177411956430_mask_7.jpg</td>\n",
       "    </tr>\n",
       "    <tr>\n",
       "      <th>8</th>\n",
       "      <td>ID00007637202177411956430_8.jpg</td>\n",
       "      <td>ID00007637202177411956430_mask_8.jpg</td>\n",
       "    </tr>\n",
       "    <tr>\n",
       "      <th>9</th>\n",
       "      <td>ID00007637202177411956430_9.jpg</td>\n",
       "      <td>ID00007637202177411956430_mask_9.jpg</td>\n",
       "    </tr>\n",
       "    <tr>\n",
       "      <th>10</th>\n",
       "      <td>ID00007637202177411956430_10.jpg</td>\n",
       "      <td>ID00007637202177411956430_mask_10.jpg</td>\n",
       "    </tr>\n",
       "    <tr>\n",
       "      <th>11</th>\n",
       "      <td>ID00007637202177411956430_11.jpg</td>\n",
       "      <td>ID00007637202177411956430_mask_11.jpg</td>\n",
       "    </tr>\n",
       "    <tr>\n",
       "      <th>12</th>\n",
       "      <td>ID00007637202177411956430_12.jpg</td>\n",
       "      <td>ID00007637202177411956430_mask_12.jpg</td>\n",
       "    </tr>\n",
       "    <tr>\n",
       "      <th>13</th>\n",
       "      <td>ID00007637202177411956430_13.jpg</td>\n",
       "      <td>ID00007637202177411956430_mask_13.jpg</td>\n",
       "    </tr>\n",
       "    <tr>\n",
       "      <th>14</th>\n",
       "      <td>ID00007637202177411956430_14.jpg</td>\n",
       "      <td>ID00007637202177411956430_mask_14.jpg</td>\n",
       "    </tr>\n",
       "    <tr>\n",
       "      <th>15</th>\n",
       "      <td>ID00007637202177411956430_15.jpg</td>\n",
       "      <td>ID00007637202177411956430_mask_15.jpg</td>\n",
       "    </tr>\n",
       "    <tr>\n",
       "      <th>16</th>\n",
       "      <td>ID00007637202177411956430_16.jpg</td>\n",
       "      <td>ID00007637202177411956430_mask_16.jpg</td>\n",
       "    </tr>\n",
       "    <tr>\n",
       "      <th>17</th>\n",
       "      <td>ID00007637202177411956430_17.jpg</td>\n",
       "      <td>ID00007637202177411956430_mask_17.jpg</td>\n",
       "    </tr>\n",
       "    <tr>\n",
       "      <th>18</th>\n",
       "      <td>ID00007637202177411956430_18.jpg</td>\n",
       "      <td>ID00007637202177411956430_mask_18.jpg</td>\n",
       "    </tr>\n",
       "    <tr>\n",
       "      <th>19</th>\n",
       "      <td>ID00007637202177411956430_19.jpg</td>\n",
       "      <td>ID00007637202177411956430_mask_19.jpg</td>\n",
       "    </tr>\n",
       "    <tr>\n",
       "      <th>20</th>\n",
       "      <td>ID00007637202177411956430_20.jpg</td>\n",
       "      <td>ID00007637202177411956430_mask_20.jpg</td>\n",
       "    </tr>\n",
       "    <tr>\n",
       "      <th>21</th>\n",
       "      <td>ID00007637202177411956430_21.jpg</td>\n",
       "      <td>ID00007637202177411956430_mask_21.jpg</td>\n",
       "    </tr>\n",
       "    <tr>\n",
       "      <th>22</th>\n",
       "      <td>ID00007637202177411956430_22.jpg</td>\n",
       "      <td>ID00007637202177411956430_mask_22.jpg</td>\n",
       "    </tr>\n",
       "    <tr>\n",
       "      <th>23</th>\n",
       "      <td>ID00007637202177411956430_23.jpg</td>\n",
       "      <td>ID00007637202177411956430_mask_23.jpg</td>\n",
       "    </tr>\n",
       "    <tr>\n",
       "      <th>24</th>\n",
       "      <td>ID00007637202177411956430_24.jpg</td>\n",
       "      <td>ID00007637202177411956430_mask_24.jpg</td>\n",
       "    </tr>\n",
       "    <tr>\n",
       "      <th>25</th>\n",
       "      <td>ID00007637202177411956430_25.jpg</td>\n",
       "      <td>ID00007637202177411956430_mask_25.jpg</td>\n",
       "    </tr>\n",
       "    <tr>\n",
       "      <th>26</th>\n",
       "      <td>ID00007637202177411956430_26.jpg</td>\n",
       "      <td>ID00007637202177411956430_mask_26.jpg</td>\n",
       "    </tr>\n",
       "    <tr>\n",
       "      <th>27</th>\n",
       "      <td>ID00007637202177411956430_27.jpg</td>\n",
       "      <td>ID00007637202177411956430_mask_27.jpg</td>\n",
       "    </tr>\n",
       "    <tr>\n",
       "      <th>28</th>\n",
       "      <td>ID00007637202177411956430_28.jpg</td>\n",
       "      <td>ID00007637202177411956430_mask_28.jpg</td>\n",
       "    </tr>\n",
       "    <tr>\n",
       "      <th>29</th>\n",
       "      <td>ID00007637202177411956430_29.jpg</td>\n",
       "      <td>ID00007637202177411956430_mask_29.jpg</td>\n",
       "    </tr>\n",
       "  </tbody>\n",
       "</table>\n",
       "</div>"
      ],
      "text/plain": [
       "                             ImageId                                 MaskId\n",
       "0    ID00007637202177411956430_0.jpg   ID00007637202177411956430_mask_0.jpg\n",
       "1    ID00007637202177411956430_1.jpg   ID00007637202177411956430_mask_1.jpg\n",
       "2    ID00007637202177411956430_2.jpg   ID00007637202177411956430_mask_2.jpg\n",
       "3    ID00007637202177411956430_3.jpg   ID00007637202177411956430_mask_3.jpg\n",
       "4    ID00007637202177411956430_4.jpg   ID00007637202177411956430_mask_4.jpg\n",
       "5    ID00007637202177411956430_5.jpg   ID00007637202177411956430_mask_5.jpg\n",
       "6    ID00007637202177411956430_6.jpg   ID00007637202177411956430_mask_6.jpg\n",
       "7    ID00007637202177411956430_7.jpg   ID00007637202177411956430_mask_7.jpg\n",
       "8    ID00007637202177411956430_8.jpg   ID00007637202177411956430_mask_8.jpg\n",
       "9    ID00007637202177411956430_9.jpg   ID00007637202177411956430_mask_9.jpg\n",
       "10  ID00007637202177411956430_10.jpg  ID00007637202177411956430_mask_10.jpg\n",
       "11  ID00007637202177411956430_11.jpg  ID00007637202177411956430_mask_11.jpg\n",
       "12  ID00007637202177411956430_12.jpg  ID00007637202177411956430_mask_12.jpg\n",
       "13  ID00007637202177411956430_13.jpg  ID00007637202177411956430_mask_13.jpg\n",
       "14  ID00007637202177411956430_14.jpg  ID00007637202177411956430_mask_14.jpg\n",
       "15  ID00007637202177411956430_15.jpg  ID00007637202177411956430_mask_15.jpg\n",
       "16  ID00007637202177411956430_16.jpg  ID00007637202177411956430_mask_16.jpg\n",
       "17  ID00007637202177411956430_17.jpg  ID00007637202177411956430_mask_17.jpg\n",
       "18  ID00007637202177411956430_18.jpg  ID00007637202177411956430_mask_18.jpg\n",
       "19  ID00007637202177411956430_19.jpg  ID00007637202177411956430_mask_19.jpg\n",
       "20  ID00007637202177411956430_20.jpg  ID00007637202177411956430_mask_20.jpg\n",
       "21  ID00007637202177411956430_21.jpg  ID00007637202177411956430_mask_21.jpg\n",
       "22  ID00007637202177411956430_22.jpg  ID00007637202177411956430_mask_22.jpg\n",
       "23  ID00007637202177411956430_23.jpg  ID00007637202177411956430_mask_23.jpg\n",
       "24  ID00007637202177411956430_24.jpg  ID00007637202177411956430_mask_24.jpg\n",
       "25  ID00007637202177411956430_25.jpg  ID00007637202177411956430_mask_25.jpg\n",
       "26  ID00007637202177411956430_26.jpg  ID00007637202177411956430_mask_26.jpg\n",
       "27  ID00007637202177411956430_27.jpg  ID00007637202177411956430_mask_27.jpg\n",
       "28  ID00007637202177411956430_28.jpg  ID00007637202177411956430_mask_28.jpg\n",
       "29  ID00007637202177411956430_29.jpg  ID00007637202177411956430_mask_29.jpg"
      ]
     },
     "execution_count": 8,
     "metadata": {},
     "output_type": "execute_result"
    }
   ],
   "source": [
    "index = 0\n",
    "client_data = data_df[data_df.Id == client_ids[index]][[\"ImageId\", \"MaskId\"]]\n",
    "client_data  ## 0번째 환자의 훈련이미지와 타겟이미지"
   ]
  },
  {
   "cell_type": "code",
   "execution_count": 9,
   "metadata": {},
   "outputs": [],
   "source": [
    "import cv2\n",
    "import matplotlib.pyplot as plt\n",
    "\n",
    "sub_index = 15   ## index로 뽑힌 client 데이터에서 다시 index로 지정함 sub index\n",
    "img_name, mask_name = client_data.iloc[sub_index].values\n",
    "img_path, mask_path = os.path.join(data_dir, \"images\", img_name), os.path.join(data_dir, \"masks\", mask_name)\n",
    "image = cv2.imread(img_path)\n",
    "mask = cv2.imread(mask_path)"
   ]
  },
  {
   "cell_type": "code",
   "execution_count": 10,
   "metadata": {},
   "outputs": [
    {
     "data": {
      "text/plain": [
       "<matplotlib.image.AxesImage at 0x19a9bd7ba30>"
      ]
     },
     "execution_count": 10,
     "metadata": {},
     "output_type": "execute_result"
    },
    {
     "data": {
      "image/png": "[encoded data removed]",
      "text/plain": [
       "<Figure size 432x288 with 1 Axes>"
      ]
     },
     "metadata": {
      "needs_background": "light"
     },
     "output_type": "display_data"
    }
   ],
   "source": [
    "plt.imshow(mask[:,:,0])  ## mask의 데이터셋에서 channel은 RGB가 아니라, 폐 / 심장 / 기도 순서임"
   ]
  },
  {
   "cell_type": "code",
   "execution_count": 11,
   "metadata": {},
   "outputs": [
    {
     "data": {
      "text/plain": [
       "<matplotlib.image.AxesImage at 0x19a9be7b400>"
      ]
     },
     "execution_count": 11,
     "metadata": {},
     "output_type": "execute_result"
    },
    {
     "data": {
      "image/png": "[encoded data removed]",
      "text/plain": [
       "<Figure size 432x288 with 1 Axes>"
      ]
     },
     "metadata": {
      "needs_background": "light"
     },
     "output_type": "display_data"
    }
   ],
   "source": [
    "plt.imshow(mask[:,:,1])   ## 심장의 사진 "
   ]
  },
  {
   "cell_type": "code",
   "execution_count": 12,
   "metadata": {},
   "outputs": [
    {
     "data": {
      "text/plain": [
       "<matplotlib.image.AxesImage at 0x19a9bedfc40>"
      ]
     },
     "execution_count": 12,
     "metadata": {},
     "output_type": "execute_result"
    },
    {
     "data": {
      "image/png": "[encoded data removed]",
      "text/plain": [
       "<Figure size 432x288 with 1 Axes>"
      ]
     },
     "metadata": {
      "needs_background": "light"
     },
     "output_type": "display_data"
    }
   ],
   "source": [
    "plt.imshow(mask[:,:,2])"
   ]
  },
  {
   "cell_type": "raw",
   "metadata": {},
   "source": [
    "jpg 파일은 손실압축파일 포맷이므로, 픽셀간 근접한 부분이 어그러질수 있다.\n",
    "(PEG는 압축 형식이므로 디테일을 일부 희생시켜 파일 크기를 줄인다. 이 점은 카메라 메모리 카드의 저장 공간을 절약하고 사진을 온라인에 게시하거나 이메일을 통해 공유할 때 유리하다.\n",
    "원문보기:\n",
    "https://www.itworld.co.kr/news/98431#csidx5c97dd3a2a9b7a9880d0e8b7defd110 )\n",
    "\n",
    "\n",
    "\n",
    "PNG는 Portable Network Graphics의 약어로, 다양한 색과 투명 백그라운드를 지원하는 특성 덕분에 다른 백그라운드 위에 그래픽을 얹는 경우 유용하다. 이 형식은 무손실 압축을 사용하므로 이미지 디테일 손실이 전혀 없고 결과적으로 JPEG 형식보다 더 고품질 이미지를 생성하지만 파일 크기는 JPEG에 비해 더 커진다.\n",
    "\n",
    "PNG에는 PNG-8과 PNG-24, 두 가지 형태가 있다. PNG-24는 더 많은 색을 지원하며 부분적 투명 픽셀도 지원한다. 이는 투명 배경이 있는 이미지에 그림자 효과를 추가하는 경우, 또는 온라인에 게시하고자 하는 이미지에 그래디언트(넓은 하늘과 같이 색이 부드럽게 전환되는 부분)가 풍부한 경우 유리하다. PNG 형식은 JPEG와 달리 온라인에 게시할 때도 텍스트와 로고를 선명하게 유지하므로 소셜 미디어 표지 이미지에 적합하다. 그 외에 슬라이드 데크(키노트 또는 파워포인트용)를 위한 고화질 그래픽, 온라인 사진 포트폴리오에 게시할 고품질 이미지 등에도 유용하다. 또한 페이스북의 압축 알고리즘의 화질 손실도 JPEG에 비해 PNG가 낮은 것으로 알려져 있다.\n",
    "\n",
    "원문보기:\n",
    "https://www.itworld.co.kr/news/98431#csidx2a3d5d5c04670b1b61fa515650825fc \n",
    "\n",
    "\n",
    "따라서, SEGMENTATION의 경우에는 픽셀 하나하나가 소중하므로, png로 저장하는 것이 더 좋다.\n",
    "\n",
    "그런데 이미지 데이터가 이미 jpg로 왔다.  \n",
    "\n",
    "그래서\n",
    "\n",
    "thres = 240\n",
    "mask[mask < thres] = 0\n",
    "mask[mask >= thres] = 255  \n",
    "\n",
    "를 통해 어그러진 경계에 대한 확실히 경계로 만들어버릴 예정 "
   ]
  },
  {
   "cell_type": "code",
   "execution_count": 13,
   "metadata": {},
   "outputs": [
    {
     "data": {
      "image/png": "[encoded data removed]",
      "text/plain": [
       "<Figure size 576x432 with 2 Axes>"
      ]
     },
     "metadata": {
      "needs_background": "light"
     },
     "output_type": "display_data"
    }
   ],
   "source": [
    "thres = 240\n",
    "mask[mask < thres] = 0\n",
    "mask[mask >= thres] = 255\n",
    "\n",
    "plt.figure(figsize=(8,6))\n",
    "plt.subplot(121)\n",
    "plt.title(\"image\")\n",
    "plt.imshow(image)\n",
    "plt.subplot(122)\n",
    "plt.title(\"mask\")\n",
    "plt.imshow(mask)\n",
    "plt.tight_layout()"
   ]
  },
  {
   "cell_type": "code",
   "execution_count": 14,
   "metadata": {},
   "outputs": [
    {
     "data": {
      "text/plain": [
       "array([  0,   1,   2,   3,   4,   5,   6,   7,  97,  98,  99, 100, 101,\n",
       "       102, 103, 104, 105, 106, 107, 108, 109, 110, 111, 112, 113, 114,\n",
       "       115, 116, 117, 118, 119, 120, 121, 122, 123, 124, 125, 126, 127,\n",
       "       128, 129, 130, 131, 132, 133, 134, 135, 136, 137, 138, 139, 140,\n",
       "       141, 142, 143, 144, 145, 146, 147, 148, 149, 150, 151, 152, 153,\n",
       "       154, 155, 156, 157, 158, 159, 160, 161, 162, 163, 164, 165, 166,\n",
       "       167, 168, 169, 170, 171, 172, 173, 174, 175, 176, 177, 178, 179,\n",
       "       180, 181, 182, 183, 184, 185, 186, 187, 188, 189, 190, 191, 192,\n",
       "       193, 194, 195, 196, 197, 198, 199, 200, 201, 202, 203, 204, 205,\n",
       "       206, 207, 208, 209, 210, 211, 212, 213, 214, 215, 216, 217, 218,\n",
       "       219, 220, 221, 222, 223, 224, 225, 226, 227, 228, 229, 230, 231,\n",
       "       232, 233, 234, 235, 236, 237, 238, 239, 240, 241, 242, 243, 244,\n",
       "       245, 246, 247, 248, 249, 250, 252], dtype=uint8)"
      ]
     },
     "execution_count": 14,
     "metadata": {},
     "output_type": "execute_result"
    }
   ],
   "source": [
    "np.unique(image)"
   ]
  },
  {
   "cell_type": "code",
   "execution_count": 15,
   "metadata": {},
   "outputs": [],
   "source": [
    "def get_client_data(data_df, index):  ## INDEX는 환자 INDEX\n",
    "    client_ids = np.unique(data_df.Id.values)\n",
    "    client_id = client_ids[index]\n",
    "    client_data = data_df[data_df.Id == client_id]\n",
    "    image_files = list(client_data[\"ImageId\"])\n",
    "    mask_files = list(client_data[\"MaskId\"])\n",
    "    return client_id, image_files, mask_files"
   ]
  },
  {
   "cell_type": "code",
   "execution_count": 16,
   "metadata": {},
   "outputs": [],
   "source": [
    " ## 배경은 검정색, 기도는 파랑, 심장은 초록, 폐는 빨강으로 설정  (OPENCV의 컬러 스페이스는 BGR임)\n",
    "\n",
    "regions = [\"background\", \"trachea\", \"heart\", \"lung\"]  \n",
    "colors = ((0,0,0), (255, 0, 0), (0, 255, 0), (0, 0, 255))\n",
    "\n"
   ]
  },
  {
   "cell_type": "code",
   "execution_count": 17,
   "metadata": {},
   "outputs": [],
   "source": [
    "index = 0\n",
    "client_id, image_files, mask_files = get_client_data(data_df, index)  ## 환자의 INDEX를 입력하여, 이미지/마스크 파일 출력\n",
    "\n",
    "## 이미지를 통해 영상만들기 (환자별)\n",
    "canvas = np.zeros(shape=(512, 2*512+50, 3), dtype=np.uint8)\n",
    "for i in range(len(image_files)):\n",
    "    image = cv2.imread(os.path.join(data_dir, \"images\", image_files[i]))\n",
    "    image = cv2.cvtColor(image, cv2.COLOR_BGR2RGB)\n",
    "    mask = cv2.imread(os.path.join(data_dir, \"masks\", mask_files[i]))\n",
    "    mask = cv2.cvtColor(mask, cv2.COLOR_BGR2RGB)\n",
    "    thres = 240\n",
    "    mask[mask < thres] = 0\n",
    "    mask[mask >= thres] = 255\n",
    "    grid_pad = 50\n",
    "    \n",
    "    canvas[:, :512, :] = image\n",
    "    canvas[:, 512+grid_pad:2*512+grid_pad, :] = mask\n",
    "    \n",
    "    text_buff = 410\n",
    "    for j in range(1, len(regions)):\n",
    "        cv2.putText(canvas, f'{regions[j].upper()}', (900, text_buff), cv2.FONT_HERSHEY_SIMPLEX, 1, colors[j], 2)\n",
    "        text_buff += 40\n",
    "    \n",
    "    cv2.imshow('CT frames', canvas)\n",
    "    key = cv2.waitKey(60)\n",
    "    if key == 27:\n",
    "        break\n",
    "cv2.destroyAllWindows()"
   ]
  },
  {
   "cell_type": "markdown",
   "metadata": {},
   "source": [
    "## 2. 데이터셋 구축과 연산을 위한 텐서변환 모듈 작성하기"
   ]
  },
  {
   "cell_type": "code",
   "execution_count": 18,
   "metadata": {},
   "outputs": [],
   "source": [
    "import torch"
   ]
  },
  {
   "attachments": {
    "image.png": {
     "image/png": "[encoded data removed]"
    }
   },
   "cell_type": "markdown",
   "metadata": {},
   "source": [
    "np.expand_dims 사용법 (https://webnautes.tistory.com/1529)\n",
    "\n",
    "\n",
    "Numpy 배열의 차원을 추가하는 함수\n",
    "\n",
    "![image.png](attachment:image.png)\n"
   ]
  },
  {
   "attachments": {
    "image.png": {
     "image/png": "[encoded data removed]"
    }
   },
   "cell_type": "markdown",
   "metadata": {},
   "source": [
    "![image.png](attachment:image.png)\n",
    "\n",
    "\n",
    "np.expand_dims(background, -1) 은 2차원의 background numpy를 3차원으로 변경"
   ]
  },
  {
   "cell_type": "code",
   "execution_count": 19,
   "metadata": {},
   "outputs": [
    {
     "data": {
      "text/plain": [
       "(25, 25, 1)"
      ]
     },
     "execution_count": 19,
     "metadata": {},
     "output_type": "execute_result"
    }
   ],
   "source": [
    "background = np.ones(shape=(25, 25))\n",
    "np.expand_dims(background, -1).shape"
   ]
  },
  {
   "cell_type": "markdown",
   "metadata": {},
   "source": [
    "np.concatenate에 대한 이해  : Numpy 배열들을 하나로 합치는데 이용됨.\n",
    "\n",
    "https://m.blog.naver.com/PostView.naver?isHttpsRedirect=true&blogId=qbxlvnf11&logNo=221490583222"
   ]
  },
  {
   "cell_type": "code",
   "execution_count": 20,
   "metadata": {},
   "outputs": [
    {
     "name": "stdout",
     "output_type": "stream",
     "text": [
      "[[ 1  2]\n",
      " [ 3  4]\n",
      " [ 5  6]\n",
      " [ 7  8]\n",
      " [ 9 10]\n",
      " [11 12]]\n",
      "[[ 1  2  7  8]\n",
      " [ 3  4  9 10]\n",
      " [ 5  6 11 12]]\n",
      "[ 1  2  3  4  5  6  7  8  9 10 11 12]\n",
      "[[ 1  2  7  8]\n",
      " [ 3  4  9 10]\n",
      " [ 5  6 11 12]]\n"
     ]
    }
   ],
   "source": [
    "import numpy as np\n",
    "\n",
    "a = np.array([[1, 2], [3, 4], [5, 6]])\n",
    "b = np.array([[7, 8], [9, 10], [11, 12]])\n",
    "\n",
    "print(np.concatenate([a, b], axis=0))\n",
    "print(np.concatenate((a, b), axis=1))\n",
    "print(np.concatenate((a, b), axis=None))\n",
    "print(np.concatenate([a, b], axis= -1))"
   ]
  },
  {
   "cell_type": "code",
   "execution_count": 21,
   "metadata": {},
   "outputs": [],
   "source": [
    "# dataset 만드는 함수\n",
    "\n",
    "class CT_dataset():\n",
    "    def __init__(self, data_dir, phase, transformer=None):   # phase : train 모드인지, test 모드인지, transformer: from torchvision import transforms 적용에 대한 메소드 \n",
    "        self.phase = phase\n",
    "        self.images_dir = os.path.join(data_dir, phase, \"images\")\n",
    "        self.masks_dir = os.path.join(data_dir, phase, \"masks\")\n",
    "        self.image_files = [filename for filename in os.listdir(self.images_dir) if filename.endswith(\"jpg\")]\n",
    "        self.mask_files = [filename for filename in os.listdir(self.masks_dir) if filename.endswith(\"jpg\")]\n",
    "        assert len(self.image_files) == len(self.mask_files)  ## 둘의 데이터 크기가 다르면, AssertionError 발생\n",
    "        \n",
    "        self.transformer = transformer\n",
    "    \n",
    "    def __len__(self):\n",
    "        return len(self.image_files)\n",
    "    \n",
    "    def __getitem__(self, index):\n",
    "        image = cv2.imread(os.path.join(self.images_dir, self.image_files[index]))\n",
    "        image = cv2.resize(image, dsize=(IMAGE_SIZE,IMAGE_SIZE), interpolation=cv2.INTER_LINEAR)  ## 데이터가 512x 512 파일이므로, 보통의 U-net의 이미지 사이즈 (224 x 224)에 맞추는 코드\n",
    "                                                                                                ## 학습데이터는 선형 interpolation으로 진행함\n",
    "        mask = cv2.imread(os.path.join(self.masks_dir, self.mask_files[index]))\n",
    "        mask = cv2.resize(mask, dsize=(IMAGE_SIZE,IMAGE_SIZE), interpolation=cv2.INTER_NEAREST)## 데이터가 512x 512 파일이므로, 보통의 U-net의 이미지 사이즈 (224 x 224)에 맞추는 코드\n",
    "                                                                                                ## 마스킹 데이터는 경계구분이 분명해야하므로 cv2.INTER_NEAREST로 interpolation 진행\n",
    "        mask[mask < 240] = 0\n",
    "        mask[mask >= 240] = 255\n",
    "        mask = mask / 255\n",
    "        \n",
    "        mask_H, mask_W, mask_C = mask.shape\n",
    "        background = np.ones(shape=(mask_H, mask_W))\n",
    "        background[mask[...,0] != 0] = 0            ## 기도가 아닌 부분을 background로 설정 (값을 0으로)\n",
    "        background[mask[...,1] != 0] = 0            ## 심장이 아닌 부분을 background로 설정\n",
    "        background[mask[...,2] != 0] = 0            ## 폐가 아닌 부분을 background로 설정\n",
    "        mask = np.concatenate([np.expand_dims(background, -1), mask], axis=-1) ##  background 이미지를 mask 이미치 채널에 추가 (이제 4채널임)\n",
    "                                                                                ## background 도 학습의 대상이므로, mask 데이터에 필요\n",
    "        mask = np.argmax(mask, axis=-1) ## mask를 4채널 중에 가장 높은 값을 갖는 class로 표현함 (0: 기도, 1: 심장, 2: 폐, 3: 배경)                \n",
    "        \n",
    "        if self.transformer:\n",
    "            image = self.transformer(image)  # 이미지에 대해 tensor 변형을 적용함\n",
    "            \n",
    "        target = torch.from_numpy(mask).long() # 마스크에 대해서도 텐서로 변환한후, 픽셀 단위로 classification을 하기 위해 정수형으로 변경\n",
    "        return image, target"
   ]
  },
  {
   "cell_type": "code",
   "execution_count": 22,
   "metadata": {},
   "outputs": [
    {
     "data": {
      "text/plain": [
       "(512, 512, 3)"
      ]
     },
     "execution_count": 22,
     "metadata": {},
     "output_type": "execute_result"
    }
   ],
   "source": [
    "mask.shape"
   ]
  },
  {
   "cell_type": "code",
   "execution_count": 23,
   "metadata": {},
   "outputs": [],
   "source": [
    "IMAGE_SIZE = 224  ## 보통의 U-net의 이미지 사이즈 (224 x 224)"
   ]
  },
  {
   "cell_type": "markdown",
   "metadata": {},
   "source": [
    "transforms.ToTensor() 의 의미 : 0 ~ 255의 값을 0.0~1.0으로 변경\n",
    "\n",
    "Init signature: transforms.ToTensor()\n",
    "Docstring:     \n",
    "Convert a ``PIL Image`` or ``numpy.ndarray`` to tensor. This transform does not support torchscript.\n",
    "\n",
    "Converts a PIL Image or numpy.ndarray (H x W x C) in the range\n",
    "[0, 255] to a torch.FloatTensor of shape (C x H x W) in the range [0.0, 1.0]\n",
    "if the PIL Image belongs to one of the modes (L, LA, P, I, F, RGB, YCbCr, RGBA, CMYK, 1)\n",
    "or if the numpy.ndarray has dtype = np.uint8"
   ]
  },
  {
   "cell_type": "code",
   "execution_count": 24,
   "metadata": {},
   "outputs": [],
   "source": [
    "from torchvision import transforms\n",
    "def build_transformer():\n",
    "    transformer = transforms.Compose([\n",
    "        transforms.ToTensor(),    \n",
    "        transforms.Normalize(mean =[0.485, 0.456, 0.406], std = [0.229, 0.224, 0.225])  ## imagenet에서의 RGB space의 평균, 표준편차를 적용\n",
    "    ])\n",
    "    return transformer"
   ]
  },
  {
   "cell_type": "markdown",
   "metadata": {},
   "source": [
    "# Collate_fn\n",
    "\n",
    "dataset이 고정된 길이가 아닐 경우, batchsize를 2 이상으로 dataloader를 호출하면 dataloader에서 batch로 바로 못묶이고 에러가 난다. 따라서 텍스트데이터와 같이 variable length data를 다루고 batchsize를 2 이상으로 주고자 하는 경우에는 collate_fn 함수를 직접 작성해 넘겨주어야 한다.\n",
    "\n",
    "사용예시 : \n",
    " dataloaders[\"train\"] = DataLoader(tr_dataset, batch_size=batch_size, shuffle=True, collate_fn=collate_fn)\n",
    "\n",
    "https://velog.io/@jiyoung/torch-collatefn%EC%97%90-arguments-%EC%B6%94%EA%B0%80%ED%95%98%EA%B8%B0"
   ]
  },
  {
   "cell_type": "code",
   "execution_count": 25,
   "metadata": {},
   "outputs": [],
   "source": [
    "def collate_fn(batch):\n",
    "    images = []\n",
    "    targets = []\n",
    "    for a, b in batch: \n",
    "        images.append(a)\n",
    "        targets.append(b)\n",
    "    images = torch.stack(images, dim=0) \n",
    "    targets = torch.stack(targets, dim=0)\n",
    "\n",
    "    return images, targets"
   ]
  },
  {
   "cell_type": "markdown",
   "metadata": {},
   "source": [
    "## torch.stack   /  torch.cat\n",
    "\n",
    " torch.cat()은 주어진 차원을 기준으로 주어진 텐서들을 붙입(concatenate)니다. \n",
    " torch.stack()은 새로운 차원으로 주어진 텐서들을 붙입니다. \n",
    " \n",
    " 따라서, (3, 4)의 크기(shape)를 갖는 2개의 텐서 A와 B를 붙이는 경우, \n",
    " \n",
    " torch.cat([A, B], dim=0)의 결과는 (6, 4)의 크기(shape)를 갖고, torch.stack([A, B], dim=0)의 결과는 (2, 3, 4)의 크기를 갖습니다. "
   ]
  },
  {
   "cell_type": "code",
   "execution_count": 26,
   "metadata": {},
   "outputs": [],
   "source": [
    "from torch.utils.data import DataLoader"
   ]
  },
  {
   "cell_type": "code",
   "execution_count": 27,
   "metadata": {},
   "outputs": [
    {
     "name": "stdout",
     "output_type": "stream",
     "text": [
      "image shape: torch.Size([3, 224, 224])\n",
      "target shape: torch.Size([224, 224])\n"
     ]
    }
   ],
   "source": [
    "data_dir = r\"C:\\Users\\com\\MEDICAL-DATASET-002\\Segmentation\"\n",
    "transformer = build_transformer()\n",
    "dset = CT_dataset(data_dir=data_dir, phase=\"train\", transformer=transformer)\n",
    "\n",
    "image, target = dset[0]\n",
    "print(f\"image shape: {image.shape}\")\n",
    "print(f\"target shape: {target.shape}\")"
   ]
  },
  {
   "cell_type": "code",
   "execution_count": 28,
   "metadata": {},
   "outputs": [],
   "source": [
    "data_dir = r\"C:\\Users\\com\\MEDICAL-DATASET-002\\Segmentation\"\n",
    "transformer = build_transformer()\n",
    "tr_dataset = CT_dataset(data_dir=data_dir, phase=\"train\", transformer=transformer)\n",
    "val_dataset = CT_dataset(data_dir=data_dir, phase=\"val\", transformer=transformer)\n",
    "tr_dataloader = DataLoader(tr_dataset, batch_size=4, shuffle=True, collate_fn=collate_fn)\n",
    "val_dataloader = DataLoader(val_dataset, batch_size=1, shuffle=False, collate_fn=collate_fn)"
   ]
  },
  {
   "cell_type": "code",
   "execution_count": 29,
   "metadata": {},
   "outputs": [],
   "source": [
    "def build_dataloader(data_dir, batch_size=4):\n",
    "    transformer = build_transformer()\n",
    "    \n",
    "    dataloaders = {}\n",
    "    train_dataset = CT_dataset(data_dir=data_dir, phase=\"train\", transformer=transformer)\n",
    "    dataloaders[\"train\"] = DataLoader(tr_dataset, batch_size=batch_size, shuffle=True, collate_fn=collate_fn)  \n",
    "    # 데이터SET끼리의 길이가 같으므로, collate_fn 없어도 결과는 동일\n",
    "\n",
    "    val_dataset = CT_dataset(data_dir=data_dir, phase=\"val\", transformer=transformer)\n",
    "    dataloaders[\"val\"] = DataLoader(val_dataset, batch_size=1, shuffle=False, collate_fn=collate_fn) \n",
    "    # 데이터SET끼리의 길이가 같으므로, collate_fn 없어도 결과는 동일\n",
    "\n",
    "    return dataloaders"
   ]
  },
  {
   "cell_type": "code",
   "execution_count": 30,
   "metadata": {},
   "outputs": [
    {
     "name": "stdout",
     "output_type": "stream",
     "text": [
      "images shape: torch.Size([4, 3, 224, 224])\n",
      "masks shape: torch.Size([4, 224, 224])\n"
     ]
    }
   ],
   "source": [
    "for index, batch in enumerate(tr_dataloader):\n",
    "    images = batch[0]\n",
    "    targets = batch[1]\n",
    "    print(f\"images shape: {images.shape}\")\n",
    "    print(f\"masks shape: {targets.shape}\")\n",
    "    if index == 0:\n",
    "        break"
   ]
  },
  {
   "cell_type": "markdown",
   "metadata": {},
   "source": [
    "## 3. U-Net 데이터 아키텍처 구현해보기"
   ]
  },
  {
   "attachments": {
    "unet-architecture.png": {
     "image/png": "[encoded data removed]"
    }
   },
   "cell_type": "markdown",
   "metadata": {},
   "source": [
    "![unet-architecture.png](attachment:unet-architecture.png)\n",
    "그림 출처: https://towardsdatascience.com/unet-line-by-line-explanation-9b191c76baf5"
   ]
  },
  {
   "cell_type": "code",
   "execution_count": 31,
   "metadata": {},
   "outputs": [],
   "source": [
    "import torch\n",
    "import torch.nn as nn"
   ]
  },
  {
   "cell_type": "code",
   "execution_count": 32,
   "metadata": {},
   "outputs": [],
   "source": [
    "def ConvLayer(in_channels, out_channels):\n",
    "    layers = nn.Sequential(\n",
    "        nn.Conv2d(in_channels, out_channels, kernel_size=3, padding=1),\n",
    "        nn.BatchNorm2d(out_channels),\n",
    "        nn.ReLU(inplace=True),  ## inplace 하면 input으로 들어온 것 자체를 수정하겠다는 뜻. \n",
    "                                 ## 메모리 usage가 좀 좋아짐. 하지만 input을 없앰.\n",
    "        \n",
    "        nn.Conv2d(out_channels, out_channels, kernel_size=3, padding=1),\n",
    "        nn.BatchNorm2d(out_channels),\n",
    "        nn.ReLU(inplace=True),\n",
    "    )\n",
    "    return layers"
   ]
  },
  {
   "cell_type": "code",
   "execution_count": 33,
   "metadata": {},
   "outputs": [],
   "source": [
    "class Encoder(nn.Module):\n",
    "    def __init__(self):\n",
    "        super().__init__()\n",
    "        self.conv_block1 = ConvLayer(in_channels=3, out_channels=64)\n",
    "        self.conv_block2 = ConvLayer(in_channels=64, out_channels=128)\n",
    "        self.conv_block3 = ConvLayer(in_channels=128, out_channels=256)\n",
    "        self.conv_block4 = ConvLayer(in_channels=256, out_channels=512)\n",
    "        self.conv_block5 = ConvLayer(in_channels=512, out_channels=1024)\n",
    "        self.pool = nn.MaxPool2d(kernel_size=2)\n",
    "        \n",
    "    def forward(self, x):\n",
    "        encode_features = []        ## SKIP CONNECTION에 쓰일 FEATURE들을 저장해놓을 리스트\n",
    "        out = self.conv_block1(x)\n",
    "        encode_features.append(out)\n",
    "        out = self.pool(out)\n",
    "        \n",
    "        out = self.conv_block2(out)\n",
    "        encode_features.append(out)\n",
    "        out = self.pool(out)\n",
    "        \n",
    "        out = self.conv_block3(out)\n",
    "        encode_features.append(out)\n",
    "        out = self.pool(out)\n",
    "        \n",
    "        out = self.conv_block4(out)\n",
    "        encode_features.append(out)\n",
    "        out = self.pool(out)\n",
    "        \n",
    "        out = self.conv_block5(out)\n",
    "        return out, encode_features"
   ]
  },
  {
   "cell_type": "code",
   "execution_count": 34,
   "metadata": {},
   "outputs": [
    {
     "data": {
      "text/plain": [
       "(tensor([[[[4.7999e-01, 7.4357e-01, 4.2502e-02,  ..., 1.5479e-01,\n",
       "            5.9154e-01, 5.6142e-01],\n",
       "           [9.6679e-04, 3.9478e-02, 0.0000e+00,  ..., 0.0000e+00,\n",
       "            0.0000e+00, 0.0000e+00],\n",
       "           [0.0000e+00, 2.3865e+00, 9.0440e-01,  ..., 1.0496e+00,\n",
       "            6.5358e-01, 0.0000e+00],\n",
       "           ...,\n",
       "           [0.0000e+00, 0.0000e+00, 5.8506e-01,  ..., 1.5407e+00,\n",
       "            1.0176e+00, 0.0000e+00],\n",
       "           [0.0000e+00, 0.0000e+00, 1.4151e+00,  ..., 1.2461e+00,\n",
       "            0.0000e+00, 2.6039e-01],\n",
       "           [0.0000e+00, 0.0000e+00, 0.0000e+00,  ..., 9.4807e-02,\n",
       "            0.0000e+00, 0.0000e+00]],\n",
       " \n",
       "          [[0.0000e+00, 5.9433e-01, 0.0000e+00,  ..., 0.0000e+00,\n",
       "            0.0000e+00, 2.5717e-01],\n",
       "           [0.0000e+00, 1.1394e+00, 7.8383e-01,  ..., 1.1720e+00,\n",
       "            0.0000e+00, 1.6817e+00],\n",
       "           [3.2914e-01, 0.0000e+00, 0.0000e+00,  ..., 1.1027e-01,\n",
       "            0.0000e+00, 3.6251e-01],\n",
       "           ...,\n",
       "           [8.0907e-02, 1.9424e+00, 0.0000e+00,  ..., 8.8380e-02,\n",
       "            0.0000e+00, 6.3397e-01],\n",
       "           [0.0000e+00, 0.0000e+00, 0.0000e+00,  ..., 0.0000e+00,\n",
       "            0.0000e+00, 6.4789e-01],\n",
       "           [0.0000e+00, 5.0693e-01, 0.0000e+00,  ..., 9.3237e-01,\n",
       "            0.0000e+00, 0.0000e+00]],\n",
       " \n",
       "          [[0.0000e+00, 1.4753e-02, 0.0000e+00,  ..., 4.6886e-01,\n",
       "            0.0000e+00, 0.0000e+00],\n",
       "           [1.0829e+00, 0.0000e+00, 2.6707e+00,  ..., 1.7283e-02,\n",
       "            0.0000e+00, 6.5823e-01],\n",
       "           [1.2149e+00, 4.0958e-01, 5.2325e-01,  ..., 1.0621e-01,\n",
       "            2.9190e-01, 5.4820e-01],\n",
       "           ...,\n",
       "           [8.9660e-01, 0.0000e+00, 2.2633e-01,  ..., 1.8511e+00,\n",
       "            3.3120e-01, 5.4369e-01],\n",
       "           [1.1133e+00, 0.0000e+00, 0.0000e+00,  ..., 0.0000e+00,\n",
       "            0.0000e+00, 0.0000e+00],\n",
       "           [3.3804e-01, 0.0000e+00, 1.3101e-01,  ..., 0.0000e+00,\n",
       "            0.0000e+00, 0.0000e+00]],\n",
       " \n",
       "          ...,\n",
       " \n",
       "          [[0.0000e+00, 0.0000e+00, 0.0000e+00,  ..., 0.0000e+00,\n",
       "            0.0000e+00, 0.0000e+00],\n",
       "           [0.0000e+00, 0.0000e+00, 0.0000e+00,  ..., 0.0000e+00,\n",
       "            1.6369e+00, 0.0000e+00],\n",
       "           [0.0000e+00, 0.0000e+00, 0.0000e+00,  ..., 3.0589e-02,\n",
       "            0.0000e+00, 0.0000e+00],\n",
       "           ...,\n",
       "           [0.0000e+00, 2.2986e-01, 3.0954e-01,  ..., 1.3704e-02,\n",
       "            1.6176e+00, 2.7234e-01],\n",
       "           [0.0000e+00, 0.0000e+00, 6.7724e-01,  ..., 0.0000e+00,\n",
       "            1.3264e+00, 4.2008e-01],\n",
       "           [0.0000e+00, 0.0000e+00, 0.0000e+00,  ..., 0.0000e+00,\n",
       "            0.0000e+00, 0.0000e+00]],\n",
       " \n",
       "          [[0.0000e+00, 1.3661e+00, 1.1218e+00,  ..., 0.0000e+00,\n",
       "            0.0000e+00, 2.0298e-01],\n",
       "           [0.0000e+00, 3.5695e-01, 6.7393e-01,  ..., 2.4075e+00,\n",
       "            2.1916e+00, 1.8187e+00],\n",
       "           [0.0000e+00, 2.6820e+00, 6.9752e-01,  ..., 0.0000e+00,\n",
       "            1.3807e-01, 6.2347e-02],\n",
       "           ...,\n",
       "           [0.0000e+00, 7.0993e-01, 0.0000e+00,  ..., 9.7183e-01,\n",
       "            9.2105e-01, 1.1008e+00],\n",
       "           [0.0000e+00, 1.3245e+00, 0.0000e+00,  ..., 0.0000e+00,\n",
       "            0.0000e+00, 0.0000e+00],\n",
       "           [1.0668e-01, 3.4016e-01, 0.0000e+00,  ..., 0.0000e+00,\n",
       "            5.0714e-01, 0.0000e+00]],\n",
       " \n",
       "          [[7.1259e-01, 0.0000e+00, 1.4461e+00,  ..., 9.1199e-02,\n",
       "            0.0000e+00, 1.5742e-01],\n",
       "           [1.9557e+00, 4.4985e-02, 6.5190e-02,  ..., 8.3237e-01,\n",
       "            0.0000e+00, 0.0000e+00],\n",
       "           [1.2876e+00, 0.0000e+00, 8.4132e-01,  ..., 0.0000e+00,\n",
       "            0.0000e+00, 0.0000e+00],\n",
       "           ...,\n",
       "           [2.2832e+00, 4.7824e-01, 0.0000e+00,  ..., 1.3856e-01,\n",
       "            0.0000e+00, 5.8173e-01],\n",
       "           [1.5473e+00, 0.0000e+00, 0.0000e+00,  ..., 8.8031e-01,\n",
       "            0.0000e+00, 0.0000e+00],\n",
       "           [1.7820e+00, 3.4211e-01, 1.0986e+00,  ..., 1.1723e+00,\n",
       "            5.4197e-01, 2.9628e-01]]]], grad_fn=<ReluBackward0>),\n",
       " [tensor([[[[0.0000e+00, 5.9961e-01, 6.1868e-01,  ..., 8.0294e-02,\n",
       "             2.6611e-01, 0.0000e+00],\n",
       "            [1.1875e+00, 8.5079e-01, 0.0000e+00,  ..., 0.0000e+00,\n",
       "             4.0636e-01, 9.9674e-02],\n",
       "            [0.0000e+00, 2.0548e-01, 4.0781e-01,  ..., 0.0000e+00,\n",
       "             0.0000e+00, 0.0000e+00],\n",
       "            ...,\n",
       "            [0.0000e+00, 0.0000e+00, 2.1407e-01,  ..., 1.0424e+00,\n",
       "             9.1695e-01, 0.0000e+00],\n",
       "            [9.5624e-02, 0.0000e+00, 0.0000e+00,  ..., 0.0000e+00,\n",
       "             0.0000e+00, 0.0000e+00],\n",
       "            [0.0000e+00, 6.5777e-01, 7.0089e-01,  ..., 0.0000e+00,\n",
       "             0.0000e+00, 4.3963e-01]],\n",
       "  \n",
       "           [[1.1016e+00, 8.8732e-02, 1.4810e+00,  ..., 1.1062e+00,\n",
       "             4.4435e-01, 7.3229e-01],\n",
       "            [8.1021e-01, 1.0140e+00, 1.1934e-01,  ..., 8.3779e-01,\n",
       "             1.6903e+00, 6.2115e-01],\n",
       "            [1.0010e+00, 1.5593e+00, 0.0000e+00,  ..., 0.0000e+00,\n",
       "             1.3221e+00, 0.0000e+00],\n",
       "            ...,\n",
       "            [8.9277e-01, 0.0000e+00, 0.0000e+00,  ..., 0.0000e+00,\n",
       "             0.0000e+00, 0.0000e+00],\n",
       "            [1.1191e+00, 4.7310e-02, 1.0833e-01,  ..., 4.6309e-01,\n",
       "             0.0000e+00, 0.0000e+00],\n",
       "            [1.2478e+00, 1.0291e+00, 3.8515e-01,  ..., 9.6506e-01,\n",
       "             8.8357e-01, 2.6542e-01]],\n",
       "  \n",
       "           [[2.0621e-01, 0.0000e+00, 4.7185e-01,  ..., 0.0000e+00,\n",
       "             4.5277e-01, 1.1646e+00],\n",
       "            [2.2960e-01, 2.2711e-01, 2.0781e-01,  ..., 2.1905e-01,\n",
       "             0.0000e+00, 1.2131e+00],\n",
       "            [0.0000e+00, 2.0381e-01, 0.0000e+00,  ..., 8.4155e-01,\n",
       "             0.0000e+00, 0.0000e+00],\n",
       "            ...,\n",
       "            [3.7634e-01, 0.0000e+00, 0.0000e+00,  ..., 0.0000e+00,\n",
       "             0.0000e+00, 0.0000e+00],\n",
       "            [4.6032e-01, 1.4210e+00, 4.7769e-01,  ..., 7.6963e-01,\n",
       "             0.0000e+00, 1.1576e-01],\n",
       "            [0.0000e+00, 9.6087e-01, 3.8943e-01,  ..., 1.6231e+00,\n",
       "             7.6543e-01, 4.7600e-01]],\n",
       "  \n",
       "           ...,\n",
       "  \n",
       "           [[3.1320e-01, 1.0765e+00, 0.0000e+00,  ..., 1.0268e+00,\n",
       "             8.4951e-01, 2.4629e-01],\n",
       "            [1.2999e+00, 8.1801e-01, 0.0000e+00,  ..., 1.4859e-03,\n",
       "             8.8349e-02, 0.0000e+00],\n",
       "            [0.0000e+00, 6.2527e-01, 3.8706e-01,  ..., 3.2048e-01,\n",
       "             7.9092e-02, 0.0000e+00],\n",
       "            ...,\n",
       "            [0.0000e+00, 2.2627e-01, 8.2371e-01,  ..., 8.5186e-01,\n",
       "             0.0000e+00, 8.9222e-01],\n",
       "            [5.7873e-01, 0.0000e+00, 1.8633e-01,  ..., 0.0000e+00,\n",
       "             0.0000e+00, 0.0000e+00],\n",
       "            [2.9908e-01, 0.0000e+00, 0.0000e+00,  ..., 0.0000e+00,\n",
       "             0.0000e+00, 7.2914e-02]],\n",
       "  \n",
       "           [[4.1310e-02, 3.7365e-02, 8.6356e-01,  ..., 0.0000e+00,\n",
       "             6.5186e-01, 7.4396e-01],\n",
       "            [9.1161e-01, 1.4607e+00, 0.0000e+00,  ..., 8.3657e-01,\n",
       "             0.0000e+00, 3.7784e-01],\n",
       "            [2.2447e-01, 4.6799e-01, 1.6748e+00,  ..., 1.3972e+00,\n",
       "             0.0000e+00, 0.0000e+00],\n",
       "            ...,\n",
       "            [7.6199e-01, 0.0000e+00, 5.9581e-01,  ..., 0.0000e+00,\n",
       "             0.0000e+00, 1.4660e+00],\n",
       "            [9.8405e-01, 9.4533e-01, 9.9188e-01,  ..., 1.5300e+00,\n",
       "             0.0000e+00, 7.4712e-01],\n",
       "            [0.0000e+00, 0.0000e+00, 1.0246e+00,  ..., 9.1816e-01,\n",
       "             0.0000e+00, 1.2857e+00]],\n",
       "  \n",
       "           [[5.0430e-01, 8.4167e-01, 3.3809e-01,  ..., 1.8715e-01,\n",
       "             0.0000e+00, 5.0190e-02],\n",
       "            [1.2001e+00, 1.1617e+00, 0.0000e+00,  ..., 0.0000e+00,\n",
       "             0.0000e+00, 1.9848e+00],\n",
       "            [4.5994e-01, 5.4292e-01, 0.0000e+00,  ..., 0.0000e+00,\n",
       "             0.0000e+00, 0.0000e+00],\n",
       "            ...,\n",
       "            [1.0107e+00, 0.0000e+00, 1.8001e+00,  ..., 6.0406e-01,\n",
       "             0.0000e+00, 1.6590e+00],\n",
       "            [9.1747e-01, 1.0794e+00, 8.0622e-01,  ..., 3.4715e-01,\n",
       "             2.2603e-01, 1.0430e+00],\n",
       "            [9.9481e-01, 0.0000e+00, 5.3130e-01,  ..., 2.1940e+00,\n",
       "             1.5782e-01, 1.5559e+00]]]], grad_fn=<ReluBackward0>),\n",
       "  tensor([[[[0.0000, 0.8331, 1.1931,  ..., 1.3674, 0.0000, 0.8663],\n",
       "            [0.0615, 0.0770, 0.0000,  ..., 0.0000, 0.2063, 0.2388],\n",
       "            [1.3925, 0.7329, 1.0211,  ..., 0.3088, 0.8995, 0.6008],\n",
       "            ...,\n",
       "            [0.0000, 1.2230, 0.0000,  ..., 0.6859, 0.6994, 1.2726],\n",
       "            [0.7971, 0.0000, 0.0000,  ..., 0.4933, 0.4360, 1.2849],\n",
       "            [0.7906, 0.1394, 1.4488,  ..., 0.0000, 0.0000, 0.4599]],\n",
       "  \n",
       "           [[0.7375, 0.0000, 0.0000,  ..., 0.3295, 0.0000, 0.0000],\n",
       "            [0.8666, 0.0000, 0.3887,  ..., 0.0000, 0.0000, 0.0000],\n",
       "            [0.7373, 1.3792, 1.1042,  ..., 0.0000, 0.5889, 0.0000],\n",
       "            ...,\n",
       "            [1.1979, 0.0000, 0.0000,  ..., 0.8714, 0.0000, 0.6092],\n",
       "            [0.5796, 0.1812, 0.0000,  ..., 1.9532, 0.3493, 0.4323],\n",
       "            [0.0000, 1.0646, 0.4786,  ..., 0.0000, 0.0000, 0.0000]],\n",
       "  \n",
       "           [[0.3587, 0.0000, 0.4846,  ..., 0.3595, 1.3455, 1.0932],\n",
       "            [0.0000, 0.0000, 0.8175,  ..., 0.0000, 0.5803, 1.0735],\n",
       "            [0.4676, 0.8004, 0.5493,  ..., 0.2630, 0.0000, 0.0000],\n",
       "            ...,\n",
       "            [0.5297, 0.0000, 0.0000,  ..., 0.0000, 2.6650, 0.2004],\n",
       "            [0.3479, 2.6466, 0.0000,  ..., 0.3718, 0.5766, 0.0000],\n",
       "            [1.5114, 0.7024, 1.2317,  ..., 0.8336, 1.2967, 0.4135]],\n",
       "  \n",
       "           ...,\n",
       "  \n",
       "           [[0.0000, 0.0000, 0.0000,  ..., 0.0000, 0.0000, 0.0000],\n",
       "            [0.0000, 0.3399, 0.3523,  ..., 0.0000, 0.0000, 0.0000],\n",
       "            [0.3703, 0.9448, 0.0000,  ..., 0.0000, 0.8492, 0.0000],\n",
       "            ...,\n",
       "            [0.0391, 0.0000, 0.0000,  ..., 0.3792, 0.0000, 0.0000],\n",
       "            [0.0000, 0.9899, 0.0722,  ..., 0.3641, 0.0000, 0.0000],\n",
       "            [0.0000, 0.1710, 0.0000,  ..., 0.3768, 0.0000, 0.0000]],\n",
       "  \n",
       "           [[0.1148, 0.0000, 0.0000,  ..., 0.9395, 1.4378, 1.6170],\n",
       "            [0.2154, 1.6323, 0.9489,  ..., 0.0000, 0.8909, 2.1628],\n",
       "            [0.0000, 0.0000, 1.4140,  ..., 1.0020, 0.0000, 1.8711],\n",
       "            ...,\n",
       "            [0.0000, 0.8228, 0.0000,  ..., 0.0000, 1.3352, 2.2800],\n",
       "            [0.0000, 0.6511, 0.0000,  ..., 1.1138, 0.8905, 0.7829],\n",
       "            [0.3821, 2.1940, 2.2810,  ..., 1.8106, 0.5955, 1.5246]],\n",
       "  \n",
       "           [[0.3401, 1.2436, 0.0000,  ..., 0.5280, 0.6837, 0.0000],\n",
       "            [0.2550, 0.0000, 0.0000,  ..., 0.0000, 0.0000, 0.0000],\n",
       "            [0.0000, 0.0000, 0.2602,  ..., 0.0000, 0.7958, 0.0000],\n",
       "            ...,\n",
       "            [0.8803, 0.7140, 0.0000,  ..., 0.0000, 1.2653, 0.0000],\n",
       "            [0.4228, 1.1480, 0.0000,  ..., 0.0000, 1.3150, 0.0000],\n",
       "            [0.0000, 0.1503, 0.0000,  ..., 0.0000, 0.0000, 0.0000]]]],\n",
       "         grad_fn=<ReluBackward0>),\n",
       "  tensor([[[[0.0000, 0.0000, 0.7129,  ..., 0.0000, 0.4826, 0.0000],\n",
       "            [0.0738, 0.0000, 0.0000,  ..., 0.0000, 0.0000, 0.0000],\n",
       "            [0.0000, 0.7600, 0.0000,  ..., 0.0000, 0.0000, 0.0000],\n",
       "            ...,\n",
       "            [0.4828, 0.7074, 0.0000,  ..., 0.0691, 0.0000, 0.0000],\n",
       "            [0.0000, 0.0000, 0.7786,  ..., 0.0000, 0.0000, 0.0000],\n",
       "            [0.0000, 0.2134, 0.0000,  ..., 0.0000, 0.0000, 0.0000]],\n",
       "  \n",
       "           [[0.0000, 0.0000, 1.1343,  ..., 0.8424, 0.4224, 0.0000],\n",
       "            [0.0000, 1.0462, 0.0000,  ..., 0.3643, 0.0000, 0.0000],\n",
       "            [0.0666, 0.8106, 0.0000,  ..., 1.1036, 0.5855, 0.0000],\n",
       "            ...,\n",
       "            [0.0000, 1.4052, 0.8829,  ..., 0.0000, 1.6192, 0.0000],\n",
       "            [1.9485, 0.9442, 1.8357,  ..., 1.2066, 2.3534, 1.2511],\n",
       "            [0.0000, 0.0000, 0.0000,  ..., 0.0000, 0.2939, 0.0000]],\n",
       "  \n",
       "           [[0.0000, 0.0000, 0.0000,  ..., 0.1339, 0.0000, 0.0000],\n",
       "            [0.7471, 0.0000, 1.1528,  ..., 1.5332, 0.3185, 0.0982],\n",
       "            [0.9785, 0.0000, 0.8834,  ..., 0.0000, 0.0000, 0.0000],\n",
       "            ...,\n",
       "            [0.9383, 0.3019, 0.0000,  ..., 0.6329, 0.0000, 0.0000],\n",
       "            [0.0000, 0.2196, 0.0000,  ..., 0.0000, 0.0000, 0.0000],\n",
       "            [0.9872, 1.0230, 0.0266,  ..., 0.2553, 0.2343, 0.0000]],\n",
       "  \n",
       "           ...,\n",
       "  \n",
       "           [[0.0000, 0.0000, 0.5243,  ..., 0.0000, 0.0000, 0.0000],\n",
       "            [0.7812, 0.3053, 0.6640,  ..., 0.0000, 0.0000, 0.0000],\n",
       "            [0.8545, 0.1421, 0.0000,  ..., 0.9231, 0.0000, 0.0000],\n",
       "            ...,\n",
       "            [1.7434, 0.6770, 0.6194,  ..., 0.0899, 0.0000, 0.0000],\n",
       "            [0.8592, 1.8103, 1.5521,  ..., 1.1053, 0.0000, 0.5365],\n",
       "            [0.0000, 0.0000, 0.0743,  ..., 0.0000, 0.0000, 0.0000]],\n",
       "  \n",
       "           [[0.0000, 0.2517, 0.4682,  ..., 0.5262, 0.6681, 0.0000],\n",
       "            [0.1060, 0.0000, 0.0000,  ..., 0.1045, 1.6052, 0.0000],\n",
       "            [0.0000, 0.0000, 0.8297,  ..., 0.0000, 0.1850, 0.0000],\n",
       "            ...,\n",
       "            [0.0000, 0.0000, 0.0000,  ..., 0.0000, 0.3349, 0.0000],\n",
       "            [0.0000, 0.0000, 0.0000,  ..., 0.0000, 0.6488, 0.0000],\n",
       "            [0.0000, 0.0118, 0.0000,  ..., 0.0000, 0.0000, 0.0000]],\n",
       "  \n",
       "           [[1.4428, 0.9983, 1.4333,  ..., 1.2687, 0.7752, 0.7930],\n",
       "            [0.3108, 0.0000, 0.0000,  ..., 1.2580, 1.2847, 0.5213],\n",
       "            [0.4675, 0.3436, 0.2347,  ..., 0.0000, 0.3737, 0.3914],\n",
       "            ...,\n",
       "            [0.5415, 0.7765, 0.0000,  ..., 0.0000, 0.0000, 0.2315],\n",
       "            [1.1743, 0.0000, 0.5652,  ..., 0.0000, 1.2569, 1.0528],\n",
       "            [0.7501, 0.0000, 0.0000,  ..., 0.0000, 0.0000, 1.0005]]]],\n",
       "         grad_fn=<ReluBackward0>),\n",
       "  tensor([[[[0.0000, 0.0000, 0.0000,  ..., 0.0000, 0.0000, 1.4677],\n",
       "            [0.0000, 0.0000, 0.0000,  ..., 0.0000, 0.0000, 1.0009],\n",
       "            [0.0000, 0.7089, 0.0492,  ..., 0.0000, 0.0000, 0.3092],\n",
       "            ...,\n",
       "            [0.2395, 0.3517, 0.0000,  ..., 0.4744, 0.0469, 2.1010],\n",
       "            [0.6503, 0.1111, 1.6404,  ..., 0.0995, 0.0000, 1.6539],\n",
       "            [0.0000, 0.0000, 0.0000,  ..., 0.0000, 0.0000, 0.5942]],\n",
       "  \n",
       "           [[0.0000, 0.0000, 0.0000,  ..., 0.6513, 0.2731, 0.9275],\n",
       "            [0.8095, 0.4784, 0.0000,  ..., 0.4340, 0.0000, 0.2812],\n",
       "            [1.4422, 1.3886, 0.5506,  ..., 0.0000, 0.5172, 0.0000],\n",
       "            ...,\n",
       "            [1.1248, 1.3662, 0.3228,  ..., 0.0000, 0.0000, 0.0000],\n",
       "            [0.0000, 0.2279, 0.0000,  ..., 0.3270, 0.0000, 0.0000],\n",
       "            [0.4610, 0.0000, 1.9609,  ..., 1.8448, 1.8280, 0.7273]],\n",
       "  \n",
       "           [[0.0000, 0.3769, 0.1103,  ..., 0.0000, 0.0000, 0.0000],\n",
       "            [0.0000, 0.4304, 0.0000,  ..., 1.2031, 0.0000, 0.0000],\n",
       "            [0.0000, 0.1715, 0.0000,  ..., 0.0000, 0.3828, 0.3523],\n",
       "            ...,\n",
       "            [0.0000, 0.5828, 1.5845,  ..., 0.0000, 0.0000, 0.0000],\n",
       "            [0.0000, 0.0988, 0.0000,  ..., 0.5443, 0.0000, 0.1706],\n",
       "            [0.0000, 1.6703, 0.0308,  ..., 0.3597, 0.0000, 0.2045]],\n",
       "  \n",
       "           ...,\n",
       "  \n",
       "           [[0.0000, 1.8830, 0.0000,  ..., 0.0000, 0.0000, 0.5520],\n",
       "            [0.2401, 0.0000, 0.0000,  ..., 0.0000, 0.0000, 0.0000],\n",
       "            [0.0000, 0.0000, 1.0149,  ..., 0.1281, 0.0000, 0.3568],\n",
       "            ...,\n",
       "            [0.3292, 1.6834, 0.0000,  ..., 0.8029, 0.4615, 0.0000],\n",
       "            [0.5036, 0.7780, 0.6296,  ..., 0.0000, 0.5292, 1.8219],\n",
       "            [0.0000, 0.0000, 0.0000,  ..., 0.5852, 0.0000, 0.3435]],\n",
       "  \n",
       "           [[0.0000, 0.0922, 0.0000,  ..., 0.2610, 0.0000, 0.0858],\n",
       "            [1.1266, 1.8788, 0.8581,  ..., 0.0000, 0.6473, 1.1291],\n",
       "            [1.1863, 0.9765, 0.6073,  ..., 1.2597, 0.0000, 0.9609],\n",
       "            ...,\n",
       "            [0.0000, 0.0000, 2.1328,  ..., 0.0000, 0.0884, 0.4313],\n",
       "            [0.0000, 0.0000, 0.0000,  ..., 0.0000, 0.0000, 0.3813],\n",
       "            [0.0000, 0.0000, 0.0000,  ..., 0.0000, 0.0000, 0.0000]],\n",
       "  \n",
       "           [[0.3563, 0.0000, 0.0000,  ..., 0.0000, 0.5126, 0.0000],\n",
       "            [1.3203, 0.0000, 0.0000,  ..., 0.0000, 0.0225, 0.0000],\n",
       "            [1.3972, 1.5171, 1.2480,  ..., 0.7561, 0.0000, 0.6505],\n",
       "            ...,\n",
       "            [0.0000, 0.0000, 0.0000,  ..., 0.0000, 0.0000, 0.6596],\n",
       "            [0.9835, 0.0000, 0.0000,  ..., 0.0000, 0.0000, 0.3505],\n",
       "            [0.0000, 0.8821, 1.4525,  ..., 0.6256, 1.4556, 0.0000]]]],\n",
       "         grad_fn=<ReluBackward0>)])"
      ]
     },
     "execution_count": 34,
     "metadata": {},
     "output_type": "execute_result"
    }
   ],
   "source": [
    "# 테스트 겸 ENCODER 모델 실행해보기\n",
    "encoder = Encoder()\n",
    "x = torch.randn(1, 3, 224, 224)   ## X에 224 X 224 사이즈로 아무 데이터 넣어서 실행해보기\n",
    "out, ftrs = encoder(x)\n",
    "out, ftrs"
   ]
  },
  {
   "cell_type": "code",
   "execution_count": 35,
   "metadata": {},
   "outputs": [
    {
     "name": "stdout",
     "output_type": "stream",
     "text": [
      "torch.Size([1, 64, 224, 224])\n",
      "torch.Size([1, 128, 112, 112])\n",
      "torch.Size([1, 256, 56, 56])\n",
      "torch.Size([1, 512, 28, 28])\n",
      "torch.Size([1, 1024, 14, 14])\n"
     ]
    }
   ],
   "source": [
    "for ftr in ftrs:\n",
    "    print(ftr.shape)\n",
    "print(out.shape)"
   ]
  },
  {
   "cell_type": "code",
   "execution_count": 36,
   "metadata": {},
   "outputs": [],
   "source": [
    "def UpConvLayer(in_channels, out_channels):\n",
    "    layers = nn.Sequential(\n",
    "        nn.ConvTranspose2d(in_channels, out_channels, kernel_size=2, stride=2),\n",
    "        nn.BatchNorm2d(out_channels),\n",
    "        nn.ReLU(inplace=True)\n",
    "    )\n",
    "    return layers"
   ]
  },
  {
   "cell_type": "code",
   "execution_count": 37,
   "metadata": {},
   "outputs": [],
   "source": [
    "class Decoder(nn.Module):\n",
    "    def __init__(self):\n",
    "        super().__init__()\n",
    "        self.upconv_layer1 = UpConvLayer(in_channels=1024, out_channels=512)  ## ENCODER의 역순으로 진행\n",
    "        self.conv_block1 = ConvLayer(in_channels=512+512, out_channels=512)   ## Skip connection Size + 직전 단계의 output Size\n",
    "        \n",
    "        self.upconv_layer2 = UpConvLayer(in_channels=512, out_channels=256)\n",
    "        self.conv_block2 = ConvLayer(in_channels=256+256, out_channels=256)\n",
    "        \n",
    "        self.upconv_layer3 = UpConvLayer(in_channels=256, out_channels=128)\n",
    "        self.conv_block3 = ConvLayer(in_channels=128+128, out_channels=128)\n",
    "        \n",
    "        self.upconv_layer4 = UpConvLayer(in_channels=128, out_channels=64)\n",
    "        self.conv_block4 = ConvLayer(in_channels=64+64, out_channels=64)\n",
    "        \n",
    "    def forward(self, x, encoder_features):  ##   encoder_features   :  skip connection용 feature\n",
    "        out = self.upconv_layer1(x)\n",
    "        croped_enc_feature = self._center_crop(encoder_features[-1], out.shape[2:]) # encoder_features[-1] : 가장 최근의 feature를 불러옴\n",
    "        out = torch.cat([out, croped_enc_feature], dim=1)  ## (Batch, Channel(Filter), Height, Width) dim = 1은 channel 차원에 대해 concat을 의미 \n",
    "        out = self.conv_block1(out)\n",
    "        \n",
    "        out = self.upconv_layer2(out)\n",
    "        croped_enc_feature = self._center_crop(encoder_features[-2], out.shape[2:])\n",
    "        out = torch.cat([out, croped_enc_feature], dim=1)\n",
    "        out = self.conv_block2(out)\n",
    "        \n",
    "        out = self.upconv_layer3(out)\n",
    "        croped_enc_feature = self._center_crop(encoder_features[-3], out.shape[2:])\n",
    "        out = torch.cat([out, croped_enc_feature], dim=1)\n",
    "        out = self.conv_block3(out)\n",
    "        \n",
    "        out = self.upconv_layer4(out)\n",
    "        croped_enc_feature = self._center_crop(encoder_features[-4], out.shape[2:])\n",
    "        out = torch.cat([out, croped_enc_feature], dim=1)\n",
    "        out = self.conv_block4(out)\n",
    "        return out\n",
    "        \n",
    "    def _center_crop(self, encoder_feature, decoder_feature_size):\n",
    "        croped_features = transforms.CenterCrop(size=decoder_feature_size)(encoder_feature)\n",
    "        return croped_features"
   ]
  },
  {
   "cell_type": "code",
   "execution_count": 38,
   "metadata": {},
   "outputs": [],
   "source": [
    "## UNET 테스트로 임의 입력값 집어넣기\n",
    "\n",
    "encoder = Encoder()\n",
    "decoder = Decoder()\n",
    "x = torch.randn(1, 3, 224, 224)\n",
    "out, ftrs = encoder(x)\n",
    "out = decoder(out, ftrs)"
   ]
  },
  {
   "cell_type": "code",
   "execution_count": 39,
   "metadata": {},
   "outputs": [
    {
     "name": "stdout",
     "output_type": "stream",
     "text": [
      "torch.Size([1, 64, 224, 224])\n"
     ]
    }
   ],
   "source": [
    "##  1, 3, 224, 224 사이즈 입력헀을때의 출력 사이즈는  torch.Size([1, 64, 224, 224]\n",
    "    \n",
    "print(out.shape)   "
   ]
  },
  {
   "cell_type": "code",
   "execution_count": 40,
   "metadata": {},
   "outputs": [],
   "source": [
    "import torch.nn.functional as F"
   ]
  },
  {
   "cell_type": "code",
   "execution_count": 41,
   "metadata": {},
   "outputs": [],
   "source": [
    "class UNet(nn.Module):\n",
    "    def __init__(self, num_classes, retain_input_dim=True):\n",
    "        super().__init__()\n",
    "        self.encoder = Encoder()\n",
    "        self.decoder = Decoder()\n",
    "        self.head = nn.Conv2d(64, num_classes, kernel_size=1)         ## pointwise convolution 실행  (64채널에서 4채널로 압축)\n",
    "        self.retain_input_dim = retain_input_dim\n",
    "        \n",
    "    def forward(self, x):\n",
    "        out, encode_features = self.encoder(x)\n",
    "        out = self.decoder(out, encode_features)\n",
    "        out = self.head(out)\n",
    "        if self.retain_input_dim:\n",
    "            _, _, H, W = x.shape\n",
    "            out = F.interpolate(out, size=(H,W))\n",
    "        return out"
   ]
  },
  {
   "cell_type": "code",
   "execution_count": 42,
   "metadata": {},
   "outputs": [
    {
     "name": "stdout",
     "output_type": "stream",
     "text": [
      "input shape: torch.Size([1, 3, 224, 224])\n",
      "output shape: torch.Size([1, 4, 224, 224])\n"
     ]
    }
   ],
   "source": [
    "model = UNet(num_classes=4)\n",
    "x = torch.randn(1, 3, 224, 224)\n",
    "out = model(x)\n",
    "print(f\"input shape: {x.shape}\")\n",
    "print(f\"output shape: {out.shape}\")"
   ]
  },
  {
   "cell_type": "markdown",
   "metadata": {},
   "source": [
    "## 4. Dice similarity coefficient 설명 및 구현하기"
   ]
  },
  {
   "attachments": {
    "Scheme-to-explain-how-Dice-coefficient-is-calculated-The-light-red-and-light-green.png": {
     "image/png": "[encoded data removed]"
    }
   },
   "cell_type": "markdown",
   "metadata": {},
   "source": [
    "![Scheme-to-explain-how-Dice-coefficient-is-calculated-The-light-red-and-light-green.png](attachment:Scheme-to-explain-how-Dice-coefficient-is-calculated-The-light-red-and-light-green.png)\n",
    "그림 출처: https://www.researchgate.net/figure/Scheme-to-explain-how-Dice-coefficient-is-calculated-The-light-red-and-light-green_fig4_352895635"
   ]
  },
  {
   "cell_type": "markdown",
   "metadata": {},
   "source": [
    "### Dice similarity coefficient(DSC) == F1 score? YES only if binary segmentation task!"
   ]
  },
  {
   "attachments": {
    "JCSB-07-209-g003.gif": {
     "image/gif": "[encoded data removed]"
    }
   },
   "cell_type": "markdown",
   "metadata": {},
   "source": [
    "![JCSB-07-209-g003.gif](attachment:JCSB-07-209-g003.gif)\n",
    "그림 출처: https://www.omicsonline.org/articles-images/JCSB-07-209-g003.html"
   ]
  },
  {
   "cell_type": "markdown",
   "metadata": {},
   "source": [
    "### What is Dice coefficient loss or Dice loss? Dice loss = 1 - DSC"
   ]
  },
  {
   "cell_type": "code",
   "execution_count": 43,
   "metadata": {},
   "outputs": [
    {
     "name": "stdout",
     "output_type": "stream",
     "text": [
      "torch.Size([4, 4, 224, 224])\n"
     ]
    }
   ],
   "source": [
    "for index, batch in enumerate(tr_dataloader):\n",
    "    images = batch[0]\n",
    "    targets = batch[1]\n",
    "    predictions = model(images)\n",
    "    print(predictions.shape)\n",
    "    if index == 0:\n",
    "        break"
   ]
  },
  {
   "cell_type": "code",
   "execution_count": 44,
   "metadata": {},
   "outputs": [
    {
     "name": "stdout",
     "output_type": "stream",
     "text": [
      "tensor([[[3, 0, 3,  ..., 3, 3, 1],\n",
      "         [1, 3, 1,  ..., 1, 1, 0],\n",
      "         [1, 1, 0,  ..., 1, 1, 0],\n",
      "         ...,\n",
      "         [0, 0, 0,  ..., 2, 1, 0],\n",
      "         [1, 3, 0,  ..., 0, 1, 0],\n",
      "         [0, 3, 0,  ..., 0, 1, 1]],\n",
      "\n",
      "        [[3, 0, 1,  ..., 3, 3, 1],\n",
      "         [1, 3, 1,  ..., 1, 1, 3],\n",
      "         [1, 1, 0,  ..., 1, 1, 0],\n",
      "         ...,\n",
      "         [0, 2, 0,  ..., 2, 1, 1],\n",
      "         [1, 3, 0,  ..., 0, 1, 0],\n",
      "         [0, 3, 0,  ..., 1, 1, 1]],\n",
      "\n",
      "        [[3, 0, 3,  ..., 3, 3, 1],\n",
      "         [1, 3, 1,  ..., 1, 1, 3],\n",
      "         [1, 1, 0,  ..., 1, 1, 0],\n",
      "         ...,\n",
      "         [0, 0, 0,  ..., 2, 1, 1],\n",
      "         [1, 3, 0,  ..., 0, 1, 0],\n",
      "         [0, 3, 0,  ..., 1, 1, 1]],\n",
      "\n",
      "        [[3, 0, 3,  ..., 3, 3, 1],\n",
      "         [1, 3, 1,  ..., 1, 1, 0],\n",
      "         [1, 1, 0,  ..., 1, 1, 0],\n",
      "         ...,\n",
      "         [0, 0, 0,  ..., 2, 1, 0],\n",
      "         [1, 3, 0,  ..., 0, 1, 0],\n",
      "         [0, 3, 0,  ..., 1, 1, 1]]])\n"
     ]
    }
   ],
   "source": [
    "num_classes = 4\n",
    "\n",
    "predictions_ = torch.argmax(predictions, dim=1)  ## Channel(Class)을 기준으로 가장 높은 확률을 갖는 Class로 segmentation class 지정\n",
    "print(predictions_)"
   ]
  },
  {
   "cell_type": "markdown",
   "metadata": {},
   "source": [
    "# transpose() vs permute()  vs view()\n",
    "\n",
    "https://sanghyu.tistory.com/3\n",
    "\n",
    "permute()와 transpose()는 유사한 방식으로 작동한다. transpose()는 딱 두 개의 차원을 맞교환할 수 있다. 그러나 permute()는 모든 차원들을 맞교환할 수 있다. 예를 들면,\n",
    "\n",
    "\n",
    "x = torch.rand(16, 32, 3)\n",
    "\n",
    "y = x.tranpose(0, 2)  # shape : [3, 32, 16]\n",
    "\n",
    "z = x.permute(2, 1, 0)  # shape : [3, 32, 16]\n",
    "\n",
    "\n",
    "permute()와 transpose()는 view()와 마찬가지로 tensor의 모양을 바꾸는데 사용할 수 있다. 둘은 연산자체도 차이가 난다. \n",
    "\n",
    "예시를 통해 보면 view의 경우 순서를 유지하되 다음 차원으로 넘기는 것과 다르게 permute는 transpose연산이 진행된다. \n"
   ]
  },
  {
   "cell_type": "markdown",
   "metadata": {},
   "source": [
    "a = [[1,2,3,4],\n",
    "     [1,2,3,4],\n",
    "     [1,2,3,4]]\n",
    "\n",
    "a = torch.Tensor(a) # [3, 4]\n",
    "\n",
    "b = a.view(4, 3) # [4, 3]\n",
    "\n",
    "print(\"tensor that changes dimension using view: \\n\", b)\n",
    "\n",
    "c = a.permute(1, 0) # [4, 3]\n",
    "\n",
    "print(\"tensor that changes dimension using permute: \\n\", c)\n"
   ]
  },
  {
   "cell_type": "code",
   "execution_count": 45,
   "metadata": {},
   "outputs": [],
   "source": [
    "onehot_pred = F.one_hot(predictions_, num_classes=num_classes).permute(0, 3, 1, 2)  ## 행렬의 차원 순서(모양)를 조정함\n",
    "onehot_target = F.one_hot(targets, num_classes=num_classes).permute(0, 3, 1, 2)"
   ]
  },
  {
   "cell_type": "code",
   "execution_count": 46,
   "metadata": {},
   "outputs": [
    {
     "data": {
      "text/plain": [
       "torch.Size([4, 4, 224, 224])"
      ]
     },
     "execution_count": 46,
     "metadata": {},
     "output_type": "execute_result"
    }
   ],
   "source": [
    "onehot_pred.shape"
   ]
  },
  {
   "cell_type": "code",
   "execution_count": 47,
   "metadata": {},
   "outputs": [],
   "source": [
    "onehot_pred_ = onehot_pred[0]    # 배치중 1개의 데이터에 대해 예측 및 DSC 확인\n",
    "onehot_target_ = onehot_target[0]\n",
    "\n",
    "dice_coeff = 0\n",
    "for class_index in range(1, num_classes):  ## 1부터 시작하는 이유 : 0은 배경이므로 계산을 할 필요가 없음 (1,2,3의 클래스만 계산)\n",
    "    a = onehot_pred_[class_index]\n",
    "    b = onehot_target_[class_index]\n",
    "    set_inter = torch.dot(a.reshape(-1).float(), b.reshape(-1).float())  ## 겹치는 영역의 크기를 계산 (내적 계산), 배경은 0이므로\n",
    "#     >>> torch.dot(torch.tensor([2, 3]), torch.tensor([2, 1]))   => 출력 : tensor(7)\n",
    "    set_sum = a.sum() + b.sum()\n",
    "    dice_coeff += (2 * set_inter) / (set_sum + 1e-9)  ## 1e-9는 set_sum이 0일 경우(배경만 존재할경우)를 대비하여 작은 값을 더해놓음\n",
    "dice_coeff /= (num_classes-1)   ## 클래스별로 합산된 DSC의 값을 평균 클래스의 개수로 나눔"
   ]
  },
  {
   "attachments": {
    "image.png": {
     "image/png": "[encoded data removed]"
    }
   },
   "cell_type": "markdown",
   "metadata": {},
   "source": [
    "![image.png](attachment:image.png)\n",
    "\n",
    "좌측이 prediction이고, 우측 GT라고 할떄 intersection은 빨강색 0 부분을 제외하고 1x1 + 1x1 + 1x1 + 1x1 + 1x1 + 1x1 = 6이 된다.  "
   ]
  },
  {
   "cell_type": "code",
   "execution_count": 48,
   "metadata": {},
   "outputs": [
    {
     "data": {
      "text/plain": [
       "tensor(0.0477)"
      ]
     },
     "execution_count": 48,
     "metadata": {},
     "output_type": "execute_result"
    }
   ],
   "source": [
    "dice_coeff"
   ]
  },
  {
   "cell_type": "markdown",
   "metadata": {},
   "source": [
    "## dice_loss "
   ]
  },
  {
   "cell_type": "code",
   "execution_count": 49,
   "metadata": {},
   "outputs": [],
   "source": [
    "dice_loss = 1. - dice_coeff"
   ]
  },
  {
   "cell_type": "code",
   "execution_count": 50,
   "metadata": {},
   "outputs": [],
   "source": [
    "class UNet_metric():\n",
    "    def __init__(self, num_classes):\n",
    "        self.num_classes = num_classes\n",
    "        \n",
    "    def __call__(self, pred, target):\n",
    "        onehot_pred = F.one_hot(torch.argmax(pred, dim=1), num_classes=self.num_classes).permute(0, 3, 1, 2)\n",
    "        onehot_target = F.one_hot(target, num_classes=self.num_classes).permute(0, 3, 1, 2)\n",
    "        dice_loss = self._get_dice_loss(onehot_pred, onehot_target)\n",
    "        dice_coefficient = self._get_batch_dice_coefficient(onehot_pred, onehot_target)\n",
    "        return dice_loss, dice_coefficient\n",
    "    \n",
    "    def _get_dice_coeffient(self, pred, target): # DSC 계산 함수 \n",
    "        set_inter = torch.dot(pred.reshape(-1).float(), target.reshape(-1).float())\n",
    "        set_sum = pred.sum() + target.sum()\n",
    "        if set_sum.item() == 0:      ## 배경만 존재할 경우(예측도 GT도 맞는 경우),\n",
    "            set_sum = 2 * set_inter  ## DSC 값을 1로 만듬.\n",
    "        dice_coeff = (2 * set_inter) / (set_sum + 1e-9)\n",
    "        return dice_coeff\n",
    "    \n",
    "    def _get_multiclass_dice_coefficient(self, pred, target):  ## DSC계산함수를 이용하여 CLass 별로 DSC를 계산함\n",
    "        dice = 0\n",
    "        for class_index in range(1, self.num_classes):\n",
    "            dice += self._get_dice_coeffient(pred[class_index], target[class_index])\n",
    "        return dice / (self.num_classes - 1)\n",
    "    \n",
    "    def _get_batch_dice_coefficient(self, pred, target):   # BATCH 평균의 DSC 값 계산\n",
    "        num_batch = pred.shape[0]   ## 1개 batch속에 담긴 데이터의 개수\n",
    "        dice = 0\n",
    "        for batch_index in range(num_batch):\n",
    "            dice += self._get_multiclass_dice_coefficient(pred[batch_index], target[batch_index])\n",
    "        return dice / num_batch\n",
    "    \n",
    "    def _get_dice_loss(self, pred, target):\n",
    "        return 1 - self._get_batch_dice_coefficient(pred, target)"
   ]
  },
  {
   "cell_type": "code",
   "execution_count": 51,
   "metadata": {},
   "outputs": [
    {
     "data": {
      "text/plain": [
       "(tensor(0.9595), tensor(0.0405))"
      ]
     },
     "execution_count": 51,
     "metadata": {},
     "output_type": "execute_result"
    }
   ],
   "source": [
    "criterion = UNet_metric(num_classes=4)\n",
    "criterion(predictions, targets)  # dice_loss, dice_coefficient 출력"
   ]
  },
  {
   "cell_type": "markdown",
   "metadata": {},
   "source": [
    "## 5. Loss function 구현 및 SGDM 최적화 적용하기"
   ]
  },
  {
   "cell_type": "markdown",
   "metadata": {},
   "source": [
    "위에서 배운 DSC LOSS (Dice Loss)외에 Cross Entropy의 개념까지 적용하여 \n",
    "Loss Functin을 만들어보자."
   ]
  },
  {
   "cell_type": "markdown",
   "metadata": {},
   "source": [
    "gt.shape = (4,3,3)이고\n",
    "\n",
    "pred.shape = (4,3,3)일때 \n",
    "\n",
    "\n",
    "1. nn.CrossEntropyLoss(reduction=\"mean\")\n",
    "\n",
    "    출력 : loss / (4 x3 x3)        ##   즉, 전체 파라미터 개수로 나눠줌 \n",
    "\n",
    "\n",
    "2. nn.CrossEntropyLoss(reduction=\"none\")          \n",
    "\n",
    "    loss를 원소별 loss 값 그대로 출력 \n",
    "\n",
    "    출력 : loss  (loss.shape = (4,3,3))\n",
    "\n",
    "3. nn.CrossEntropyLoss(reduction=\"sum\")\n",
    "\n",
    "    loss를 원소별 loss 모두 합산하여 출력\n",
    "    \n",
    "    출력 : loss ( loss.shape = (batch_size, ) )\n",
    "    \n",
    "    따라서 이럴 경우에는 loss / batch_size로 나누어서 loss값 활용"
   ]
  },
  {
   "cell_type": "code",
   "execution_count": 52,
   "metadata": {},
   "outputs": [],
   "source": [
    "class UNet_metric():\n",
    "    def __init__(self, num_classes):\n",
    "        self.num_classes = num_classes\n",
    "        self.CE_loss = nn.CrossEntropyLoss(reduction=\"mean\")\n",
    "        \n",
    "    def __call__(self, pred, target):\n",
    "        loss1 = self.CE_loss(pred, target)  ## 출력 값과 타겟 값의 차이를 수치적으로 비교 (크로스 엔트로피)  , ONE HOT VECTOR 기능 내포됨\n",
    "        onehot_pred = F.one_hot(torch.argmax(pred, dim=1), num_classes=self.num_classes).permute(0, 3, 1, 2)\n",
    "        onehot_target = F.one_hot(target, num_classes=self.num_classes).permute(0, 3, 1, 2)\n",
    "        loss2 = self._get_dice_loss(onehot_pred, onehot_target)  ## 예측한 클래스와 정답 클래스를 DSC로 비교 (DICE LOSS)\n",
    "        \n",
    "        loss = loss1 + loss2          ## 크로스 엔트로피와 DICE LOSS를 합산하여 LOSS로 취급\n",
    "        \n",
    "        dice_coefficient = self._get_batch_dice_coefficient(onehot_pred, onehot_target)\n",
    "        return loss, dice_coefficient\n",
    "    \n",
    "    def _get_dice_coeffient(self, pred, target):\n",
    "        set_inter = torch.dot(pred.reshape(-1).float(), target.reshape(-1).float())\n",
    "        set_sum = pred.sum() + target.sum()\n",
    "        if set_sum.item() == 0:\n",
    "            set_sum = 2 * set_inter\n",
    "        dice_coeff = (2 * set_inter) / (set_sum + 1e-9)\n",
    "        return dice_coeff\n",
    "    \n",
    "    def _get_multiclass_dice_coefficient(self, pred, target):\n",
    "        dice = 0\n",
    "        for class_index in range(1, self.num_classes):\n",
    "            dice += self._get_dice_coeffient(pred[class_index], target[class_index])\n",
    "        return dice / (self.num_classes - 1)\n",
    "    \n",
    "    def _get_batch_dice_coefficient(self, pred, target):\n",
    "        num_batch = pred.shape[0]\n",
    "        dice = 0\n",
    "        for batch_index in range(num_batch):\n",
    "            dice += self._get_multiclass_dice_coefficient(pred[batch_index], target[batch_index])\n",
    "        return dice / num_batch\n",
    "    \n",
    "    def _get_dice_loss(self, pred, target):\n",
    "        return 1 - self._get_batch_dice_coefficient(pred, target)"
   ]
  },
  {
   "cell_type": "code",
   "execution_count": 54,
   "metadata": {},
   "outputs": [
    {
     "data": {
      "text/plain": [
       "(tensor(2.3959, grad_fn=<AddBackward0>), tensor(0.0405))"
      ]
     },
     "execution_count": 54,
     "metadata": {},
     "output_type": "execute_result"
    }
   ],
   "source": [
    "criterion = UNet_metric(num_classes=4)\n",
    "criterion(predictions, targets)"
   ]
  },
  {
   "cell_type": "code",
   "execution_count": 55,
   "metadata": {},
   "outputs": [],
   "source": [
    "optimizer = torch.optim.SGD(model.parameters(), lr= 1E-3, momentum=0.9)"
   ]
  },
  {
   "cell_type": "code",
   "execution_count": 56,
   "metadata": {},
   "outputs": [],
   "source": [
    "for index, batch in enumerate(tr_dataloader):\n",
    "    images = batch[0]\n",
    "    targets = batch[1]\n",
    "    predictions = model(images)\n",
    "    criterion(predictions, targets)\n",
    "    if index == 1:\n",
    "        break"
   ]
  },
  {
   "cell_type": "markdown",
   "metadata": {},
   "source": [
    "## 6. Semantic segmentation 학습을 위한 코드 작성하기"
   ]
  },
  {
   "cell_type": "code",
   "execution_count": 57,
   "metadata": {},
   "outputs": [],
   "source": [
    "def train_one_epoch(dataloaders, model, optimizer, criterion, device):\n",
    "    losses = {}\n",
    "    dice_coefficients = {}\n",
    "    \n",
    "    for phase in [\"train\", \"val\"]:  ## TRAIN과 VALIDATION을 한 EPOCH에서 동시에(순차적으로) 진행함\n",
    "        running_loss = 0.0\n",
    "        running_dice_coeff = 0.0\n",
    "        \n",
    "        if phase == \"train\":\n",
    "            model.train()\n",
    "        else:\n",
    "            model.eval()\n",
    "        \n",
    "        for index, batch in enumerate(dataloaders[phase]):\n",
    "            images = batch[0].to(device)\n",
    "            targets = batch[1].to(device)\n",
    "            \n",
    "            with torch.set_grad_enabled(phase == \"train\"):\n",
    "                predictions = model(images)\n",
    "                loss, dice_coefficient = criterion(predictions, targets)\n",
    "                \n",
    "                if phase == \"train\":\n",
    "                    optimizer.zero_grad()\n",
    "                    loss.backward()\n",
    "                    optimizer.step()\n",
    "            \n",
    "            running_loss += loss.item()\n",
    "            running_dice_coeff += dice_coefficient.item()\n",
    "            \n",
    "            if phase == \"train\":\n",
    "                if index % 100 == 0:\n",
    "                    text = f\"{index}/{len(dataloaders[phase])}\" + \\\n",
    "                            f\" - Running Loss: {loss.item():.4f}\" + \\\n",
    "                            f\" - Running Dice: {dice_coefficient.item():.4f}\" \n",
    "                    print(text)\n",
    "\n",
    "        losses[phase] = running_loss / len(dataloaders[phase])\n",
    "        dice_coefficients[phase] = running_dice_coeff / len(dataloaders[phase])\n",
    "    return losses, dice_coefficients"
   ]
  },
  {
   "cell_type": "code",
   "execution_count": 58,
   "metadata": {},
   "outputs": [],
   "source": [
    "from utils import save_model"
   ]
  },
  {
   "cell_type": "code",
   "execution_count": 60,
   "metadata": {},
   "outputs": [],
   "source": [
    "data_dir = r\"C:\\Users\\com\\MEDICAL-DATASET-002\\Segmentation\"\n",
    "is_cuda = True\n",
    "\n",
    "NUM_CLASSES = 4\n",
    "IMAGE_SIZE = 224\n",
    "# BATCH_SIZE = 2\n",
    "BATCH_SIZE = 12\n",
    "DEVICE = torch.device('cuda' if torch.cuda.is_available and is_cuda else 'cpu')\n",
    "\n",
    "dataloaders = build_dataloader(data_dir, batch_size=BATCH_SIZE)\n",
    "model = UNet(num_classes=NUM_CLASSES)\n",
    "model = model.to(DEVICE)\n",
    "criterion = UNet_metric(num_classes=NUM_CLASSES)\n",
    "optimizer = torch.optim.SGD(model.parameters(), lr= 1E-3, momentum=0.9)"
   ]
  },
  {
   "cell_type": "code",
   "execution_count": 61,
   "metadata": {
    "scrolled": true
   },
   "outputs": [
    {
     "name": "stdout",
     "output_type": "stream",
     "text": [
      "0/1243 - Running Loss: 2.8034 - Running Dice: 0.0410\n",
      "100/1243 - Running Loss: 1.2766 - Running Dice: 0.0003\n",
      "200/1243 - Running Loss: 1.0872 - Running Dice: 0.1338\n",
      "300/1243 - Running Loss: 1.0901 - Running Dice: 0.1491\n",
      "400/1243 - Running Loss: 1.0444 - Running Dice: 0.1049\n",
      "500/1243 - Running Loss: 0.9948 - Running Dice: 0.1738\n",
      "600/1243 - Running Loss: 0.9099 - Running Dice: 0.1887\n",
      "700/1243 - Running Loss: 0.9283 - Running Dice: 0.2283\n",
      "800/1243 - Running Loss: 0.8815 - Running Dice: 0.1987\n",
      "900/1243 - Running Loss: 0.9124 - Running Dice: 0.2186\n",
      "1000/1243 - Running Loss: 0.9386 - Running Dice: 0.1736\n",
      "1100/1243 - Running Loss: 0.9186 - Running Dice: 0.1827\n",
      "1200/1243 - Running Loss: 0.8979 - Running Dice: 0.1867\n",
      "0/10 - Train Loss: 1.0493, Val Loss: 0.9284\n",
      "0/10 - Train Dice Coeff: 0.1569, Val Dice Coeff: 0.2090\n",
      "0/1243 - Running Loss: 0.9498 - Running Dice: 0.2325\n",
      "100/1243 - Running Loss: 1.0353 - Running Dice: 0.1344\n",
      "200/1243 - Running Loss: 0.9111 - Running Dice: 0.1634\n",
      "300/1243 - Running Loss: 0.8058 - Running Dice: 0.2361\n",
      "400/1243 - Running Loss: 0.9270 - Running Dice: 0.1566\n",
      "500/1243 - Running Loss: 0.8755 - Running Dice: 0.2314\n",
      "600/1243 - Running Loss: 0.7964 - Running Dice: 0.2820\n",
      "700/1243 - Running Loss: 0.8364 - Running Dice: 0.2475\n",
      "800/1243 - Running Loss: 0.8895 - Running Dice: 0.1951\n",
      "900/1243 - Running Loss: 0.8724 - Running Dice: 0.1916\n",
      "1000/1243 - Running Loss: 0.8537 - Running Dice: 0.2070\n",
      "1100/1243 - Running Loss: 0.8662 - Running Dice: 0.2358\n",
      "1200/1243 - Running Loss: 0.8501 - Running Dice: 0.2030\n",
      "1/10 - Train Loss: 0.8669, Val Loss: 0.8785\n",
      "1/10 - Train Dice Coeff: 0.2187, Val Dice Coeff: 0.2579\n",
      "0/1243 - Running Loss: 0.8238 - Running Dice: 0.2732\n",
      "100/1243 - Running Loss: 0.8202 - Running Dice: 0.2249\n",
      "200/1243 - Running Loss: 0.8463 - Running Dice: 0.2388\n",
      "300/1243 - Running Loss: 0.7724 - Running Dice: 0.2840\n",
      "400/1243 - Running Loss: 0.7868 - Running Dice: 0.2839\n",
      "500/1243 - Running Loss: 0.7543 - Running Dice: 0.2955\n",
      "600/1243 - Running Loss: 0.8101 - Running Dice: 0.2503\n",
      "700/1243 - Running Loss: 0.8538 - Running Dice: 0.2381\n",
      "800/1243 - Running Loss: 0.8407 - Running Dice: 0.2058\n",
      "900/1243 - Running Loss: 0.8023 - Running Dice: 0.2363\n",
      "1000/1243 - Running Loss: 0.7562 - Running Dice: 0.2873\n",
      "1100/1243 - Running Loss: 0.7279 - Running Dice: 0.3398\n",
      "1200/1243 - Running Loss: 0.6874 - Running Dice: 0.3527\n",
      "2/10 - Train Loss: 0.7987, Val Loss: 0.8897\n",
      "2/10 - Train Dice Coeff: 0.2595, Val Dice Coeff: 0.2665\n",
      "0/1243 - Running Loss: 0.7136 - Running Dice: 0.3222\n",
      "100/1243 - Running Loss: 0.9116 - Running Dice: 0.1213\n",
      "200/1243 - Running Loss: 0.8136 - Running Dice: 0.2220\n",
      "300/1243 - Running Loss: 0.7352 - Running Dice: 0.2910\n",
      "400/1243 - Running Loss: 0.7527 - Running Dice: 0.3010\n",
      "500/1243 - Running Loss: 0.9426 - Running Dice: 0.1836\n",
      "600/1243 - Running Loss: 0.7038 - Running Dice: 0.3212\n",
      "700/1243 - Running Loss: 0.7050 - Running Dice: 0.3213\n",
      "800/1243 - Running Loss: 0.6385 - Running Dice: 0.4040\n",
      "900/1243 - Running Loss: 0.7684 - Running Dice: 0.3291\n",
      "1000/1243 - Running Loss: 0.8212 - Running Dice: 0.2449\n",
      "1100/1243 - Running Loss: 0.7863 - Running Dice: 0.2634\n",
      "1200/1243 - Running Loss: 0.8151 - Running Dice: 0.2215\n",
      "3/10 - Train Loss: 0.7703, Val Loss: 0.9107\n",
      "3/10 - Train Dice Coeff: 0.2731, Val Dice Coeff: 0.2684\n",
      "0/1243 - Running Loss: 0.7197 - Running Dice: 0.3067\n",
      "100/1243 - Running Loss: 0.7902 - Running Dice: 0.2305\n",
      "200/1243 - Running Loss: 0.6815 - Running Dice: 0.3443\n",
      "300/1243 - Running Loss: 0.7007 - Running Dice: 0.3557\n",
      "400/1243 - Running Loss: 0.7314 - Running Dice: 0.3090\n",
      "500/1243 - Running Loss: 0.7656 - Running Dice: 0.2760\n",
      "600/1243 - Running Loss: 0.7058 - Running Dice: 0.3281\n",
      "700/1243 - Running Loss: 0.7439 - Running Dice: 0.2841\n",
      "800/1243 - Running Loss: 0.7360 - Running Dice: 0.3133\n",
      "900/1243 - Running Loss: 0.6951 - Running Dice: 0.3540\n",
      "1000/1243 - Running Loss: 0.8452 - Running Dice: 0.1926\n",
      "1100/1243 - Running Loss: 0.7572 - Running Dice: 0.2982\n",
      "1200/1243 - Running Loss: 0.7741 - Running Dice: 0.2689\n",
      "4/10 - Train Loss: 0.7529, Val Loss: 0.9335\n",
      "4/10 - Train Dice Coeff: 0.2808, Val Dice Coeff: 0.2493\n",
      "0/1243 - Running Loss: 0.7324 - Running Dice: 0.2936\n",
      "100/1243 - Running Loss: 0.6386 - Running Dice: 0.3962\n",
      "200/1243 - Running Loss: 0.7391 - Running Dice: 0.2893\n",
      "300/1243 - Running Loss: 0.7770 - Running Dice: 0.2402\n",
      "400/1243 - Running Loss: 0.7357 - Running Dice: 0.2813\n",
      "500/1243 - Running Loss: 0.7029 - Running Dice: 0.3340\n",
      "600/1243 - Running Loss: 0.6959 - Running Dice: 0.3269\n",
      "700/1243 - Running Loss: 0.7566 - Running Dice: 0.2653\n",
      "800/1243 - Running Loss: 0.7020 - Running Dice: 0.3170\n",
      "900/1243 - Running Loss: 0.8380 - Running Dice: 0.1792\n",
      "1000/1243 - Running Loss: 0.7114 - Running Dice: 0.3137\n",
      "1100/1243 - Running Loss: 0.8275 - Running Dice: 0.1960\n",
      "1200/1243 - Running Loss: 0.7079 - Running Dice: 0.3798\n",
      "5/10 - Train Loss: 0.7429, Val Loss: 0.9249\n",
      "5/10 - Train Dice Coeff: 0.2860, Val Dice Coeff: 0.2577\n",
      "0/1243 - Running Loss: 0.6809 - Running Dice: 0.3448\n",
      "100/1243 - Running Loss: 0.7084 - Running Dice: 0.3142\n",
      "200/1243 - Running Loss: 0.7980 - Running Dice: 0.2475\n",
      "300/1243 - Running Loss: 0.7995 - Running Dice: 0.2282\n",
      "400/1243 - Running Loss: 0.6902 - Running Dice: 0.3282\n",
      "500/1243 - Running Loss: 0.6415 - Running Dice: 0.3855\n",
      "600/1243 - Running Loss: 0.7309 - Running Dice: 0.2867\n",
      "700/1243 - Running Loss: 0.7370 - Running Dice: 0.2892\n",
      "800/1243 - Running Loss: 0.5980 - Running Dice: 0.4229\n",
      "900/1243 - Running Loss: 0.7389 - Running Dice: 0.2832\n",
      "1000/1243 - Running Loss: 0.7616 - Running Dice: 0.2624\n",
      "1100/1243 - Running Loss: 0.7156 - Running Dice: 0.3130\n",
      "1200/1243 - Running Loss: 0.6463 - Running Dice: 0.3800\n",
      "6/10 - Train Loss: 0.7344, Val Loss: 0.9890\n",
      "6/10 - Train Dice Coeff: 0.2901, Val Dice Coeff: 0.2267\n",
      "0/1243 - Running Loss: 0.6556 - Running Dice: 0.3696\n",
      "100/1243 - Running Loss: 0.8106 - Running Dice: 0.2103\n",
      "200/1243 - Running Loss: 0.6073 - Running Dice: 0.4176\n",
      "300/1243 - Running Loss: 0.6853 - Running Dice: 0.3318\n",
      "400/1243 - Running Loss: 0.7181 - Running Dice: 0.3151\n",
      "500/1243 - Running Loss: 0.7438 - Running Dice: 0.2720\n",
      "600/1243 - Running Loss: 0.8020 - Running Dice: 0.2200\n",
      "700/1243 - Running Loss: 0.7148 - Running Dice: 0.3051\n",
      "800/1243 - Running Loss: 0.7791 - Running Dice: 0.2351\n",
      "900/1243 - Running Loss: 0.8239 - Running Dice: 0.1850\n",
      "1000/1243 - Running Loss: 0.6686 - Running Dice: 0.3520\n",
      "1100/1243 - Running Loss: 0.6894 - Running Dice: 0.3259\n",
      "1200/1243 - Running Loss: 0.6461 - Running Dice: 0.3725\n",
      "7/10 - Train Loss: 0.7272, Val Loss: 0.9409\n",
      "7/10 - Train Dice Coeff: 0.2946, Val Dice Coeff: 0.2770\n",
      "0/1243 - Running Loss: 0.7584 - Running Dice: 0.2648\n",
      "100/1243 - Running Loss: 0.6049 - Running Dice: 0.4169\n",
      "200/1243 - Running Loss: 0.7217 - Running Dice: 0.2956\n",
      "300/1243 - Running Loss: 0.6812 - Running Dice: 0.3417\n",
      "400/1243 - Running Loss: 0.7653 - Running Dice: 0.2598\n",
      "500/1243 - Running Loss: 0.6581 - Running Dice: 0.3575\n",
      "600/1243 - Running Loss: 0.7161 - Running Dice: 0.3068\n",
      "700/1243 - Running Loss: 0.6054 - Running Dice: 0.4065\n",
      "800/1243 - Running Loss: 0.7223 - Running Dice: 0.2914\n",
      "900/1243 - Running Loss: 0.6912 - Running Dice: 0.3232\n",
      "1000/1243 - Running Loss: 0.7145 - Running Dice: 0.2995\n",
      "1100/1243 - Running Loss: 0.6977 - Running Dice: 0.3354\n",
      "1200/1243 - Running Loss: 0.6725 - Running Dice: 0.3461\n",
      "8/10 - Train Loss: 0.7062, Val Loss: 0.9180\n",
      "8/10 - Train Dice Coeff: 0.3136, Val Dice Coeff: 0.2886\n",
      "0/1243 - Running Loss: 0.6352 - Running Dice: 0.3765\n",
      "100/1243 - Running Loss: 0.6961 - Running Dice: 0.3201\n",
      "200/1243 - Running Loss: 0.6803 - Running Dice: 0.3324\n",
      "300/1243 - Running Loss: 0.7493 - Running Dice: 0.2602\n",
      "400/1243 - Running Loss: 0.6282 - Running Dice: 0.3887\n",
      "500/1243 - Running Loss: 0.6860 - Running Dice: 0.3293\n",
      "600/1243 - Running Loss: 0.5922 - Running Dice: 0.4329\n",
      "700/1243 - Running Loss: 0.6829 - Running Dice: 0.3357\n",
      "800/1243 - Running Loss: 0.6639 - Running Dice: 0.3538\n",
      "900/1243 - Running Loss: 0.6752 - Running Dice: 0.3418\n",
      "1000/1243 - Running Loss: 0.6267 - Running Dice: 0.3877\n",
      "1100/1243 - Running Loss: 0.6476 - Running Dice: 0.3620\n",
      "1200/1243 - Running Loss: 0.7824 - Running Dice: 0.2346\n",
      "9/10 - Train Loss: 0.6776, Val Loss: 0.9071\n",
      "9/10 - Train Dice Coeff: 0.3405, Val Dice Coeff: 0.3243\n",
      "Best epoch: 9 -> Best Dice Coeffient: 0.3243\n"
     ]
    }
   ],
   "source": [
    "num_epochs = 10\n",
    "patience = 5\n",
    "patience_count = 0\n",
    "best_epoch = 0\n",
    "best_score = 0.0\n",
    "train_loss, train_dice_coefficient = [], []\n",
    "val_loss, val_dice_coefficient = [], []\n",
    "\n",
    "for epoch in range(num_epochs):\n",
    "    losses, dice_coefficients = train_one_epoch(dataloaders, model, optimizer, criterion, DEVICE)\n",
    "    train_loss.append(losses[\"train\"])\n",
    "    val_loss.append(losses[\"val\"])\n",
    "    train_dice_coefficient.append(dice_coefficients[\"train\"])\n",
    "    val_dice_coefficient.append(dice_coefficients[\"val\"])\n",
    "    \n",
    "    print(f\"{epoch}/{num_epochs} - Train Loss: {losses['train']:.4f}, Val Loss: {losses['val']:.4f}\")\n",
    "    print(f\"{epoch}/{num_epochs} - Train Dice Coeff: {dice_coefficients['train']:.4f}, Val Dice Coeff: {dice_coefficients['val']:.4f}\")\n",
    "    \n",
    "    if (epoch > 3) and (dice_coefficients[\"val\"] > best_score):  ## DSC 로 과적합 / BEST SCORE 판단\n",
    "        best_epoch = epoch\n",
    "        best_score = dice_coefficients[\"val\"]\n",
    "        save_model(model.state_dict(), f\"model_{epoch:02d}.pth\")\n",
    "        patience_count = 0\n",
    "        \n",
    "    else : \n",
    "        patience_count += 1\n",
    "        \n",
    "        if patience_count >= patience:\n",
    "            break;\n",
    "        \n",
    "        \n",
    "        \n",
    "print(f\"Best epoch: {best_epoch} -> Best Dice Coeffient: {best_score:.4f}\")"
   ]
  },
  {
   "cell_type": "code",
   "execution_count": 62,
   "metadata": {},
   "outputs": [
    {
     "data": {
      "image/png": "[encoded data removed]",
      "text/plain": [
       "<Figure size 432x360 with 2 Axes>"
      ]
     },
     "metadata": {
      "needs_background": "light"
     },
     "output_type": "display_data"
    }
   ],
   "source": [
    "plt.figure(figsize=(6, 5))\n",
    "plt.subplot(211)\n",
    "plt.plot(train_loss, label=\"train\")\n",
    "plt.plot(val_loss,  label=\"val\")\n",
    "plt.xlabel(\"epoch\")\n",
    "plt.ylabel(\"loss\")\n",
    "plt.grid(\"on\")\n",
    "plt.legend()\n",
    "plt.subplot(212)\n",
    "plt.plot(train_dice_coefficient, label=\"train\")\n",
    "plt.plot(val_dice_coefficient, label=\"val\")\n",
    "plt.xlabel(\"epoch\")\n",
    "plt.ylabel(\"dice coefficient\")\n",
    "plt.grid(\"on\")\n",
    "plt.legend()\n",
    "plt.tight_layout()"
   ]
  },
  {
   "attachments": {
    "loss_figure.png": {
     "image/png": "[encoded data removed]"
    }
   },
   "cell_type": "markdown",
   "metadata": {},
   "source": [
    "![loss_figure.png](attachment:loss_figure.png)"
   ]
  },
  {
   "cell_type": "markdown",
   "metadata": {},
   "source": [
    "## 7. 모델 테스트 및 Morphological filtering 적용하기"
   ]
  },
  {
   "cell_type": "code",
   "execution_count": 58,
   "metadata": {},
   "outputs": [],
   "source": [
    "def load_model(ckpt_path, num_classes, device):\n",
    "    checkpoint = torch.load(ckpt_path, map_location=device)\n",
    "    model = UNet(num_classes=num_classes)\n",
    "    model.load_state_dict(checkpoint)\n",
    "    model = model.to(device)\n",
    "    model.eval()\n",
    "    return model"
   ]
  },
  {
   "cell_type": "code",
   "execution_count": 60,
   "metadata": {},
   "outputs": [],
   "source": [
    "is_cuda = True\n",
    "\n",
    "NUM_CLASSES = 4\n",
    "IMAGE_SIZE = 224\n",
    "DEVICE = torch.device('cuda' if torch.cuda.is_available and is_cuda else 'cpu')"
   ]
  },
  {
   "cell_type": "code",
   "execution_count": 62,
   "metadata": {},
   "outputs": [],
   "source": [
    "ckpt_path = \"./trained_model/model_05.pth\"\n",
    "model = load_model(ckpt_path, NUM_CLASSES, DEVICE)\n",
    "\n",
    "transformer = transforms.Compose([\n",
    "            transforms.Resize((IMAGE_SIZE, IMAGE_SIZE)),\n",
    "            transforms.ToTensor(),\n",
    "            transforms.Normalize([0.485, 0.456, 0.406], [0.229, 0.224, 0.225])])"
   ]
  },
  {
   "cell_type": "code",
   "execution_count": 63,
   "metadata": {},
   "outputs": [],
   "source": [
    "def morpholocal_process(mask, num_classes, ksize=7):\n",
    "    new_mask = mask.copy()\n",
    "    kernel = cv2.getStructuringElement(cv2.MORPH_RECT,(ksize, ksize))\n",
    "\n",
    "    for class_index in range(1, num_classes):\n",
    "        binary_mask = (mask == class_index).astype(np.uint8)\n",
    "        closing = cv2.morphologyEx(binary_mask, cv2.MORPH_CLOSE, kernel)\n",
    "        new_mask[closing.astype(np.bool_)] = class_index\n",
    "    return new_mask"
   ]
  },
  {
   "cell_type": "code",
   "execution_count": 64,
   "metadata": {},
   "outputs": [],
   "source": [
    "from utils import CLASS_ID_TO_RGB"
   ]
  },
  {
   "cell_type": "code",
   "execution_count": 65,
   "metadata": {},
   "outputs": [],
   "source": [
    "def decode_segmap(mask, num_classes):\n",
    "    mask_H, mask_W = mask.shape\n",
    "    R_channel = np.zeros((mask_H, mask_W), dtype=np.uint8)\n",
    "    G_channel = np.zeros((mask_H, mask_W), dtype=np.uint8)\n",
    "    B_channel = np.zeros((mask_H, mask_W), dtype=np.uint8)\n",
    "\n",
    "    for class_index in range(1, num_classes):\n",
    "        R_channel[mask == class_index] = CLASS_ID_TO_RGB[class_index][0]\n",
    "        G_channel[mask == class_index] = CLASS_ID_TO_RGB[class_index][1]\n",
    "        B_channel[mask == class_index] = CLASS_ID_TO_RGB[class_index][2]\n",
    "    \n",
    "    RGB_mask = cv2.merge((B_channel, G_channel, R_channel))\n",
    "    return RGB_mask"
   ]
  },
  {
   "cell_type": "code",
   "execution_count": 72,
   "metadata": {},
   "outputs": [],
   "source": [
    "from PIL import Image"
   ]
  },
  {
   "cell_type": "code",
   "execution_count": 78,
   "metadata": {},
   "outputs": [],
   "source": [
    "@torch.no_grad()\n",
    "def predict_segment(image, model, num_classes, device):\n",
    "    PIL_image = Image.fromarray(image)\n",
    "    tensor_image = transformer(PIL_image)\n",
    "    tensor_image = tensor_image.to(device)\n",
    "\n",
    "    pred_mask = model(torch.unsqueeze(tensor_image, dim=0))\n",
    "    pred_mask = torch.argmax(pred_mask.squeeze(0).cpu(), dim=0)\n",
    "    pred_mask = pred_mask.numpy()\n",
    "    pred_mask = morpholocal_process(pred_mask, num_classes)\n",
    "    rgb_mask = decode_segmap(pred_mask, num_classes)\n",
    "    return rgb_mask"
   ]
  },
  {
   "cell_type": "code",
   "execution_count": 80,
   "metadata": {},
   "outputs": [],
   "source": [
    "video_path = \"../DATASET/Segmentation/video/test/ID00411637202309374271828.mp4\"\n",
    "cnt = 0\n",
    "vidcap = cv2.VideoCapture(video_path)\n",
    "while (vidcap.isOpened()):\n",
    "    ret, frame = vidcap.read()\n",
    "\n",
    "    if ret:\n",
    "        rgb_mask = predict_segment(frame, model, NUM_CLASSES, DEVICE)\n",
    "        rgb_mask = cv2.resize(rgb_mask, dsize=frame.shape[:2])\n",
    "              \n",
    "        alpha = 0.6\n",
    "        blend = cv2.addWeighted(frame, alpha, rgb_mask, 1-alpha, 0)\n",
    "        cv2.imshow('output', blend)\n",
    "        \n",
    "        key = cv2.waitKey(1)\n",
    "        if key == 27:\n",
    "            break\n",
    "        if key == ord('s'):\n",
    "            cv2.waitKey(0)\n",
    "    else:\n",
    "        break\n",
    "        \n",
    "vidcap.release()\n",
    "cv2.destroyAllWindows()"
   ]
  },
  {
   "cell_type": "code",
   "execution_count": null,
   "metadata": {},
   "outputs": [],
   "source": []
  }
 ],
 "metadata": {
  "kernelspec": {
   "display_name": "torch",
   "language": "python",
   "name": "torch"
  },
  "language_info": {
   "codemirror_mode": {
    "name": "ipython",
    "version": 3
   },
   "file_extension": ".py",
   "mimetype": "text/x-python",
   "name": "python",
   "nbconvert_exporter": "python",
   "pygments_lexer": "ipython3",
   "version": "3.8.3"
  }
 },
 "nbformat": 4,
 "nbformat_minor": 5
}
