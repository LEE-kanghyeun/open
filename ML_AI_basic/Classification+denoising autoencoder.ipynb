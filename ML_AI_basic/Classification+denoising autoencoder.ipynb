{
 "cells": [
  {
   "cell_type": "markdown",
   "id": "06daa53d",
   "metadata": {},
   "source": [
    "https://ljm565.github.io/contents/ManifoldLearning3.html\n",
    "\n",
    "https://www.dacon.io/en/codeshare/2567\n",
    "\n",
    "https://wikidocs.net/3413\n",
    "\n",
    "https://techblog-history-younghunjo1.tistory.com/130"
   ]
  },
  {
   "cell_type": "markdown",
   "id": "acb1602c",
   "metadata": {
    "id": "acb1602c"
   },
   "source": [
    "머신러닝을 위한 가장 기본적인 데이터셋인 MNIST 데이터셋은 0 ~ 9까지의 숫자 손글씨를 저장해놓은 데이터 베이스이다.\n",
    "\n",
    "![image.png](attachment:image.png)\n",
    "\n",
    "MNIST 데이터 셋은 28x28의 1채널 흑백 영상이고 원본 데이터는 각 픽셀별 0 ~ 255까지 8bit 정수형 변수를 갖는다. 이를 일반적으로 활용할 때에는 픽셀별 값을 아래와 같이 0 ~ 1사이로 표준화 하여 사용한다. \n",
    "\n",
    "![image-2.png](attachment:image-2.png)"
   ]
  },
  {
   "cell_type": "markdown",
   "id": "7fe886c4",
   "metadata": {
    "id": "7fe886c4"
   },
   "source": [
    "1. 아래와 같이 MNIST 데이터 셋을 TF 에서 다운로드 받으면 총 60000개의 학습용 데이터와 10000개의 검증용 데이터를 다운 받을 수 있다."
   ]
  },
  {
   "cell_type": "code",
   "execution_count": null,
   "id": "599c05e0",
   "metadata": {
    "colab": {
     "base_uri": "https://localhost:8080/"
    },
    "id": "599c05e0",
    "outputId": "0dd868be-c2cf-40c0-a8f9-e54c7840d7d5"
   },
   "outputs": [
    {
     "name": "stdout",
     "output_type": "stream",
     "text": [
      "Downloading data from https://storage.googleapis.com/tensorflow/tf-keras-datasets/mnist.npz\n",
      "11493376/11490434 [==============================] - 0s 0us/step\n",
      "11501568/11490434 [==============================] - 0s 0us/step\n"
     ]
    }
   ],
   "source": [
    "from tensorflow import keras\n",
    "\n",
    "(x_train, y_train), (x_test, y_test) = keras.datasets.mnist.load_data()"
   ]
  },
  {
   "cell_type": "markdown",
   "id": "5527abdd",
   "metadata": {
    "id": "5527abdd"
   },
   "source": [
    "2. 위에서 다운받은 MNIST 데이터 셋중 학습용 데이터 셋을 이용하여 MNIST 데이터 셋을 분류할 수 있는 간단한 Covolutional Neural Network 분류기를 만들과, 검증용 데이터 셋으로 성능을 검증하시오.\n",
    " - 데이터 전처리 및 신경망의 모델은 사용자가 선택한 전략에 따라 구현하시오."
   ]
  },
  {
   "cell_type": "code",
   "execution_count": null,
   "id": "U9WS6-I9qj2i",
   "metadata": {
    "colab": {
     "base_uri": "https://localhost:8080/"
    },
    "id": "U9WS6-I9qj2i",
    "outputId": "09d5bc58-956d-4b66-a18e-8d46e60d081e"
   },
   "outputs": [
    {
     "data": {
      "text/plain": [
       "((60000, 28, 28), (60000,))"
      ]
     },
     "execution_count": 2,
     "metadata": {},
     "output_type": "execute_result"
    }
   ],
   "source": [
    "x_train.shape, y_train.shape"
   ]
  },
  {
   "cell_type": "code",
   "execution_count": null,
   "id": "Ftnrs8Fmtf3C",
   "metadata": {
    "colab": {
     "base_uri": "https://localhost:8080/"
    },
    "id": "Ftnrs8Fmtf3C",
    "outputId": "38dacda3-1266-40fa-c291-d05ee5616ec8"
   },
   "outputs": [
    {
     "data": {
      "text/plain": [
       "(dtype('uint8'), numpy.ndarray)"
      ]
     },
     "execution_count": 3,
     "metadata": {},
     "output_type": "execute_result"
    }
   ],
   "source": [
    "x_train.dtype, type(x_train)"
   ]
  },
  {
   "cell_type": "code",
   "execution_count": null,
   "id": "aD-HREgJc7yI",
   "metadata": {
    "colab": {
     "base_uri": "https://localhost:8080/"
    },
    "id": "aD-HREgJc7yI",
    "outputId": "89616f6e-dcf7-4a7f-fcb5-ba1f5a91306f"
   },
   "outputs": [
    {
     "data": {
      "text/plain": [
       "array([5, 0, 4, ..., 5, 6, 8], dtype=uint8)"
      ]
     },
     "execution_count": 4,
     "metadata": {},
     "output_type": "execute_result"
    }
   ],
   "source": [
    "y_train"
   ]
  },
  {
   "cell_type": "code",
   "execution_count": null,
   "id": "368a081f",
   "metadata": {
    "id": "368a081f"
   },
   "outputs": [],
   "source": [
    "### MNIST Classifier with CNN \n",
    "\n",
    "import torch\n",
    "import torchvision.datasets as dsets\n",
    "import torchvision.transforms as transforms\n",
    "import torch.nn.init\n",
    "from torch.utils.data import TensorDataset, DataLoader\n",
    "\n",
    "device = 'cuda' if torch.cuda.is_available() else 'cpu'\n",
    "\n",
    "torch.manual_seed(777)\n",
    "\n",
    "if device == 'cuda':\n",
    "    torch.cuda.manual_seed_all(777)\n",
    "\n",
    "  \n",
    "learning_rate = 0.001\n",
    "training_epochs = 15\n",
    "batch_size = 100\n",
    "\n",
    "\n",
    "x_train = torch.FloatTensor(x_train).unsqueeze(1)\n",
    "y_train = torch.LongTensor(y_train)\n",
    "\n",
    "x_test = torch.FloatTensor(x_test).unsqueeze(1)\n",
    "y_test = torch.LongTensor(y_test)\n",
    "\n",
    "train_set = TensorDataset(x_train, y_train)\n",
    "\n",
    "train_loader = torch.utils.data.DataLoader(dataset=train_set,\n",
    "                                          batch_size=batch_size,\n",
    "                                          shuffle=True,\n",
    "                                          drop_last=True)\n",
    "\n",
    "\n",
    "\n"
   ]
  },
  {
   "cell_type": "code",
   "execution_count": null,
   "id": "DGUvQt3l00Ew",
   "metadata": {
    "colab": {
     "base_uri": "https://localhost:8080/"
    },
    "id": "DGUvQt3l00Ew",
    "outputId": "798abb01-4adc-4d19-ebdb-4290ac3e9505"
   },
   "outputs": [
    {
     "data": {
      "text/plain": [
       "torch.Size([60000, 1, 28, 28])"
      ]
     },
     "execution_count": 6,
     "metadata": {},
     "output_type": "execute_result"
    }
   ],
   "source": [
    "x_train.shape"
   ]
  },
  {
   "cell_type": "code",
   "execution_count": null,
   "id": "fqLZ_fcQzhIK",
   "metadata": {
    "colab": {
     "base_uri": "https://localhost:8080/"
    },
    "id": "fqLZ_fcQzhIK",
    "outputId": "ab2aeda3-0bf9-40f8-ab54-d21be0e1c8c2"
   },
   "outputs": [
    {
     "name": "stdout",
     "output_type": "stream",
     "text": [
      "총 배치의 수 : 600\n"
     ]
    }
   ],
   "source": [
    "# CNN 모델 클래스 (Simple)\n",
    "class CNN(torch.nn.Module):\n",
    "\n",
    "    def __init__(self):\n",
    "        super(CNN, self).__init__()\n",
    "        \n",
    "        # 첫번째층\n",
    "        # Img shape=(?, 28, 28, 1)   ?는 배치 사이즈\n",
    "        self.layer1 = torch.nn.Sequential(\n",
    "            torch.nn.Conv2d(in_channels = 1, out_channels = 32, kernel_size=3, stride=1, padding=1),\n",
    "\n",
    "            \n",
    "            torch.nn.ReLU(),\n",
    "            torch.nn.MaxPool2d(kernel_size=2, stride=2))\n",
    "\n",
    "        # 두번째층\n",
    "        # Img shape=(?, 14, 14, 32)\n",
    "        self.layer2 = torch.nn.Sequential(\n",
    "            torch.nn.Conv2d(32, 64, kernel_size=3, stride=1, padding=1),\n",
    "            torch.nn.ReLU(),\n",
    "            torch.nn.MaxPool2d(kernel_size=2, stride=2))\n",
    "\n",
    "        # 전결합층 7x7x64 inputs -> 10 outputs\n",
    "        self.fc = torch.nn.Linear(7 * 7 * 64, 10, bias=True)\n",
    "\n",
    "        # 전결합층 한정으로 가중치 초기화\n",
    "        torch.nn.init.xavier_uniform_(self.fc.weight)\n",
    "\n",
    "    def forward(self, x):\n",
    "        out = self.layer1(x)\n",
    "        out = self.layer2(out)\n",
    "        out = out.view(out.size(0), -1)  \n",
    "        out = self.fc(out)\n",
    "        return out\n",
    "    \n",
    "\n",
    "    \n",
    "# 모델 세팅\n",
    "model = CNN().to(device)\n",
    "\n",
    "criterion = torch.nn.CrossEntropyLoss().to(device)   \n",
    "optimizer = torch.optim.Adam(model.parameters(), lr=learning_rate)\n",
    "\n",
    "total_batch = len(train_loader)\n",
    "print('총 배치의 수 : {}'.format(total_batch))"
   ]
  },
  {
   "cell_type": "code",
   "execution_count": null,
   "id": "nRTpxI8J2w__",
   "metadata": {
    "colab": {
     "base_uri": "https://localhost:8080/"
    },
    "id": "nRTpxI8J2w__",
    "outputId": "a338a446-df1d-4b86-c81d-c5ccb583846f"
   },
   "outputs": [
    {
     "name": "stdout",
     "output_type": "stream",
     "text": [
      "Looking in indexes: https://pypi.org/simple, https://us-python.pkg.dev/colab-wheels/public/simple/\n",
      "Collecting pytorch_model_summary\n",
      "  Downloading pytorch_model_summary-0.1.2-py3-none-any.whl (9.3 kB)\n",
      "Requirement already satisfied: torch in /usr/local/lib/python3.7/dist-packages (from pytorch_model_summary) (1.11.0+cu113)\n",
      "Requirement already satisfied: tqdm in /usr/local/lib/python3.7/dist-packages (from pytorch_model_summary) (4.64.0)\n",
      "Requirement already satisfied: numpy in /usr/local/lib/python3.7/dist-packages (from pytorch_model_summary) (1.21.6)\n",
      "Requirement already satisfied: typing-extensions in /usr/local/lib/python3.7/dist-packages (from torch->pytorch_model_summary) (4.2.0)\n",
      "Installing collected packages: pytorch-model-summary\n",
      "Successfully installed pytorch-model-summary-0.1.2\n",
      "-------------------------------------------------------------------------\n",
      "      Layer (type)           Input Shape         Param #     Tr. Param #\n",
      "=========================================================================\n",
      "          Conv2d-1      [100, 1, 28, 28]             320             320\n",
      "            ReLU-2     [100, 32, 28, 28]               0               0\n",
      "       MaxPool2d-3     [100, 32, 28, 28]               0               0\n",
      "          Conv2d-4     [100, 32, 14, 14]          18,496          18,496\n",
      "            ReLU-5     [100, 64, 14, 14]               0               0\n",
      "       MaxPool2d-6     [100, 64, 14, 14]               0               0\n",
      "          Linear-7           [100, 3136]          31,370          31,370\n",
      "=========================================================================\n",
      "Total params: 50,186\n",
      "Trainable params: 50,186\n",
      "Non-trainable params: 0\n",
      "-------------------------------------------------------------------------\n"
     ]
    }
   ],
   "source": [
    "!pip install pytorch_model_summary\n",
    "import pytorch_model_summary\n",
    "print(pytorch_model_summary.summary(model, torch.zeros(100,1, 28, 28), show_input=True))"
   ]
  },
  {
   "cell_type": "code",
   "execution_count": null,
   "id": "doXR_C7GzhFS",
   "metadata": {
    "colab": {
     "base_uri": "https://localhost:8080/"
    },
    "id": "doXR_C7GzhFS",
    "outputId": "062fdf44-9439-4194-cb3e-de2873ad5a87"
   },
   "outputs": [
    {
     "name": "stdout",
     "output_type": "stream",
     "text": [
      "[Epoch:    1] cost = 1.03180707\n",
      "[Epoch:    2] cost = 0.100815795\n",
      "[Epoch:    3] cost = 0.0681101158\n",
      "[Epoch:    4] cost = 0.0618252456\n",
      "[Epoch:    5] cost = 0.0523590334\n",
      "[Epoch:    6] cost = 0.0508273579\n",
      "[Epoch:    7] cost = 0.0477588698\n",
      "[Epoch:    8] cost = 0.0426512994\n",
      "[Epoch:    9] cost = 0.0358017571\n",
      "[Epoch:   10] cost = 0.0337309651\n",
      "[Epoch:   11] cost = 0.0333620459\n",
      "[Epoch:   12] cost = 0.0294400323\n",
      "[Epoch:   13] cost = 0.0253043883\n",
      "[Epoch:   14] cost = 0.0205692779\n",
      "[Epoch:   15] cost = 0.0236756206\n"
     ]
    }
   ],
   "source": [
    "# Train\n",
    "\n",
    "model.train()\n",
    "\n",
    "for epoch in range(training_epochs):\n",
    "    avg_cost = 0\n",
    "\n",
    "    for X, Y in train_loader: \n",
    "        X = X.to(device)\n",
    "        Y = Y.to(device)\n",
    "\n",
    "        optimizer.zero_grad()\n",
    "        hypothesis = model(X)\n",
    "        cost = criterion(hypothesis, Y)\n",
    "        cost.backward()\n",
    "        optimizer.step()\n",
    "\n",
    "        avg_cost += cost / total_batch\n",
    "\n",
    "    print('[Epoch: {:>4}] cost = {:>.9}'.format(epoch + 1, avg_cost))"
   ]
  },
  {
   "cell_type": "code",
   "execution_count": null,
   "id": "MuTOOTlFd48o",
   "metadata": {
    "colab": {
     "base_uri": "https://localhost:8080/"
    },
    "id": "MuTOOTlFd48o",
    "outputId": "ab9e24dd-a84c-4bc1-9616-20998e5f8215"
   },
   "outputs": [
    {
     "name": "stdout",
     "output_type": "stream",
     "text": [
      "Accuracy: 0.9817000031471252\n"
     ]
    }
   ],
   "source": [
    "# Test \n",
    "with torch.no_grad():\n",
    "    model.eval()\n",
    "    \n",
    "    X_test = x_test.float().to(device)\n",
    "    Y_test = y_test.to(device)\n",
    "\n",
    "    prediction = model(X_test)\n",
    "    correct_prediction = torch.argmax(prediction, 1) == Y_test\n",
    "    accuracy = correct_prediction.float().mean()\n",
    "    print('Accuracy:', accuracy.item())"
   ]
  },
  {
   "cell_type": "code",
   "execution_count": null,
   "id": "CjIEAFskzg_y",
   "metadata": {
    "id": "CjIEAFskzg_y"
   },
   "outputs": [],
   "source": [
    "torch.save(model, 'Simple Mnist Classifier.pt')"
   ]
  },
  {
   "cell_type": "code",
   "execution_count": null,
   "id": "gytRyrWhzg4C",
   "metadata": {
    "id": "gytRyrWhzg4C"
   },
   "outputs": [],
   "source": []
  },
  {
   "cell_type": "markdown",
   "id": "effaca83",
   "metadata": {
    "id": "effaca83"
   },
   "source": [
    "3. 아래와 MNIST 데이터셋에 약간의 강제 잡음을 추가한 데이터를 생성하였다.\n",
    "![image-3.png](attachment:image-3.png) ![image-2.png](attachment:image-2.png)"
   ]
  },
  {
   "cell_type": "code",
   "execution_count": null,
   "id": "emKRHbiGy287",
   "metadata": {
    "id": "emKRHbiGy287"
   },
   "outputs": [],
   "source": [
    "from tensorflow import keras\n",
    "\n",
    "(x_train, y_train), (x_test, y_test) = keras.datasets.mnist.load_data()"
   ]
  },
  {
   "cell_type": "code",
   "execution_count": null,
   "id": "4955d938",
   "metadata": {
    "id": "4955d938"
   },
   "outputs": [],
   "source": [
    "### MNIST Classifier with real hand writing\n",
    "import tensorflow as tf\n",
    "noise_factor = 0.2\n",
    "x_train_noisy = x_train + noise_factor * tf.random.normal(shape=x_train.shape) \n",
    "x_test_noisy = x_test + noise_factor * tf.random.normal(shape=x_test.shape) \n",
    "\n",
    "x_train_noisy = tf.clip_by_value(x_train_noisy, clip_value_min=0., clip_value_max=1.)\n",
    "x_test_noisy = tf.clip_by_value(x_test_noisy, clip_value_min=0., clip_value_max=1.)"
   ]
  },
  {
   "cell_type": "markdown",
   "id": "5c6bca7b",
   "metadata": {
    "id": "5c6bca7b"
   },
   "source": [
    "1. 위와 같이 noise가 추가 된, noise 데이터와 원본 데이터를 활용하여, noise를 제거하여 원본데이터처럼 복원을 해주는  denoising auto encoder알고리즘을 구현하시오.\n",
    " - AE의 네트워크 구조등은 직접 판단하여 구현하시오."
   ]
  },
  {
   "cell_type": "code",
   "execution_count": null,
   "id": "2zRL-OMMJgWB",
   "metadata": {
    "id": "2zRL-OMMJgWB"
   },
   "outputs": [],
   "source": []
  },
  {
   "cell_type": "code",
   "execution_count": null,
   "id": "7Zxj3EPX4qrK",
   "metadata": {
    "id": "7Zxj3EPX4qrK"
   },
   "outputs": [],
   "source": [
    "from tensorflow import keras\n",
    "\n",
    "(x_train, y_train), (x_test, y_test) = keras.datasets.mnist.load_data()"
   ]
  },
  {
   "cell_type": "code",
   "execution_count": null,
   "id": "TJ5btCuDkHiK",
   "metadata": {
    "id": "TJ5btCuDkHiK"
   },
   "outputs": [],
   "source": [
    "### MNIST Classifier with real hand writing\n",
    "import tensorflow as tf\n",
    "noise_factor = 0.2\n",
    "x_train_noisy = x_train + noise_factor * tf.random.normal(shape=x_train.shape) \n",
    "x_test_noisy = x_test + noise_factor * tf.random.normal(shape=x_test.shape) \n",
    "\n",
    "x_train_noisy = tf.clip_by_value(x_train_noisy, clip_value_min=0., clip_value_max=1.)\n",
    "x_test_noisy = tf.clip_by_value(x_test_noisy, clip_value_min=0., clip_value_max=1.)"
   ]
  },
  {
   "cell_type": "code",
   "execution_count": null,
   "id": "RzfMp1Z0kK_B",
   "metadata": {
    "colab": {
     "base_uri": "https://localhost:8080/",
     "height": 1000
    },
    "id": "RzfMp1Z0kK_B",
    "outputId": "8164b97e-4dd2-4574-980f-4ec52c6de2ce"
   },
   "outputs": [
    {
     "data": {
      "image/png": "[encoded data removed]",
      "text/plain": [
       "<Figure size 432x288 with 1 Axes>"
      ]
     },
     "metadata": {
      "needs_background": "light"
     },
     "output_type": "display_data"
    },
    {
     "data": {
      "image/png": "[encoded data removed]",
      "text/plain": [
       "<Figure size 432x288 with 1 Axes>"
      ]
     },
     "metadata": {
      "needs_background": "light"
     },
     "output_type": "display_data"
    },
    {
     "data": {
      "image/png": "[encoded data removed]",
      "text/plain": [
       "<Figure size 432x288 with 1 Axes>"
      ]
     },
     "metadata": {
      "needs_background": "light"
     },
     "output_type": "display_data"
    },
    {
     "data": {
      "image/png": "[encoded data removed]",
      "text/plain": [
       "<Figure size 432x288 with 1 Axes>"
      ]
     },
     "metadata": {
      "needs_background": "light"
     },
     "output_type": "display_data"
    }
   ],
   "source": [
    "import matplotlib.pyplot as plt\n",
    "\n",
    "plt.imshow(x_train_noisy[0])\n",
    "plt.show()\n",
    "plt.imshow(x_train[0])\n",
    "plt.show()\n",
    "plt.imshow(x_train_noisy[1])\n",
    "plt.show()\n",
    "plt.imshow(x_train[1])\n",
    "plt.show()"
   ]
  },
  {
   "cell_type": "code",
   "execution_count": null,
   "id": "9T4VYueWpkDq",
   "metadata": {
    "colab": {
     "base_uri": "https://localhost:8080/"
    },
    "id": "9T4VYueWpkDq",
    "outputId": "499e8918-6a25-42a9-8f93-817b267e8854"
   },
   "outputs": [
    {
     "data": {
      "text/plain": [
       "<tf.Tensor: shape=(28, 28), dtype=float32, numpy=\n",
       "array([[0.00000000e+00, 0.00000000e+00, 0.00000000e+00, 2.20067427e-02,\n",
       "        4.26898059e-03, 1.88149676e-01, 2.45288655e-01, 1.25261977e-01,\n",
       "        0.00000000e+00, 0.00000000e+00, 1.40135303e-01, 1.59292534e-01,\n",
       "        0.00000000e+00, 8.13632682e-02, 0.00000000e+00, 1.28385261e-01,\n",
       "        0.00000000e+00, 0.00000000e+00, 4.19633500e-02, 2.95329839e-01,\n",
       "        2.65817374e-01, 0.00000000e+00, 5.69620617e-02, 2.19507337e-01,\n",
       "        5.33320904e-02, 0.00000000e+00, 0.00000000e+00, 0.00000000e+00],\n",
       "       [0.00000000e+00, 3.29205543e-01, 3.76192421e-01, 0.00000000e+00,\n",
       "        0.00000000e+00, 0.00000000e+00, 0.00000000e+00, 0.00000000e+00,\n",
       "        2.89306611e-01, 0.00000000e+00, 3.06461364e-01, 9.70039070e-02,\n",
       "        0.00000000e+00, 0.00000000e+00, 2.13019654e-01, 2.74998993e-01,\n",
       "        1.29828095e-01, 1.04375286e-02, 2.59844035e-01, 0.00000000e+00,\n",
       "        0.00000000e+00, 1.06788864e-02, 0.00000000e+00, 0.00000000e+00,\n",
       "        1.87709451e-01, 3.47217284e-02, 0.00000000e+00, 0.00000000e+00],\n",
       "       [1.55932888e-01, 1.89585388e-01, 0.00000000e+00, 0.00000000e+00,\n",
       "        0.00000000e+00, 1.78410280e-02, 1.53727457e-01, 2.03407764e-01,\n",
       "        0.00000000e+00, 0.00000000e+00, 5.54434359e-02, 8.99413135e-03,\n",
       "        2.03556284e-01, 0.00000000e+00, 1.46535009e-01, 2.03138426e-01,\n",
       "        0.00000000e+00, 0.00000000e+00, 6.79031014e-02, 3.27571362e-01,\n",
       "        0.00000000e+00, 0.00000000e+00, 0.00000000e+00, 0.00000000e+00,\n",
       "        4.37362008e-02, 0.00000000e+00, 1.20244436e-01, 0.00000000e+00],\n",
       "       [0.00000000e+00, 1.02501392e-01, 0.00000000e+00, 1.17179811e-01,\n",
       "        0.00000000e+00, 1.10481642e-01, 0.00000000e+00, 0.00000000e+00,\n",
       "        0.00000000e+00, 0.00000000e+00, 6.32423395e-03, 0.00000000e+00,\n",
       "        0.00000000e+00, 9.85548943e-02, 1.52372360e-01, 0.00000000e+00,\n",
       "        0.00000000e+00, 3.38038653e-01, 0.00000000e+00, 0.00000000e+00,\n",
       "        0.00000000e+00, 0.00000000e+00, 1.94922239e-01, 2.41867770e-02,\n",
       "        0.00000000e+00, 0.00000000e+00, 0.00000000e+00, 3.03380698e-01],\n",
       "       [0.00000000e+00, 0.00000000e+00, 1.16251577e-02, 0.00000000e+00,\n",
       "        2.78041840e-01, 3.45181786e-02, 1.30875155e-01, 4.14682776e-01,\n",
       "        3.40286992e-03, 1.18315101e-01, 0.00000000e+00, 0.00000000e+00,\n",
       "        4.50147539e-01, 3.24595086e-02, 0.00000000e+00, 0.00000000e+00,\n",
       "        2.33197287e-02, 0.00000000e+00, 0.00000000e+00, 2.10443288e-01,\n",
       "        0.00000000e+00, 0.00000000e+00, 2.86918193e-01, 0.00000000e+00,\n",
       "        0.00000000e+00, 2.35600602e-02, 0.00000000e+00, 0.00000000e+00],\n",
       "       [0.00000000e+00, 0.00000000e+00, 7.78537914e-02, 2.81504601e-01,\n",
       "        4.41069491e-02, 1.68179482e-01, 1.10715799e-01, 2.62788028e-01,\n",
       "        0.00000000e+00, 1.41704530e-01, 0.00000000e+00, 2.44853690e-01,\n",
       "        1.00000000e+00, 1.00000000e+00, 1.00000000e+00, 1.00000000e+00,\n",
       "        1.00000000e+00, 1.00000000e+00, 1.00000000e+00, 1.00000000e+00,\n",
       "        1.00000000e+00, 1.00000000e+00, 1.00000000e+00, 1.00000000e+00,\n",
       "        0.00000000e+00, 0.00000000e+00, 0.00000000e+00, 2.08014056e-01],\n",
       "       [3.99497114e-02, 0.00000000e+00, 0.00000000e+00, 0.00000000e+00,\n",
       "        0.00000000e+00, 8.47752690e-02, 1.21824138e-01, 0.00000000e+00,\n",
       "        1.00000000e+00, 1.00000000e+00, 1.00000000e+00, 1.00000000e+00,\n",
       "        1.00000000e+00, 1.00000000e+00, 1.00000000e+00, 1.00000000e+00,\n",
       "        1.00000000e+00, 1.00000000e+00, 1.00000000e+00, 1.00000000e+00,\n",
       "        1.00000000e+00, 1.00000000e+00, 1.00000000e+00, 1.00000000e+00,\n",
       "        0.00000000e+00, 0.00000000e+00, 1.72279641e-01, 1.87160149e-01],\n",
       "       [6.84276363e-03, 0.00000000e+00, 9.98941660e-02, 0.00000000e+00,\n",
       "        3.47715527e-01, 1.26555532e-01, 1.76275805e-01, 1.00000000e+00,\n",
       "        1.00000000e+00, 1.00000000e+00, 1.00000000e+00, 1.00000000e+00,\n",
       "        1.00000000e+00, 1.00000000e+00, 1.00000000e+00, 1.00000000e+00,\n",
       "        1.00000000e+00, 1.00000000e+00, 1.00000000e+00, 1.00000000e+00,\n",
       "        1.00000000e+00, 1.00000000e+00, 1.00000000e+00, 1.72945872e-01,\n",
       "        1.57306399e-02, 0.00000000e+00, 0.00000000e+00, 0.00000000e+00],\n",
       "       [2.54865199e-01, 0.00000000e+00, 1.49628207e-01, 0.00000000e+00,\n",
       "        8.54823813e-02, 0.00000000e+00, 0.00000000e+00, 1.00000000e+00,\n",
       "        1.00000000e+00, 1.00000000e+00, 1.00000000e+00, 1.00000000e+00,\n",
       "        1.00000000e+00, 1.00000000e+00, 1.00000000e+00, 1.00000000e+00,\n",
       "        1.00000000e+00, 1.00000000e+00, 5.93886375e-01, 0.00000000e+00,\n",
       "        1.12211920e-01, 0.00000000e+00, 1.45285830e-01, 0.00000000e+00,\n",
       "        1.12342633e-01, 0.00000000e+00, 5.10194264e-02, 0.00000000e+00],\n",
       "       [2.55681783e-01, 0.00000000e+00, 0.00000000e+00, 8.52595493e-02,\n",
       "        0.00000000e+00, 1.49549201e-01, 0.00000000e+00, 3.62081170e-01,\n",
       "        1.00000000e+00, 1.00000000e+00, 1.00000000e+00, 1.00000000e+00,\n",
       "        1.00000000e+00, 1.00000000e+00, 1.00000000e+00, 0.00000000e+00,\n",
       "        1.00000000e+00, 1.00000000e+00, 1.91749766e-01, 1.23877704e-01,\n",
       "        1.30576015e-01, 4.63759266e-02, 0.00000000e+00, 3.37120816e-02,\n",
       "        0.00000000e+00, 0.00000000e+00, 1.64596830e-02, 0.00000000e+00],\n",
       "       [1.45918727e-02, 2.72608280e-01, 0.00000000e+00, 9.66701880e-02,\n",
       "        0.00000000e+00, 1.37303561e-01, 1.52369604e-01, 2.88290670e-04,\n",
       "        1.82199165e-01, 1.00000000e+00, 1.00000000e+00, 1.00000000e+00,\n",
       "        1.00000000e+00, 1.00000000e+00, 5.26198521e-02, 3.31454426e-01,\n",
       "        4.83562835e-02, 0.00000000e+00, 2.23122314e-01, 0.00000000e+00,\n",
       "        2.74806112e-01, 1.71575084e-01, 1.33182276e-02, 0.00000000e+00,\n",
       "        1.70923322e-01, 0.00000000e+00, 1.39897287e-01, 8.16242993e-02],\n",
       "       [0.00000000e+00, 0.00000000e+00, 0.00000000e+00, 0.00000000e+00,\n",
       "        2.87755907e-01, 1.54832810e-01, 2.64009517e-02, 0.00000000e+00,\n",
       "        0.00000000e+00, 9.19911191e-02, 0.00000000e+00, 1.00000000e+00,\n",
       "        1.00000000e+00, 1.00000000e+00, 1.00000000e+00, 2.09125597e-02,\n",
       "        0.00000000e+00, 0.00000000e+00, 0.00000000e+00, 9.56706330e-02,\n",
       "        0.00000000e+00, 0.00000000e+00, 2.80899137e-01, 0.00000000e+00,\n",
       "        1.86203182e-01, 0.00000000e+00, 1.89796045e-01, 1.67582080e-01],\n",
       "       [1.02616780e-01, 9.68717858e-02, 0.00000000e+00, 1.10780515e-01,\n",
       "        1.53715476e-01, 7.34084174e-02, 0.00000000e+00, 0.00000000e+00,\n",
       "        0.00000000e+00, 9.13850069e-02, 1.66619763e-01, 1.00000000e+00,\n",
       "        1.00000000e+00, 1.00000000e+00, 1.00000000e+00, 1.43761098e-01,\n",
       "        6.46130089e-03, 2.15646401e-02, 0.00000000e+00, 0.00000000e+00,\n",
       "        0.00000000e+00, 4.42339061e-03, 0.00000000e+00, 0.00000000e+00,\n",
       "        0.00000000e+00, 9.01066884e-02, 3.13145608e-01, 0.00000000e+00],\n",
       "       [1.20363869e-01, 0.00000000e+00, 5.46423674e-01, 7.87768438e-02,\n",
       "        3.27058882e-01, 1.26618922e-01, 0.00000000e+00, 0.00000000e+00,\n",
       "        1.60635993e-01, 2.62216598e-01, 0.00000000e+00, 0.00000000e+00,\n",
       "        1.00000000e+00, 1.00000000e+00, 1.00000000e+00, 1.00000000e+00,\n",
       "        1.00000000e+00, 9.46133256e-01, 2.84609616e-01, 4.04619068e-01,\n",
       "        1.04945555e-01, 7.82646015e-02, 2.35236689e-01, 0.00000000e+00,\n",
       "        1.01498201e-01, 0.00000000e+00, 0.00000000e+00, 0.00000000e+00],\n",
       "       [0.00000000e+00, 0.00000000e+00, 1.38271615e-01, 1.41244456e-01,\n",
       "        1.93413898e-01, 1.17598318e-01, 4.21891883e-02, 4.41858731e-02,\n",
       "        0.00000000e+00, 0.00000000e+00, 1.24874592e-01, 2.31417418e-01,\n",
       "        3.47231561e-03, 1.00000000e+00, 1.00000000e+00, 1.00000000e+00,\n",
       "        1.00000000e+00, 1.00000000e+00, 1.00000000e+00, 4.05648440e-01,\n",
       "        2.11455330e-01, 2.23616555e-01, 1.66501962e-02, 0.00000000e+00,\n",
       "        0.00000000e+00, 1.49791300e-01, 0.00000000e+00, 0.00000000e+00],\n",
       "       [1.37877241e-01, 0.00000000e+00, 0.00000000e+00, 0.00000000e+00,\n",
       "        0.00000000e+00, 6.53012618e-02, 9.38219875e-02, 7.26827681e-02,\n",
       "        2.13060245e-01, 2.72965170e-02, 0.00000000e+00, 2.24411175e-01,\n",
       "        0.00000000e+00, 2.60582656e-01, 1.00000000e+00, 1.00000000e+00,\n",
       "        1.00000000e+00, 1.00000000e+00, 1.00000000e+00, 1.00000000e+00,\n",
       "        0.00000000e+00, 4.30825859e-01, 0.00000000e+00, 0.00000000e+00,\n",
       "        0.00000000e+00, 0.00000000e+00, 0.00000000e+00, 0.00000000e+00],\n",
       "       [0.00000000e+00, 0.00000000e+00, 0.00000000e+00, 0.00000000e+00,\n",
       "        0.00000000e+00, 1.90692395e-01, 0.00000000e+00, 0.00000000e+00,\n",
       "        0.00000000e+00, 0.00000000e+00, 4.83296216e-02, 2.10945472e-01,\n",
       "        0.00000000e+00, 2.51797974e-01, 0.00000000e+00, 1.00000000e+00,\n",
       "        1.00000000e+00, 1.00000000e+00, 1.00000000e+00, 1.00000000e+00,\n",
       "        0.00000000e+00, 3.90665799e-01, 2.45028049e-01, 2.95643937e-02,\n",
       "        0.00000000e+00, 1.90293297e-01, 5.81016205e-02, 1.40617415e-02],\n",
       "       [1.97384045e-01, 1.62779465e-01, 0.00000000e+00, 0.00000000e+00,\n",
       "        1.18663907e-01, 0.00000000e+00, 3.96662531e-03, 0.00000000e+00,\n",
       "        7.30499486e-03, 7.61626214e-02, 3.71095628e-01, 0.00000000e+00,\n",
       "        0.00000000e+00, 6.81341663e-02, 1.46928743e-01, 0.00000000e+00,\n",
       "        0.00000000e+00, 1.00000000e+00, 1.00000000e+00, 1.00000000e+00,\n",
       "        1.00000000e+00, 1.99360587e-02, 2.60807276e-01, 8.11989605e-02,\n",
       "        1.27757341e-01, 1.00885056e-01, 0.00000000e+00, 1.48039982e-01],\n",
       "       [1.60756215e-01, 0.00000000e+00, 8.20449367e-02, 0.00000000e+00,\n",
       "        1.82477012e-01, 2.62423247e-01, 5.06198227e-01, 5.37091978e-02,\n",
       "        0.00000000e+00, 2.77028292e-01, 0.00000000e+00, 1.68610420e-02,\n",
       "        2.92529434e-01, 0.00000000e+00, 1.00000000e+00, 1.00000000e+00,\n",
       "        1.00000000e+00, 1.00000000e+00, 1.00000000e+00, 1.00000000e+00,\n",
       "        1.00000000e+00, 0.00000000e+00, 0.00000000e+00, 2.45469451e-01,\n",
       "        3.97654921e-01, 3.55036929e-02, 0.00000000e+00, 4.58971076e-02],\n",
       "       [1.18565135e-01, 1.03933811e-01, 4.27004742e-03, 0.00000000e+00,\n",
       "        0.00000000e+00, 0.00000000e+00, 0.00000000e+00, 0.00000000e+00,\n",
       "        2.77153939e-01, 4.00079638e-01, 1.45066798e-01, 0.00000000e+00,\n",
       "        1.00000000e+00, 1.00000000e+00, 1.00000000e+00, 1.00000000e+00,\n",
       "        1.00000000e+00, 1.00000000e+00, 1.00000000e+00, 1.00000000e+00,\n",
       "        0.00000000e+00, 1.40115529e-01, 6.68758452e-02, 2.37005856e-02,\n",
       "        2.28919506e-01, 4.90422815e-01, 0.00000000e+00, 0.00000000e+00],\n",
       "       [1.60998106e-01, 0.00000000e+00, 0.00000000e+00, 0.00000000e+00,\n",
       "        0.00000000e+00, 6.27409294e-02, 2.60526091e-01, 7.70601481e-02,\n",
       "        0.00000000e+00, 0.00000000e+00, 1.00000000e+00, 1.00000000e+00,\n",
       "        1.00000000e+00, 1.00000000e+00, 1.00000000e+00, 1.00000000e+00,\n",
       "        1.00000000e+00, 1.00000000e+00, 1.00000000e+00, 4.33759205e-02,\n",
       "        1.62888080e-01, 0.00000000e+00, 1.65449783e-01, 1.81119666e-01,\n",
       "        0.00000000e+00, 0.00000000e+00, 2.12490439e-01, 2.32776776e-02],\n",
       "       [4.92496789e-02, 0.00000000e+00, 0.00000000e+00, 3.84039193e-01,\n",
       "        8.63125920e-02, 0.00000000e+00, 0.00000000e+00, 0.00000000e+00,\n",
       "        1.00000000e+00, 1.00000000e+00, 1.00000000e+00, 1.00000000e+00,\n",
       "        1.00000000e+00, 1.00000000e+00, 1.00000000e+00, 1.00000000e+00,\n",
       "        1.00000000e+00, 1.00000000e+00, 0.00000000e+00, 1.82438776e-01,\n",
       "        0.00000000e+00, 1.59259140e-02, 1.80124819e-01, 2.16871500e-01,\n",
       "        1.65121287e-01, 0.00000000e+00, 1.99312679e-02, 0.00000000e+00],\n",
       "       [2.37242267e-01, 0.00000000e+00, 0.00000000e+00, 0.00000000e+00,\n",
       "        2.72845197e-03, 0.00000000e+00, 1.00000000e+00, 1.00000000e+00,\n",
       "        1.00000000e+00, 1.00000000e+00, 1.00000000e+00, 1.00000000e+00,\n",
       "        1.00000000e+00, 1.00000000e+00, 1.00000000e+00, 1.00000000e+00,\n",
       "        0.00000000e+00, 0.00000000e+00, 3.59532470e-03, 1.94391623e-01,\n",
       "        0.00000000e+00, 0.00000000e+00, 0.00000000e+00, 0.00000000e+00,\n",
       "        3.32073241e-01, 1.74700499e-01, 0.00000000e+00, 1.14237182e-01],\n",
       "       [0.00000000e+00, 9.16794389e-02, 0.00000000e+00, 0.00000000e+00,\n",
       "        1.00000000e+00, 1.00000000e+00, 1.00000000e+00, 1.00000000e+00,\n",
       "        1.00000000e+00, 1.00000000e+00, 1.00000000e+00, 1.00000000e+00,\n",
       "        1.00000000e+00, 1.00000000e+00, 0.00000000e+00, 0.00000000e+00,\n",
       "        0.00000000e+00, 0.00000000e+00, 0.00000000e+00, 0.00000000e+00,\n",
       "        0.00000000e+00, 1.10430658e-01, 1.99930593e-01, 1.21220104e-01,\n",
       "        1.21428564e-01, 1.52408808e-01, 5.90096191e-02, 0.00000000e+00],\n",
       "       [0.00000000e+00, 1.48759529e-01, 0.00000000e+00, 0.00000000e+00,\n",
       "        1.00000000e+00, 1.00000000e+00, 1.00000000e+00, 1.00000000e+00,\n",
       "        1.00000000e+00, 1.00000000e+00, 1.00000000e+00, 1.00000000e+00,\n",
       "        0.00000000e+00, 0.00000000e+00, 1.13615073e-01, 2.54234195e-01,\n",
       "        2.67626435e-01, 4.44170922e-01, 6.88264668e-02, 1.23716079e-01,\n",
       "        0.00000000e+00, 0.00000000e+00, 0.00000000e+00, 0.00000000e+00,\n",
       "        8.36149156e-02, 0.00000000e+00, 0.00000000e+00, 0.00000000e+00],\n",
       "       [2.19832778e-01, 0.00000000e+00, 1.10362224e-01, 0.00000000e+00,\n",
       "        5.33924475e-02, 0.00000000e+00, 2.58295447e-01, 0.00000000e+00,\n",
       "        1.06621481e-01, 1.00787856e-01, 6.01117015e-02, 0.00000000e+00,\n",
       "        0.00000000e+00, 0.00000000e+00, 2.67631680e-01, 0.00000000e+00,\n",
       "        0.00000000e+00, 1.18953064e-01, 2.75689274e-01, 0.00000000e+00,\n",
       "        0.00000000e+00, 4.71793041e-02, 3.80655825e-02, 1.06526271e-01,\n",
       "        1.78788468e-01, 0.00000000e+00, 2.45677829e-01, 1.51365921e-02],\n",
       "       [0.00000000e+00, 3.12958807e-01, 0.00000000e+00, 3.47166896e-01,\n",
       "        0.00000000e+00, 0.00000000e+00, 0.00000000e+00, 2.27750421e-01,\n",
       "        1.53091595e-01, 0.00000000e+00, 8.64218995e-02, 3.52414727e-01,\n",
       "        6.01124354e-02, 1.06480263e-01, 2.85322636e-01, 0.00000000e+00,\n",
       "        0.00000000e+00, 0.00000000e+00, 1.85853336e-02, 0.00000000e+00,\n",
       "        0.00000000e+00, 0.00000000e+00, 7.06600472e-02, 2.26581488e-02,\n",
       "        3.02341860e-02, 2.39373162e-01, 0.00000000e+00, 7.44638070e-02],\n",
       "       [0.00000000e+00, 8.63629580e-02, 1.44330701e-02, 0.00000000e+00,\n",
       "        0.00000000e+00, 0.00000000e+00, 2.00613186e-01, 9.01714489e-02,\n",
       "        0.00000000e+00, 3.57687414e-01, 1.31676599e-01, 0.00000000e+00,\n",
       "        1.29637465e-01, 2.64548838e-01, 0.00000000e+00, 0.00000000e+00,\n",
       "        1.84605673e-01, 0.00000000e+00, 0.00000000e+00, 2.73971438e-01,\n",
       "        0.00000000e+00, 4.35195744e-01, 2.41541713e-02, 1.33239925e-01,\n",
       "        8.36155638e-02, 4.24667746e-01, 0.00000000e+00, 0.00000000e+00]],\n",
       "      dtype=float32)>"
      ]
     },
     "execution_count": 30,
     "metadata": {},
     "output_type": "execute_result"
    }
   ],
   "source": [
    "x_train_noisy[0]"
   ]
  },
  {
   "cell_type": "code",
   "execution_count": null,
   "id": "owvn-zMlpyn5",
   "metadata": {
    "colab": {
     "base_uri": "https://localhost:8080/",
     "height": 468
    },
    "id": "owvn-zMlpyn5",
    "outputId": "97316019-db27-4f99-ab94-571639fbdbb7"
   },
   "outputs": [
    {
     "data": {
      "text/plain": [
       "(array([348.,  31.,  37.,  44.,  35.,  29.,  20.,  22.,  19.,   9.,   6.,\n",
       "          5.,   6.,   3.,   1.,   1.,   1.,   1.,   0.,   0.,   0.,   0.,\n",
       "          0.,   0.,   0.,   0.,   0.,   0.,   1., 165.]),\n",
       " array([0.        , 0.03333334, 0.06666667, 0.1       , 0.13333334,\n",
       "        0.16666667, 0.2       , 0.23333333, 0.26666668, 0.3       ,\n",
       "        0.33333334, 0.36666667, 0.4       , 0.43333334, 0.46666667,\n",
       "        0.5       , 0.53333336, 0.56666666, 0.6       , 0.6333333 ,\n",
       "        0.6666667 , 0.7       , 0.73333335, 0.76666665, 0.8       ,\n",
       "        0.8333333 , 0.8666667 , 0.9       , 0.93333334, 0.96666664,\n",
       "        1.        ], dtype=float32),\n",
       " <a list of 30 Patch objects>)"
      ]
     },
     "execution_count": 36,
     "metadata": {},
     "output_type": "execute_result"
    },
    {
     "data": {
      "image/png": "[encoded data removed]",
      "text/plain": [
       "<Figure size 432x288 with 1 Axes>"
      ]
     },
     "metadata": {
      "needs_background": "light"
     },
     "output_type": "display_data"
    }
   ],
   "source": [
    "plt.hist(x_train_noisy[0].numpy().reshape(-1, 1), bins= 30)"
   ]
  },
  {
   "cell_type": "code",
   "execution_count": null,
   "id": "qpBzWkRTrsfR",
   "metadata": {
    "colab": {
     "base_uri": "https://localhost:8080/",
     "height": 339
    },
    "id": "qpBzWkRTrsfR",
    "outputId": "c1df4af5-77a6-4718-b866-8560f9e32cb4"
   },
   "outputs": [
    {
     "data": {
      "text/plain": [
       "(array([639.,  11.,   6.,  11.,   6.,   9.,  11.,  12.,  11.,  68.]),\n",
       " array([  0. ,  25.5,  51. ,  76.5, 102. , 127.5, 153. , 178.5, 204. ,\n",
       "        229.5, 255. ]),\n",
       " <a list of 10 Patch objects>)"
      ]
     },
     "execution_count": 35,
     "metadata": {},
     "output_type": "execute_result"
    },
    {
     "data": {
      "image/png": "[encoded data removed]",
      "text/plain": [
       "<Figure size 432x288 with 1 Axes>"
      ]
     },
     "metadata": {
      "needs_background": "light"
     },
     "output_type": "display_data"
    }
   ],
   "source": [
    "plt.hist(x_train[0].reshape(-1, 1))"
   ]
  },
  {
   "cell_type": "code",
   "execution_count": null,
   "id": "mQ2_1NA-bV_h",
   "metadata": {
    "colab": {
     "base_uri": "https://localhost:8080/",
     "height": 513
    },
    "id": "mQ2_1NA-bV_h",
    "outputId": "1c413dff-44f6-4263-cedd-07a970a0cce8"
   },
   "outputs": [
    {
     "data": {
      "image/png": "[encoded data removed]",
      "text/plain": [
       "<Figure size 432x288 with 1 Axes>"
      ]
     },
     "metadata": {
      "needs_background": "light"
     },
     "output_type": "display_data"
    },
    {
     "data": {
      "image/png": "[encoded data removed]",
      "text/plain": [
       "<Figure size 432x288 with 1 Axes>"
      ]
     },
     "metadata": {
      "needs_background": "light"
     },
     "output_type": "display_data"
    }
   ],
   "source": [
    "## noisy set과 raw data 범주 맞춰주기\n",
    "\n",
    "x_train_rev = x_train / 250\n",
    "x_test_rev = x_test / 250\n",
    "\n",
    "plt.imshow(x_train_rev[0])\n",
    "plt.show()\n",
    "\n",
    "plt.hist(x_train_rev[0].reshape(-1, 1))\n",
    "plt.show()"
   ]
  },
  {
   "cell_type": "code",
   "execution_count": null,
   "id": "IO00g53erscw",
   "metadata": {
    "id": "IO00g53erscw"
   },
   "outputs": [],
   "source": [
    "# 모델 클래스 정의\n",
    "\n",
    "import torch\n",
    "import torchvision.datasets as dsets\n",
    "import torchvision.transforms as transforms\n",
    "import torch.nn.init\n",
    "import torch.nn as nn\n",
    "from torch.utils.data import TensorDataset, DataLoader\n",
    "\n",
    "class AE(nn.Module):\n",
    "  def __init__(self):\n",
    "    super(AE, self).__init__()\n",
    "\n",
    "    self.encoder = nn.Sequential(\n",
    "        # 28 ,28\n",
    "        nn.Conv2d(in_channels = 1, out_channels = 32, kernel_size =3 , stride=1, padding =1),\n",
    "        nn.BatchNorm2d(32),\n",
    "        nn.ReLU(),\n",
    "\n",
    "        #28 ,28\n",
    "        nn.Conv2d(in_channels = 32, out_channels=64, kernel_size=3, stride = 1 , padding =1 ),\n",
    "        nn.BatchNorm2d(64),\n",
    "        nn.ReLU(),\n",
    "\n",
    "        # 28 ,28 = > 14, 14\n",
    "        nn.Conv2d(in_channels = 64, out_channels=128, kernel_size=3, stride = 1 , padding =1 ),\n",
    "        nn.BatchNorm2d(128),\n",
    "        nn.ReLU(),\n",
    "        nn.MaxPool2d(kernel_size = 2, stride = 2),\n",
    "\n",
    "        # 14, 14 => 7, 7 ,256\n",
    "        nn.Conv2d(in_channels = 128, out_channels= 256, kernel_size=3, stride = 1 , padding =1 ),\n",
    "        nn.BatchNorm2d(256),\n",
    "        nn.ReLU(),\n",
    "        nn.MaxPool2d(kernel_size = 2, stride = 2)\n",
    "\n",
    "    )\n",
    "\n",
    "    self.decoder = nn.Sequential(\n",
    "        \n",
    "        # 7, 7, 256\n",
    "        nn.ConvTranspose2d(in_channels = 256, out_channels = 128, kernel_size =3 , stride=1, padding =1),\n",
    "        nn.BatchNorm2d(128),\n",
    "        nn.ReLU(),\n",
    "\n",
    "        # 7, 7, 128 => 14, 14, 64\n",
    "        nn.ConvTranspose2d(in_channels = 128, out_channels=64, kernel_size=2, stride = 2 , padding = 0 ),\n",
    "        nn.BatchNorm2d(64),\n",
    "        nn.ReLU(),\n",
    "\n",
    "        # 14, 14, 64 =>  28, 28, 32\n",
    "        nn.ConvTranspose2d(in_channels = 64, out_channels= 32, kernel_size= 2, stride = 2 , padding = 0 ),\n",
    "        nn.BatchNorm2d(32),\n",
    "        nn.ReLU(),\n",
    "\n",
    "        # 28, 28, 32 => 28, 28, 1\n",
    "        nn.ConvTranspose2d(in_channels = 32, out_channels=1, kernel_size=3, stride = 1 , padding =1 ),\n",
    "        nn.ReLU(),\n",
    "\n",
    "\n",
    "    )\n",
    "\n",
    "  def forward(self, x):\n",
    "    latent_var = self.encoder(x)\n",
    "    output = self.decoder(latent_var)\n",
    "\n",
    "    return output, latent_var"
   ]
  },
  {
   "cell_type": "code",
   "execution_count": null,
   "id": "kDSUS2PsrsaZ",
   "metadata": {
    "colab": {
     "base_uri": "https://localhost:8080/"
    },
    "id": "kDSUS2PsrsaZ",
    "outputId": "8f92d68f-be43-4063-84bb-cefaae8a2e3b"
   },
   "outputs": [
    {
     "name": "stdout",
     "output_type": "stream",
     "text": [
      "Looking in indexes: https://pypi.org/simple, https://us-python.pkg.dev/colab-wheels/public/simple/\n",
      "Requirement already satisfied: pytorch_model_summary in /usr/local/lib/python3.7/dist-packages (0.1.2)\n",
      "Requirement already satisfied: torch in /usr/local/lib/python3.7/dist-packages (from pytorch_model_summary) (1.11.0+cu113)\n",
      "Requirement already satisfied: numpy in /usr/local/lib/python3.7/dist-packages (from pytorch_model_summary) (1.21.6)\n",
      "Requirement already satisfied: tqdm in /usr/local/lib/python3.7/dist-packages (from pytorch_model_summary) (4.64.0)\n",
      "Requirement already satisfied: typing-extensions in /usr/local/lib/python3.7/dist-packages (from torch->pytorch_model_summary) (4.2.0)\n",
      "-----------------------------------------------------------------------------\n",
      "         Layer (type)            Input Shape         Param #     Tr. Param #\n",
      "=============================================================================\n",
      "             Conv2d-1       [100, 1, 28, 28]             320             320\n",
      "        BatchNorm2d-2      [100, 32, 28, 28]              64              64\n",
      "               ReLU-3      [100, 32, 28, 28]               0               0\n",
      "             Conv2d-4      [100, 32, 28, 28]          18,496          18,496\n",
      "        BatchNorm2d-5      [100, 64, 28, 28]             128             128\n",
      "               ReLU-6      [100, 64, 28, 28]               0               0\n",
      "             Conv2d-7      [100, 64, 28, 28]          73,856          73,856\n",
      "        BatchNorm2d-8     [100, 128, 28, 28]             256             256\n",
      "               ReLU-9     [100, 128, 28, 28]               0               0\n",
      "         MaxPool2d-10     [100, 128, 28, 28]               0               0\n",
      "            Conv2d-11     [100, 128, 14, 14]         295,168         295,168\n",
      "       BatchNorm2d-12     [100, 256, 14, 14]             512             512\n",
      "              ReLU-13     [100, 256, 14, 14]               0               0\n",
      "         MaxPool2d-14     [100, 256, 14, 14]               0               0\n",
      "   ConvTranspose2d-15       [100, 256, 7, 7]         295,040         295,040\n",
      "       BatchNorm2d-16       [100, 128, 7, 7]             256             256\n",
      "              ReLU-17       [100, 128, 7, 7]               0               0\n",
      "   ConvTranspose2d-18       [100, 128, 7, 7]          32,832          32,832\n",
      "       BatchNorm2d-19      [100, 64, 14, 14]             128             128\n",
      "              ReLU-20      [100, 64, 14, 14]               0               0\n",
      "   ConvTranspose2d-21      [100, 64, 14, 14]           8,224           8,224\n",
      "       BatchNorm2d-22      [100, 32, 28, 28]              64              64\n",
      "              ReLU-23      [100, 32, 28, 28]               0               0\n",
      "   ConvTranspose2d-24      [100, 32, 28, 28]             289             289\n",
      "              ReLU-25       [100, 1, 28, 28]               0               0\n",
      "=============================================================================\n",
      "Total params: 725,633\n",
      "Trainable params: 725,633\n",
      "Non-trainable params: 0\n",
      "-----------------------------------------------------------------------------\n"
     ]
    }
   ],
   "source": [
    "!pip install pytorch_model_summary\n",
    "import pytorch_model_summary\n",
    "\n",
    "model = AE()\n",
    "print(pytorch_model_summary.summary(model, torch.zeros(100,1, 28, 28), show_input=True))"
   ]
  },
  {
   "cell_type": "code",
   "execution_count": null,
   "id": "m33xc3DBFQlW",
   "metadata": {
    "colab": {
     "base_uri": "https://localhost:8080/"
    },
    "id": "m33xc3DBFQlW",
    "outputId": "4ef70e7e-909f-4770-8a0f-ef3872cb562e"
   },
   "outputs": [
    {
     "data": {
      "text/plain": [
       "(TensorShape([60000, 28, 28]), tensorflow.python.framework.ops.EagerTensor)"
      ]
     },
     "execution_count": 42,
     "metadata": {},
     "output_type": "execute_result"
    }
   ],
   "source": [
    "x_train_noisy.shape, type(x_train_noisy)"
   ]
  },
  {
   "cell_type": "code",
   "execution_count": null,
   "id": "fwN1IQJ4BFnk",
   "metadata": {
    "colab": {
     "base_uri": "https://localhost:8080/"
    },
    "id": "fwN1IQJ4BFnk",
    "outputId": "9fa54187-38f7-4d37-cd45-737964baf284"
   },
   "outputs": [
    {
     "name": "stdout",
     "output_type": "stream",
     "text": [
      "총 배치의 수 : 600\n"
     ]
    }
   ],
   "source": [
    "# 모델 세팅\n",
    "\n",
    "from torch.utils.data.dataset import Dataset\n",
    "\n",
    "\n",
    "learning_rate = 0.001\n",
    "training_epochs = 3\n",
    "batch_size = 100\n",
    "\n",
    "model = AE()\n",
    "criterion = torch.nn.MSELoss()\n",
    "optimizer = torch.optim.Adam(model.parameters(), lr=learning_rate)\n",
    "\n",
    "X_train = torch.FloatTensor(x_train_noisy.numpy()).unsqueeze(1)\n",
    "Y_train = torch.FloatTensor(x_train_rev).unsqueeze(1)\n",
    "\n",
    "\n",
    "train_set = TensorDataset(X_train, Y_train)\n",
    "\n",
    "train_loader = torch.utils.data.DataLoader(dataset=train_set,\n",
    "                                          batch_size=batch_size,\n",
    "                                          shuffle=True,\n",
    "                                          drop_last=True)\n",
    "total_batch = len(train_loader)\n",
    "print('총 배치의 수 : {}'.format(total_batch))\n",
    "\n"
   ]
  },
  {
   "cell_type": "code",
   "execution_count": null,
   "id": "4cqH0JscqEbz",
   "metadata": {
    "colab": {
     "base_uri": "https://localhost:8080/"
    },
    "id": "4cqH0JscqEbz",
    "outputId": "07ef643e-6a58-4a49-9ba8-5498898fd1bc"
   },
   "outputs": [
    {
     "name": "stdout",
     "output_type": "stream",
     "text": [
      "[Epoch:    1] cost = 0.0601921976\n",
      "[Epoch:    2] cost = 0.0549356118\n",
      "[Epoch:    3] cost = 0.0545781516\n"
     ]
    }
   ],
   "source": [
    "# Train  : epoch은 3회만 실시하였습니다.... (코랩에서 자꾸 세션이 끊어져서 에폭을 소량 실시하였습니다...)\n",
    "for epoch in range(training_epochs):\n",
    "  \n",
    "  model.train()\n",
    "\n",
    "  avg_cost = 0\n",
    "\n",
    "  for X, Y in train_loader:\n",
    "\n",
    "      optimizer.zero_grad()\n",
    "      hypothesis, _ = model(X)\n",
    "      cost = criterion(hypothesis, Y)\n",
    "      cost.backward()\n",
    "      optimizer.step()\n",
    "      avg_cost += cost / total_batch\n",
    "\n",
    "  print('[Epoch: {:>4}] cost = {:>.9}'.format(epoch + 1, avg_cost))\n",
    "  torch.save(model, 'AE 3_epoch.pt')"
   ]
  },
  {
   "cell_type": "code",
   "execution_count": null,
   "id": "clvfpEiL4M8-",
   "metadata": {
    "id": "clvfpEiL4M8-"
   },
   "outputs": [],
   "source": [
    "model = torch.load('AE 3_epoch.pt')"
   ]
  },
  {
   "cell_type": "code",
   "execution_count": null,
   "id": "nnlt2JgSBFkw",
   "metadata": {
    "colab": {
     "base_uri": "https://localhost:8080/"
    },
    "id": "nnlt2JgSBFkw",
    "outputId": "991851e7-8663-437a-91d3-132693fc8b73"
   },
   "outputs": [
    {
     "name": "stdout",
     "output_type": "stream",
     "text": [
      "Score: tensor(0.0553)\n"
     ]
    }
   ],
   "source": [
    "# Test \n",
    "\n",
    "X_test = torch.FloatTensor(x_test_noisy.numpy()).unsqueeze(1)\n",
    "Y_test = torch.FloatTensor(x_test_rev).unsqueeze(1)\n",
    "\n",
    "\n",
    "with torch.no_grad():\n",
    "    model.eval()\n",
    "    \n",
    "    prediction, _ = model(X_test)\n",
    "\n",
    "    score = criterion(prediction, Y_test)\n",
    " \n",
    "    print('Score:', score)"
   ]
  },
  {
   "cell_type": "code",
   "execution_count": null,
   "id": "EgTaAl3FBFia",
   "metadata": {
    "colab": {
     "base_uri": "https://localhost:8080/",
     "height": 1000
    },
    "id": "EgTaAl3FBFia",
    "outputId": "931ed11c-40fc-43a7-b0e8-21c16b493c95"
   },
   "outputs": [
    {
     "data": {
      "image/png": "[encoded data removed]",
      "text/plain": [
       "<Figure size 432x288 with 1 Axes>"
      ]
     },
     "metadata": {
      "needs_background": "light"
     },
     "output_type": "display_data"
    },
    {
     "data": {
      "image/png": "[encoded data removed]",
      "text/plain": [
       "<Figure size 432x288 with 1 Axes>"
      ]
     },
     "metadata": {
      "needs_background": "light"
     },
     "output_type": "display_data"
    },
    {
     "data": {
      "image/png": "[encoded data removed]",
      "text/plain": [
       "<Figure size 432x288 with 1 Axes>"
      ]
     },
     "metadata": {
      "needs_background": "light"
     },
     "output_type": "display_data"
    },
    {
     "data": {
      "image/png": "[encoded data removed]",
      "text/plain": [
       "<Figure size 432x288 with 1 Axes>"
      ]
     },
     "metadata": {
      "needs_background": "light"
     },
     "output_type": "display_data"
    }
   ],
   "source": [
    "## 이미지로 확인해보기\n",
    "\n",
    "# : 두꺼움은 복원되었습니다, 하지만 본래 값은 일부 소실되었습니다 epoch을 더 늘리면 될수도 있을 것 같습니다\n",
    "# : 과적합시 모델을 축소하도록 하겠습니다. \n",
    "# : 기본적인 개념을 보시는거라 생각하여, 하이퍼 파라미터 튜닝이나 규제 등은 적용하지 않았습니다.\n",
    "# : 감사합니다.\n",
    "\n",
    "import matplotlib.pyplot as plt\n",
    "\n",
    "# prediction한 data 이미지화\n",
    "plt.imshow(prediction[0].squeeze().detach().numpy())\n",
    "plt.show()\n",
    "\n",
    "# 타겟 data 이미지화\n",
    "plt.imshow(Y_test[0].squeeze().detach().numpy())\n",
    "plt.show()\n",
    "\n",
    "# 노이즈 추가된 data 이미지화\n",
    "plt.imshow(x_test_noisy[0])\n",
    "plt.show()\n",
    "\n",
    "# 원본 타겟 data 이미지화\n",
    "plt.imshow(x_test[0])\n",
    "plt.show()\n",
    "\n"
   ]
  },
  {
   "cell_type": "code",
   "execution_count": null,
   "id": "iVhMJOHCBFdt",
   "metadata": {
    "id": "iVhMJOHCBFdt"
   },
   "outputs": [],
   "source": []
  },
  {
   "cell_type": "code",
   "execution_count": null,
   "id": "N5MYg_5dJJGy",
   "metadata": {
    "id": "N5MYg_5dJJGy"
   },
   "outputs": [],
   "source": []
  }
 ],
 "metadata": {
  "colab": {
   "collapsed_sections": [],
   "name": "AI_경진대회_기초_역량_평가_C형_이강현_연구원_시작파이롯트의장1팀.ipynb",
   "provenance": []
  },
  "kernelspec": {
   "display_name": "Python 3 (ipykernel)",
   "language": "python",
   "name": "python3"
  },
  "language_info": {
   "codemirror_mode": {
    "name": "ipython",
    "version": 3
   },
   "file_extension": ".py",
   "mimetype": "text/x-python",
   "name": "python",
   "nbconvert_exporter": "python",
   "pygments_lexer": "ipython3",
   "version": "3.7.6"
  }
 },
 "nbformat": 4,
 "nbformat_minor": 5
}
