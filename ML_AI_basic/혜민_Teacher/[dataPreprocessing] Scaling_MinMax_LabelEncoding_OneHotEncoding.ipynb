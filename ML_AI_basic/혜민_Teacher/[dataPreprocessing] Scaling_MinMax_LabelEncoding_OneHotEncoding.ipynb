{
 "cells": [
  {
   "cell_type": "markdown",
   "metadata": {
    "id": "Wio3nUp9rycM"
   },
   "source": [
    "## 데이터 전처리\n",
    "* ML 알고리즘은 데이터에 기반하고있음\n",
    "* 데이터의 품질이 성능을 좌우함\n",
    "* 데이터 전처리 과정은 알고리즘 만큼 중요\n",
    "\n",
    "* 주요데이터 전처리 과정\n",
    "\n",
    "> - 3주차 강의자료 참고\n",
    "\n",
    "> - Data Encoding\n",
    "\n",
    "> - Scaling"
   ]
  },
  {
   "cell_type": "markdown",
   "metadata": {
    "id": "GvSISGJfvG56"
   },
   "source": [
    "## LabelEncoder"
   ]
  },
  {
   "cell_type": "code",
   "execution_count": 2,
   "metadata": {
    "colab": {
     "base_uri": "https://localhost:8080/"
    },
    "id": "KeOwmFkujaP3",
    "outputId": "411aa22c-3de5-4c02-f73b-65aa662d12f1"
   },
   "outputs": [
    {
     "name": "stdout",
     "output_type": "stream",
     "text": [
      "Label encoding result : [0 1 4 5 3 3 2 2]\n"
     ]
    }
   ],
   "source": [
    "# LabelEncoder 객체 생성\n",
    "# LabelEncoder 객체의 fit 메서드에 카테고리 정보 인자로 전달하여 분석 수행\n",
    "# LabelEncoder 객체의 transform 메서드를 이용해 인코딩 수행\n",
    "\n",
    "from sklearn.preprocessing import LabelEncoder\n",
    "\n",
    "items=['TV','냉장고','전자렌지','컴퓨터','선풍기','선풍기','믹서','믹서'] \n",
    "encoder = LabelEncoder()\n",
    "\n",
    "encoder.fit(items)   ## ascending sort 기준으로 정렬됨, 기준 변경 불가\n",
    "\n",
    "labels = encoder.transform(items)\n",
    "print('Label encoding result :', labels)\n",
    "\n"
   ]
  },
  {
   "cell_type": "code",
   "execution_count": 7,
   "metadata": {
    "colab": {
     "base_uri": "https://localhost:8080/"
    },
    "id": "Dvo5ryFN4y8I",
    "outputId": "cff00a49-759b-46aa-b6c2-7a353c752c2e"
   },
   "outputs": [
    {
     "data": {
      "text/plain": [
       "LabelEncoder()"
      ]
     },
     "execution_count": 7,
     "metadata": {},
     "output_type": "execute_result"
    }
   ],
   "source": [
    "encoder"
   ]
  },
  {
   "cell_type": "code",
   "execution_count": 3,
   "metadata": {
    "colab": {
     "base_uri": "https://localhost:8080/"
    },
    "id": "kFVEMa5CuAVy",
    "outputId": "0c2edbb7-4038-4d08-e243-e74e25e0beac"
   },
   "outputs": [
    {
     "name": "stdout",
     "output_type": "stream",
     "text": [
      "Encoding classes :  ['TV' '냉장고' '믹서' '선풍기' '전자렌지' '컴퓨터']\n"
     ]
    }
   ],
   "source": [
    "# 데이터분석(fit)을 통해 얻어진 카테고리의 유일한 클래스 정보 조회\n",
    "print('Encoding classes : ', encoder.classes_)"
   ]
  },
  {
   "cell_type": "code",
   "execution_count": 8,
   "metadata": {
    "colab": {
     "base_uri": "https://localhost:8080/"
    },
    "id": "sHvFGboMuGKM",
    "outputId": "52cfcc21-5a9e-4698-d400-2e2e3bbfaf09"
   },
   "outputs": [
    {
     "name": "stdout",
     "output_type": "stream",
     "text": [
      "Decoding values :  ['전자렌지' '컴퓨터' '믹서' 'TV' '냉장고' '선풍기']\n"
     ]
    }
   ],
   "source": [
    "# 인코딩된 라벨값을 이용하여 해당 값의 클래스 정보 조회\n",
    "print('Decoding values : ', encoder.inverse_transform([4, 5, 2, 0, 1, 3]))"
   ]
  },
  {
   "cell_type": "markdown",
   "metadata": {
    "id": "UQN0sUc4vMnE"
   },
   "source": [
    "## OneHotEncoder"
   ]
  },
  {
   "cell_type": "code",
   "execution_count": 10,
   "metadata": {
    "colab": {
     "base_uri": "https://localhost:8080/"
    },
    "id": "rcqC-WVxuRjg",
    "outputId": "2f37e8c8-9db9-47c6-f075-64ff4ec39d76"
   },
   "outputs": [
    {
     "name": "stdout",
     "output_type": "stream",
     "text": [
      "[0 1 4 5 3 3 2 2]\n",
      "[[0]\n",
      " [1]\n",
      " [4]\n",
      " [5]\n",
      " [3]\n",
      " [3]\n",
      " [2]\n",
      " [2]]\n",
      "[[0 1]\n",
      " [4 5]\n",
      " [3 3]\n",
      " [2 2]]\n"
     ]
    }
   ],
   "source": [
    "# OneHotEncoder API 를활용한 카테고리 데이터 인코딩\n",
    "# LabelEncoder API를 이용하여 카테고리 데이터 라벨 인코딩 수행\n",
    "from sklearn.preprocessing import LabelEncoder\n",
    "\n",
    "items=['TV','냉장고','전자렌지','컴퓨터','선풍기','선풍기','믹서','믹서']\n",
    "encoder = LabelEncoder()\n",
    "\n",
    "encoder.fit(items)\n",
    "labels = encoder.transform(items)\n",
    "print(labels)\n",
    "\n",
    "# reshape(-1, 정수)\n",
    "# 배열 x에 대해서 x.reshape(-1, 정수)를 해주면 '열(column)' 차원의 '정수'에 따라서 \n",
    "# 원소가 빠짐없이 배치될 수 있도록 '-1'이 들어가 있는 '행(row)' 의 개수가 가변적으로 정해짐\n",
    "labels = labels.reshape(-1, 1)\n",
    "print(labels)\n"
   ]
  },
  {
   "cell_type": "code",
   "execution_count": 12,
   "metadata": {
    "colab": {
     "base_uri": "https://localhost:8080/"
    },
    "id": "QIbWDx6T5zvv",
    "outputId": "038b51df-2d4d-4eac-988b-96db2f87264c"
   },
   "outputs": [
    {
     "name": "stdout",
     "output_type": "stream",
     "text": [
      "[[0 1]\n",
      " [4 5]\n",
      " [3 3]\n",
      " [2 2]]\n",
      "[[0]\n",
      " [1]\n",
      " [4]\n",
      " [5]\n",
      " [3]\n",
      " [3]\n",
      " [2]\n",
      " [2]]\n"
     ]
    }
   ],
   "source": [
    "labels = labels.reshape(-1, 2)  ## reshape 이해해보기\n",
    "print(labels)\n",
    "\n",
    "labels = labels.reshape(-1, 1)  ## reshape 이해해보기\n",
    "print(labels)"
   ]
  },
  {
   "cell_type": "code",
   "execution_count": 32,
   "metadata": {
    "colab": {
     "base_uri": "https://localhost:8080/"
    },
    "id": "Dn-eWJVJuqnk",
    "outputId": "0464a79f-5fb9-4c1c-980c-df84c687c558"
   },
   "outputs": [
    {
     "name": "stdout",
     "output_type": "stream",
     "text": [
      "  (0, 0)\t1.0\n",
      "  (1, 1)\t1.0\n",
      "  (2, 4)\t1.0\n",
      "  (3, 5)\t1.0\n",
      "  (4, 3)\t1.0\n",
      "  (5, 3)\t1.0\n",
      "  (6, 2)\t1.0\n",
      "  (7, 2)\t1.0\n",
      "<class 'scipy.sparse.csr.csr_matrix'> \n",
      "\n",
      "\n",
      "[[1. 0. 0. 0. 0. 0.]\n",
      " [0. 1. 0. 0. 0. 0.]\n",
      " [0. 0. 0. 0. 1. 0.]\n",
      " [0. 0. 0. 0. 0. 1.]\n",
      " [0. 0. 0. 1. 0. 0.]\n",
      " [0. 0. 0. 1. 0. 0.]\n",
      " [0. 0. 1. 0. 0. 0.]\n",
      " [0. 0. 1. 0. 0. 0.]]\n",
      "<class 'numpy.ndarray'> \n",
      "\n",
      "\n",
      "    TV  냉장고   믹서  선풍기  전자렌지  컴퓨터\n",
      "0  1.0  0.0  0.0  0.0   0.0  0.0\n",
      "1  0.0  1.0  0.0  0.0   0.0  0.0\n",
      "2  0.0  0.0  0.0  0.0   1.0  0.0\n",
      "3  0.0  0.0  0.0  0.0   0.0  1.0\n",
      "4  0.0  0.0  0.0  1.0   0.0  0.0\n",
      "5  0.0  0.0  0.0  1.0   0.0  0.0\n",
      "6  0.0  0.0  1.0  0.0   0.0  0.0\n",
      "7  0.0  0.0  1.0  0.0   0.0  0.0\n"
     ]
    }
   ],
   "source": [
    "# OneHotEncoder 객체 생성\n",
    "# OneHotEncoder 객체의 fit 메서드에 라벨 정보인자로 전달하여 분석 수행\n",
    "# OneHotEncoder 객체의 transform 메서드를 이용해 인코딩 수행\n",
    "# 인코딩 수행 결과 출력\n",
    "from sklearn.preprocessing import OneHotEncoder\n",
    "\n",
    "one_hot_encoder = OneHotEncoder()\n",
    "one_hot_encoder.fit(labels)             ## labels의 형태를 위의 과정처럼 reshape 해줘야되는 이유????\n",
    "one_hot_labels = one_hot_encoder.transform(labels)\n",
    "\n",
    "# Scipy 압축 희소 행렬 : scipy.sparse.csr.csr_matrix\n",
    "# 희소 행렬이란 행렬의 값이 대부분 0인 경우\n",
    "# Compressed sparse row (CSR or CRS) : 가로의 순서대로 재정렬하는 방법으로 행에 관여하여 정리 압축한 것을 CSR라고 함\n",
    "print(one_hot_labels)\n",
    "print(type(one_hot_labels), '\\n\\n')\n",
    "\n",
    "# Numpy 배열로 변환 : scipy.sparse.csr_matrix.toarray()\n",
    "print(one_hot_labels.toarray())\n",
    "print(type(one_hot_labels.toarray()), '\\n\\n')\n",
    "\n",
    "import pandas as pd\n",
    "data = pd.DataFrame(data = one_hot_labels.toarray(), columns=  encoder.classes_ )\n",
    "print(data)\n",
    "\n",
    "\n"
   ]
  },
  {
   "cell_type": "code",
   "execution_count": 41,
   "metadata": {
    "colab": {
     "base_uri": "https://localhost:8080/"
    },
    "id": "_TfjOwR4lCnk",
    "outputId": "41c53fa6-7a89-409c-fa01-c84e3edbb9d9"
   },
   "outputs": [
    {
     "name": "stdout",
     "output_type": "stream",
     "text": [
      "    아이템    가격\n",
      "0    TV  1000\n",
      "1   냉장고   100\n",
      "2  전자렌지   500\n",
      "3   컴퓨터  1000\n",
      "4   선풍기   200\n",
      "5   선풍기   200\n",
      "6    믹서    50\n",
      "7    믹서    50 \n",
      "\n",
      "     가격  아이템_TV  아이템_냉장고  아이템_믹서  아이템_선풍기  아이템_전자렌지  아이템_컴퓨터\n",
      "0  1000       1        0       0        0         0        0\n",
      "1   100       0        1       0        0         0        0\n",
      "2   500       0        0       0        0         1        0\n",
      "3  1000       0        0       0        0         0        1\n",
      "4   200       0        0       0        1         0        0\n",
      "5   200       0        0       0        1         0        0\n",
      "6    50       0        0       1        0         0        0\n",
      "7    50       0        0       1        0         0        0\n"
     ]
    }
   ],
   "source": [
    "## one hot encording 2번째 방법   : pd.get_dummies()\n",
    "\n",
    "import pandas as pd\n",
    "items=['TV','냉장고','전자렌지','컴퓨터','선풍기','선풍기','믹서','믹서']\n",
    "price = [1000, 100, 500, 1000, 200, 200, 50, 50]\n",
    "\n",
    "data_df = pd.DataFrame({'아이템' : items, '가격' : price})\n",
    "print(data_df, '\\n')\n",
    "\n",
    "data_df_ohe = pd.get_dummies(data_df, prefix='아이템', prefix_sep='_')\n",
    "\n",
    "print(data_df_ohe)\n",
    "\n",
    "\n"
   ]
  },
  {
   "cell_type": "markdown",
   "metadata": {
    "id": "a8PhpmOAUT2a"
   },
   "source": [
    "![image.png](data:image/png;base64,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)"
   ]
  },
  {
   "cell_type": "markdown",
   "metadata": {
    "id": "jntkWWG1TP9s"
   },
   "source": [
    "* 1주차 강의자료 머신러닝 개요와 파이썬 라이브러리 소개 p.23-24"
   ]
  },
  {
   "cell_type": "markdown",
   "metadata": {
    "id": "1YguCJ2aTHHg"
   },
   "source": [
    "![image.png](data:image/png;base64,iVBORw0KGgoAAAANSUhEUgAAAuAAAACCCAYAAAAHfX1xAAAgAElEQVR4Ae3dB5AuVfE2cHJQkuSgIJJBCUowkEEUJIiAKCAqIEkQBAyIfxQETAiCigkwkJGMhEJACaKARRRDAYqWiFiglKHUUmu++s1nv56dO/OGvbvrDd1VszM78ZznnNP9dJ+eeeeoUhKBRCARSAQSgUQgEUgEEoFEYMoQmGPKnpQPSgQSgUQgEUgEEoFEIBFIBBKBKgl4doJEIBFIBBKBRCARSAQSgURgChFIAj6FYOejEoFEIBFIBBKBRCARSAQSgSTg2QcSgUQgEUgEEoFEIBFIBBKBKUQgCfgUgp2PSgQSgUQgEUgEEoFEIBFIBJKAZx9IBBKBRCARSAQSgUQgEUgEphCBJOBTCHY+KhFIBBKBRCARSAQSgUQgEZgSAv6Pf/yjuuKKK6rDDz+82nXXXas99tijOv7446t77723+ve//z1yK9x8883V8ssvX+22227Vn/70p5GvzwsSgUQgEUgEEoFEIBFIBBKB/xUCk07Af/rTn1Ybb7xxNeecc1bzzjtvtcwyy1RLLrlkNddcc9X/n3DCCSPX/Ywzzqjvt8oqq1S/+tWvRr4+L0gEEoFEIBFIBBKBRCARSAT+VwhMKgH/29/+Vke855lnnuqwww6rfve73/Xq+eijj1ZHH310dcwxx/T2Dbvxhz/8oTrrrLOqW265ZdhL8rxEIBFIBBKBRCARSAQSgURghkBgUgn4448/Xr3whS+s1lxzzeq3v/1ta4XHk4LSeqPcmQgkAolAIpAIJAKJQCKQCMwECEwqAf/FL35RrbjiitVaa63VScDbMELK77zzzjo6Lmd87733rk466aRKOgt55plnqksuuaS64447epc/+eST1dlnn13dfvvt1V//+tfqvPPOqw444IBqv/32q04//fTqqaeeqs/95z//Wd1www3VxRdfXN+nd4Ni47777quvf+KJJ4q9uZkIJAKJQCKQCCQCiUAikAhMPwKTSsC9ILnlllvWud4nnnhihfwOkj/+8Y81aZa2Msccc1TzzTdffb1tL16Su+++u1p88cWrPffcs3e7W2+9tVpkkUXqlJcddtihzhFfYIEFqrjPSiutVJNzFxx11FHV3HPPXX3hC1/oXR8b0ma23Xbbatlll60eeuih2J3rRCARSAQSgUQgEUgEEoFEYEIQmFQCroTXX3999YIXvKAmvFtvvXV1zTXXdBJxBP2II47ovWB51VVX1ef+/e9/r+66665q//33ryvdj4B7uVPU/corr6z+9a9/VU8//XR18MEH10Tcy6Ci5+612GKLVcojWl7K/fffXy211FI1kff1lpREIBFIBBKBRCARSAQSgURgIhGYdAKusLfddlu10UYb1cTa11DWW2+9OoWkGRGX+rH00ktXK6ywQoUId0k/Ar7wwgtXN95445hLRdVf85rXVPPPP39NzEW5t99++5qEI+OlnHrqqXXE/fzzzy9353YikAgkAolAIpAIJAKJQCIwIQhMCQFXUtHkyy+/vE5Jkf4hUr377ruP+TKKlBAE3RdT+r2c2Y+Ab7PNNhWC3RR54NJYPvKRj9SHvvnNb9ZE+4Mf/GDv1L/85S/VVlttVa2++urVr3/9697+3EgEEoFEIBFIBBKBRCARSAQmCoEpI+BRYGkhV199dbXaaqvVhLjM4z7yyCNrAn7OOefE6a3rfgT8oIMOar3msssuqwn3IYccUh/3VZa11167Wnfddes0FTvvueeeOrf80EMPbb1H7kwEEoFEIBFIBBKBRCARSASmF4EpJ+BR4AceeKD+RKFc7JDI1faFk37Sj4B7wbJNLr300pqAi66HHHvssXVail/pJKecckq10EILVX5pMyURSAQSgUQgEUgEEoFEIBGYDAT+ZwRcJNwnBqWjhBx33HF1VFwedj/pR8C7otdnnnlmfe+TTz65d+t77723/lVOnzl87rnnqs0226zaZJNNKjnjKYlAIpAIJAKJQCKQCCQCicBkIDCpBFyaR9e3tONzfz4VGBJR6i222KImxLG/ue5HwF375z//ecwlcru32267asEFF6yuu+663jF56bvsskv1ohe9qLrwwgvrr7WIgqckAolAIpAIJAKJQCKQCCQCk4XApBJwPxUvx9rnBMuXKm37oRxfLFljjTV6dfNjORtssEGdKuJn6ksi7Zprr722PrcfAZ933nnrFy3jRUyRdi93It+i288++2zveTb8IA8nYMMNN6y/wCI1JiURSAQSgUQgEUgEEoFEIBGYLAQmlYB7qXGZZZapv3iyyiqrVDvuuGO10047Veuss06derLoootWF1xwwZi6+YSgTxH6Goqvkeyzzz71L2H6dKEf2iH9CLhPGCLUXvL0rFe84hX1N8Dd86abbhrzLP/4TjgnwRdSnJ/f/p4GotyRCCQCiUAikAgkAolAIjCBCEwqAVfOhx9+uP6s4Prrr1+TcQTZN8EPPPDAyne/2+TBBx+s9tprr2qJJZaoibFfs1x55ZWrj370o/Xpjz32WP0z8/K6Q+KXML3IedFFF1Wbbrpp/TzXIfH9Its+RegZ3/jGN+J2uU4EEoFEIBFIBBKBRCARSAQmBYFJJ+DTU2ppJ3/4wx+m+bXKtnsGAe96CbPtGvv8yubOO+9crbrqqp356l3X5v5EIBFIBBKBRCARSAQSgURgVARmaAI+SmXGS8Cls4i0H3HEEaM8Ls9NBBKBRCARSAQSgUQgEUgExoXAbE3AfR1Fqstyyy1X3X///eMCMC9KBBKBRCARSAQSgUQgEUgERkFgtiTgvqayww471C9qzj///NVpp502CmZ5biKQCCQCiUAikAgkAolAIjBuBGYZAv7II49U++23X3XuuecOBMO3wDfffPP6G+DNTyQOvDhPSAQSgUQgEUgEEoFEIBFIBKYDgVmGgE8HBnlpIpAIJAKJQCKQCCQCiUAiMGUIJAGfMqjzQYlAIpAIJAKJQCKQCCQCiUBVJQHPXpAIJAKJQCKQCCQCiUAikAhMIQJJwKcQ7HxUIpAIJAKJQCKQCCQCiUAikAQ8+0AikAgkAolAIpAIJAKJQCIwhQgkAZ9CsPNRiUAikAgkAolAIpAIJAKJQBLw7AOJQCKQCCQCiUAikAgkAonAFCKQBHwKwc5HJQKJQCKQCCQCiUAikAgkAknAsw8kAolAIpAIJAKJQCKQCCQCU4hAEvApBDsflQgkAolAIpAIJAKJQCKQCCQBzz6QCCQCiUAikAgkAolAIpAITCECScCnEOx8VCKQCCQCiUAikAgkAolAIpAEPPtAIpAIJAKJQCKQCCQCiUAiMIUIJAGfQrDzUYlAIpAIJAKJQCKQCCQCiUAS8OwDiUAikAgkAolAIpAIJAKJwBQikAR8CsHORyUCiUAikAgkAolAIpAIJAJJwLMPJAKJQCKQCCQCiUAikAgkAlOIQBLwKQQ7H5UIJAKJQCKQCCQCiUAikAgkAc8+kAgkAolAIpAIJAKJQCKQCEwhAknA/wP23/72t+rZZ5+t/vWvf/Xg/8c//lHdeOON1YUXXthbvvWtb1VPP/107xwbf/nLX+plzM4h//n73/9e/elPfxry7Kk77d///nddLuUbVf76179Wv/vd78ZgOew9/vnPf1aePSPKjNZW+upzzz1XwaxL9OEHHniguuqqq6rLL7+8+v73v1/9+c9/7jp9XPuVwdhpinI59sc//rG3GCul+F9/mQiBh7HUD4/pec4TTzxRXXTRRT1dQC/ceuut4+rn01OOGfVaOrSrb02Pjoz6TnZfpneeeeaZus/GM0dZh85UzlFF3zWGxqNvPct1ce2vfvWr6t577x21CPX509NO03PtuAqbFyUCMzkCsxUBv/nmm6sPf/jD1VNPPTVNs5155pnV0ksvXf34xz/uHaMQN9xww2qOOeboLYssskhtdOMkSm+77barXve618Wuvuvf/va31Y477lh9/etfr887/vjjq5VWWqnvNQ5effXV1WabbVb94Ac/GHjuMCd885vfrI444oje8pGPfGQMiXr88cer5ZdfvjrllFN6t7vssst655fXHnbYYdWVV17ZO68NSwe/9rWvVa94xSvGLB/84Ad71/3mN7+pVllllTHP7B0csMHovfvd7x5z7+az/K+dfv3rXw+4238Pf/nLX67WW2+96rHHHquGaauf/OQn1dZbbz2wHJ/+9Kf/+5DGln6nPUqMY/tjH/tYTWZdcvfdd1cveMELKm3ZFP3SM174whf2+m70Y334oIMOqp2k5nXj+X/fffettthii2nI16WXXlrNO++8Y56/6aab9hxOZE2ffuMb3ziex9bXGK9rr712dcEFF1R33HFHtdhii1UXX3zxNPfjCHz729+u27F5EE6rrrpq9ctf/rJ5aMz/njH33HOPqc9WW23Vc74RkNe//vXVXnvtNea6tn+Qtfe+9731uX/4wx/aTuntu++++2p82/pzue/EE0/sXTMZG0jigw8+WN12221VW5nf8573VGuttVZFx5WirjvvvHP1mte8ptf25fFB21PVlwVW1l133erAAw9sLRLHTlvoZ21Bk4ceeqi2IV/4whfGXM/B1Hfuuuuu3v7rr7++7qdB1l271FJLVWeddVbvnFE2jKFtt922JuHD6Km2e49qy8p7TM+15X1yOxGYnRCYrQj4CSecUC233HKtRrgkjRTtj370o+q73/1u53LnnXfWhrdN8TBQDPPmm2/eWxigRx99tDbyK664YvWJT3yi7mfDKkvkcoUVVqgeeeSRCemfxx133BiSuMMOO4wxnG0E/JOf/OSYazbZZJNqjTXWqOacc84xhqPEsiysaOHRRx89ZinJ4/QQ8GiHl7zkJdVRRx015hnlM/UBUa4QBhUpL9vq1a9+dfWud72rjsx+5jOfqfvMT3/606EIuMjTEkssUd+zfG5zW0S6SxBBbY08lwTLPg4KnEg/Ao6oI7/63U033VSTbZFo1xx66KHVAgssUO266659o8/nnHPOGFxKjBDN+++/vy5HFwFHxJDea665preIwCNyZBgCjugccMABY8qBxCMbyLcywPsrX/lKXwJuPDvvi1/8Yv3s8s/JJ59c463Pt4l69NMFjiFQw9Qn7i8I8NKXvrTaaaedepHLONZc/+IXv6gDB80+FP8ffvjhtbO8//77Ny+d5n/9rmzHtu0tt9xyTJDBTfR/zpKxzpELLJHrkMki4NPblxFf/aWtrrHvuuuuq2c2uwg4PWEsRv2XWWaZ6hvf+EZUvV53EXD9Z/XVV6/o3JB3vvOdFT0TRL4fAXcOpyDKWq4Ff+65557aie0i4PTd2972tmmu156vetWrqo9+9KN1sUKHlsEk7S5gVD7TNmfK/tBFbddGXXOdCCQC7QjMVgScgVpnnXVaI38laWyLfEf0MNaiFYx/m+IRKX7e855X7bLLLnWkUbTxmGOOqSOvyNWoBPyHP/xhteyyy1aLLrromEhze5P234uEfe5zn6ujzKLbsSAhtjkJpI2AN+/M+CJHyiYyFlJiaZ/Uh9e+9rV9F6RZlHm8EfBoBw7BSSed1KtX1C/W0gaCACrbz372szrSrI0OPvjgOor+4he/uI5kcsTGS8CbUbDAZph1EHBlLoWzNgwB13832mijauONN26NVKo/AqAPS0/pEsQZLs2FsybyLhJImgT8/PPPr/u/MdC1cAyUc1AEXFRZ3yzbxwyD2SrO6LAEnPOnzKLyTRlEwL/0pS+NiXqHDijXb3jDG+qZiUH1iWdzZueZZ57q5S9/eSVloJ+YsdEPow8312ZL6JRhCLgIK+drzz33nKZdYcwpc7ycRaAzBBTM1HGo6Ih99tmn1keIa8ggAr7BBhvUfYaT2rYguWYqSpmIvozcclKa/bj8n2PYFQHnLCHfa665Zu2YmOWCk/6kX4V0EXDtu/LKK9dtGOe++c1v7kWs7etHwI0Bba7NzK4oN0JO98LcOOgXAdd++kjUl57jhAsyLL744nXAQhlCh5YEXNoVR6+8FpZmOsw8xWxy27VR11wnAolAOwKzDQGnyBk7Uacnn3yyRuO8886rFSllyjhECgpiKWogcoGEUHYifrvvvnslKsggikpRxKJwjG6ptBBwU+Hf+c53pkF9VALOKFF0FJ7IH7JrOrOMPE3zkD47GAPG5EUvelFttBkG0RlpCWYHHn744frqYQj49773vZ4CZzilmCDfb3nLW3pYutkNN9xQG2xGu2sR5fLM6SXgyIPIcdfCiDEWXWJqXWR/jz32qMm5qBVcRo2ATyUBX2ihhWoyoB+b0o46IOD6fVOCgIviMfyjCidmySWXrKPprm0ScI7Uueee21uk8XzqU5+qvvrVr/b2icrrM8MS1rKM2kS/RZqMT0RoUARcv+TAilY3ZRABl0JAF1jMbmnbj3/845X3QYwn+2E+TAQc9gi9stAZ+qlxHeOuWTb/e6bzYd7Vr+1/3/ve13b5mH0IuOh1zF6MOfifZzXTeGC88MIL99LmXKPOL3vZy6rddtutl3M/iICXDkvbtrHrWaVMVF/WhqLAAiEht99+ex3FjTHQRcD1W/Uvy4aY0pv0WTj0XQT8lltuqYxRs5j0toi2CDK7gjwj1aLX888//5iZxCinNRLOCXrHO95R72YDpAiyQaQfAa9PaPnDdrEn+iMZlkQbt8rPiY73LYa9tqUYuSsRmG0RmG0IuJenKFHLIYccUiubLgKuN1CUSAOluNpqq9XGUi6waX3RQwqwzG+daALOGCCljKU8dIqaU0ABM1SikEhMKMDp6cGiWiIhDEQYk0EE3HF4MNby0hER/4uqwjicmbJcSKzIi+gsh4JTIxc+CPFEpKBoh8irLJ897LYySvUoCcJ4CDhS2I8siSh1yagRcP0RwZSHH+0nYjrffPPVsw6ivsiBunmpWB/Sr/fee+/Ki3Ojytlnn123bxCXJgGP+4mQm66OcaLfMtr6MgnCKrKKyBiX+lE/UT9pG2X72O5HwBEe5EX6ACcFmSkFAX/+859fvelNb6rLAaOmGHucN3WBq8i++3FmY/ZnUH3MNrjHggsuWEcUnS99gPNvHMnzNyPTFATccZHH0rFpbnMImnVr3ms8BNx7Ghz2mB2Le2ovJDTSELoIuPMFPdQtFqkTCLxIeOxz/7byT0RfRsD1AZHnEIESeoojR7oIuL4pcBPR3rhevy/3dxHwD3zgA3V/oVc8Sz/wXCkodOcwBFz5zfwYs4TtQsCjv4yHgEuh4dRF/Ycl0dIv2YsyyDDstYFdrhOBRKCqZngCLoLHKMcyygt00cAicgiflBDEmTETRSuJWjNtwvNEY5GVIIhIucgX5eMlGnml0kNEsEYl4KIxIokireVLmKYLTSWLmCjn+9///jFpBAgIQyuaP9dcc9UvjynHeER9TDWLhIqW+nJJSD8Czmgi24ipl9dc+/Of/zwurclgk4CL1MBTXRF9L8Nuv/32tTOhLZRlIgg43KShdC1yPEWkuoRDAI9LLrmkJgfIxygEnJH+7Gc/25kuEOkDV1xxRVcR6vcEGGu5mfpDLMcee+xQKShuzDEzW2P2RD8pCav6wNx9hxHk0zS0Pk9OO+202rnQRwgiYgyIioqO6aPGHMdV3zDmRBtFwuXoi54Z10FYlUdfMHNiZqmfIGn6EFKjHxoLgyLgInzOMXY5RV5+LMc+As45QNCUoy0/nzNulkg0lD7QXzkY6kivuF9XfcxivfKVr6xf4NQv4RGOkrqK8mpr/U5aCichcoMd9xwYdaXzxH5tPciBGQ8BRxCNGwS1FJgY5+GIIeDw1c50m3GmfWw3F7NM9AFnrnnM/yXZn4i+rM1EmWEbwjFVfjqcBAFHqjnI6oMsu07faDoHUsKQ4ChrGwFHsI1l4x55NuMj3U572h8vY7u230uYQXA5cAR5Lp+NgIfuc5/Spphdifd1OEzGIOLthWLlib4WzyhtWf2w4o9+yz5pO2M8ZJhr49xcJwKJwP9HYIYn4JRWSR5E7kYRSoLxozBE3hjO008/vVZWoiFhsJoEHBGgxChL14QwGIw5giZyzFiL6JZKa5gUlLJOpbL0HMpVjmg/Z4MiFLmQb1uSiSjnoLXIydvf/vY68se4igBS7jGl2UbARWHkj3NAEAkv9MEJyWJ4GU7lamKpLJ///Odr3MLY2efciCIh/0HAGTuET+SrafS66uVeUmAQy1g4XYycaefYx2hGHZv3QqDkqnu5iEEhZ5xxxkgEvHnP8fwfEfCyj8S2fhwRx34vYZbPRYzhrr8YD7AaRZRHBFSfJJzCMvKnDaN8+pGZGV/t4UCWOcKu1X/M6iClQViRh2Hl1FNPrdvU9DkJ4tIVAZc2gJDIezVOjC3l0vd///vf1/cYlILiJH3IuwEl6XA/ud9BYrrqwynR7zi7xlCXOA8p5KxMloyHgEu9E+lvpjOJgCJy2pIgrNEPrAUXpM6U+4bdpi/aZLx9WVvR0WZgQp9rDwTcLAQJAk5nmLkRpef80Ee2QydEubxIL4XDzBJpEnB6xjjxTCTXLABnUL6+djCDoW/qk2ZR+hFwTgjn0CwNca1yhhNsDAmGcNK9RFvaFM/1Xsz//d//1WvtduSRR9Y6331ChiHRZoeMH21dyjDXlufndiKQCMwEEXBGkpKJZVCErGxU5Jiyo5ian+9DDEQCTN9Tzk3SaJ8pX9PFprwRwre+9a218kHSkL2YWmdURiXgo34FpazXeLfVydQlgyBqJmKGoCBk8tWluogEwqJJwEWy4Gj6HXlhCENEfUX0GTPT5U0snScaK0LDcQkR+YNlGPcg4Mi8ffAeNkob9yzXjFLcu9zftc0Qci4YJc9mhEWMRKsYWSSqNGzlfRi3YclFeR7Mmvm/SJpPZmqb5uKlr0gbQRgQz5iGlpfqU3ThbIyyLh2jsl62SwKOvHBckZIgkwg4J47jKUpuzCJlyAkH2vX6GILic4UcI6Sgi7A2nx//m2XRB6Uxqaf20WeNwyYBRwg4cMiCqKcoPlF+EWhkh+OoHw9DwBExEWpjxgwOxxwGxhEnjYxan/qiPn8msk/FYxA/eMENfs1FOozj5UuYosFlqkncyywWEhgRYKRM25a6Ic61hg8HrNkvvSAYfTjOn+i+rP9J2+MwhQOqHxh/4UAEAZebHeJc+lIQp6mLpAx5F0FZSUnA6Vr3od/0dUK/+eqIiDpnyzlmcvRpL6r3I+DKITCgLMRMDD0Z9pCuc1/9vp+eci3HQADF/SL6bf8gEi0gRJ+yAZ5tBipk0LVxXq4TgUTgvwjM8BHw/xZ19C1KnZGIKHfzDghgKKA20ojoII4UFcNkml0kQSRIRIISpbTl5k0EAUdkTfdS2qMsHIRhheI2ZS5yjkAhEiLfcFAnRFw0uknAGVnnRr5g83kMBKJFGHkKuow0q5tIIeMufcU2QiNiCmMSBNx07bCiPF3T86bzpV/EFH1zbao8hBFGrpFJ9Ud+EA/lHIaAm10RvRx1QbCjD0ZZ+q31SZGwqAsSGZFcqUiIVVf6Tb/9yEiXlARcn9d/EIcQmLV9B1y0D6mQK60tOB6iyOpMRiGsnotIS/kQheYAax99l9PYJODGJUfBi4lt+OqbkYo0DAFXXlFK5J8eWH/99evymAULQtdWH46U6Oko49m58YLeqP3J+f36lOg63GKht4xJxC72ye0uyZVPN3JkyhdY6Q71kk4U+A4i4JwgfafZD+mD8t6wnui+zPGiJ713gvgSwQgEPL4E1EbAnUcX0FXli6vqrB9wwmKWriTgrtMv6FTiHM/nwEXEPM6Bi2v7EXDnItnhQEQkPXTusAScntJ3RebDcaoLOICAs5XGH2dBFBwR50yEc5EEPFDMdSIwPAKzNAEfHoaqNWrbdj3yLepA8VDkFlH0/fbbr3d6pKD4xjXF6mshSCYyYGq+6zOEDAAj5qWf5kJpli+KlceH+fxYr3CNDdPLSBsFW0qTgMcxhoxDw7nptyBJYejiWkYLcRJ1UxcRpDJ/fTwEHFnmTIhaj7qEIWRYGUZ5kk1nTRR1GAIedYw1nKRJiPgzllKXRIe18bCCECEMQXBcx6j7qkzU1YuXjN9kSknA257TRcCdq18hV4hhfDs/7sGZMCYG/YCMyKMZFqkrQd7jHsN+hjDOb1sPS8Dbri33IVvSb4z3EHVW9nK82o4vBXH6msf8/6EPfShuUUdoORoIUL9FsCFmR3oXD9gQ6TYz1fbiaVxqnCinMnAySOi4mMmzr4uAG9f9dEV5rE1vRDnGu0ZwPYPDwKE24+R/6Uz6lNQ5OkTfMpNTRsA90+wQciyNKcaad0W8bC5wE9Ik4LE/1iLITf0Sx/oRcGOI/oiveHnHRKDGbJ2giBkF0e9+EXB6g5Mtb1wwqQyORBm6SDSdpd9xQuKzixw5zosXSbVZ17Vx71wnAonAtAjMNgQcUfEN8Mj3a0LRFgGPc0QNkAwKKH6IQTRP5E0EKHKf43zGSVQpUg1cI1dStEnErIuAx/Vta9OKZc5f2znj2YeAi0CJeMkplpqDJFOwlHUzGo0MIapRt6415Rx5us1yuSdSGxEYZJWSZxTkODef2by+3/8i2YwSQ2va3BSx+qkn0hoEwj0819dx4MrBaTNK4yHg0nV8M1i76wfeGZALKxrvHQa5sRG56lcXJA3WMfXNWdGHzS6Ui3pKkQhhDP3gkJclxyv6cBBDeaccJlEvn50zlS/6JRrmW8RdBBzh4ISGs9C1DqPeVlZ9SHRdBLb80aY4dxgCri+L+MVLpHFtrIcl4BxKxCc+4WkcI6YWkf1YmgQunlOutam0BpHLQaJPDyLg+kPbLMSgew9DwN1D3rA+gASKwurPCF/MvjinjYAHMevSE8399AYyGjIRfXlQKo9xSQcY620EnJ6gk6QjGo/0OCxE82NsKm8/Aq4f6xflzELUMa7tioBLvRIgcNwCI/pTfzMO1U+Zugi49Et54ZE+2BUEiLZyrxBjR5t7XoW14hYAACAASURBVPPl5Guvvba2iWygtCMOTnlt3CPXiUAi0I7AbEPAef+MeElU2iEZuzdIISInUodA+2U195EzzBgh4qIpIZQyssRwih6V0WXEa7IIOEeBMvbcNlHecvoXcWNISiMoVUBuPGLaRsBFUtSJIelavAgUBFxETpQsprcZIWkTiCnSwKAgpcogvaeNgPtiiC9YRB5vW93sC5IgTcGsgNxSn3L0Ah3jwIAyRJGjqi5eyBWhlCLTJqMScP1CZIpRElVk1EIYPvnCom5IbExdx/HmuknAnY9wSiNChKVGwYxTWUbJORnIWLyw1bzvMP+L8EXaBOykvYiCIeVyoDmE0j70tS4CjvDCItJl2ta+xNCPhCIPZgG8W9AmwxBwUWljX55tmxivIpORLtB2jn3aEsnhXOlXiDv8Lf6HCT3Rrz5x71EIOPI26IdkOEP9CDid1ZbOYmzQX8ZK23H4hnCUzPTpV5y7knw6p42A28/RpivMDPjaCwcUjlL3pL6YCRMgcY40nzKKPxF92Xhv6ir1otvlb8c4ND7bCLg6IOGCE/q6sUfXlM68c/oRcKl9/fqgvmdWNcrifqNIvxQUs5lmaY1H9eiSJgGXZuQ6aTbxqc3mtWYHzPI0r22el/8nAonAtAgkAZ8WkzF7pA+YapTL2SaRCyjiOoxMJgFHjBBZZKlN5EvHC1DIgs+ISY1hWORBmiqOtJGuFJS2+zb3lbMJDIqpW2knyC+HBYnzFj5SjcQxvhwWkZ4mAZdiInopmszodYnzGE/Et3R4yvM5IMiGCP+wMioBN1XMuRBBbhMGEIHhJPT7yo1rmwTcPlEnTotjnBmzMqLdpUwEaSnvN2i7i4APuk45jZthCGvXvSaCgHfdu7k/CHiZR1yeM0p9RiHgxqc0ETM5zZcmy/8R4JK8lmXjPJWO9rDbdMqw0kXAXS/tg/NvbOj7ov/SF4xZ+lX9jJ2mTGVf7kfAm+Vq+396CHjb/UbZ14+AD3ufNhJNX/Uj7XHvtmvjWK4TgUSgHYHZioBT9F4QlJPatUR0NOBCeBgHUZoyyug4xSQibnrOVzOGkckk4PIaEdzpITRRh4ki4HG/YdZdOeAIuqh8P+KM0DDojHvbFz0YcvnGouD9vsHdLOeoBJwjoT9I1xBxjSihvuLdAVFTkTApBYxWP0GypZyY+pVL7mU4dXBv7yK4py/SiISL5ocEaRG56urn9otIclymV2YWAg77LjyGwSIIOPLIIW/eS26+VKZhxt+oBNysSVcKzfS230Rd34+AG7tmusysNMWMmnQKuDXJ3lT25ckm4NJ2+vVB/alMv2ni1O//ySLg/Z5ZHksCXqKR24nAcAjMVgS8zN/uigAh6KWICIsWS9XwQxzy4RAbkSdGQ8qG7chnLq9t20YyXS+NgLi3HNJB4rxBOeDubWq3K/o66Bnl8RmJgIsAwrjrBaYot/QP6QHaJKbkt9lmm5qwMn6i36bcu6KEcZ9yjTiI0iLPw7YVcoakSa/Q5xAPkT99Th+SjjMM8UXAo5+6h/xTWKibz70h4t4tkC5USpCWuLZrrWxtedXlvYbZ/l8ScGkEsJZ3r/05N+Un9JRfCkoz1aqJyTBYBAFvXtv8fzIIuPQd/bctjSf2SfsqXwAdpu0m8px+BJxu4igKZoh604FSUPRpfVg6nDSNpkxlX55sAj6oD+pHZldKZ7qJR9f/Ziqk3YW9GsamNO81PSR6eq5tliP/TwRmFwRmGwIuny3eQkfkupauHDwEDDlnZOTFmf6X9yk3dVDuaL/OZApd7uUgkf+MFPd7lvJ5IbQZRRp077bjDB8iM56IjOlmxLUrFaTtefYhxqJ8ImIh7uHXKJvfyo7jzbX286UZX4TwgqC20mbSV7ytPz0ybFvFM+SXmiHxuTMk2QtNzVmUOLdtLcotLxQGpVH2PyIuwt7llCATXX089hsPxsX0CuKr3fr1zbZnIAsc0X6fQGy7rmufOruXsVoKcoAARr3b1sNi4aXDtuvLfYPeVVA2Y9Q18Rm3srzNbWUf5mVW/aw5g9e812T+7yVus0v9HFx11ld8dUSdnC+/uF/fmaq+rAzG+Hj1hHFpnJf6K/Aepg/CpnypNa4ddT2qnor765OcVcuoMj3XjvqsPD8RmFUQmG0I+KzSYFmPRCARSAQSgUQgEUgEEoGZG4Ek4DN3+2XpE4FEIBFIBBKBRCARSARmMgSSgM9kDZbFTQQSgUQgEUgEEoFEIBGYuRFIAj5zt1+WPhFIBBKBRCARSAQSgURgJkMgCfhM1mBZ3EQgEUgEEoFEIBFIBBKBmRuBJOAzd/tl6ROBRCARSAQSgUQgEUgEZjIEkoDPZA2WxU0EEoFEIBFIBBKBRCARmLkRSAI+c7dflj4RSAQSgUQgEUgEEoFEYCZDIAn4TNZgWdxEIBFIBBKBRCARSAQSgZkbgSTgM3f7ZekTgUQgEUgEEoFEIBFIBGYyBJKAj7PB/OR518/Wj/OWfS/zU7/PPfdc5ee7Z3RRxgceeKC66qqr6p9L//73v1/5aftZQdTNz8lrjxlN/Fy9PvLHP/5xzFL+zLftJ554oq7DeMqvz0/Ez9eP59lTdY2fDdfG0yvTg5X+pQwTMd61+UTUJ/BQr6uvvrq68MILe8vll19e+Sn2lEQgEUgEEoHhEJhtCPizzz5b/fCHP6zuvPPO6ne/+91w6PznLMTm4osvrs4777yKMfvb3/5WbbXVVtUb3vCGTiLWvGakB7acfN9991VLLLFEdfbZZ7ccnTF2IS6f/vSnqxe+8IXVHHPMMWZZZJFFqoMOOmgg9ojHTTfdVO25557Vq1/96mq33Xarvv3tb4/B+Z577qmWXHLJ6vzzz5/yip955pnV0ksvXf34xz/uPRvpfdvb3la94hWvaF1e/vKXV+utt171jW98o3dN18bjjz9effCDH6yOOOKIvotywLuU2267rVp00UXH4K4dyuc+9NBDdfm/8IUvlJfW+P7kJz+pbr/99jHO0u9///vqTW96U3X66afXpP6Vr3xl3TZjLp6gfyZ6zLQVy9j/7ne/W/36178ec/jEE0+s9tprr7qOxx9/fLXSSiuNOV7+c+6557a2zVFHHVU9+OCD9akczs0226x64xvfWF7a26ZHjOk77rijlRx3tVPvBsUGh4huu/XWW6unnnqqOPL/Ny+77LJqmWWWGbMfid5///1b+6t+HH22Td/88pe/rFZcccUx/Yxuuvfee3vPOPXUU6s11lijcm5KIpAIJAKJwLQIzPIEHPFG/J7//Of3DMbcc89dbb755tUjjzwyLSItexjrlVdeuVp22WWrn/3sZ0MR8OY1LbcdadfMQMA/9rGPVfPOO2+188471yQa2RGNvfvuu6tDDz20WmCBBapdd921M4KKfJ900knV/PPPX22yySbVu971ruo1r3lNNd9881Uf/vCHKwSNuN8LXvCC6pvf/OY0GCIM2rbfssUWW1Q33HBD71pkadNNN+31j9J5WH311asnn3yyd24bAUeAPvvZz1ZHH310vRxzzDHV+9///upDH/pQ9da3vrXGZMMNN5yG9PVuWmxoZ+XrIvP2qzsHEIkqRV9Xr2uuuWbM8pvf/KZ3Whux41Bqn3nmmafGYLXVVqsxdpG6wwC51JaTScAnesz0Kv2fDU704osvXteRPtBmMZOBjG6wwQYVh2MQAeeQcCidH+205ppr1v0b2SX9CLg2dt2cc85ZlwU5Lp0k17e103+q0Vspu+fRTdFnn/e851Uf+MAHxpD6NgLOefv85z/f67Nl34XFwgsvXDuNpaOin5vN4sB0LY477+STT65WWGGFikOZkggkAolAIjAtArM0AUfYDjnkkDoq+PGPf7x69NFHa4Nw5ZVXVjvttFM9jTotJNPuEa36+te/Xn31q1+tp4SHiYA3r3HX66+/vo7oPvbYY9M+ZMCeGZ2AI38bbbRRtfHGG7dORWuLd77zndVSSy1Vp6e0VVdk2/H3vOc99UyDc1wnIox0is6SfgTc1DiHq2sRWUdSLrrool4RPAOhuPTSS8csZjiGIeC9GxUbpvxPO+202mnbfvvtJywSqKw77LBD9brXva6XnsApNFPw2te+tnNRBtHWNmJ3wQUX1MT0K1/5SnX//ffXbeheSORUEvC2MVNAOl2biCDH4h3veEetB/Sx5ZZbrhe1HZWAc5LgEwJbszKDCLgINfKNsItYm3XglOrf/g9pa6c4FmuzecbLjjvuWP3gBz+o6/WRj3ykJs/WIW0EPI4116LYxvEqq6xSk+3yuLJyFoLst61h+tOf/jQJeAlcbicCiUAi0ILALE3ARWDXXnvtmrAw7hMlwxDwtmchOKZqkZxRZUYn4PI/Ra0RcGS8KUHAGXDkok1EtEUWkeFSgnB/7nOfq3fH/wsttFBNXBCYYXNlReiQFvnpg+Td7373yAT84YcfriOoL37xi+tIPrJ/wAEH1OkGg543zHF9b+utt65233333unI5cEHH1zts88+nQviycFpEjvt4l4loeRsIpPSGqaSgPcqNAkb+pZ213cIZ1wahUgtmSwCbvYGuUb+pS1x4kWXzVKEyMnn6Gk/7UGa7RTnlmttKvqtLiH0nHQoBNp9yTAE/Be/+EUdrNBfla90UOPeykan/va3v630c/1EYOPLX/5yPZto/9NPP13XISPggVquE4FEIBFoR2CWJuBIoWiTXOJBLyExXF4q2mabbeocZgZRxJbRNNUrt/mUU07pjIAzTl/84hdrIvTzn/98zDWiXqbwpVNIr5CiwdiWRri9ef67t4uAI1+MIJL3vve9r44Sx7S6q00Hf+1rX6sj/uuvv36duiA/s4zeicxLQUBOEDn5n9JJ1Olb3/pWZcZA+gFDe+CBB9bpFchcUz7zmc/U6SKip6LJSIRo2I033lhHHtV97733rlN4mtf6HylGqrVDKZ4vZSD2BwHXPlJCHA/iUl7Xtq2ucribJL/t3GEIuPxvU/nqJedVCg4nhLPFEVEnucCI2Mte9rLqsMMOGzr1qa1M+rQIpfs0xTF9FJkWYZWmoq31fWRMmgNiJE88csCfeeaZur21ewh8kVWR8VEJuP6G7JqBQGo93z1CRhlnnCrpIPqiaK9xY1waz5wxaRTOUWfnNVNypJMceeSRdT2kBXHGI0da/4fTHnvsURdtsgi4NBV9FPGGtXH/0pe+tFeOwGXfffcds38QAYczR0wdmvU281LmZLcRcDoC6dYnRNClh3FI4EgH6sf6zznnnFOVKUyu8z7AYostVknlQ9bnmmuu2mFTxxD9zJiVrqPOdEBKIpAIJAKJwH8RmOEJOBLzq1/9qreUOYn/rUb31nHHHVcbE0aAwWkTpAB5ZXS8LCeH8r3vfW+d78qAI3evf/3ra4MkAtmMgDNKiIaooRe0SHmNMiOL7o2IyU+WEoCkDittBBwhldOKLMlhFvVCcr1QFoQUMfdCmSl3htn/SO5HP/rR3qOVnbEUtUUY9ttvvzoXO+qJMHBkPAf5QWA9FykqBY4MNqLDKJdT1KamtQUi3yXaGjarrrpq/fUU7Y7AIrZIregbCQLelgPede/YD3NReF9pCVFu2DTTVtZdd92BEXAkUH95y1veUnFAEKfSAfIM/5v1kMcuOjlqH45yWiNDoqmf/OQny921Q7XLLrvUMwicAc+SbqOtzRDIf0aaFlxwwTr3OAi4ssBbvnqIiOryyy9fp2h4lj47TA64/qJ+CL6o+pvf/Oa6rNoPCR/vONN3lAdZlo7EAUH+kEXyiU98oq5bsz9eccUV9X4v8SK4ruOkEG2C0MNH+WAzSg648Sbiqz9bvDg8KAVFX9l2221rPdIkzeqijhHNHkTAjW/tqo+KOpdCl8m/5vySJgFH3qUsyUHXHxBt7054J8bYUrbrrruufskcMdee3/nOd+p7SVGhB+iIeK621dfKZyLgrnVvum6YGaeyDrmdCCQCicCsjsAMT8CRiZLIIZijiOifaCESYXrV/Ri3Um655ZaauDBKJUEUXUMCSzLdJOCOnXXWWTVZKb/K0bzG87pSUJAKBLdtYTxJk4D72oKvjXjJL1I+GHhEiYGUPkCQkiAd/g/DLSobJAABh7FoVRkZDwLOUCM/IorErMCLXvSiOhpe72j5g5wog5QPOe+eO4yYPeDsIFjKhMiL9JnyDhmWgHu+aJ6vg4SIRnJUShIc9eRUwKV8gVN/EbkMaXsJM45NxZrj4GXgmA2IZ8JZ1FM0vhRty2GKtCdtxwEJAq5/v+QlL+mRWddyVPUt7cABRSyHIeDaGQnzQl+IMXTttdfWfXC844xjfMYZZ/QcG2NUn+BY6i+Io+ciniEINpKIVGs/7fiqV72q/kxjnKO/q3uMv1EIeKmTYls5Y7waR82voCC+COl22203zRdsOBHaNUjzIAKuDr7KJAJtBoBzQ+SiG5v0An1AmgTcPriZBTKDE9J0Auw3Y+C8uNfNN99cOytN59fsn/4nF51kCkqgmutEIBFIBNoRmOEJONInzSKWrih2e/X+uxeBffvb315HvER7TzjhhJ5RQRjkad51113/vaDYapLpIGxe0pPeYeq2Gc1uXuN2XQScMYuvEDTXUaYmARflRpLCYEdxnYcwIYqlMLSMo7xNBFNUOyJYSJpIYES54rqoZzPPNOommseQK4vo9qhLOAnxvFgjT14sVB7kyv+l2OfZ0kn6iWlvkc0y+ibVwJc8SuIR9USMEMZ+UhJwL4W2ffYvCFm/dZMoi6BKJyjJf9s2kojoiXw6bmaFBAHnDJYiKo+A658IlpeStXUQcATLjEVJmoOkSykYJQXFWJXmhHi2fX5uvOPMPcP5i7pxdo1jaVz6o8h7mdrBwRK9/7//+7/6ErMbUqvCmdLOHAxj2PWjpKD86Ec/GvOVmfjqjEh7pLggxL6NLZIc4jmi7vpf6eg77rOTxlnkbQ9DwBF6M1uCEmavpDiJOnsXw/gJaSPgcaxctxHw8rht+HF+OKtmFTk9yL5x5pOLkeqXBLyJXP6fCCQCicBYBGZ4Aj62uNP/H3LBgCAx0g6QO1P3ZX5o8ylBOEWvkLUgbCKJCBjDXuZJur55jX1dBLz5vLb/mwRc9E50WFS/XCLFIFIKRMDVl5EWyRYxYyzVN1I6EHDRN185KCXq2UZMTTkz9N/73vcqn9gzjT/qIse4TWCJOIrs9Vu0ZT9pEnARf6RV2UvpV8/yPNslAUdG5J8jt6MuHMpSOCPysJtpMIihFAxR++Yx/3N+iIgrAqQ/SrdApnzXWntLVfB1GARNxNfnBoOAR1TWOfos4diIZlqPQsBdK1oqT1sf8xnJ+C729IwzOcpNJ8xz1E3KE0F0PdM7C+SSSy6p+7TZEqKPc1gjxUPf58Qcfvjh9fFRCHh9QccfkfoYjxzhplPLIaA3YkbCbZBWKS30S8xKDUPAXQsXMzycX7MUnPlyFss5JQHnqOlPUcZyTSdGWkq5P7a9A0L0exF7X+KRVqfcdGnpVCQBr6HKP4lAIpAIdCIw2xFwSIjOxctcIqGiUuuss04vetVEq0mmg7CZ9vYCJIMqRaM0fM1r3HOiCDiji5SIeomkyjtvLnI1GXFllD8tHzYi3shZk4AzymXUTHmjnvBpipxnBLw0us1zxvu/FzzXWmutmjAhTc2FsyBFpTkN3nxek4AjXXD70pe+NObUqGeboxEnalvpGiUBj2PaQ8QVfv0WpHtQhD3uGWv4iph2/aBLnGct1Qjx4WRwhrbccsv65eGISjqnjdjpD9I5zCyI3HIEjA91GpWAe4bnIfgILvKGdMJ4vOOMc9AU3zsXyZfbTgInzhWMRWe9DMzBIFIzpGYZg8R4MOsVKSOjEnCOF4wi5aK+6X/Ss2Is6p/wK4WjpRwwjrQOs1KciXLWqq2dyvuMsl0ScGPA7EGUcZR1c7atXxk4x55b6sR+5+exRCARSARmNwRmSwIekVAEwdS2r12I+LV92UOHaJLpIGzxS5iMGDIglzSiiM1r3GeiCLh7iX4i11JAukQUWVSwSRJ8vmyiCTgyIa1HJGyyhXNhCnxUAt5VrmhPeMoVRt44GGZGRCZFjUUH7W8j4BHB7Jdy4hgnZxQSo7xBLIch4F31K/e3ETtRYYTdl1PkzEvt8NUfMh4CHs9DhM3E+LSk3OHxjrOYeYr7WvsKSvOTlfoeZ03UWfpJ6Wjpn1LQ9BvjVlqOlwPDORmVgMeP+sS36RFNjkLTWfR/zFIoN2fNrI6ZKg6sKDK89bXSmW1rp6g/J8nsREmevUQpD9uY94K1lBZ92ViXSiRIUAr9xAmxKNOo4tlyzaXfWThwsQgMWDiOnNaURCARSAQSgWkRmKUJOHIq57UZhUK0RVG9dMmYmZ5nEOUyhkEGFaPt5b8mmQ7CFgTcPfzyIUMaU+LNa9yP0UIAEMhRpZmCwnCKLnqu55ciCisa6lclEfDy6xCRXjDRBBwBkcMsNWZ6RV37pbXIlZVGURJwufLNNBA/RqJNkMDmsfhfKgCiKJc1fshGJFykHAlHZBA7OdoIUj8Cjkxp27bFZ/CmgoBLI0ImyzYv20O/8PJeM93I/6KyxoRP00WfGoWAewlTFL0U35OW/oSwjnecSasp8/iROnnhzdxw/R4J9ENFvuwS6SZRHrNdZqw4M6LyMSPk+PQScCTW86XCuBdyT/dwBprpac51nlQheJstaEaK+xFwAQR9LVJDOP8wElmPXHCzIL5E4xOO2rNJwOk2/dx9Rp2VgZdUG1F7ef1mXSz0jedZ5NdzaJupVtEWuU4EEoFEYHZHYJYm4FJNkDW5mIyRr6FYI8GiN5EfilAzmtIavMjlm9hebvJVElHPJpluEnCdCHFn2BlBv2jXvMY5jDGj5QVC+bGWyPkc1BGbBFwZfOVBZBbxRSiOPfbY2qCKuiGWpt3VVYRK/ZBKjofI/4xMwJWb4yCtp9+LneWnBEUfB0Wg246Lyo4i/Qi4z+51icjkVBBw+cCwK7/I01WmYfaPQsA5RMg2Ymc2SE4yEib33MuF4x1nyKUZKiksothIpn2R7x31QGyNCe2M3I4S2Z1eAq4MsPKSrO/9+3oMB0H0vvwKUZR10LofAR90bfN4mYISxyaCgCP1Xe9hZA54IJ3rRCARSATaEZilCbgqi8ohpwhafBbMFHC8gBiwMEimapFZpMEUtnxSRJYhd8wUr8igxXZEu+Mecmbl05r6RjbKa5zjGX7EwkuRpvrjfnF9vzXj7t7hNDjXM3z1wre5fUNYmZEfEa+IaoncIoZSKXwpwktYDLJ7RbQfaTNt3fzSRNRT5L4pCB4yqgwkIuAIhxfkuhYvbTaxb94bAZefK5LWdR/7u4x/834T+X8/Aq5Nu8rrZb+pJODat6ss9iN4w8goBNwMgdQVfcBLo/L4Edsy7WaUcaZvuZeItpxrDi5yi4TH14GadXAeci7aPoqMh4B7jv4gOi+KLQ2Esxs/KW+WRUReZHxUmSoCLg1GelC/vuKTok0RAefcc7raro0UuYyAN5HL/xOBRCAR+P8IzPIEPBt6ahAIAt4WZS73+cpCmTrSVjoEHLkpr2vbbns5r+1+E7mvHwFvK2O5b6oI+DDYSREYRqRpSKfw1YvIR29+RWaY+4znnCDgkeo1zD2kZDVTU4a5zg8X6U+i1ZwXxLmfSKmRBqV9zZxpW06plBLbHF4zb345NpzUfvdrHpsqAl72z67tMpc+yomAd50f+zMFJdDKdSKQCCQC0yKQBHxaTHLPOBFA1uTn9lvMEsSXKboeI3ovb7bffRyLbzp33Wcy9suVltdcvjBnhmSYuosmS00aRdzbjMGwdR0Wu+ZsxzBlcm/fujaLMRUyKgGPrxtJf5geMeslet1P9GF9FI6i+iFmjUTnfQbRuwCjtnfchyOgn5WzB3Fs1LX0H/dqirIPGmOOt6XJcbgHXTue/t4sY/6fCCQCicCsikAS8Fm1ZbNeicBMjsCwBFxa1ac+9an6ly69t9GWMjGTQ5HFTwQSgUQgEZjFEEgCPos1aFYnEZhVEBBx93Ua73D0Ez8Q41v3Xmoe7y/l9rt/HksEEoFEIBFIBCYagSTgE41o3i8RSAQSgUQgEUgEEoFEIBHog0AS8D7g5KFEIBFIBBKBRCARSAQSgURgohFIAj7RiOb9EoFEIBFIBBKBRCARSAQSgT4IJAHvA04eSgQSgUQgEUgEEoFEIBFIBCYagSTgE41o3i8RSAQSgUQgEUgEEoFEIBHog0AS8D7g5KFEIBFIBBKBRCARSAQSgURgohFIAj7RiOb9EoFEIBFIBBKBRCARSAQSgT4IJAHvA07bIb8K1/bLcG3ndu3z63jPPfdc5VfzxiO+j/ynP/2p8iuJkyHqd/XVV1cXXnhhb7n88svrn+meqOepOwz6iXL4xclY2n7SGwZ+NbDtWL97OzYIR/f++c9/Xl133XXVt771rer666+vHn/88UnDvau8fnXxnnvuqa688srqsssuq7773e/Wv47Zdf4w+/VBv7A56FdJh7nXjHZOs9/oP816PvXUU5VlVHHNY489Nu5fuFQ2y0SIOjXv1Vb38pc6p1f3NMttHNNFkyXGaIx/a7/A2Sb2D9InbdcZ48rvOSkzLwL6tfEQ7fmDH/xg6F8PLms9yCaU5za3xzu22a6uft18xoz4v3r7xd7x1kHbGYPj5UOBiXLgAvpAl2hfv3R81VVXVTiNH3GbTP3VVY7YP9sQcMr79ttvr4lMaZACiFj7Oetbb721/pnl2Bdr12233XbV6173utg1Zv3ss89WH/nIR6ojjjhimuVjH/tY7+fL77777uoFL3hB9c1vfnPM9fEPQ3LbbbdVDzzwQKuhP/PMM6ull166+vGPfxyXTOgaBiuuuGI1xxxz9JYlllii/mnteNCpp55arbHGGpVzSzEIb7rppuqaa65pXfx8NfnGN75RLb744uWlY7YNyte//vW95yvLidY0lAAAIABJREFUu9/97vocP2fvFw/PPffcup1WXnnl+pcQHTQI/SpiWxtcfPHFY57RhaNnaxv1m3POOceUYa655qpe9rKX1YO330AvH0TBHnTQQXWZlTuWN7zhDX1/tRFBPvjgg6vFFltsTBlgMe+881avfe1rqx/96Eflo6qf/OQn9Y/XNOt/+OGHV5/4xCd6hO2hhx6q+9AXvvCFMdeX/6gfB+Tmm2+u7rjjjgl1wMrnTOQ2BbzJJptMg9cuu+zSe0zXOG4bvx/60IfG6IL3vOc91VprrdW33XoPamx0PbdxWv2vPsNAHHfccdXxxx9f3XjjjdPoAnXaYostepe7Zquttpqm7sZDyCDdE+dZ/+xnP6ve//73jxlLH//4x8cYLA7hMsssU17Wuk3/+oVSY2sU+dKXvjSmPsaecUH233//6i1veUtNnvfaa6+67nFvzmpzDPj/lFNOGUPUhxkHcc/xrNWX3jnvvPOmm2CM5/mzyzX09VJLLVVpT7qKzmzq+2Gw6LIJg64dZWw37zWsTqHbTjjhhNZ+rW/T8fTV008/3XzEmP/xBvX8wAc+UOsWwaV+zis72xxLbEII3QRvNn9YEVBabrnl6jaanvYqn9cPRyTbD7otu+yyY/QJW7rwwgtXb3/728fo+fK+k7k9yxNwJALJQHiDUK6++up1FLEEVuem0BEb580333zVIYccMsbYDBpkyOgKK6xQvfCFL+yRLGTLvlVWWaX6zW9+Uz+yywgq61e/+tVqySWXrMuA/L3yla+chmgPoyRE6Xbeeedq8803H7jccMMNdblEEHiEIqxdi+POO/nkk+t6iQiX8vDDD9fELrBurhlU0o+AP/HEE/XzP/vZz9YEBAmxfOUrX6nLh2TCFA4IfUnAGfq3vvWtY/Bff/31q+c973l1+xqIn/nMZ+r77bDDDq2OzKWXXlotuOCCNW4MuXZTZ+UyK7DBBhtUiyyySE2Kyrp3bfO6v/jFL1ZHH330mIVTpt+1ib6GXCy00EK1ouS1qxsH49FHH63OOOOMGoN11lmn4pCEaJ/XvOY1vfpvtNFG9fb8889fqW9E+voRD5GIr3/969M4IAsssEC1xx571MQsnleu9QXt0mzz5v+HHnpoedk02+q+zTbbDLyP+3JiSkdI2e+8885pnD8KP6RrHD/55JM1RuEgWSO0paPbpuRFf3bcccdpxtmmm25abbnllnWf9eyu50a5Yg1H19JFL3nJS2pn2Pab3vSmMVG9JgGHw1133TVN3csx2qV74tnl+oc//GFdjhKP3XfffUwZhiXgyMGLX/ziegyVz+jaRggYZuMtxr81J/I73/lOpa3gISAC1yYBP+2003pjIMrP+K655pr1tcrtfhxcY6yfI9pVxmH2G5v0k2dzaFLGh4Bfu+2yZZ/73OfqgEk/As4JbbuertSPgrQ2bWvX2HadMR82vW1s66cc5OZzXbvrrrv2HMk2ndKGktm3nXbaaZp+LeCw3nrrVXPPPXddJraqTTiue++9d61Xnv/851d4EH09zzzzVMsvv3yNYalL4x5+jTjGUKy/9rWvxeHaDjYJODt7wAEHjKk7nSZoxH7TQwJwF1xwwUgOE/3mWWeddVbv+bHRhSMnWPAOp3vnO99ZP+/3v/997XSwqwIc7qmt2NiplFmegEsfWHTRRat3vOMd9TSJBnzVq15Vd74wTBrove99b+0JIX2IFkWvk1LS0SnbBlnZWEHARVlK0cDDEHApDsqKeIk88iwZYOV95plnerdsKonegWKDYjjmmGPqDkfBcC5EYS0HHnhg9eY3v7k2Wv43XUcMDNGsJmEq/+e1UkqDCDiSqzM3lyCA/Qg4vMpnltsi/3DpIuAFBL1Ngw0JhwElxGiLbqtL20wCowyHknj1blZV9UwKAn7ssceWu6fZNouhLwyziNZEP3Mjyha5NtsSmDUfwKNXDs5SPxFJ1ZeR9pB+BPyTn/xk7YC88Y1vrNNv/Ly72RhjA4miuPWVpnAOrr322ooD07acc8451UorrVQNIuBwMFuFfCFSIjDl/c4+++zq9NNPry666KKabCuH6K/+TsH3WxjiQeO4Wa/y/zYlT19wrmJ86T+HHXZYPYPDyDA2ZJjnamtk8kUvelH1ve99r74OHvqHe334wx/uFScIuOP0VL96O0a/DEPAkUbjt1+/pYPopGEIOP2622671WPQWBxGIipWjv1yG2HuR8DbnkHHBwH/4Ac/WOsA+pVzM1kEPJxZgZWucdxW1tw3FgGBkH333bfiAL7rXe+qxxqCx5bRDYMi4GYgYnxaC65xCtddd926X4Z9bdrWtrHtOrNga6+9di+NrW1sG2t0QTw3nuk6RNaMG2nTKWNr3/8/+hm55eg9+OCDrSfTj3iFQOTnP//5MSmbHEO6XiRYasao0hYBZwtwBHWHAQK89dZb10RfcHC8BDz0V+kARHm7cGRLX/rSl1bbb7995xjEOehXQYeplFmagFN+OpaIZan4gSylAskmCKWotQESJIjRMC2BOOvgpG2Q1Qf+82dUAi7yYkDwhqVuWCNdpmpDLrnkkjpCg2yENJVE7G9bn3/++XXHCpLtHFi8/OUvrxVZeY06I6ieL5ItCmrKWfThkUceqfeLFDhvEAE3yPtJPwJu8CqDgYqESXcxTQZf5bO/i4C7lscOy1hEKni4CLjjlDUMEZ02As4YixjrD54Vom8g5SLsjsO2nyCy+tUwyz777DNmipqx5q2LxDM4iO19991XT7Hecsst9XSasuvbZX9plodhoZy1N+yQMHVH5JD3JvHg+CHJsKG0myLC7rmU6qji+RThIAIe9xXp5yRp/1KkeSkj4xhibJ500kkVHPstZmCa41gUxDg3FruWIMRdSj7KUa6lbyB80T7N55bnxrbILgfHlG8pxlzMaEWuZUnAP/3pT/etN0wQ+jBgxkCXOAfB6Ndv9Sd9ZRgCTn+uttpq9ZgtZyK6nm8/3a2/CCSYoeNwIbEcR3iK8vUj4AhXjP9YwzUIuCl044DhFfRojoN+Zctj/xsE6FP9SJ9gC4xJtokMIuBtJaZjBTjMoulvZBjbanZGFNt4jOuGGdvub+yKtJpJDK4xik4p6+HZIsh0ob4tuNgl7D/dduKJJ7aewunmGNApcDG+2M0ufRj7jZ82At72EEEC/Ma4Hi8BN6uAKF9xxRXTPKILR5ibUV111VXHpNHGDegTQTnOeARl49hkr2dpAs5A8woRslKQMIMgPCIeNDLy7W9/uzyt9qwp59g/aJCNSsARLAOed+9aJKBJTgwMHafcP4ySiIog8JwNEaWQ8AiPPPLI2NVbUwqMHcJqSotXLO9ZWgwDGIKAi6oygoy7QUgiBcWMg8hlc4ly9CPg7sOTR9Y823OsEUltGjhTAqbOTKFFnquUjg033LCetg/DG2tG1mDbeOON63xBdWsj4JSP/DgOkjQga1PI0lj8DxuKTH8YVjgwDIiIDUeA4oIFYtUl6iKnTz5+Mxdd3U0n9pvWRqARZdhJdyH77bdfXXdKzP4m8ZDHBxcOT5vEGDAr05yu49ghjl0EmNFR7rIvtz0j9kU7cwJLocjLGaXyGDwpZ8aRspeCw5GCk3Y1G6Afi3zFuxycSulNxlXXgrgbi11KviyDbdjASMQu2jiwi+c2r/F/OCnGTxho+5VdOoxIdjhGQcDjPp6jfurOmKq//saRCRmGgMe5no+0m2lxH2uzOmW5BhFw52ov/U156N2Y7o/ndK1NY4t6Gt/Gnki1mamI0tE90qI4CnQEfELMTtlHx8f4tzYzIfJoLWWhaxzEfayluZkNoK9FP81GaI8QREiggJFXFmTIuZx19eccuR6xsRj7xqNUKW3l/Fe/+tWVVAp9RL/XZ+nupnCAOeT9pF95OUMwNTOsz0tx9Hx9ybtPIcpNP9EX9Kk0B7qk7Et0sX3uZXZMf9cmBD5IsQgofceJ5lyWon0FeegDi/PZ5i4xK8OeG4fqIQhjNoyMh4ALrtCtH/3oR3uPHMa2ajf9ptSdw4xtD2HX2BJ4hQyrU+J8GAn+aDtjg522bV/ZL+N8axwDx4mxUx6zTXdwRLQzu6NP0yVd+jD2w2IYAu5+0mfC8RgvAddfcBHXN6UfjoKu+IQ0FLMPdAHdvNlmm9X2HQ8YFFBrPm8i/p/hCThlSaHEYvANK+H1IXtNoVgYYaTBYGi+ZOh8CgjZiumOQYMsCIMBXaZeMAYlYWgzggamjhVEMsrL2zYoKOqQYZREnIuMqFuZpiCCQOkyjE259957a8MEnzCUFOeee+5ZKzyzBQQBZ/wYPUYuBjaiySNnMEVvkTyG0/+WMB79CDjlLwIrry1SHXj30h8Q48DZIEJQKcPALQi46bY20d4iydpyEI7O9TUY57m/qD5j0ySebc+JfRQb4wsLBl/kxFQcjChPxpAhCnG+Ni/7j23GAgYUHsNuXDTPYdxDRL6ROJhTOBRM+VJSVwqKCDkC3qWMwnmluMpye652EZWS3qNPdC1t+XtR7nJtzDO4zaiNyLJnRGS5vEZb6Zdyr407REu/YWi9HKxPwQT2bUQYCUEinKf8DJc2Cemn5OMca/2E7hChChmkP5yn7+vTrjXGEB5jirPMgAbhcG6TgCMozbrrZ3RPjKPQPcgLDBHFst9EWe076qij6rHrengKBBjL0m0YVNKPgKsLkieIgXSqhwgmQx+6JZ7XtjbrZ2zDUBu4xphHCPV/7aQOyKyIfJOA6zvlLEk8A0mhbzk7XeMgzuW40ZXqbjzpE8qEVBI4CPDARZ+hn6S6IETaTLm9TK5sHCeLbTM7ggcIiXQYjiIiBScRO+cgtHRBCDw9F5HokkHlpfvYA3XiLOjPyK/y2M/BIvS5/6Uq0n3KZRwZ96H/ynvpT29729tq/a6OtrU7kuMe2l1bBQk3e0Iv6a/aU/shRxzMrr5hbOvP2lSkEn5hmxFwY1oUUzm1R+i7KI/nW2I2xvMEBMrZ4UE2QXtqA2OinB0dZmzDFTeAlUBViDZQLpjAVnmboq+ymYIbnFA6jI00o2QGzzYbg9zrU9L9SmeG7VDXCMQ0748TcJCR5KY+oIcFVrSXPkkvlf1yGAKubmyDrALOKpvIzoyaA44/aDft3ZRBOOJCnHLjkR6x6Jv0aumENe87mf/P8ARclK/M/TP1P6wwuAxZkMPyOorSIELoKRgEhTIuReembBkRMmiQBTEsyxvbnqWTkzCCZSfyNQvPEgUpJQiPF+iCCAxSEuX1IpqIffnWsgFFURlITXEezMqyOcdLhBRyKCvXUiT9pmwcc05b5+5HwMNIyfELUXfGjyMQOMMhSFqTgCsrhUGx+3ICY8wgiCRTdshbiSOjx8C6ZtRFflsQkihvrClaSpHi8IwQ54sKUQilgyj3WTmj34yy5iAw0oyoOlBw6qgPUaAi+UgVJ6WLeBgP8EEAIi8yymyNcLkv0tCUIODe1J8IiXQMxr8UBIexYJRKYRQ4OAheacSMLeMbQSUMDCXcJOCMFsNmhkSkEwb0DWMRQskzdMgWjNtSrTgm7u04Jy5kkP6I89RDO+kb0f50g5Q59wgpCTjDjcQxKuU5SJK6x/gI3eM8DrgZqtArcV9rRp3DSE9G37bW7va7L+ki4PqCPg8rBC8icxxIzpDgR+S4l88tt7VXpIzEfjMRCBYShoB3vYTJ+dJ2nqMdtBfSCQtEzTF2oWscxPMQPAba1HeIGUQOFpEO5rgc9yCm9utjdBNs2wg4guidDOOVuDYcc2RFPenhUm8bm+rAAeqSQeUN0owMlV9QQtAQO+SNIJfhtMWz9BVtrw+RuBdS7B2RENfS+2U54SGNju7RFyLyL+ATItiBJJbjLY5Zs0Huq29FelrYKWvjRURe8Mg4DgKu33Jcpd2xRfqVoBsCz56U46W0CeWzYzvIJj1QyjBjW/CK3UXgyzHnXjHOrem3puAi+j2dxG602V24m20xy4ToljoQ5sYLu9h8HwGeHCX4NWc+9QHOJ9yNZ0Sffdp22217/R0mrtU3jTXOVzM4YxZTMK6sJ1s8CgE3ntimCPw1nzEIRwTcmFLeEHVvzoLEsalYz/AEnAHT2WKJfOxhwJE6AvBIISmvMZ0KeIqc4XUe8lOKhqJcYyAPGmQ6OYWJ9DYXkbUYEDx8pL5MH6B0KQTlKkX9GRF5xyGDlITzlN3b166N6Ey8jS06oxMbWPZFLrzrkC6GgMHnbYvueDZ85NNHp58eAs7omEryjC5h6IM4MHbIgjKY9jNoKAQ4NAk4jClXyt9Lea6j0J3L82Y8gggzKMg57F3nHNeNumjLUqGWdUKGGZUwFOWxcPBK/BkoOa/Rfxgd9WZYYp/zkWAGJfZZ62OIn/amCMv+zACqH2cMoRUBhG85jRpl4xAg60iutBlERUScQ0TRioK0zURpF4bdeV1f0bE/vqQTz2uujXVjoVTWXdulYxsEXBSnNKpBQkV/pFchZ4xFScCRfXnPjFSQRYabc6WvxQu5lDwMkUr9JIhY1EHfZmwiuhP7rQfpj/Jc2xwMbaodS3IX5w1DwBFp7cwwkyDgbf0x7mutjYzP5myF/mi/46RJwI0jOkP/gZM+p+9pU2QXptb0jn6KQPu/TdQdYUBY9G8kSrshb0Eougi4dgkdQJeYRYkXeunomD1BMOgA+qhNBHEQDn0m+kV5nmcY3whsm3QRcC+Fl86Za40x40tdjSX6WT8LQY4Q4HJcx7FYDypvkOYmyVNO0UBjoBRtZ+ZCOoK0GFiYJSNxL85iKeqlfqLl6tEUWAURLI/pOwimKHg5fuMc7U8v6Etsp6h9zNTpz7DRl2LmOux2XB9r7bjvvvvW41odStFfjZcY7+UxOo9eFYE1e1A6D4PGtiAIfOlHurcUOgUXURdtD+82MXamR+g4jjcH1NgUnDKeOKP+l0/ftGNIt7KVEXv2gH7jJBJcw/9IvPHA/mrLEPURANNPwuGkh+iRUQi48aucgpT6geeU0sSR02zc4wAWzpaAAF4T+1zDvup3sc96ql7GnOEJeAnwqNsaALimkZuCnMULHRSa8xjnUhhsDR4DbdAgK69tbuuQIrg884iylQqYgZVqUuZ4ukek0YQBta+fkojn6kDx9rW1HE4etGgsg1YeaxpjJBzJQ1BEjnROnb8kAW0EHHFEdmMRPYMrkoS0mTr1fFEtEbl+BFwZQuHzlLWDgUGR9SPgUX9rClPb9Vsow1JZuI5x7ndNHCvbr3xuue0cEVWKVxsiFcgLY0IBMiLu1yWRU18qG1E3uHp3oRT18CKiKFizTnGeujFA7suIhBKN47EWnRRJpliRX9ELSlR6RFe9g4B3keXYz8CVCj2eGWttHF9TET1ERBAk9aWw9SORbv8jA2VdKWdKlhOpv1Cwys2IwN79RFEQxJKAI6r6WNMhiahJfKrT/ZCUIHBRZmvGRbty2hEn5KWUQfqDY66dY/zEmhHhmEtpMEtjNkz0tCTgnmOMcqzlIqu7WQ91N/4idWxYAs6ZgZV+JqLFaUNa/G+/46RJwO0T8PCibOmkichpt5i10GZelKQj4l71DYs/yIBonTrof+rmxbDIQ+4XAY/buDeSFWO2a93Vp7UhXahNkRUOacwMaW9tUH4NI54b6y4Crh5BRuJczqnxJiBEpE95piCDc+EvuhkBhLiuXPcrr/NgoZ/rp03hqCA2RJSfjXCucYt0IrgchAhouRciHS9ClvdTF2XXX5C4knRq92jPsIexRg7N5AhENEVggP1AvjlOdKegChmWgMNOeTgSdElTumyr8iCvdBHCiYizaZFS029s6+vGLp3Thns/naJ8HEaOJm4wysLml6KM0rrMAOjT9IN0PjZAvc1OlaLc9Khnl+RfnXEn5Sbw0M6ch6ZIFcN76MzSGRuVgJthMdNidkO5lFtfKGemmjia4ZHeRN+PurT1jWbdJuL/WZqAh4KIFJISMKktGsfAEtVFMkVCIsLOYGk0xi4iH/0GWXlviouRimixYxQxIx4vJXIK3K8UBpeiD2LluQwXRVMqsC4lUd6rue35CFWXcmueP+h/EQLGtzQGFDhSZ2E0RUEMYNNWFBAioS2QO0amHwGP5zM8YaAZF2k8ptooYUSN4WSYmlNnrhe9DNLXtW6LdiAvXeeX+5vRwShzc62tOTKMV1zPoOlvFGHUr7yOs6MPwYixYpgZQAtlZ58141/OpMQ9kAT7By2lUxXXlmv9BsZtZSzPs+1cxBRhsHAeRY85fLHPmgIvFXrzPuX/xhJHhSIn2hwJEW1pE2UQrRMFh40xbvagxKhtHJsJQ1SVtSwb4glzuoQ0lXyUwVg1va2N6ZZy7Mc5bc+NY9bGlH4SY8ia0RYpZvA46Iib+tAlTQKu7sZk1N0MBiNshidkWALufA6B+nN2kClrxLrM0W0j4PGsct0k4OWxYbbhqV3oA8+np+noIM5mHZov27uvSDhyF+Oua910vJplonNEjfUFzjTHT1lE4+GMsLaJNjGO2RfEwWIbmWuKNtXeEbkVGEKAkUvkRR9oBoma94j/28rrWBDwZtDFMWlXgjT6sr6lrtIdODywF1lGepoEvI1Uup82g6tZWG3AiaTD6X5RV/Yi7GG5lopS2kY422dsso/6pAWJFs00Js1QKG+/CHjMvNCbnIA2abOt+pv2kqLDiSfahu3w8iysu8Y2h5M+EBSg6/WHpnTplDgPMeYEq2u5iOjqH9Jayv2xLVhSCh3KcTAWS6GPje/mTAbclV3AjH4MiYAlh590EfDAjQ2LAEbcYxQCDl+8hT43+0GMe4EG9sXzySAc65P+MxMpOECHDLJ/cc1krWdpAq7za7QylxiQ0RF1YJ2M6OQakwKSasH4iZpJEwjpGmRxPNZeAGQso3F5YpR0aVht6/SUWgjSRFkjW4i/wWLgRkeP89qURBzrWhv4oxBwCpGhgYGF9xkLjCxSWRCq8Ui/HPDyfgyWPFtYICJhQEXFKUDkXvSyTSiAfgTUDEcbAR9EXikTkZ9hCDiDo03j5SUOBGWmXiJHXdPX+hpHTFt3LVKDGIW26VLGLrDqtx5EPNpwHXZfRMQpxvHKqAR8mOd0jWMkDlGQBysSzeAjRJzHIOVtSl6akS/0iNAiFZyENul6btu5sU+0jg5ri7g3CXhc0289CgHvuo966MOiUiJq+uAgmV4CjvhwLJCnsj9rL+ksIqHRRmVZtAUC2aUHjGUkZthxgKxwRDiFhJNPF5R2onx+FwEPQl6ea/YGwRQ9Jsou4qmdEWY6tys9obxPud0sbwSlEOtS6CN6isMaJL35wh5nC+kdloDH/elAZFDdRHPNbrFrZuqGERiyqQh2LBwBNlQQA+Hk/HYRcHbAbCrn2Gdbu9KFlKVpW5HNmKlsvkumHvq+/mB8ihTHrJq+KIrKaUJAOR1t5Nsz23TKMLiUPGaU84cl4O4piAJr9pcDwfHRD/2vb5E2Au46uBmvEVAsyzgsAcedRM9xEfcsBfcw9rW7Y/1w5AyadRcUbPIIvM/MYpsdLZ83GduzNAEHWORwRgTLPuQSyY3pqwBWpEgOE4VniiO8rTg+rAFtEnCKFEk0neplHVEsqQKUdjNS5n/Ty6ZXdQpTLOEkRDmaSiL2W3sWBanTl4tPWlGuSD/yWx6zbaq9FGWAETykm1iUmVK2UNY6bhMj96B8kBdeO8zahPIyePoJhWUaVrRE/pxyM07Sa+Q6SulQH0qwOTjdVyQJgetaGME2Ai7a0nWN/Ygvw99FwLWXduSAIfOMaChp+2LRjhSUlBL7yiizKBSF168cvkzRRcAZhK7pdvvNGDAMQTwoM/ua/WLQ/9qh61pTm8gN4tR2H9c2hXEsz9XP+qWgxLmlE2YMcECajms8S/uIYEYua+xHFOgGU8uMDgPiHtoipE3Jm3o104PMNcdqXGc9rP4orxmVgGt3fcb4ahMEDkloRqTiXGX0ZZRyytYYM6MFEw4J5xcJRi70nyDgXbpHG8GHA4+IRJvFuql7oiyxRnyQN0Zfeyi78Y4cIXGCFXQEHdUURlVkt2scxViOcdC8XmCmTIegk0QFkRBCVyCT7lPqcjhKs3K+PhyEOyLgiGxJ6Iwh5MASUX33hxc9q09yDEsnw70RmZi1df6g8gYB17c9M0QbwFiUH7YCA2Y7QgQO6DBO5iACLmLZdBQ4atqITnYvUVWpec2ZA3V3/ajSLwVFWyCOCFg5Y9v2jNK2GvfGgrYrZ6DL69gimDfHNj2grwrmdb3jEPdp0ylxrN96GAKufGbM9H/pG+wdQluOB4Rce3NOYr/Z6hB9zAwAEmyWUECzjIi3EXDOudmh+KpO3CvWwxJwuBtb5QvDcQ9rGNB1xkUXjtpGHfU/QVezH9pMP3etd6lkGZhJaL54XD5rMrZneQIu+qHDyW3TARFgnjBlNmgwNgFvDrLm8fi/ScDt19A8NcdMCzNa4/1aRKkk4pmxRogp7DJKNMw2QlkKAt5F7pzXlgMe10fUl9FlcMYrpokMeFHuLmKDTCKS0kaawvlCGEwTIvttC2erzE1zD/diVEX4266JfaUBLZ89EW3A6JtFoRjieW1rCr5Z/rIsXduMAmUcxIMBC2I1TH+Jc0SgpufaZvko+rj3KGttHRLYcWInWrqU/DDPGVZ/lPcalYBLyzBu46sn5b2G2WbIOCHGgIUjg4iZHTAT5UUxjgsDy2EsU1Amot+3lZEjzziWRLM8D/GXlmS8NEUKCh0gtadt/MS+tveE3Mv4gifSjcQFYUdUCP0m2OATgnLc5f7rI5wFkdl+BFzkHElBDhB6pLyZSockc4akrDW/C474sGVSPEIGlTcIuDohVJ7tGsEWBAzGxo8ZO/c2hqT4iTark4DBIAJOHyA7IsJmhKQ2sEl0RRA3JEi7aFe5yGyhdlauLsc56ti27kfA287v2te0rexOl+0p7zGesR3Xj1enDEPABTmMjejnw645HsNKGwEfdO2wBHz5Bin+AAAFSUlEQVTQfcrjXTjqcwII0ha72lJ/FBmPl3rL+07m9ixPwIFHiYnk6oiUgjy6Ucm3+ww7yJBsKScIGqXpywHyEykwg0YnoPhEwinoUaWpJEa9fpjzEXDElmITdW4uDFBXBDwIuPpSAM1ry//7lYWBR55F4HjyTRGhYBSRZZGipiBlCLwoVfnM5nZzeh/xcJ1IzXhEubq+hiNa2rWUX9QIEsn4TYY0CfhkPON/dc/ATuSq2dbl//Elj1HK2aXkh7nHsPqjvNd4Cbi+X9a1uT1R060lAS/LPZHbHABkjQMAw1LoUuNGgEVwpSmOie558ayJQfl/V5RSJBeWZg+RZFHb5nsbymR2k32hE80MiLSZlVE+x9gAzk1EwEXtkX7kV2SZPehKjUDwpSHFlH/UUfDB87zkFjKovEHA6Xf1MEYsdF6pBxFxfV2dlJV+hREyHVgpD/2LTJViNs/spPvSowJg6hAvAse58OdwmxnhDHCglCNe1I3zhllPFgEf5tnOGc/YjnuPV6cMQ8DjGZO5ntEJOAdd+q2AE+cunECYmLWiIwTbOH9dqWSThd9sQcAnCrxhBxkCHtE7kQCKRSObSqeMEFNT86blxiNTRcCjDl3rQQS867py/6D6I94iS1465MUyViLrXspgWE2JmjYt0wTingxn+ayu7WYqCSPgeYi9mYGuxVR+23Pj+dOzDhLpqwBdz4/944kYzQ4EvKu9Yz+FO6qM11h6zrD6oyyT3FazNGVaQhy3H0EqJSLgUceuNeIzETIVBFwal1kwY0HUGBmmA0RpkTf7RfbKl02jbvSucdKFQ+yXJjIVEgQcIeiKxpXlUHf2ovnZwDjHPYa5T5wfBLzrxck4b2ZbC7JI09EHBn2GsF/dxmtbxzO2oxzj1SkzMwFnf/AimQHT016BoXU/HM2mc3LN6hjzot24mVlftt4YoyumWpKAj4A4RSei25a7Wt7GwBAdQKLKCLf/NbKvNJT5d+W1w2zLU0LeRRomS8wQKGO/RR3L+pVlQRj6XRvHymu6tik3eZ8iYSKCpscMNsS5X74gvOM5/dY85FIYKdPwgxZT8V31L+83nm2zCJTToDI43u+Tfl3P1kflz05UJLTrOf+L/capKFq/NnesGVEcpqzGnLzVUUhP3HdY/RHnD1p7d6CZx64/qteguiN2EyGiSeMNJIz6fPmgnE2OtfdjzMJJhWPAy9zo8r4IL+M7CI82B6e8z0Rtj0rA5UwLdLTNAI6nTLMqAS+x8NKlFyC7UpbKc5vb47Wt0zO2zSDIwdc3RhV2erKCQMOWhX02Wzye8nvG9LRXWcZhcKS/fYWNzpJ2wsa2vcdW3ncyt5OATya6ee9EIBFIBBKBROA/CAxDwBEaBMHLYci3tI+JcvRnBwKenS0RmFkQSAI+s7RUljMRSAQSgURgpkbAzJb3gbzc2iWimmb5pNV4mXYiI5xmDOXKd30Fp6tMuT8RSAQmHoEk4BOPad4xEUgEEoFEIBFIBBKBRCAR6EQgCXgnNHkgEUgEEoFEIBFIBBKBRCARmHgEkoBPPKZ5x0QgEUgEEoFEIBFIBBKBRKATgSTgndDkgUQgEUgEEoFEIBFIBBKBRGDiEUgCPvGY5h0TgUQgEUgEEoFEIBFIBBKBTgSSgHdCkwcSgUQgEUgEEoFEIBFIBBKBiUcgCfjEY5p3TAQSgUQgEUgEEoFEIBFIBDoRSALeCU0eSAQSgUQgEUgEEoFEIBFIBCYegSTgE49p3jERSAQSgUQgEUgEEoFEIBHoRCAJeCc0eSARSAQSgUQgEUgEEoFEIBGYeAT+H+r6UDWc7AQTAAAAAElFTkSuQmCC)"
   ]
  },
  {
   "cell_type": "markdown",
   "metadata": {
    "id": "crYpP0lzTH-V"
   },
   "source": [
    "![image.png](data:image/png;base64,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)"
   ]
  },
  {
   "cell_type": "markdown",
   "metadata": {
    "id": "wJHasKezvTzK"
   },
   "source": [
    "## Scaling\n",
    "\n",
    "* 데이터 값의 범위를 일정한 수준으로 변환하는 전처리 기법\n",
    "\n",
    "* 대표적인 방법\n",
    "\n",
    "> - Standardization(표준화) : 평균이 ‘0’, 분산 ‘1’ 인 Gaussian Normal Distribution 으로 변환\n",
    "\n",
    "> - Normalization(정규화) : 서로 다른 스케일의 데이터 크기를 통일\n"
   ]
  },
  {
   "cell_type": "markdown",
   "metadata": {
    "id": "PXzjhAReUL1e"
   },
   "source": [
    "## Standardization(표준화)\n",
    "* 평균이 ‘0’,분산 ‘1’인 Gaussian Normal Distribution으로 변환"
   ]
  },
  {
   "cell_type": "code",
   "execution_count": 16,
   "metadata": {
    "colab": {
     "base_uri": "https://localhost:8080/"
    },
    "id": "2mf5jV1mvuge",
    "outputId": "beabcaf8-c5ae-4a83-a9bf-7301b4ec7810"
   },
   "outputs": [
    {
     "name": "stdout",
     "output_type": "stream",
     "text": [
      "Average\n",
      "sepal length (cm)    5.843333\n",
      "sepal width (cm)     3.057333\n",
      "petal length (cm)    3.758000\n",
      "petal width (cm)     1.199333\n",
      "dtype: float64\n",
      "\n",
      "Variance\n",
      "sepal length (cm)    0.685694\n",
      "sepal width (cm)     0.189979\n",
      "petal length (cm)    3.116278\n",
      "petal width (cm)     0.581006\n",
      "dtype: float64\n",
      "\n",
      "std\n",
      "sepal length (cm)    0.828066\n",
      "sepal width (cm)     0.435866\n",
      "petal length (cm)    1.765298\n",
      "petal width (cm)     0.762238\n",
      "dtype: float64\n"
     ]
    }
   ],
   "source": [
    "# StandardScaler API 사용 전 \n",
    "# Iris 데이터의 평균과 분산 확인\n",
    "from sklearn.datasets import load_iris\n",
    "import pandas as pd\n",
    "\n",
    "iris = load_iris() \n",
    "iris_data = iris.data\n",
    "df_iris = pd.DataFrame(data=iris_data, columns=iris.feature_names)\n",
    "\n",
    "# 분산(Variance) : 값들이 평균으로부터 얼마만큼 떨어져 분포하고 있는가를 나타냄\n",
    "# 분산이 크면 평균에서 값들이 멀리 떨어져 있다는 의미\n",
    "print('Average') \n",
    "print(df_iris.mean())\n",
    "print('\\nVariance') \n",
    "print(df_iris.var())\n",
    "print('\\nstd') \n",
    "print(df_iris.std())"
   ]
  },
  {
   "cell_type": "code",
   "execution_count": 17,
   "metadata": {
    "id": "OH-pqg1oTiG7"
   },
   "outputs": [],
   "source": [
    "# StandardScaler API 사용 후\n",
    "# StandardScaler 객체 생성\n",
    "# StandardScaler 객체의 fit 메서드에 데이터를 전달하여 분석 수행 \n",
    "# StandardScaler 객체의 transform 메서드를 이용해 표준화 수행\n",
    "from sklearn.preprocessing import StandardScaler\n",
    "\n",
    "scaler = StandardScaler()  ## 정규화 객체 생성\n",
    "scaler.fit(df_iris)        ## 범주형 변수가 포함되어 있다면 제거해줘야함!!!\n",
    "\n",
    "scaled_iris = scaler.transform(df_iris)"
   ]
  },
  {
   "cell_type": "code",
   "execution_count": 18,
   "metadata": {
    "colab": {
     "base_uri": "https://localhost:8080/"
    },
    "id": "jDq-cKT-wnHa",
    "outputId": "2bd7985a-2b0c-4e69-de59-e696bb265726"
   },
   "outputs": [
    {
     "name": "stdout",
     "output_type": "stream",
     "text": [
      "Average\n",
      "sepal length (cm)   -1.690315e-15\n",
      "sepal width (cm)    -1.842970e-15\n",
      "petal length (cm)   -1.698641e-15\n",
      "petal width (cm)    -1.409243e-15\n",
      "dtype: float64\n",
      "\n",
      "Variance\n",
      "sepal length (cm)    1.006711\n",
      "sepal width (cm)     1.006711\n",
      "petal length (cm)    1.006711\n",
      "petal width (cm)     1.006711\n",
      "dtype: float64\n"
     ]
    }
   ],
   "source": [
    "# 표준화 수행된 데이터의 평균과 분산 출력\n",
    "df_scaled_iris = pd.DataFrame(data = scaled_iris, columns=iris.feature_names)\n",
    "\n",
    "print('Average') \n",
    "print(df_scaled_iris.mean())\n",
    "print('\\nVariance') \n",
    "print(df_scaled_iris.var())\n",
    "\n",
    "# 평균은 0, 분산은 1에 매우 가깝게 맞춰진 것을 확인"
   ]
  },
  {
   "cell_type": "code",
   "execution_count": 21,
   "metadata": {
    "colab": {
     "base_uri": "https://localhost:8080/"
    },
    "id": "yY2zpEgM9ymH",
    "outputId": "a68eb0e0-bf3e-4c6c-b2ce-525971245de7"
   },
   "outputs": [
    {
     "name": "stdout",
     "output_type": "stream",
     "text": [
      "sepal length (cm)   -0.00000\n",
      "sepal width (cm)    -0.00000\n",
      "petal length (cm)   -0.00000\n",
      "petal width (cm)    -0.00000\n",
      "dtype: float64\n",
      "sepal length (cm)   -1.690315e-15\n",
      "sepal width (cm)    -1.842970e-15\n",
      "petal length (cm)   -1.698641e-15\n",
      "petal width (cm)    -1.409243e-15\n",
      "dtype: float64\n"
     ]
    }
   ],
   "source": [
    "\n",
    "## e 지수 출력 X   : -1.690315e-15 이렇게 나오지 않도록 하기\n",
    "pd.options.display.float_format = '{:.5f}'.format\n",
    "print(df_scaled_iris.mean())\n",
    "\n",
    "\n",
    "# e 지수 출력 O    : -1.690315e-15 이렇게 나오도록 하기 (원복시키기)\n",
    "pd.reset_option('display.float_format')\n",
    "print(df_scaled_iris.mean())"
   ]
  },
  {
   "cell_type": "markdown",
   "metadata": {
    "id": "FXhIjPsGUIE5"
   },
   "source": [
    "## Normalization(정규화)\n",
    "* 서로 다른 스케일의 데이터의 크기를 통일\n",
    "* Normalization을 쉽게 수행 할 수 있는 API\n",
    "* 데이터의 값의 범위를 ‘0’~ ‘1‘ 사이로 변환\n",
    "* 음수 존재 시 ‘-1’ ~ ‘1’ 사이로 변환"
   ]
  },
  {
   "cell_type": "code",
   "execution_count": 28,
   "metadata": {
    "id": "8be2xWnETbaN"
   },
   "outputs": [],
   "source": [
    "# MinMaxScaler 객체 생성\n",
    "# MinMaxScaler 객체의 fit 메서드에 데이터를 전달하여 분석 수행 \n",
    "# MinMaxScaler 객체의 transform 메서드를 이용해 정규화 수행\n",
    "\n",
    "from sklearn.preprocessing import MinMaxScaler\n",
    "\n",
    "scaler = MinMaxScaler(feature_range = (-1,1))       ## feature_range : min, max 설정 default = (0,1)\n",
    "scaler.fit(df_iris)\n",
    "\n",
    "scaled_iris = scaler.transform(df_iris)"
   ]
  },
  {
   "cell_type": "code",
   "execution_count": 29,
   "metadata": {
    "colab": {
     "base_uri": "https://localhost:8080/"
    },
    "id": "lF39p2XLUyPb",
    "outputId": "ebad4a58-9517-4e92-9c24-0b8495883c6e"
   },
   "outputs": [
    {
     "name": "stdout",
     "output_type": "stream",
     "text": [
      "Min value\n",
      "sepal length (cm)   -1.0\n",
      "sepal width (cm)    -1.0\n",
      "petal length (cm)   -1.0\n",
      "petal width (cm)    -1.0\n",
      "dtype: float64\n",
      "\n",
      "Max value\n",
      "sepal length (cm)    1.0\n",
      "sepal width (cm)     1.0\n",
      "petal length (cm)    1.0\n",
      "petal width (cm)     1.0\n",
      "dtype: float64\n"
     ]
    }
   ],
   "source": [
    "# 표준화 수행된 데이터의 평균과 분산 출력\n",
    "\n",
    "df_scaled_iris = pd.DataFrame(data = scaled_iris, columns=iris.feature_names)\n",
    "\n",
    "print('Min value') \n",
    "print(df_scaled_iris.min())\n",
    "print('\\nMax value') \n",
    "print(df_scaled_iris.max())"
   ]
  },
  {
   "cell_type": "code",
   "execution_count": 4,
   "metadata": {
    "colab": {
     "base_uri": "https://localhost:8080/",
     "height": 466
    },
    "id": "lHtk3mks-8JN",
    "outputId": "444b2ad1-816a-4932-81ee-d35d050d1ec8"
   },
   "outputs": [
    {
     "name": "stdout",
     "output_type": "stream",
     "text": [
      "<class 'pandas.core.frame.DataFrame'>\n",
      "RangeIndex: 1460 entries, 0 to 1459\n",
      "Data columns (total 27 columns):\n",
      " #   Column            Non-Null Count  Dtype \n",
      "---  ------            --------------  ----- \n",
      " 0   Heating           1460 non-null   object\n",
      " 1   HeatingQC         1460 non-null   object\n",
      " 2   CentralAir        1460 non-null   object\n",
      " 3   Electrical        1459 non-null   object\n",
      " 4   KitchenQual       1460 non-null   object\n",
      " 5   Heating_Floor     1460 non-null   uint8 \n",
      " 6   Heating_GasA      1460 non-null   uint8 \n",
      " 7   Heating_GasW      1460 non-null   uint8 \n",
      " 8   Heating_Grav      1460 non-null   uint8 \n",
      " 9   Heating_OthW      1460 non-null   uint8 \n",
      " 10  Heating_Wall      1460 non-null   uint8 \n",
      " 11  HeatingQC_Ex      1460 non-null   uint8 \n",
      " 12  HeatingQC_Fa      1460 non-null   uint8 \n",
      " 13  HeatingQC_Gd      1460 non-null   uint8 \n",
      " 14  HeatingQC_Po      1460 non-null   uint8 \n",
      " 15  HeatingQC_TA      1460 non-null   uint8 \n",
      " 16  CentralAir_N      1460 non-null   uint8 \n",
      " 17  CentralAir_Y      1460 non-null   uint8 \n",
      " 18  Electrical_FuseA  1460 non-null   uint8 \n",
      " 19  Electrical_FuseF  1460 non-null   uint8 \n",
      " 20  Electrical_FuseP  1460 non-null   uint8 \n",
      " 21  Electrical_Mix    1460 non-null   uint8 \n",
      " 22  Electrical_SBrkr  1460 non-null   uint8 \n",
      " 23  KitchenQual_Ex    1460 non-null   uint8 \n",
      " 24  KitchenQual_Fa    1460 non-null   uint8 \n",
      " 25  KitchenQual_Gd    1460 non-null   uint8 \n",
      " 26  KitchenQual_TA    1460 non-null   uint8 \n",
      "dtypes: object(5), uint8(22)\n",
      "memory usage: 88.5+ KB\n",
      "     Heating HeatingQC CentralAir Electrical KitchenQual  Heating_Floor  \\\n",
      "0       GasA        Ex          Y      SBrkr          Gd              0   \n",
      "1       GasA        Ex          Y      SBrkr          TA              0   \n",
      "2       GasA        Ex          Y      SBrkr          Gd              0   \n",
      "3       GasA        Gd          Y      SBrkr          Gd              0   \n",
      "4       GasA        Ex          Y      SBrkr          Gd              0   \n",
      "...      ...       ...        ...        ...         ...            ...   \n",
      "1455    GasA        Ex          Y      SBrkr          TA              0   \n",
      "1456    GasA        TA          Y      SBrkr          TA              0   \n",
      "1457    GasA        Ex          Y      SBrkr          Gd              0   \n",
      "1458    GasA        Gd          Y      FuseA          Gd              0   \n",
      "1459    GasA        Gd          Y      SBrkr          TA              0   \n",
      "\n",
      "      Heating_GasA  Heating_GasW  Heating_Grav  Heating_OthW  ...  \\\n",
      "0                1             0             0             0  ...   \n",
      "1                1             0             0             0  ...   \n",
      "2                1             0             0             0  ...   \n",
      "3                1             0             0             0  ...   \n",
      "4                1             0             0             0  ...   \n",
      "...            ...           ...           ...           ...  ...   \n",
      "1455             1             0             0             0  ...   \n",
      "1456             1             0             0             0  ...   \n",
      "1457             1             0             0             0  ...   \n",
      "1458             1             0             0             0  ...   \n",
      "1459             1             0             0             0  ...   \n",
      "\n",
      "      CentralAir_Y  Electrical_FuseA  Electrical_FuseF  Electrical_FuseP  \\\n",
      "0                1                 0                 0                 0   \n",
      "1                1                 0                 0                 0   \n",
      "2                1                 0                 0                 0   \n",
      "3                1                 0                 0                 0   \n",
      "4                1                 0                 0                 0   \n",
      "...            ...               ...               ...               ...   \n",
      "1455             1                 0                 0                 0   \n",
      "1456             1                 0                 0                 0   \n",
      "1457             1                 0                 0                 0   \n",
      "1458             1                 1                 0                 0   \n",
      "1459             1                 0                 0                 0   \n",
      "\n",
      "      Electrical_Mix  Electrical_SBrkr  KitchenQual_Ex  KitchenQual_Fa  \\\n",
      "0                  0                 1               0               0   \n",
      "1                  0                 1               0               0   \n",
      "2                  0                 1               0               0   \n",
      "3                  0                 1               0               0   \n",
      "4                  0                 1               0               0   \n",
      "...              ...               ...             ...             ...   \n",
      "1455               0                 1               0               0   \n",
      "1456               0                 1               0               0   \n",
      "1457               0                 1               0               0   \n",
      "1458               0                 0               0               0   \n",
      "1459               0                 1               0               0   \n",
      "\n",
      "      KitchenQual_Gd  KitchenQual_TA  \n",
      "0                  1               0  \n",
      "1                  0               1  \n",
      "2                  1               0  \n",
      "3                  1               0  \n",
      "4                  1               0  \n",
      "...              ...             ...  \n",
      "1455               0               1  \n",
      "1456               0               1  \n",
      "1457               1               0  \n",
      "1458               1               0  \n",
      "1459               0               1  \n",
      "\n",
      "[1460 rows x 27 columns]\n",
      "None\n",
      "      YearBuilt  YearRemodAdd  1stFlrSF  2ndFlrSF  LowQualFinSF  GrLivArea  \\\n",
      "0      1.050994      0.878668 -0.793434  1.161852     -0.120242   0.370333   \n",
      "1      0.156734     -0.429577  0.257140 -0.795163     -0.120242  -0.482512   \n",
      "2      0.984752      0.830215 -0.627826  1.189351     -0.120242   0.515013   \n",
      "3     -1.863632     -0.720298 -0.521734  0.937276     -0.120242   0.383659   \n",
      "4      0.951632      0.733308 -0.045611  1.617877     -0.120242   1.299326   \n",
      "...         ...           ...       ...       ...           ...        ...   \n",
      "1455   0.918511      0.733308 -0.542435  0.795198     -0.120242   0.250402   \n",
      "1456   0.222975      0.151865  2.355701 -0.795163     -0.120242   1.061367   \n",
      "1457  -1.002492      1.024029  0.065656  1.844744     -0.120242   1.569647   \n",
      "1458  -0.704406      0.539493 -0.218982 -0.795163     -0.120242  -0.832788   \n",
      "1459  -0.207594     -0.962566  0.241615 -0.795163     -0.120242  -0.493934   \n",
      "\n",
      "      BsmtFullBath  BsmtHalfBath  FullBath  HalfBath  BedroomAbvGr  \\\n",
      "0         1.107810     -0.241061  0.789741  1.227585      0.163779   \n",
      "1        -0.819964      3.948809  0.789741 -0.761621      0.163779   \n",
      "2         1.107810     -0.241061  0.789741  1.227585      0.163779   \n",
      "3         1.107810     -0.241061 -1.026041 -0.761621      0.163779   \n",
      "4         1.107810     -0.241061  0.789741  1.227585      1.390023   \n",
      "...            ...           ...       ...       ...           ...   \n",
      "1455     -0.819964     -0.241061  0.789741  1.227585      0.163779   \n",
      "1456      1.107810     -0.241061  0.789741 -0.761621      0.163779   \n",
      "1457     -0.819964     -0.241061  0.789741 -0.761621      1.390023   \n",
      "1458      1.107810     -0.241061 -1.026041 -0.761621     -1.062465   \n",
      "1459      1.107810     -0.241061 -1.026041  1.227585      0.163779   \n",
      "\n",
      "      KitchenAbvGr  SalePrice  \n",
      "0        -0.211454   0.347273  \n",
      "1        -0.211454   0.007288  \n",
      "2        -0.211454   0.536154  \n",
      "3        -0.211454  -0.515281  \n",
      "4        -0.211454   0.869843  \n",
      "...            ...        ...  \n",
      "1455     -0.211454  -0.074560  \n",
      "1456     -0.211454   0.366161  \n",
      "1457     -0.211454   1.077611  \n",
      "1458     -0.211454  -0.488523  \n",
      "1459     -0.211454  -0.420841  \n",
      "\n",
      "[1460 rows x 13 columns]\n",
      "      YearBuilt  YearRemodAdd  1stFlrSF  2ndFlrSF  LowQualFinSF  GrLivArea  \\\n",
      "0      1.050994      0.878668 -0.793434  1.161852     -0.120242   0.370333   \n",
      "1      0.156734     -0.429577  0.257140 -0.795163     -0.120242  -0.482512   \n",
      "2      0.984752      0.830215 -0.627826  1.189351     -0.120242   0.515013   \n",
      "3     -1.863632     -0.720298 -0.521734  0.937276     -0.120242   0.383659   \n",
      "4      0.951632      0.733308 -0.045611  1.617877     -0.120242   1.299326   \n",
      "...         ...           ...       ...       ...           ...        ...   \n",
      "1455   0.918511      0.733308 -0.542435  0.795198     -0.120242   0.250402   \n",
      "1456   0.222975      0.151865  2.355701 -0.795163     -0.120242   1.061367   \n",
      "1457  -1.002492      1.024029  0.065656  1.844744     -0.120242   1.569647   \n",
      "1458  -0.704406      0.539493 -0.218982 -0.795163     -0.120242  -0.832788   \n",
      "1459  -0.207594     -0.962566  0.241615 -0.795163     -0.120242  -0.493934   \n",
      "\n",
      "      BsmtFullBath  BsmtHalfBath  FullBath  HalfBath  ...  CentralAir_Y  \\\n",
      "0         1.107810     -0.241061  0.789741  1.227585  ...             1   \n",
      "1        -0.819964      3.948809  0.789741 -0.761621  ...             1   \n",
      "2         1.107810     -0.241061  0.789741  1.227585  ...             1   \n",
      "3         1.107810     -0.241061 -1.026041 -0.761621  ...             1   \n",
      "4         1.107810     -0.241061  0.789741  1.227585  ...             1   \n",
      "...            ...           ...       ...       ...  ...           ...   \n",
      "1455     -0.819964     -0.241061  0.789741  1.227585  ...             1   \n",
      "1456      1.107810     -0.241061  0.789741 -0.761621  ...             1   \n",
      "1457     -0.819964     -0.241061  0.789741 -0.761621  ...             1   \n",
      "1458      1.107810     -0.241061 -1.026041 -0.761621  ...             1   \n",
      "1459      1.107810     -0.241061 -1.026041  1.227585  ...             1   \n",
      "\n",
      "      Electrical_FuseA  Electrical_FuseF Electrical_FuseP Electrical_Mix  \\\n",
      "0                    0                 0                0              0   \n",
      "1                    0                 0                0              0   \n",
      "2                    0                 0                0              0   \n",
      "3                    0                 0                0              0   \n",
      "4                    0                 0                0              0   \n",
      "...                ...               ...              ...            ...   \n",
      "1455                 0                 0                0              0   \n",
      "1456                 0                 0                0              0   \n",
      "1457                 0                 0                0              0   \n",
      "1458                 1                 0                0              0   \n",
      "1459                 0                 0                0              0   \n",
      "\n",
      "     Electrical_SBrkr KitchenQual_Ex KitchenQual_Fa  KitchenQual_Gd  \\\n",
      "0                   1              0              0               1   \n",
      "1                   1              0              0               0   \n",
      "2                   1              0              0               1   \n",
      "3                   1              0              0               1   \n",
      "4                   1              0              0               1   \n",
      "...               ...            ...            ...             ...   \n",
      "1455                1              0              0               0   \n",
      "1456                1              0              0               0   \n",
      "1457                1              0              0               1   \n",
      "1458                0              0              0               1   \n",
      "1459                1              0              0               0   \n",
      "\n",
      "      KitchenQual_TA  \n",
      "0                  0  \n",
      "1                  1  \n",
      "2                  0  \n",
      "3                  0  \n",
      "4                  0  \n",
      "...              ...  \n",
      "1455               1  \n",
      "1456               1  \n",
      "1457               0  \n",
      "1458               0  \n",
      "1459               1  \n",
      "\n",
      "[1460 rows x 40 columns]\n"
     ]
    }
   ],
   "source": [
    "\n",
    "\n",
    "\n",
    "### 범주화와 정규화/표준화 연습해보기\n",
    "\n",
    "\n",
    "\n",
    "## 범주화 \n",
    "# 위 변수들 중 범주형 변수이면서, 숫자로 표기된 것은 없으므로 (있다면, 회귀분석시 혼선을 주기 때문에 개선 필요)\n",
    "# 따라서, one hot encoding만 실시함\n",
    "import pandas as pd\n",
    "from sklearn.preprocessing import StandardScaler\n",
    "from sklearn.preprocessing import MinMaxScaler\n",
    "\n",
    "raw_data =  pd.read_csv(r'D:\\대학원_데이터사이언스\\스터디\\주말 머신러닝 스터디\\프로젝트\\house_price\\train.csv')\n",
    "rev_data = raw_data.copy()\n",
    "split_list = ['YearBuilt', 'YearRemodAdd', 'Heating', 'HeatingQC', 'CentralAir', 'Electrical', \n",
    "                      '1stFlrSF', '2ndFlrSF' , 'LowQualFinSF', 'GrLivArea', 'BsmtFullBath', 'BsmtHalfBath',\n",
    "                      'FullBath', 'HalfBath', 'BedroomAbvGr','KitchenAbvGr', 'KitchenQual' , 'SalePrice']\n",
    "split_data = rev_data[split_list]   \n",
    "\n",
    "\n",
    "split_trf_data = split_data.copy()\n",
    "scale_list = []\n",
    "category_list = []\n",
    "\n",
    "\n",
    "\n",
    "## 분류 \n",
    "for i in range(len(split_data.columns)):\n",
    "    if split_data[split_data.columns[i]].dtype == 'object':\n",
    "        category_list.append(split_data.columns[i])\n",
    "\n",
    "    else :\n",
    "        scale_list.append(split_data.columns[i])\n",
    "        \n",
    "        \n",
    "# one hot encoding\n",
    "\n",
    "category_df = split_data[category_list]\n",
    "\n",
    "for i in range(len(category_list)):\n",
    "   \n",
    "    category_df = pd.concat([category_df, pd.get_dummies(split_data[category_list[i]], prefix=category_list[i], prefix_sep='_')], axis= 1)\n",
    "        \n",
    "                   \n",
    "    \n",
    "print(category_df , category_df.info(), sep = '\\n', end = '\\n' )\n",
    "\n",
    "\n",
    "\n",
    "## 정규화 (표준화는 미실시)\n",
    "scaled_df = split_data[scale_list]\n",
    "\n",
    "scaler = StandardScaler()  ## 정규화 객체 생성\n",
    "scaler.fit(scaled_df)        ## 범주형 변수가 포함되어 있다면 제거해줘야함!!!\n",
    "scaled_result_list = scaler.transform(scaled_df)\n",
    "\n",
    "\n",
    "scaled_data = pd.DataFrame(data = scaled_result_list , columns = scale_list)\n",
    "print(scaled_data)\n",
    "\n",
    "\n",
    "\n",
    "\n",
    "split_trf_data = pd.concat([scaled_data, category_df ], axis = 1)\n",
    "print(split_trf_data)\n",
    "split_trf_data.to_excel('확인.xlsx')\n"
   ]
  },
  {
   "cell_type": "code",
   "execution_count": null,
   "metadata": {
    "id": "WFla-WMT64ls"
   },
   "outputs": [],
   "source": []
  }
 ],
 "metadata": {
  "colab": {
   "collapsed_sections": [],
   "name": "[실습] week5_dataPreprocessing.ipynb의 사본",
   "provenance": []
  },
  "kernelspec": {
   "display_name": "Python 3",
   "language": "python",
   "name": "python3"
  },
  "language_info": {
   "codemirror_mode": {
    "name": "ipython",
    "version": 3
   },
   "file_extension": ".py",
   "mimetype": "text/x-python",
   "name": "python",
   "nbconvert_exporter": "python",
   "pygments_lexer": "ipython3",
   "version": "3.7.6"
  }
 },
 "nbformat": 4,
 "nbformat_minor": 1
}
