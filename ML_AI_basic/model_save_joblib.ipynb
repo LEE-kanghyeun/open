{
  "nbformat": 4,
  "nbformat_minor": 0,
  "metadata": {
    "colab": {
      "name": "model_save_joblib.ipynb",
      "provenance": [],
      "collapsed_sections": []
    },
    "kernelspec": {
      "name": "python3",
      "display_name": "Python 3"
    },
    "language_info": {
      "name": "python"
    }
  },
  "cells": [
    {
      "cell_type": "code",
      "execution_count": null,
      "metadata": {
        "id": "dqCmGT-z-60B"
      },
      "outputs": [],
      "source": [
        "# tensorflow \n",
        "# DS30 - PS_LS_LR.ipynb\n",
        "\n",
        "from joblib import dump, load   ## 모델 저장하기, 불러오기 \n",
        "\n",
        "dump(best_model_LS, \"best_model_LS.joblib\")  ## 모델 저장\n",
        "\n",
        "loaded_model_LS = load(\"best_model_LS.joblib\")  ## 모델 다시 불러오기\n",
        "loaded_model_LS.score(X_test, y_test)\n",
        "\n"
      ]
    },
    {
      "cell_type": "code",
      "source": [
        "# scikit learn (머신러닝)\n",
        "\n",
        "https://terryvery.tistory.com/63\n",
        "\n",
        "from sklearn import datasets\n",
        "from sklearn.neighbors import KNeighborsClassifier\n",
        "import joblib\n",
        "\n",
        "# 붓꽃 품종 데이터 세트 불러오기\n",
        "dataset = datasets.load_iris()\n",
        "\n",
        "# 입력 데이터와 타깃을 준비합니다.\n",
        "X, y = dataset['data'], dataset['target']\n",
        "\n",
        "# K 최근접이웃 모델 객체를 만듭니다.\n",
        "model = KNeighborsClassifier(n_neighbors=5)\n",
        "\n",
        "# K 최근접 이웃 모델에 입력 데이터와 타깃을 입력하고 학습시킨다.\n",
        "model.fit(X,y)\n",
        "\n",
        "# 학습시킨 모델을 현재 경로에 knn_model.pkl 파일로 저장합니다.\n",
        "joblib.dump(model, './knn_model.pkl')  # joblib.dump(model, './knn_model.joblib') 도 가능\n",
        "\n",
        "# 모델 다시 불러오기\n",
        "loaded_model = joblib.load('./knn_model.pkl')  # loaded_model = joblib.load('./knn_model.joblib')도 가능\n",
        "\n",
        "# 테스트\n",
        "score = loaded_model.score(X,y)\n",
        "print('정확도: {score:.3f}'.format(score=score))"
      ],
      "metadata": {
        "colab": {
          "base_uri": "https://localhost:8080/"
        },
        "id": "fyAKDTIlCNwU",
        "outputId": "baa6241d-7331-4cc5-fe50-9de2bb1f1639"
      },
      "execution_count": 3,
      "outputs": [
        {
          "output_type": "stream",
          "name": "stdout",
          "text": [
            "정확도: 0.967\n"
          ]
        }
      ]
    },
    {
      "cell_type": "code",
      "source": [
        "# pytorch \n",
        "# https://tutorials.pytorch.kr/beginner/saving_loading_models.html\n",
        "# https://justkode.kr/deep-learning/pytorch-save\n",
        "\n",
        "# torch.save: 직렬화된 객체를 디스크에 저장합니다. 이 함수는 Python의 pickle 을 사용하여 직렬화합니다 이 함수를 사용하여 모든 종류의 객체의 모델, Tensor 및 사전을 저장할 수 있습니다.\n",
        "# torch.load: pickle을 사용하여 저장된 객체 파일들을 역직렬화하여 메모리에 올립니다. 이 함수는 데이터를 장치에 불러올 때도 사용합니다. (장치간 모델 저장하기 & 불러오기 참고)\n",
        "# torch.nn.Module.load_state_dict: 역직렬화된 state_dict 를 사용하여 모델의 매개변수들을 불러옵니다\n",
        "\n",
        "\n",
        "\n",
        "# 모델 저장하기:\n",
        "torch.save(model.state_dict(), './torch_model.pth')  ## 모델 확장자는 pt 또는 pth를 사용함\n",
        "\n",
        "\n",
        "# 모델 불러오기  1):   튜토리얼 권장사항\n",
        "model = TheModelClass(*args, **kwargs)\n",
        "model.load_state_dict(torch.load('./torch_model.pth'))   # state_dict(모델 매개변수 저장한 dict)를 불러 온 후, 모델에 저장\n",
        "#  state_dict 는 간단히 말해 각 계층을 매개변수 텐서로 매핑되는 Python 사전(dict) 객체입니다. \n",
        "#  이 때, 학습 가능한 매개변수를 갖는 계층(합성곱 계층, 선형 계층 등) 및 등록된 버퍼들(batchnorm의 running_mean)만이 모델의 state_dict 에 항목을 가짐\n",
        "model.eval()\n",
        "\n",
        "\n",
        "# 모델 불러오기  2):\n",
        "model = torch.load('./torch_model.pth')   # 전체 모델을 통째로 불러옴, 클래스 선언 필수\n",
        "model.eval()"
      ],
      "metadata": {
        "id": "A3CZrNq8CNt1"
      },
      "execution_count": null,
      "outputs": []
    },
    {
      "cell_type": "code",
      "source": [
        ""
      ],
      "metadata": {
        "id": "BIXe3GdaCNq9"
      },
      "execution_count": null,
      "outputs": []
    },
    {
      "cell_type": "code",
      "source": [
        ""
      ],
      "metadata": {
        "id": "aoIukHFKCNic"
      },
      "execution_count": null,
      "outputs": []
    },
    {
      "cell_type": "code",
      "source": [
        ""
      ],
      "metadata": {
        "id": "G6DPWpCUCNbV"
      },
      "execution_count": null,
      "outputs": []
    }
  ]
}